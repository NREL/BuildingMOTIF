{
 "cells": [
  {
   "cell_type": "markdown",
   "id": "9c02af62-5853-432a-a99d-ddab6d32f09e",
   "metadata": {
    "slideshow": {
     "slide_type": "slide"
    },
    "tags": []
   },
   "source": [
    "# Setup and Imports\n",
    "\n",
    "Import useful libraries for defining our model, set up the model"
   ]
  },
  {
   "cell_type": "code",
   "execution_count": 1,
   "id": "c8c46c4d-0dad-4e34-8342-6b27ae5c864b",
   "metadata": {
    "slideshow": {
     "slide_type": "fragment"
    },
    "tags": []
   },
   "outputs": [],
   "source": [
    "from rdflib import Namespace, Graph\n",
    "from buildingmotif import BuildingMOTIF\n",
    "from buildingmotif.namespaces import BRICK\n",
    "from buildingmotif.dataclasses import Model, Library"
   ]
  },
  {
   "cell_type": "code",
   "execution_count": 2,
   "id": "81f0cddb-f98d-412a-85b8-a3b99b3a8c63",
   "metadata": {
    "slideshow": {
     "slide_type": "fragment"
    },
    "tags": []
   },
   "outputs": [],
   "source": [
    "bm = BuildingMOTIF(\"sqlite://\") # in-memory"
   ]
  },
  {
   "cell_type": "code",
   "execution_count": 3,
   "id": "14a90531-662c-4c39-9a7b-0818ec49d1dd",
   "metadata": {
    "slideshow": {
     "slide_type": "fragment"
    },
    "tags": []
   },
   "outputs": [],
   "source": [
    "BLDG = Namespace(\"urn:my_site/\")\n",
    "model = Model.create(BLDG)"
   ]
  },
  {
   "cell_type": "code",
   "execution_count": 4,
   "id": "18792c9d-5c3c-497b-8979-f7ffdf671250",
   "metadata": {
    "slideshow": {
     "slide_type": "fragment"
    },
    "tags": []
   },
   "outputs": [],
   "source": [
    "constraints = Library.load(ontology_graph=\"../buildingmotif/resources/constraints.ttl\")\n",
    "brick = Library.load(ontology_graph=\"../libraries/brick/Brick-subset.ttl\")\n",
    "g36 = Library.load(directory=\"../libraries/ashrae/guideline36\")"
   ]
  },
  {
   "cell_type": "markdown",
   "id": "84d9ed54-0d89-4785-b2b2-bf6906c0cc05",
   "metadata": {
    "slideshow": {
     "slide_type": "slide"
    }
   },
   "source": [
    "- simulate looking at a mechanical schedule:\n",
    "    - see number and type of equipment\n",
    "    - **our example**: 1 AHU, 2 RVAVs\n",
    "- now look at libraries to see if there are some useful \"shapes\"\n",
    "    - based on forecasted app requirements\n",
    "    - use these to inform model creation"
   ]
  },
  {
   "cell_type": "code",
   "execution_count": 5,
   "id": "4c6856c2-a2f8-4049-8980-a0ce88e3c651",
   "metadata": {
    "slideshow": {
     "slide_type": "fragment"
    }
   },
   "outputs": [],
   "source": [
    "sc = g36.get_shape_collection()"
   ]
  },
  {
   "cell_type": "code",
   "execution_count": 6,
   "id": "3d2c1fdc-d282-4192-b27e-c3cb8c7d4049",
   "metadata": {
    "slideshow": {
     "slide_type": "fragment"
    }
   },
   "outputs": [
    {
     "data": {
      "text/plain": [
       "[]"
      ]
     },
     "execution_count": 6,
     "metadata": {},
     "output_type": "execute_result"
    }
   ],
   "source": [
    "sc.get_shapes_about_class(BRICK.AHU)"
   ]
  },
  {
   "cell_type": "code",
   "execution_count": 7,
   "id": "87b3d4c7-0aad-4a37-b8a3-291256279197",
   "metadata": {
    "slideshow": {
     "slide_type": "fragment"
    }
   },
   "outputs": [
    {
     "data": {
      "text/plain": [
       "[rdflib.term.URIRef('urn:ashrae/g36/4.2/vav-with-reheat/vav-with-reheat')]"
      ]
     },
     "execution_count": 7,
     "metadata": {},
     "output_type": "execute_result"
    }
   ],
   "source": [
    "sc.get_shapes_about_class(BRICK.RVAV)"
   ]
  },
  {
   "cell_type": "markdown",
   "id": "f857bcb3-093f-4ff8-910f-c14570754eee",
   "metadata": {
    "slideshow": {
     "slide_type": "slide"
    }
   },
   "source": [
    "# Write site manifest\n",
    "\n",
    "- write a \"manifest\" to encode our requirements:\n",
    "    - 1 AHU\n",
    "    - 2 RVAVs; should run G36 sequence of operations\n",
    "- this is the *low level* view -- will be abstracted by us and other developers"
   ]
  },
  {
   "cell_type": "code",
   "execution_count": 8,
   "id": "438b50a3-14e1-49f3-b885-4b69458fa82e",
   "metadata": {
    "slideshow": {
     "slide_type": "slide"
    }
   },
   "outputs": [],
   "source": [
    "%%bash\n",
    "cat <<EOF > my_site.ttl\n",
    "@prefix brick: <https://brickschema.org/schema/Brick#> .\n",
    "@prefix owl: <http://www.w3.org/2002/07/owl#> .\n",
    "@prefix sh: <http://www.w3.org/ns/shacl#> .\n",
    "@prefix constraint: <https://nrel.gov/BuildingMOTIF/constraints#> .\n",
    "@prefix : <urn:my_site_constraints/> .\n",
    "\n",
    ": a owl:Ontology ;\n",
    "    owl:imports <https://brickschema.org/schema/1.3/Brick> ;\n",
    "    owl:imports <https://nrel.gov/BuildingMOTIF/constraints> ;\n",
    "    owl:imports <urn:ashrae/g36> .\n",
    "\n",
    "# read off of mechanical schedule\n",
    ":vav-count a sh:NodeShape ;\n",
    "    sh:message \"Need 2 VAVs\" ;\n",
    "    sh:targetNode : ; # target *this* graph\n",
    "    constraint:exactCount 2 ;\n",
    "    constraint:class <urn:ashrae/g36/4.2/vav-with-reheat/vav-with-reheat> .\n",
    "\n",
    ":ahu-count a sh:NodeShape ;\n",
    "    sh:message \"Need 1 AHU\" ;\n",
    "    sh:targetNode : ; # target *this* graph\n",
    "    constraint:exactCount 1 ;\n",
    "    constraint:class brick:AHU .\n",
    "EOF"
   ]
  },
  {
   "cell_type": "markdown",
   "id": "e2ca5d73",
   "metadata": {
    "slideshow": {
     "slide_type": "slide"
    }
   },
   "source": [
    "Now we load our manifest into BuildingMOTIF"
   ]
  },
  {
   "cell_type": "code",
   "execution_count": 9,
   "id": "f3c12002-8b29-492a-bf41-d4b9b443b621",
   "metadata": {
    "slideshow": {
     "slide_type": "fragment"
    }
   },
   "outputs": [],
   "source": [
    "manifest = Library.load(ontology_graph=\"my_site.ttl\")"
   ]
  },
  {
   "cell_type": "markdown",
   "id": "04e9cff0-1e3e-4ddd-aa6c-d3ef81ca737a",
   "metadata": {
    "slideshow": {
     "slide_type": "slide"
    }
   },
   "source": [
    "# Iterative model creation\n",
    "\n",
    "- validate model to determine if it is *semantically sufficient*\n",
    "- if this fails, BuildingMOTIF will use resulting report to help you patch the model"
   ]
  },
  {
   "cell_type": "code",
   "execution_count": 10,
   "id": "408ab010-213f-490b-bf4a-f8f0fdce744c",
   "metadata": {
    "slideshow": {
     "slide_type": "fragment"
    },
    "tags": []
   },
   "outputs": [
    {
     "name": "stdout",
     "output_type": "stream",
     "text": [
      "Model is valid? False\n",
      "Reasons why:\n",
      " -Graph did not have 1 instances of https://brickschema.org/schema/Brick#AHU\n",
      " -Graph did not have 2 instances of urn:ashrae/g36/4.2/vav-with-reheat/vav-with-reheat\n"
     ]
    }
   ],
   "source": [
    "# pass our collections of shapes in to validate the model\n",
    "ctx = model.validate([manifest.get_shape_collection(), constraints.get_shape_collection(), \n",
    "                      g36.get_shape_collection(), brick.get_shape_collection()])\n",
    "print(f\"Model is valid? {ctx.valid}\")\n",
    "# higher-level descriptions of each of the violations\n",
    "print(\"Reasons why:\")\n",
    "for diff in ctx.diffset:\n",
    "    print(\" -\" + diff.reason())"
   ]
  },
  {
   "cell_type": "markdown",
   "id": "3e86d1e7",
   "metadata": {
    "slideshow": {
     "slide_type": "slide"
    }
   },
   "source": [
    "- some constraints can be interpreted by BuildingMOTIF\n",
    "- BuildingMOTIF identifies common patterns\n",
    "    - presents these as new templates to the user\n",
    "    - templates provide structure to input from user/other software"
   ]
  },
  {
   "cell_type": "code",
   "execution_count": 11,
   "id": "ba0e0d86-ee09-4706-bce8-4b78e3154421",
   "metadata": {
    "tags": [
        "skip-execution"
    ],
    "slideshow": {
     "slide_type": "slide"
    }
   },
   "outputs": [
    {
     "name": "stdout",
     "output_type": "stream",
     "text": [
      "--------------------------------------------------------------------------------\n",
      "@prefix P: <urn:___param___#> .\n",
      "@prefix brick: <https://brickschema.org/schema/Brick#> .\n",
      "\n",
      "P:name a brick:AHU .\n",
      "\n",
      "\n",
      "Give value for 'name' in the above template: ahu1\n",
      "--------------------------------------------------------------------------------\n",
      "@prefix P: <urn:___param___#> .\n",
      "\n",
      "P:name a <urn:ashrae/g36/4.2/vav-with-reheat/vav-with-reheat> .\n",
      "\n",
      "\n",
      "Give value for 'name' in the above template: vav1\n",
      "--------------------------------------------------------------------------------\n",
      "@prefix P: <urn:___param___#> .\n",
      "\n",
      "P:name a <urn:ashrae/g36/4.2/vav-with-reheat/vav-with-reheat> .\n",
      "\n",
      "\n",
      "Give value for 'name' in the above template: vav2\n"
     ]
    }
   ],
   "source": [
    "generated_templates = ctx.as_templates()\n",
    "for t in generated_templates:\n",
    "    print('-'*80)\n",
    "    print(t.body.serialize())\n",
    "    ident = input(\"Give value for 'name' in the above template: \")\n",
    "    model.add_graph(t.evaluate({\"name\": BLDG[ident]}))"
   ]
  },
  {
   "cell_type": "code",
   "execution_count": 12,
   "id": "44d28250-b7d1-4ef4-a847-2307aa4bbd2a",
   "metadata": {
    "slideshow": {
     "slide_type": "slide"
    }
   },
   "outputs": [
    {
     "name": "stdout",
     "output_type": "stream",
     "text": [
      "@prefix : <urn:ashrae/g36/4.2/vav-with-reheat/> .\n",
      "@prefix brick: <https://brickschema.org/schema/Brick#> .\n",
      "@prefix owl: <http://www.w3.org/2002/07/owl#> .\n",
      "\n",
      "<urn:my_site/> a owl:Ontology .\n",
      "\n",
      "<urn:my_site/ahu1> a brick:AHU .\n",
      "\n",
      "<urn:my_site/vav1> a :vav-with-reheat .\n",
      "\n",
      "<urn:my_site/vav2> a :vav-with-reheat .\n",
      "\n",
      "\n"
     ]
    }
   ],
   "source": [
    "# now we can look at our model ( so far )\n",
    "print(model.graph.serialize())"
   ]
  },
  {
   "cell_type": "code",
   "execution_count": 13,
   "id": "0e2eb3b2-b37a-465a-b091-ac41007f0201",
   "metadata": {
    "slideshow": {
     "slide_type": "slide"
    }
   },
   "outputs": [
    {
     "name": "stdout",
     "output_type": "stream",
     "text": [
      "Model is valid? False\n",
      "Reasons why:\n",
      " -urn:my_site/vav1 needs to be a https://brickschema.org/schema/Brick#VAV\n",
      " -urn:my_site/vav2 needs to be a https://brickschema.org/schema/Brick#RVAV\n",
      " -urn:my_site/vav1 needs to be a https://brickschema.org/schema/Brick#RVAV\n",
      " -urn:my_site/vav2 needs to be a https://brickschema.org/schema/Brick#VAV\n"
     ]
    }
   ],
   "source": [
    "# validate it again!\n",
    "ctx = model.validate([manifest.get_shape_collection(), constraints.get_shape_collection(), g36.get_shape_collection(), brick.get_shape_collection()])\n",
    "print(f\"Model is valid? {ctx.valid}\")\n",
    "print(\"Reasons why:\")\n",
    "for diff in ctx.diffset:\n",
    "    print(\" -\" + diff.reason())"
   ]
  },
  {
   "cell_type": "markdown",
   "id": "bb8f66da",
   "metadata": {
    "slideshow": {
     "slide_type": "slide"
    }
   },
   "source": [
    "- model is still failing, so we ask BuildingMOTIF for more feedback\n",
    "- ask user for more inputs on some of the missing sensors"
   ]
  },
  {
   "cell_type": "code",
   "execution_count": 15,
   "id": "e0781fbd-6e76-4504-85f5-123f45df98af",
   "metadata": {
    "tags": [
        "skip-execution"
    ],
    "slideshow": {
     "slide_type": "fragment"
    }
   },
   "outputs": [
    {
     "ename": "AssertionError",
     "evalue": "",
     "output_type": "error",
     "traceback": [
      "\u001b[0;31m---------------------------------------------------------------------------\u001b[0m",
      "\u001b[0;31mAssertionError\u001b[0m                            Traceback (most recent call last)",
      "Input \u001b[0;32mIn [15]\u001b[0m, in \u001b[0;36m<cell line: 1>\u001b[0;34m()\u001b[0m\n\u001b[0;32m----> 1\u001b[0m generated_templates \u001b[38;5;241m=\u001b[39m \u001b[43mctx\u001b[49m\u001b[38;5;241;43m.\u001b[39;49m\u001b[43mas_templates\u001b[49m\u001b[43m(\u001b[49m\u001b[43m)\u001b[49m\n\u001b[1;32m      2\u001b[0m \u001b[38;5;28;01mfor\u001b[39;00m t \u001b[38;5;129;01min\u001b[39;00m generated_templates:\n\u001b[1;32m      3\u001b[0m     \u001b[38;5;28mprint\u001b[39m(\u001b[38;5;124m'\u001b[39m\u001b[38;5;124m-\u001b[39m\u001b[38;5;124m'\u001b[39m\u001b[38;5;241m*\u001b[39m\u001b[38;5;241m80\u001b[39m)\n",
      "File \u001b[0;32m~/src/NREL/BuildingMOTIF/buildingmotif/dataclasses/validation.py:148\u001b[0m, in \u001b[0;36mValidationContext.as_templates\u001b[0;34m(self)\u001b[0m\n\u001b[1;32m    147\u001b[0m \u001b[38;5;28;01mdef\u001b[39;00m \u001b[38;5;21mas_templates\u001b[39m(\u001b[38;5;28mself\u001b[39m) \u001b[38;5;241m-\u001b[39m\u001b[38;5;241m>\u001b[39m List[\u001b[38;5;124m\"\u001b[39m\u001b[38;5;124mTemplate\u001b[39m\u001b[38;5;124m\"\u001b[39m]:\n\u001b[0;32m--> 148\u001b[0m     \u001b[38;5;28;01mreturn\u001b[39;00m \u001b[43mdiffset_to_templates\u001b[49m\u001b[43m(\u001b[49m\u001b[38;5;28;43mself\u001b[39;49m\u001b[38;5;241;43m.\u001b[39;49m\u001b[43mdiffset\u001b[49m\u001b[43m)\u001b[49m\n",
      "File \u001b[0;32m~/src/NREL/BuildingMOTIF/buildingmotif/dataclasses/validation.py:275\u001b[0m, in \u001b[0;36mdiffset_to_templates\u001b[0;34m(diffset)\u001b[0m\n\u001b[1;32m    273\u001b[0m     unified \u001b[38;5;241m=\u001b[39m base\u001b[38;5;241m.\u001b[39minline_dependencies()\n\u001b[1;32m    274\u001b[0m     unified_evaluated \u001b[38;5;241m=\u001b[39m unified\u001b[38;5;241m.\u001b[39mevaluate({\u001b[38;5;124m\"\u001b[39m\u001b[38;5;124mname\u001b[39m\u001b[38;5;124m\"\u001b[39m: focus})\n\u001b[0;32m--> 275\u001b[0m     \u001b[38;5;28;01massert\u001b[39;00m \u001b[38;5;28misinstance\u001b[39m(unified_evaluated, Template)\n\u001b[1;32m    276\u001b[0m     templates\u001b[38;5;241m.\u001b[39mappend(unified_evaluated)\n\u001b[1;32m    277\u001b[0m \u001b[38;5;28;01mreturn\u001b[39;00m templates\n",
      "\u001b[0;31mAssertionError\u001b[0m: "
     ]
    }
   ],
   "source": [
    "generated_templates = ctx.as_templates()\n",
    "for t in generated_templates:\n",
    "    print('-'*80)\n",
    "    print(t.body.serialize())\n",
    "    bindings = {}\n",
    "    for param in t.parameters:\n",
    "        ident = input(f\"Give value for '{param}' in the above template: \")\n",
    "        bindings[param] = BLDG[ident]\n",
    "    model.add_graph(t.evaluate(bindings))"
   ]
  },
  {
   "cell_type": "markdown",
   "id": "01cff591",
   "metadata": {
    "slideshow": {
     "slide_type": "slide"
    }
   },
   "source": [
    "- BuildingMOTIF can add missing metadata automatically\n",
    "    - if unambiguous (true for some constraints)\n",
    "    - otherwise, attempt \"autocomplete\" from existing model"
   ]
  },
  {
   "cell_type": "code",
   "execution_count": null,
   "id": "b36ece06-8325-4346-9ba1-00cf11fb8ac2",
   "metadata": {
    "slideshow": {
     "slide_type": "fragment"
    }
   },
   "outputs": [],
   "source": [
    "print(model.graph.serialize())"
   ]
  },
  {
   "cell_type": "code",
   "execution_count": null,
   "id": "020e1c94-c20c-46e1-a400-b717f8ab679b",
   "metadata": {
    "slideshow": {
     "slide_type": "slide"
    }
   },
   "outputs": [],
   "source": [
    "ctx = model.validate([manifest.get_shape_collection(), constraints.get_shape_collection(), g36.get_shape_collection(), brick.get_shape_collection()])\n",
    "print(f\"Is model valid yet? {ctx.valid}\")"
   ]
  },
  {
   "cell_type": "code",
   "execution_count": null,
   "id": "c4fcc259-63cf-4a16-8328-f58d09ef0996",
   "metadata": {
    "slideshow": {
     "slide_type": "skip"
    }
   },
   "outputs": [],
   "source": [
    "print(ctx.report.serialize())"
   ]
  },
  {
   "cell_type": "markdown",
   "id": "10181f3a",
   "metadata": {
    "slideshow": {
     "slide_type": "slide"
    }
   },
   "source": [
    " - we can also invoke templates ourselves, rather than having BuildingMOTIF suggest them\n",
    " - here using `fill()` as a debug trick to avoid having to give inputs"
   ]
  },
  {
   "cell_type": "code",
   "execution_count": null,
   "id": "af770069-0bf8-48ef-9a89-de81ff16e2d0",
   "metadata": {
    "slideshow": {
     "slide_type": "fragment"
    }
   },
   "outputs": [],
   "source": [
    "# use templates to finish it up!\n",
    "vav_templ = g36.get_template_by_name(\"vav-with-reheat\").inline_dependencies()\n",
    "_, graph = vav_templ.evaluate({\"name\": BLDG[\"vav1\"]}).fill(BLDG)\n",
    "model.add_graph(graph)\n",
    "_, graph = vav_templ.evaluate({\"name\": BLDG[\"vav2\"]}).fill(BLDG)\n",
    "model.add_graph(graph)"
   ]
  },
  {
   "cell_type": "code",
   "execution_count": null,
   "id": "268b64e4-e961-489f-ad16-67a4a3b641b7",
   "metadata": {
    "slideshow": {
     "slide_type": "slide"
    }
   },
   "outputs": [],
   "source": [
    "ctx = model.validate([manifest.get_shape_collection(),\n",
    "                      constraints.get_shape_collection(),\n",
    "                      g36.get_shape_collection(),\n",
    "                      brick.get_shape_collection()])\n",
    "print(f\"Is model valid yet? {ctx.valid}\")"
   ]
  },
  {
   "cell_type": "code",
   "execution_count": null,
   "id": "fd247f2e-a2e9-49c8-af46-e161a26c6698",
   "metadata": {
    "slideshow": {
     "slide_type": "slide"
    }
   },
   "outputs": [],
   "source": [
    "print(model.graph.serialize())"
   ]
  },
  {
   "cell_type": "code",
   "execution_count": null,
   "id": "b7edb0d7-d43c-49c4-8006-fef102567af1",
   "metadata": {
    "slideshow": {
     "slide_type": "slide"
    }
   },
   "outputs": [],
   "source": [
    "print(ctx.report.serialize())"
   ]
  },
  {
   "cell_type": "code",
   "execution_count": null,
   "id": "52e44af6-f109-4b56-9a6d-5e5f1c26a799",
   "metadata": {},
   "outputs": [],
   "source": []
  }
 ],
 "metadata": {
  "celltoolbar": "Slideshow",
  "kernelspec": {
   "display_name": "Python 3 (ipykernel)",
   "language": "python",
   "name": "python3"
  },
  "language_info": {
   "codemirror_mode": {
    "name": "ipython",
    "version": 3
   },
   "file_extension": ".py",
   "mimetype": "text/x-python",
   "name": "python",
   "nbconvert_exporter": "python",
   "pygments_lexer": "ipython3",
   "version": "3.10.5"
  }
 },
 "nbformat": 4,
 "nbformat_minor": 5
}
