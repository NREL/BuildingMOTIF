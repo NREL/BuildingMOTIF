{
 "cells": [
  {
   "cell_type": "markdown",
   "id": "9c02af62-5853-432a-a99d-ddab6d32f09e",
   "metadata": {
    "slideshow": {
     "slide_type": "slide"
    },
    "tags": []
   },
   "source": [
    "# Setup and Imports\n",
    "\n",
    "Import useful libraries for defining our model, set up the model"
   ]
  },
  {
   "cell_type": "code",
   "execution_count": null,
   "id": "c8c46c4d-0dad-4e34-8342-6b27ae5c864b",
   "metadata": {
    "execution": {
     "iopub.execute_input": "2024-07-02T23:36:15.439550Z",
     "iopub.status.busy": "2024-07-02T23:36:15.439441Z",
     "iopub.status.idle": "2024-07-02T23:36:15.861411Z",
     "shell.execute_reply": "2024-07-02T23:36:15.861061Z"
    },
    "slideshow": {
     "slide_type": "fragment"
    },
    "tags": []
   },
   "outputs": [],
   "source": [
    "from rdflib import Namespace, Graph\n",
    "from buildingmotif import BuildingMOTIF\n",
    "from buildingmotif.namespaces import BRICK\n",
    "from buildingmotif.dataclasses import Model, Library"
   ]
  },
  {
   "cell_type": "code",
   "execution_count": null,
   "id": "81f0cddb-f98d-412a-85b8-a3b99b3a8c63",
   "metadata": {
    "execution": {
     "iopub.execute_input": "2024-07-02T23:36:15.863636Z",
     "iopub.status.busy": "2024-07-02T23:36:15.863465Z",
     "iopub.status.idle": "2024-07-02T23:36:15.887514Z",
     "shell.execute_reply": "2024-07-02T23:36:15.887197Z"
    },
    "slideshow": {
     "slide_type": "fragment"
    },
    "tags": []
   },
   "outputs": [],
   "source": [
    "bm = BuildingMOTIF(\"sqlite://\", \"topquadrant\") # in-memory"
   ]
  },
  {
   "cell_type": "code",
   "execution_count": null,
   "id": "14a90531-662c-4c39-9a7b-0818ec49d1dd",
   "metadata": {
    "execution": {
     "iopub.execute_input": "2024-07-02T23:36:15.889513Z",
     "iopub.status.busy": "2024-07-02T23:36:15.889371Z",
     "iopub.status.idle": "2024-07-02T23:36:15.940058Z",
     "shell.execute_reply": "2024-07-02T23:36:15.939699Z"
    },
    "slideshow": {
     "slide_type": "fragment"
    },
    "tags": []
   },
   "outputs": [],
   "source": [
    "BLDG = Namespace(\"urn:my_site/\")\n",
    "model = Model.create(BLDG)"
   ]
  },
  {
   "cell_type": "code",
   "execution_count": null,
   "id": "fe327033-2ab2-4f6f-8f69-12df5d75aabc",
   "metadata": {},
   "outputs": [],
   "source": []
  },
  {
   "cell_type": "code",
   "execution_count": null,
   "id": "18792c9d-5c3c-497b-8979-f7ffdf671250",
   "metadata": {
    "execution": {
     "iopub.execute_input": "2024-07-02T23:36:15.942112Z",
     "iopub.status.busy": "2024-07-02T23:36:15.941968Z",
     "iopub.status.idle": "2024-07-02T23:37:03.310087Z",
     "shell.execute_reply": "2024-07-02T23:37:03.309733Z"
    },
    "slideshow": {
     "slide_type": "fragment"
    },
    "tags": []
   },
   "outputs": [],
   "source": [
    "qudtqk = Library.load(ontology_graph=\"http://qudt.org/2.1/vocab/quantitykind\")\n",
    "qudtunit = Library.load(ontology_graph=\"http://qudt.org/2.1/vocab/unit\")\n",
    "constraints = Library.load(ontology_graph=\"constraints/constraints.ttl\")\n",
    "brick = Library.load(ontology_graph=\"../libraries/brick/Brick.ttl\")\n",
    "g36 = Library.load(directory=\"../libraries/ashrae/guideline36\")"
   ]
  },
  {
   "cell_type": "markdown",
   "id": "84d9ed54-0d89-4785-b2b2-bf6906c0cc05",
   "metadata": {
    "slideshow": {
     "slide_type": "slide"
    }
   },
   "source": [
    "- simulate looking at a mechanical schedule:\n",
    "    - see number and type of equipment\n",
    "    - **our example**: 1 AHU, 2 RVAVs\n",
    "- now look at libraries to see if there are some useful \"shapes\"\n",
    "    - based on forecasted app requirements\n",
    "    - use these to inform model creation"
   ]
  },
  {
   "cell_type": "code",
   "execution_count": null,
   "id": "4c6856c2-a2f8-4049-8980-a0ce88e3c651",
   "metadata": {
    "execution": {
     "iopub.execute_input": "2024-07-02T23:37:03.312380Z",
     "iopub.status.busy": "2024-07-02T23:37:03.312154Z",
     "iopub.status.idle": "2024-07-02T23:37:03.314815Z",
     "shell.execute_reply": "2024-07-02T23:37:03.314510Z"
    },
    "slideshow": {
     "slide_type": "fragment"
    }
   },
   "outputs": [],
   "source": [
    "sc = g36.get_shape_collection()"
   ]
  },
  {
   "cell_type": "code",
   "execution_count": null,
   "id": "3d2c1fdc-d282-4192-b27e-c3cb8c7d4049",
   "metadata": {
    "execution": {
     "iopub.execute_input": "2024-07-02T23:37:03.316649Z",
     "iopub.status.busy": "2024-07-02T23:37:03.316504Z",
     "iopub.status.idle": "2024-07-02T23:37:03.504526Z",
     "shell.execute_reply": "2024-07-02T23:37:03.504157Z"
    },
    "slideshow": {
     "slide_type": "fragment"
    }
   },
   "outputs": [],
   "source": [
    "sc.get_shapes_about_class(BRICK.AHU)"
   ]
  },
  {
   "cell_type": "code",
   "execution_count": null,
   "id": "87b3d4c7-0aad-4a37-b8a3-291256279197",
   "metadata": {
    "execution": {
     "iopub.execute_input": "2024-07-02T23:37:03.506527Z",
     "iopub.status.busy": "2024-07-02T23:37:03.506365Z",
     "iopub.status.idle": "2024-07-02T23:37:03.682188Z",
     "shell.execute_reply": "2024-07-02T23:37:03.681875Z"
    },
    "slideshow": {
     "slide_type": "fragment"
    }
   },
   "outputs": [],
   "source": [
    "sc.get_shapes_about_class(BRICK.RVAV)"
   ]
  },
  {
   "cell_type": "markdown",
   "id": "f857bcb3-093f-4ff8-910f-c14570754eee",
   "metadata": {
    "slideshow": {
     "slide_type": "slide"
    }
   },
   "source": [
    "# Write site manifest\n",
    "\n",
    "- write a \"manifest\" to encode our requirements:\n",
    "    - 1 AHU\n",
    "    - 2 RVAVs; should run G36 sequence of operations\n",
    "- this is the *low level* view -- will be abstracted by us and other developers"
   ]
  },
  {
   "cell_type": "code",
   "execution_count": null,
   "id": "438b50a3-14e1-49f3-b885-4b69458fa82e",
   "metadata": {
    "execution": {
     "iopub.execute_input": "2024-07-02T23:37:03.684199Z",
     "iopub.status.busy": "2024-07-02T23:37:03.684046Z",
     "iopub.status.idle": "2024-07-02T23:37:03.705636Z",
     "shell.execute_reply": "2024-07-02T23:37:03.705234Z"
    },
    "slideshow": {
     "slide_type": "slide"
    }
   },
   "outputs": [],
   "source": [
    "%%bash\n",
    "cat <<EOF > my_site.ttl\n",
    "@prefix brick: <https://brickschema.org/schema/Brick#> .\n",
    "@prefix owl: <http://www.w3.org/2002/07/owl#> .\n",
    "@prefix sh: <http://www.w3.org/ns/shacl#> .\n",
    "@prefix constraint: <https://nrel.gov/BuildingMOTIF/constraints#> .\n",
    "@prefix : <urn:my_site_constraints/> .\n",
    "\n",
    ": a owl:Ontology ;\n",
    "    owl:imports <https://brickschema.org/schema/1.4/Brick> ;\n",
    "    owl:imports <https://nrel.gov/BuildingMOTIF/constraints> ;\n",
    "    owl:imports <urn:ashrae/g36> .\n",
    "\n",
    "# read off of mechanical schedule\n",
    ":vav-count a sh:NodeShape ;\n",
    "    sh:message \"Need 2 VAVs\" ;\n",
    "    sh:targetNode : ; # target *this* graph\n",
    "    constraint:exactCount 2 ;\n",
    "    constraint:class <urn:ashrae/g36/4.2/vav-with-reheat/vav-with-reheat> .\n",
    "\n",
    ":ahu-count a sh:NodeShape ;\n",
    "    sh:message \"Need 1 AHU\" ;\n",
    "    sh:targetNode : ; # target *this* graph\n",
    "    constraint:exactCount 1 ;\n",
    "    constraint:class brick:AHU .\n",
    "EOF"
   ]
  },
  {
   "cell_type": "markdown",
   "id": "e2ca5d73",
   "metadata": {
    "slideshow": {
     "slide_type": "slide"
    }
   },
   "source": [
    "Now we load our manifest into BuildingMOTIF"
   ]
  },
  {
   "cell_type": "code",
   "execution_count": null,
   "id": "f3c12002-8b29-492a-bf41-d4b9b443b621",
   "metadata": {
    "execution": {
     "iopub.execute_input": "2024-07-02T23:37:03.707683Z",
     "iopub.status.busy": "2024-07-02T23:37:03.707524Z",
     "iopub.status.idle": "2024-07-02T23:37:04.780565Z",
     "shell.execute_reply": "2024-07-02T23:37:04.780194Z"
    },
    "slideshow": {
     "slide_type": "fragment"
    }
   },
   "outputs": [],
   "source": [
    "manifest = Library.load(ontology_graph=\"my_site.ttl\")"
   ]
  },
  {
   "cell_type": "markdown",
   "id": "04e9cff0-1e3e-4ddd-aa6c-d3ef81ca737a",
   "metadata": {
    "slideshow": {
     "slide_type": "slide"
    }
   },
   "source": [
    "# Iterative model creation\n",
    "\n",
    "- validate model to determine if it is *semantically sufficient*\n",
    "- if this fails, BuildingMOTIF will use resulting report to help you patch the model"
   ]
  },
  {
   "cell_type": "code",
   "execution_count": null,
   "id": "408ab010-213f-490b-bf4a-f8f0fdce744c",
   "metadata": {
    "execution": {
     "iopub.execute_input": "2024-07-02T23:37:04.782733Z",
     "iopub.status.busy": "2024-07-02T23:37:04.782597Z",
     "iopub.status.idle": "2024-07-02T23:37:52.464105Z",
     "shell.execute_reply": "2024-07-02T23:37:52.463732Z"
    },
    "slideshow": {
     "slide_type": "fragment"
    },
    "tags": []
   },
   "outputs": [],
   "source": [
    "# pass our collections of shapes in to validate the model\n",
    "ctx = model.validate([manifest.get_shape_collection(), constraints.get_shape_collection(), \n",
    "                      g36.get_shape_collection(), brick.get_shape_collection()], error_on_missing_imports=False)\n",
    "print(f\"Model is valid? {ctx.valid}\")\n",
    "# higher-level descriptions of each of the violations\n",
    "print(\"Reasons why:\")\n",
    "for focus_node, diffs in ctx.diffset.items():\n",
    "    print(focus_node)\n",
    "    for diff in diffs:\n",
    "        print(\"  - \" + diff.reason())"
   ]
  },
  {
   "cell_type": "markdown",
   "id": "3e86d1e7",
   "metadata": {
    "slideshow": {
     "slide_type": "slide"
    }
   },
   "source": [
    "- some constraints can be interpreted by BuildingMOTIF\n",
    "- BuildingMOTIF identifies common patterns\n",
    "    - presents these as new templates to the user\n",
    "    - templates provide structure to input from user/other software"
   ]
  },
  {
   "cell_type": "code",
   "execution_count": null,
   "id": "ba0e0d86-ee09-4706-bce8-4b78e3154421",
   "metadata": {
    "slideshow": {
     "slide_type": "slide"
    },
    "tags": [
     "skip-execution"
    ]
   },
   "outputs": [],
   "source": [
    "generated_templates = ctx.as_templates()\n",
    "print(generated_templates)\n",
    "for t in generated_templates:\n",
    "    print('-'*80)\n",
    "    print(t.body.serialize())\n",
    "    ident = input(\"Give value for 'name' in the above template: \")\n",
    "    model.add_graph(t.evaluate({\"name\": BLDG[ident]}))"
   ]
  },
  {
   "cell_type": "code",
   "execution_count": null,
   "id": "44d28250-b7d1-4ef4-a847-2307aa4bbd2a",
   "metadata": {
    "execution": {
     "iopub.execute_input": "2024-07-02T23:37:52.466759Z",
     "iopub.status.busy": "2024-07-02T23:37:52.466592Z",
     "iopub.status.idle": "2024-07-02T23:37:52.480700Z",
     "shell.execute_reply": "2024-07-02T23:37:52.480361Z"
    },
    "slideshow": {
     "slide_type": "slide"
    }
   },
   "outputs": [],
   "source": [
    "# now we can look at our model ( so far )\n",
    "print(model.graph.serialize())"
   ]
  },
  {
   "cell_type": "code",
   "execution_count": null,
   "id": "0e2eb3b2-b37a-465a-b091-ac41007f0201",
   "metadata": {
    "execution": {
     "iopub.execute_input": "2024-07-02T23:37:52.482690Z",
     "iopub.status.busy": "2024-07-02T23:37:52.482546Z",
     "iopub.status.idle": "2024-07-02T23:38:49.597591Z",
     "shell.execute_reply": "2024-07-02T23:38:49.596874Z"
    },
    "slideshow": {
     "slide_type": "slide"
    }
   },
   "outputs": [],
   "source": [
    "# validate it again!\n",
    "ctx = model.validate([manifest.get_shape_collection(), constraints.get_shape_collection(), g36.get_shape_collection(), brick.get_shape_collection()], error_on_missing_imports=False)\n",
    "print(f\"Model is valid? {ctx.valid}\")\n",
    "print(\"Reasons why:\")\n",
    "for focus_node, diffs in ctx.diffset.items():\n",
    "    print(focus_node)\n",
    "    for diff in diffs:\n",
    "        print(\"  - \" + diff.reason())"
   ]
  },
  {
   "cell_type": "markdown",
   "id": "bb8f66da",
   "metadata": {
    "slideshow": {
     "slide_type": "slide"
    }
   },
   "source": [
    "- model is still failing, so we ask BuildingMOTIF for more feedback\n",
    "- ask user for more inputs on some of the missing sensors"
   ]
  },
  {
   "cell_type": "raw",
   "id": "cc0b265a-02a3-4946-a41b-97fabd1766a6",
   "metadata": {
    "slideshow": {
     "slide_type": "fragment"
    },
    "tags": [
     "skip-execution"
    ]
   },
   "source": [
    "generated_templates = ctx.as_templates()\n",
    "for t in generated_templates:\n",
    "    print('-'*80)\n",
    "    print(t.body.serialize())\n",
    "    bindings = {}\n",
    "    for param in t.parameters:\n",
    "        ident = input(f\"Give value for '{param}' in the above template: \")\n",
    "        bindings[param] = BLDG[ident]\n",
    "    model.add_graph(t.evaluate(bindings))"
   ]
  },
  {
   "cell_type": "markdown",
   "id": "01cff591",
   "metadata": {
    "slideshow": {
     "slide_type": "slide"
    }
   },
   "source": [
    "- BuildingMOTIF can add missing metadata automatically\n",
    "    - if unambiguous (true for some constraints)\n",
    "    - otherwise, attempt \"autocomplete\" from existing model"
   ]
  },
  {
   "cell_type": "code",
   "execution_count": null,
   "id": "b36ece06-8325-4346-9ba1-00cf11fb8ac2",
   "metadata": {
    "execution": {
     "iopub.execute_input": "2024-07-02T23:38:49.601327Z",
     "iopub.status.busy": "2024-07-02T23:38:49.600839Z",
     "iopub.status.idle": "2024-07-02T23:38:49.607950Z",
     "shell.execute_reply": "2024-07-02T23:38:49.607576Z"
    },
    "slideshow": {
     "slide_type": "fragment"
    }
   },
   "outputs": [],
   "source": [
    "print(model.graph.serialize())"
   ]
  },
  {
   "cell_type": "code",
   "execution_count": null,
   "id": "020e1c94-c20c-46e1-a400-b717f8ab679b",
   "metadata": {
    "execution": {
     "iopub.execute_input": "2024-07-02T23:38:49.609871Z",
     "iopub.status.busy": "2024-07-02T23:38:49.609728Z",
     "iopub.status.idle": "2024-07-02T23:39:48.080750Z",
     "shell.execute_reply": "2024-07-02T23:39:48.080404Z"
    },
    "slideshow": {
     "slide_type": "slide"
    }
   },
   "outputs": [],
   "source": [
    "ctx = model.validate([manifest.get_shape_collection(), constraints.get_shape_collection(), g36.get_shape_collection(), brick.get_shape_collection()], error_on_missing_imports=False)\n",
    "print(f\"Is model valid yet? {ctx.valid}\")"
   ]
  },
  {
   "cell_type": "code",
   "execution_count": null,
   "id": "c4fcc259-63cf-4a16-8328-f58d09ef0996",
   "metadata": {
    "execution": {
     "iopub.execute_input": "2024-07-02T23:39:48.082730Z",
     "iopub.status.busy": "2024-07-02T23:39:48.082588Z",
     "iopub.status.idle": "2024-07-02T23:39:48.085370Z",
     "shell.execute_reply": "2024-07-02T23:39:48.085061Z"
    },
    "slideshow": {
     "slide_type": "skip"
    }
   },
   "outputs": [],
   "source": [
    "print(ctx.report.serialize())"
   ]
  },
  {
   "cell_type": "markdown",
   "id": "10181f3a",
   "metadata": {
    "slideshow": {
     "slide_type": "slide"
    }
   },
   "source": [
    " - we can also invoke templates ourselves, rather than having BuildingMOTIF suggest them\n",
    " - here using `fill()` as a debug trick to avoid having to give inputs"
   ]
  },
  {
   "cell_type": "code",
   "execution_count": null,
   "id": "af770069-0bf8-48ef-9a89-de81ff16e2d0",
   "metadata": {
    "execution": {
     "iopub.execute_input": "2024-07-02T23:39:48.087236Z",
     "iopub.status.busy": "2024-07-02T23:39:48.087102Z",
     "iopub.status.idle": "2024-07-02T23:39:48.108761Z",
     "shell.execute_reply": "2024-07-02T23:39:48.108458Z"
    },
    "slideshow": {
     "slide_type": "fragment"
    }
   },
   "outputs": [],
   "source": [
    "# use templates to finish it up!\n",
    "vav_templ = g36.get_template_by_name(\"vav-with-reheat\").inline_dependencies()\n",
    "_, graph = vav_templ.evaluate({\"name\": BLDG[\"vav1\"]}).fill(BLDG)\n",
    "model.add_graph(graph)\n",
    "_, graph = vav_templ.evaluate({\"name\": BLDG[\"vav2\"]}).fill(BLDG)\n",
    "model.add_graph(graph)"
   ]
  },
  {
   "cell_type": "code",
   "execution_count": null,
   "id": "268b64e4-e961-489f-ad16-67a4a3b641b7",
   "metadata": {
    "execution": {
     "iopub.execute_input": "2024-07-02T23:39:48.110527Z",
     "iopub.status.busy": "2024-07-02T23:39:48.110421Z",
     "iopub.status.idle": "2024-07-02T23:40:49.660841Z",
     "shell.execute_reply": "2024-07-02T23:40:49.660413Z"
    },
    "slideshow": {
     "slide_type": "slide"
    }
   },
   "outputs": [],
   "source": [
    "ctx = model.validate([manifest.get_shape_collection(),\n",
    "                      constraints.get_shape_collection(),\n",
    "                      g36.get_shape_collection(),\n",
    "                      brick.get_shape_collection()], error_on_missing_imports=False)\n",
    "print(f\"Is model valid yet? {ctx.valid}\")"
   ]
  },
  {
   "cell_type": "code",
   "execution_count": null,
   "id": "fd247f2e-a2e9-49c8-af46-e161a26c6698",
   "metadata": {
    "execution": {
     "iopub.execute_input": "2024-07-02T23:40:49.662952Z",
     "iopub.status.busy": "2024-07-02T23:40:49.662803Z",
     "iopub.status.idle": "2024-07-02T23:40:49.698663Z",
     "shell.execute_reply": "2024-07-02T23:40:49.698289Z"
    },
    "slideshow": {
     "slide_type": "slide"
    }
   },
   "outputs": [],
   "source": [
    "print(model.graph.serialize())"
   ]
  },
  {
   "cell_type": "code",
   "execution_count": null,
   "id": "b7edb0d7-d43c-49c4-8006-fef102567af1",
   "metadata": {
    "execution": {
     "iopub.execute_input": "2024-07-02T23:40:49.700656Z",
     "iopub.status.busy": "2024-07-02T23:40:49.700499Z",
     "iopub.status.idle": "2024-07-02T23:40:49.703769Z",
     "shell.execute_reply": "2024-07-02T23:40:49.703416Z"
    },
    "slideshow": {
     "slide_type": "slide"
    }
   },
   "outputs": [],
   "source": [
    "print(ctx.report.serialize())"
   ]
  },
  {
   "cell_type": "code",
   "execution_count": null,
   "id": "52e44af6-f109-4b56-9a6d-5e5f1c26a799",
   "metadata": {},
   "outputs": [],
   "source": []
  },
  {
   "cell_type": "code",
   "execution_count": null,
   "id": "827bc60d-d558-49ac-8cd3-bf100dc8767b",
   "metadata": {},
   "outputs": [],
   "source": []
  }
 ],
 "metadata": {
  "celltoolbar": "Slideshow",
  "kernelspec": {
   "display_name": ".venv",
   "language": "python",
   "name": "python3"
  },
  "language_info": {
   "codemirror_mode": {
    "name": "ipython",
    "version": 3
   },
   "file_extension": ".py",
   "mimetype": "text/x-python",
   "name": "python",
   "nbconvert_exporter": "python",
   "pygments_lexer": "ipython3",
   "version": "3.9.6"
  }
 },
 "nbformat": 4,
 "nbformat_minor": 5
}
