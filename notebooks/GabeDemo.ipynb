{
 "cells": [
  {
   "cell_type": "markdown",
   "id": "9c02af62-5853-432a-a99d-ddab6d32f09e",
   "metadata": {
    "slideshow": {
     "slide_type": "slide"
    },
    "tags": []
   },
   "source": [
    "# Setup and Imports\n",
    "\n",
    "Import useful libraries for defining our model, set up the model"
   ]
  },
  {
   "cell_type": "code",
   "execution_count": 1,
   "id": "c8c46c4d-0dad-4e34-8342-6b27ae5c864b",
   "metadata": {
    "execution": {
     "iopub.execute_input": "2024-07-02T23:36:15.439550Z",
     "iopub.status.busy": "2024-07-02T23:36:15.439441Z",
     "iopub.status.idle": "2024-07-02T23:36:15.861411Z",
     "shell.execute_reply": "2024-07-02T23:36:15.861061Z"
    },
    "slideshow": {
     "slide_type": "fragment"
    },
    "tags": []
   },
   "outputs": [],
   "source": [
    "from rdflib import Namespace, Graph\n",
    "from buildingmotif import BuildingMOTIF\n",
    "from buildingmotif.namespaces import BRICK\n",
    "from buildingmotif.dataclasses import Model, Library"
   ]
  },
  {
   "cell_type": "code",
   "execution_count": 2,
   "id": "81f0cddb-f98d-412a-85b8-a3b99b3a8c63",
   "metadata": {
    "execution": {
     "iopub.execute_input": "2024-07-02T23:36:15.863636Z",
     "iopub.status.busy": "2024-07-02T23:36:15.863465Z",
     "iopub.status.idle": "2024-07-02T23:36:15.887514Z",
     "shell.execute_reply": "2024-07-02T23:36:15.887197Z"
    },
    "slideshow": {
     "slide_type": "fragment"
    },
    "tags": []
   },
   "outputs": [],
   "source": [
    "bm = BuildingMOTIF(\"sqlite://\") # in-memory"
   ]
  },
  {
   "cell_type": "code",
   "execution_count": 3,
   "id": "14a90531-662c-4c39-9a7b-0818ec49d1dd",
   "metadata": {
    "execution": {
     "iopub.execute_input": "2024-07-02T23:36:15.889513Z",
     "iopub.status.busy": "2024-07-02T23:36:15.889371Z",
     "iopub.status.idle": "2024-07-02T23:36:15.940058Z",
     "shell.execute_reply": "2024-07-02T23:36:15.939699Z"
    },
    "slideshow": {
     "slide_type": "fragment"
    },
    "tags": []
   },
   "outputs": [],
   "source": [
    "BLDG = Namespace(\"urn:my_site/\")\n",
    "model = Model.create(BLDG)"
   ]
  },
  {
   "cell_type": "code",
   "execution_count": null,
   "id": "fe327033-2ab2-4f6f-8f69-12df5d75aabc",
   "metadata": {},
   "outputs": [],
   "source": []
  },
  {
   "cell_type": "code",
   "execution_count": 4,
   "id": "18792c9d-5c3c-497b-8979-f7ffdf671250",
   "metadata": {
    "execution": {
     "iopub.execute_input": "2024-07-02T23:36:15.942112Z",
     "iopub.status.busy": "2024-07-02T23:36:15.941968Z",
     "iopub.status.idle": "2024-07-02T23:37:03.310087Z",
     "shell.execute_reply": "2024-07-02T23:37:03.309733Z"
    },
    "slideshow": {
     "slide_type": "fragment"
    },
    "tags": []
   },
   "outputs": [
    {
     "name": "stderr",
     "output_type": "stream",
     "text": [
      "/Users/gabe/Library/Caches/pypoetry/virtualenvs/buildingmotif-ozGZrh9J-py3.11/lib/python3.11/site-packages/pyshacl/extras/__init__.py:46: Warning: Extra \"js\" is not satisfied because requirement pyduktape2 is not installed.\n",
      "  warn(Warning(f\"Extra \\\"{extra_name}\\\" is not satisfied because requirement {req} is not installed.\"))\n"
     ]
    },
    {
     "name": "stderr",
     "output_type": "stream",
     "text": [
      "2024-07-02 17:36:18,082 | root |  WARNING: An ontology could not resolve a dependency on http://qudt.org/2.1/schema/facade/qudt (No row was found when one was required). Check this is loaded into BuildingMOTIF\n"
     ]
    },
    {
     "name": "stderr",
     "output_type": "stream",
     "text": [
      "2024-07-02 17:36:18,082 | root |  WARNING: An ontology could not resolve a dependency on http://qudt.org/2.1/vocab/dimensionvector (No row was found when one was required). Check this is loaded into BuildingMOTIF\n"
     ]
    },
    {
     "name": "stderr",
     "output_type": "stream",
     "text": [
      "2024-07-02 17:36:21,884 | root |  WARNING: An ontology could not resolve a dependency on http://qudt.org/2.1/vocab/prefix (No row was found when one was required). Check this is loaded into BuildingMOTIF\n"
     ]
    },
    {
     "name": "stderr",
     "output_type": "stream",
     "text": [
      "2024-07-02 17:36:21,885 | root |  WARNING: An ontology could not resolve a dependency on http://qudt.org/2.1/vocab/sou (No row was found when one was required). Check this is loaded into BuildingMOTIF\n"
     ]
    },
    {
     "name": "stderr",
     "output_type": "stream",
     "text": [
      "2024-07-02 17:36:22,515 | root |  WARNING: An ontology could not resolve a dependency on http://qudt.org/2.1/schema/facade/qudt (No row was found when one was required). Check this is loaded into BuildingMOTIF\n"
     ]
    },
    {
     "name": "stderr",
     "output_type": "stream",
     "text": [
      "2024-07-02 17:36:53,953 | root |  WARNING: An ontology could not resolve a dependency on https://brickschema.org/schema/Brick/ref (No row was found when one was required). Check this is loaded into BuildingMOTIF\n"
     ]
    },
    {
     "name": "stderr",
     "output_type": "stream",
     "text": [
      "2024-07-02 17:36:53,953 | root |  WARNING: An ontology could not resolve a dependency on http://qudt.org/2.1/schema/shacl/overlay/qudt (No row was found when one was required). Check this is loaded into BuildingMOTIF\n"
     ]
    },
    {
     "name": "stderr",
     "output_type": "stream",
     "text": [
      "2024-07-02 17:36:53,954 | root |  WARNING: An ontology could not resolve a dependency on http://qudt.org/2.1/schema/facade/qudt (No row was found when one was required). Check this is loaded into BuildingMOTIF\n"
     ]
    },
    {
     "name": "stderr",
     "output_type": "stream",
     "text": [
      "2024-07-02 17:36:54,781 | root |  WARNING: An ontology could not resolve a dependency on http://qudt.org/2.1/schema/shacl/qudt (No row was found when one was required). Check this is loaded into BuildingMOTIF\n"
     ]
    },
    {
     "name": "stderr",
     "output_type": "stream",
     "text": [
      "2024-07-02 17:36:54,782 | root |  WARNING: An ontology could not resolve a dependency on https://w3id.org/rec/recimports (No row was found when one was required). Check this is loaded into BuildingMOTIF\n"
     ]
    },
    {
     "name": "stderr",
     "output_type": "stream",
     "text": [
      "2024-07-02 17:36:54,783 | root |  WARNING: An ontology could not resolve a dependency on http://qudt.org/2.1/vocab/prefix (No row was found when one was required). Check this is loaded into BuildingMOTIF\n"
     ]
    },
    {
     "name": "stderr",
     "output_type": "stream",
     "text": [
      "2024-07-02 17:36:54,783 | root |  WARNING: An ontology could not resolve a dependency on http://qudt.org/2.1/vocab/dimensionvector (No row was found when one was required). Check this is loaded into BuildingMOTIF\n"
     ]
    },
    {
     "name": "stderr",
     "output_type": "stream",
     "text": [
      "2024-07-02 17:36:54,784 | root |  WARNING: An ontology could not resolve a dependency on http://qudt.org/2.1/vocab/sou (No row was found when one was required). Check this is loaded into BuildingMOTIF\n"
     ]
    },
    {
     "name": "stderr",
     "output_type": "stream",
     "text": [
      "2024-07-02 17:36:55,372 | root |  WARNING: An ontology could not resolve a dependency on http://data.ashrae.org/bacnet/2020 (No row was found when one was required). Check this is loaded into BuildingMOTIF\n"
     ]
    },
    {
     "name": "stderr",
     "output_type": "stream",
     "text": [
      "2024-07-02 17:36:55,373 | root |  WARNING: An ontology could not resolve a dependency on http://qudt.org/2.1/collection/usertest (No row was found when one was required). Check this is loaded into BuildingMOTIF\n"
     ]
    },
    {
     "name": "stderr",
     "output_type": "stream",
     "text": [
      "2024-07-02 17:36:57,463 | root |  WARNING: Warning: could not find dependee n32fd143cc8f14ed985818aab5dd6561cb7653 in libraries []\n"
     ]
    },
    {
     "name": "stderr",
     "output_type": "stream",
     "text": [
      "2024-07-02 17:36:57,467 | root |  WARNING: Warning: could not find dependee n32fd143cc8f14ed985818aab5dd6561cb7651 in libraries []\n"
     ]
    },
    {
     "name": "stderr",
     "output_type": "stream",
     "text": [
      "2024-07-02 17:36:57,470 | root |  WARNING: Warning: could not find dependee n32fd143cc8f14ed985818aab5dd6561cb7645 in libraries []\n"
     ]
    },
    {
     "name": "stderr",
     "output_type": "stream",
     "text": [
      "2024-07-02 17:36:57,474 | root |  WARNING: Warning: could not find dependee n32fd143cc8f14ed985818aab5dd6561cb7647 in libraries []\n"
     ]
    },
    {
     "name": "stderr",
     "output_type": "stream",
     "text": [
      "2024-07-02 17:36:57,477 | root |  WARNING: Warning: could not find dependee n32fd143cc8f14ed985818aab5dd6561cb7649 in libraries []\n"
     ]
    },
    {
     "name": "stderr",
     "output_type": "stream",
     "text": [
      "2024-07-02 17:36:57,480 | root |  WARNING: Warning: could not find dependee n32fd143cc8f14ed985818aab5dd6561cb7729 in libraries []\n"
     ]
    },
    {
     "name": "stderr",
     "output_type": "stream",
     "text": [
      "2024-07-02 17:36:57,483 | root |  WARNING: Warning: could not find dependee n32fd143cc8f14ed985818aab5dd6561cb7725 in libraries []\n"
     ]
    },
    {
     "name": "stderr",
     "output_type": "stream",
     "text": [
      "2024-07-02 17:36:57,486 | root |  WARNING: Warning: could not find dependee n32fd143cc8f14ed985818aab5dd6561cb7727 in libraries []\n"
     ]
    },
    {
     "name": "stderr",
     "output_type": "stream",
     "text": [
      "2024-07-02 17:36:57,490 | root |  WARNING: Warning: could not find dependee n32fd143cc8f14ed985818aab5dd6561cb7721 in libraries []\n"
     ]
    },
    {
     "name": "stderr",
     "output_type": "stream",
     "text": [
      "2024-07-02 17:36:57,493 | root |  WARNING: Warning: could not find dependee n32fd143cc8f14ed985818aab5dd6561cb7723 in libraries []\n"
     ]
    },
    {
     "name": "stderr",
     "output_type": "stream",
     "text": [
      "2024-07-02 17:36:57,498 | root |  WARNING: Warning: could not find dependee n32fd143cc8f14ed985818aab5dd6561cb7579 in libraries []\n"
     ]
    },
    {
     "name": "stderr",
     "output_type": "stream",
     "text": [
      "2024-07-02 17:36:57,501 | root |  WARNING: Warning: could not find dependee n32fd143cc8f14ed985818aab5dd6561cb7587 in libraries []\n"
     ]
    },
    {
     "name": "stderr",
     "output_type": "stream",
     "text": [
      "2024-07-02 17:36:57,505 | root |  WARNING: Warning: could not find dependee n32fd143cc8f14ed985818aab5dd6561cb7585 in libraries []\n"
     ]
    },
    {
     "name": "stderr",
     "output_type": "stream",
     "text": [
      "2024-07-02 17:36:57,508 | root |  WARNING: Warning: could not find dependee n32fd143cc8f14ed985818aab5dd6561cb7589 in libraries []\n"
     ]
    },
    {
     "name": "stderr",
     "output_type": "stream",
     "text": [
      "2024-07-02 17:36:57,511 | root |  WARNING: Warning: could not find dependee n32fd143cc8f14ed985818aab5dd6561cb7583 in libraries []\n"
     ]
    },
    {
     "name": "stderr",
     "output_type": "stream",
     "text": [
      "2024-07-02 17:36:57,514 | root |  WARNING: Warning: could not find dependee n32fd143cc8f14ed985818aab5dd6561cb7581 in libraries []\n"
     ]
    },
    {
     "name": "stderr",
     "output_type": "stream",
     "text": [
      "2024-07-02 17:36:57,517 | root |  WARNING: Warning: could not find dependee n32fd143cc8f14ed985818aab5dd6561cb7628 in libraries []\n"
     ]
    },
    {
     "name": "stderr",
     "output_type": "stream",
     "text": [
      "2024-07-02 17:36:57,520 | root |  WARNING: Warning: could not find dependee n32fd143cc8f14ed985818aab5dd6561cb7632 in libraries []\n"
     ]
    },
    {
     "name": "stderr",
     "output_type": "stream",
     "text": [
      "2024-07-02 17:36:57,523 | root |  WARNING: Warning: could not find dependee n32fd143cc8f14ed985818aab5dd6561cb7638 in libraries []\n"
     ]
    },
    {
     "name": "stderr",
     "output_type": "stream",
     "text": [
      "2024-07-02 17:36:57,526 | root |  WARNING: Warning: could not find dependee n32fd143cc8f14ed985818aab5dd6561cb7634 in libraries []\n"
     ]
    },
    {
     "name": "stderr",
     "output_type": "stream",
     "text": [
      "2024-07-02 17:36:57,529 | root |  WARNING: Warning: could not find dependee n32fd143cc8f14ed985818aab5dd6561cb7636 in libraries []\n"
     ]
    },
    {
     "name": "stderr",
     "output_type": "stream",
     "text": [
      "2024-07-02 17:36:57,532 | root |  WARNING: Warning: could not find dependee n32fd143cc8f14ed985818aab5dd6561cb7630 in libraries []\n"
     ]
    }
   ],
   "source": [
    "qudtqk = Library.load(ontology_graph=\"http://qudt.org/2.1/vocab/quantitykind\")\n",
    "qudtunit = Library.load(ontology_graph=\"http://qudt.org/2.1/vocab/unit\")\n",
    "constraints = Library.load(ontology_graph=\"constraints/constraints.ttl\")\n",
    "brick = Library.load(ontology_graph=\"../libraries/brick/Brick.ttl\")\n",
    "g36 = Library.load(directory=\"../libraries/ashrae/guideline36\")"
   ]
  },
  {
   "cell_type": "markdown",
   "id": "84d9ed54-0d89-4785-b2b2-bf6906c0cc05",
   "metadata": {
    "slideshow": {
     "slide_type": "slide"
    }
   },
   "source": [
    "- simulate looking at a mechanical schedule:\n",
    "    - see number and type of equipment\n",
    "    - **our example**: 1 AHU, 2 RVAVs\n",
    "- now look at libraries to see if there are some useful \"shapes\"\n",
    "    - based on forecasted app requirements\n",
    "    - use these to inform model creation"
   ]
  },
  {
   "cell_type": "code",
   "execution_count": 5,
   "id": "4c6856c2-a2f8-4049-8980-a0ce88e3c651",
   "metadata": {
    "execution": {
     "iopub.execute_input": "2024-07-02T23:37:03.312380Z",
     "iopub.status.busy": "2024-07-02T23:37:03.312154Z",
     "iopub.status.idle": "2024-07-02T23:37:03.314815Z",
     "shell.execute_reply": "2024-07-02T23:37:03.314510Z"
    },
    "slideshow": {
     "slide_type": "fragment"
    }
   },
   "outputs": [],
   "source": [
    "sc = g36.get_shape_collection()"
   ]
  },
  {
   "cell_type": "code",
   "execution_count": 6,
   "id": "3d2c1fdc-d282-4192-b27e-c3cb8c7d4049",
   "metadata": {
    "execution": {
     "iopub.execute_input": "2024-07-02T23:37:03.316649Z",
     "iopub.status.busy": "2024-07-02T23:37:03.316504Z",
     "iopub.status.idle": "2024-07-02T23:37:03.504526Z",
     "shell.execute_reply": "2024-07-02T23:37:03.504157Z"
    },
    "slideshow": {
     "slide_type": "fragment"
    }
   },
   "outputs": [
    {
     "data": {
      "text/plain": [
       "[rdflib.term.URIRef('urn:ashrae/g36/4.8/sz-vav-ahu/sz-vav-ahu'),\n",
       " rdflib.term.URIRef('urn:ashrae/g36/4.6/mz-vav-ahu/AHU'),\n",
       " rdflib.term.URIRef('urn:ashrae/g36/5.16/multiple-zone-vav-air-handling-unit/fc-2'),\n",
       " rdflib.term.URIRef('urn:ashrae/g36/5.16/multiple-zone-vav-air-handling-unit/fc-4'),\n",
       " rdflib.term.URIRef('urn:ashrae/g36/5.16/multiple-zone-vav-air-handling-unit/fc-5'),\n",
       " rdflib.term.URIRef('urn:ashrae/g36/5.16/multiple-zone-vav-air-handling-unit/fc-6'),\n",
       " rdflib.term.URIRef('urn:ashrae/g36/5.16/multiple-zone-vav-air-handling-unit/fc-7'),\n",
       " rdflib.term.URIRef('urn:ashrae/g36/5.16/multiple-zone-vav-air-handling-unit/fc-8'),\n",
       " rdflib.term.URIRef('urn:ashrae/g36/5.16/multiple-zone-vav-air-handling-unit/outside_air_fraction')]"
      ]
     },
     "execution_count": 6,
     "metadata": {},
     "output_type": "execute_result"
    }
   ],
   "source": [
    "sc.get_shapes_about_class(BRICK.AHU)"
   ]
  },
  {
   "cell_type": "code",
   "execution_count": 7,
   "id": "87b3d4c7-0aad-4a37-b8a3-291256279197",
   "metadata": {
    "execution": {
     "iopub.execute_input": "2024-07-02T23:37:03.506527Z",
     "iopub.status.busy": "2024-07-02T23:37:03.506365Z",
     "iopub.status.idle": "2024-07-02T23:37:03.682188Z",
     "shell.execute_reply": "2024-07-02T23:37:03.681875Z"
    },
    "slideshow": {
     "slide_type": "fragment"
    }
   },
   "outputs": [
    {
     "data": {
      "text/plain": [
       "[rdflib.term.URIRef('urn:ashrae/g36/4.2/vav-with-reheat/vav-with-reheat')]"
      ]
     },
     "execution_count": 7,
     "metadata": {},
     "output_type": "execute_result"
    }
   ],
   "source": [
    "sc.get_shapes_about_class(BRICK.RVAV)"
   ]
  },
  {
   "cell_type": "markdown",
   "id": "f857bcb3-093f-4ff8-910f-c14570754eee",
   "metadata": {
    "slideshow": {
     "slide_type": "slide"
    }
   },
   "source": [
    "# Write site manifest\n",
    "\n",
    "- write a \"manifest\" to encode our requirements:\n",
    "    - 1 AHU\n",
    "    - 2 RVAVs; should run G36 sequence of operations\n",
    "- this is the *low level* view -- will be abstracted by us and other developers"
   ]
  },
  {
   "cell_type": "code",
   "execution_count": 8,
   "id": "438b50a3-14e1-49f3-b885-4b69458fa82e",
   "metadata": {
    "execution": {
     "iopub.execute_input": "2024-07-02T23:37:03.684199Z",
     "iopub.status.busy": "2024-07-02T23:37:03.684046Z",
     "iopub.status.idle": "2024-07-02T23:37:03.705636Z",
     "shell.execute_reply": "2024-07-02T23:37:03.705234Z"
    },
    "slideshow": {
     "slide_type": "slide"
    }
   },
   "outputs": [],
   "source": [
    "%%bash\n",
    "cat <<EOF > my_site.ttl\n",
    "@prefix brick: <https://brickschema.org/schema/Brick#> .\n",
    "@prefix owl: <http://www.w3.org/2002/07/owl#> .\n",
    "@prefix sh: <http://www.w3.org/ns/shacl#> .\n",
    "@prefix constraint: <https://nrel.gov/BuildingMOTIF/constraints#> .\n",
    "@prefix : <urn:my_site_constraints/> .\n",
    "\n",
    ": a owl:Ontology ;\n",
    "    owl:imports <https://brickschema.org/schema/1.4/Brick> ;\n",
    "    owl:imports <https://nrel.gov/BuildingMOTIF/constraints> ;\n",
    "    owl:imports <urn:ashrae/g36> .\n",
    "\n",
    "# read off of mechanical schedule\n",
    ":vav-count a sh:NodeShape ;\n",
    "    sh:message \"Need 2 VAVs\" ;\n",
    "    sh:targetNode : ; # target *this* graph\n",
    "    constraint:exactCount 2 ;\n",
    "    constraint:class <urn:ashrae/g36/4.2/vav-with-reheat/vav-with-reheat> .\n",
    "\n",
    ":ahu-count a sh:NodeShape ;\n",
    "    sh:message \"Need 1 AHU\" ;\n",
    "    sh:targetNode : ; # target *this* graph\n",
    "    constraint:exactCount 1 ;\n",
    "    constraint:class brick:AHU .\n",
    "EOF"
   ]
  },
  {
   "cell_type": "markdown",
   "id": "e2ca5d73",
   "metadata": {
    "slideshow": {
     "slide_type": "slide"
    }
   },
   "source": [
    "Now we load our manifest into BuildingMOTIF"
   ]
  },
  {
   "cell_type": "code",
   "execution_count": 9,
   "id": "f3c12002-8b29-492a-bf41-d4b9b443b621",
   "metadata": {
    "execution": {
     "iopub.execute_input": "2024-07-02T23:37:03.707683Z",
     "iopub.status.busy": "2024-07-02T23:37:03.707524Z",
     "iopub.status.idle": "2024-07-02T23:37:04.780565Z",
     "shell.execute_reply": "2024-07-02T23:37:04.780194Z"
    },
    "slideshow": {
     "slide_type": "fragment"
    }
   },
   "outputs": [
    {
     "name": "stderr",
     "output_type": "stream",
     "text": [
      "2024-07-02 17:37:04,773 | root |  WARNING: An ontology could not resolve a dependency on urn:ashrae/g36 (No row was found when one was required). Check this is loaded into BuildingMOTIF\n"
     ]
    }
   ],
   "source": [
    "manifest = Library.load(ontology_graph=\"my_site.ttl\")"
   ]
  },
  {
   "cell_type": "markdown",
   "id": "04e9cff0-1e3e-4ddd-aa6c-d3ef81ca737a",
   "metadata": {
    "slideshow": {
     "slide_type": "slide"
    }
   },
   "source": [
    "# Iterative model creation\n",
    "\n",
    "- validate model to determine if it is *semantically sufficient*\n",
    "- if this fails, BuildingMOTIF will use resulting report to help you patch the model"
   ]
  },
  {
   "cell_type": "code",
   "execution_count": 10,
   "id": "408ab010-213f-490b-bf4a-f8f0fdce744c",
   "metadata": {
    "execution": {
     "iopub.execute_input": "2024-07-02T23:37:04.782733Z",
     "iopub.status.busy": "2024-07-02T23:37:04.782597Z",
     "iopub.status.idle": "2024-07-02T23:37:52.464105Z",
     "shell.execute_reply": "2024-07-02T23:37:52.463732Z"
    },
    "slideshow": {
     "slide_type": "fragment"
    },
    "tags": []
   },
   "outputs": [
    {
     "name": "stderr",
     "output_type": "stream",
     "text": [
      "2024-07-02 17:37:05,933 | buildingmotif.dataclasses.shape_collection |  WARNING: Could not resolve import of https://brickschema.org/schema/Brick/ref from Libraries (No row was found when one was required). Trying shape collections\n"
     ]
    },
    {
     "name": "stderr",
     "output_type": "stream",
     "text": [
      "2024-07-02 17:37:05,941 | buildingmotif.dataclasses.shape_collection |  WARNING: Could not resolve import of https://brickschema.org/schema/Brick/ref from Libraries. Trying shape collections\n"
     ]
    },
    {
     "name": "stderr",
     "output_type": "stream",
     "text": [
      "2024-07-02 17:37:05,942 | buildingmotif.dataclasses.shape_collection |  WARNING: Could not resolve import of http://qudt.org/2.1/schema/shacl/overlay/qudt from Libraries (No row was found when one was required). Trying shape collections\n"
     ]
    },
    {
     "name": "stderr",
     "output_type": "stream",
     "text": [
      "2024-07-02 17:37:05,950 | buildingmotif.dataclasses.shape_collection |  WARNING: Could not resolve import of http://qudt.org/2.1/schema/shacl/overlay/qudt from Libraries. Trying shape collections\n"
     ]
    },
    {
     "name": "stderr",
     "output_type": "stream",
     "text": [
      "2024-07-02 17:37:05,950 | buildingmotif.dataclasses.shape_collection |  WARNING: Could not resolve import of http://qudt.org/2.1/schema/facade/qudt from Libraries (No row was found when one was required). Trying shape collections\n"
     ]
    },
    {
     "name": "stderr",
     "output_type": "stream",
     "text": [
      "2024-07-02 17:37:05,958 | buildingmotif.dataclasses.shape_collection |  WARNING: Could not resolve import of http://qudt.org/2.1/schema/facade/qudt from Libraries. Trying shape collections\n"
     ]
    },
    {
     "name": "stderr",
     "output_type": "stream",
     "text": [
      "2024-07-02 17:37:06,978 | buildingmotif.dataclasses.shape_collection |  WARNING: Could not resolve import of http://qudt.org/2.1/vocab/prefix from Libraries (No row was found when one was required). Trying shape collections\n"
     ]
    },
    {
     "name": "stderr",
     "output_type": "stream",
     "text": [
      "2024-07-02 17:37:06,986 | buildingmotif.dataclasses.shape_collection |  WARNING: Could not resolve import of http://qudt.org/2.1/vocab/prefix from Libraries. Trying shape collections\n"
     ]
    },
    {
     "name": "stderr",
     "output_type": "stream",
     "text": [
      "2024-07-02 17:37:06,987 | buildingmotif.dataclasses.shape_collection |  WARNING: Could not resolve import of http://qudt.org/2.1/vocab/sou from Libraries (No row was found when one was required). Trying shape collections\n"
     ]
    },
    {
     "name": "stderr",
     "output_type": "stream",
     "text": [
      "2024-07-02 17:37:06,995 | buildingmotif.dataclasses.shape_collection |  WARNING: Could not resolve import of http://qudt.org/2.1/vocab/sou from Libraries. Trying shape collections\n"
     ]
    },
    {
     "name": "stderr",
     "output_type": "stream",
     "text": [
      "2024-07-02 17:37:07,548 | buildingmotif.dataclasses.shape_collection |  WARNING: Could not resolve import of http://qudt.org/2.1/vocab/dimensionvector from Libraries (No row was found when one was required). Trying shape collections\n"
     ]
    },
    {
     "name": "stderr",
     "output_type": "stream",
     "text": [
      "2024-07-02 17:37:07,557 | buildingmotif.dataclasses.shape_collection |  WARNING: Could not resolve import of http://qudt.org/2.1/vocab/dimensionvector from Libraries. Trying shape collections\n"
     ]
    },
    {
     "name": "stderr",
     "output_type": "stream",
     "text": [
      "2024-07-02 17:37:08,320 | buildingmotif.dataclasses.shape_collection |  WARNING: Could not resolve import of http://qudt.org/2.1/schema/shacl/qudt from Libraries (No row was found when one was required). Trying shape collections\n"
     ]
    },
    {
     "name": "stderr",
     "output_type": "stream",
     "text": [
      "2024-07-02 17:37:08,328 | buildingmotif.dataclasses.shape_collection |  WARNING: Could not resolve import of http://qudt.org/2.1/schema/shacl/qudt from Libraries. Trying shape collections\n"
     ]
    },
    {
     "name": "stderr",
     "output_type": "stream",
     "text": [
      "2024-07-02 17:37:08,328 | buildingmotif.dataclasses.shape_collection |  WARNING: Could not resolve import of https://w3id.org/rec/recimports from Libraries (No row was found when one was required). Trying shape collections\n"
     ]
    },
    {
     "name": "stderr",
     "output_type": "stream",
     "text": [
      "2024-07-02 17:37:08,336 | buildingmotif.dataclasses.shape_collection |  WARNING: Could not resolve import of https://w3id.org/rec/recimports from Libraries. Trying shape collections\n"
     ]
    },
    {
     "name": "stderr",
     "output_type": "stream",
     "text": [
      "2024-07-02 17:37:08,337 | buildingmotif.dataclasses.shape_collection |  WARNING: Could not resolve import of http://data.ashrae.org/bacnet/2020 from Libraries (No row was found when one was required). Trying shape collections\n"
     ]
    },
    {
     "name": "stderr",
     "output_type": "stream",
     "text": [
      "2024-07-02 17:37:08,344 | buildingmotif.dataclasses.shape_collection |  WARNING: Could not resolve import of http://data.ashrae.org/bacnet/2020 from Libraries. Trying shape collections\n"
     ]
    },
    {
     "name": "stderr",
     "output_type": "stream",
     "text": [
      "2024-07-02 17:37:08,345 | buildingmotif.dataclasses.shape_collection |  WARNING: Could not resolve import of http://qudt.org/2.1/collection/usertest from Libraries (No row was found when one was required). Trying shape collections\n"
     ]
    },
    {
     "name": "stderr",
     "output_type": "stream",
     "text": [
      "2024-07-02 17:37:08,352 | buildingmotif.dataclasses.shape_collection |  WARNING: Could not resolve import of http://qudt.org/2.1/collection/usertest from Libraries. Trying shape collections\n"
     ]
    },
    {
     "name": "stderr",
     "output_type": "stream",
     "text": [
      "2024-07-02 17:37:09,739 | buildingmotif.dataclasses.shape_collection |  WARNING: Could not resolve import of urn:ashrae/g36 from Libraries (No row was found when one was required). Trying shape collections\n"
     ]
    },
    {
     "name": "stderr",
     "output_type": "stream",
     "text": [
      "2024-07-02 17:37:09,748 | buildingmotif.dataclasses.shape_collection |  WARNING: Could not resolve import of urn:ashrae/g36 from Libraries. Trying shape collections\n"
     ]
    },
    {
     "name": "stderr",
     "output_type": "stream",
     "text": [
      "2024-07-02 17:37:16,450 | buildingmotif.dataclasses.shape_collection |  WARNING: Could not resolve import of https://brickschema.org/schema/Brick/ref from Libraries (No row was found when one was required). Trying shape collections\n"
     ]
    },
    {
     "name": "stderr",
     "output_type": "stream",
     "text": [
      "2024-07-02 17:37:16,463 | buildingmotif.dataclasses.shape_collection |  WARNING: Could not resolve import of https://brickschema.org/schema/Brick/ref from Libraries. Trying shape collections\n"
     ]
    },
    {
     "name": "stderr",
     "output_type": "stream",
     "text": [
      "2024-07-02 17:37:16,463 | buildingmotif.dataclasses.shape_collection |  WARNING: Could not resolve import of http://qudt.org/2.1/schema/shacl/overlay/qudt from Libraries (No row was found when one was required). Trying shape collections\n"
     ]
    },
    {
     "name": "stderr",
     "output_type": "stream",
     "text": [
      "2024-07-02 17:37:16,474 | buildingmotif.dataclasses.shape_collection |  WARNING: Could not resolve import of http://qudt.org/2.1/schema/shacl/overlay/qudt from Libraries. Trying shape collections\n"
     ]
    },
    {
     "name": "stderr",
     "output_type": "stream",
     "text": [
      "2024-07-02 17:37:16,475 | buildingmotif.dataclasses.shape_collection |  WARNING: Could not resolve import of http://qudt.org/2.1/schema/facade/qudt from Libraries (No row was found when one was required). Trying shape collections\n"
     ]
    },
    {
     "name": "stderr",
     "output_type": "stream",
     "text": [
      "2024-07-02 17:37:16,486 | buildingmotif.dataclasses.shape_collection |  WARNING: Could not resolve import of http://qudt.org/2.1/schema/facade/qudt from Libraries. Trying shape collections\n"
     ]
    },
    {
     "name": "stderr",
     "output_type": "stream",
     "text": [
      "2024-07-02 17:37:17,332 | buildingmotif.dataclasses.shape_collection |  WARNING: Could not resolve import of http://qudt.org/2.1/vocab/prefix from Libraries (No row was found when one was required). Trying shape collections\n"
     ]
    },
    {
     "name": "stderr",
     "output_type": "stream",
     "text": [
      "2024-07-02 17:37:17,344 | buildingmotif.dataclasses.shape_collection |  WARNING: Could not resolve import of http://qudt.org/2.1/vocab/prefix from Libraries. Trying shape collections\n"
     ]
    },
    {
     "name": "stderr",
     "output_type": "stream",
     "text": [
      "2024-07-02 17:37:17,344 | buildingmotif.dataclasses.shape_collection |  WARNING: Could not resolve import of http://qudt.org/2.1/vocab/sou from Libraries (No row was found when one was required). Trying shape collections\n"
     ]
    },
    {
     "name": "stderr",
     "output_type": "stream",
     "text": [
      "2024-07-02 17:37:17,355 | buildingmotif.dataclasses.shape_collection |  WARNING: Could not resolve import of http://qudt.org/2.1/vocab/sou from Libraries. Trying shape collections\n"
     ]
    },
    {
     "name": "stderr",
     "output_type": "stream",
     "text": [
      "2024-07-02 17:37:17,983 | buildingmotif.dataclasses.shape_collection |  WARNING: Could not resolve import of http://qudt.org/2.1/vocab/dimensionvector from Libraries (No row was found when one was required). Trying shape collections\n"
     ]
    },
    {
     "name": "stderr",
     "output_type": "stream",
     "text": [
      "2024-07-02 17:37:17,994 | buildingmotif.dataclasses.shape_collection |  WARNING: Could not resolve import of http://qudt.org/2.1/vocab/dimensionvector from Libraries. Trying shape collections\n"
     ]
    },
    {
     "name": "stderr",
     "output_type": "stream",
     "text": [
      "2024-07-02 17:37:18,860 | buildingmotif.dataclasses.shape_collection |  WARNING: Could not resolve import of http://qudt.org/2.1/schema/shacl/qudt from Libraries (No row was found when one was required). Trying shape collections\n"
     ]
    },
    {
     "name": "stderr",
     "output_type": "stream",
     "text": [
      "2024-07-02 17:37:18,872 | buildingmotif.dataclasses.shape_collection |  WARNING: Could not resolve import of http://qudt.org/2.1/schema/shacl/qudt from Libraries. Trying shape collections\n"
     ]
    },
    {
     "name": "stderr",
     "output_type": "stream",
     "text": [
      "2024-07-02 17:37:18,872 | buildingmotif.dataclasses.shape_collection |  WARNING: Could not resolve import of https://w3id.org/rec/recimports from Libraries (No row was found when one was required). Trying shape collections\n"
     ]
    },
    {
     "name": "stderr",
     "output_type": "stream",
     "text": [
      "2024-07-02 17:37:18,883 | buildingmotif.dataclasses.shape_collection |  WARNING: Could not resolve import of https://w3id.org/rec/recimports from Libraries. Trying shape collections\n"
     ]
    },
    {
     "name": "stderr",
     "output_type": "stream",
     "text": [
      "2024-07-02 17:37:18,884 | buildingmotif.dataclasses.shape_collection |  WARNING: Could not resolve import of http://data.ashrae.org/bacnet/2020 from Libraries (No row was found when one was required). Trying shape collections\n"
     ]
    },
    {
     "name": "stderr",
     "output_type": "stream",
     "text": [
      "2024-07-02 17:37:18,895 | buildingmotif.dataclasses.shape_collection |  WARNING: Could not resolve import of http://data.ashrae.org/bacnet/2020 from Libraries. Trying shape collections\n"
     ]
    },
    {
     "name": "stderr",
     "output_type": "stream",
     "text": [
      "2024-07-02 17:37:18,895 | buildingmotif.dataclasses.shape_collection |  WARNING: Could not resolve import of http://qudt.org/2.1/collection/usertest from Libraries (No row was found when one was required). Trying shape collections\n"
     ]
    },
    {
     "name": "stderr",
     "output_type": "stream",
     "text": [
      "2024-07-02 17:37:18,906 | buildingmotif.dataclasses.shape_collection |  WARNING: Could not resolve import of http://qudt.org/2.1/collection/usertest from Libraries. Trying shape collections\n"
     ]
    },
    {
     "name": "stderr",
     "output_type": "stream",
     "text": [
      "2024-07-02 17:37:26,513 | buildingmotif.dataclasses.shape_collection |  WARNING: Could not resolve import of https://brickschema.org/schema/Brick/ref from Libraries (No row was found when one was required). Trying shape collections\n"
     ]
    },
    {
     "name": "stderr",
     "output_type": "stream",
     "text": [
      "2024-07-02 17:37:26,527 | buildingmotif.dataclasses.shape_collection |  WARNING: Could not resolve import of https://brickschema.org/schema/Brick/ref from Libraries. Trying shape collections\n"
     ]
    },
    {
     "name": "stderr",
     "output_type": "stream",
     "text": [
      "2024-07-02 17:37:26,527 | buildingmotif.dataclasses.shape_collection |  WARNING: Could not resolve import of http://qudt.org/2.1/schema/shacl/overlay/qudt from Libraries (No row was found when one was required). Trying shape collections\n"
     ]
    },
    {
     "name": "stderr",
     "output_type": "stream",
     "text": [
      "2024-07-02 17:37:26,541 | buildingmotif.dataclasses.shape_collection |  WARNING: Could not resolve import of http://qudt.org/2.1/schema/shacl/overlay/qudt from Libraries. Trying shape collections\n"
     ]
    },
    {
     "name": "stderr",
     "output_type": "stream",
     "text": [
      "2024-07-02 17:37:26,542 | buildingmotif.dataclasses.shape_collection |  WARNING: Could not resolve import of http://qudt.org/2.1/schema/facade/qudt from Libraries (No row was found when one was required). Trying shape collections\n"
     ]
    },
    {
     "name": "stderr",
     "output_type": "stream",
     "text": [
      "2024-07-02 17:37:26,555 | buildingmotif.dataclasses.shape_collection |  WARNING: Could not resolve import of http://qudt.org/2.1/schema/facade/qudt from Libraries. Trying shape collections\n"
     ]
    },
    {
     "name": "stderr",
     "output_type": "stream",
     "text": [
      "2024-07-02 17:37:27,432 | buildingmotif.dataclasses.shape_collection |  WARNING: Could not resolve import of http://qudt.org/2.1/vocab/prefix from Libraries (No row was found when one was required). Trying shape collections\n"
     ]
    },
    {
     "name": "stderr",
     "output_type": "stream",
     "text": [
      "2024-07-02 17:37:27,447 | buildingmotif.dataclasses.shape_collection |  WARNING: Could not resolve import of http://qudt.org/2.1/vocab/prefix from Libraries. Trying shape collections\n"
     ]
    },
    {
     "name": "stderr",
     "output_type": "stream",
     "text": [
      "2024-07-02 17:37:27,448 | buildingmotif.dataclasses.shape_collection |  WARNING: Could not resolve import of http://qudt.org/2.1/vocab/sou from Libraries (No row was found when one was required). Trying shape collections\n"
     ]
    },
    {
     "name": "stderr",
     "output_type": "stream",
     "text": [
      "2024-07-02 17:37:27,462 | buildingmotif.dataclasses.shape_collection |  WARNING: Could not resolve import of http://qudt.org/2.1/vocab/sou from Libraries. Trying shape collections\n"
     ]
    },
    {
     "name": "stderr",
     "output_type": "stream",
     "text": [
      "2024-07-02 17:37:28,101 | buildingmotif.dataclasses.shape_collection |  WARNING: Could not resolve import of http://qudt.org/2.1/vocab/dimensionvector from Libraries (No row was found when one was required). Trying shape collections\n"
     ]
    },
    {
     "name": "stderr",
     "output_type": "stream",
     "text": [
      "2024-07-02 17:37:28,115 | buildingmotif.dataclasses.shape_collection |  WARNING: Could not resolve import of http://qudt.org/2.1/vocab/dimensionvector from Libraries. Trying shape collections\n"
     ]
    },
    {
     "name": "stderr",
     "output_type": "stream",
     "text": [
      "2024-07-02 17:37:29,025 | buildingmotif.dataclasses.shape_collection |  WARNING: Could not resolve import of http://qudt.org/2.1/schema/shacl/qudt from Libraries (No row was found when one was required). Trying shape collections\n"
     ]
    },
    {
     "name": "stderr",
     "output_type": "stream",
     "text": [
      "2024-07-02 17:37:29,040 | buildingmotif.dataclasses.shape_collection |  WARNING: Could not resolve import of http://qudt.org/2.1/schema/shacl/qudt from Libraries. Trying shape collections\n"
     ]
    },
    {
     "name": "stderr",
     "output_type": "stream",
     "text": [
      "2024-07-02 17:37:29,041 | buildingmotif.dataclasses.shape_collection |  WARNING: Could not resolve import of https://w3id.org/rec/recimports from Libraries (No row was found when one was required). Trying shape collections\n"
     ]
    },
    {
     "name": "stderr",
     "output_type": "stream",
     "text": [
      "2024-07-02 17:37:29,054 | buildingmotif.dataclasses.shape_collection |  WARNING: Could not resolve import of https://w3id.org/rec/recimports from Libraries. Trying shape collections\n"
     ]
    },
    {
     "name": "stderr",
     "output_type": "stream",
     "text": [
      "2024-07-02 17:37:29,055 | buildingmotif.dataclasses.shape_collection |  WARNING: Could not resolve import of http://data.ashrae.org/bacnet/2020 from Libraries (No row was found when one was required). Trying shape collections\n"
     ]
    },
    {
     "name": "stderr",
     "output_type": "stream",
     "text": [
      "2024-07-02 17:37:29,068 | buildingmotif.dataclasses.shape_collection |  WARNING: Could not resolve import of http://data.ashrae.org/bacnet/2020 from Libraries. Trying shape collections\n"
     ]
    },
    {
     "name": "stderr",
     "output_type": "stream",
     "text": [
      "2024-07-02 17:37:29,068 | buildingmotif.dataclasses.shape_collection |  WARNING: Could not resolve import of http://qudt.org/2.1/collection/usertest from Libraries (No row was found when one was required). Trying shape collections\n"
     ]
    },
    {
     "name": "stderr",
     "output_type": "stream",
     "text": [
      "2024-07-02 17:37:29,081 | buildingmotif.dataclasses.shape_collection |  WARNING: Could not resolve import of http://qudt.org/2.1/collection/usertest from Libraries. Trying shape collections\n"
     ]
    },
    {
     "name": "stdout",
     "output_type": "stream",
     "text": [
      "Model is valid? False\n",
      "Reasons why:\n"
     ]
    },
    {
     "name": "stdout",
     "output_type": "stream",
     "text": [
      "None\n",
      "  - Graph did not have 2 instances of urn:ashrae/g36/4.2/vav-with-reheat/vav-with-reheat\n",
      "  - Graph did not have 1 instances of https://brickschema.org/schema/Brick#AHU\n"
     ]
    }
   ],
   "source": [
    "# pass our collections of shapes in to validate the model\n",
    "ctx = model.validate([manifest.get_shape_collection(), constraints.get_shape_collection(), \n",
    "                      g36.get_shape_collection(), brick.get_shape_collection()], error_on_missing_imports=False)\n",
    "print(f\"Model is valid? {ctx.valid}\")\n",
    "# higher-level descriptions of each of the violations\n",
    "print(\"Reasons why:\")\n",
    "for focus_node, diffs in ctx.diffset.items():\n",
    "    print(focus_node)\n",
    "    for diff in diffs:\n",
    "        print(\"  - \" + diff.reason())"
   ]
  },
  {
   "cell_type": "markdown",
   "id": "3e86d1e7",
   "metadata": {
    "slideshow": {
     "slide_type": "slide"
    }
   },
   "source": [
    "- some constraints can be interpreted by BuildingMOTIF\n",
    "- BuildingMOTIF identifies common patterns\n",
    "    - presents these as new templates to the user\n",
    "    - templates provide structure to input from user/other software"
   ]
  },
  {
   "cell_type": "code",
   "execution_count": null,
   "id": "ba0e0d86-ee09-4706-bce8-4b78e3154421",
   "metadata": {
    "slideshow": {
     "slide_type": "slide"
    },
    "tags": [
     "skip-execution"
    ]
   },
   "outputs": [],
   "source": [
    "generated_templates = ctx.as_templates()\n",
    "print(generated_templates)\n",
    "for t in generated_templates:\n",
    "    print('-'*80)\n",
    "    print(t.body.serialize())\n",
    "    ident = input(\"Give value for 'name' in the above template: \")\n",
    "    model.add_graph(t.evaluate({\"name\": BLDG[ident]}))"
   ]
  },
  {
   "cell_type": "code",
   "execution_count": 11,
   "id": "44d28250-b7d1-4ef4-a847-2307aa4bbd2a",
   "metadata": {
    "execution": {
     "iopub.execute_input": "2024-07-02T23:37:52.466759Z",
     "iopub.status.busy": "2024-07-02T23:37:52.466592Z",
     "iopub.status.idle": "2024-07-02T23:37:52.480700Z",
     "shell.execute_reply": "2024-07-02T23:37:52.480361Z"
    },
    "slideshow": {
     "slide_type": "slide"
    }
   },
   "outputs": [
    {
     "name": "stdout",
     "output_type": "stream",
     "text": [
      "@prefix owl: <http://www.w3.org/2002/07/owl#> .\n",
      "\n",
      "<urn:my_site/> a owl:Ontology .\n",
      "\n",
      "\n"
     ]
    }
   ],
   "source": [
    "# now we can look at our model ( so far )\n",
    "print(model.graph.serialize())"
   ]
  },
  {
   "cell_type": "code",
   "execution_count": 12,
   "id": "0e2eb3b2-b37a-465a-b091-ac41007f0201",
   "metadata": {
    "execution": {
     "iopub.execute_input": "2024-07-02T23:37:52.482690Z",
     "iopub.status.busy": "2024-07-02T23:37:52.482546Z",
     "iopub.status.idle": "2024-07-02T23:38:49.597591Z",
     "shell.execute_reply": "2024-07-02T23:38:49.596874Z"
    },
    "slideshow": {
     "slide_type": "slide"
    }
   },
   "outputs": [
    {
     "name": "stderr",
     "output_type": "stream",
     "text": [
      "2024-07-02 17:37:53,702 | buildingmotif.dataclasses.shape_collection |  WARNING: Could not resolve import of https://brickschema.org/schema/Brick/ref from Libraries (No row was found when one was required). Trying shape collections\n"
     ]
    },
    {
     "name": "stderr",
     "output_type": "stream",
     "text": [
      "2024-07-02 17:37:53,719 | buildingmotif.dataclasses.shape_collection |  WARNING: Could not resolve import of https://brickschema.org/schema/Brick/ref from Libraries. Trying shape collections\n"
     ]
    },
    {
     "name": "stderr",
     "output_type": "stream",
     "text": [
      "2024-07-02 17:37:53,720 | buildingmotif.dataclasses.shape_collection |  WARNING: Could not resolve import of http://qudt.org/2.1/schema/shacl/overlay/qudt from Libraries (No row was found when one was required). Trying shape collections\n"
     ]
    },
    {
     "name": "stderr",
     "output_type": "stream",
     "text": [
      "2024-07-02 17:37:53,736 | buildingmotif.dataclasses.shape_collection |  WARNING: Could not resolve import of http://qudt.org/2.1/schema/shacl/overlay/qudt from Libraries. Trying shape collections\n"
     ]
    },
    {
     "name": "stderr",
     "output_type": "stream",
     "text": [
      "2024-07-02 17:37:53,737 | buildingmotif.dataclasses.shape_collection |  WARNING: Could not resolve import of http://qudt.org/2.1/schema/facade/qudt from Libraries (No row was found when one was required). Trying shape collections\n"
     ]
    },
    {
     "name": "stderr",
     "output_type": "stream",
     "text": [
      "2024-07-02 17:37:53,752 | buildingmotif.dataclasses.shape_collection |  WARNING: Could not resolve import of http://qudt.org/2.1/schema/facade/qudt from Libraries. Trying shape collections\n"
     ]
    },
    {
     "name": "stderr",
     "output_type": "stream",
     "text": [
      "2024-07-02 17:37:55,834 | buildingmotif.dataclasses.shape_collection |  WARNING: Could not resolve import of http://qudt.org/2.1/vocab/prefix from Libraries (No row was found when one was required). Trying shape collections\n"
     ]
    },
    {
     "name": "stderr",
     "output_type": "stream",
     "text": [
      "2024-07-02 17:37:55,850 | buildingmotif.dataclasses.shape_collection |  WARNING: Could not resolve import of http://qudt.org/2.1/vocab/prefix from Libraries. Trying shape collections\n"
     ]
    },
    {
     "name": "stderr",
     "output_type": "stream",
     "text": [
      "2024-07-02 17:37:55,851 | buildingmotif.dataclasses.shape_collection |  WARNING: Could not resolve import of http://qudt.org/2.1/vocab/sou from Libraries (No row was found when one was required). Trying shape collections\n"
     ]
    },
    {
     "name": "stderr",
     "output_type": "stream",
     "text": [
      "2024-07-02 17:37:55,866 | buildingmotif.dataclasses.shape_collection |  WARNING: Could not resolve import of http://qudt.org/2.1/vocab/sou from Libraries. Trying shape collections\n"
     ]
    },
    {
     "name": "stderr",
     "output_type": "stream",
     "text": [
      "2024-07-02 17:37:56,252 | buildingmotif.dataclasses.shape_collection |  WARNING: Could not resolve import of http://qudt.org/2.1/vocab/dimensionvector from Libraries (No row was found when one was required). Trying shape collections\n"
     ]
    },
    {
     "name": "stderr",
     "output_type": "stream",
     "text": [
      "2024-07-02 17:37:56,268 | buildingmotif.dataclasses.shape_collection |  WARNING: Could not resolve import of http://qudt.org/2.1/vocab/dimensionvector from Libraries. Trying shape collections\n"
     ]
    },
    {
     "name": "stderr",
     "output_type": "stream",
     "text": [
      "2024-07-02 17:37:57,596 | buildingmotif.dataclasses.shape_collection |  WARNING: Could not resolve import of http://qudt.org/2.1/schema/shacl/qudt from Libraries (No row was found when one was required). Trying shape collections\n"
     ]
    },
    {
     "name": "stderr",
     "output_type": "stream",
     "text": [
      "2024-07-02 17:37:57,613 | buildingmotif.dataclasses.shape_collection |  WARNING: Could not resolve import of http://qudt.org/2.1/schema/shacl/qudt from Libraries. Trying shape collections\n"
     ]
    },
    {
     "name": "stderr",
     "output_type": "stream",
     "text": [
      "2024-07-02 17:37:57,614 | buildingmotif.dataclasses.shape_collection |  WARNING: Could not resolve import of https://w3id.org/rec/recimports from Libraries (No row was found when one was required). Trying shape collections\n"
     ]
    },
    {
     "name": "stderr",
     "output_type": "stream",
     "text": [
      "2024-07-02 17:37:57,630 | buildingmotif.dataclasses.shape_collection |  WARNING: Could not resolve import of https://w3id.org/rec/recimports from Libraries. Trying shape collections\n"
     ]
    },
    {
     "name": "stderr",
     "output_type": "stream",
     "text": [
      "2024-07-02 17:37:57,631 | buildingmotif.dataclasses.shape_collection |  WARNING: Could not resolve import of http://data.ashrae.org/bacnet/2020 from Libraries (No row was found when one was required). Trying shape collections\n"
     ]
    },
    {
     "name": "stderr",
     "output_type": "stream",
     "text": [
      "2024-07-02 17:37:57,646 | buildingmotif.dataclasses.shape_collection |  WARNING: Could not resolve import of http://data.ashrae.org/bacnet/2020 from Libraries. Trying shape collections\n"
     ]
    },
    {
     "name": "stderr",
     "output_type": "stream",
     "text": [
      "2024-07-02 17:37:57,647 | buildingmotif.dataclasses.shape_collection |  WARNING: Could not resolve import of http://qudt.org/2.1/collection/usertest from Libraries (No row was found when one was required). Trying shape collections\n"
     ]
    },
    {
     "name": "stderr",
     "output_type": "stream",
     "text": [
      "2024-07-02 17:37:57,663 | buildingmotif.dataclasses.shape_collection |  WARNING: Could not resolve import of http://qudt.org/2.1/collection/usertest from Libraries. Trying shape collections\n"
     ]
    },
    {
     "name": "stderr",
     "output_type": "stream",
     "text": [
      "2024-07-02 17:37:59,193 | buildingmotif.dataclasses.shape_collection |  WARNING: Could not resolve import of urn:ashrae/g36 from Libraries (No row was found when one was required). Trying shape collections\n"
     ]
    },
    {
     "name": "stderr",
     "output_type": "stream",
     "text": [
      "2024-07-02 17:37:59,201 | buildingmotif.dataclasses.shape_collection |  WARNING: Could not resolve import of urn:ashrae/g36 from Libraries. Trying shape collections\n"
     ]
    },
    {
     "name": "stderr",
     "output_type": "stream",
     "text": [
      "2024-07-02 17:38:07,557 | buildingmotif.dataclasses.shape_collection |  WARNING: Could not resolve import of https://brickschema.org/schema/Brick/ref from Libraries (No row was found when one was required). Trying shape collections\n"
     ]
    },
    {
     "name": "stderr",
     "output_type": "stream",
     "text": [
      "2024-07-02 17:38:07,577 | buildingmotif.dataclasses.shape_collection |  WARNING: Could not resolve import of https://brickschema.org/schema/Brick/ref from Libraries. Trying shape collections\n"
     ]
    },
    {
     "name": "stderr",
     "output_type": "stream",
     "text": [
      "2024-07-02 17:38:07,577 | buildingmotif.dataclasses.shape_collection |  WARNING: Could not resolve import of http://qudt.org/2.1/schema/shacl/overlay/qudt from Libraries (No row was found when one was required). Trying shape collections\n"
     ]
    },
    {
     "name": "stderr",
     "output_type": "stream",
     "text": [
      "2024-07-02 17:38:07,596 | buildingmotif.dataclasses.shape_collection |  WARNING: Could not resolve import of http://qudt.org/2.1/schema/shacl/overlay/qudt from Libraries. Trying shape collections\n"
     ]
    },
    {
     "name": "stderr",
     "output_type": "stream",
     "text": [
      "2024-07-02 17:38:07,597 | buildingmotif.dataclasses.shape_collection |  WARNING: Could not resolve import of http://qudt.org/2.1/schema/facade/qudt from Libraries (No row was found when one was required). Trying shape collections\n"
     ]
    },
    {
     "name": "stderr",
     "output_type": "stream",
     "text": [
      "2024-07-02 17:38:07,616 | buildingmotif.dataclasses.shape_collection |  WARNING: Could not resolve import of http://qudt.org/2.1/schema/facade/qudt from Libraries. Trying shape collections\n"
     ]
    },
    {
     "name": "stderr",
     "output_type": "stream",
     "text": [
      "2024-07-02 17:38:09,027 | buildingmotif.dataclasses.shape_collection |  WARNING: Could not resolve import of http://qudt.org/2.1/vocab/prefix from Libraries (No row was found when one was required). Trying shape collections\n"
     ]
    },
    {
     "name": "stderr",
     "output_type": "stream",
     "text": [
      "2024-07-02 17:38:09,047 | buildingmotif.dataclasses.shape_collection |  WARNING: Could not resolve import of http://qudt.org/2.1/vocab/prefix from Libraries. Trying shape collections\n"
     ]
    },
    {
     "name": "stderr",
     "output_type": "stream",
     "text": [
      "2024-07-02 17:38:09,047 | buildingmotif.dataclasses.shape_collection |  WARNING: Could not resolve import of http://qudt.org/2.1/vocab/sou from Libraries (No row was found when one was required). Trying shape collections\n"
     ]
    },
    {
     "name": "stderr",
     "output_type": "stream",
     "text": [
      "2024-07-02 17:38:09,066 | buildingmotif.dataclasses.shape_collection |  WARNING: Could not resolve import of http://qudt.org/2.1/vocab/sou from Libraries. Trying shape collections\n"
     ]
    },
    {
     "name": "stderr",
     "output_type": "stream",
     "text": [
      "2024-07-02 17:38:10,175 | buildingmotif.dataclasses.shape_collection |  WARNING: Could not resolve import of http://qudt.org/2.1/vocab/dimensionvector from Libraries (No row was found when one was required). Trying shape collections\n"
     ]
    },
    {
     "name": "stderr",
     "output_type": "stream",
     "text": [
      "2024-07-02 17:38:10,195 | buildingmotif.dataclasses.shape_collection |  WARNING: Could not resolve import of http://qudt.org/2.1/vocab/dimensionvector from Libraries. Trying shape collections\n"
     ]
    },
    {
     "name": "stderr",
     "output_type": "stream",
     "text": [
      "2024-07-02 17:38:10,792 | buildingmotif.dataclasses.shape_collection |  WARNING: Could not resolve import of http://qudt.org/2.1/schema/shacl/qudt from Libraries (No row was found when one was required). Trying shape collections\n"
     ]
    },
    {
     "name": "stderr",
     "output_type": "stream",
     "text": [
      "2024-07-02 17:38:10,812 | buildingmotif.dataclasses.shape_collection |  WARNING: Could not resolve import of http://qudt.org/2.1/schema/shacl/qudt from Libraries. Trying shape collections\n"
     ]
    },
    {
     "name": "stderr",
     "output_type": "stream",
     "text": [
      "2024-07-02 17:38:10,813 | buildingmotif.dataclasses.shape_collection |  WARNING: Could not resolve import of https://w3id.org/rec/recimports from Libraries (No row was found when one was required). Trying shape collections\n"
     ]
    },
    {
     "name": "stderr",
     "output_type": "stream",
     "text": [
      "2024-07-02 17:38:10,831 | buildingmotif.dataclasses.shape_collection |  WARNING: Could not resolve import of https://w3id.org/rec/recimports from Libraries. Trying shape collections\n"
     ]
    },
    {
     "name": "stderr",
     "output_type": "stream",
     "text": [
      "2024-07-02 17:38:10,832 | buildingmotif.dataclasses.shape_collection |  WARNING: Could not resolve import of http://data.ashrae.org/bacnet/2020 from Libraries (No row was found when one was required). Trying shape collections\n"
     ]
    },
    {
     "name": "stderr",
     "output_type": "stream",
     "text": [
      "2024-07-02 17:38:10,850 | buildingmotif.dataclasses.shape_collection |  WARNING: Could not resolve import of http://data.ashrae.org/bacnet/2020 from Libraries. Trying shape collections\n"
     ]
    },
    {
     "name": "stderr",
     "output_type": "stream",
     "text": [
      "2024-07-02 17:38:10,851 | buildingmotif.dataclasses.shape_collection |  WARNING: Could not resolve import of http://qudt.org/2.1/collection/usertest from Libraries (No row was found when one was required). Trying shape collections\n"
     ]
    },
    {
     "name": "stderr",
     "output_type": "stream",
     "text": [
      "2024-07-02 17:38:10,870 | buildingmotif.dataclasses.shape_collection |  WARNING: Could not resolve import of http://qudt.org/2.1/collection/usertest from Libraries. Trying shape collections\n"
     ]
    },
    {
     "name": "stderr",
     "output_type": "stream",
     "text": [
      "2024-07-02 17:38:20,153 | buildingmotif.dataclasses.shape_collection |  WARNING: Could not resolve import of https://brickschema.org/schema/Brick/ref from Libraries (No row was found when one was required). Trying shape collections\n"
     ]
    },
    {
     "name": "stderr",
     "output_type": "stream",
     "text": [
      "2024-07-02 17:38:20,176 | buildingmotif.dataclasses.shape_collection |  WARNING: Could not resolve import of https://brickschema.org/schema/Brick/ref from Libraries. Trying shape collections\n"
     ]
    },
    {
     "name": "stderr",
     "output_type": "stream",
     "text": [
      "2024-07-02 17:38:20,176 | buildingmotif.dataclasses.shape_collection |  WARNING: Could not resolve import of http://qudt.org/2.1/schema/shacl/overlay/qudt from Libraries (No row was found when one was required). Trying shape collections\n"
     ]
    },
    {
     "name": "stderr",
     "output_type": "stream",
     "text": [
      "2024-07-02 17:38:20,198 | buildingmotif.dataclasses.shape_collection |  WARNING: Could not resolve import of http://qudt.org/2.1/schema/shacl/overlay/qudt from Libraries. Trying shape collections\n"
     ]
    },
    {
     "name": "stderr",
     "output_type": "stream",
     "text": [
      "2024-07-02 17:38:20,198 | buildingmotif.dataclasses.shape_collection |  WARNING: Could not resolve import of http://qudt.org/2.1/schema/facade/qudt from Libraries (No row was found when one was required). Trying shape collections\n"
     ]
    },
    {
     "name": "stderr",
     "output_type": "stream",
     "text": [
      "2024-07-02 17:38:20,219 | buildingmotif.dataclasses.shape_collection |  WARNING: Could not resolve import of http://qudt.org/2.1/schema/facade/qudt from Libraries. Trying shape collections\n"
     ]
    },
    {
     "name": "stderr",
     "output_type": "stream",
     "text": [
      "2024-07-02 17:38:20,874 | buildingmotif.dataclasses.shape_collection |  WARNING: Could not resolve import of http://qudt.org/2.1/vocab/prefix from Libraries (No row was found when one was required). Trying shape collections\n"
     ]
    },
    {
     "name": "stderr",
     "output_type": "stream",
     "text": [
      "2024-07-02 17:38:20,896 | buildingmotif.dataclasses.shape_collection |  WARNING: Could not resolve import of http://qudt.org/2.1/vocab/prefix from Libraries. Trying shape collections\n"
     ]
    },
    {
     "name": "stderr",
     "output_type": "stream",
     "text": [
      "2024-07-02 17:38:20,896 | buildingmotif.dataclasses.shape_collection |  WARNING: Could not resolve import of http://qudt.org/2.1/vocab/sou from Libraries (No row was found when one was required). Trying shape collections\n"
     ]
    },
    {
     "name": "stderr",
     "output_type": "stream",
     "text": [
      "2024-07-02 17:38:20,917 | buildingmotif.dataclasses.shape_collection |  WARNING: Could not resolve import of http://qudt.org/2.1/vocab/sou from Libraries. Trying shape collections\n"
     ]
    },
    {
     "name": "stderr",
     "output_type": "stream",
     "text": [
      "2024-07-02 17:38:22,138 | buildingmotif.dataclasses.shape_collection |  WARNING: Could not resolve import of http://qudt.org/2.1/vocab/dimensionvector from Libraries (No row was found when one was required). Trying shape collections\n"
     ]
    },
    {
     "name": "stderr",
     "output_type": "stream",
     "text": [
      "2024-07-02 17:38:22,160 | buildingmotif.dataclasses.shape_collection |  WARNING: Could not resolve import of http://qudt.org/2.1/vocab/dimensionvector from Libraries. Trying shape collections\n"
     ]
    },
    {
     "name": "stderr",
     "output_type": "stream",
     "text": [
      "2024-07-02 17:38:23,791 | buildingmotif.dataclasses.shape_collection |  WARNING: Could not resolve import of http://qudt.org/2.1/schema/shacl/qudt from Libraries (No row was found when one was required). Trying shape collections\n"
     ]
    },
    {
     "name": "stderr",
     "output_type": "stream",
     "text": [
      "2024-07-02 17:38:23,814 | buildingmotif.dataclasses.shape_collection |  WARNING: Could not resolve import of http://qudt.org/2.1/schema/shacl/qudt from Libraries. Trying shape collections\n"
     ]
    },
    {
     "name": "stderr",
     "output_type": "stream",
     "text": [
      "2024-07-02 17:38:23,814 | buildingmotif.dataclasses.shape_collection |  WARNING: Could not resolve import of https://w3id.org/rec/recimports from Libraries (No row was found when one was required). Trying shape collections\n"
     ]
    },
    {
     "name": "stderr",
     "output_type": "stream",
     "text": [
      "2024-07-02 17:38:23,836 | buildingmotif.dataclasses.shape_collection |  WARNING: Could not resolve import of https://w3id.org/rec/recimports from Libraries. Trying shape collections\n"
     ]
    },
    {
     "name": "stderr",
     "output_type": "stream",
     "text": [
      "2024-07-02 17:38:23,836 | buildingmotif.dataclasses.shape_collection |  WARNING: Could not resolve import of http://data.ashrae.org/bacnet/2020 from Libraries (No row was found when one was required). Trying shape collections\n"
     ]
    },
    {
     "name": "stderr",
     "output_type": "stream",
     "text": [
      "2024-07-02 17:38:23,858 | buildingmotif.dataclasses.shape_collection |  WARNING: Could not resolve import of http://data.ashrae.org/bacnet/2020 from Libraries. Trying shape collections\n"
     ]
    },
    {
     "name": "stderr",
     "output_type": "stream",
     "text": [
      "2024-07-02 17:38:23,858 | buildingmotif.dataclasses.shape_collection |  WARNING: Could not resolve import of http://qudt.org/2.1/collection/usertest from Libraries (No row was found when one was required). Trying shape collections\n"
     ]
    },
    {
     "name": "stderr",
     "output_type": "stream",
     "text": [
      "2024-07-02 17:38:23,879 | buildingmotif.dataclasses.shape_collection |  WARNING: Could not resolve import of http://qudt.org/2.1/collection/usertest from Libraries. Trying shape collections\n"
     ]
    },
    {
     "name": "stdout",
     "output_type": "stream",
     "text": [
      "Model is valid? False\n",
      "Reasons why:\n"
     ]
    },
    {
     "name": "stdout",
     "output_type": "stream",
     "text": [
      "None\n",
      "  - Graph did not have 1 instances of https://brickschema.org/schema/Brick#AHU\n",
      "  - Graph did not have 2 instances of urn:ashrae/g36/4.2/vav-with-reheat/vav-with-reheat\n"
     ]
    }
   ],
   "source": [
    "# validate it again!\n",
    "ctx = model.validate([manifest.get_shape_collection(), constraints.get_shape_collection(), g36.get_shape_collection(), brick.get_shape_collection()], error_on_missing_imports=False)\n",
    "print(f\"Model is valid? {ctx.valid}\")\n",
    "print(\"Reasons why:\")\n",
    "for focus_node, diffs in ctx.diffset.items():\n",
    "    print(focus_node)\n",
    "    for diff in diffs:\n",
    "        print(\"  - \" + diff.reason())"
   ]
  },
  {
   "cell_type": "markdown",
   "id": "bb8f66da",
   "metadata": {
    "slideshow": {
     "slide_type": "slide"
    }
   },
   "source": [
    "- model is still failing, so we ask BuildingMOTIF for more feedback\n",
    "- ask user for more inputs on some of the missing sensors"
   ]
  },
  {
   "cell_type": "raw",
   "id": "cc0b265a-02a3-4946-a41b-97fabd1766a6",
   "metadata": {
    "slideshow": {
     "slide_type": "fragment"
    },
    "tags": [
     "skip-execution"
    ]
   },
   "source": [
    "generated_templates = ctx.as_templates()\n",
    "for t in generated_templates:\n",
    "    print('-'*80)\n",
    "    print(t.body.serialize())\n",
    "    bindings = {}\n",
    "    for param in t.parameters:\n",
    "        ident = input(f\"Give value for '{param}' in the above template: \")\n",
    "        bindings[param] = BLDG[ident]\n",
    "    model.add_graph(t.evaluate(bindings))"
   ]
  },
  {
   "cell_type": "markdown",
   "id": "01cff591",
   "metadata": {
    "slideshow": {
     "slide_type": "slide"
    }
   },
   "source": [
    "- BuildingMOTIF can add missing metadata automatically\n",
    "    - if unambiguous (true for some constraints)\n",
    "    - otherwise, attempt \"autocomplete\" from existing model"
   ]
  },
  {
   "cell_type": "code",
   "execution_count": 13,
   "id": "b36ece06-8325-4346-9ba1-00cf11fb8ac2",
   "metadata": {
    "execution": {
     "iopub.execute_input": "2024-07-02T23:38:49.601327Z",
     "iopub.status.busy": "2024-07-02T23:38:49.600839Z",
     "iopub.status.idle": "2024-07-02T23:38:49.607950Z",
     "shell.execute_reply": "2024-07-02T23:38:49.607576Z"
    },
    "slideshow": {
     "slide_type": "fragment"
    }
   },
   "outputs": [
    {
     "name": "stdout",
     "output_type": "stream",
     "text": [
      "@prefix owl: <http://www.w3.org/2002/07/owl#> .\n",
      "\n",
      "<urn:my_site/> a owl:Ontology .\n",
      "\n",
      "\n"
     ]
    }
   ],
   "source": [
    "print(model.graph.serialize())"
   ]
  },
  {
   "cell_type": "code",
   "execution_count": 14,
   "id": "020e1c94-c20c-46e1-a400-b717f8ab679b",
   "metadata": {
    "execution": {
     "iopub.execute_input": "2024-07-02T23:38:49.609871Z",
     "iopub.status.busy": "2024-07-02T23:38:49.609728Z",
     "iopub.status.idle": "2024-07-02T23:39:48.080750Z",
     "shell.execute_reply": "2024-07-02T23:39:48.080404Z"
    },
    "slideshow": {
     "slide_type": "slide"
    }
   },
   "outputs": [
    {
     "name": "stderr",
     "output_type": "stream",
     "text": [
      "2024-07-02 17:38:51,962 | buildingmotif.dataclasses.shape_collection |  WARNING: Could not resolve import of https://brickschema.org/schema/Brick/ref from Libraries (No row was found when one was required). Trying shape collections\n"
     ]
    },
    {
     "name": "stderr",
     "output_type": "stream",
     "text": [
      "2024-07-02 17:38:51,987 | buildingmotif.dataclasses.shape_collection |  WARNING: Could not resolve import of https://brickschema.org/schema/Brick/ref from Libraries. Trying shape collections\n"
     ]
    },
    {
     "name": "stderr",
     "output_type": "stream",
     "text": [
      "2024-07-02 17:38:51,988 | buildingmotif.dataclasses.shape_collection |  WARNING: Could not resolve import of http://qudt.org/2.1/schema/shacl/overlay/qudt from Libraries (No row was found when one was required). Trying shape collections\n"
     ]
    },
    {
     "name": "stderr",
     "output_type": "stream",
     "text": [
      "2024-07-02 17:38:52,011 | buildingmotif.dataclasses.shape_collection |  WARNING: Could not resolve import of http://qudt.org/2.1/schema/shacl/overlay/qudt from Libraries. Trying shape collections\n"
     ]
    },
    {
     "name": "stderr",
     "output_type": "stream",
     "text": [
      "2024-07-02 17:38:52,012 | buildingmotif.dataclasses.shape_collection |  WARNING: Could not resolve import of http://qudt.org/2.1/schema/facade/qudt from Libraries (No row was found when one was required). Trying shape collections\n"
     ]
    },
    {
     "name": "stderr",
     "output_type": "stream",
     "text": [
      "2024-07-02 17:38:52,036 | buildingmotif.dataclasses.shape_collection |  WARNING: Could not resolve import of http://qudt.org/2.1/schema/facade/qudt from Libraries. Trying shape collections\n"
     ]
    },
    {
     "name": "stderr",
     "output_type": "stream",
     "text": [
      "2024-07-02 17:38:53,612 | buildingmotif.dataclasses.shape_collection |  WARNING: Could not resolve import of http://qudt.org/2.1/vocab/prefix from Libraries (No row was found when one was required). Trying shape collections\n"
     ]
    },
    {
     "name": "stderr",
     "output_type": "stream",
     "text": [
      "2024-07-02 17:38:53,638 | buildingmotif.dataclasses.shape_collection |  WARNING: Could not resolve import of http://qudt.org/2.1/vocab/prefix from Libraries. Trying shape collections\n"
     ]
    },
    {
     "name": "stderr",
     "output_type": "stream",
     "text": [
      "2024-07-02 17:38:53,638 | buildingmotif.dataclasses.shape_collection |  WARNING: Could not resolve import of http://qudt.org/2.1/vocab/sou from Libraries (No row was found when one was required). Trying shape collections\n"
     ]
    },
    {
     "name": "stderr",
     "output_type": "stream",
     "text": [
      "2024-07-02 17:38:53,663 | buildingmotif.dataclasses.shape_collection |  WARNING: Could not resolve import of http://qudt.org/2.1/vocab/sou from Libraries. Trying shape collections\n"
     ]
    },
    {
     "name": "stderr",
     "output_type": "stream",
     "text": [
      "2024-07-02 17:38:55,087 | buildingmotif.dataclasses.shape_collection |  WARNING: Could not resolve import of http://qudt.org/2.1/vocab/dimensionvector from Libraries (No row was found when one was required). Trying shape collections\n"
     ]
    },
    {
     "name": "stderr",
     "output_type": "stream",
     "text": [
      "2024-07-02 17:38:55,111 | buildingmotif.dataclasses.shape_collection |  WARNING: Could not resolve import of http://qudt.org/2.1/vocab/dimensionvector from Libraries. Trying shape collections\n"
     ]
    },
    {
     "name": "stderr",
     "output_type": "stream",
     "text": [
      "2024-07-02 17:38:55,703 | buildingmotif.dataclasses.shape_collection |  WARNING: Could not resolve import of http://qudt.org/2.1/schema/shacl/qudt from Libraries (No row was found when one was required). Trying shape collections\n"
     ]
    },
    {
     "name": "stderr",
     "output_type": "stream",
     "text": [
      "2024-07-02 17:38:55,728 | buildingmotif.dataclasses.shape_collection |  WARNING: Could not resolve import of http://qudt.org/2.1/schema/shacl/qudt from Libraries. Trying shape collections\n"
     ]
    },
    {
     "name": "stderr",
     "output_type": "stream",
     "text": [
      "2024-07-02 17:38:55,729 | buildingmotif.dataclasses.shape_collection |  WARNING: Could not resolve import of https://w3id.org/rec/recimports from Libraries (No row was found when one was required). Trying shape collections\n"
     ]
    },
    {
     "name": "stderr",
     "output_type": "stream",
     "text": [
      "2024-07-02 17:38:55,753 | buildingmotif.dataclasses.shape_collection |  WARNING: Could not resolve import of https://w3id.org/rec/recimports from Libraries. Trying shape collections\n"
     ]
    },
    {
     "name": "stderr",
     "output_type": "stream",
     "text": [
      "2024-07-02 17:38:55,753 | buildingmotif.dataclasses.shape_collection |  WARNING: Could not resolve import of http://data.ashrae.org/bacnet/2020 from Libraries (No row was found when one was required). Trying shape collections\n"
     ]
    },
    {
     "name": "stderr",
     "output_type": "stream",
     "text": [
      "2024-07-02 17:38:55,777 | buildingmotif.dataclasses.shape_collection |  WARNING: Could not resolve import of http://data.ashrae.org/bacnet/2020 from Libraries. Trying shape collections\n"
     ]
    },
    {
     "name": "stderr",
     "output_type": "stream",
     "text": [
      "2024-07-02 17:38:55,778 | buildingmotif.dataclasses.shape_collection |  WARNING: Could not resolve import of http://qudt.org/2.1/collection/usertest from Libraries (No row was found when one was required). Trying shape collections\n"
     ]
    },
    {
     "name": "stderr",
     "output_type": "stream",
     "text": [
      "2024-07-02 17:38:55,801 | buildingmotif.dataclasses.shape_collection |  WARNING: Could not resolve import of http://qudt.org/2.1/collection/usertest from Libraries. Trying shape collections\n"
     ]
    },
    {
     "name": "stderr",
     "output_type": "stream",
     "text": [
      "2024-07-02 17:38:57,695 | buildingmotif.dataclasses.shape_collection |  WARNING: Could not resolve import of urn:ashrae/g36 from Libraries (No row was found when one was required). Trying shape collections\n"
     ]
    },
    {
     "name": "stderr",
     "output_type": "stream",
     "text": [
      "2024-07-02 17:38:57,703 | buildingmotif.dataclasses.shape_collection |  WARNING: Could not resolve import of urn:ashrae/g36 from Libraries. Trying shape collections\n"
     ]
    },
    {
     "name": "stderr",
     "output_type": "stream",
     "text": [
      "2024-07-02 17:39:06,326 | buildingmotif.dataclasses.shape_collection |  WARNING: Could not resolve import of https://brickschema.org/schema/Brick/ref from Libraries (No row was found when one was required). Trying shape collections\n"
     ]
    },
    {
     "name": "stderr",
     "output_type": "stream",
     "text": [
      "2024-07-02 17:39:06,354 | buildingmotif.dataclasses.shape_collection |  WARNING: Could not resolve import of https://brickschema.org/schema/Brick/ref from Libraries. Trying shape collections\n"
     ]
    },
    {
     "name": "stderr",
     "output_type": "stream",
     "text": [
      "2024-07-02 17:39:06,355 | buildingmotif.dataclasses.shape_collection |  WARNING: Could not resolve import of http://qudt.org/2.1/schema/shacl/overlay/qudt from Libraries (No row was found when one was required). Trying shape collections\n"
     ]
    },
    {
     "name": "stderr",
     "output_type": "stream",
     "text": [
      "2024-07-02 17:39:06,382 | buildingmotif.dataclasses.shape_collection |  WARNING: Could not resolve import of http://qudt.org/2.1/schema/shacl/overlay/qudt from Libraries. Trying shape collections\n"
     ]
    },
    {
     "name": "stderr",
     "output_type": "stream",
     "text": [
      "2024-07-02 17:39:06,382 | buildingmotif.dataclasses.shape_collection |  WARNING: Could not resolve import of http://qudt.org/2.1/schema/facade/qudt from Libraries (No row was found when one was required). Trying shape collections\n"
     ]
    },
    {
     "name": "stderr",
     "output_type": "stream",
     "text": [
      "2024-07-02 17:39:06,409 | buildingmotif.dataclasses.shape_collection |  WARNING: Could not resolve import of http://qudt.org/2.1/schema/facade/qudt from Libraries. Trying shape collections\n"
     ]
    },
    {
     "name": "stderr",
     "output_type": "stream",
     "text": [
      "2024-07-02 17:39:08,121 | buildingmotif.dataclasses.shape_collection |  WARNING: Could not resolve import of http://qudt.org/2.1/vocab/prefix from Libraries (No row was found when one was required). Trying shape collections\n"
     ]
    },
    {
     "name": "stderr",
     "output_type": "stream",
     "text": [
      "2024-07-02 17:39:08,148 | buildingmotif.dataclasses.shape_collection |  WARNING: Could not resolve import of http://qudt.org/2.1/vocab/prefix from Libraries. Trying shape collections\n"
     ]
    },
    {
     "name": "stderr",
     "output_type": "stream",
     "text": [
      "2024-07-02 17:39:08,149 | buildingmotif.dataclasses.shape_collection |  WARNING: Could not resolve import of http://qudt.org/2.1/vocab/sou from Libraries (No row was found when one was required). Trying shape collections\n"
     ]
    },
    {
     "name": "stderr",
     "output_type": "stream",
     "text": [
      "2024-07-02 17:39:08,176 | buildingmotif.dataclasses.shape_collection |  WARNING: Could not resolve import of http://qudt.org/2.1/vocab/sou from Libraries. Trying shape collections\n"
     ]
    },
    {
     "name": "stderr",
     "output_type": "stream",
     "text": [
      "2024-07-02 17:39:09,726 | buildingmotif.dataclasses.shape_collection |  WARNING: Could not resolve import of http://qudt.org/2.1/vocab/dimensionvector from Libraries (No row was found when one was required). Trying shape collections\n"
     ]
    },
    {
     "name": "stderr",
     "output_type": "stream",
     "text": [
      "2024-07-02 17:39:09,754 | buildingmotif.dataclasses.shape_collection |  WARNING: Could not resolve import of http://qudt.org/2.1/vocab/dimensionvector from Libraries. Trying shape collections\n"
     ]
    },
    {
     "name": "stderr",
     "output_type": "stream",
     "text": [
      "2024-07-02 17:39:10,343 | buildingmotif.dataclasses.shape_collection |  WARNING: Could not resolve import of http://qudt.org/2.1/schema/shacl/qudt from Libraries (No row was found when one was required). Trying shape collections\n"
     ]
    },
    {
     "name": "stderr",
     "output_type": "stream",
     "text": [
      "2024-07-02 17:39:10,372 | buildingmotif.dataclasses.shape_collection |  WARNING: Could not resolve import of http://qudt.org/2.1/schema/shacl/qudt from Libraries. Trying shape collections\n"
     ]
    },
    {
     "name": "stderr",
     "output_type": "stream",
     "text": [
      "2024-07-02 17:39:10,372 | buildingmotif.dataclasses.shape_collection |  WARNING: Could not resolve import of https://w3id.org/rec/recimports from Libraries (No row was found when one was required). Trying shape collections\n"
     ]
    },
    {
     "name": "stderr",
     "output_type": "stream",
     "text": [
      "2024-07-02 17:39:10,399 | buildingmotif.dataclasses.shape_collection |  WARNING: Could not resolve import of https://w3id.org/rec/recimports from Libraries. Trying shape collections\n"
     ]
    },
    {
     "name": "stderr",
     "output_type": "stream",
     "text": [
      "2024-07-02 17:39:10,400 | buildingmotif.dataclasses.shape_collection |  WARNING: Could not resolve import of http://data.ashrae.org/bacnet/2020 from Libraries (No row was found when one was required). Trying shape collections\n"
     ]
    },
    {
     "name": "stderr",
     "output_type": "stream",
     "text": [
      "2024-07-02 17:39:10,426 | buildingmotif.dataclasses.shape_collection |  WARNING: Could not resolve import of http://data.ashrae.org/bacnet/2020 from Libraries. Trying shape collections\n"
     ]
    },
    {
     "name": "stderr",
     "output_type": "stream",
     "text": [
      "2024-07-02 17:39:10,427 | buildingmotif.dataclasses.shape_collection |  WARNING: Could not resolve import of http://qudt.org/2.1/collection/usertest from Libraries (No row was found when one was required). Trying shape collections\n"
     ]
    },
    {
     "name": "stderr",
     "output_type": "stream",
     "text": [
      "2024-07-02 17:39:10,454 | buildingmotif.dataclasses.shape_collection |  WARNING: Could not resolve import of http://qudt.org/2.1/collection/usertest from Libraries. Trying shape collections\n"
     ]
    },
    {
     "name": "stderr",
     "output_type": "stream",
     "text": [
      "2024-07-02 17:39:20,001 | buildingmotif.dataclasses.shape_collection |  WARNING: Could not resolve import of https://brickschema.org/schema/Brick/ref from Libraries (No row was found when one was required). Trying shape collections\n"
     ]
    },
    {
     "name": "stderr",
     "output_type": "stream",
     "text": [
      "2024-07-02 17:39:20,031 | buildingmotif.dataclasses.shape_collection |  WARNING: Could not resolve import of https://brickschema.org/schema/Brick/ref from Libraries. Trying shape collections\n"
     ]
    },
    {
     "name": "stderr",
     "output_type": "stream",
     "text": [
      "2024-07-02 17:39:20,032 | buildingmotif.dataclasses.shape_collection |  WARNING: Could not resolve import of http://qudt.org/2.1/schema/shacl/overlay/qudt from Libraries (No row was found when one was required). Trying shape collections\n"
     ]
    },
    {
     "name": "stderr",
     "output_type": "stream",
     "text": [
      "2024-07-02 17:39:20,062 | buildingmotif.dataclasses.shape_collection |  WARNING: Could not resolve import of http://qudt.org/2.1/schema/shacl/overlay/qudt from Libraries. Trying shape collections\n"
     ]
    },
    {
     "name": "stderr",
     "output_type": "stream",
     "text": [
      "2024-07-02 17:39:20,062 | buildingmotif.dataclasses.shape_collection |  WARNING: Could not resolve import of http://qudt.org/2.1/schema/facade/qudt from Libraries (No row was found when one was required). Trying shape collections\n"
     ]
    },
    {
     "name": "stderr",
     "output_type": "stream",
     "text": [
      "2024-07-02 17:39:20,092 | buildingmotif.dataclasses.shape_collection |  WARNING: Could not resolve import of http://qudt.org/2.1/schema/facade/qudt from Libraries. Trying shape collections\n"
     ]
    },
    {
     "name": "stderr",
     "output_type": "stream",
     "text": [
      "2024-07-02 17:39:20,755 | buildingmotif.dataclasses.shape_collection |  WARNING: Could not resolve import of http://qudt.org/2.1/vocab/prefix from Libraries (No row was found when one was required). Trying shape collections\n"
     ]
    },
    {
     "name": "stderr",
     "output_type": "stream",
     "text": [
      "2024-07-02 17:39:20,786 | buildingmotif.dataclasses.shape_collection |  WARNING: Could not resolve import of http://qudt.org/2.1/vocab/prefix from Libraries. Trying shape collections\n"
     ]
    },
    {
     "name": "stderr",
     "output_type": "stream",
     "text": [
      "2024-07-02 17:39:20,786 | buildingmotif.dataclasses.shape_collection |  WARNING: Could not resolve import of http://qudt.org/2.1/vocab/sou from Libraries (No row was found when one was required). Trying shape collections\n"
     ]
    },
    {
     "name": "stderr",
     "output_type": "stream",
     "text": [
      "2024-07-02 17:39:20,816 | buildingmotif.dataclasses.shape_collection |  WARNING: Could not resolve import of http://qudt.org/2.1/vocab/sou from Libraries. Trying shape collections\n"
     ]
    },
    {
     "name": "stderr",
     "output_type": "stream",
     "text": [
      "2024-07-02 17:39:22,316 | buildingmotif.dataclasses.shape_collection |  WARNING: Could not resolve import of http://qudt.org/2.1/vocab/dimensionvector from Libraries (No row was found when one was required). Trying shape collections\n"
     ]
    },
    {
     "name": "stderr",
     "output_type": "stream",
     "text": [
      "2024-07-02 17:39:22,346 | buildingmotif.dataclasses.shape_collection |  WARNING: Could not resolve import of http://qudt.org/2.1/vocab/dimensionvector from Libraries. Trying shape collections\n"
     ]
    },
    {
     "name": "stderr",
     "output_type": "stream",
     "text": [
      "2024-07-02 17:39:22,946 | buildingmotif.dataclasses.shape_collection |  WARNING: Could not resolve import of http://qudt.org/2.1/schema/shacl/qudt from Libraries (No row was found when one was required). Trying shape collections\n"
     ]
    },
    {
     "name": "stderr",
     "output_type": "stream",
     "text": [
      "2024-07-02 17:39:22,976 | buildingmotif.dataclasses.shape_collection |  WARNING: Could not resolve import of http://qudt.org/2.1/schema/shacl/qudt from Libraries. Trying shape collections\n"
     ]
    },
    {
     "name": "stderr",
     "output_type": "stream",
     "text": [
      "2024-07-02 17:39:22,977 | buildingmotif.dataclasses.shape_collection |  WARNING: Could not resolve import of https://w3id.org/rec/recimports from Libraries (No row was found when one was required). Trying shape collections\n"
     ]
    },
    {
     "name": "stderr",
     "output_type": "stream",
     "text": [
      "2024-07-02 17:39:23,007 | buildingmotif.dataclasses.shape_collection |  WARNING: Could not resolve import of https://w3id.org/rec/recimports from Libraries. Trying shape collections\n"
     ]
    },
    {
     "name": "stderr",
     "output_type": "stream",
     "text": [
      "2024-07-02 17:39:23,007 | buildingmotif.dataclasses.shape_collection |  WARNING: Could not resolve import of http://data.ashrae.org/bacnet/2020 from Libraries (No row was found when one was required). Trying shape collections\n"
     ]
    },
    {
     "name": "stderr",
     "output_type": "stream",
     "text": [
      "2024-07-02 17:39:23,036 | buildingmotif.dataclasses.shape_collection |  WARNING: Could not resolve import of http://data.ashrae.org/bacnet/2020 from Libraries. Trying shape collections\n"
     ]
    },
    {
     "name": "stderr",
     "output_type": "stream",
     "text": [
      "2024-07-02 17:39:23,037 | buildingmotif.dataclasses.shape_collection |  WARNING: Could not resolve import of http://qudt.org/2.1/collection/usertest from Libraries (No row was found when one was required). Trying shape collections\n"
     ]
    },
    {
     "name": "stderr",
     "output_type": "stream",
     "text": [
      "2024-07-02 17:39:23,066 | buildingmotif.dataclasses.shape_collection |  WARNING: Could not resolve import of http://qudt.org/2.1/collection/usertest from Libraries. Trying shape collections\n"
     ]
    },
    {
     "name": "stdout",
     "output_type": "stream",
     "text": [
      "Is model valid yet? False\n"
     ]
    }
   ],
   "source": [
    "ctx = model.validate([manifest.get_shape_collection(), constraints.get_shape_collection(), g36.get_shape_collection(), brick.get_shape_collection()], error_on_missing_imports=False)\n",
    "print(f\"Is model valid yet? {ctx.valid}\")"
   ]
  },
  {
   "cell_type": "code",
   "execution_count": 15,
   "id": "c4fcc259-63cf-4a16-8328-f58d09ef0996",
   "metadata": {
    "execution": {
     "iopub.execute_input": "2024-07-02T23:39:48.082730Z",
     "iopub.status.busy": "2024-07-02T23:39:48.082588Z",
     "iopub.status.idle": "2024-07-02T23:39:48.085370Z",
     "shell.execute_reply": "2024-07-02T23:39:48.085061Z"
    },
    "slideshow": {
     "slide_type": "skip"
    }
   },
   "outputs": [
    {
     "name": "stdout",
     "output_type": "stream",
     "text": [
      "@prefix sh: <http://www.w3.org/ns/shacl#> .\n",
      "@prefix xsd: <http://www.w3.org/2001/XMLSchema#> .\n",
      "\n",
      "[] a sh:ValidationReport ;\n",
      "    sh:conforms false ;\n",
      "    sh:result [ a sh:ValidationResult ;\n",
      "            sh:focusNode <urn:my_site_constraints/> ;\n",
      "            sh:resultMessage \"Need 2 VAVs\",\n",
      "                \"Not the right number 2 of instances of urn:ashrae/g36/4.2/vav-with-reheat/vav-with-reheat\" ;\n",
      "            sh:resultSeverity sh:Violation ;\n",
      "            sh:sourceConstraintComponent <https://nrel.gov/BuildingMOTIF/constraints#countConstraintComponent> ;\n",
      "            sh:sourceShape <urn:my_site_constraints/vav-count> ;\n",
      "            sh:value <urn:my_site_constraints/> ],\n",
      "        [ a sh:ValidationResult ;\n",
      "            sh:focusNode <urn:my_site_constraints/> ;\n",
      "            sh:resultMessage \"Need 1 AHU\",\n",
      "                \"Not the right number 1 of instances of https://brickschema.org/schema/Brick#AHU\" ;\n",
      "            sh:resultSeverity sh:Violation ;\n",
      "            sh:sourceConstraintComponent <https://nrel.gov/BuildingMOTIF/constraints#countConstraintComponent> ;\n",
      "            sh:sourceShape <urn:my_site_constraints/ahu-count> ;\n",
      "            sh:value <urn:my_site_constraints/> ] .\n",
      "\n",
      "\n"
     ]
    }
   ],
   "source": [
    "print(ctx.report.serialize())"
   ]
  },
  {
   "cell_type": "markdown",
   "id": "10181f3a",
   "metadata": {
    "slideshow": {
     "slide_type": "slide"
    }
   },
   "source": [
    " - we can also invoke templates ourselves, rather than having BuildingMOTIF suggest them\n",
    " - here using `fill()` as a debug trick to avoid having to give inputs"
   ]
  },
  {
   "cell_type": "code",
   "execution_count": 16,
   "id": "af770069-0bf8-48ef-9a89-de81ff16e2d0",
   "metadata": {
    "execution": {
     "iopub.execute_input": "2024-07-02T23:39:48.087236Z",
     "iopub.status.busy": "2024-07-02T23:39:48.087102Z",
     "iopub.status.idle": "2024-07-02T23:39:48.108761Z",
     "shell.execute_reply": "2024-07-02T23:39:48.108458Z"
    },
    "slideshow": {
     "slide_type": "fragment"
    }
   },
   "outputs": [
    {
     "name": "stderr",
     "output_type": "stream",
     "text": [
      "/Users/gabe/src/NREL/BuildingMOTIF/buildingmotif/dataclasses/template.py:412: UserWarning: Parameters \"name-dmp, rhc-cmd, rhc, name-dmp-dmppos, name-co2, name-zone, name-ztemp, name-dat, name-occ\" were not provided during evaluation\n",
      "  warnings.warn(\n"
     ]
    }
   ],
   "source": [
    "# use templates to finish it up!\n",
    "vav_templ = g36.get_template_by_name(\"vav-terminal-unit-reheat\").inline_dependencies()\n",
    "_, graph = vav_templ.evaluate({\"name\": BLDG[\"vav1\"]}).fill(BLDG)\n",
    "model.add_graph(graph)\n",
    "_, graph = vav_templ.evaluate({\"name\": BLDG[\"vav2\"]}).fill(BLDG)\n",
    "model.add_graph(graph)"
   ]
  },
  {
   "cell_type": "code",
   "execution_count": 17,
   "id": "268b64e4-e961-489f-ad16-67a4a3b641b7",
   "metadata": {
    "execution": {
     "iopub.execute_input": "2024-07-02T23:39:48.110527Z",
     "iopub.status.busy": "2024-07-02T23:39:48.110421Z",
     "iopub.status.idle": "2024-07-02T23:40:49.660841Z",
     "shell.execute_reply": "2024-07-02T23:40:49.660413Z"
    },
    "slideshow": {
     "slide_type": "slide"
    }
   },
   "outputs": [
    {
     "name": "stderr",
     "output_type": "stream",
     "text": [
      "2024-07-02 17:39:50,383 | buildingmotif.dataclasses.shape_collection |  WARNING: Could not resolve import of https://brickschema.org/schema/Brick/ref from Libraries (No row was found when one was required). Trying shape collections\n"
     ]
    },
    {
     "name": "stderr",
     "output_type": "stream",
     "text": [
      "2024-07-02 17:39:50,416 | buildingmotif.dataclasses.shape_collection |  WARNING: Could not resolve import of https://brickschema.org/schema/Brick/ref from Libraries. Trying shape collections\n"
     ]
    },
    {
     "name": "stderr",
     "output_type": "stream",
     "text": [
      "2024-07-02 17:39:50,417 | buildingmotif.dataclasses.shape_collection |  WARNING: Could not resolve import of http://qudt.org/2.1/schema/shacl/overlay/qudt from Libraries (No row was found when one was required). Trying shape collections\n"
     ]
    },
    {
     "name": "stderr",
     "output_type": "stream",
     "text": [
      "2024-07-02 17:39:50,449 | buildingmotif.dataclasses.shape_collection |  WARNING: Could not resolve import of http://qudt.org/2.1/schema/shacl/overlay/qudt from Libraries. Trying shape collections\n"
     ]
    },
    {
     "name": "stderr",
     "output_type": "stream",
     "text": [
      "2024-07-02 17:39:50,450 | buildingmotif.dataclasses.shape_collection |  WARNING: Could not resolve import of http://qudt.org/2.1/schema/facade/qudt from Libraries (No row was found when one was required). Trying shape collections\n"
     ]
    },
    {
     "name": "stderr",
     "output_type": "stream",
     "text": [
      "2024-07-02 17:39:50,482 | buildingmotif.dataclasses.shape_collection |  WARNING: Could not resolve import of http://qudt.org/2.1/schema/facade/qudt from Libraries. Trying shape collections\n"
     ]
    },
    {
     "name": "stderr",
     "output_type": "stream",
     "text": [
      "2024-07-02 17:39:51,143 | buildingmotif.dataclasses.shape_collection |  WARNING: Could not resolve import of http://qudt.org/2.1/vocab/prefix from Libraries (No row was found when one was required). Trying shape collections\n"
     ]
    },
    {
     "name": "stderr",
     "output_type": "stream",
     "text": [
      "2024-07-02 17:39:51,176 | buildingmotif.dataclasses.shape_collection |  WARNING: Could not resolve import of http://qudt.org/2.1/vocab/prefix from Libraries. Trying shape collections\n"
     ]
    },
    {
     "name": "stderr",
     "output_type": "stream",
     "text": [
      "2024-07-02 17:39:51,177 | buildingmotif.dataclasses.shape_collection |  WARNING: Could not resolve import of http://qudt.org/2.1/vocab/sou from Libraries (No row was found when one was required). Trying shape collections\n"
     ]
    },
    {
     "name": "stderr",
     "output_type": "stream",
     "text": [
      "2024-07-02 17:39:51,208 | buildingmotif.dataclasses.shape_collection |  WARNING: Could not resolve import of http://qudt.org/2.1/vocab/sou from Libraries. Trying shape collections\n"
     ]
    },
    {
     "name": "stderr",
     "output_type": "stream",
     "text": [
      "2024-07-02 17:39:52,800 | buildingmotif.dataclasses.shape_collection |  WARNING: Could not resolve import of http://qudt.org/2.1/vocab/dimensionvector from Libraries (No row was found when one was required). Trying shape collections\n"
     ]
    },
    {
     "name": "stderr",
     "output_type": "stream",
     "text": [
      "2024-07-02 17:39:52,832 | buildingmotif.dataclasses.shape_collection |  WARNING: Could not resolve import of http://qudt.org/2.1/vocab/dimensionvector from Libraries. Trying shape collections\n"
     ]
    },
    {
     "name": "stderr",
     "output_type": "stream",
     "text": [
      "2024-07-02 17:39:53,417 | buildingmotif.dataclasses.shape_collection |  WARNING: Could not resolve import of http://qudt.org/2.1/schema/shacl/qudt from Libraries (No row was found when one was required). Trying shape collections\n"
     ]
    },
    {
     "name": "stderr",
     "output_type": "stream",
     "text": [
      "2024-07-02 17:39:53,450 | buildingmotif.dataclasses.shape_collection |  WARNING: Could not resolve import of http://qudt.org/2.1/schema/shacl/qudt from Libraries. Trying shape collections\n"
     ]
    },
    {
     "name": "stderr",
     "output_type": "stream",
     "text": [
      "2024-07-02 17:39:53,450 | buildingmotif.dataclasses.shape_collection |  WARNING: Could not resolve import of https://w3id.org/rec/recimports from Libraries (No row was found when one was required). Trying shape collections\n"
     ]
    },
    {
     "name": "stderr",
     "output_type": "stream",
     "text": [
      "2024-07-02 17:39:53,482 | buildingmotif.dataclasses.shape_collection |  WARNING: Could not resolve import of https://w3id.org/rec/recimports from Libraries. Trying shape collections\n"
     ]
    },
    {
     "name": "stderr",
     "output_type": "stream",
     "text": [
      "2024-07-02 17:39:53,483 | buildingmotif.dataclasses.shape_collection |  WARNING: Could not resolve import of http://data.ashrae.org/bacnet/2020 from Libraries (No row was found when one was required). Trying shape collections\n"
     ]
    },
    {
     "name": "stderr",
     "output_type": "stream",
     "text": [
      "2024-07-02 17:39:53,515 | buildingmotif.dataclasses.shape_collection |  WARNING: Could not resolve import of http://data.ashrae.org/bacnet/2020 from Libraries. Trying shape collections\n"
     ]
    },
    {
     "name": "stderr",
     "output_type": "stream",
     "text": [
      "2024-07-02 17:39:53,516 | buildingmotif.dataclasses.shape_collection |  WARNING: Could not resolve import of http://qudt.org/2.1/collection/usertest from Libraries (No row was found when one was required). Trying shape collections\n"
     ]
    },
    {
     "name": "stderr",
     "output_type": "stream",
     "text": [
      "2024-07-02 17:39:53,547 | buildingmotif.dataclasses.shape_collection |  WARNING: Could not resolve import of http://qudt.org/2.1/collection/usertest from Libraries. Trying shape collections\n"
     ]
    },
    {
     "name": "stderr",
     "output_type": "stream",
     "text": [
      "2024-07-02 17:39:55,841 | buildingmotif.dataclasses.shape_collection |  WARNING: Could not resolve import of urn:ashrae/g36 from Libraries (No row was found when one was required). Trying shape collections\n"
     ]
    },
    {
     "name": "stderr",
     "output_type": "stream",
     "text": [
      "2024-07-02 17:39:55,849 | buildingmotif.dataclasses.shape_collection |  WARNING: Could not resolve import of urn:ashrae/g36 from Libraries. Trying shape collections\n"
     ]
    },
    {
     "name": "stderr",
     "output_type": "stream",
     "text": [
      "2024-07-02 17:40:05,716 | buildingmotif.dataclasses.shape_collection |  WARNING: Could not resolve import of https://brickschema.org/schema/Brick/ref from Libraries (No row was found when one was required). Trying shape collections\n"
     ]
    },
    {
     "name": "stderr",
     "output_type": "stream",
     "text": [
      "2024-07-02 17:40:05,753 | buildingmotif.dataclasses.shape_collection |  WARNING: Could not resolve import of https://brickschema.org/schema/Brick/ref from Libraries. Trying shape collections\n"
     ]
    },
    {
     "name": "stderr",
     "output_type": "stream",
     "text": [
      "2024-07-02 17:40:05,754 | buildingmotif.dataclasses.shape_collection |  WARNING: Could not resolve import of http://qudt.org/2.1/schema/shacl/overlay/qudt from Libraries (No row was found when one was required). Trying shape collections\n"
     ]
    },
    {
     "name": "stderr",
     "output_type": "stream",
     "text": [
      "2024-07-02 17:40:05,790 | buildingmotif.dataclasses.shape_collection |  WARNING: Could not resolve import of http://qudt.org/2.1/schema/shacl/overlay/qudt from Libraries. Trying shape collections\n"
     ]
    },
    {
     "name": "stderr",
     "output_type": "stream",
     "text": [
      "2024-07-02 17:40:05,790 | buildingmotif.dataclasses.shape_collection |  WARNING: Could not resolve import of http://qudt.org/2.1/schema/facade/qudt from Libraries (No row was found when one was required). Trying shape collections\n"
     ]
    },
    {
     "name": "stderr",
     "output_type": "stream",
     "text": [
      "2024-07-02 17:40:05,826 | buildingmotif.dataclasses.shape_collection |  WARNING: Could not resolve import of http://qudt.org/2.1/schema/facade/qudt from Libraries. Trying shape collections\n"
     ]
    },
    {
     "name": "stderr",
     "output_type": "stream",
     "text": [
      "2024-07-02 17:40:06,607 | buildingmotif.dataclasses.shape_collection |  WARNING: Could not resolve import of http://qudt.org/2.1/vocab/prefix from Libraries (No row was found when one was required). Trying shape collections\n"
     ]
    },
    {
     "name": "stderr",
     "output_type": "stream",
     "text": [
      "2024-07-02 17:40:06,671 | buildingmotif.dataclasses.shape_collection |  WARNING: Could not resolve import of http://qudt.org/2.1/vocab/prefix from Libraries. Trying shape collections\n"
     ]
    },
    {
     "name": "stderr",
     "output_type": "stream",
     "text": [
      "2024-07-02 17:40:06,675 | buildingmotif.dataclasses.shape_collection |  WARNING: Could not resolve import of http://qudt.org/2.1/vocab/sou from Libraries (No row was found when one was required). Trying shape collections\n"
     ]
    },
    {
     "name": "stderr",
     "output_type": "stream",
     "text": [
      "2024-07-02 17:40:06,716 | buildingmotif.dataclasses.shape_collection |  WARNING: Could not resolve import of http://qudt.org/2.1/vocab/sou from Libraries. Trying shape collections\n"
     ]
    },
    {
     "name": "stderr",
     "output_type": "stream",
     "text": [
      "2024-07-02 17:40:08,379 | buildingmotif.dataclasses.shape_collection |  WARNING: Could not resolve import of http://qudt.org/2.1/vocab/dimensionvector from Libraries (No row was found when one was required). Trying shape collections\n"
     ]
    },
    {
     "name": "stderr",
     "output_type": "stream",
     "text": [
      "2024-07-02 17:40:08,415 | buildingmotif.dataclasses.shape_collection |  WARNING: Could not resolve import of http://qudt.org/2.1/vocab/dimensionvector from Libraries. Trying shape collections\n"
     ]
    },
    {
     "name": "stderr",
     "output_type": "stream",
     "text": [
      "2024-07-02 17:40:09,032 | buildingmotif.dataclasses.shape_collection |  WARNING: Could not resolve import of http://qudt.org/2.1/schema/shacl/qudt from Libraries (No row was found when one was required). Trying shape collections\n"
     ]
    },
    {
     "name": "stderr",
     "output_type": "stream",
     "text": [
      "2024-07-02 17:40:09,069 | buildingmotif.dataclasses.shape_collection |  WARNING: Could not resolve import of http://qudt.org/2.1/schema/shacl/qudt from Libraries. Trying shape collections\n"
     ]
    },
    {
     "name": "stderr",
     "output_type": "stream",
     "text": [
      "2024-07-02 17:40:09,069 | buildingmotif.dataclasses.shape_collection |  WARNING: Could not resolve import of https://w3id.org/rec/recimports from Libraries (No row was found when one was required). Trying shape collections\n"
     ]
    },
    {
     "name": "stderr",
     "output_type": "stream",
     "text": [
      "2024-07-02 17:40:09,106 | buildingmotif.dataclasses.shape_collection |  WARNING: Could not resolve import of https://w3id.org/rec/recimports from Libraries. Trying shape collections\n"
     ]
    },
    {
     "name": "stderr",
     "output_type": "stream",
     "text": [
      "2024-07-02 17:40:09,107 | buildingmotif.dataclasses.shape_collection |  WARNING: Could not resolve import of http://data.ashrae.org/bacnet/2020 from Libraries (No row was found when one was required). Trying shape collections\n"
     ]
    },
    {
     "name": "stderr",
     "output_type": "stream",
     "text": [
      "2024-07-02 17:40:09,143 | buildingmotif.dataclasses.shape_collection |  WARNING: Could not resolve import of http://data.ashrae.org/bacnet/2020 from Libraries. Trying shape collections\n"
     ]
    },
    {
     "name": "stderr",
     "output_type": "stream",
     "text": [
      "2024-07-02 17:40:09,144 | buildingmotif.dataclasses.shape_collection |  WARNING: Could not resolve import of http://qudt.org/2.1/collection/usertest from Libraries (No row was found when one was required). Trying shape collections\n"
     ]
    },
    {
     "name": "stderr",
     "output_type": "stream",
     "text": [
      "2024-07-02 17:40:09,180 | buildingmotif.dataclasses.shape_collection |  WARNING: Could not resolve import of http://qudt.org/2.1/collection/usertest from Libraries. Trying shape collections\n"
     ]
    },
    {
     "name": "stderr",
     "output_type": "stream",
     "text": [
      "2024-07-02 17:40:20,469 | buildingmotif.dataclasses.shape_collection |  WARNING: Could not resolve import of https://brickschema.org/schema/Brick/ref from Libraries (No row was found when one was required). Trying shape collections\n"
     ]
    },
    {
     "name": "stderr",
     "output_type": "stream",
     "text": [
      "2024-07-02 17:40:20,508 | buildingmotif.dataclasses.shape_collection |  WARNING: Could not resolve import of https://brickschema.org/schema/Brick/ref from Libraries. Trying shape collections\n"
     ]
    },
    {
     "name": "stderr",
     "output_type": "stream",
     "text": [
      "2024-07-02 17:40:20,509 | buildingmotif.dataclasses.shape_collection |  WARNING: Could not resolve import of http://qudt.org/2.1/schema/shacl/overlay/qudt from Libraries (No row was found when one was required). Trying shape collections\n"
     ]
    },
    {
     "name": "stderr",
     "output_type": "stream",
     "text": [
      "2024-07-02 17:40:20,548 | buildingmotif.dataclasses.shape_collection |  WARNING: Could not resolve import of http://qudt.org/2.1/schema/shacl/overlay/qudt from Libraries. Trying shape collections\n"
     ]
    },
    {
     "name": "stderr",
     "output_type": "stream",
     "text": [
      "2024-07-02 17:40:20,548 | buildingmotif.dataclasses.shape_collection |  WARNING: Could not resolve import of http://qudt.org/2.1/schema/facade/qudt from Libraries (No row was found when one was required). Trying shape collections\n"
     ]
    },
    {
     "name": "stderr",
     "output_type": "stream",
     "text": [
      "2024-07-02 17:40:20,586 | buildingmotif.dataclasses.shape_collection |  WARNING: Could not resolve import of http://qudt.org/2.1/schema/facade/qudt from Libraries. Trying shape collections\n"
     ]
    },
    {
     "name": "stderr",
     "output_type": "stream",
     "text": [
      "2024-07-02 17:40:21,264 | buildingmotif.dataclasses.shape_collection |  WARNING: Could not resolve import of http://qudt.org/2.1/vocab/prefix from Libraries (No row was found when one was required). Trying shape collections\n"
     ]
    },
    {
     "name": "stderr",
     "output_type": "stream",
     "text": [
      "2024-07-02 17:40:21,304 | buildingmotif.dataclasses.shape_collection |  WARNING: Could not resolve import of http://qudt.org/2.1/vocab/prefix from Libraries. Trying shape collections\n"
     ]
    },
    {
     "name": "stderr",
     "output_type": "stream",
     "text": [
      "2024-07-02 17:40:21,304 | buildingmotif.dataclasses.shape_collection |  WARNING: Could not resolve import of http://qudt.org/2.1/vocab/sou from Libraries (No row was found when one was required). Trying shape collections\n"
     ]
    },
    {
     "name": "stderr",
     "output_type": "stream",
     "text": [
      "2024-07-02 17:40:21,342 | buildingmotif.dataclasses.shape_collection |  WARNING: Could not resolve import of http://qudt.org/2.1/vocab/sou from Libraries. Trying shape collections\n"
     ]
    },
    {
     "name": "stderr",
     "output_type": "stream",
     "text": [
      "2024-07-02 17:40:21,733 | buildingmotif.dataclasses.shape_collection |  WARNING: Could not resolve import of http://qudt.org/2.1/vocab/dimensionvector from Libraries (No row was found when one was required). Trying shape collections\n"
     ]
    },
    {
     "name": "stderr",
     "output_type": "stream",
     "text": [
      "2024-07-02 17:40:21,773 | buildingmotif.dataclasses.shape_collection |  WARNING: Could not resolve import of http://qudt.org/2.1/vocab/dimensionvector from Libraries. Trying shape collections\n"
     ]
    },
    {
     "name": "stderr",
     "output_type": "stream",
     "text": [
      "2024-07-02 17:40:23,739 | buildingmotif.dataclasses.shape_collection |  WARNING: Could not resolve import of http://qudt.org/2.1/schema/shacl/qudt from Libraries (No row was found when one was required). Trying shape collections\n"
     ]
    },
    {
     "name": "stderr",
     "output_type": "stream",
     "text": [
      "2024-07-02 17:40:23,779 | buildingmotif.dataclasses.shape_collection |  WARNING: Could not resolve import of http://qudt.org/2.1/schema/shacl/qudt from Libraries. Trying shape collections\n"
     ]
    },
    {
     "name": "stderr",
     "output_type": "stream",
     "text": [
      "2024-07-02 17:40:23,780 | buildingmotif.dataclasses.shape_collection |  WARNING: Could not resolve import of https://w3id.org/rec/recimports from Libraries (No row was found when one was required). Trying shape collections\n"
     ]
    },
    {
     "name": "stderr",
     "output_type": "stream",
     "text": [
      "2024-07-02 17:40:23,819 | buildingmotif.dataclasses.shape_collection |  WARNING: Could not resolve import of https://w3id.org/rec/recimports from Libraries. Trying shape collections\n"
     ]
    },
    {
     "name": "stderr",
     "output_type": "stream",
     "text": [
      "2024-07-02 17:40:23,820 | buildingmotif.dataclasses.shape_collection |  WARNING: Could not resolve import of http://data.ashrae.org/bacnet/2020 from Libraries (No row was found when one was required). Trying shape collections\n"
     ]
    },
    {
     "name": "stderr",
     "output_type": "stream",
     "text": [
      "2024-07-02 17:40:23,858 | buildingmotif.dataclasses.shape_collection |  WARNING: Could not resolve import of http://data.ashrae.org/bacnet/2020 from Libraries. Trying shape collections\n"
     ]
    },
    {
     "name": "stderr",
     "output_type": "stream",
     "text": [
      "2024-07-02 17:40:23,859 | buildingmotif.dataclasses.shape_collection |  WARNING: Could not resolve import of http://qudt.org/2.1/collection/usertest from Libraries (No row was found when one was required). Trying shape collections\n"
     ]
    },
    {
     "name": "stderr",
     "output_type": "stream",
     "text": [
      "2024-07-02 17:40:23,896 | buildingmotif.dataclasses.shape_collection |  WARNING: Could not resolve import of http://qudt.org/2.1/collection/usertest from Libraries. Trying shape collections\n"
     ]
    },
    {
     "name": "stdout",
     "output_type": "stream",
     "text": [
      "Is model valid yet? False\n"
     ]
    }
   ],
   "source": [
    "ctx = model.validate([manifest.get_shape_collection(),\n",
    "                      constraints.get_shape_collection(),\n",
    "                      g36.get_shape_collection(),\n",
    "                      brick.get_shape_collection()], error_on_missing_imports=False)\n",
    "print(f\"Is model valid yet? {ctx.valid}\")"
   ]
  },
  {
   "cell_type": "code",
   "execution_count": 18,
   "id": "fd247f2e-a2e9-49c8-af46-e161a26c6698",
   "metadata": {
    "execution": {
     "iopub.execute_input": "2024-07-02T23:40:49.662952Z",
     "iopub.status.busy": "2024-07-02T23:40:49.662803Z",
     "iopub.status.idle": "2024-07-02T23:40:49.698663Z",
     "shell.execute_reply": "2024-07-02T23:40:49.698289Z"
    },
    "slideshow": {
     "slide_type": "slide"
    }
   },
   "outputs": [
    {
     "name": "stdout",
     "output_type": "stream",
     "text": [
      "@prefix brick: <https://brickschema.org/schema/Brick#> .\n",
      "@prefix owl: <http://www.w3.org/2002/07/owl#> .\n",
      "\n",
      "<urn:my_site/> a owl:Ontology .\n",
      "\n",
      "<urn:my_site/vav1> a brick:VAV ;\n",
      "    brick:feeds <urn:my_site/name-zone_130e143f> ;\n",
      "    brick:hasPart <urn:my_site/name-dmp_d98bd58e>,\n",
      "        <urn:my_site/rhc_2c8a0aba> ;\n",
      "    brick:hasPoint <urn:my_site/name-dat_33c6c751>,\n",
      "        <urn:my_site/name-ztemp_62c77ab7> .\n",
      "\n",
      "<urn:my_site/vav2> a brick:VAV ;\n",
      "    brick:feeds <urn:my_site/name-zone_cbfab8b2> ;\n",
      "    brick:hasPart <urn:my_site/name-dmp_87ea638c>,\n",
      "        <urn:my_site/rhc_d0e031ee> ;\n",
      "    brick:hasPoint <urn:my_site/name-dat_723731f5>,\n",
      "        <urn:my_site/name-ztemp_fa98c50f> .\n",
      "\n",
      "<urn:my_site/name-dat_33c6c751> a brick:Discharge_Air_Temperature_Sensor .\n",
      "\n",
      "<urn:my_site/name-dat_723731f5> a brick:Discharge_Air_Temperature_Sensor .\n",
      "\n",
      "<urn:my_site/name-dmp-dmppos_4190eb9e> a brick:Damper_Position_Command .\n",
      "\n",
      "<urn:my_site/name-dmp-dmppos_e4423605> a brick:Damper_Position_Command .\n",
      "\n",
      "<urn:my_site/name-dmp_87ea638c> a brick:Damper ;\n",
      "    brick:hasPoint <urn:my_site/name-dmp-dmppos_e4423605> .\n",
      "\n",
      "<urn:my_site/name-dmp_d98bd58e> a brick:Damper ;\n",
      "    brick:hasPoint <urn:my_site/name-dmp-dmppos_4190eb9e> .\n",
      "\n",
      "<urn:my_site/name-zone_130e143f> a brick:HVAC_Zone .\n",
      "\n",
      "<urn:my_site/name-zone_cbfab8b2> a brick:HVAC_Zone .\n",
      "\n",
      "<urn:my_site/name-ztemp_62c77ab7> a brick:Zone_Air_Temperature_Sensor .\n",
      "\n",
      "<urn:my_site/name-ztemp_fa98c50f> a brick:Zone_Air_Temperature_Sensor .\n",
      "\n",
      "<urn:my_site/rhc-cmd_0638f4e5> a brick:Position_Command .\n",
      "\n",
      "<urn:my_site/rhc-cmd_71ca90dc> a brick:Position_Command .\n",
      "\n",
      "<urn:my_site/rhc_2c8a0aba> a brick:Heating_Coil ;\n",
      "    brick:hasPoint <urn:my_site/rhc-cmd_0638f4e5> .\n",
      "\n",
      "<urn:my_site/rhc_d0e031ee> a brick:Heating_Coil ;\n",
      "    brick:hasPoint <urn:my_site/rhc-cmd_71ca90dc> .\n",
      "\n",
      "\n"
     ]
    }
   ],
   "source": [
    "print(model.graph.serialize())"
   ]
  },
  {
   "cell_type": "code",
   "execution_count": 19,
   "id": "b7edb0d7-d43c-49c4-8006-fef102567af1",
   "metadata": {
    "execution": {
     "iopub.execute_input": "2024-07-02T23:40:49.700656Z",
     "iopub.status.busy": "2024-07-02T23:40:49.700499Z",
     "iopub.status.idle": "2024-07-02T23:40:49.703769Z",
     "shell.execute_reply": "2024-07-02T23:40:49.703416Z"
    },
    "slideshow": {
     "slide_type": "slide"
    }
   },
   "outputs": [
    {
     "name": "stdout",
     "output_type": "stream",
     "text": [
      "@prefix sh: <http://www.w3.org/ns/shacl#> .\n",
      "@prefix xsd: <http://www.w3.org/2001/XMLSchema#> .\n",
      "\n",
      "[] a sh:ValidationReport ;\n",
      "    sh:conforms false ;\n",
      "    sh:result [ a sh:ValidationResult ;\n",
      "            sh:focusNode <urn:my_site/name-zone_130e143f> ;\n",
      "            sh:resultMessage \"urn:my_site/name-zone_130e143f has type https://brickschema.org/schema/Brick#HVAC_Zone which was deprecated in version 1.4.0. For now, it has been updated to also be of type https://w3id.org/rec#HVACZone.\" ;\n",
      "            sh:resultSeverity sh:Warning ;\n",
      "            sh:sourceConstraint _:n32fd143cc8f14ed985818aab5dd6561cb3688 ;\n",
      "            sh:sourceConstraintComponent sh:SPARQLConstraintComponent ;\n",
      "            sh:sourceShape <https://brickschema.org/schema/BrickShape#DeprecationRuleForInstances> ;\n",
      "            sh:value <urn:my_site/name-zone_130e143f> ],\n",
      "        [ a sh:ValidationResult ;\n",
      "            sh:focusNode <urn:my_site_constraints/> ;\n",
      "            sh:resultMessage \"Need 2 VAVs\",\n",
      "                \"Not the right number 2 of instances of urn:ashrae/g36/4.2/vav-with-reheat/vav-with-reheat\" ;\n",
      "            sh:resultSeverity sh:Violation ;\n",
      "            sh:sourceConstraintComponent <https://nrel.gov/BuildingMOTIF/constraints#countConstraintComponent> ;\n",
      "            sh:sourceShape <urn:my_site_constraints/vav-count> ;\n",
      "            sh:value <urn:my_site_constraints/> ],\n",
      "        [ a sh:ValidationResult ;\n",
      "            sh:focusNode <urn:my_site/name-zone_cbfab8b2> ;\n",
      "            sh:resultMessage \"urn:my_site/name-zone_cbfab8b2 has type https://brickschema.org/schema/Brick#HVAC_Zone which was deprecated in version 1.4.0. For now, it has been updated to also be of type https://w3id.org/rec#HVACZone.\" ;\n",
      "            sh:resultSeverity sh:Warning ;\n",
      "            sh:sourceConstraint _:n32fd143cc8f14ed985818aab5dd6561cb3688 ;\n",
      "            sh:sourceConstraintComponent sh:SPARQLConstraintComponent ;\n",
      "            sh:sourceShape <https://brickschema.org/schema/BrickShape#DeprecationRuleForInstances> ;\n",
      "            sh:value <urn:my_site/name-zone_cbfab8b2> ],\n",
      "        [ a sh:ValidationResult ;\n",
      "            sh:focusNode <urn:my_site_constraints/> ;\n",
      "            sh:resultMessage \"Need 1 AHU\",\n",
      "                \"Not the right number 1 of instances of https://brickschema.org/schema/Brick#AHU\" ;\n",
      "            sh:resultSeverity sh:Violation ;\n",
      "            sh:sourceConstraintComponent <https://nrel.gov/BuildingMOTIF/constraints#countConstraintComponent> ;\n",
      "            sh:sourceShape <urn:my_site_constraints/ahu-count> ;\n",
      "            sh:value <urn:my_site_constraints/> ] .\n",
      "\n",
      "_:n32fd143cc8f14ed985818aab5dd6561cb3688 a sh:SPARQLConstraint ;\n",
      "    sh:message \"{$this} has type {?class} which was deprecated in version {?depver}. For now, it has been updated to also be of type {?newClass}.\" ;\n",
      "    sh:prefixes <https://brickschema.org/schema/1.4/Brick> ;\n",
      "    sh:select \"\"\"SELECT $this ?class ?newClass ?depver WHERE {\n",
      "$this a ?class .\n",
      "?class owl:deprecated true .\n",
      "?class brick:deprecatedInVersion ?depver .\n",
      "?class brick:isReplacedBy ?newClass .\n",
      "}\"\"\" .\n",
      "\n",
      "\n"
     ]
    }
   ],
   "source": [
    "print(ctx.report.serialize())"
   ]
  },
  {
   "cell_type": "code",
   "execution_count": null,
   "id": "52e44af6-f109-4b56-9a6d-5e5f1c26a799",
   "metadata": {},
   "outputs": [],
   "source": []
  },
  {
   "cell_type": "code",
   "execution_count": null,
   "id": "827bc60d-d558-49ac-8cd3-bf100dc8767b",
   "metadata": {},
   "outputs": [],
   "source": []
  }
 ],
 "metadata": {
  "celltoolbar": "Slideshow",
  "kernelspec": {
   "display_name": "Python 3 (ipykernel)",
   "language": "python",
   "name": "python3"
  },
  "language_info": {
   "codemirror_mode": {
    "name": "ipython",
    "version": 3
   },
   "file_extension": ".py",
   "mimetype": "text/x-python",
   "name": "python",
   "nbconvert_exporter": "python",
   "pygments_lexer": "ipython3",
   "version": "3.11.9"
  },
  "vscode": {
   "interpreter": {
    "hash": "15fae041f31e3c236ca4e007ba84180412c78f76afbcc47bd25b3db75fd5ecba"
   }
  }
 },
 "nbformat": 4,
 "nbformat_minor": 5
}
