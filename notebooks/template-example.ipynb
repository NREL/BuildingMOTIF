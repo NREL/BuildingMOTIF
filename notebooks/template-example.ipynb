{
 "cells": [
  {
   "cell_type": "code",
   "execution_count": null,
   "id": "743516db",
   "metadata": {},
   "outputs": [],
   "source": [
    "\"\"\"\n",
    "This notebook walks though how to use BuildingMotif Templates.\n",
    "\"\"\"\n",
    "from rdflib import RDF, URIRef\n",
    "\n",
    "from buildingmotif.building_motif import BuildingMotif\n",
    "from buildingmotif.dataclasses.template import Template\n",
    "from buildingmotif.dataclasses.template_library import TemplateLibrary"
   ]
  },
  {
   "cell_type": "code",
   "execution_count": null,
   "id": "eab0aa57",
   "metadata": {},
   "outputs": [],
   "source": [
    "\"\"\"\n",
    "As always with BuildingMotif, we start by initing BuildingMotif.\n",
    "\"\"\"\n",
    "building_motif = BuildingMotif(f\"sqlite://\")\n",
    "building_motif.session\n"
   ]
  },
  {
   "cell_type": "code",
   "execution_count": null,
   "id": "f8ea265a",
   "metadata": {},
   "outputs": [],
   "source": [
    "\"\"\"\n",
    "Templates must always be conneted to a template library.\n",
    "\"\"\"\n",
    "tl = TemplateLibrary.create(\"my_tl\")\n",
    "tl"
   ]
  },
  {
   "cell_type": "code",
   "execution_count": null,
   "id": "0d4a5032",
   "metadata": {},
   "outputs": [],
   "source": [
    "\"\"\"\n",
    "Create a template through the template library. The body is currently empty.\n",
    "\n",
    "\"\"\"\n",
    "ahu_template = tl.create_template(\n",
    "    name=\"ahu\",\n",
    "    head=[\"name\", \"zone\"],\n",
    ")\n",
    "\n",
    "print(ahu_template)\n",
    "print(ahu_template.head)\n",
    "print(ahu_template.body.serialize(format=\"ttl\"))"
   ]
  },
  {
   "cell_type": "code",
   "execution_count": null,
   "id": "60cc94a8",
   "metadata": {},
   "outputs": [],
   "source": [
    "\"\"\"\n",
    "Now we can populate the body.\n",
    "Note that the nodes \"name\" and \"zone\" are variables, or undefinied.\n",
    "They are the template's head, as defined above. This means their values\n",
    "will be pass to the template when evaluated.\n",
    "\"\"\"\n",
    "def as_brick(x):\n",
    "    return URIRef(f\"https://brickschema.org/schema/Brick#{x}\")\n",
    "\n",
    "def as_var(x):\n",
    "    return URIRef(f\"https://buildingmotif.org/var#{x}\")\n",
    "\n",
    "ahu_template.body.add((as_var(\"name\"), RDF.type, as_brick(\"AHU\")))\n",
    "ahu_template.body.add((as_var(\"name\"), as_brick(\"feeds\"), as_var(\"zone\")))\n",
    "\n",
    "\n",
    "print(ahu_template.body.serialize(format=\"ttl\"))"
   ]
  },
  {
   "cell_type": "code",
   "execution_count": null,
   "id": "2b0a9217",
   "metadata": {},
   "outputs": [],
   "source": [
    "\"\"\"\n",
    "Note that the head is immutable.\n",
    "\"\"\"\n",
    "try:\n",
    "    ahu_template.head = [\"nope\"]\n",
    "except AttributeError as e:\n",
    "    print(e)\n",
    "\n",
    "try:\n",
    "    ahu_template.head.append(\"nope\")\n",
    "except AttributeError as e:\n",
    "    print(e)"
   ]
  },
  {
   "cell_type": "code",
   "execution_count": null,
   "id": "f43624dc",
   "metadata": {},
   "outputs": [],
   "source": [
    "\"\"\"\n",
    "In addition to heads, templates may also have dependancies on other templates.\n",
    "Say we added to ahu_template the following tuple, where \"sf\" refers to the\n",
    "following supply_fan template.\n",
    "\n",
    "We must then create a dependancy between the two, and define how the dependancy\n",
    "head should be evaluated.\n",
    "\"\"\"\n",
    "# this new triples requires dependancy \"sf\"\n",
    "ahu_template.body.add((as_var(\"name\"), as_brick(\"hasPart\"), as_var(\"sf\")))\n",
    "\n",
    "# here we define the template we will depend on\n",
    "sf_template = tl.create_template(\n",
    "    name=\"supply_fan\",\n",
    "    head=[\"name\"],\n",
    ")\n",
    "sf_template.body.add((as_var(\"name\"), RDF.type, as_brick(\"Supply_Fan\")))\n",
    "\n",
    "# and finally define the dependancy.\n",
    "ahu_template.add_dependency(sf_template, {\"name\": \"sf\"})\n",
    "\n",
    "print(ahu_template.get_dependencies())"
   ]
  },
  {
   "cell_type": "code",
   "execution_count": null,
   "id": "14cb7e3a",
   "metadata": {},
   "outputs": [],
   "source": [
    "\"\"\" \n",
    "Note that both templates must be part of the same library, \n",
    "all heads must be defined to create a dependancy,\n",
    "and that there can only be one dependency per directional dependant/dependee pair.\n",
    "\"\"\"\n",
    "building_motif.session.commit()\n",
    "\n",
    "# not in same library\n",
    "try:\n",
    "    other_tl = tl = TemplateLibrary.create(\"other_tl\")\n",
    "    other_sf_template = tl.create_template(\n",
    "        name=\"supply_fan\",\n",
    "        head=[\"name\"],\n",
    "    )\n",
    "    ahu_template.add_dependency(other_sf_template, {\"name\": \"sf\"})\n",
    "except Exception as e:\n",
    "    print(e)\n",
    "    building_motif.session.rollback()\n",
    "    \n",
    "# bad head\n",
    "try:\n",
    "    ahu_template.add_dependency(sf_template, {\"not a head\": \"sf\"})\n",
    "except ValueError as e:\n",
    "    print(e)\n",
    "\n",
    "# already exist\n",
    "try:\n",
    "    ahu_template.add_dependency(sf_template, {\"name\": \"sf\"})\n",
    "except Exception as e:\n",
    "    print(e)\n",
    "    building_motif.session.rollback()\n"
   ]
  },
  {
   "cell_type": "markdown",
   "id": "e0830aa1-eac3-40ee-9dac-79ab2be3ab56",
   "metadata": {},
   "source": [
    "# Loading Templates from an Ontology\n",
    "\n",
    "There is initial support for loading templates from the Class and NodeShape definitions contained within an ontology:"
   ]
  },
  {
   "cell_type": "code",
   "execution_count": null,
   "id": "d973c18d-1390-4343-8856-22cca2961ec6",
   "metadata": {},
   "outputs": [],
   "source": [
    "lib = building_motif.load_library(\"../tests/fixtures/Brick1.3rc1-equip-only.ttl\")\n",
    "print(lib)"
   ]
  },
  {
   "cell_type": "code",
   "execution_count": null,
   "id": "c22f6fc0",
   "metadata": {},
   "outputs": [],
   "source": [
    "\"\"\"TO COME: template evaluation\"\"\""
   ]
  }
 ],
 "metadata": {
  "jupytext": {
   "formats": "ipynb,md"
  },
  "kernelspec": {
   "display_name": "Python 3 (ipykernel)",
   "language": "python",
   "name": "python3"
  },
  "language_info": {
   "codemirror_mode": {
    "name": "ipython",
    "version": 3
   },
   "file_extension": ".py",
   "mimetype": "text/x-python",
   "name": "python",
   "nbconvert_exporter": "python",
   "pygments_lexer": "ipython3",
   "version": "3.9.9"
  }
 },
 "nbformat": 4,
 "nbformat_minor": 5
}
