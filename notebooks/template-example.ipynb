{
 "cells": [
  {
   "cell_type": "code",
   "execution_count": 1,
   "id": "743516db",
   "metadata": {},
   "outputs": [],
   "source": [
    "\"\"\"\n",
    "This notebook walks though how to use BuildingMOTIF Templates.\n",
    "\"\"\"\n",
    "from rdflib import RDF, URIRef\n",
    "\n",
    "from buildingmotif import BuildingMOTIF\n",
    "from buildingmotif.dataclasses import TemplateLibrary, Template\n",
    "from buildingmotif.namespaces import BRICK, A, PARAM"
   ]
  },
  {
   "cell_type": "code",
   "execution_count": 2,
   "id": "eab0aa57",
   "metadata": {},
   "outputs": [
    {
     "data": {
      "text/plain": [
       "<sqlalchemy.orm.session.Session at 0x7fbaf87620d0>"
      ]
     },
     "execution_count": 2,
     "metadata": {},
     "output_type": "execute_result"
    }
   ],
   "source": [
    "\"\"\"\n",
    "As always with BuildingMOTIF, we start by initing BuildingMOTIF.\n",
    "\"\"\"\n",
    "building_motif = BuildingMOTIF(f\"sqlite://\")\n",
    "building_motif.session\n"
   ]
  },
  {
   "cell_type": "code",
   "execution_count": 3,
   "id": "f8ea265a",
   "metadata": {},
   "outputs": [
    {
     "data": {
      "text/plain": [
       "TemplateLibrary(_id=1, _name='my_tl', _bm=<buildingmotif.building_motif.building_motif.BuildingMOTIF object at 0x7fbb087499a0>)"
      ]
     },
     "execution_count": 3,
     "metadata": {},
     "output_type": "execute_result"
    }
   ],
   "source": [
    "\"\"\"\n",
    "Templates must always be conneted to a template library.\n",
    "\"\"\"\n",
    "tl = TemplateLibrary.create(\"my_tl\")\n",
    "tl"
   ]
  },
  {
   "cell_type": "code",
   "execution_count": 4,
   "id": "0d4a5032",
   "metadata": {},
   "outputs": [
    {
     "name": "stdout",
     "output_type": "stream",
     "text": [
      "Template(_id=1, _name='ahu', body=<Graph identifier=603d4805-2d59-4139-81cf-2f9937359a2a (<class 'rdflib.graph.Graph'>)>, optional_args=[], _bm=<buildingmotif.building_motif.building_motif.BuildingMOTIF object at 0x7fbb087499a0>)\n",
      "\n",
      "\n"
     ]
    }
   ],
   "source": [
    "\"\"\"\n",
    "Create a template through the template library. The body is currently empty.\n",
    "\n",
    "\"\"\"\n",
    "ahu_template = tl.create_template(\n",
    "    name=\"ahu\",\n",
    ")\n",
    "\n",
    "print(ahu_template)\n",
    "print(ahu_template.body.serialize(format=\"ttl\"))"
   ]
  },
  {
   "cell_type": "code",
   "execution_count": 5,
   "id": "60cc94a8",
   "metadata": {},
   "outputs": [
    {
     "name": "stdout",
     "output_type": "stream",
     "text": [
      "@prefix brick: <https://brickschema.org/schema/Brick#> .\n",
      "\n",
      "<urn:___param___#name> a brick:AHU ;\n",
      "    brick:feeds <urn:___param___#zone> .\n",
      "\n",
      "\n"
     ]
    }
   ],
   "source": [
    "\"\"\"\n",
    "Now we can populate the body.\n",
    "Note that the nodes \"name\" and \"zone\" are variables, or undefinied.\n",
    "They are the template's parameters, as defined above. This means their values\n",
    "will be pass to the template when evaluated.\n",
    "\"\"\"\n",
    "\n",
    "ahu_template.body.add((PARAM[\"name\"], RDF.type, BRICK[\"AHU\"]))\n",
    "ahu_template.body.add((PARAM[\"name\"], BRICK[\"feeds\"], PARAM[\"zone\"]))\n",
    "\n",
    "\n",
    "print(ahu_template.body.serialize(format=\"ttl\"))"
   ]
  },
  {
   "cell_type": "code",
   "execution_count": 6,
   "id": "2b0a9217",
   "metadata": {},
   "outputs": [
    {
     "name": "stdout",
     "output_type": "stream",
     "text": [
      "can't set attribute\n",
      "'set' object has no attribute 'append'\n"
     ]
    }
   ],
   "source": [
    "\"\"\"\n",
    "Note that the parameters are immutable.\n",
    "\"\"\"\n",
    "try:\n",
    "    ahu_template.parameters = [\"nope\"]\n",
    "except AttributeError as e:\n",
    "    print(e)\n",
    "\n",
    "try:\n",
    "    ahu_template.parameters.append(\"nope\")\n",
    "except AttributeError as e:\n",
    "    print(e)"
   ]
  },
  {
   "cell_type": "code",
   "execution_count": 7,
   "id": "f43624dc",
   "metadata": {},
   "outputs": [
    {
     "name": "stdout",
     "output_type": "stream",
     "text": [
      "(Dependency(_template_id=2, args={'name': 'sf'}),)\n"
     ]
    }
   ],
   "source": [
    "\"\"\"\n",
    "In addition to parameters, templates may also have dependancies on other templates.\n",
    "Say we added to ahu_template the following tuple, where \"sf\" refers to the\n",
    "following supply_fan template.\n",
    "\n",
    "We must then create a dependancy between the two, and define how the dependancy\n",
    "parameters should be evaluated.\n",
    "\"\"\"\n",
    "# this new triples requires dependancy \"sf\"\n",
    "ahu_template.body.add((PARAM[\"name\"], BRICK[\"hasPart\"], PARAM[\"sf\"]))\n",
    "\n",
    "# here we define the template we will depend on\n",
    "sf_template = tl.create_template(\n",
    "    name=\"supply_fan\",\n",
    ")\n",
    "sf_template.body.add((PARAM[\"name\"], RDF.type, BRICK[\"Supply_Fan\"]))\n",
    "\n",
    "# and finally define the dependancy.\n",
    "ahu_template.add_dependency(sf_template, {\"name\": \"sf\"})\n",
    "\n",
    "print(ahu_template.get_dependencies())"
   ]
  },
  {
   "cell_type": "code",
   "execution_count": 8,
   "id": "14cb7e3a",
   "metadata": {},
   "outputs": [
    {
     "name": "stdout",
     "output_type": "stream",
     "text": [
      "The name parameter is required for the dependency ahu\n",
      "(sqlite3.IntegrityError) UNIQUE constraint failed: deps_association_table.dependant_id, deps_association_table.dependee_id\n",
      "[SQL: INSERT INTO deps_association_table (dependant_id, dependee_id, args) VALUES (?, ?, ?)]\n",
      "[parameters: (1, 2, '{\"name\": \"sf\"}')]\n",
      "(Background on this error at: https://sqlalche.me/e/14/gkpj)\n"
     ]
    }
   ],
   "source": [
    "\"\"\" \n",
    "Note that both templates must be part of the same library, \n",
    "all parameters must be defined to create a dependancy,\n",
    "and that there can only be one dependency per directional dependant/dependee pair.\n",
    "\"\"\"\n",
    "building_motif.session.commit()\n",
    "\n",
    "# not in same library\n",
    "try:\n",
    "    other_tl = tl = TemplateLibrary.create(\"other_tl\")\n",
    "    other_sf_template = tl.create_template(\n",
    "        name=\"supply_fan\",\n",
    "    )\n",
    "    ahu_template.add_dependency(other_sf_template, {\"name\": \"sf\"})\n",
    "except Exception as e:\n",
    "    print(e)\n",
    "    building_motif.session.rollback()\n",
    "    \n",
    "# bad required_params\n",
    "try:\n",
    "    ahu_template.add_dependency(sf_template, {\"not a required_params\": \"sf\"})\n",
    "except ValueError as e:\n",
    "    print(e)\n",
    "\n",
    "# already exist\n",
    "try:\n",
    "    ahu_template.add_dependency(sf_template, {\"name\": \"sf\"})\n",
    "except Exception as e:\n",
    "    print(e)\n",
    "    building_motif.session.rollback()\n"
   ]
  },
  {
   "cell_type": "markdown",
   "id": "e0830aa1-eac3-40ee-9dac-79ab2be3ab56",
   "metadata": {},
   "source": [
    "# Loading Templates from an Ontology\n",
    "\n",
    "There is initial support for loading templates from the Class and NodeShape definitions contained within an ontology:"
   ]
  },
  {
   "cell_type": "code",
   "execution_count": 9,
   "id": "d973c18d-1390-4343-8856-22cca2961ec6",
   "metadata": {},
   "outputs": [
    {
     "name": "stdout",
     "output_type": "stream",
     "text": [
      "TemplateLibrary(_id=2, _name='Brick1.3rc1-equip-only.ttl', _bm=<buildingmotif.building_motif.building_motif.BuildingMOTIF object at 0x7fbb087499a0>)\n"
     ]
    }
   ],
   "source": [
    "lib = TemplateLibrary.load(directory=\"../tests/unit/fixtures/Brick1.3rc1-equip-only.ttl\")\n",
    "print(lib)"
   ]
  },
  {
   "cell_type": "code",
   "execution_count": 10,
   "id": "c22f6fc0",
   "metadata": {},
   "outputs": [
    {
     "data": {
      "text/plain": [
       "'TO COME: template evaluation'"
      ]
     },
     "execution_count": 10,
     "metadata": {},
     "output_type": "execute_result"
    }
   ],
   "source": [
    "\"\"\"TO COME: template evaluation\"\"\""
   ]
  }
 ],
 "metadata": {
  "jupytext": {
   "formats": "ipynb,md"
  },
  "kernelspec": {
   "display_name": "Python 3 (ipykernel)",
   "language": "python",
   "name": "python3"
  },
  "language_info": {
   "codemirror_mode": {
    "name": "ipython",
    "version": 3
   },
   "file_extension": ".py",
   "mimetype": "text/x-python",
   "name": "python",
   "nbconvert_exporter": "python",
   "pygments_lexer": "ipython3",
   "version": "3.9.12"
  }
 },
 "nbformat": 4,
 "nbformat_minor": 5
}
