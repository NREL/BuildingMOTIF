{
 "cells": [
  {
   "cell_type": "code",
   "execution_count": 1,
   "id": "743516db",
   "metadata": {},
   "outputs": [],
   "source": [
    "\"\"\"\n",
    "This notebook walks though how to use BuildingMOTIF Templates.\n",
    "\"\"\"\n",
    "from rdflib import RDF, URIRef\n",
    "\n",
    "from buildingmotif import BuildingMOTIF\n",
    "from buildingmotif.dataclasses import TemplateLibrary, Template\n",
    "from buildingmotif.database.tables import Base as BuildingMotif_tables_base"
   ]
  },
  {
   "cell_type": "code",
   "execution_count": 2,
   "id": "eab0aa57",
   "metadata": {},
   "outputs": [
    {
     "data": {
      "text/plain": [
       "<sqlalchemy.orm.session.Session at 0x107029070>"
      ]
     },
     "execution_count": 2,
     "metadata": {},
     "output_type": "execute_result"
    }
   ],
   "source": [
    "\"\"\"\n",
    "As always with BuildingMOTIF, we start by initing BuildingMOTIF.\n",
    "\"\"\"\n",
    "building_motif = BuildingMOTIF(f\"sqlite://\")\n",
    "BuildingMotif_tables_base.metadata.create_all(building_motif.engine)\n",
    "building_motif.session\n"
   ]
  },
  {
   "cell_type": "code",
   "execution_count": 3,
   "id": "f8ea265a",
   "metadata": {},
   "outputs": [
    {
     "data": {
      "text/plain": [
       "TemplateLibrary(_id=1, _name='my_tl', _bm=<buildingmotif.building_motif.building_motif.BuildingMOTIF object at 0x1064f8d90>)"
      ]
     },
     "execution_count": 3,
     "metadata": {},
     "output_type": "execute_result"
    }
   ],
   "source": [
    "\"\"\"\n",
    "Templates must always be conneted to a template library.\n",
    "\"\"\"\n",
    "tl = TemplateLibrary.create(\"my_tl\")\n",
    "tl"
   ]
  },
  {
   "cell_type": "code",
   "execution_count": 4,
   "id": "0d4a5032",
   "metadata": {},
   "outputs": [
    {
     "name": "stdout",
     "output_type": "stream",
     "text": [
      "Template(_id=1, _name='ahu', _head=('name', 'zone'), body=<Graph identifier=dec8b4de-e3ee-451a-ab9e-0a9b0ce9b344 (<class 'rdflib.graph.Graph'>)>, _bm=<buildingmotif.building_motif.building_motif.BuildingMOTIF object at 0x1064f8d90>)\n",
      "('name', 'zone')\n",
      "\n",
      "\n"
     ]
    }
   ],
   "source": [
    "\"\"\"\n",
    "Create a template through the template library. The body is currently empty.\n",
    "\n",
    "\"\"\"\n",
    "ahu_template = tl.create_template(\n",
    "    name=\"ahu\",\n",
    "    head=[\"name\", \"zone\"],\n",
    ")\n",
    "\n",
    "print(ahu_template)\n",
    "print(ahu_template.head)\n",
    "print(ahu_template.body.serialize(format=\"ttl\"))"
   ]
  },
  {
   "cell_type": "code",
   "execution_count": 5,
   "id": "60cc94a8",
   "metadata": {},
   "outputs": [
    {
     "name": "stdout",
     "output_type": "stream",
     "text": [
      "@prefix brick: <https://brickschema.org/schema/Brick#> .\n",
      "\n",
      "<https://buildingmotif.org/var#name> a brick:AHU ;\n",
      "    brick:feeds <https://buildingmotif.org/var#zone> .\n",
      "\n",
      "\n"
     ]
    }
   ],
   "source": [
    "\"\"\"\n",
    "Now we can populate the body.\n",
    "Note that the nodes \"name\" and \"zone\" are variables, or undefinied.\n",
    "They are the template's head, as defined above. This means their values\n",
    "will be pass to the template when evaluated.\n",
    "\"\"\"\n",
    "def as_brick(x):\n",
    "    return URIRef(f\"https://brickschema.org/schema/Brick#{x}\")\n",
    "\n",
    "def as_var(x):\n",
    "    return URIRef(f\"https://buildingmotif.org/var#{x}\")\n",
    "\n",
    "ahu_template.body.add((as_var(\"name\"), RDF.type, as_brick(\"AHU\")))\n",
    "ahu_template.body.add((as_var(\"name\"), as_brick(\"feeds\"), as_var(\"zone\")))\n",
    "\n",
    "\n",
    "print(ahu_template.body.serialize(format=\"ttl\"))"
   ]
  },
  {
   "cell_type": "code",
   "execution_count": 6,
   "id": "2b0a9217",
   "metadata": {},
   "outputs": [
    {
     "name": "stdout",
     "output_type": "stream",
     "text": [
      "Cannot modify head\n",
      "'tuple' object has no attribute 'append'\n"
     ]
    }
   ],
   "source": [
    "\"\"\"\n",
    "Note that the head is immutable.\n",
    "\"\"\"\n",
    "try:\n",
    "    ahu_template.head = [\"nope\"]\n",
    "except AttributeError as e:\n",
    "    print(e)\n",
    "\n",
    "try:\n",
    "    ahu_template.head.append(\"nope\")\n",
    "except AttributeError as e:\n",
    "    print(e)"
   ]
  },
  {
   "cell_type": "code",
   "execution_count": 7,
   "id": "f43624dc",
   "metadata": {},
   "outputs": [
    {
     "name": "stdout",
     "output_type": "stream",
     "text": [
      "(Dependency(_template_id=2, args={'name': 'sf'}),)\n"
     ]
    }
   ],
   "source": [
    "\"\"\"\n",
    "In addition to heads, templates may also have dependancies on other templates.\n",
    "Say we added to ahu_template the following tuple, where \"sf\" refers to the\n",
    "following supply_fan template.\n",
    "\n",
    "We must then create a dependancy between the two, and define how the dependancy\n",
    "head should be evaluated.\n",
    "\"\"\"\n",
    "# this new triples requires dependancy \"sf\"\n",
    "ahu_template.body.add((as_var(\"name\"), as_brick(\"hasPart\"), as_var(\"sf\")))\n",
    "\n",
    "# here we define the template we will depend on\n",
    "sf_template = tl.create_template(\n",
    "    name=\"supply_fan\",\n",
    "    head=[\"name\"],\n",
    ")\n",
    "sf_template.body.add((as_var(\"name\"), RDF.type, as_brick(\"Supply_Fan\")))\n",
    "\n",
    "# and finally define the dependancy.\n",
    "ahu_template.add_dependency(sf_template, {\"name\": \"sf\"})\n",
    "\n",
    "print(ahu_template.get_dependencies())"
   ]
  },
  {
   "cell_type": "code",
   "execution_count": 8,
   "id": "14cb7e3a",
   "metadata": {},
   "outputs": [
    {
     "name": "stdout",
     "output_type": "stream",
     "text": [
      "All args in dependee template 2's head must be in args ({'not a head': 'sf'})\n",
      "(sqlite3.IntegrityError) UNIQUE constraint failed: deps_association_table.dependant_id, deps_association_table.dependee_id\n",
      "[SQL: INSERT INTO deps_association_table (dependant_id, dependee_id, args) VALUES (?, ?, ?)]\n",
      "[parameters: (1, 2, '{\"name\": \"sf\"}')]\n",
      "(Background on this error at: https://sqlalche.me/e/14/gkpj)\n"
     ]
    }
   ],
   "source": [
    "\"\"\" \n",
    "Note that both templates must be part of the same library, \n",
    "all heads must be defined to create a dependancy,\n",
    "and that there can only be one dependency per directional dependant/dependee pair.\n",
    "\"\"\"\n",
    "building_motif.session.commit()\n",
    "\n",
    "# not in same library\n",
    "try:\n",
    "    other_tl = tl = TemplateLibrary.create(\"other_tl\")\n",
    "    other_sf_template = tl.create_template(\n",
    "        name=\"supply_fan\",\n",
    "        head=[\"name\"],\n",
    "    )\n",
    "    ahu_template.add_dependency(other_sf_template, {\"name\": \"sf\"})\n",
    "except Exception as e:\n",
    "    print(e)\n",
    "    building_motif.session.rollback()\n",
    "    \n",
    "# bad head\n",
    "try:\n",
    "    ahu_template.add_dependency(sf_template, {\"not a head\": \"sf\"})\n",
    "except ValueError as e:\n",
    "    print(e)\n",
    "\n",
    "# already exist\n",
    "try:\n",
    "    ahu_template.add_dependency(sf_template, {\"name\": \"sf\"})\n",
    "except Exception as e:\n",
    "    print(e)\n",
    "    building_motif.session.rollback()\n"
   ]
  },
  {
   "cell_type": "markdown",
   "id": "e0830aa1-eac3-40ee-9dac-79ab2be3ab56",
   "metadata": {},
   "source": [
    "# Loading Templates from an Ontology\n",
    "\n",
    "There is initial support for loading templates from the Class and NodeShape definitions contained within an ontology:"
   ]
  },
  {
   "cell_type": "code",
   "execution_count": 9,
   "id": "d973c18d-1390-4343-8856-22cca2961ec6",
   "metadata": {},
   "outputs": [
    {
     "name": "stdout",
     "output_type": "stream",
     "text": [
      "TemplateLibrary(_id=2, _name='Brick1.3rc1-equip-only.ttl', _bm=<buildingmotif.building_motif.building_motif.BuildingMOTIF object at 0x1064f8d90>)\n"
     ]
    }
   ],
   "source": [
    "lib = TemplateLibrary.load(directory=\"../tests/unit/fixtures/Brick1.3rc1-equip-only.ttl\")\n",
    "print(lib)"
   ]
  },
  {
   "cell_type": "code",
   "execution_count": 10,
   "id": "c22f6fc0",
   "metadata": {},
   "outputs": [
    {
     "data": {
      "text/plain": [
       "'TO COME: template evaluation'"
      ]
     },
     "execution_count": 10,
     "metadata": {},
     "output_type": "execute_result"
    }
   ],
   "source": [
    "\"\"\"TO COME: template evaluation\"\"\""
   ]
  },
  {
   "cell_type": "code",
   "execution_count": null,
   "id": "a2342470",
   "metadata": {},
   "outputs": [],
   "source": []
  }
 ],
 "metadata": {
  "kernelspec": {
   "display_name": "Python 3 (ipykernel)",
   "language": "python",
   "name": "python3"
  },
  "language_info": {
   "codemirror_mode": {
    "name": "ipython",
    "version": 3
   },
   "file_extension": ".py",
   "mimetype": "text/x-python",
   "name": "python",
   "nbconvert_exporter": "python",
   "pygments_lexer": "ipython3",
   "version": "3.9.9"
  }
 },
 "nbformat": 4,
 "nbformat_minor": 5
}
