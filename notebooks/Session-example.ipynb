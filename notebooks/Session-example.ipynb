{
 "cells": [
  {
   "cell_type": "code",
   "execution_count": null,
   "id": "fd37d5c6",
   "metadata": {},
   "outputs": [],
   "source": [
    "\"\"\"\n",
    "This Notebook gives an intro on how to handle BuildingMotifs Sqlalachmely Session.\n",
    "\"\"\"\n",
    "import os\n",
    "\n",
    "from rdflib import RDF, URIRef\n",
    "from rdflib.compare import isomorphic\n",
    "from rdflib.namespace import FOAF\n",
    "import sqlite3 as lite\n",
    "\n",
    "from buildingmotif.building_motif import BuildingMotif\n",
    "from buildingmotif.dataclasses.template import Template\n",
    "from buildingmotif.dataclasses.template_library import TemplateLibrary\n",
    "from buildingmotif.dataclasses.model import Model\n"
   ]
  },
  {
   "cell_type": "code",
   "execution_count": null,
   "id": "37d89d14",
   "metadata": {},
   "outputs": [],
   "source": [
    "\"\"\"\n",
    "Create a testdb file, init a buiding_motif, and create a sqlite connection (for db transparency)\n",
    "\"\"\"\n",
    "file = \"./test.db\"\n",
    "if os.path.isfile(file):\n",
    "    os.remove(file) \n",
    "\n",
    "building_motif = BuildingMotif(f\"sqlite:///{file}\")\n",
    "building_motif.session\n",
    "\n",
    "conn = lite.connect(file)\n",
    "cur = conn.cursor()\n"
   ]
  },
  {
   "cell_type": "code",
   "execution_count": null,
   "id": "90fc06ee",
   "metadata": {},
   "outputs": [],
   "source": [
    "\"\"\"\n",
    "Create a Template Library. Note that while You can get\n",
    "the template library within the session, it is not writen\n",
    "to the db until after the commit.\n",
    "\"\"\"\n",
    "tl = TemplateLibrary.create(\"my_template_library\")\n",
    "print(tl)\n",
    "assert len(building_motif.table_connection.get_all_db_template_libraries()) == 1\n",
    "\n",
    "cur.execute(\"SELECT * FROM template_library\")\n",
    "print(f\"pre-commit template_library: {cur.fetchall()}\")\n",
    "\n",
    "building_motif.session.commit()\n",
    "\n",
    "cur.execute(\"SELECT * FROM template_library\")\n",
    "print(f\"post-commit template_library: {cur.fetchall()}\")"
   ]
  },
  {
   "cell_type": "code",
   "execution_count": null,
   "id": "3be9536a",
   "metadata": {},
   "outputs": [],
   "source": [
    "\"\"\"\n",
    "Same thing with a template. \n",
    "\"\"\"\n",
    "t = tl.create_template(name=\"my_template\")\n",
    "print(t)\n",
    "assert tl.get_templates()[0] == t\n",
    "assert len(building_motif.table_connection.get_all_db_templates()) == 1\n",
    "\n",
    "cur.execute(\"SELECT * FROM template\")\n",
    "print(f\"pre-commit template: {cur.fetchall()}\")\n",
    "\n",
    "building_motif.session.commit()\n",
    "\n",
    "cur.execute(\"SELECT * FROM template\")\n",
    "print(f\"post-commit template: {cur.fetchall()}\")"
   ]
  },
  {
   "cell_type": "code",
   "execution_count": null,
   "id": "284e3668",
   "metadata": {},
   "outputs": [],
   "source": [
    "\"\"\"\n",
    "Graphs abide by sessioning, too\n",
    "\"\"\"\n",
    "print(t.body)\n",
    "t.body.add((URIRef(\"http://example.org/alex\"), RDF.type, FOAF.Person))\n",
    "body_id = building_motif.table_connection.get_db_template(t.id).body_id\n",
    "assert isomorphic(building_motif.graph_connection.get_graph(body_id), t.body)\n",
    "\n",
    "cur.execute(\"SELECT * FROM kb_625d302a74_type_statements\")\n",
    "print(f\"pre-commit statements: {cur.fetchall()}\")\n",
    "\n",
    "building_motif.session.commit()\n",
    "\n",
    "cur.execute(\"SELECT * FROM kb_625d302a74_type_statements\")\n",
    "print(f\"post-commit statements: {cur.fetchall()}\")\n",
    "\n"
   ]
  },
  {
   "cell_type": "code",
   "execution_count": null,
   "id": "bc8f7750",
   "metadata": {},
   "outputs": [],
   "source": [
    "\"\"\"\n",
    "You don't have to commit after each create. After each\n",
    "create, we flush the session, so that the created object\n",
    "is avaiable for reference.\n",
    "\"\"\"\n",
    "tl = TemplateLibrary.create(\"your_template_library\")\n",
    "t = tl.create_template(name=\"your_template\")\n",
    "t.body.add((URIRef(\"http://example.org/alex\"), RDF.type, FOAF.Person))\n",
    "\n",
    "building_motif.session.commit()"
   ]
  },
  {
   "cell_type": "code",
   "execution_count": null,
   "id": "8e867ec4",
   "metadata": {},
   "outputs": [],
   "source": [
    "\"\"\"\n",
    "A db error could happen on a flush or a commit, and you\n",
    "will have to rollback to continue using the session.\n",
    "\"\"\"\n",
    "try:\n",
    "    TemplateLibrary.create(\"my_template_library\")\n",
    "except Exception as e:\n",
    "    print(f\"{e}\\n\")\n",
    "    building_motif.session.rollback()\n",
    "    \n",
    "bad_tl = TemplateLibrary.create(\"a fine name\")\n",
    "bad_tl.name = \"my_template_library\"\n",
    "try:\n",
    "    building_motif.session.commit()\n",
    "except Exception as e:\n",
    "    print(f\"{e}\\n\")\n",
    "    building_motif.session.rollback()"
   ]
  },
  {
   "cell_type": "code",
   "execution_count": null,
   "id": "469918df",
   "metadata": {},
   "outputs": [],
   "source": [
    "\"\"\"\n",
    "Remember buiding_motif.session is a unwrapped or modified \n",
    "Sqlalchemly Session, and using it comes with all the power\n",
    "and complexity of sqlalchemly. Be sure to read the docs!\n",
    "\n",
    "https://docs.sqlalchemy.org/en/14/orm/session_api.html\n",
    "\"\"\""
   ]
  },
  {
   "cell_type": "code",
   "execution_count": null,
   "id": "bc0230a0",
   "metadata": {},
   "outputs": [],
   "source": []
  }
 ],
 "metadata": {
  "jupytext": {
   "formats": "ipynb,md"
  },
  "kernelspec": {
   "display_name": "Python 3 (ipykernel)",
   "language": "python",
   "name": "python3"
  }
 },
 "nbformat": 4,
 "nbformat_minor": 5
}
