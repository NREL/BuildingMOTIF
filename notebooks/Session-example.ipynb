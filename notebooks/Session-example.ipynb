{
 "cells": [
  {
   "cell_type": "code",
   "execution_count": 1,
   "id": "fd37d5c6",
   "metadata": {
    "execution": {
     "iopub.execute_input": "2024-07-03T00:20:03.187599Z",
     "iopub.status.busy": "2024-07-03T00:20:03.187471Z",
     "iopub.status.idle": "2024-07-03T00:20:03.554342Z",
     "shell.execute_reply": "2024-07-03T00:20:03.553913Z"
    }
   },
   "outputs": [],
   "source": [
    "\"\"\"\n",
    "This Notebook gives an intro on how to handle BuildingMotif's sqlalchemy Session.\n",
    "\"\"\"\n",
    "import os\n",
    "\n",
    "from rdflib import RDF, URIRef\n",
    "from rdflib.compare import isomorphic\n",
    "from rdflib.namespace import FOAF\n",
    "import sqlite3 as lite\n",
    "\n",
    "from buildingmotif import BuildingMOTIF\n",
    "from buildingmotif.dataclasses import Template, Library, Model"
   ]
  },
  {
   "cell_type": "code",
   "execution_count": 2,
   "id": "37d89d14",
   "metadata": {
    "execution": {
     "iopub.execute_input": "2024-07-03T00:20:03.556537Z",
     "iopub.status.busy": "2024-07-03T00:20:03.556387Z",
     "iopub.status.idle": "2024-07-03T00:20:03.593951Z",
     "shell.execute_reply": "2024-07-03T00:20:03.593643Z"
    }
   },
   "outputs": [],
   "source": [
    "\"\"\"\n",
    "Create a testdb file, init a buiding_motif, and create a sqlite connection (for db transparency)\n",
    "\"\"\"\n",
    "file = \"./test.db\"\n",
    "if os.path.isfile(file):\n",
    "    os.remove(file) \n",
    "\n",
    "building_motif = BuildingMOTIF(f\"sqlite:///{file}\")\n",
    "building_motif.setup_tables()\n",
    "building_motif.session\n",
    "\n",
    "conn = lite.connect(file)\n",
    "cur = conn.cursor()\n"
   ]
  },
  {
   "cell_type": "code",
   "execution_count": 3,
   "id": "90fc06ee",
   "metadata": {
    "execution": {
     "iopub.execute_input": "2024-07-03T00:20:03.595821Z",
     "iopub.status.busy": "2024-07-03T00:20:03.595678Z",
     "iopub.status.idle": "2024-07-03T00:20:03.608620Z",
     "shell.execute_reply": "2024-07-03T00:20:03.608304Z"
    }
   },
   "outputs": [
    {
     "name": "stdout",
     "output_type": "stream",
     "text": [
      "Library(_id=1, _name='my_library', _bm=<buildingmotif.building_motif.building_motif.BuildingMOTIF object at 0x1058789d0>)\n",
      "pre-commit library: []\n",
      "post-commit library: [(1, 'my_library', 1)]\n"
     ]
    }
   ],
   "source": [
    "\"\"\"\n",
    "Create a Library. Note that while You can get\n",
    "the library within the session, it is not writen\n",
    "to the db until after the commit.\n",
    "\"\"\"\n",
    "lib = Library.create(\"my_library\")\n",
    "print(lib)\n",
    "assert len(building_motif.table_connection.get_all_db_libraries()) == 1\n",
    "\n",
    "cur.execute(\"SELECT * FROM library\")\n",
    "print(f\"pre-commit library: {cur.fetchall()}\")\n",
    "\n",
    "building_motif.session.commit()\n",
    "\n",
    "cur.execute(\"SELECT * FROM library\")\n",
    "print(f\"post-commit library: {cur.fetchall()}\")"
   ]
  },
  {
   "cell_type": "code",
   "execution_count": 4,
   "id": "3be9536a",
   "metadata": {
    "execution": {
     "iopub.execute_input": "2024-07-03T00:20:03.610392Z",
     "iopub.status.busy": "2024-07-03T00:20:03.610261Z",
     "iopub.status.idle": "2024-07-03T00:20:03.619171Z",
     "shell.execute_reply": "2024-07-03T00:20:03.618881Z"
    }
   },
   "outputs": [
    {
     "name": "stdout",
     "output_type": "stream",
     "text": [
      "Template(_id=1, _name='my_template', body=<Graph identifier=c1567106-ccea-4d56-b941-8911c7d89b5f (<class 'rdflib.graph.Graph'>)>, optional_args=[], _bm=<buildingmotif.building_motif.building_motif.BuildingMOTIF object at 0x1058789d0>)\n",
      "pre-commit template: []\n",
      "post-commit template: [(1, 'my_template', 'c1567106-ccea-4d56-b941-8911c7d89b5f', '[]', 1)]\n"
     ]
    }
   ],
   "source": [
    "\"\"\"\n",
    "Same thing with a template. \n",
    "\"\"\"\n",
    "t = lib.create_template(name=\"my_template\")\n",
    "print(t)\n",
    "assert lib.get_templates()[0] == t\n",
    "assert len(building_motif.table_connection.get_all_db_templates()) == 1\n",
    "\n",
    "cur.execute(\"SELECT * FROM template\")\n",
    "print(f\"pre-commit template: {cur.fetchall()}\")\n",
    "\n",
    "building_motif.session.commit()\n",
    "\n",
    "cur.execute(\"SELECT * FROM template\")\n",
    "print(f\"post-commit template: {cur.fetchall()}\")"
   ]
  },
  {
   "cell_type": "code",
   "execution_count": 5,
   "id": "284e3668",
   "metadata": {
    "execution": {
     "iopub.execute_input": "2024-07-03T00:20:03.620983Z",
     "iopub.status.busy": "2024-07-03T00:20:03.620853Z",
     "iopub.status.idle": "2024-07-03T00:20:03.630761Z",
     "shell.execute_reply": "2024-07-03T00:20:03.630463Z"
    }
   },
   "outputs": [
    {
     "name": "stdout",
     "output_type": "stream",
     "text": [
      "<c1567106-ccea-4d56-b941-8911c7d89b5f> a rdfg:Graph;rdflib:storage [a rdflib:Store;rdfs:label 'SQLAlchemy'].\n",
      "pre-commit statements: []\n",
      "post-commit statements: [(1, 'http://example.org/alex', 'http://xmlns.com/foaf/0.1/Person', 'c1567106-ccea-4d56-b941-8911c7d89b5f', 0)]\n"
     ]
    }
   ],
   "source": [
    "\"\"\"\n",
    "Graphs abide by sessioning, too\n",
    "\"\"\"\n",
    "print(t.body)\n",
    "t.body.add((URIRef(\"http://example.org/alex\"), RDF.type, FOAF.Person))\n",
    "body_id = building_motif.table_connection.get_db_template(t.id).body_id\n",
    "assert isomorphic(building_motif.graph_connection.get_graph(body_id), t.body)\n",
    "\n",
    "cur.execute(\"SELECT * FROM kb_625d302a74_type_statements\")\n",
    "print(f\"pre-commit statements: {cur.fetchall()}\")\n",
    "\n",
    "building_motif.session.commit()\n",
    "\n",
    "cur.execute(\"SELECT * FROM kb_625d302a74_type_statements\")\n",
    "print(f\"post-commit statements: {cur.fetchall()}\")\n",
    "\n"
   ]
  },
  {
   "cell_type": "code",
   "execution_count": 6,
   "id": "bc8f7750",
   "metadata": {
    "execution": {
     "iopub.execute_input": "2024-07-03T00:20:03.632491Z",
     "iopub.status.busy": "2024-07-03T00:20:03.632379Z",
     "iopub.status.idle": "2024-07-03T00:20:03.637972Z",
     "shell.execute_reply": "2024-07-03T00:20:03.637684Z"
    }
   },
   "outputs": [],
   "source": [
    "\"\"\"\n",
    "You don't have to commit after each create. After each\n",
    "create, we flush the session, so that the created object\n",
    "is avaiable for reference.\n",
    "\"\"\"\n",
    "lib = Library.create(\"your_library\")\n",
    "t = lib.create_template(name=\"your_template\")\n",
    "t.body.add((URIRef(\"http://example.org/alex\"), RDF.type, FOAF.Person))\n",
    "\n",
    "building_motif.session.commit()"
   ]
  },
  {
   "cell_type": "code",
   "execution_count": 7,
   "id": "8e867ec4",
   "metadata": {
    "execution": {
     "iopub.execute_input": "2024-07-03T00:20:03.640540Z",
     "iopub.status.busy": "2024-07-03T00:20:03.640413Z",
     "iopub.status.idle": "2024-07-03T00:20:03.648515Z",
     "shell.execute_reply": "2024-07-03T00:20:03.648214Z"
    }
   },
   "outputs": [
    {
     "name": "stdout",
     "output_type": "stream",
     "text": [
      "(sqlite3.IntegrityError) UNIQUE constraint failed: library.name\n",
      "[SQL: UPDATE library SET name=? WHERE library.id = ?]\n",
      "[parameters: ('my_library', 3)]\n",
      "(Background on this error at: https://sqlalche.me/e/14/gkpj)\n",
      "\n"
     ]
    }
   ],
   "source": [
    "\"\"\"\n",
    "A db error could happen on a flush or a commit, and you\n",
    "will have to rollback to continue using the session.\n",
    "\"\"\"\n",
    "try:\n",
    "    Library.create(\"my_library\")\n",
    "except Exception as e:\n",
    "    print(f\"{e}\\n\")\n",
    "    building_motif.session.rollback()\n",
    "    \n",
    "bad_lib = Library.create(\"a fine name\")\n",
    "bad_lib.name = \"my_library\"\n",
    "try:\n",
    "    building_motif.session.commit()\n",
    "except Exception as e:\n",
    "    print(f\"{e}\\n\")\n",
    "    building_motif.session.rollback()"
   ]
  },
  {
   "cell_type": "code",
   "execution_count": 8,
   "id": "469918df",
   "metadata": {
    "execution": {
     "iopub.execute_input": "2024-07-03T00:20:03.650261Z",
     "iopub.status.busy": "2024-07-03T00:20:03.650131Z",
     "iopub.status.idle": "2024-07-03T00:20:03.653821Z",
     "shell.execute_reply": "2024-07-03T00:20:03.653530Z"
    }
   },
   "outputs": [
    {
     "data": {
      "text/plain": [
       "'\\nRemember buiding_motif.session is a unwrapped or modified \\n Session, and using it comes with all the power\\nand complexity of . Be sure to read the docs!\\n\\nhttps://docs.sqlalchemy.org/en/14/orm/session_api.html\\n'"
      ]
     },
     "execution_count": 8,
     "metadata": {},
     "output_type": "execute_result"
    }
   ],
   "source": [
    "\"\"\"\n",
    "Remember buiding_motif.session is a unwrapped or modified \n",
    " Session, and using it comes with all the power\n",
    "and complexity of . Be sure to read the docs!\n",
    "\n",
    "https://docs.sqlalchemy.org/en/14/orm/session_api.html\n",
    "\"\"\""
   ]
  },
  {
   "cell_type": "code",
   "execution_count": null,
   "id": "bc0230a0",
   "metadata": {},
   "outputs": [],
   "source": []
  }
 ],
 "metadata": {
  "jupytext": {
   "formats": "ipynb,md"
  },
  "kernelspec": {
   "display_name": "Python 3 (ipykernel)",
   "language": "python",
   "name": "python3"
  },
  "language_info": {
   "codemirror_mode": {
    "name": "ipython",
    "version": 3
   },
   "file_extension": ".py",
   "mimetype": "text/x-python",
   "name": "python",
   "nbconvert_exporter": "python",
   "pygments_lexer": "ipython3",
   "version": "3.11.9"
  }
 },
 "nbformat": 4,
 "nbformat_minor": 5
}
