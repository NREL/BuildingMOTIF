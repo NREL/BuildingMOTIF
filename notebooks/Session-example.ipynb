{
 "cells": [
  {
   "cell_type": "code",
   "execution_count": 1,
   "id": "fd37d5c6",
   "metadata": {},
   "outputs": [],
   "source": [
    "\"\"\"\n",
    "This Notebook gives an intro on how to handle BuildingMotif's Sqlalachmely Session.\n",
    "\"\"\"\n",
    "import os\n",
    "\n",
    "from rdflib import RDF, URIRef\n",
    "from rdflib.compare import isomorphic\n",
    "from rdflib.namespace import FOAF\n",
    "import sqlite3 as lite\n",
    "\n",
    "from buildingmotif import BuildingMOTIF\n",
    "from buildingmotif.dataclasses import Template, TemplateLibrary, Model\n"
   ]
  },
  {
   "cell_type": "code",
   "execution_count": 2,
   "id": "37d89d14",
   "metadata": {},
   "outputs": [],
   "source": [
    "\"\"\"\n",
    "Create a testdb file, init a buiding_motif, and create a sqlite connection (for db transparency)\n",
    "\"\"\"\n",
    "file = \"./test.db\"\n",
    "if os.path.isfile(file):\n",
    "    os.remove(file) \n",
    "\n",
    "building_motif = BuildingMOTIF(f\"sqlite:///{file}\")\n",
    "building_motif.session\n",
    "\n",
    "conn = lite.connect(file)\n",
    "cur = conn.cursor()\n"
   ]
  },
  {
   "cell_type": "code",
   "execution_count": 3,
   "id": "90fc06ee",
   "metadata": {},
   "outputs": [
    {
     "name": "stdout",
     "output_type": "stream",
     "text": [
      "TemplateLibrary(_id=1, _name='my_template_library', _bm=<buildingmotif.building_motif.building_motif.BuildingMOTIF object at 0x7feb3c58ba00>)\n",
      "pre-commit template_library: []\n",
      "post-commit template_library: [(1, 'my_template_library')]\n"
     ]
    }
   ],
   "source": [
    "\"\"\"\n",
    "Create a Template Library. Note that while You can get\n",
    "the template library within the session, it is not writen\n",
    "to the db until after the commit.\n",
    "\"\"\"\n",
    "tl = TemplateLibrary.create(\"my_template_library\")\n",
    "print(tl)\n",
    "assert len(building_motif.table_connection.get_all_db_template_libraries()) == 1\n",
    "\n",
    "cur.execute(\"SELECT * FROM template_library\")\n",
    "print(f\"pre-commit template_library: {cur.fetchall()}\")\n",
    "\n",
    "building_motif.session.commit()\n",
    "\n",
    "cur.execute(\"SELECT * FROM template_library\")\n",
    "print(f\"post-commit template_library: {cur.fetchall()}\")"
   ]
  },
  {
   "cell_type": "code",
   "execution_count": 4,
   "id": "3be9536a",
   "metadata": {},
   "outputs": [
    {
     "name": "stdout",
     "output_type": "stream",
     "text": [
      "Template(_id=1, _name='my_template', body=<Graph identifier=89bab7dd-1d78-4b8f-87cd-d6186cfe8d21 (<class 'rdflib.graph.Graph'>)>, optional_args=[], _bm=<buildingmotif.building_motif.building_motif.BuildingMOTIF object at 0x7feb3c58ba00>)\n",
      "pre-commit template: []\n",
      "post-commit template: [(1, 'my_template', '89bab7dd-1d78-4b8f-87cd-d6186cfe8d21', '[]', 1)]\n"
     ]
    }
   ],
   "source": [
    "\"\"\"\n",
    "Same thing with a template. \n",
    "\"\"\"\n",
    "t = tl.create_template(name=\"my_template\")\n",
    "print(t)\n",
    "assert tl.get_templates()[0] == t\n",
    "assert len(building_motif.table_connection.get_all_db_templates()) == 1\n",
    "\n",
    "cur.execute(\"SELECT * FROM template\")\n",
    "print(f\"pre-commit template: {cur.fetchall()}\")\n",
    "\n",
    "building_motif.session.commit()\n",
    "\n",
    "cur.execute(\"SELECT * FROM template\")\n",
    "print(f\"post-commit template: {cur.fetchall()}\")"
   ]
  },
  {
   "cell_type": "code",
   "execution_count": 5,
   "id": "284e3668",
   "metadata": {},
   "outputs": [
    {
     "name": "stdout",
     "output_type": "stream",
     "text": [
      "<89bab7dd-1d78-4b8f-87cd-d6186cfe8d21> a rdfg:Graph;rdflib:storage [a rdflib:Store;rdfs:label 'SQLAlchemy'].\n",
      "pre-commit statements: []\n",
      "post-commit statements: [(1, 'http://example.org/alex', 'http://xmlns.com/foaf/0.1/Person', '89bab7dd-1d78-4b8f-87cd-d6186cfe8d21', 0)]\n"
     ]
    }
   ],
   "source": [
    "\"\"\"\n",
    "Graphs abide by sessioning, too\n",
    "\"\"\"\n",
    "print(t.body)\n",
    "t.body.add((URIRef(\"http://example.org/alex\"), RDF.type, FOAF.Person))\n",
    "body_id = building_motif.table_connection.get_db_template(t.id).body_id\n",
    "assert isomorphic(building_motif.graph_connection.get_graph(body_id), t.body)\n",
    "\n",
    "cur.execute(\"SELECT * FROM kb_625d302a74_type_statements\")\n",
    "print(f\"pre-commit statements: {cur.fetchall()}\")\n",
    "\n",
    "building_motif.session.commit()\n",
    "\n",
    "cur.execute(\"SELECT * FROM kb_625d302a74_type_statements\")\n",
    "print(f\"post-commit statements: {cur.fetchall()}\")\n",
    "\n"
   ]
  },
  {
   "cell_type": "code",
   "execution_count": 6,
   "id": "bc8f7750",
   "metadata": {},
   "outputs": [],
   "source": [
    "\"\"\"\n",
    "You don't have to commit after each create. After each\n",
    "create, we flush the session, so that the created object\n",
    "is avaiable for reference.\n",
    "\"\"\"\n",
    "tl = TemplateLibrary.create(\"your_template_library\")\n",
    "t = tl.create_template(name=\"your_template\")\n",
    "t.body.add((URIRef(\"http://example.org/alex\"), RDF.type, FOAF.Person))\n",
    "\n",
    "building_motif.session.commit()"
   ]
  },
  {
   "cell_type": "code",
   "execution_count": 7,
   "id": "8e867ec4",
   "metadata": {},
   "outputs": [
    {
     "name": "stdout",
     "output_type": "stream",
     "text": [
      "(sqlite3.IntegrityError) UNIQUE constraint failed: template_library.name\n",
      "[SQL: INSERT INTO template_library (name) VALUES (?)]\n",
      "[parameters: ('my_template_library',)]\n",
      "(Background on this error at: https://sqlalche.me/e/14/gkpj)\n",
      "\n",
      "(sqlite3.IntegrityError) UNIQUE constraint failed: template_library.name\n",
      "[SQL: UPDATE template_library SET name=? WHERE template_library.id = ?]\n",
      "[parameters: ('my_template_library', 3)]\n",
      "(Background on this error at: https://sqlalche.me/e/14/gkpj)\n",
      "\n"
     ]
    }
   ],
   "source": [
    "\"\"\"\n",
    "A db error could happen on a flush or a commit, and you\n",
    "will have to rollback to continue using the session.\n",
    "\"\"\"\n",
    "try:\n",
    "    TemplateLibrary.create(\"my_template_library\")\n",
    "except Exception as e:\n",
    "    print(f\"{e}\\n\")\n",
    "    building_motif.session.rollback()\n",
    "    \n",
    "bad_tl = TemplateLibrary.create(\"a fine name\")\n",
    "bad_tl.name = \"my_template_library\"\n",
    "try:\n",
    "    building_motif.session.commit()\n",
    "except Exception as e:\n",
    "    print(f\"{e}\\n\")\n",
    "    building_motif.session.rollback()"
   ]
  },
  {
   "cell_type": "code",
   "execution_count": 8,
   "id": "469918df",
   "metadata": {},
   "outputs": [
    {
     "data": {
      "text/plain": [
       "'\\nRemember buiding_motif.session is a unwrapped or modified \\nSqlalchemly Session, and using it comes with all the power\\nand complexity of sqlalchemly. Be sure to read the docs!\\n\\nhttps://docs.sqlalchemy.org/en/14/orm/session_api.html\\n'"
      ]
     },
     "execution_count": 8,
     "metadata": {},
     "output_type": "execute_result"
    }
   ],
   "source": [
    "\"\"\"\n",
    "Remember buiding_motif.session is a unwrapped or modified \n",
    "Sqlalchemly Session, and using it comes with all the power\n",
    "and complexity of sqlalchemly. Be sure to read the docs!\n",
    "\n",
    "https://docs.sqlalchemy.org/en/14/orm/session_api.html\n",
    "\"\"\""
   ]
  },
  {
   "cell_type": "code",
   "execution_count": null,
   "id": "bc0230a0",
   "metadata": {},
   "outputs": [],
   "source": []
  }
 ],
 "metadata": {
  "jupytext": {
   "formats": "ipynb,md"
  },
  "kernelspec": {
   "display_name": "Python 3 (ipykernel)",
   "language": "python",
   "name": "python3"
  },
  "language_info": {
   "codemirror_mode": {
    "name": "ipython",
    "version": 3
   },
   "file_extension": ".py",
   "mimetype": "text/x-python",
   "name": "python",
   "nbconvert_exporter": "python",
   "pygments_lexer": "ipython3",
   "version": "3.9.12"
  }
 },
 "nbformat": 4,
 "nbformat_minor": 5
}
