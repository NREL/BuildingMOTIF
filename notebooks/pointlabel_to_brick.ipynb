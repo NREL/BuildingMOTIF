{
 "cells": [
  {
   "cell_type": "code",
   "execution_count": 1,
   "id": "750eccda-0009-4d4a-a0f3-96c56eed1a63",
   "metadata": {},
   "outputs": [],
   "source": [
    "from buildingmotif.dataclasses import Library, Template, Model\n",
    "from buildingmotif import BuildingMOTIF\n",
    "from rdflib import Namespace\n",
    "# this suppresses some warnings from the semantic graph synthesis implementation\n",
    "import pandas\n",
    "pandas.set_option('future.no_silent_downcasting', True)"
   ]
  },
  {
   "cell_type": "markdown",
   "id": "7765ca22-9882-4ad5-a2d8-441daaff23f7",
   "metadata": {},
   "source": [
    "Create the BuildingMOTIF instance. Load in the latest Brick library so we can validate our model against Brick when we are done. Also load the `equipment_templates` library, which contains some generic templates we can use to build our model."
   ]
  },
  {
   "cell_type": "code",
   "execution_count": 2,
   "id": "1af1e756-5bf6-4db6-8fe9-5af06b40ab78",
   "metadata": {},
   "outputs": [
    {
     "name": "stderr",
     "output_type": "stream",
     "text": [
      "/Users/gabe/src/NREL/BuildingMOTIF/.venv/lib/python3.11/site-packages/pyshacl/extras/__init__.py:46: Warning: Extra \"js\" is not satisfied because requirement pyduktape2 is not installed.\n",
      "  warn(Warning(f\"Extra \\\"{extra_name}\\\" is not satisfied because requirement {req} is not installed.\"))\n",
      "2024-09-17 20:48:18,686 | root |  WARNING: An ontology could not resolve a dependency on http://qudt.org/2.1/schema/shacl/overlay/qudt (No row was found when one was required). Check this is loaded into BuildingMOTIF\n",
      "2024-09-17 20:48:18,687 | root |  WARNING: An ontology could not resolve a dependency on https://brickschema.org/schema/Brick/ref (No row was found when one was required). Check this is loaded into BuildingMOTIF\n",
      "2024-09-17 20:48:18,688 | root |  WARNING: An ontology could not resolve a dependency on http://data.ashrae.org/bacnet/2020 (No row was found when one was required). Check this is loaded into BuildingMOTIF\n",
      "2024-09-17 20:48:18,689 | root |  WARNING: An ontology could not resolve a dependency on http://qudt.org/2.1/vocab/prefix (No row was found when one was required). Check this is loaded into BuildingMOTIF\n",
      "2024-09-17 20:48:18,690 | root |  WARNING: An ontology could not resolve a dependency on http://qudt.org/2.1/schema/shacl/qudt (No row was found when one was required). Check this is loaded into BuildingMOTIF\n",
      "2024-09-17 20:48:18,690 | root |  WARNING: An ontology could not resolve a dependency on http://qudt.org/2.1/vocab/sou (No row was found when one was required). Check this is loaded into BuildingMOTIF\n",
      "2024-09-17 20:48:18,691 | root |  WARNING: An ontology could not resolve a dependency on http://qudt.org/2.1/schema/facade/qudt (No row was found when one was required). Check this is loaded into BuildingMOTIF\n",
      "2024-09-17 20:48:18,691 | root |  WARNING: An ontology could not resolve a dependency on http://qudt.org/2.1/vocab/unit (No row was found when one was required). Check this is loaded into BuildingMOTIF\n",
      "2024-09-17 20:48:18,692 | root |  WARNING: An ontology could not resolve a dependency on http://qudt.org/2.1/vocab/quantitykind (No row was found when one was required). Check this is loaded into BuildingMOTIF\n",
      "2024-09-17 20:48:18,692 | root |  WARNING: An ontology could not resolve a dependency on http://qudt.org/2.1/vocab/dimensionvector (No row was found when one was required). Check this is loaded into BuildingMOTIF\n",
      "2024-09-17 20:48:18,693 | root |  WARNING: An ontology could not resolve a dependency on https://w3id.org/rec/recimports (No row was found when one was required). Check this is loaded into BuildingMOTIF\n",
      "2024-09-17 20:48:18,694 | root |  WARNING: An ontology could not resolve a dependency on http://qudt.org/2.1/collection/usertest (No row was found when one was required). Check this is loaded into BuildingMOTIF\n",
      "2024-09-17 20:48:18,694 | root |  WARNING: An ontology could not resolve a dependency on https://w3id.org/rec (No row was found when one was required). Check this is loaded into BuildingMOTIF\n"
     ]
    },
    {
     "name": "stdout",
     "output_type": "stream",
     "text": [
      "shape https://brickschema.org/schema/Brick#PV_Array has dependency https://brickschema.org/schema/Brick#PV_Panel\n",
      "shape https://w3id.org/rec#RealEstate has dependency https://w3id.org/rec#Architecture\n",
      "shape https://w3id.org/rec#ExceptionEvent has dependency https://brickschema.org/schema/Brick#Point\n",
      "shape https://brickschema.org/schema/Brick/ref#IFCReference has dependency https://brickschema.org/schema/Brick/ref#ifcProject\n",
      "shape https://w3id.org/rec#ActuationEvent has dependency https://brickschema.org/schema/Brick#Point\n",
      "shape https://w3id.org/rec#Premises has dependency https://w3id.org/rec#Architecture\n",
      "shape https://w3id.org/rec#Apartment has dependency https://w3id.org/rec#Room\n",
      "shape https://w3id.org/rec#FurnitureCollection has dependency https://w3id.org/rec#Furniture\n",
      "shape https://w3id.org/rec#Lease has dependency https://w3id.org/rec#Agent\n",
      "shape https://w3id.org/rec#Lease has dependency https://w3id.org/rec#Agent\n",
      "shape https://brickschema.org/schema/Brick#Loop has dependency https://brickschema.org/schema/Brick#Equipment\n",
      "shape https://w3id.org/rec#ObservationEvent has dependency https://brickschema.org/schema/Brick#Point\n",
      "shape https://w3id.org/rec#Campus has dependency https://w3id.org/rec#Architecture\n",
      "shape https://w3id.org/rec#EquipmentCollection has dependency https://brickschema.org/schema/Brick#Equipment\n"
     ]
    },
    {
     "name": "stderr",
     "output_type": "stream",
     "text": [
      "2024-09-17 20:48:21,124 | root |  WARNING: Warning: could not find dependee n443b404c33df41a892628b660ba3a197b7640 in libraries []\n",
      "2024-09-17 20:48:21,127 | root |  WARNING: Warning: could not find dependee n443b404c33df41a892628b660ba3a197b7644 in libraries []\n",
      "2024-09-17 20:48:21,130 | root |  WARNING: Warning: could not find dependee n443b404c33df41a892628b660ba3a197b7638 in libraries []\n",
      "2024-09-17 20:48:21,134 | root |  WARNING: Warning: could not find dependee n443b404c33df41a892628b660ba3a197b7636 in libraries []\n",
      "2024-09-17 20:48:21,136 | root |  WARNING: Warning: could not find dependee n443b404c33df41a892628b660ba3a197b7642 in libraries []\n",
      "2024-09-17 20:48:21,141 | root |  WARNING: Warning: could not find dependee n443b404c33df41a892628b660ba3a197b7699 in libraries []\n",
      "2024-09-17 20:48:21,144 | root |  WARNING: Warning: could not find dependee n443b404c33df41a892628b660ba3a197b7705 in libraries []\n",
      "2024-09-17 20:48:21,147 | root |  WARNING: Warning: could not find dependee n443b404c33df41a892628b660ba3a197b7701 in libraries []\n",
      "2024-09-17 20:48:21,150 | root |  WARNING: Warning: could not find dependee n443b404c33df41a892628b660ba3a197b7697 in libraries []\n",
      "2024-09-17 20:48:21,153 | root |  WARNING: Warning: could not find dependee n443b404c33df41a892628b660ba3a197b7703 in libraries []\n",
      "2024-09-17 20:48:21,160 | root |  WARNING: Warning: could not find dependee n443b404c33df41a892628b660ba3a197b7625 in libraries []\n",
      "2024-09-17 20:48:21,163 | root |  WARNING: Warning: could not find dependee n443b404c33df41a892628b660ba3a197b7623 in libraries []\n",
      "2024-09-17 20:48:21,166 | root |  WARNING: Warning: could not find dependee n443b404c33df41a892628b660ba3a197b7621 in libraries []\n",
      "2024-09-17 20:48:21,169 | root |  WARNING: Warning: could not find dependee n443b404c33df41a892628b660ba3a197b7619 in libraries []\n",
      "2024-09-17 20:48:21,172 | root |  WARNING: Warning: could not find dependee n443b404c33df41a892628b660ba3a197b7629 in libraries []\n",
      "2024-09-17 20:48:21,175 | root |  WARNING: Warning: could not find dependee n443b404c33df41a892628b660ba3a197b7627 in libraries []\n",
      "2024-09-17 20:48:21,179 | root |  WARNING: Warning: could not find dependee n443b404c33df41a892628b660ba3a197b7581 in libraries []\n",
      "2024-09-17 20:48:21,182 | root |  WARNING: Warning: could not find dependee n443b404c33df41a892628b660ba3a197b7589 in libraries []\n",
      "2024-09-17 20:48:21,185 | root |  WARNING: Warning: could not find dependee n443b404c33df41a892628b660ba3a197b7585 in libraries []\n",
      "2024-09-17 20:48:21,188 | root |  WARNING: Warning: could not find dependee n443b404c33df41a892628b660ba3a197b7583 in libraries []\n",
      "2024-09-17 20:48:21,191 | root |  WARNING: Warning: could not find dependee n443b404c33df41a892628b660ba3a197b7587 in libraries []\n",
      "2024-09-17 20:48:21,194 | root |  WARNING: Warning: could not find dependee n443b404c33df41a892628b660ba3a197b7591 in libraries []\n"
     ]
    }
   ],
   "source": [
    "bm = BuildingMOTIF('sqlite://')\n",
    "Library.load(ontology_graph=\"https://brickschema.org/schema/1.4.1/Brick.ttl\")\n",
    "equipment_templates = Library.load(directory=\"pointlabel_demo/equipment_templates\")"
   ]
  },
  {
   "cell_type": "markdown",
   "id": "1b4c749b-afc7-4f97-b388-62e86fd2e097",
   "metadata": {},
   "source": [
    "Declare a namespace for our model and create the (mostly empty) Model instance in BuildingMOTIF"
   ]
  },
  {
   "cell_type": "code",
   "execution_count": 3,
   "id": "efe8ba7c-5065-45b3-a09f-719ce4f2cc67",
   "metadata": {},
   "outputs": [],
   "source": [
    "BLDG = Namespace(\"urn:bldg/\")\n",
    "model = Model.create(\"urn:bldg\")"
   ]
  },
  {
   "cell_type": "markdown",
   "id": "470087e4-c646-4cbc-bff9-5e4c13baf008",
   "metadata": {},
   "source": [
    "We will convert this CSV of point labels into a Brick model. We could also do this from a BACnet network scan"
   ]
  },
  {
   "cell_type": "code",
   "execution_count": 4,
   "id": "2e6ae155-064e-499c-a8fe-0859adbbc08e",
   "metadata": {},
   "outputs": [
    {
     "name": "stdout",
     "output_type": "stream",
     "text": [
      "label\n",
      ":BMOTIF_01:FCU048_ChwVlvPos\n",
      ":BMOTIF_01:FCU048_UnoccHtgSptFnl\n",
      ":BMOTIF_01:FCU191_BO4_HighSpdFanOut\n",
      ":BMOTIF_01:FCU194_UO12_ChwVlvOut\n",
      "\n"
     ]
    }
   ],
   "source": [
    "# print first 5 lines\n",
    "with open('pointlabel_demo/pointlabels.csv', 'r') as f:\n",
    "    print(''.join(f.readlines()[:5]))"
   ]
  },
  {
   "cell_type": "markdown",
   "id": "b0e15d3e-b3a5-41e2-8bda-9ac37d5d29b8",
   "metadata": {},
   "source": [
    "We will use BuildingMOTIF's [parser combinator](https://buildingmotif.readthedocs.io/en/latest/explanations/point-label-parsing.html) library to create a function which breaks each label into its parts, and assigns types to those parts."
   ]
  },
  {
   "cell_type": "code",
   "execution_count": 5,
   "id": "eee591e3-dca7-4a09-b013-7daf0f56eded",
   "metadata": {},
   "outputs": [],
   "source": [
    "from buildingmotif.namespaces import BRICK\n",
    "from buildingmotif.label_parsing.combinators import abbreviations, sequence, string, constant, regex, many, maybe, COMMON_EQUIP_ABBREVIATIONS_BRICK\n",
    "from buildingmotif.label_parsing.tokens import Delimiter, Identifier, Constant"
   ]
  },
  {
   "cell_type": "code",
   "execution_count": 6,
   "id": "c72a95e8-d841-48ad-932e-ac09c0b2c0e9",
   "metadata": {},
   "outputs": [],
   "source": [
    "# define abbreviation dictionaries. Use a provided one for Equipment\n",
    "equip_abbreviations = abbreviations(COMMON_EQUIP_ABBREVIATIONS_BRICK)\n",
    "# define our own for Points (specific to this building)\n",
    "point_abbreviations = abbreviations({\n",
    "    \"ChwVlvPos\": BRICK.Position_Sensor,\n",
    "    \"HwVlvPos\": BRICK.Position_Sensor,\n",
    "    \"RoomTmp\": BRICK.Air_Temperature_Sensor,\n",
    "    \"Room_RH\": BRICK.Relative_Humidity_Sensor,\n",
    "    \"UnoccHtgSpt\": BRICK.Unoccupied_Air_Temperature_Heating_Setpoint,\n",
    "    \"OccHtgSpt\": BRICK.Occupied_Air_Temperature_Heating_Setpoint,\n",
    "    \"UnoccClgSpt\": BRICK.Unoccupied_Air_Temperature_Cooling_Setpoint,\n",
    "    \"OccClgSpt\": BRICK.Occupied_Air_Temperature_Cooling_Setpoint,\n",
    "    \"SaTmp\": BRICK.Supply_Air_Temperature_Sensor,\n",
    "    \"OccCmd\": BRICK.Occupancy_Command,\n",
    "    \"EffOcc\": BRICK.Occupancy_Status,\n",
    "})"
   ]
  },
  {
   "cell_type": "code",
   "execution_count": 7,
   "id": "c40b4a7c-13b2-4a56-8468-1d5c8956fde9",
   "metadata": {},
   "outputs": [],
   "source": [
    "# now we can define the naming convention\n",
    "def naming_convention(target):\n",
    "    return sequence(\n",
    "        string(\":\", Delimiter),\n",
    "        # regex until the underscore\n",
    "        constant(Constant(BRICK.Building)),\n",
    "        regex(r\"[^_]+\", Identifier),\n",
    "        string(\"_\", Delimiter),\n",
    "        # number for AHU name\n",
    "        constant(Constant(BRICK.Air_Handling_Unit)),\n",
    "        regex(r\"[0-9a-zA-Z]+\", Identifier),\n",
    "        string(\":\", Delimiter),\n",
    "        # equipment types\n",
    "        equip_abbreviations,\n",
    "        # equipment ident\n",
    "        regex(r\"[0-9a-zA-Z]+\", Identifier),\n",
    "        string(\"_\", Delimiter),\n",
    "        maybe(\n",
    "            sequence(regex(r\"[A-Z]+[0-9]+\", Identifier), string(\"_\", Delimiter)),\n",
    "        ),\n",
    "        # point types\n",
    "        point_abbreviations,\n",
    "    )(target)"
   ]
  },
  {
   "cell_type": "markdown",
   "id": "80ea5c43-f5f0-4955-8809-8ecfc6c2ad69",
   "metadata": {},
   "source": [
    "We will assume the parser works for now. See the documentation above for help on how to develop and debug these parsers. BuildingMOTIF also has support for (a) building these parsers in an interactive web-based GUI, and (b) building these parsers automatically with GenerativeAI."
   ]
  },
  {
   "cell_type": "markdown",
   "id": "13beddc3-b312-4ea3-b55b-669d63a925ae",
   "metadata": {},
   "source": [
    "We can now feed our CSV of point labels through several [Ingress operators](https://buildingmotif.readthedocs.io/en/latest/explanations/ingresses.html). These are BuildingMOTIF's way of constructing pipelines of transformations, and are convenient for importing data into a semantic metadata model."
   ]
  },
  {
   "cell_type": "code",
   "execution_count": 8,
   "id": "64c9e5c7-41fa-4f96-9311-d72eec7207c8",
   "metadata": {},
   "outputs": [],
   "source": [
    "from buildingmotif.ingresses import CSVIngress, NamingConventionIngress, SemanticGraphSynthesizerIngress\n",
    "\n",
    "# pull labels from the CSV file (requires a column called \"label\")\n",
    "source = CSVIngress(\"pointlabel_demo/pointlabels.csv\")\n",
    "# parse each label using our 'naming_convention' function\n",
    "ing = NamingConventionIngress(source, naming_convention)"
   ]
  },
  {
   "cell_type": "code",
   "execution_count": 9,
   "id": "65a4463e-d331-45a5-af26-0cf90611c041",
   "metadata": {},
   "outputs": [
    {
     "data": {
      "text/plain": [
       "Record(rtype='token', fields={'label': ':BMOTIF_01:FCU048_ChwVlvPos', 'tokens': [{'identifier': 'BMOTIF', 'type': 'https://brickschema.org/schema/Brick#Building'}, {'identifier': '01', 'type': 'https://brickschema.org/schema/Brick#Air_Handling_Unit'}, {'identifier': '048', 'type': 'https://brickschema.org/schema/Brick#Fan_Coil_Unit'}, {'identifier': ':BMOTIF_01:FCU048_ChwVlvPos', 'type': 'https://brickschema.org/schema/Brick#Position_Sensor'}]})"
      ]
     },
     "execution_count": 9,
     "metadata": {},
     "output_type": "execute_result"
    }
   ],
   "source": [
    "# we can examine the (successful) output of the parser\n",
    "ing.records[0]"
   ]
  },
  {
   "cell_type": "markdown",
   "id": "10fb0c90-9de8-4350-988a-e5b754d36d83",
   "metadata": {},
   "source": [
    "This next line will use the templates inside `equipment_templates` to group the tokens from each parsed label and assign them to the parameters of a template. See [the documentation](https://buildingmotif.readthedocs.io/en/latest/explanations/templates.html) for details on BuildingMOTIF templates."
   ]
  },
  {
   "cell_type": "code",
   "execution_count": 10,
   "id": "41ce0303-de0c-4018-9c0b-d02e63c7f1fa",
   "metadata": {
    "scrolled": true
   },
   "outputs": [],
   "source": [
    "sgs = SemanticGraphSynthesizerIngress(ing, [equipment_templates])"
   ]
  },
  {
   "cell_type": "code",
   "execution_count": 11,
   "id": "efe3c4c5-9db1-4dc4-a293-a49d823b3233",
   "metadata": {},
   "outputs": [
    {
     "name": "stderr",
     "output_type": "stream",
     "text": [
      "/Users/gabe/src/NREL/BuildingMOTIF/buildingmotif/dataclasses/template.py:412: UserWarning: Parameters \"supply_temp, chw_coil, hw_coil-hw_vlv, chw_coil-position, chw_coil-chw_vlv, hw_coil-position, unocc_clg_sp, hw_coil, zone, unocc_htg_sp, occ_clg_sp, occ_htg_sp, room\" were not provided during evaluation\n",
      "  warnings.warn(\n",
      "/Users/gabe/src/NREL/BuildingMOTIF/buildingmotif/dataclasses/template.py:412: UserWarning: Parameters \"supply_temp, chw_coil, hw_coil-hw_vlv, chw_coil-position, chw_coil-chw_vlv, hw_coil-position, hw_coil, unocc_clg_sp, zone, unocc_htg_sp, occ_clg_sp, occ_htg_sp, room\" were not provided during evaluation\n",
      "  warnings.warn(\n",
      "/Users/gabe/src/NREL/BuildingMOTIF/buildingmotif/dataclasses/template.py:412: UserWarning: Parameters \"supply_temp, chw_coil, occ_cmd, hw_coil-hw_vlv, occ_status, chw_coil-chw_vlv, hw_coil-position, unocc_clg_sp, hw_coil, chw_coil-position, zone, unocc_htg_sp, occ_clg_sp, occ_htg_sp, room\" were not provided during evaluation\n",
      "  warnings.warn(\n"
     ]
    }
   ],
   "source": [
    "# add the results to our model\n",
    "model.add_graph(sgs.graph(BLDG))"
   ]
  },
  {
   "cell_type": "code",
   "execution_count": 12,
   "id": "1857b581-df9d-4714-89fb-9527b56e56e7",
   "metadata": {},
   "outputs": [
    {
     "name": "stdout",
     "output_type": "stream",
     "text": [
      "@prefix brick: <https://brickschema.org/schema/Brick#> .\n",
      "@prefix owl: <http://www.w3.org/2002/07/owl#> .\n",
      "\n",
      "<urn:bldg> a owl:Ontology .\n",
      "\n",
      "<urn:building/048> a brick:Fan_Coil_Unit ;\n",
      "    brick:feeds <urn:bldg/zone_e4fe8e19> ;\n",
      "    brick:hasPart <urn:bldg/chw_coil_0800ffa6>,\n",
      "        <urn:bldg/hw_coil_7d883095> ;\n",
      "    brick:hasPoint <urn:bldg/supply_temp_f975b5b9>,\n",
      "        <urn:building/UI22> .\n",
      "\n",
      "<urn:building/050> a brick:Fan_Coil_Unit ;\n",
      "    brick:feeds <urn:bldg/zone_9e8d3235> ;\n",
      "    brick:hasPart <urn:bldg/chw_coil_d2beba75>,\n",
      "        <urn:bldg/hw_coil_8b87336a> ;\n",
      "    brick:hasPoint <urn:bldg/supply_temp_77e5b03a>,\n",
      "        <urn:building/:BMOTIF_01:FCU050_EffOcc>,\n",
      "        <urn:building/:BMOTIF_01:FCU050_OccCmd>,\n",
      "        <urn:building/UI22> .\n",
      "\n",
      "<urn:building/051> a brick:Fan_Coil_Unit ;\n",
      "    brick:feeds <urn:bldg/zone_e3584771> ;\n",
      "    brick:hasPart <urn:bldg/chw_coil_78dabfa7>,\n",
      "        <urn:bldg/hw_coil_112f13ba> ;\n",
      "    brick:hasPoint <urn:bldg/supply_temp_e1e073d6>,\n",
      "        <urn:building/UI22> .\n",
      "\n",
      "<u\n"
     ]
    }
   ],
   "source": [
    "# print the resulting model (first 1000 chars)\n",
    "print(model.graph.serialize()[:1000])"
   ]
  },
  {
   "cell_type": "code",
   "execution_count": null,
   "id": "5c5a44f2-f364-4bb9-a6ba-492cba2f954e",
   "metadata": {},
   "outputs": [],
   "source": []
  }
 ],
 "metadata": {
  "kernelspec": {
   "display_name": "Python 3 (ipykernel)",
   "language": "python",
   "name": "python3"
  },
  "language_info": {
   "codemirror_mode": {
    "name": "ipython",
    "version": 3
   },
   "file_extension": ".py",
   "mimetype": "text/x-python",
   "name": "python",
   "nbconvert_exporter": "python",
   "pygments_lexer": "ipython3",
   "version": "3.11.10"
  }
 },
 "nbformat": 4,
 "nbformat_minor": 5
}
