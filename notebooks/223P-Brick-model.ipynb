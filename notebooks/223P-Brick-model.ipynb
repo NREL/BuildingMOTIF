{
 "cells": [
  {
   "cell_type": "code",
   "execution_count": 1,
   "id": "59d0c3a4-2507-4547-aa17-3361885a5ef8",
   "metadata": {
    "execution": {
     "iopub.execute_input": "2024-07-03T05:42:06.541544Z",
     "iopub.status.busy": "2024-07-03T05:42:06.541418Z",
     "iopub.status.idle": "2024-07-03T05:42:07.075607Z",
     "shell.execute_reply": "2024-07-03T05:42:07.075178Z"
    }
   },
   "outputs": [],
   "source": [
    "from rdflib import Namespace\n",
    "\n",
    "from buildingmotif import BuildingMOTIF\n",
    "from buildingmotif.dataclasses import Library, Model\n",
    "from buildingmotif.namespaces import bind_prefixes"
   ]
  },
  {
   "cell_type": "code",
   "execution_count": 2,
   "id": "8063a17c-3f05-42a7-ac61-df09134e5231",
   "metadata": {
    "execution": {
     "iopub.execute_input": "2024-07-03T05:42:07.078611Z",
     "iopub.status.busy": "2024-07-03T05:42:07.078421Z",
     "iopub.status.idle": "2024-07-03T05:42:07.163933Z",
     "shell.execute_reply": "2024-07-03T05:42:07.163545Z"
    }
   },
   "outputs": [],
   "source": [
    "# setup our buildingmotif instance\n",
    "bm = BuildingMOTIF(\"sqlite://\")\n",
    "\n",
    "# create the model w/ a namespace\n",
    "BLDG = Namespace(\"urn:example/\")\n",
    "bldg = Model.create(BLDG)"
   ]
  },
  {
   "cell_type": "code",
   "execution_count": 3,
   "id": "9248353e-a16a-4172-97a9-c2a3587e88d9",
   "metadata": {
    "execution": {
     "iopub.execute_input": "2024-07-03T05:42:07.166580Z",
     "iopub.status.busy": "2024-07-03T05:42:07.166412Z",
     "iopub.status.idle": "2024-07-03T05:42:38.687787Z",
     "shell.execute_reply": "2024-07-03T05:42:38.687042Z"
    }
   },
   "outputs": [
    {
     "name": "stderr",
     "output_type": "stream",
     "text": [
      "/Users/gabe/Library/Caches/pypoetry/virtualenvs/buildingmotif-ozGZrh9J-py3.11/lib/python3.11/site-packages/pyshacl/extras/__init__.py:46: Warning: Extra \"js\" is not satisfied because requirement pyduktape2 is not installed.\n",
      "  warn(Warning(f\"Extra \\\"{extra_name}\\\" is not satisfied because requirement {req} is not installed.\"))\n"
     ]
    }
   ],
   "source": [
    "s223 = Library.load(directory=\"../libraries/ashrae/223p/nrel-templates/\")"
   ]
  },
  {
   "cell_type": "code",
   "execution_count": 4,
   "id": "8710a6c1-d345-42bd-91f9-a7f751e6e3a8",
   "metadata": {
    "execution": {
     "iopub.execute_input": "2024-07-03T05:42:38.691716Z",
     "iopub.status.busy": "2024-07-03T05:42:38.691485Z",
     "iopub.status.idle": "2024-07-03T05:42:38.777252Z",
     "shell.execute_reply": "2024-07-03T05:42:38.776689Z"
    }
   },
   "outputs": [],
   "source": [
    "t = s223.get_template_by_name('vav-reheat')\n",
    "g = t.inline_dependencies().fill(BLDG)[1]\n",
    "bind_prefixes(g)"
   ]
  },
  {
   "cell_type": "code",
   "execution_count": 5,
   "id": "29de0732-8d2f-4448-932c-5c7542789b08",
   "metadata": {
    "execution": {
     "iopub.execute_input": "2024-07-03T05:42:38.781127Z",
     "iopub.status.busy": "2024-07-03T05:42:38.780865Z",
     "iopub.status.idle": "2024-07-03T05:42:38.792228Z",
     "shell.execute_reply": "2024-07-03T05:42:38.791714Z"
    }
   },
   "outputs": [
    {
     "name": "stdout",
     "output_type": "stream",
     "text": [
      "@prefix ns1: <http://data.ashrae.org/standard223#> .\n",
      "@prefix qudt: <http://qudt.org/schema/qudt/> .\n",
      "@prefix qudtqk: <http://qudt.org/vocab/quantitykind/> .\n",
      "@prefix unit: <http://qudt.org/vocab/unit/> .\n",
      "\n",
      "<urn:example/c0_2012911d> a ns1:Duct ;\n",
      "    ns1:cnx <urn:example/dmp-out_cbe43426>,\n",
      "        <urn:example/rhc-air-in_62c0dee9> ;\n",
      "    ns1:hasMedium ns1:Fluid-Air .\n",
      "\n",
      "<urn:example/name_bbacfe27> a ns1:TerminalUnit ;\n",
      "    ns1:contains <urn:example/dmp_09a69912>,\n",
      "        <urn:example/rhc_d3bdfdba>,\n",
      "        <urn:example/sup-air-flow-sensor_b4edab31>,\n",
      "        <urn:example/sup-air-pressure-sensor_15f28cfd>,\n",
      "        <urn:example/sup-air-temp-sensor_8cd807c3> ;\n",
      "    ns1:hasConnectionPoint <urn:example/air-in_dc186b33>,\n",
      "        <urn:example/air-out_43e1b8b3> ;\n",
      "    ns1:hasProperty <urn:example/sup-air-flow_2d15aed3>,\n",
      "        <urn:example/sup-air-pressure_089ef3c2>,\n",
      "        <urn:example/sup-air-temp_53d0f452> .\n",
      "\n",
      "<urn:example/air-in_dc186b33> a ns1:InletConnectionPoint ;\n",
      "    ns1:hasMedium ns1:Fluid-Air .\n",
      "\n",
      "<urn:example/dmp-command_5722235b> a ns1:QuantifiableActuatableProperty ;\n",
      "    qudt:hasQuantityKind qudtqk:DimensionlessRatio ;\n",
      "    qudt:hasUnit unit:PERCENT .\n",
      "\n",
      "<urn:example/dmp-feedback_4dd5ba64> a ns1:QuantifiableObservableProperty ;\n",
      "    qudt:hasQuantityKind qudtqk:DimensionlessRatio ;\n",
      "    qudt:hasUnit unit:PERCENT .\n",
      "\n",
      "<urn:example/dmp-in_439de252> a ns1:InletConnectionPoint ;\n",
      "    ns1:hasMedium ns1:Fluid-Air .\n",
      "\n",
      "<urn:example/dmp_09a69912> a ns1:Damper ;\n",
      "    ns1:hasConnectionPoint <urn:example/dmp-in_439de252>,\n",
      "        <urn:example/dmp-out_cbe43426> ;\n",
      "    ns1:hasProperty <urn:example/dmp-command_5722235b>,\n",
      "        <urn:example/dmp-feedback_4dd5ba64> .\n",
      "\n",
      "<urn:example/rhc-air-out_acc34443> a ns1:OutletConnectionPoint ;\n",
      "    ns1:hasMedium ns1:Fluid-Air .\n",
      "\n",
      "<urn:example/rhc-return-water-temp-sensor_bb403a0b> a ns1:Sensor ;\n",
      "    ns1:hasObservationLocation <urn:example/rhc-water-out_e68a7e3e> ;\n",
      "    ns1:observes <urn:example/rhc-return-water-temp_e8225813> .\n",
      "\n",
      "<urn:example/rhc-supply-water-temp-sensor_246aa2cd> a ns1:Sensor ;\n",
      "    ns1:hasObservationLocation <urn:example/rhc-water-in_7f10ca44> ;\n",
      "    ns1:observes <urn:example/rhc-supply-water-temp_f285309b> .\n",
      "\n",
      "<urn:example/rhc-valve-command_64b72125> a ns1:EnumeratedActuatableProperty ;\n",
      "    ns1:hasEnumerationKind ns1:EnumerationKind-RunStatus .\n",
      "\n",
      "<urn:example/rhc-valve-feedback_c419d2c5> a ns1:EnumeratedObservableProperty ;\n",
      "    ns1:hasEnumerationKind ns1:EnumerationKind-RunStatus .\n",
      "\n",
      "<urn:example/rhc-valve-in_8f74f3cd> a ns1:InletConnectionPoint ;\n",
      "    ns1:hasMedium ns1:Fluid-Water .\n",
      "\n",
      "<urn:example/rhc-valve-out_c2893e2b> a ns1:OutletConnectionPoint ;\n",
      "    ns1:hasMedium ns1:Fluid-Water .\n",
      "\n",
      "<urn:example/rhc-valve_45bacaac> a ns1:Valve ;\n",
      "    ns1:hasConnectionPoint <urn:example/rhc-valve-in_8f74f3cd>,\n",
      "        <urn:example/rhc-valve-out_c2893e2b> ;\n",
      "    ns1:hasProperty <urn:example/rhc-valve-command_64b72125>,\n",
      "        <urn:example/rhc-valve-feedback_c419d2c5> .\n",
      "\n",
      "<urn:example/rhc_d3bdfdba> a ns1:HeatingCoil ;\n",
      "    ns1:contains <urn:example/rhc-return-water-temp-sensor_bb403a0b>,\n",
      "        <urn:example/rhc-supply-water-temp-sensor_246aa2cd>,\n",
      "        <urn:example/rhc-valve_45bacaac> ;\n",
      "    ns1:hasConnectionPoint <urn:example/rhc-air-in_62c0dee9>,\n",
      "        <urn:example/rhc-air-out_acc34443>,\n",
      "        <urn:example/rhc-water-in_7f10ca44>,\n",
      "        <urn:example/rhc-water-out_e68a7e3e> ;\n",
      "    ns1:hasProperty <urn:example/rhc-return-water-temp_e8225813>,\n",
      "        <urn:example/rhc-supply-water-temp_f285309b> .\n",
      "\n",
      "<urn:example/sup-air-flow-sensor_b4edab31> a ns1:Sensor ;\n",
      "    ns1:hasObservationLocation <urn:example/air-out_43e1b8b3> ;\n",
      "    ns1:observes <urn:example/sup-air-flow_2d15aed3> .\n",
      "\n",
      "<urn:example/sup-air-pressure-sensor_15f28cfd> a ns1:Sensor ;\n",
      "    ns1:hasObservationLocation <urn:example/air-out_43e1b8b3> ;\n",
      "    ns1:observes <urn:example/sup-air-pressure_089ef3c2> .\n",
      "\n",
      "<urn:example/sup-air-temp-sensor_8cd807c3> a ns1:Sensor ;\n",
      "    ns1:hasObservationLocation <urn:example/air-out_43e1b8b3> ;\n",
      "    ns1:observes <urn:example/sup-air-temp_53d0f452> .\n",
      "\n",
      "<urn:example/dmp-out_cbe43426> a ns1:OutletConnectionPoint ;\n",
      "    ns1:hasMedium ns1:Fluid-Air .\n",
      "\n",
      "<urn:example/rhc-air-in_62c0dee9> a ns1:InletConnectionPoint ;\n",
      "    ns1:hasMedium ns1:Fluid-Air .\n",
      "\n",
      "<urn:example/rhc-return-water-temp_e8225813> a ns1:QuantifiableObservableProperty ;\n",
      "    qudt:hasQuantityKind qudtqk:Temperature ;\n",
      "    qudt:hasUnit unit:DEG_C .\n",
      "\n",
      "<urn:example/rhc-supply-water-temp_f285309b> a ns1:QuantifiableObservableProperty ;\n",
      "    qudt:hasQuantityKind qudtqk:Temperature ;\n",
      "    qudt:hasUnit unit:DEG_C .\n",
      "\n",
      "<urn:example/rhc-water-in_7f10ca44> a ns1:InletConnectionPoint ;\n",
      "    ns1:hasMedium ns1:Fluid-Water .\n",
      "\n",
      "<urn:example/rhc-water-out_e68a7e3e> a ns1:OutletConnectionPoint ;\n",
      "    ns1:hasMedium ns1:Fluid-Water .\n",
      "\n",
      "<urn:example/sup-air-flow_2d15aed3> a ns1:QuantifiableObservableProperty ;\n",
      "    qudt:hasQuantityKind qudtqk:VolumeFlowRate ;\n",
      "    qudt:hasUnit unit:FT3-PER-MIN .\n",
      "\n",
      "<urn:example/sup-air-pressure_089ef3c2> a ns1:QuantifiableObservableProperty ;\n",
      "    qudt:hasQuantityKind qudtqk:Pressure ;\n",
      "    qudt:hasUnit unit:IN_H2O .\n",
      "\n",
      "<urn:example/sup-air-temp_53d0f452> a ns1:QuantifiableObservableProperty ;\n",
      "    qudt:hasQuantityKind qudtqk:Temperature ;\n",
      "    qudt:hasUnit unit:DEG_C .\n",
      "\n",
      "<urn:example/air-out_43e1b8b3> a ns1:OutletConnectionPoint ;\n",
      "    ns1:hasMedium ns1:Fluid-Air .\n",
      "\n",
      "\n"
     ]
    }
   ],
   "source": [
    "print(g.serialize())"
   ]
  },
  {
   "cell_type": "code",
   "execution_count": null,
   "id": "b7200b12-7e06-4792-bd84-83c052e55a91",
   "metadata": {},
   "outputs": [],
   "source": []
  }
 ],
 "metadata": {
  "kernelspec": {
   "display_name": "Python 3 (ipykernel)",
   "language": "python",
   "name": "python3"
  },
  "language_info": {
   "codemirror_mode": {
    "name": "ipython",
    "version": 3
   },
   "file_extension": ".py",
   "mimetype": "text/x-python",
   "name": "python",
   "nbconvert_exporter": "python",
   "pygments_lexer": "ipython3",
   "version": "3.11.9"
  }
 },
 "nbformat": 4,
 "nbformat_minor": 5
}
