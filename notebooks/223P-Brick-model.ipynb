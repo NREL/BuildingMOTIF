{
 "cells": [
  {
   "cell_type": "code",
   "execution_count": 1,
   "id": "59d0c3a4-2507-4547-aa17-3361885a5ef8",
   "metadata": {
    "execution": {
     "iopub.execute_input": "2024-07-02T23:26:02.479637Z",
     "iopub.status.busy": "2024-07-02T23:26:02.479520Z",
     "iopub.status.idle": "2024-07-02T23:26:02.857593Z",
     "shell.execute_reply": "2024-07-02T23:26:02.857152Z"
    }
   },
   "outputs": [],
   "source": [
    "from rdflib import Namespace\n",
    "\n",
    "from buildingmotif import BuildingMOTIF\n",
    "from buildingmotif.dataclasses import Library, Model\n",
    "from buildingmotif.namespaces import bind_prefixes"
   ]
  },
  {
   "cell_type": "code",
   "execution_count": 2,
   "id": "8063a17c-3f05-42a7-ac61-df09134e5231",
   "metadata": {
    "execution": {
     "iopub.execute_input": "2024-07-02T23:26:02.859840Z",
     "iopub.status.busy": "2024-07-02T23:26:02.859683Z",
     "iopub.status.idle": "2024-07-02T23:26:02.929295Z",
     "shell.execute_reply": "2024-07-02T23:26:02.928967Z"
    }
   },
   "outputs": [],
   "source": [
    "# setup our buildingmotif instance\n",
    "bm = BuildingMOTIF(\"sqlite://\")\n",
    "\n",
    "# create the model w/ a namespace\n",
    "BLDG = Namespace(\"urn:example/\")\n",
    "bldg = Model.create(BLDG)"
   ]
  },
  {
   "cell_type": "code",
   "execution_count": 3,
   "id": "9248353e-a16a-4172-97a9-c2a3587e88d9",
   "metadata": {
    "execution": {
     "iopub.execute_input": "2024-07-02T23:26:02.931282Z",
     "iopub.status.busy": "2024-07-02T23:26:02.931138Z",
     "iopub.status.idle": "2024-07-02T23:26:26.794021Z",
     "shell.execute_reply": "2024-07-02T23:26:26.793639Z"
    }
   },
   "outputs": [
    {
     "name": "stderr",
     "output_type": "stream",
     "text": [
      "/Users/gabe/Library/Caches/pypoetry/virtualenvs/buildingmotif-ozGZrh9J-py3.11/lib/python3.11/site-packages/pyshacl/extras/__init__.py:46: Warning: Extra \"js\" is not satisfied because requirement pyduktape2 is not installed.\n",
      "  warn(Warning(f\"Extra \\\"{extra_name}\\\" is not satisfied because requirement {req} is not installed.\"))\n"
     ]
    }
   ],
   "source": [
    "s223 = Library.load(directory=\"../libraries/ashrae/223p/nrel-templates/\")"
   ]
  },
  {
   "cell_type": "code",
   "execution_count": 4,
   "id": "8710a6c1-d345-42bd-91f9-a7f751e6e3a8",
   "metadata": {
    "execution": {
     "iopub.execute_input": "2024-07-02T23:26:26.796256Z",
     "iopub.status.busy": "2024-07-02T23:26:26.796103Z",
     "iopub.status.idle": "2024-07-02T23:26:26.852804Z",
     "shell.execute_reply": "2024-07-02T23:26:26.852500Z"
    }
   },
   "outputs": [
    {
     "name": "stdout",
     "output_type": "stream",
     "text": [
      "[a rdfg:Graph;rdflib:storage [a rdflib:Store;rdfs:label 'Memory']].\n"
     ]
    }
   ],
   "source": [
    "t = s223.get_template_by_name('vav-reheat')\n",
    "g = t.inline_dependencies().fill(BLDG)[1]\n",
    "bind_prefixes(g)\n",
    "print(g.serialize('/Users/gabe/vavreheat.ttl', format='ttl'))"
   ]
  },
  {
   "cell_type": "code",
   "execution_count": 5,
   "id": "29de0732-8d2f-4448-932c-5c7542789b08",
   "metadata": {
    "execution": {
     "iopub.execute_input": "2024-07-02T23:26:26.854816Z",
     "iopub.status.busy": "2024-07-02T23:26:26.854595Z",
     "iopub.status.idle": "2024-07-02T23:26:26.859966Z",
     "shell.execute_reply": "2024-07-02T23:26:26.859653Z"
    }
   },
   "outputs": [
    {
     "name": "stdout",
     "output_type": "stream",
     "text": [
      "@prefix ns1: <http://data.ashrae.org/standard223#> .\n",
      "@prefix qudt: <http://qudt.org/schema/qudt/> .\n",
      "@prefix qudtqk: <http://qudt.org/vocab/quantitykind/> .\n",
      "@prefix unit: <http://qudt.org/vocab/unit/> .\n",
      "\n",
      "<urn:example/c0_69258101> a ns1:Duct ;\n",
      "    ns1:cnx <urn:example/dmp-out_da1616cb>,\n",
      "        <urn:example/rhc-air-in_65dbba39> ;\n",
      "    ns1:hasMedium ns1:Fluid-Air .\n",
      "\n",
      "<urn:example/name_d0c90151> a ns1:TerminalUnit ;\n",
      "    ns1:contains <urn:example/dmp_3df9c4e4>,\n",
      "        <urn:example/rhc_df65cbd7>,\n",
      "        <urn:example/sup-air-flow-sensor_83e51cfc>,\n",
      "        <urn:example/sup-air-pressure-sensor_02070ea9>,\n",
      "        <urn:example/sup-air-temp-sensor_24f71559> ;\n",
      "    ns1:hasConnectionPoint <urn:example/air-in_d071ed7d>,\n",
      "        <urn:example/air-out_3f405455> ;\n",
      "    ns1:hasProperty <urn:example/sup-air-flow_a5256a5c>,\n",
      "        <urn:example/sup-air-pressure_a08b11c0>,\n",
      "        <urn:example/sup-air-temp_2dada3e9> .\n",
      "\n",
      "<urn:example/air-in_d071ed7d> a ns1:InletConnectionPoint ;\n",
      "    ns1:hasMedium ns1:Fluid-Air .\n",
      "\n",
      "<urn:example/dmp-command_69972bc4> a ns1:QuantifiableActuatableProperty ;\n",
      "    qudt:hasQuantityKind qudtqk:DimensionlessRatio ;\n",
      "    qudt:hasUnit unit:PERCENT .\n",
      "\n",
      "<urn:example/dmp-feedback_eb8616fd> a ns1:QuantifiableObservableProperty ;\n",
      "    qudt:hasQuantityKind qudtqk:DimensionlessRatio ;\n",
      "    qudt:hasUnit unit:PERCENT .\n",
      "\n",
      "<urn:example/dmp-in_51e27d45> a ns1:InletConnectionPoint ;\n",
      "    ns1:hasMedium ns1:Fluid-Air .\n",
      "\n",
      "<urn:example/dmp_3df9c4e4> a ns1:Damper ;\n",
      "    ns1:hasConnectionPoint <urn:example/dmp-in_51e27d45>,\n",
      "        <urn:example/dmp-out_da1616cb> ;\n",
      "    ns1:hasProperty <urn:example/dmp-command_69972bc4>,\n",
      "        <urn:example/dmp-feedback_eb8616fd> .\n",
      "\n",
      "<urn:example/rhc-air-out_b58824a8> a ns1:OutletConnectionPoint ;\n",
      "    ns1:hasMedium ns1:Fluid-Air .\n",
      "\n",
      "<urn:example/rhc-return-water-temp-sensor_b5298ffb> a ns1:Sensor ;\n",
      "    ns1:hasObservationLocation <urn:example/rhc-water-out_a4257059> ;\n",
      "    ns1:observes <urn:example/rhc-return-water-temp_91a7fbca> .\n",
      "\n",
      "<urn:example/rhc-supply-water-temp-sensor_36a774a2> a ns1:Sensor ;\n",
      "    ns1:hasObservationLocation <urn:example/rhc-water-in_fb6fb0c0> ;\n",
      "    ns1:observes <urn:example/rhc-supply-water-temp_9924c7c1> .\n",
      "\n",
      "<urn:example/rhc-valve-command_29618166> a ns1:EnumeratedActuatableProperty ;\n",
      "    ns1:hasEnumerationKind ns1:EnumerationKind-RunStatus .\n",
      "\n",
      "<urn:example/rhc-valve-feedback_56847722> a ns1:EnumeratedObservableProperty ;\n",
      "    ns1:hasEnumerationKind ns1:EnumerationKind-RunStatus .\n",
      "\n",
      "<urn:example/rhc-valve-in_a6ddee7c> a ns1:InletConnectionPoint ;\n",
      "    ns1:hasMedium ns1:Fluid-Water .\n",
      "\n",
      "<urn:example/rhc-valve-out_d29f6d42> a ns1:OutletConnectionPoint ;\n",
      "    ns1:hasMedium ns1:Fluid-Water .\n",
      "\n",
      "<urn:example/rhc-valve_2466c8b5> a ns1:Valve ;\n",
      "    ns1:hasConnectionPoint <urn:example/rhc-valve-in_a6ddee7c>,\n",
      "        <urn:example/rhc-valve-out_d29f6d42> ;\n",
      "    ns1:hasProperty <urn:example/rhc-valve-command_29618166>,\n",
      "        <urn:example/rhc-valve-feedback_56847722> .\n",
      "\n",
      "<urn:example/rhc_df65cbd7> a ns1:HeatingCoil ;\n",
      "    ns1:contains <urn:example/rhc-return-water-temp-sensor_b5298ffb>,\n",
      "        <urn:example/rhc-supply-water-temp-sensor_36a774a2>,\n",
      "        <urn:example/rhc-valve_2466c8b5> ;\n",
      "    ns1:hasConnectionPoint <urn:example/rhc-air-in_65dbba39>,\n",
      "        <urn:example/rhc-air-out_b58824a8>,\n",
      "        <urn:example/rhc-water-in_fb6fb0c0>,\n",
      "        <urn:example/rhc-water-out_a4257059> ;\n",
      "    ns1:hasProperty <urn:example/rhc-return-water-temp_91a7fbca>,\n",
      "        <urn:example/rhc-supply-water-temp_9924c7c1> .\n",
      "\n",
      "<urn:example/sup-air-flow-sensor_83e51cfc> a ns1:Sensor ;\n",
      "    ns1:hasObservationLocation <urn:example/air-out_3f405455> ;\n",
      "    ns1:observes <urn:example/sup-air-flow_a5256a5c> .\n",
      "\n",
      "<urn:example/sup-air-pressure-sensor_02070ea9> a ns1:Sensor ;\n",
      "    ns1:hasObservationLocation <urn:example/air-out_3f405455> ;\n",
      "    ns1:observes <urn:example/sup-air-pressure_a08b11c0> .\n",
      "\n",
      "<urn:example/sup-air-temp-sensor_24f71559> a ns1:Sensor ;\n",
      "    ns1:hasObservationLocation <urn:example/air-out_3f405455> ;\n",
      "    ns1:observes <urn:example/sup-air-temp_2dada3e9> .\n",
      "\n",
      "<urn:example/dmp-out_da1616cb> a ns1:OutletConnectionPoint ;\n",
      "    ns1:hasMedium ns1:Fluid-Air .\n",
      "\n",
      "<urn:example/rhc-air-in_65dbba39> a ns1:InletConnectionPoint ;\n",
      "    ns1:hasMedium ns1:Fluid-Air .\n",
      "\n",
      "<urn:example/rhc-return-water-temp_91a7fbca> a ns1:QuantifiableObservableProperty ;\n",
      "    qudt:hasQuantityKind qudtqk:Temperature ;\n",
      "    qudt:hasUnit unit:DEG_C .\n",
      "\n",
      "<urn:example/rhc-supply-water-temp_9924c7c1> a ns1:QuantifiableObservableProperty ;\n",
      "    qudt:hasQuantityKind qudtqk:Temperature ;\n",
      "    qudt:hasUnit unit:DEG_C .\n",
      "\n",
      "<urn:example/rhc-water-in_fb6fb0c0> a ns1:InletConnectionPoint ;\n",
      "    ns1:hasMedium ns1:Fluid-Water .\n",
      "\n",
      "<urn:example/rhc-water-out_a4257059> a ns1:OutletConnectionPoint ;\n",
      "    ns1:hasMedium ns1:Fluid-Water .\n",
      "\n",
      "<urn:example/sup-air-flow_a5256a5c> a ns1:QuantifiableObservableProperty ;\n",
      "    qudt:hasQuantityKind qudtqk:VolumeFlowRate ;\n",
      "    qudt:hasUnit unit:FT3-PER-MIN .\n",
      "\n",
      "<urn:example/sup-air-pressure_a08b11c0> a ns1:QuantifiableObservableProperty ;\n",
      "    qudt:hasQuantityKind qudtqk:Pressure ;\n",
      "    qudt:hasUnit unit:IN_H2O .\n",
      "\n",
      "<urn:example/sup-air-temp_2dada3e9> a ns1:QuantifiableObservableProperty ;\n",
      "    qudt:hasQuantityKind qudtqk:Temperature ;\n",
      "    qudt:hasUnit unit:DEG_C .\n",
      "\n",
      "<urn:example/air-out_3f405455> a ns1:OutletConnectionPoint ;\n",
      "    ns1:hasMedium ns1:Fluid-Air .\n",
      "\n",
      "\n"
     ]
    }
   ],
   "source": [
    "print(g.serialize())"
   ]
  },
  {
   "cell_type": "code",
   "execution_count": null,
   "id": "b7200b12-7e06-4792-bd84-83c052e55a91",
   "metadata": {},
   "outputs": [],
   "source": []
  }
 ],
 "metadata": {
  "kernelspec": {
   "display_name": "Python 3 (ipykernel)",
   "language": "python",
   "name": "python3"
  },
  "language_info": {
   "codemirror_mode": {
    "name": "ipython",
    "version": 3
   },
   "file_extension": ".py",
   "mimetype": "text/x-python",
   "name": "python",
   "nbconvert_exporter": "python",
   "pygments_lexer": "ipython3",
   "version": "3.11.9"
  }
 },
 "nbformat": 4,
 "nbformat_minor": 5
}
