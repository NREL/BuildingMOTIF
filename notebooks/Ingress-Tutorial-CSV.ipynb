{
 "cells": [
  {
   "cell_type": "code",
   "execution_count": 1,
   "id": "7385ef36-ac6c-46e1-ad5b-45fc75137019",
   "metadata": {
    "execution": {
     "iopub.execute_input": "2024-07-02T23:56:49.393393Z",
     "iopub.status.busy": "2024-07-02T23:56:49.393099Z",
     "iopub.status.idle": "2024-07-02T23:56:49.842058Z",
     "shell.execute_reply": "2024-07-02T23:56:49.841674Z"
    }
   },
   "outputs": [],
   "source": [
    "from rdflib import Namespace, Graph\n",
    "from buildingmotif import BuildingMOTIF\n",
    "from buildingmotif.namespaces import BRICK\n",
    "from buildingmotif.dataclasses import Model, Library, Template\n",
    "from buildingmotif.ingresses import CSVIngress, TemplateIngress, Record"
   ]
  },
  {
   "cell_type": "code",
   "execution_count": 2,
   "id": "4ab8e1ee-ff06-4357-8c9f-5b62c898fb8a",
   "metadata": {
    "execution": {
     "iopub.execute_input": "2024-07-02T23:56:49.844399Z",
     "iopub.status.busy": "2024-07-02T23:56:49.844227Z",
     "iopub.status.idle": "2024-07-02T23:56:49.896835Z",
     "shell.execute_reply": "2024-07-02T23:56:49.896456Z"
    }
   },
   "outputs": [],
   "source": [
    "bm = BuildingMOTIF(\"sqlite://\") # in-memory"
   ]
  },
  {
   "cell_type": "code",
   "execution_count": 3,
   "id": "42d77bb4-6c5f-43cd-8d85-b8f6002e67ee",
   "metadata": {
    "execution": {
     "iopub.execute_input": "2024-07-02T23:56:49.899069Z",
     "iopub.status.busy": "2024-07-02T23:56:49.898920Z",
     "iopub.status.idle": "2024-07-02T23:57:14.827252Z",
     "shell.execute_reply": "2024-07-02T23:57:14.826833Z"
    }
   },
   "outputs": [
    {
     "name": "stderr",
     "output_type": "stream",
     "text": [
      "/Users/gabe/Library/Caches/pypoetry/virtualenvs/buildingmotif-ozGZrh9J-py3.11/lib/python3.11/site-packages/pyshacl/extras/__init__.py:46: Warning: Extra \"js\" is not satisfied because requirement pyduktape2 is not installed.\n",
      "  warn(Warning(f\"Extra \\\"{extra_name}\\\" is not satisfied because requirement {req} is not installed.\"))\n"
     ]
    },
    {
     "name": "stderr",
     "output_type": "stream",
     "text": [
      "2024-07-02 17:57:10,900 | root |  WARNING: An ontology could not resolve a dependency on http://qudt.org/2.1/vocab/sou (No row was found when one was required). Check this is loaded into BuildingMOTIF\n"
     ]
    },
    {
     "name": "stderr",
     "output_type": "stream",
     "text": [
      "2024-07-02 17:57:10,901 | root |  WARNING: An ontology could not resolve a dependency on http://qudt.org/2.1/vocab/unit (No row was found when one was required). Check this is loaded into BuildingMOTIF\n"
     ]
    },
    {
     "name": "stderr",
     "output_type": "stream",
     "text": [
      "2024-07-02 17:57:10,901 | root |  WARNING: An ontology could not resolve a dependency on http://qudt.org/2.1/vocab/dimensionvector (No row was found when one was required). Check this is loaded into BuildingMOTIF\n"
     ]
    },
    {
     "name": "stderr",
     "output_type": "stream",
     "text": [
      "2024-07-02 17:57:10,902 | root |  WARNING: An ontology could not resolve a dependency on http://qudt.org/2.1/vocab/prefix (No row was found when one was required). Check this is loaded into BuildingMOTIF\n"
     ]
    },
    {
     "name": "stderr",
     "output_type": "stream",
     "text": [
      "2024-07-02 17:57:10,903 | root |  WARNING: An ontology could not resolve a dependency on https://w3id.org/rec/recimports (No row was found when one was required). Check this is loaded into BuildingMOTIF\n"
     ]
    },
    {
     "name": "stderr",
     "output_type": "stream",
     "text": [
      "2024-07-02 17:57:10,903 | root |  WARNING: An ontology could not resolve a dependency on http://qudt.org/2.1/schema/shacl/overlay/qudt (No row was found when one was required). Check this is loaded into BuildingMOTIF\n"
     ]
    },
    {
     "name": "stderr",
     "output_type": "stream",
     "text": [
      "2024-07-02 17:57:10,904 | root |  WARNING: An ontology could not resolve a dependency on https://brickschema.org/schema/Brick/ref (No row was found when one was required). Check this is loaded into BuildingMOTIF\n"
     ]
    },
    {
     "name": "stderr",
     "output_type": "stream",
     "text": [
      "2024-07-02 17:57:10,905 | root |  WARNING: An ontology could not resolve a dependency on http://qudt.org/2.1/collection/usertest (No row was found when one was required). Check this is loaded into BuildingMOTIF\n"
     ]
    },
    {
     "name": "stderr",
     "output_type": "stream",
     "text": [
      "2024-07-02 17:57:10,905 | root |  WARNING: An ontology could not resolve a dependency on http://qudt.org/2.1/vocab/quantitykind (No row was found when one was required). Check this is loaded into BuildingMOTIF\n"
     ]
    },
    {
     "name": "stderr",
     "output_type": "stream",
     "text": [
      "2024-07-02 17:57:10,906 | root |  WARNING: An ontology could not resolve a dependency on http://qudt.org/2.1/schema/shacl/qudt (No row was found when one was required). Check this is loaded into BuildingMOTIF\n"
     ]
    },
    {
     "name": "stderr",
     "output_type": "stream",
     "text": [
      "2024-07-02 17:57:10,906 | root |  WARNING: An ontology could not resolve a dependency on http://data.ashrae.org/bacnet/2020 (No row was found when one was required). Check this is loaded into BuildingMOTIF\n"
     ]
    },
    {
     "name": "stderr",
     "output_type": "stream",
     "text": [
      "2024-07-02 17:57:10,907 | root |  WARNING: An ontology could not resolve a dependency on http://qudt.org/2.1/schema/facade/qudt (No row was found when one was required). Check this is loaded into BuildingMOTIF\n"
     ]
    },
    {
     "name": "stderr",
     "output_type": "stream",
     "text": [
      "2024-07-02 17:57:12,982 | root |  WARNING: Warning: could not find dependee n9bee61f0730641f5a0a503c61c61e4e5b7721 in libraries []\n"
     ]
    },
    {
     "name": "stderr",
     "output_type": "stream",
     "text": [
      "2024-07-02 17:57:12,985 | root |  WARNING: Warning: could not find dependee n9bee61f0730641f5a0a503c61c61e4e5b7725 in libraries []\n"
     ]
    },
    {
     "name": "stderr",
     "output_type": "stream",
     "text": [
      "2024-07-02 17:57:12,988 | root |  WARNING: Warning: could not find dependee n9bee61f0730641f5a0a503c61c61e4e5b7723 in libraries []\n"
     ]
    },
    {
     "name": "stderr",
     "output_type": "stream",
     "text": [
      "2024-07-02 17:57:12,991 | root |  WARNING: Warning: could not find dependee n9bee61f0730641f5a0a503c61c61e4e5b7729 in libraries []\n"
     ]
    },
    {
     "name": "stderr",
     "output_type": "stream",
     "text": [
      "2024-07-02 17:57:12,994 | root |  WARNING: Warning: could not find dependee n9bee61f0730641f5a0a503c61c61e4e5b7727 in libraries []\n"
     ]
    },
    {
     "name": "stderr",
     "output_type": "stream",
     "text": [
      "2024-07-02 17:57:12,998 | root |  WARNING: Warning: could not find dependee n9bee61f0730641f5a0a503c61c61e4e5b7647 in libraries []\n"
     ]
    },
    {
     "name": "stderr",
     "output_type": "stream",
     "text": [
      "2024-07-02 17:57:13,001 | root |  WARNING: Warning: could not find dependee n9bee61f0730641f5a0a503c61c61e4e5b7649 in libraries []\n"
     ]
    },
    {
     "name": "stderr",
     "output_type": "stream",
     "text": [
      "2024-07-02 17:57:13,004 | root |  WARNING: Warning: could not find dependee n9bee61f0730641f5a0a503c61c61e4e5b7645 in libraries []\n"
     ]
    },
    {
     "name": "stderr",
     "output_type": "stream",
     "text": [
      "2024-07-02 17:57:13,006 | root |  WARNING: Warning: could not find dependee n9bee61f0730641f5a0a503c61c61e4e5b7651 in libraries []\n"
     ]
    },
    {
     "name": "stderr",
     "output_type": "stream",
     "text": [
      "2024-07-02 17:57:13,009 | root |  WARNING: Warning: could not find dependee n9bee61f0730641f5a0a503c61c61e4e5b7653 in libraries []\n"
     ]
    },
    {
     "name": "stderr",
     "output_type": "stream",
     "text": [
      "2024-07-02 17:57:13,014 | root |  WARNING: Warning: could not find dependee n9bee61f0730641f5a0a503c61c61e4e5b7628 in libraries []\n"
     ]
    },
    {
     "name": "stderr",
     "output_type": "stream",
     "text": [
      "2024-07-02 17:57:13,016 | root |  WARNING: Warning: could not find dependee n9bee61f0730641f5a0a503c61c61e4e5b7630 in libraries []\n"
     ]
    },
    {
     "name": "stderr",
     "output_type": "stream",
     "text": [
      "2024-07-02 17:57:13,019 | root |  WARNING: Warning: could not find dependee n9bee61f0730641f5a0a503c61c61e4e5b7636 in libraries []\n"
     ]
    },
    {
     "name": "stderr",
     "output_type": "stream",
     "text": [
      "2024-07-02 17:57:13,022 | root |  WARNING: Warning: could not find dependee n9bee61f0730641f5a0a503c61c61e4e5b7634 in libraries []\n"
     ]
    },
    {
     "name": "stderr",
     "output_type": "stream",
     "text": [
      "2024-07-02 17:57:13,025 | root |  WARNING: Warning: could not find dependee n9bee61f0730641f5a0a503c61c61e4e5b7638 in libraries []\n"
     ]
    },
    {
     "name": "stderr",
     "output_type": "stream",
     "text": [
      "2024-07-02 17:57:13,027 | root |  WARNING: Warning: could not find dependee n9bee61f0730641f5a0a503c61c61e4e5b7632 in libraries []\n"
     ]
    },
    {
     "name": "stderr",
     "output_type": "stream",
     "text": [
      "2024-07-02 17:57:13,031 | root |  WARNING: Warning: could not find dependee n9bee61f0730641f5a0a503c61c61e4e5b7589 in libraries []\n"
     ]
    },
    {
     "name": "stderr",
     "output_type": "stream",
     "text": [
      "2024-07-02 17:57:13,034 | root |  WARNING: Warning: could not find dependee n9bee61f0730641f5a0a503c61c61e4e5b7579 in libraries []\n"
     ]
    },
    {
     "name": "stderr",
     "output_type": "stream",
     "text": [
      "2024-07-02 17:57:13,037 | root |  WARNING: Warning: could not find dependee n9bee61f0730641f5a0a503c61c61e4e5b7583 in libraries []\n"
     ]
    },
    {
     "name": "stderr",
     "output_type": "stream",
     "text": [
      "2024-07-02 17:57:13,039 | root |  WARNING: Warning: could not find dependee n9bee61f0730641f5a0a503c61c61e4e5b7587 in libraries []\n"
     ]
    },
    {
     "name": "stderr",
     "output_type": "stream",
     "text": [
      "2024-07-02 17:57:13,042 | root |  WARNING: Warning: could not find dependee n9bee61f0730641f5a0a503c61c61e4e5b7585 in libraries []\n"
     ]
    },
    {
     "name": "stderr",
     "output_type": "stream",
     "text": [
      "2024-07-02 17:57:13,045 | root |  WARNING: Warning: could not find dependee n9bee61f0730641f5a0a503c61c61e4e5b7581 in libraries []\n"
     ]
    }
   ],
   "source": [
    "BLDG = Namespace(\"urn:my_site/\")\n",
    "model = Model.create(BLDG)\n",
    "_ = Library.load(ontology_graph=\"../libraries/brick/Brick.ttl\")\n",
    "lib = Library.load(directory=\"tutorial\")"
   ]
  },
  {
   "cell_type": "code",
   "execution_count": 4,
   "id": "6d2748ce-f1b8-420e-bd59-0c2c29992a8b",
   "metadata": {
    "execution": {
     "iopub.execute_input": "2024-07-02T23:57:14.829508Z",
     "iopub.status.busy": "2024-07-02T23:57:14.829278Z",
     "iopub.status.idle": "2024-07-02T23:57:14.831952Z",
     "shell.execute_reply": "2024-07-02T23:57:14.831596Z"
    }
   },
   "outputs": [],
   "source": [
    "tstat_templ = lib.get_template_by_name('my-thermostat')"
   ]
  },
  {
   "cell_type": "code",
   "execution_count": 5,
   "id": "6bd443c2-ee0b-46d3-8cb5-b24c884ffe80",
   "metadata": {
    "execution": {
     "iopub.execute_input": "2024-07-02T23:57:14.833738Z",
     "iopub.status.busy": "2024-07-02T23:57:14.833596Z",
     "iopub.status.idle": "2024-07-02T23:57:14.843629Z",
     "shell.execute_reply": "2024-07-02T23:57:14.843321Z"
    }
   },
   "outputs": [],
   "source": [
    "csv = CSVIngress(\"tutorial/data.csv\")\n",
    "# no need for mapper because the CSV file has the correct column names\n",
    "ingress = TemplateIngress(tstat_templ.inline_dependencies(), None, csv)"
   ]
  },
  {
   "cell_type": "code",
   "execution_count": 6,
   "id": "036625bc-f699-4df9-afe7-2fb449b211fd",
   "metadata": {
    "execution": {
     "iopub.execute_input": "2024-07-02T23:57:14.845498Z",
     "iopub.status.busy": "2024-07-02T23:57:14.845385Z",
     "iopub.status.idle": "2024-07-02T23:57:14.849278Z",
     "shell.execute_reply": "2024-07-02T23:57:14.848933Z"
    }
   },
   "outputs": [],
   "source": [
    "model.add_graph(ingress.graph(BLDG))"
   ]
  },
  {
   "cell_type": "code",
   "execution_count": 7,
   "id": "2a4ee9c4-e138-46c0-a21b-8c2aad2f4b31",
   "metadata": {
    "execution": {
     "iopub.execute_input": "2024-07-02T23:57:14.851066Z",
     "iopub.status.busy": "2024-07-02T23:57:14.850967Z",
     "iopub.status.idle": "2024-07-02T23:57:14.881553Z",
     "shell.execute_reply": "2024-07-02T23:57:14.881263Z"
    }
   },
   "outputs": [
    {
     "name": "stdout",
     "output_type": "stream",
     "text": [
      "@prefix brick: <https://brickschema.org/schema/Brick#> .\n",
      "@prefix owl: <http://www.w3.org/2002/07/owl#> .\n",
      "\n",
      "<urn:my_site/> a owl:Ontology .\n",
      "\n",
      "<urn:my_site/tstat2> a brick:Thermostat ;\n",
      "    brick:hasLocation <urn:my_site/room345> ;\n",
      "    brick:hasPoint <urn:my_site/co2-345>,\n",
      "        <urn:my_site/sp-345>,\n",
      "        <urn:my_site/temp-345> .\n",
      "\n",
      "<urn:my_site/tstat3> a brick:Thermostat ;\n",
      "    brick:hasLocation <urn:my_site/room567> ;\n",
      "    brick:hasPoint <urn:my_site/cow-567>,\n",
      "        <urn:my_site/sp-567>,\n",
      "        <urn:my_site/temp-567> .\n",
      "\n",
      "<urn:my_site/co2-345> a brick:CO2_Sensor .\n",
      "\n",
      "<urn:my_site/cow-567> a brick:CO2_Sensor .\n",
      "\n",
      "<urn:my_site/room345> a brick:Room .\n",
      "\n",
      "<urn:my_site/room567> a brick:Room .\n",
      "\n",
      "<urn:my_site/sp-345> a brick:Temperature_Setpoint .\n",
      "\n",
      "<urn:my_site/sp-567> a brick:Temperature_Setpoint .\n",
      "\n",
      "<urn:my_site/temp-345> a brick:Temperature_Sensor .\n",
      "\n",
      "<urn:my_site/temp-567> a brick:Temperature_Sensor .\n",
      "\n",
      "\n"
     ]
    }
   ],
   "source": [
    "print(model.graph.serialize())"
   ]
  },
  {
   "cell_type": "code",
   "execution_count": null,
   "id": "38e5cb35-c423-4e0d-a778-f3e3fdef6b8b",
   "metadata": {},
   "outputs": [],
   "source": []
  }
 ],
 "metadata": {
  "kernelspec": {
   "display_name": "Python 3 (ipykernel)",
   "language": "python",
   "name": "python3"
  },
  "language_info": {
   "codemirror_mode": {
    "name": "ipython",
    "version": 3
   },
   "file_extension": ".py",
   "mimetype": "text/x-python",
   "name": "python",
   "nbconvert_exporter": "python",
   "pygments_lexer": "ipython3",
   "version": "3.11.9"
  }
 },
 "nbformat": 4,
 "nbformat_minor": 5
}
