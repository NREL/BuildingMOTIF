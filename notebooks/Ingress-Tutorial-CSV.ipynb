{
 "cells": [
  {
   "cell_type": "code",
   "execution_count": 1,
   "id": "7385ef36-ac6c-46e1-ad5b-45fc75137019",
   "metadata": {},
   "outputs": [],
   "source": [
    "from rdflib import Namespace, Graph\n",
    "from buildingmotif import BuildingMOTIF\n",
    "from buildingmotif.namespaces import BRICK\n",
    "from buildingmotif.dataclasses import Model, Library, Template\n",
    "from buildingmotif.ingresses import CSVIngress, TemplateIngress, Record"
   ]
  },
  {
   "cell_type": "code",
   "execution_count": 2,
   "id": "4ab8e1ee-ff06-4357-8c9f-5b62c898fb8a",
   "metadata": {},
   "outputs": [],
   "source": [
    "bm = BuildingMOTIF(\"sqlite://\") # in-memory"
   ]
  },
  {
   "cell_type": "code",
   "execution_count": 3,
   "id": "42d77bb4-6c5f-43cd-8d85-b8f6002e67ee",
   "metadata": {},
   "outputs": [],
   "source": [
    "BLDG = Namespace(\"urn:my_site/\")\n",
    "model = Model.create(BLDG)\n",
    "_ = Library.load(ontology_graph=\"../libraries/brick/Brick-subset.ttl\")\n",
    "lib = Library.load(directory=\"tutorial\")"
   ]
  },
  {
   "cell_type": "code",
   "execution_count": 4,
   "id": "6d2748ce-f1b8-420e-bd59-0c2c29992a8b",
   "metadata": {},
   "outputs": [],
   "source": [
    "tstat_templ = lib.get_template_by_name('my-thermostat')"
   ]
  },
  {
   "cell_type": "code",
   "execution_count": 5,
   "id": "6bd443c2-ee0b-46d3-8cb5-b24c884ffe80",
   "metadata": {},
   "outputs": [],
   "source": [
    "csv = CSVIngress(\"tutorial/data.csv\")\n",
    "# no need for mapper because the CSV file has the correct column names\n",
    "ingress = TemplateIngress(tstat_templ.inline_dependencies(), None, csv)"
   ]
  },
  {
   "cell_type": "code",
   "execution_count": 6,
   "id": "036625bc-f699-4df9-afe7-2fb449b211fd",
   "metadata": {},
   "outputs": [],
   "source": [
    "model.add_graph(ingress.graph(BLDG))"
   ]
  },
  {
   "cell_type": "code",
   "execution_count": 7,
   "id": "2a4ee9c4-e138-46c0-a21b-8c2aad2f4b31",
   "metadata": {},
   "outputs": [
    {
     "name": "stdout",
     "output_type": "stream",
     "text": [
      "@prefix brick: <https://brickschema.org/schema/Brick#> .\n",
      "@prefix owl: <http://www.w3.org/2002/07/owl#> .\n",
      "\n",
      "<urn:my_site/> a owl:Ontology .\n",
      "\n",
      "<urn:my_site/tstat2> a brick:Thermostat ;\n",
      "    brick:hasLocation <urn:my_site/room345> ;\n",
      "    brick:hasPoint <urn:my_site/co2-345>,\n",
      "        <urn:my_site/sp-345>,\n",
      "        <urn:my_site/temp-345> .\n",
      "\n",
      "<urn:my_site/tstat3> a brick:Thermostat ;\n",
      "    brick:hasLocation <urn:my_site/room567> ;\n",
      "    brick:hasPoint <urn:my_site/cow-567>,\n",
      "        <urn:my_site/sp-567>,\n",
      "        <urn:my_site/temp-567> .\n",
      "\n",
      "<urn:my_site/co2-345> a brick:CO2_Sensor .\n",
      "\n",
      "<urn:my_site/cow-567> a brick:CO2_Sensor .\n",
      "\n",
      "<urn:my_site/room345> a brick:Room .\n",
      "\n",
      "<urn:my_site/room567> a brick:Room .\n",
      "\n",
      "<urn:my_site/sp-345> a brick:Temperature_Setpoint .\n",
      "\n",
      "<urn:my_site/sp-567> a brick:Temperature_Setpoint .\n",
      "\n",
      "<urn:my_site/temp-345> a brick:Temperature_Sensor .\n",
      "\n",
      "<urn:my_site/temp-567> a brick:Temperature_Sensor .\n",
      "\n",
      "\n"
     ]
    }
   ],
   "source": [
    "print(model.graph.serialize())"
   ]
  },
  {
   "cell_type": "code",
   "execution_count": null,
   "id": "38e5cb35-c423-4e0d-a778-f3e3fdef6b8b",
   "metadata": {},
   "outputs": [],
   "source": []
  }
 ],
 "metadata": {
  "kernelspec": {
   "display_name": "Python 3 (ipykernel)",
   "language": "python",
   "name": "python3"
  },
  "language_info": {
   "codemirror_mode": {
    "name": "ipython",
    "version": 3
   },
   "file_extension": ".py",
   "mimetype": "text/x-python",
   "name": "python",
   "nbconvert_exporter": "python",
   "pygments_lexer": "ipython3",
   "version": "3.9.12"
  }
 },
 "nbformat": 4,
 "nbformat_minor": 5
}
