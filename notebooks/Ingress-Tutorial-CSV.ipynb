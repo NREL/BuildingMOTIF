{
 "cells": [
  {
   "cell_type": "code",
   "execution_count": null,
   "id": "7385ef36-ac6c-46e1-ad5b-45fc75137019",
   "metadata": {
    "execution": {
     "iopub.execute_input": "2024-07-02T23:56:49.393393Z",
     "iopub.status.busy": "2024-07-02T23:56:49.393099Z",
     "iopub.status.idle": "2024-07-02T23:56:49.842058Z",
     "shell.execute_reply": "2024-07-02T23:56:49.841674Z"
    }
   },
   "outputs": [],
   "source": [
    "from rdflib import Namespace, Graph\n",
    "from buildingmotif import BuildingMOTIF\n",
    "from buildingmotif.namespaces import BRICK\n",
    "from buildingmotif.dataclasses import Model, Library, Template\n",
    "from buildingmotif.ingresses import CSVIngress, TemplateIngress, Record"
   ]
  },
  {
   "cell_type": "code",
   "execution_count": null,
   "id": "4ab8e1ee-ff06-4357-8c9f-5b62c898fb8a",
   "metadata": {
    "execution": {
     "iopub.execute_input": "2024-07-02T23:56:49.844399Z",
     "iopub.status.busy": "2024-07-02T23:56:49.844227Z",
     "iopub.status.idle": "2024-07-02T23:56:49.896835Z",
     "shell.execute_reply": "2024-07-02T23:56:49.896456Z"
    }
   },
   "outputs": [],
   "source": [
    "bm = BuildingMOTIF(\"sqlite://\", \"topquadrant\") # in-memory"
   ]
  },
  {
   "cell_type": "code",
   "execution_count": null,
   "id": "42d77bb4-6c5f-43cd-8d85-b8f6002e67ee",
   "metadata": {
    "execution": {
     "iopub.execute_input": "2024-07-02T23:56:49.899069Z",
     "iopub.status.busy": "2024-07-02T23:56:49.898920Z",
     "iopub.status.idle": "2024-07-02T23:57:14.827252Z",
     "shell.execute_reply": "2024-07-02T23:57:14.826833Z"
    }
   },
   "outputs": [],
   "source": [
    "BLDG = Namespace(\"urn:my_site/\")\n",
    "model = Model.create(BLDG)\n",
    "_ = Library.load(ontology_graph=\"../libraries/brick/Brick.ttl\")\n",
    "lib = Library.load(directory=\"tutorial\")"
   ]
  },
  {
   "cell_type": "code",
   "execution_count": null,
   "id": "6d2748ce-f1b8-420e-bd59-0c2c29992a8b",
   "metadata": {
    "execution": {
     "iopub.execute_input": "2024-07-02T23:57:14.829508Z",
     "iopub.status.busy": "2024-07-02T23:57:14.829278Z",
     "iopub.status.idle": "2024-07-02T23:57:14.831952Z",
     "shell.execute_reply": "2024-07-02T23:57:14.831596Z"
    }
   },
   "outputs": [],
   "source": [
    "tstat_templ = lib.get_template_by_name('my-thermostat')"
   ]
  },
  {
   "cell_type": "code",
   "execution_count": null,
   "id": "6bd443c2-ee0b-46d3-8cb5-b24c884ffe80",
   "metadata": {
    "execution": {
     "iopub.execute_input": "2024-07-02T23:57:14.833738Z",
     "iopub.status.busy": "2024-07-02T23:57:14.833596Z",
     "iopub.status.idle": "2024-07-02T23:57:14.843629Z",
     "shell.execute_reply": "2024-07-02T23:57:14.843321Z"
    }
   },
   "outputs": [],
   "source": [
    "csv = CSVIngress(\"tutorial/data.csv\")\n",
    "# no need for mapper because the CSV file has the correct column names\n",
    "ingress = TemplateIngress(tstat_templ.inline_dependencies(), None, csv)"
   ]
  },
  {
   "cell_type": "code",
   "execution_count": null,
   "id": "036625bc-f699-4df9-afe7-2fb449b211fd",
   "metadata": {
    "execution": {
     "iopub.execute_input": "2024-07-02T23:57:14.845498Z",
     "iopub.status.busy": "2024-07-02T23:57:14.845385Z",
     "iopub.status.idle": "2024-07-02T23:57:14.849278Z",
     "shell.execute_reply": "2024-07-02T23:57:14.848933Z"
    }
   },
   "outputs": [],
   "source": [
    "model.add_graph(ingress.graph(BLDG))"
   ]
  },
  {
   "cell_type": "code",
   "execution_count": null,
   "id": "2a4ee9c4-e138-46c0-a21b-8c2aad2f4b31",
   "metadata": {
    "execution": {
     "iopub.execute_input": "2024-07-02T23:57:14.851066Z",
     "iopub.status.busy": "2024-07-02T23:57:14.850967Z",
     "iopub.status.idle": "2024-07-02T23:57:14.881553Z",
     "shell.execute_reply": "2024-07-02T23:57:14.881263Z"
    }
   },
   "outputs": [],
   "source": [
    "print(model.graph.serialize())"
   ]
  },
  {
   "cell_type": "code",
   "execution_count": null,
   "id": "38e5cb35-c423-4e0d-a778-f3e3fdef6b8b",
   "metadata": {},
   "outputs": [],
   "source": []
  }
 ],
 "metadata": {
  "kernelspec": {
   "display_name": ".venv",
   "language": "python",
   "name": "python3"
  },
  "language_info": {
   "codemirror_mode": {
    "name": "ipython",
    "version": 3
   },
   "file_extension": ".py",
   "mimetype": "text/x-python",
   "name": "python",
   "nbconvert_exporter": "python",
   "pygments_lexer": "ipython3",
   "version": "3.9.6"
  }
 },
 "nbformat": 4,
 "nbformat_minor": 5
}
