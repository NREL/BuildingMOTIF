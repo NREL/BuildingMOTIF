{
 "cells": [
  {
   "cell_type": "code",
   "execution_count": 1,
   "id": "63d55da5-9dd9-484b-8c88-e15a1a963379",
   "metadata": {
    "execution": {
     "iopub.execute_input": "2024-07-03T00:18:30.511240Z",
     "iopub.status.busy": "2024-07-03T00:18:30.510454Z",
     "iopub.status.idle": "2024-07-03T00:18:30.896018Z",
     "shell.execute_reply": "2024-07-03T00:18:30.895658Z"
    }
   },
   "outputs": [],
   "source": [
    "from buildingmotif import BuildingMOTIF\n",
    "from buildingmotif.dataclasses import Library, Model, Template\n",
    "from buildingmotif.namespaces import bind_prefixes, OWL, RDFS, RDF, S223\n",
    "from buildingmotif.model_builder import TemplateBuilderContext\n",
    "from rdflib import Namespace, URIRef, Literal, Graph, BNode\n",
    "import glob\n",
    "from typing import List"
   ]
  },
  {
   "cell_type": "code",
   "execution_count": 2,
   "id": "44e45fbe-ea1d-44a8-8b8d-7d58deb8890d",
   "metadata": {
    "execution": {
     "iopub.execute_input": "2024-07-03T00:18:30.898226Z",
     "iopub.status.busy": "2024-07-03T00:18:30.898072Z",
     "iopub.status.idle": "2024-07-03T00:18:30.984701Z",
     "shell.execute_reply": "2024-07-03T00:18:30.984335Z"
    }
   },
   "outputs": [],
   "source": [
    "# setup our buildingmotif instance\n",
    "bm = BuildingMOTIF(\"sqlite://\", shacl_engine='topquadrant')\n",
    "\n",
    "# create the model w/ a namespace\n",
    "BLDG = Namespace(\"urn:nrel_example/\")\n",
    "bldg = Model.create(BLDG)\n",
    "\n",
    "# enable pretty-printing of URLs for Building entities\n",
    "bind_prefixes(bldg.graph)\n",
    "bldg.graph.bind(\"bldg\", BLDG)"
   ]
  },
  {
   "cell_type": "code",
   "execution_count": 3,
   "id": "8d290a5e-7f80-4d6d-8988-da2725cea60e",
   "metadata": {
    "execution": {
     "iopub.execute_input": "2024-07-03T00:18:30.986550Z",
     "iopub.status.busy": "2024-07-03T00:18:30.986414Z",
     "iopub.status.idle": "2024-07-03T00:18:45.960778Z",
     "shell.execute_reply": "2024-07-03T00:18:45.960305Z"
    }
   },
   "outputs": [
    {
     "name": "stderr",
     "output_type": "stream",
     "text": [
      "2024-07-02 18:18:43,910 | root |  WARNING: An ontology could not resolve a dependency on http://data.ashrae.org/standard223/1.0/extensions/settings (No row was found when one was required). Check this is loaded into BuildingMOTIF\n"
     ]
    },
    {
     "name": "stderr",
     "output_type": "stream",
     "text": [
      "2024-07-02 18:18:43,911 | root |  WARNING: An ontology could not resolve a dependency on http://data.ashrae.org/standard223/1.0/model/core (No row was found when one was required). Check this is loaded into BuildingMOTIF\n"
     ]
    },
    {
     "name": "stderr",
     "output_type": "stream",
     "text": [
      "2024-07-02 18:18:43,912 | root |  WARNING: An ontology could not resolve a dependency on http://data.ashrae.org/standard223/1.0/model/equipment (No row was found when one was required). Check this is loaded into BuildingMOTIF\n"
     ]
    },
    {
     "name": "stderr",
     "output_type": "stream",
     "text": [
      "2024-07-02 18:18:43,913 | root |  WARNING: An ontology could not resolve a dependency on http://data.ashrae.org/standard223/1.0/vocab/enumeration (No row was found when one was required). Check this is loaded into BuildingMOTIF\n"
     ]
    },
    {
     "name": "stderr",
     "output_type": "stream",
     "text": [
      "2024-07-02 18:18:43,913 | root |  WARNING: An ontology could not resolve a dependency on http://qudt.org/2.1/vocab/constant (No row was found when one was required). Check this is loaded into BuildingMOTIF\n"
     ]
    },
    {
     "name": "stderr",
     "output_type": "stream",
     "text": [
      "2024-07-02 18:18:43,914 | root |  WARNING: An ontology could not resolve a dependency on http://qudt.org/2.1/vocab/currency (No row was found when one was required). Check this is loaded into BuildingMOTIF\n"
     ]
    },
    {
     "name": "stderr",
     "output_type": "stream",
     "text": [
      "2024-07-02 18:18:43,914 | root |  WARNING: An ontology could not resolve a dependency on http://qudt.org/2.1/vocab/unit (No row was found when one was required). Check this is loaded into BuildingMOTIF\n"
     ]
    },
    {
     "name": "stderr",
     "output_type": "stream",
     "text": [
      "2024-07-02 18:18:43,915 | root |  WARNING: An ontology could not resolve a dependency on http://www.w3.org/ns/shacl# (No row was found when one was required). Check this is loaded into BuildingMOTIF\n"
     ]
    }
   ],
   "source": [
    "# load the S223 library\n",
    "s223 = Library.load(ontology_graph=r\"../libraries/ashrae/223p/ontology/223p.ttl\")"
   ]
  },
  {
   "cell_type": "markdown",
   "id": "1509a8d4-a8b3-4209-aadc-7cccd650c843",
   "metadata": {},
   "source": [
    "To use the Model Builder interface, we must first create a Context and load some templates into it. The Context keeps track of the parameters and dependencies of the templates. This reduces the amount of bookkeeping required in the user application."
   ]
  },
  {
   "cell_type": "code",
   "execution_count": 4,
   "id": "489deb1f-1ce9-4195-babd-6e6d03aad8ac",
   "metadata": {
    "execution": {
     "iopub.execute_input": "2024-07-03T00:18:45.963108Z",
     "iopub.status.busy": "2024-07-03T00:18:45.962948Z",
     "iopub.status.idle": "2024-07-03T00:19:10.462404Z",
     "shell.execute_reply": "2024-07-03T00:19:10.462008Z"
    }
   },
   "outputs": [],
   "source": [
    "# load in the NREL template library\n",
    "nrel_lib = Library.load(directory=\"../libraries/ashrae/223p/nrel-templates/\")\n",
    "# create a context for our template builder\n",
    "context = TemplateBuilderContext(BLDG)\n",
    "context.add_templates_from_library(nrel_lib)"
   ]
  },
  {
   "cell_type": "markdown",
   "id": "0340d593-b77d-4dd1-b1a2-4058bbcf0ef8",
   "metadata": {},
   "source": [
    "Here is what basic use of the Model Builder looks like. First, create an \"empty\" instance of a template by indexing into the context object.\n",
    "\n",
    "```python\n",
    "mau = context[\"makeup-air-unit\"]\n",
    "```\n",
    "\n",
    "Here, `mau` is a copy of the \"makeup-air-unit\" template from the NREL 223P library. We can see its parameters like this:\n",
    "\n",
    "```python\n",
    "print(mau.parameters)\n",
    "```\n",
    "\n",
    "We bind to parameters by indexing into the template copy.\n",
    "\n",
    "```python\n",
    "mau[\"name\"] = BLDG[\"MAU1\"] \n",
    "mau[\"air-supply\"] = BLDG[\"MAU1_AIR_SUPPLY\"]\n",
    "```\n",
    "\n",
    "or, more conveniently, by using the template as a constructor\n",
    "\n",
    "```python\n",
    "params = {\"name\": BLDG[\"MAU1\"], \"air-supply\": BLDG[\"MAU1_AIR_SUPPLY\"]}\n",
    "mau(**params) # unpacking the arg names from a dictionary because of the dash in 'air-supply'\n",
    "```\n",
    "\n",
    "We have bound 2 parameters (`name` and `air-supply`) to 2 values in the BLDG namespace; essentially, we have given these parameters *names* given by URIs. Agove, the name of the makeup air unit is `urn:nrel_example/MAU1`.\n",
    "\n",
    "Here, we create a new instance of the \"junction\" template and give it a name\n",
    "\n",
    "```python\n",
    "junction = context[\"junction\"](name = \"MAU_SUPPLY_JUNCTION\")\n",
    "```\n",
    "\n",
    "Note that we didn't wrap the name in a namespace (e.g. `BLDG[\"MAU_SUPPLY_JUNCTION\"]`). Model Builder knows what the default namespace is (it is passed into the Context constructor), so strings assigned to parameters will be turned automatically into IRIs. To assign a Literal value to a parameter, make sure the right-hand side of the assignment is an `rdflib.Literal` object.\n",
    "\n",
    "---\n",
    "\n",
    "Next, we want to connect a Duct from the air supply of the MAU to one of the inlets of the junction. One way we could do this is by just assigning our chosen entities to the Duct template's parameters. However, we have two problems.\n",
    "\n",
    "First, it may be difficult to remember or keep track of which names one wants to re-use. Especially as models get more complicated, having to keep track of the values bound to parameters can require significant bookkeeping.\n",
    "\n",
    "Second, our junction's connection point doesn't have a name yet. We would like to avoid inventing a name for the connection point purely to refer to later, especially since the names of connection points rarely need to be significant.\n",
    "\n",
    "To address these issues, the Model Builder allows parameters to be bound by reference rather than by value.\n",
    "\n",
    "```python\n",
    "# duct to connect mau air suply to junction in1\n",
    "duct = context[\"duct\"]\n",
    "duct[\"name\"] = \"mau_air_supply_duct\"\n",
    "duct[\"a\"] = mau[\"air-supply\"]\n",
    "duct[\"b\"] = junction[\"in1\"]\n",
    "```\n",
    "\n",
    "`duct[\"a\"] = mau[\"air-supply\"]` assigns a parameter (`duct[\"a\"]`) to the same value that `mau[\"air-supply\"]` is bound to. This behavior is triggered when the **right-hand side of an assignment is a parameter which has already been bound**.\n",
    "\n",
    "`duct[\"b\"] = junction[\"in1\"]` binds the two parameters together. If one is bound to a value, the other will automatically be bound to that value too. If neither are bound to specific values, then the Context will create a unique name for them to share. This behavior is triggered when the **right-hand side of an assignment is an unbound parameter**."
   ]
  },
  {
   "cell_type": "code",
   "execution_count": 5,
   "id": "ab4f259d-14b1-4984-99ca-52b1472e04f2",
   "metadata": {
    "execution": {
     "iopub.execute_input": "2024-07-03T00:19:10.464799Z",
     "iopub.status.busy": "2024-07-03T00:19:10.464644Z",
     "iopub.status.idle": "2024-07-03T00:19:10.470782Z",
     "shell.execute_reply": "2024-07-03T00:19:10.470393Z"
    }
   },
   "outputs": [],
   "source": [
    "# create a template instance\n",
    "mau = context[\"makeup-air-unit\"]\n",
    "mau[\"name\"] = BLDG[\"MAU\"]\n",
    "mau[\"air-supply\"] = BLDG[\"MAU_AIR_SUPPLY\"]\n",
    "\n",
    "junction = context[\"junction\"](name=\"MAU_SUPPLY_JUNCTION\")\n",
    "\n",
    "# duct to connect mau air suply to junction in1\n",
    "duct = context[\"duct\"](name=\"mau_air_supply_duct\", a=mau[\"air-supply\"], b=junction[\"in1\"])"
   ]
  },
  {
   "cell_type": "markdown",
   "id": "725a7769-f703-4143-ab55-b416b6edc273",
   "metadata": {},
   "source": [
    "Below are some helper methods for some common tasks: constructing spaces and attaching them to HVAC zones, various equipment constructors, etc. For some ontologies, like 223P, it can be helpful to have these kinds of \"constructor\" methods which take care of connecting the desired components together."
   ]
  },
  {
   "cell_type": "code",
   "execution_count": 6,
   "id": "7243bb7c-8761-4228-ad53-74fba893005c",
   "metadata": {
    "execution": {
     "iopub.execute_input": "2024-07-03T00:19:10.472737Z",
     "iopub.status.busy": "2024-07-03T00:19:10.472567Z",
     "iopub.status.idle": "2024-07-03T00:19:10.481624Z",
     "shell.execute_reply": "2024-07-03T00:19:10.481302Z"
    }
   },
   "outputs": [],
   "source": [
    "# space cache\n",
    "spaces = {}\n",
    "\n",
    "# helper functions for building the model\n",
    "def duct(from_=None, to_=None):\n",
    "    return context[\"duct\"](a=from_, b=to_)\n",
    "    \n",
    "def ensure_space(space_name, zone):\n",
    "    if space_name not in spaces:\n",
    "        space = context[\"hvac-space\"](name=space_name)\n",
    "        spaces[space_name] = space\n",
    "\n",
    "        # link = context[\"hvac-zone-contains-space\"](name=zone)\n",
    "        # link[\"domain-space\"] = space_name\n",
    "    return spaces[space_name]\n",
    "\n",
    "def make_lab_vav(vav_name: str, space_name: str, zone: str, junction_cp: str, vav_template_name: str):\n",
    "    vav = context[vav_template_name]\n",
    "    vav[\"name\"] = vav_name\n",
    "\n",
    "    # connect vav['air-in'] to the junction with a duct\n",
    "    duct(from_=junction[junction_cp], to_=vav[\"air-in\"])\n",
    "\n",
    "    ensure_space(space_name, zone)\n",
    "\n",
    "    # connect vav['air-out'] to the space through a duct\n",
    "    duct(from_=vav[\"air-out\"], to_=spaces[space_name][\"in\"])\n",
    "\n",
    "\n",
    "\n",
    "def make_fcu(fcu_name: str, space_name: str, zone: str, junction_cp: str):\n",
    "    fcu = context[\"fcu\"]\n",
    "    fcu[\"name\"] = fcu_name\n",
    "\n",
    "    # connect fcu 'in' to the junction with a duct\n",
    "    duct(from_=junction[junction_cp], to_=fcu[\"in\"])\n",
    "\n",
    "    # create the space if it doesn't exist\n",
    "    ensure_space(space_name, zone)\n",
    "\n",
    "    # connect fcu 'out' to the space through a duct\n",
    "    duct(from_=fcu[\"out\"], to_=spaces[space_name][\"in\"])\n",
    "\n",
    "\n",
    "def make_multiple_vavs(vav_names: List[str], space_name: str, zone: str, junction_cp: str, vav_template_name: str, space_cps: List[str]):\n",
    "    vavs = []\n",
    "    for vav_name in vav_names:\n",
    "        vav = context[vav_template_name]\n",
    "        vav[\"name\"] = vav_name\n",
    "        vavs.append(vav)\n",
    "\n",
    "    # make an upstream junction for the VAVs\n",
    "    junction = context[\"junction\"]\n",
    "    junction[\"name\"] = f\"{space_name}_junction\"\n",
    "    # create a duct connecting junction_cp to the junction's in1\n",
    "    duct(from_=junction[junction_cp], to_=junction[\"in1\"])\n",
    "\n",
    "    # create the space if it doesn't exist, add it to the space cache, and connect it to the zone\n",
    "    # make sure to create teh connection points from space_cps\n",
    "    ensure_space(space_name, zone)\n",
    "\n",
    "    # for each space_cp associate it with the space using hasConnectionPoint\n",
    "    for space_cp in space_cps:\n",
    "        cp = context[\"air-inlet-cp\"]\n",
    "        cp[\"name\"] = space_cp\n",
    "        spaces[space_name].template.body.add((spaces[space_name][\"name\"], S223.hasConnectionPoint, cp[\"name\"]))\n",
    "\n",
    "def make_multiple_fcus(fcu_names: List[str], space_name: str, zone: str, junction_cp: str, space_cps: List[str]):\n",
    "    fcus = []\n",
    "    for fcu_name in fcu_names:\n",
    "        fcu = context['fcu']\n",
    "        fcu[\"name\"] = fcu_name\n",
    "        fcus.append(fcu)\n",
    "\n",
    "    # make an upstream junction for the VAVs\n",
    "    junction = context[\"junction\"]\n",
    "    junction[\"name\"] = f\"{space_name}_junction\"\n",
    "    # create a duct connecting junction_cp to the junction's in1\n",
    "    duct(from_=junction[junction_cp], to_=junction[\"in1\"])\n",
    "\n",
    "    # create the space if it doesn't exist, add it to the space cache, and connect it to the zone\n",
    "    # make sure to create teh connection points from space_cps\n",
    "    ensure_space(space_name, zone)\n",
    "\n",
    "    # for each space_cp associate it with the space using hasConnectionPoint\n",
    "    for space_cp in space_cps:\n",
    "        cp = context[\"air-inlet-cp\"]\n",
    "        cp[\"name\"] = space_cp\n",
    "        spaces[space_name].template.body.add((spaces[space_name][\"name\"], S223.hasConnectionPoint, cp[\"name\"]))\n",
    "\n",
    "\n",
    "    # for each vav, connect the junction's outX to the vav's air-in with a duct\n",
    "    # where X is the index of the vav in vav_names\n",
    "    for i, fcu in enumerate(fcus):\n",
    "        duct(from_=junction[f\"out{i + 1}\"], to_=fcu[\"in\"])\n",
    "\n",
    "    # for each vav, connect the vav's air-out to the space's respective 'inlet' inside space_cps\n",
    "    for i, fcu in enumerate(fcus):\n",
    "        duct(from_=fcu[\"out\"], to_=space_cps[i])\n",
    "\n",
    "def make_exhaust_fan(name: str, junction_cp: str, space_name: str, space_cp: str):\n",
    "    ef = context[\"exhaust-fan\"]\n",
    "    ef[\"name\"] = name\n",
    "    # ef 'out' connects to the junction inlet via a duct\n",
    "    duct(from_=ef[\"out\"], to_=eau_junction[junction_cp])\n",
    "    # ef 'in' connects from the space via a duct\n",
    "    duct(from_=spaces[space_name][space_cp], to_=ef[\"in\"])\n"
   ]
  },
  {
   "cell_type": "code",
   "execution_count": 7,
   "id": "15535ce4-ef86-40c2-bf96-d51123568914",
   "metadata": {
    "execution": {
     "iopub.execute_input": "2024-07-03T00:19:10.483425Z",
     "iopub.status.busy": "2024-07-03T00:19:10.483271Z",
     "iopub.status.idle": "2024-07-03T00:19:10.534494Z",
     "shell.execute_reply": "2024-07-03T00:19:10.534184Z"
    }
   },
   "outputs": [],
   "source": [
    "# call our constructors to create the equipment, zones, and rooms\n",
    "\n",
    "make_lab_vav(\"VAV-103\", \"science-lab1\", \"science-lab\", \"out1\", \"lab-vav-reheat\")\n",
    "make_lab_vav(\"VAV-104\", \"science-lab2\", \"science-lab\", \"out2\", \"lab-vav-reheat\")\n",
    "make_lab_vav(\"VAV-101\", \"rm101\", \"common-space\", \"out5\", \"lab-vav-reheat\")\n",
    "make_lab_vav(\"VAV-107\", \"bathrms\", \"common-space\", \"out6\", \"lab-vav-reheat\")\n",
    "make_lab_vav(\"VAV-123\", \"science-lab3\", \"science-lab\", \"out3\", \"lab-vav-reheat\")\n",
    "\n",
    "make_multiple_vavs([\"VAV-122a\", \"VAV-122b\"], \"science-lab4\", \"science-lab\", \"out4\", \"lab-vav-reheat\", [\"in1\", \"in2\"])\n",
    "make_multiple_vavs([\"VAV-125a\", \"VAV-125b\"], \"corridor\", \"common-space\", \"out7\", \"lab-vav-reheat\", [\"corridor-in1\", \"corridor-in2\"])\n",
    "\n",
    "make_fcu(\"fcu109\", \"electricalRoom\", \"common-space\", \"out9\")\n",
    "make_fcu(\"fcu110\", \"ITRoom\", \"common-space\", \"out10\")\n",
    "make_fcu(\"fcu111\", \"office1\", \"common-space\", \"out11\")\n",
    "make_fcu(\"fcu118\", \"office2\", \"common-space\", \"out12\")\n",
    "make_fcu(\"fcu119\", \"conferenceRoom1\", \"common-space\", \"out13\")\n",
    "make_fcu(\"fcu120\", \"conferenceRoom2\", \"common-space\", \"out14\")\n",
    "make_fcu(\"fcuRO1\", \"MechanicalRoom\", \"common-space\", \"out15\")\n",
    "\n",
    "make_multiple_fcus(['fcu125a', 'fcu125b'], 'corridor', 'common-space', 'out16', ['corridor-in3', 'corridor-in4'])"
   ]
  },
  {
   "cell_type": "code",
   "execution_count": 8,
   "id": "96d89f65-ec9e-439c-8740-eacfce6c27e0",
   "metadata": {
    "execution": {
     "iopub.execute_input": "2024-07-03T00:19:10.536284Z",
     "iopub.status.busy": "2024-07-03T00:19:10.536175Z",
     "iopub.status.idle": "2024-07-03T00:19:10.546912Z",
     "shell.execute_reply": "2024-07-03T00:19:10.546621Z"
    }
   },
   "outputs": [],
   "source": [
    "# make eau\n",
    "eau = context[\"exhaust-air-unit\"]\n",
    "eau[\"name\"] = BLDG[\"EAU\"]\n",
    "eau[\"air-exhaust\"] = BLDG[\"EAU_AIR_EXHAUST\"]\n",
    "eau[\"return-air\"] = BLDG[\"EAU_AIR_RETURN\"]\n",
    "\n",
    "# eau junction\n",
    "eau_junction = context[\"junction\"]\n",
    "eau_junction[\"name\"] = BLDG[\"EAU_JUNCTION\"]\n",
    "\n",
    "# connect eau air return to the junction with a duct\n",
    "duct(from_=eau[\"return-air\"], to_=eau_junction[\"out1\"])\n",
    "\n",
    "ensure_space(\"biosafety-cabinet-space\", \"biosafety-cabinet\")\n",
    "\n",
    "make_exhaust_fan(\"ef4\", \"in1\", \"biosafety-cabinet-space\", \"out\")\n",
    "make_exhaust_fan(\"ef5\", \"in2\", \"biosafety-cabinet-space\", \"out2\")\n"
   ]
  },
  {
   "cell_type": "markdown",
   "id": "ba981fcf-ec9e-46bb-8e7f-85b1d93b4ff5",
   "metadata": {},
   "source": [
    "When you are done building the model, call the `compile()` method on the context to evaluate all of the templates. This will drop all optional parameters and create names for any required parameters for which you did not provide values."
   ]
  },
  {
   "cell_type": "code",
   "execution_count": 9,
   "id": "968a766e-e126-4cbd-8bad-996ab32baa25",
   "metadata": {
    "execution": {
     "iopub.execute_input": "2024-07-03T00:19:10.548735Z",
     "iopub.status.busy": "2024-07-03T00:19:10.548609Z",
     "iopub.status.idle": "2024-07-03T00:19:12.947739Z",
     "shell.execute_reply": "2024-07-03T00:19:12.947414Z"
    }
   },
   "outputs": [
    {
     "name": "stderr",
     "output_type": "stream",
     "text": [
      "/Users/gabe/src/NREL/BuildingMOTIF/buildingmotif/dataclasses/template.py:412: UserWarning: Parameters \"heating-coil, pre-filter-differential-pressure, final-filter-in-mapsto, oad-feedback, cooling-coil-return-water-temp, supply-fan-vfd-cur, heating-coil-water-in-mapsto, cooling-coil-valve-out, evaporative-cooler-in, heating-coil-supply-water-temp, evaporative-cooler-evap-cool-fill-valve-out, supply-fan-oa-flow-switch, supply-fan-vfd-flt, c7, cooling-coil-entering-air-temp, evaporative-cooler-leaving-air-humidity, MAU-HRC-water-in-mapsto, cooling-coil, heating-coil-water-out-mapsto, evaporative-cooler-evap-cool-pump-2stage-vfd-frq, sa_sp, c6, MAU-HRC-water-in, final-filter-in, MAU-HRC-air-out-mapsto, evaporative-cooler-evap-cool-pump-2stage-vfd-energy, supply-fan-vfd-spd, supply-fan-in, evaporative-cooler-evap-cool-pump-2stage, evaporative-cooler-evap-cool-pump-2stage-vfd-pwr, heating-coil-return-water-temp-sensor, evaporative-cooler-entering-air-temp, cooling-coil-leaving-air-temp, outside-air, heating-coil-valve-out-mapsto, cooling-coil-water-in, cooling-coil-pump-vfd-frq, heating-coil-air-in-mapsto, oad-in, evaporative-cooler-water-out, evaporative-cooler, cooling-coil-pump-onoff-cmd, pre-filter-out-mapsto, cooling-coil-pump-vfd-energy, evaporative-cooler-evap-cool-pump-2stage-vfd-spd, heating-coil-valve-out, c5, MAU-HRC-entering-air-temp, heating-coil-valve, supply-fan-vfd-energy, cooling-coil-pump-vfd-cur, heating-coil-return-water-temp, cooling-coil-pump-out, cooling-coil-pump-out-mapsto, supply-fan-start-cmd, evaporative-cooler-evap-cool-pump-2stage-out, cooling-coil-pump-onoff-sts, heating-coil-supply-water-temp-sensor, MAU-HRC-air-in, pre-filter-out, evaporative-cooler-evap-cool-fill-valve-out-mapsto, cooling-coil-valve, evaporative-cooler-water-out-mapsto, heating-coil-valve-command, cooling-coil-valve-out-mapsto, final-filter, oad-out, cooling-coil-pump-in, pre-filter-in, supply-fan-vfd-pwr, heating-coil-water-in, evaporative-cooler-evap-cool-pump-2stage-vfd-flt, evaporative-cooler-evap-cool-fill-valve, cooling-coil-water-out-mapsto, cooling-coil-pump-in-mapsto, MAU-HRC-leaving-air-temp, evaporative-cooler-evap-cool-pump-2stage-vfd-fb, cooling-coil-pump-vfd-flt, supply-fan-vfd-fb, MAU-HRC, c4, heating-coil-water-out, oad-out-mapsto, supply-fan-motor-status, cooling-coil-valve-command, evaporative-cooler-leaving-air-temp, evaporative-cooler-evap-cool-fill-valve-command, evaporative-cooler-evap-cool-pump-2stage-in-mapsto, pre-filter-in-mapsto, cooling-coil-air-in, air-supply-mapsto, heating-coil-valve-feedback, evaporative-cooler-evap-cool-sump-tank, oad-command, c2, heating-coil-air-in, c1, evaporative-cooler-out, final-filter-out-mapsto, cooling-coil-valve-in, cooling-coil-leaving-air-wetbulb-temp, cooling-coil-pump-vfd-pwr, MAU-HRC-water-out, heating-coil-air-out, oad, evaporative-cooler-water-in, cooling-coil-water-in-mapsto, cooling-coil-valve-feedback, evaporative-cooler-evap-cool-pump-2stage-vfd-cur, supply-fan-out, evaporative-cooler-evap-cool-pump-2stage-in, cooling-coil-valve-in-mapsto, heating-coil-valve-in-mapsto, c3, MAU-HRC-air-in-mapsto, MAU-HRC-water-out-mapsto, final-filter-out, cooling-coil-pump, evaporative-cooler-water-in-mapsto, evaporative-cooler-evap-cool-fill-valve-in-mapsto, MAU-HRC-air-out, cooling-coil-pump-vfd-volt, evaporative-cooler-evap-cool-pump-2stage-onoff-cmd, final-filter-differential-pressure, heating-coil-valve-in, outside-air-mapsto, heating-coil-air-out-mapsto, evaporative-cooler-in-mapsto, cooling-coil-pump-vfd-fb, evaporative-cooler-evap-cool-fill-valve-in, oa_rh, cooling-coil-water-out, evaporative-cooler-evap-cool-pump-2stage-onoff-sts, supply-fan-vfd-volt, pre-filter, cooling-coil-pump-vfd-spd, supply-fan-vfd-frq, MAU-HRC-supply-water-temp, evaporative-cooler-evap-cool-pump-2stage-vfd-volt, evaporative-cooler-evap-cool-fill-valve-feedback, MAU-HRC-return-water-temp, cooling-coil-supply-water-temp, supply-fan-out-mapsto, evaporative-cooler-evap-cool-pump-2stage-out-mapsto, supply-fan, supply-fan-in-mapsto, cooling-coil-air-out, sa_pressure_sensor, cooling-coil-air-out-mapsto, cooling-coil-air-in-mapsto\" were not provided during evaluation\n",
      "  warnings.warn(\n",
      "/Users/gabe/src/NREL/BuildingMOTIF/buildingmotif/dataclasses/template.py:412: UserWarning: Parameters \"rhc-valve-command, vlv-dmp-out-mapsto, rhc-air-in, rhc-supply-water-temp-sensor, rhc-water-out, c0, rhc-return-water-temp, vlv-dmp, rhc-water-in-mapsto, vlv-dmp-feedback, rhc-supply-water-temp, sup-air-pressure-sensor, sup-air-flow, rhc-valve-out, vlv-dmp-out, sup-air-temp-sensor, rhc, rhc-valve-out-mapsto, rhc-water-in, rhc-valve, rhc-valve-feedback, sup-air-temp, air-out-mapsto, rhc-air-in-mapsto, rhc-return-water-temp-sensor, rhc-water-out-mapsto, sup-air-pressure, air-in-mapsto, vlv-dmp-in, rhc-valve-in-mapsto, rhc-air-out, vlv-dmp-command, rhc-valve-in, sup-air-flow-sensor\" were not provided during evaluation\n",
      "  warnings.warn(\n",
      "/Users/gabe/src/NREL/BuildingMOTIF/buildingmotif/dataclasses/template.py:412: UserWarning: Parameters \"name\" were not provided during evaluation\n",
      "  warnings.warn(\n",
      "/Users/gabe/src/NREL/BuildingMOTIF/buildingmotif/dataclasses/template.py:412: UserWarning: Parameters \"in3-mapsto, temp-sensor, temp, out, physical-space, in2, exh-flow-sensor, sup-flow-sensor, in4, supply-air-flow, in4-mapsto, exhaust-air-flow, in2-mapsto, in-mapsto, humidity-sensor, in3, out2-mapsto, out2, out-mapsto, relative-humidity\" were not provided during evaluation\n",
      "  warnings.warn(\n",
      "/Users/gabe/src/NREL/BuildingMOTIF/buildingmotif/dataclasses/template.py:412: UserWarning: Parameters \"rhc-valve-command, vlv-dmp-out-mapsto, rhc-air-in, rhc-supply-water-temp-sensor, rhc-water-out, c0, rhc-return-water-temp, vlv-dmp, rhc-water-in-mapsto, sup-air-pressure-sensor, rhc-supply-water-temp, vlv-dmp-feedback, sup-air-flow, rhc-valve-out, vlv-dmp-out, sup-air-temp-sensor, rhc, rhc-valve-out-mapsto, sup-air-flow-sensor, rhc-water-in, rhc-valve, rhc-valve-feedback, sup-air-temp, air-out-mapsto, rhc-air-in-mapsto, rhc-return-water-temp-sensor, rhc-water-out-mapsto, air-in-mapsto, vlv-dmp-in, rhc-valve-in-mapsto, rhc-air-out, vlv-dmp-command, rhc-valve-in, sup-air-pressure\" were not provided during evaluation\n",
      "  warnings.warn(\n",
      "/Users/gabe/src/NREL/BuildingMOTIF/buildingmotif/dataclasses/template.py:412: UserWarning: Parameters \"in3-mapsto, temp-sensor, temp, out, physical-space, in2, exh-flow-sensor, sup-flow-sensor, in4, supply-air-flow, in4-mapsto, exhaust-air-flow, in2-mapsto, humidity-sensor, in-mapsto, in3, out2-mapsto, out2, out-mapsto, relative-humidity\" were not provided during evaluation\n",
      "  warnings.warn(\n",
      "/Users/gabe/src/NREL/BuildingMOTIF/buildingmotif/dataclasses/template.py:412: UserWarning: Parameters \"rhc-valve-command, vlv-dmp-out-mapsto, rhc-air-in, rhc-supply-water-temp-sensor, rhc-water-out, c0, rhc-return-water-temp, vlv-dmp, rhc-water-in-mapsto, vlv-dmp-feedback, rhc-supply-water-temp, sup-air-pressure-sensor, sup-air-flow, rhc-valve-out, vlv-dmp-out, sup-air-temp-sensor, rhc, rhc-valve-out-mapsto, sup-air-flow-sensor, rhc-water-in, rhc-valve, rhc-valve-feedback, sup-air-temp, air-out-mapsto, air-out, rhc-air-in-mapsto, rhc-return-water-temp-sensor, air-in, rhc-water-out-mapsto, air-in-mapsto, vlv-dmp-in, rhc-valve-in-mapsto, rhc-air-out, vlv-dmp-command, rhc-valve-in, sup-air-pressure\" were not provided during evaluation\n",
      "  warnings.warn(\n",
      "/Users/gabe/src/NREL/BuildingMOTIF/buildingmotif/dataclasses/template.py:412: UserWarning: Parameters \"in3-mapsto, out10-mapsto, out12, out8, in2, out11-mapsto, out13, out15, in1-mapsto, out9, in4, out14-mapsto, out1, out12-mapsto, out5, out4-mapsto, out1-mapsto, out8-mapsto, out11, out5-mapsto, out14, out13-mapsto, out3, out16-mapsto, in4-mapsto, out10, in5, out3-mapsto, out16, in2-mapsto, in3, out9-mapsto, out6-mapsto, out15-mapsto, out2-mapsto, out2, out7-mapsto, out7, out6, in5-mapsto\" were not provided during evaluation\n",
      "  warnings.warn(\n",
      "/Users/gabe/src/NREL/BuildingMOTIF/buildingmotif/dataclasses/template.py:412: UserWarning: Parameters \"in3-mapsto, temp-sensor, temp, out, physical-space, in2, exh-flow-sensor, sup-flow-sensor, in4, supply-air-flow, in4-mapsto, exhaust-air-flow, in2-mapsto, in-mapsto, humidity-sensor, in3, in, out2-mapsto, out2, out-mapsto, relative-humidity\" were not provided during evaluation\n",
      "  warnings.warn(\n",
      "/Users/gabe/src/NREL/BuildingMOTIF/buildingmotif/dataclasses/template.py:412: UserWarning: Parameters \"rhc-valve-command, vlv-dmp-out-mapsto, rhc-air-in, rhc-supply-water-temp-sensor, rhc-water-out, c0, rhc-return-water-temp, vlv-dmp, rhc-water-in-mapsto, vlv-dmp-feedback, rhc-supply-water-temp, sup-air-pressure-sensor, sup-air-flow, rhc-valve-out, vlv-dmp-out, sup-air-temp-sensor, rhc, rhc-valve-out-mapsto, rhc-water-in, rhc-valve, rhc-valve-feedback, sup-air-temp, air-out-mapsto, air-out, rhc-air-in-mapsto, rhc-return-water-temp-sensor, air-in, rhc-water-out-mapsto, sup-air-pressure, air-in-mapsto, vlv-dmp-in, rhc-valve-in-mapsto, rhc-air-out, vlv-dmp-command, rhc-valve-in, sup-air-flow-sensor\" were not provided during evaluation\n",
      "  warnings.warn(\n",
      "/Users/gabe/src/NREL/BuildingMOTIF/buildingmotif/dataclasses/template.py:412: UserWarning: Parameters \"in3-mapsto, out10-mapsto, out12, out8, in2, out11-mapsto, out13, out15, in1-mapsto, out9, in4, out14-mapsto, out1, out12-mapsto, out5, out4-mapsto, out1-mapsto, out8-mapsto, out11, out5-mapsto, out14, out13-mapsto, out3, out16-mapsto, in4-mapsto, out10, in5, out3-mapsto, out16, in2-mapsto, in3, out9-mapsto, out6-mapsto, out15-mapsto, out2-mapsto, out2, out7-mapsto, out4, out6, in5-mapsto\" were not provided during evaluation\n",
      "  warnings.warn(\n",
      "/Users/gabe/src/NREL/BuildingMOTIF/buildingmotif/dataclasses/template.py:412: UserWarning: Parameters \"cooling-coil-pump-vfd-flt, heating-coil, cooling-coil-return-water-temp, heating-coil-water-out, heating-coil-water-in-mapsto, cooling-coil-valve-command, cooling-coil-valve-out, heating-coil-supply-water-temp, cooling-coil-air-in, in-mapsto, cooling-coil-entering-air-temp, fan-vfd-pwr, heating-coil-valve-feedback, cooling-coil, heating-coil-water-out-mapsto, heating-coil-air-in, cooling-coil-valve-in, cooling-coil-leaving-air-wetbulb-temp, cooling-coil-pump-vfd-pwr, heating-coil-return-water-temp-sensor, cooling-coil-leaving-air-temp, heating-coil-air-out, fan-vfd-spd, fan-vfd-energy, fan-in-mapsto, cooling-coil-water-in-mapsto, cooling-coil-valve-feedback, heating-coil-valve-out-mapsto, cooling-coil-water-in, cooling-coil-pump-vfd-frq, heating-coil-air-in-mapsto, cooling-coil-valve-in-mapsto, heating-coil-valve-in-mapsto, cooling-coil-pump-onoff-cmd, cooling-coil-pump-vfd-energy, fan-in, zone-humidity, heating-coil-valve-out, fan-start-cmd, fan-motor-status, cooling-coil-pump, heating-coil-valve, fan-vfd-frq, fan-out, fan-vfd-flt, fan-vfd-volt, cooling-coil-pump-vfd-cur, occ-override, heating-coil-return-water-temp, cooling-coil-pump-vfd-volt, fan-out-mapsto, cooling-coil-pump-out, zone-temp, cooling-coil-pump-out-mapsto, fan-vfd-cur, heating-coil-valve-in, cooling-coil-pump-onoff-sts, fan, out-mapsto, heating-coil-supply-water-temp-sensor, heating-coil-air-out-mapsto, fan-vfd-fb, cooling-coil-pump-vfd-fb, cooling-coil-valve, heating-coil-valve-command, DA-temp, cooling-coil-valve-out-mapsto, cooling-coil-water-out, fan-oa-flow-switch, cooling-coil-pump-vfd-spd, heating-coil-water-in, cond-overflow, cooling-coil-supply-water-temp, cooling-coil-water-out-mapsto, cooling-coil-pump-in-mapsto, cooling-coil-air-out, cooling-coil-pump-in, cooling-coil-air-out-mapsto, cooling-coil-air-in-mapsto\" were not provided during evaluation\n",
      "  warnings.warn(\n"
     ]
    },
    {
     "name": "stderr",
     "output_type": "stream",
     "text": [
      "/Users/gabe/src/NREL/BuildingMOTIF/buildingmotif/dataclasses/template.py:412: UserWarning: Parameters \"cooling-coil-pump-vfd-flt, heating-coil, cooling-coil-return-water-temp, heating-coil-water-out, heating-coil-water-in-mapsto, cooling-coil-valve-command, cooling-coil-valve-out, heating-coil-supply-water-temp, cooling-coil-air-in, in-mapsto, cooling-coil-entering-air-temp, fan-vfd-pwr, heating-coil-valve-feedback, cooling-coil, heating-coil-water-out-mapsto, heating-coil-air-in, cooling-coil-valve-in, cooling-coil-leaving-air-wetbulb-temp, cooling-coil-pump-vfd-pwr, heating-coil-return-water-temp-sensor, cooling-coil-leaving-air-temp, heating-coil-air-out, fan-vfd-spd, fan-vfd-energy, fan-in-mapsto, cooling-coil-water-in-mapsto, cooling-coil-valve-feedback, heating-coil-valve-out-mapsto, cooling-coil-water-in, cooling-coil-pump-vfd-frq, heating-coil-air-in-mapsto, cooling-coil-valve-in-mapsto, heating-coil-valve-in-mapsto, cooling-coil-pump-onoff-cmd, cooling-coil-pump-vfd-energy, fan-in, zone-humidity, heating-coil-valve-out, fan-start-cmd, fan-motor-status, cooling-coil-pump, heating-coil-valve, fan-vfd-frq, fan-out, fan-vfd-flt, fan-vfd-volt, cooling-coil-pump-vfd-cur, occ-override, heating-coil-return-water-temp, cooling-coil-pump-vfd-volt, fan-out-mapsto, cooling-coil-pump-out, zone-temp, cooling-coil-pump-out-mapsto, fan-vfd-cur, heating-coil-valve-in, cooling-coil-pump-onoff-sts, out-mapsto, fan, heating-coil-supply-water-temp-sensor, heating-coil-air-out-mapsto, fan-vfd-fb, cooling-coil-pump-vfd-fb, cooling-coil-valve, heating-coil-valve-command, DA-temp, cooling-coil-valve-out-mapsto, cooling-coil-water-out, fan-oa-flow-switch, cooling-coil-pump-vfd-spd, heating-coil-water-in, cond-overflow, cooling-coil-supply-water-temp, cooling-coil-water-out-mapsto, cooling-coil-pump-in-mapsto, cooling-coil-air-out, cooling-coil-pump-in, cooling-coil-air-out-mapsto, cooling-coil-air-in-mapsto\" were not provided during evaluation\n",
      "  warnings.warn(\n",
      "/Users/gabe/src/NREL/BuildingMOTIF/buildingmotif/dataclasses/template.py:412: UserWarning: Parameters \"EAU-HRC-supply-water-temp, pre-filter-differential-pressure, final-filter-in-mapsto, exhaust-fan-low-sp-sensor, isolation-damper, EAU-HRC-entering-air-temp, evaporative-cooler-leaving-air-temp, evaporative-cooler-in, evaporative-cooler-evap-cool-fill-valve-command, evaporative-cooler-evap-cool-pump-2stage-in-mapsto, c11, exhaust-fan-vfd-pwr, c12, evaporative-cooler-evap-cool-fill-valve-out, c10, exhaust-fan-vfd-volt, isolation-damper-out, exhaust-fan-iso-dmp-out-mapsto, pre-filter-in-mapsto, EAU-HRC, exhaust-fan-iso-dmp-in-mapsto, evaporative-cooler-evap-cool-sump-tank, evaporative-cooler-leaving-air-humidity, isolation-damper-in, evaporative-cooler-evap-cool-pump-2stage-vfd-frq, evaporative-cooler-out, final-filter-out-mapsto, final-filter-in, evaporative-cooler-evap-cool-pump-2stage-vfd-energy, evaporative-cooler-out-mapsto, air-exhaust-mapsto, ea-sp, evaporative-cooler-evap-cool-pump-2stage, evaporative-cooler-evap-cool-pump-2stage-vfd-pwr, exhaust-fan-vfd-cur, c13, evaporative-cooler-entering-air-temp, exhaust-fan-low-sp, EAU-HRC-water-out-mapsto, evaporative-cooler-water-in, low-pressure-sensor, EAU-HRC-water-out, evaporative-cooler-evap-cool-pump-2stage-vfd-cur, exhaust-fan-vfd-flt, evaporative-cooler-evap-cool-pump-2stage-in, exhaust-fan-iso-dmp, low-sp, exhaust-fan-iso-dmp-command, EAU-HRC-air-in, c14, evaporative-cooler-water-out, exhaust-fan-in-mapsto, evaporative-cooler, pre-filter-out-mapsto, exhaust-fan-iso-dmp-feedback, evaporative-cooler-evap-cool-pump-2stage-vfd-spd, final-filter-out, EAU-HRC-air-in-mapsto, exhaust-fan-out, evaporative-cooler-water-in-mapsto, EAU-HRC-leaving-air-temp, exhaust-fan-iso-dmp-out, evaporative-cooler-evap-cool-fill-valve-in-mapsto, isolation-damper-out-mapsto, isolation-damper-command, exhaust-fan-vfd-energy, EAU-HRC-air-out-mapsto, evaporative-cooler-evap-cool-pump-2stage-onoff-cmd, final-filter-differential-pressure, return-air-mapsto, exhaust-fan-vfd-spd, evaporative-cooler-evap-cool-pump-2stage-out, exhaust-fan, isolation-damper-feedback, evaporative-cooler-in-mapsto, EAU-HRC-return-water-temp, evaporative-cooler-evap-cool-fill-valve-in, ea-pressure-sensor, pre-filter-out, evaporative-cooler-evap-cool-fill-valve-out-mapsto, evaporative-cooler-water-out-mapsto, exhaust-fan-vfd-fb, final-filter, evaporative-cooler-evap-cool-pump-2stage-onoff-sts, exhaust-fan-iso-dmp-in, pre-filter, exhaust-fan-motor-status, exhaust-fan-start-cmd, exhaust-fan-in, pre-filter-in, evaporative-cooler-evap-cool-pump-2stage-vfd-volt, evaporative-cooler-evap-cool-fill-valve-feedback, EAU-HRC-air-out, EAU-HRC-water-in, exhaust-fan-vfd-frq, evaporative-cooler-evap-cool-pump-2stage-vfd-flt, evaporative-cooler-evap-cool-fill-valve, isolation-damper-in-mapsto, evaporative-cooler-evap-cool-pump-2stage-out-mapsto, EAU-HRC-water-in-mapsto, evaporative-cooler-evap-cool-pump-2stage-vfd-fb\" were not provided during evaluation\n",
      "  warnings.warn(\n",
      "/Users/gabe/src/NREL/BuildingMOTIF/buildingmotif/dataclasses/template.py:412: UserWarning: Parameters \"in3-mapsto, temp-sensor, temp, physical-space, in2, exh-flow-sensor, sup-flow-sensor, in4, supply-air-flow, in4-mapsto, exhaust-air-flow, in2-mapsto, humidity-sensor, in-mapsto, in3, in, out2-mapsto, out-mapsto, relative-humidity\" were not provided during evaluation\n",
      "  warnings.warn(\n",
      "/Users/gabe/src/NREL/BuildingMOTIF/buildingmotif/dataclasses/template.py:412: UserWarning: Parameters \"low-sp-sensor, vfd-energy, vfd-flt, iso-dmp-in, start-cmd, motor-status, iso-dmp-command, vfd-fb, vfd-frq, iso-dmp-feedback, vfd-spd, vfd-pwr, iso-dmp-out, in-mapsto, vfd-cur, vfd-volt, low-sp, iso-dmp-out-mapsto, out-mapsto, iso-dmp-in-mapsto, iso-dmp\" were not provided during evaluation\n",
      "  warnings.warn(\n"
     ]
    },
    {
     "data": {
      "text/plain": [
       "<Graph identifier=9ddf77ac-2f1b-4305-b75b-9805c005e9a9 (<class 'rdflib.graph.Graph'>)>"
      ]
     },
     "execution_count": 9,
     "metadata": {},
     "output_type": "execute_result"
    }
   ],
   "source": [
    "bldg.add_graph(context.compile())\n",
    "bldg.graph.serialize(\"test.ttl\", format=\"turtle\")"
   ]
  },
  {
   "cell_type": "code",
   "execution_count": 10,
   "id": "d61db6a4-a5bd-4422-b7ef-545c89db0bb9",
   "metadata": {
    "execution": {
     "iopub.execute_input": "2024-07-03T00:19:12.949680Z",
     "iopub.status.busy": "2024-07-03T00:19:12.949538Z",
     "iopub.status.idle": "2024-07-03T00:20:00.177655Z",
     "shell.execute_reply": "2024-07-03T00:20:00.177158Z"
    }
   },
   "outputs": [
    {
     "name": "stderr",
     "output_type": "stream",
     "text": [
      "2024-07-02 18:19:14,965 | buildingmotif.dataclasses.shape_collection |  WARNING: Could not resolve import of http://qudt.org/2.1/vocab/constant from Libraries (No row was found when one was required). Trying shape collections\n"
     ]
    },
    {
     "name": "stderr",
     "output_type": "stream",
     "text": [
      "2024-07-02 18:19:14,969 | buildingmotif.dataclasses.shape_collection |  WARNING: Could not resolve import of http://qudt.org/2.1/vocab/constant from Libraries. Trying shape collections\n"
     ]
    },
    {
     "name": "stderr",
     "output_type": "stream",
     "text": [
      "2024-07-02 18:19:14,970 | buildingmotif.dataclasses.shape_collection |  WARNING: Could not resolve import of http://data.ashrae.org/standard223/1.0/model/core from Libraries (No row was found when one was required). Trying shape collections\n"
     ]
    },
    {
     "name": "stderr",
     "output_type": "stream",
     "text": [
      "2024-07-02 18:19:14,973 | buildingmotif.dataclasses.shape_collection |  WARNING: Could not resolve import of http://data.ashrae.org/standard223/1.0/model/core from Libraries. Trying shape collections\n"
     ]
    },
    {
     "name": "stderr",
     "output_type": "stream",
     "text": [
      "2024-07-02 18:19:14,973 | buildingmotif.dataclasses.shape_collection |  WARNING: Could not resolve import of http://data.ashrae.org/standard223/1.0/vocab/enumeration from Libraries (No row was found when one was required). Trying shape collections\n"
     ]
    },
    {
     "name": "stderr",
     "output_type": "stream",
     "text": [
      "2024-07-02 18:19:14,978 | buildingmotif.dataclasses.shape_collection |  WARNING: Could not resolve import of http://data.ashrae.org/standard223/1.0/vocab/enumeration from Libraries. Trying shape collections\n"
     ]
    },
    {
     "name": "stderr",
     "output_type": "stream",
     "text": [
      "2024-07-02 18:19:14,978 | buildingmotif.dataclasses.shape_collection |  WARNING: Could not resolve import of http://www.w3.org/ns/shacl# from Libraries (No row was found when one was required). Trying shape collections\n"
     ]
    },
    {
     "name": "stderr",
     "output_type": "stream",
     "text": [
      "2024-07-02 18:19:14,982 | buildingmotif.dataclasses.shape_collection |  WARNING: Could not resolve import of http://www.w3.org/ns/shacl# from Libraries. Trying shape collections\n"
     ]
    },
    {
     "name": "stderr",
     "output_type": "stream",
     "text": [
      "2024-07-02 18:19:14,982 | buildingmotif.dataclasses.shape_collection |  WARNING: Could not resolve import of http://data.ashrae.org/standard223/1.0/extensions/settings from Libraries (No row was found when one was required). Trying shape collections\n"
     ]
    },
    {
     "name": "stderr",
     "output_type": "stream",
     "text": [
      "2024-07-02 18:19:14,985 | buildingmotif.dataclasses.shape_collection |  WARNING: Could not resolve import of http://data.ashrae.org/standard223/1.0/extensions/settings from Libraries. Trying shape collections\n"
     ]
    },
    {
     "name": "stderr",
     "output_type": "stream",
     "text": [
      "2024-07-02 18:19:14,986 | buildingmotif.dataclasses.shape_collection |  WARNING: Could not resolve import of http://qudt.org/2.1/vocab/currency from Libraries (No row was found when one was required). Trying shape collections\n"
     ]
    },
    {
     "name": "stderr",
     "output_type": "stream",
     "text": [
      "2024-07-02 18:19:14,989 | buildingmotif.dataclasses.shape_collection |  WARNING: Could not resolve import of http://qudt.org/2.1/vocab/currency from Libraries. Trying shape collections\n"
     ]
    },
    {
     "name": "stderr",
     "output_type": "stream",
     "text": [
      "2024-07-02 18:19:14,989 | buildingmotif.dataclasses.shape_collection |  WARNING: Could not resolve import of http://qudt.org/2.1/vocab/unit from Libraries (No row was found when one was required). Trying shape collections\n"
     ]
    },
    {
     "name": "stderr",
     "output_type": "stream",
     "text": [
      "2024-07-02 18:19:14,992 | buildingmotif.dataclasses.shape_collection |  WARNING: Could not resolve import of http://qudt.org/2.1/vocab/unit from Libraries. Trying shape collections\n"
     ]
    },
    {
     "name": "stderr",
     "output_type": "stream",
     "text": [
      "2024-07-02 18:19:14,993 | buildingmotif.dataclasses.shape_collection |  WARNING: Could not resolve import of http://data.ashrae.org/standard223/1.0/model/equipment from Libraries (No row was found when one was required). Trying shape collections\n"
     ]
    },
    {
     "name": "stderr",
     "output_type": "stream",
     "text": [
      "2024-07-02 18:19:14,996 | buildingmotif.dataclasses.shape_collection |  WARNING: Could not resolve import of http://data.ashrae.org/standard223/1.0/model/equipment from Libraries. Trying shape collections\n"
     ]
    }
   ],
   "source": [
    "res = bldg.validate([s223.get_shape_collection()], error_on_missing_imports=False)"
   ]
  },
  {
   "cell_type": "code",
   "execution_count": 11,
   "id": "7cd8fef6-0a3b-4b58-a6b3-d430c02306b7",
   "metadata": {
    "execution": {
     "iopub.execute_input": "2024-07-03T00:20:00.180260Z",
     "iopub.status.busy": "2024-07-03T00:20:00.179834Z",
     "iopub.status.idle": "2024-07-03T00:20:00.182795Z",
     "shell.execute_reply": "2024-07-03T00:20:00.182450Z"
    }
   },
   "outputs": [
    {
     "name": "stdout",
     "output_type": "stream",
     "text": [
      "2234\n",
      "Valid? True\n"
     ]
    }
   ],
   "source": [
    "# print(res.report_string)\n",
    "print(len(res.report))\n",
    "print(f\"Valid? {res.valid}\")"
   ]
  },
  {
   "cell_type": "code",
   "execution_count": 12,
   "id": "c73d9b7c-4ea5-47b2-876a-b735af9b59be",
   "metadata": {
    "execution": {
     "iopub.execute_input": "2024-07-03T00:20:00.184671Z",
     "iopub.status.busy": "2024-07-03T00:20:00.184530Z",
     "iopub.status.idle": "2024-07-03T00:20:01.383259Z",
     "shell.execute_reply": "2024-07-03T00:20:01.382810Z"
    }
   },
   "outputs": [],
   "source": [
    "for key, diffs in res.diffset.items():\n",
    "    print(key)\n",
    "    for d in diffs:\n",
    "        print(d.reason())"
   ]
  },
  {
   "cell_type": "code",
   "execution_count": null,
   "id": "db7f6a61-dc44-4abd-9b49-8e8eb5c1f3a7",
   "metadata": {},
   "outputs": [],
   "source": []
  }
 ],
 "metadata": {
  "kernelspec": {
   "display_name": "Python 3 (ipykernel)",
   "language": "python",
   "name": "python3"
  },
  "language_info": {
   "codemirror_mode": {
    "name": "ipython",
    "version": 3
   },
   "file_extension": ".py",
   "mimetype": "text/x-python",
   "name": "python",
   "nbconvert_exporter": "python",
   "pygments_lexer": "ipython3",
   "version": "3.11.9"
  }
 },
 "nbformat": 4,
 "nbformat_minor": 5
}
