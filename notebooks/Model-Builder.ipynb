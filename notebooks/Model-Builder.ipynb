{
 "cells": [
  {
   "cell_type": "code",
   "execution_count": 1,
   "id": "63d55da5-9dd9-484b-8c88-e15a1a963379",
   "metadata": {},
   "outputs": [],
   "source": [
    "from buildingmotif import BuildingMOTIF\n",
    "from buildingmotif.dataclasses import Library, Model, Template\n",
    "from buildingmotif.namespaces import bind_prefixes, OWL, RDFS, RDF, S223\n",
    "from buildingmotif.model_builder import TemplateBuilderContext\n",
    "from rdflib import Namespace, URIRef, Literal, Graph, BNode\n",
    "import glob\n",
    "from typing import List"
   ]
  },
  {
   "cell_type": "code",
   "execution_count": 2,
   "id": "44e45fbe-ea1d-44a8-8b8d-7d58deb8890d",
   "metadata": {},
   "outputs": [],
   "source": [
    "# setup our buildingmotif instance\n",
    "bm = BuildingMOTIF(\"sqlite://\", shacl_engine='topquadrant')\n",
    "\n",
    "# create the model w/ a namespace\n",
    "BLDG = Namespace(\"urn:nrel_example/\")\n",
    "bldg = Model.create(BLDG)\n",
    "\n",
    "# enable pretty-printing of URLs for Building entities\n",
    "bind_prefixes(bldg.graph)\n",
    "bldg.graph.bind(\"bldg\", BLDG)"
   ]
  },
  {
   "cell_type": "code",
   "execution_count": 3,
   "id": "8d290a5e-7f80-4d6d-8988-da2725cea60e",
   "metadata": {
    "scrolled": true
   },
   "outputs": [],
   "source": [
    "# load the S223 library\n",
    "s223 = Library.load(ontology_graph=r\"../libraries/ashrae/223p/ontology/223p.ttl\")"
   ]
  },
  {
   "cell_type": "markdown",
   "id": "1509a8d4-a8b3-4209-aadc-7cccd650c843",
   "metadata": {},
   "source": [
    "To use the Model Builder interface, we must first create a Context and load some templates into it. The Context keeps track of the parameters and dependencies of the templates. This reduces the amount of bookkeeping required in the user application."
   ]
  },
  {
   "cell_type": "code",
   "execution_count": 4,
   "id": "489deb1f-1ce9-4195-babd-6e6d03aad8ac",
   "metadata": {},
   "outputs": [],
   "source": [
    "# load in the NREL template library\n",
    "nrel_lib = Library.load(directory=\"../libraries/ashrae/223p/nrel-templates/\")\n",
    "# create a context for our template builder\n",
    "context = TemplateBuilderContext(BLDG)\n",
    "context.add_templates_from_library(nrel_lib)"
   ]
  },
  {
   "cell_type": "markdown",
   "id": "0340d593-b77d-4dd1-b1a2-4058bbcf0ef8",
   "metadata": {},
   "source": [
    "Here is what basic use of the Model Builder looks like. First, create an \"empty\" instance of a template by indexing into the context object.\n",
    "\n",
    "```python\n",
    "mau = context[\"makeup-air-unit\"]\n",
    "```\n",
    "\n",
    "Here, `mau` is a copy of the \"makeup-air-unit\" template from the NREL 223P library. We can see its parameters like this:\n",
    "\n",
    "```python\n",
    "print(mau.parameters)\n",
    "```\n",
    "\n",
    "We bind to parameters by indexing into the template copy.\n",
    "\n",
    "```python\n",
    "mau[\"name\"] = BLDG[\"MAU1\"] \n",
    "mau[\"air-supply\"] = BLDG[\"MAU1_AIR_SUPPLY\"]\n",
    "```\n",
    "\n",
    "or, more conveniently, by using the template as a constructor\n",
    "\n",
    "```python\n",
    "params = {\"name\": BLDG[\"MAU1\"], \"air-supply\": BLDG[\"MAU1_AIR_SUPPLY\"]}\n",
    "mau(**params) # unpacking the arg names from a dictionary because of the dash in 'air-supply'\n",
    "```\n",
    "\n",
    "We have bound 2 parameters (`name` and `air-supply`) to 2 values in the BLDG namespace; essentially, we have given these parameters *names* given by URIs. Agove, the name of the makeup air unit is `urn:nrel_example/MAU1`.\n",
    "\n",
    "Here, we create a new instance of the \"junction\" template and give it a name\n",
    "\n",
    "```python\n",
    "junction = context[\"junction\"](name = \"MAU_SUPPLY_JUNCTION\")\n",
    "```\n",
    "\n",
    "Note that we didn't wrap the name in a namespace (e.g. `BLDG[\"MAU_SUPPLY_JUNCTION\"]`). Model Builder knows what the default namespace is (it is passed into the Context constructor), so strings assigned to parameters will be turned automatically into IRIs. To assign a Literal value to a parameter, make sure the right-hand side of the assignment is an `rdflib.Literal` object.\n",
    "\n",
    "---\n",
    "\n",
    "Next, we want to connect a Duct from the air supply of the MAU to one of the inlets of the junction. One way we could do this is by just assigning our chosen entities to the Duct template's parameters. However, we have two problems.\n",
    "\n",
    "First, it may be difficult to remember or keep track of which names one wants to re-use. Especially as models get more complicated, having to keep track of the values bound to parameters can require significant bookkeeping.\n",
    "\n",
    "Second, our junction's connection point doesn't have a name yet. We would like to avoid inventing a name for the connection point purely to refer to later, especially since the names of connection points rarely need to be significant.\n",
    "\n",
    "To address these issues, the Model Builder allows parameters to be bound by reference rather than by value.\n",
    "\n",
    "```python\n",
    "# duct to connect mau air suply to junction in1\n",
    "duct = context[\"duct\"]\n",
    "duct[\"name\"] = \"mau_air_supply_duct\"\n",
    "duct[\"a\"] = mau[\"air-supply\"]\n",
    "duct[\"b\"] = junction[\"in1\"]\n",
    "```\n",
    "\n",
    "`duct[\"a\"] = mau[\"air-supply\"]` assigns a parameter (`duct[\"a\"]`) to the same value that `mau[\"air-supply\"]` is bound to. This behavior is triggered when the **right-hand side of an assignment is a parameter which has already been bound**.\n",
    "\n",
    "`duct[\"b\"] = junction[\"in1\"]` binds the two parameters together. If one is bound to a value, the other will automatically be bound to that value too. If neither are bound to specific values, then the Context will create a unique name for them to share. This behavior is triggered when the **right-hand side of an assignment is an unbound parameter**."
   ]
  },
  {
   "cell_type": "code",
   "execution_count": 5,
   "id": "ab4f259d-14b1-4984-99ca-52b1472e04f2",
   "metadata": {},
   "outputs": [],
   "source": [
    "# create a template instance\n",
    "mau = context[\"makeup-air-unit\"]\n",
    "mau[\"name\"] = BLDG[\"MAU\"]\n",
    "mau[\"air-supply\"] = BLDG[\"MAU_AIR_SUPPLY\"]\n",
    "\n",
    "junction = context[\"junction\"](name=\"MAU_SUPPLY_JUNCTION\")\n",
    "\n",
    "# duct to connect mau air suply to junction in1\n",
    "duct = context[\"duct\"](name=\"mau_air_supply_duct\", a=mau[\"air-supply\"], b=junction[\"in1\"])"
   ]
  },
  {
   "cell_type": "markdown",
   "id": "725a7769-f703-4143-ab55-b416b6edc273",
   "metadata": {},
   "source": [
    "Below are some helper methods for some common tasks: constructing spaces and attaching them to HVAC zones, various equipment constructors, etc. For some ontologies, like 223P, it can be helpful to have these kinds of \"constructor\" methods which take care of connecting the desired components together."
   ]
  },
  {
   "cell_type": "code",
   "execution_count": 6,
   "id": "7243bb7c-8761-4228-ad53-74fba893005c",
   "metadata": {},
   "outputs": [],
   "source": [
    "# space cache\n",
    "spaces = {}\n",
    "\n",
    "# helper functions for building the model\n",
    "def duct(from_=None, to_=None):\n",
    "    return context[\"duct\"](a=from_, b=to_)\n",
    "    \n",
    "def ensure_space(space_name, zone):\n",
    "    if space_name not in spaces:\n",
    "        space = context[\"hvac-space\"](name=space_name)\n",
    "        spaces[space_name] = space\n",
    "\n",
    "        link = context[\"hvac-zone-contains-space\"](name=zone)\n",
    "        link[\"domain-space\"] = space_name\n",
    "    return spaces[space_name]\n",
    "\n",
    "def make_lab_vav(vav_name: str, space_name: str, zone: str, junction_cp: str, vav_template_name: str):\n",
    "    vav = context[vav_template_name]\n",
    "    vav[\"name\"] = vav_name\n",
    "\n",
    "    # connect vav['air-in'] to the junction with a duct\n",
    "    duct(from_=junction[junction_cp], to_=vav[\"air-in\"])\n",
    "\n",
    "    ensure_space(space_name, zone)\n",
    "\n",
    "    # connect vav['air-out'] to the space through a duct\n",
    "    duct(from_=vav[\"air-out\"], to_=spaces[space_name][\"in\"])\n",
    "\n",
    "\n",
    "\n",
    "def make_fcu(fcu_name: str, space_name: str, zone: str, junction_cp: str):\n",
    "    fcu = context[\"fcu\"]\n",
    "    fcu[\"name\"] = fcu_name\n",
    "\n",
    "    # connect fcu 'in' to the junction with a duct\n",
    "    duct(from_=junction[junction_cp], to_=fcu[\"in\"])\n",
    "\n",
    "    # create the space if it doesn't exist\n",
    "    ensure_space(space_name, zone)\n",
    "\n",
    "    # connect fcu 'out' to the space through a duct\n",
    "    duct(from_=fcu[\"out\"], to_=spaces[space_name][\"in\"])\n",
    "\n",
    "\n",
    "def make_multiple_vavs(vav_names: List[str], space_name: str, zone: str, junction_cp: str, vav_template_name: str, space_cps: List[str]):\n",
    "    vavs = []\n",
    "    for vav_name in vav_names:\n",
    "        vav = context[vav_template_name]\n",
    "        vav[\"name\"] = vav_name\n",
    "        vavs.append(vav)\n",
    "\n",
    "    # make an upstream junction for the VAVs\n",
    "    junction = context[\"junction\"]\n",
    "    junction[\"name\"] = f\"{space_name}_junction\"\n",
    "    # create a duct connecting junction_cp to the junction's in1\n",
    "    duct(from_=junction[junction_cp], to_=junction[\"in1\"])\n",
    "\n",
    "    # create the space if it doesn't exist, add it to the space cache, and connect it to the zone\n",
    "    # make sure to create teh connection points from space_cps\n",
    "    ensure_space(space_name, zone)\n",
    "\n",
    "    # for each space_cp associate it with the space using hasConnectionPoint\n",
    "    for space_cp in space_cps:\n",
    "        cp = context[\"air-inlet-cp\"]\n",
    "        cp[\"name\"] = space_cp\n",
    "        spaces[space_name].template.body.add((spaces[space_name][\"name\"], S223.hasConnectionPoint, cp[\"name\"]))\n",
    "\n",
    "def make_multiple_fcus(fcu_names: List[str], space_name: str, zone: str, junction_cp: str, space_cps: List[str]):\n",
    "    fcus = []\n",
    "    for fcu_name in fcu_names:\n",
    "        fcu = context['fcu']\n",
    "        fcu[\"name\"] = fcu_name\n",
    "        fcus.append(fcu)\n",
    "\n",
    "    # make an upstream junction for the VAVs\n",
    "    junction = context[\"junction\"]\n",
    "    junction[\"name\"] = f\"{space_name}_junction\"\n",
    "    # create a duct connecting junction_cp to the junction's in1\n",
    "    duct(from_=junction[junction_cp], to_=junction[\"in1\"])\n",
    "\n",
    "    # create the space if it doesn't exist, add it to the space cache, and connect it to the zone\n",
    "    # make sure to create teh connection points from space_cps\n",
    "    ensure_space(space_name, zone)\n",
    "\n",
    "    # for each space_cp associate it with the space using hasConnectionPoint\n",
    "    for space_cp in space_cps:\n",
    "        cp = context[\"air-inlet-cp\"]\n",
    "        cp[\"name\"] = space_cp\n",
    "        spaces[space_name].template.body.add((spaces[space_name][\"name\"], S223.hasConnectionPoint, cp[\"name\"]))\n",
    "\n",
    "\n",
    "    # for each vav, connect the junction's outX to the vav's air-in with a duct\n",
    "    # where X is the index of the vav in vav_names\n",
    "    for i, fcu in enumerate(fcus):\n",
    "        duct(from_=junction[f\"out{i + 1}\"], to_=fcu[\"in\"])\n",
    "\n",
    "    # for each vav, connect the vav's air-out to the space's respective 'inlet' inside space_cps\n",
    "    for i, fcu in enumerate(fcus):\n",
    "        duct(from_=fcu[\"out\"], to_=space_cps[i])\n",
    "\n",
    "def make_exhaust_fan(name: str, junction_cp: str, space_name: str, space_cp: str):\n",
    "    ef = context[\"exhaust-fan\"]\n",
    "    ef[\"name\"] = name\n",
    "    # ef 'out' connects to the junction inlet via a duct\n",
    "    duct(from_=ef[\"out\"], to_=eau_junction[junction_cp])\n",
    "    # ef 'in' connects from the space via a duct\n",
    "    duct(from_=spaces[space_name][space_cp], to_=ef[\"in\"])\n"
   ]
  },
  {
   "cell_type": "code",
   "execution_count": 7,
   "id": "15535ce4-ef86-40c2-bf96-d51123568914",
   "metadata": {},
   "outputs": [],
   "source": [
    "# call our constructors to create the equipment, zones, and rooms\n",
    "\n",
    "make_lab_vav(\"VAV-103\", \"science-lab1\", \"science-lab\", \"out1\", \"lab-vav-reheat\")\n",
    "make_lab_vav(\"VAV-104\", \"science-lab2\", \"science-lab\", \"out2\", \"lab-vav-reheat\")\n",
    "make_lab_vav(\"VAV-101\", \"rm101\", \"common-space\", \"out5\", \"lab-vav-reheat\")\n",
    "make_lab_vav(\"VAV-107\", \"bathrms\", \"common-space\", \"out6\", \"lab-vav-reheat\")\n",
    "make_lab_vav(\"VAV-123\", \"science-lab3\", \"science-lab\", \"out3\", \"lab-vav-reheat\")\n",
    "\n",
    "make_multiple_vavs([\"VAV-122a\", \"VAV-122b\"], \"science-lab4\", \"science-lab\", \"out4\", \"lab-vav-reheat\", [\"in1\", \"in2\"])\n",
    "make_multiple_vavs([\"VAV-125a\", \"VAV-125b\"], \"corridor\", \"common-space\", \"out7\", \"lab-vav-reheat\", [\"corridor-in1\", \"corridor-in2\"])\n",
    "\n",
    "make_fcu(\"fcu109\", \"electricalRoom\", \"common-space\", \"out9\")\n",
    "make_fcu(\"fcu110\", \"ITRoom\", \"common-space\", \"out10\")\n",
    "make_fcu(\"fcu111\", \"office1\", \"common-space\", \"out11\")\n",
    "make_fcu(\"fcu118\", \"office2\", \"common-space\", \"out12\")\n",
    "make_fcu(\"fcu119\", \"conferenceRoom1\", \"common-space\", \"out13\")\n",
    "make_fcu(\"fcu120\", \"conferenceRoom2\", \"common-space\", \"out14\")\n",
    "make_fcu(\"fcuRO1\", \"MechanicalRoom\", \"common-space\", \"out15\")\n",
    "\n",
    "make_multiple_fcus(['fcu125a', 'fcu125b'], 'corridor', 'common-space', 'out16', ['corridor-in3', 'corridor-in4'])"
   ]
  },
  {
   "cell_type": "code",
   "execution_count": 9,
   "id": "96d89f65-ec9e-439c-8740-eacfce6c27e0",
   "metadata": {},
   "outputs": [],
   "source": [
    "# make eau\n",
    "eau = context[\"exhaust-air-unit\"]\n",
    "eau[\"name\"] = BLDG[\"EAU\"]\n",
    "eau[\"air-exhaust\"] = BLDG[\"EAU_AIR_EXHAUST\"]\n",
    "eau[\"return-air\"] = BLDG[\"EAU_AIR_RETURN\"]\n",
    "\n",
    "# eau junction\n",
    "eau_junction = context[\"junction\"]\n",
    "eau_junction[\"name\"] = BLDG[\"EAU_JUNCTION\"]\n",
    "\n",
    "# connect eau air return to the junction with a duct\n",
    "duct(from_=eau[\"return-air\"], to_=eau_junction[\"out1\"])\n",
    "\n",
    "ensure_space(\"biosafety-cabinet-space\", \"biosafety-cabinet\")\n",
    "\n",
    "make_exhaust_fan(\"ef4\", \"in1\", \"biosafety-cabinet-space\", \"out\")\n",
    "make_exhaust_fan(\"ef5\", \"in2\", \"biosafety-cabinet-space\", \"out2\")\n"
   ]
  },
  {
   "cell_type": "markdown",
   "id": "ba981fcf-ec9e-46bb-8e7f-85b1d93b4ff5",
   "metadata": {},
   "source": [
    "When you are done building the model, call the `compile()` method on the context to evaluate all of the templates. This will drop all optional parameters and create names for any required parameters for which you did not provide values."
   ]
  },
  {
   "cell_type": "code",
   "execution_count": 10,
   "id": "968a766e-e126-4cbd-8bad-996ab32baa25",
   "metadata": {
    "scrolled": true
   },
   "outputs": [
    {
     "name": "stderr",
     "output_type": "stream",
     "text": [
      "/Users/gabe/src/NREL/scratch/BuildingMOTIF/buildingmotif/dataclasses/template.py:390: UserWarning: Parameters \"pre-filter, MAU-HRC-air-out-mapsto, MAU-HRC-supply-water-temp, final-filter-in-mapsto, cooling-coil-valve-command, MAU-HRC-air-in, oad-feedback, heating-coil-supply-water-temp, cooling-coil-water-in-mapsto, final-filter, air-supply-mapsto, final-filter-differential-pressure, outside-air, pre-filter-in, supply-fan-vfd-energy, cooling-coil-pump-in, final-filter-in, oa_rh, outside-air-mapsto, supply-fan-oa-flow-switch, oad, heating-coil-valve-feedback, cooling-coil-air-out, pre-filter-out-mapsto, oad-out-mapsto, supply-fan-vfd-pwr, c3, evaporative-cooler-evap-cool-pump-2stage, pre-filter-differential-pressure, MAU-HRC-air-out, MAU-HRC-return-water-temp, heating-coil-return-water-temp-sensor, evaporative-cooler-evap-cool-pump-2stage-vfd-energy, evaporative-cooler-evap-cool-fill-valve, evaporative-cooler-evap-cool-pump-2stage-onoff-cmd, supply-fan-motor-status, cooling-coil-valve-feedback, MAU-HRC-water-in-mapsto, MAU-HRC-water-out-mapsto, supply-fan-start-cmd, pre-filter-out, cooling-coil-pump-vfd-frq, c6, cooling-coil-pump-vfd-flt, cooling-coil-valve-out-mapsto, supply-fan, cooling-coil-air-out-mapsto, MAU-HRC-entering-air-temp, MAU-HRC-air-in-mapsto, c4, evaporative-cooler-evap-cool-pump-2stage-vfd-fb, evaporative-cooler-evap-cool-pump-2stage-out, heating-coil-air-out-mapsto, supply-fan-in, evaporative-cooler-in-mapsto, evaporative-cooler-evap-cool-sump-tank, oad-out, heating-coil-air-out, cooling-coil-leaving-air-temp, supply-fan-vfd-flt, evaporative-cooler-evap-cool-fill-valve-in-mapsto, cooling-coil-water-in, final-filter-out, cooling-coil-air-in, evaporative-cooler-entering-air-temp, supply-fan-vfd-fb, heating-coil-air-in-mapsto, cooling-coil-pump-vfd-fb, supply-fan-vfd-frq, evaporative-cooler-evap-cool-pump-2stage-vfd-frq, cooling-coil-valve-in-mapsto, cooling-coil-valve, heating-coil-valve, heating-coil-valve-out, cooling-coil-pump-vfd-spd, cooling-coil-pump-vfd-energy, supply-fan-out, evaporative-cooler-out, evaporative-cooler-evap-cool-pump-2stage-in, heating-coil-valve-command, sa_pressure_sensor, supply-fan-vfd-spd, evaporative-cooler-evap-cool-fill-valve-command, evaporative-cooler-evap-cool-fill-valve-out, cooling-coil-water-out, cooling-coil-valve-in, heating-coil-water-out-mapsto, evaporative-cooler-evap-cool-pump-2stage-out-mapsto, cooling-coil-pump-in-mapsto, evaporative-cooler-evap-cool-pump-2stage-vfd-pwr, evaporative-cooler-water-out, heating-coil-valve-in-mapsto, oad-in, cooling-coil-pump-onoff-cmd, supply-fan-vfd-cur, evaporative-cooler-evap-cool-fill-valve-in, supply-fan-vfd-volt, cooling-coil-water-out-mapsto, evaporative-cooler-evap-cool-fill-valve-feedback, c5, evaporative-cooler-water-in, cooling-coil-pump, cooling-coil-valve-out, evaporative-cooler-water-out-mapsto, supply-fan-out-mapsto, oad-command, cooling-coil-leaving-air-wetbulb-temp, c1, evaporative-cooler-evap-cool-pump-2stage-vfd-flt, heating-coil-return-water-temp, evaporative-cooler-in, cooling-coil-pump-vfd-cur, evaporative-cooler-evap-cool-fill-valve-out-mapsto, heating-coil-supply-water-temp-sensor, evaporative-cooler-evap-cool-pump-2stage-vfd-cur, evaporative-cooler-water-in-mapsto, evaporative-cooler-leaving-air-humidity, cooling-coil-pump-vfd-pwr, heating-coil-water-in-mapsto, final-filter-out-mapsto, sa_sp, evaporative-cooler-leaving-air-temp, cooling-coil-pump-onoff-sts, cooling-coil-pump-out-mapsto, heating-coil-air-in, MAU-HRC-water-out, heating-coil, evaporative-cooler, cooling-coil-return-water-temp, heating-coil-water-in, heating-coil-water-out, c2, heating-coil-valve-out-mapsto, supply-fan-in-mapsto, pre-filter-in-mapsto, evaporative-cooler-evap-cool-pump-2stage-in-mapsto, cooling-coil-pump-out, MAU-HRC-water-in, heating-coil-valve-in, evaporative-cooler-evap-cool-pump-2stage-onoff-sts, c7, cooling-coil-entering-air-temp, cooling-coil, evaporative-cooler-evap-cool-pump-2stage-vfd-spd, evaporative-cooler-evap-cool-pump-2stage-vfd-volt, MAU-HRC, cooling-coil-air-in-mapsto, cooling-coil-pump-vfd-volt, MAU-HRC-leaving-air-temp, cooling-coil-supply-water-temp\" were not provided during evaluation\n",
      "  warnings.warn(\n",
      "/Users/gabe/src/NREL/scratch/BuildingMOTIF/buildingmotif/dataclasses/template.py:390: UserWarning: Parameters \"rhc-valve-command, rhc-air-out, sup-air-flow-sensor, air-out-mapsto, c0, rhc-water-out, rhc-air-in, rhc-valve-in, rhc-return-water-temp-sensor, rhc-water-out-mapsto, vlv-dmp-in, rhc, rhc-air-in-mapsto, rhc-valve-in-mapsto, sup-air-temp-sensor, rhc-water-in-mapsto, vlv-dmp-out, rhc-water-in, air-in-mapsto, sup-air-temp, sup-air-pressure, rhc-valve-out, vlv-dmp-command, rhc-supply-water-temp, rhc-return-water-temp, vlv-dmp-out-mapsto, vlv-dmp, rhc-valve-out-mapsto, rhc-valve, vlv-dmp-feedback, sup-air-pressure-sensor, rhc-valve-feedback, rhc-supply-water-temp-sensor, sup-air-flow\" were not provided during evaluation\n",
      "  warnings.warn(\n",
      "/Users/gabe/src/NREL/scratch/BuildingMOTIF/buildingmotif/dataclasses/template.py:390: UserWarning: Parameters \"name\" were not provided during evaluation\n",
      "  warnings.warn(\n",
      "/Users/gabe/src/NREL/scratch/BuildingMOTIF/buildingmotif/dataclasses/template.py:390: UserWarning: Parameters \"physical-space, relative-humidity, out2-mapsto, in3-mapsto, humidity-sensor, exh-flow-sensor, out-mapsto, out2, temp, in2, exhaust-air-flow, in-mapsto, in3, sup-flow-sensor, in4, temp-sensor, in2-mapsto, out, supply-air-flow, in4-mapsto\" were not provided during evaluation\n",
      "  warnings.warn(\n",
      "/Users/gabe/src/NREL/scratch/BuildingMOTIF/buildingmotif/dataclasses/template.py:390: UserWarning: Parameters \"physical-space, relative-humidity, out2-mapsto, in3-mapsto, humidity-sensor, exh-flow-sensor, out-mapsto, out2, temp, in2, exhaust-air-flow, in-mapsto, in3, sup-flow-sensor, temp-sensor, in4, in2-mapsto, out, supply-air-flow, in4-mapsto\" were not provided during evaluation\n",
      "  warnings.warn(\n",
      "/Users/gabe/src/NREL/scratch/BuildingMOTIF/buildingmotif/dataclasses/template.py:390: UserWarning: Parameters \"rhc-valve-command, rhc-air-out, sup-air-flow-sensor, air-out-mapsto, c0, rhc-water-out, rhc-air-in, rhc-valve-in, rhc-return-water-temp-sensor, rhc-water-out-mapsto, vlv-dmp-in, rhc, rhc-air-in-mapsto, rhc-valve-in-mapsto, sup-air-temp-sensor, rhc-water-in-mapsto, vlv-dmp-out, rhc-water-in, air-in-mapsto, sup-air-temp, sup-air-pressure, rhc-valve-out, vlv-dmp-command, rhc-supply-water-temp, rhc-return-water-temp, vlv-dmp-out-mapsto, air-in, vlv-dmp, air-out, rhc-valve-out-mapsto, rhc-valve, vlv-dmp-feedback, sup-air-pressure-sensor, rhc-valve-feedback, rhc-supply-water-temp-sensor, sup-air-flow\" were not provided during evaluation\n",
      "  warnings.warn(\n",
      "/Users/gabe/src/NREL/scratch/BuildingMOTIF/buildingmotif/dataclasses/template.py:390: UserWarning: Parameters \"out6-mapsto, in5-mapsto, out15-mapsto, out1-mapsto, out11, out16, out12, out14-mapsto, in2, out16-mapsto, in5, out13-mapsto, in3, in4, out10-mapsto, in2-mapsto, out8, out5-mapsto, out3, out7-mapsto, out4-mapsto, in4-mapsto, out9, out3-mapsto, out2-mapsto, out11-mapsto, in3-mapsto, out8-mapsto, out13, out5, out2, in1-mapsto, out10, out1, out14, out7, out12-mapsto, out9-mapsto, out15, out6\" were not provided during evaluation\n",
      "  warnings.warn(\n",
      "/Users/gabe/src/NREL/scratch/BuildingMOTIF/buildingmotif/dataclasses/template.py:390: UserWarning: Parameters \"physical-space, in, relative-humidity, out2-mapsto, in3-mapsto, humidity-sensor, exh-flow-sensor, out-mapsto, out2, temp, in2, exhaust-air-flow, in-mapsto, in3, sup-flow-sensor, temp-sensor, in4, in2-mapsto, out, supply-air-flow, in4-mapsto\" were not provided during evaluation\n",
      "  warnings.warn(\n",
      "/Users/gabe/src/NREL/scratch/BuildingMOTIF/buildingmotif/dataclasses/template.py:390: UserWarning: Parameters \"out6-mapsto, in5-mapsto, out15-mapsto, out1-mapsto, out11, out16, out12, out14-mapsto, in2, out16-mapsto, in5, out13-mapsto, in3, in4, out10-mapsto, in2-mapsto, out8, out4, out5-mapsto, out3, out7-mapsto, out4-mapsto, in4-mapsto, out9, out3-mapsto, out2-mapsto, out11-mapsto, in3-mapsto, out8-mapsto, out13, out5, out2, in1-mapsto, out10, out1, out14, out12-mapsto, out9-mapsto, out15, out6\" were not provided during evaluation\n",
      "  warnings.warn(\n",
      "/Users/gabe/src/NREL/scratch/BuildingMOTIF/buildingmotif/dataclasses/template.py:390: UserWarning: Parameters \"fan-vfd-flt, fan-vfd-fb, heating-coil-valve, heating-coil-valve-out, cooling-coil-pump-vfd-spd, cooling-coil-pump-vfd-energy, fan-oa-flow-switch, heating-coil-valve-command, cooling-coil-valve-command, fan-out, heating-coil-supply-water-temp, fan-in, cooling-coil-water-in-mapsto, cooling-coil-water-out, cooling-coil-pump-in, cooling-coil-valve-in, heating-coil-water-out-mapsto, cooling-coil-pump-in-mapsto, heating-coil-valve-in-mapsto, cooling-coil-pump-onoff-cmd, heating-coil-valve-feedback, cooling-coil-air-out, zone-humidity, cooling-coil-water-out-mapsto, occ-override, cond-overflow, heating-coil-return-water-temp-sensor, cooling-coil-pump, cooling-coil-valve-out, cooling-coil-leaving-air-wetbulb-temp, cooling-coil-pump-vfd-cur, heating-coil-return-water-temp, cooling-coil-valve-feedback, fan-vfd-volt, heating-coil-supply-water-temp-sensor, cooling-coil-pump-vfd-pwr, heating-coil-water-in-mapsto, fan-vfd-frq, zone-temp, cooling-coil-pump-onoff-sts, cooling-coil-pump-vfd-frq, out-mapsto, cooling-coil-pump-out-mapsto, fan-in-mapsto, cooling-coil-pump-vfd-flt, heating-coil-air-in, cooling-coil-valve-out-mapsto, fan-start-cmd, DA-temp, in-mapsto, heating-coil, cooling-coil-air-out-mapsto, cooling-coil-return-water-temp, heating-coil-water-out, heating-coil-water-in, heating-coil-air-out-mapsto, heating-coil-valve-out-mapsto, heating-coil-air-out, cooling-coil-pump-out, cooling-coil-leaving-air-temp, cooling-coil-water-in, heating-coil-valve-in, fan-vfd-spd, fan-vfd-cur, cooling-coil-air-in, cooling-coil-entering-air-temp, fan-motor-status, fan-vfd-energy, cooling-coil, fan, cooling-coil-supply-water-temp, heating-coil-air-in-mapsto, cooling-coil-air-in-mapsto, cooling-coil-pump-vfd-fb, cooling-coil-pump-vfd-volt, fan-out-mapsto, fan-vfd-pwr, cooling-coil-valve-in-mapsto, cooling-coil-valve\" were not provided during evaluation\n",
      "  warnings.warn(\n",
      "/Users/gabe/src/NREL/scratch/BuildingMOTIF/buildingmotif/dataclasses/template.py:390: UserWarning: Parameters \"isolation-damper, pre-filter, exhaust-fan-iso-dmp-command, EAU-HRC-water-out-mapsto, isolation-damper-command, EAU-HRC-leaving-air-temp, isolation-damper-out-mapsto, c13, evaporative-cooler-out, evaporative-cooler-evap-cool-pump-2stage-in, final-filter-in-mapsto, exhaust-fan, exhaust-fan-in-mapsto, c14, final-filter-differential-pressure, final-filter, evaporative-cooler-evap-cool-fill-valve-command, pre-filter-in, evaporative-cooler-evap-cool-fill-valve-out, exhaust-fan-in, final-filter-in, exhaust-fan-vfd-volt, evaporative-cooler-evap-cool-pump-2stage-out-mapsto, evaporative-cooler-evap-cool-pump-2stage-vfd-pwr, exhaust-fan-motor-status, evaporative-cooler-water-out, EAU-HRC-air-out-mapsto, evaporative-cooler-evap-cool-fill-valve-in, pre-filter-out-mapsto, exhaust-fan-iso-dmp-feedback, evaporative-cooler-evap-cool-pump-2stage, evaporative-cooler-evap-cool-fill-valve-feedback, exhaust-fan-vfd-energy, pre-filter-differential-pressure, exhaust-fan-iso-dmp-out-mapsto, low-sp, evaporative-cooler-water-in, EAU-HRC-water-in, c10, air-exhaust-mapsto, evaporative-cooler-evap-cool-pump-2stage-vfd-energy, evaporative-cooler-water-out-mapsto, isolation-damper-in, evaporative-cooler-evap-cool-fill-valve, EAU-HRC-water-out, ea-sp, evaporative-cooler-evap-cool-pump-2stage-onoff-cmd, EAU-HRC-air-in-mapsto, exhaust-fan-low-sp-sensor, c11, evaporative-cooler-evap-cool-pump-2stage-vfd-flt, exhaust-fan-start-cmd, evaporative-cooler-in, return-air-mapsto, evaporative-cooler-evap-cool-fill-valve-out-mapsto, evaporative-cooler-evap-cool-pump-2stage-vfd-cur, evaporative-cooler-water-in-mapsto, evaporative-cooler-leaving-air-humidity, exhaust-fan-iso-dmp-in, final-filter-out-mapsto, EAU-HRC, exhaust-fan-vfd-flt, pre-filter-out, EAU-HRC-return-water-temp, isolation-damper-in-mapsto, evaporative-cooler-leaving-air-temp, exhaust-fan-vfd-cur, exhaust-fan-iso-dmp-in-mapsto, ea-pressure-sensor, exhaust-fan-vfd-frq, evaporative-cooler, evaporative-cooler-evap-cool-pump-2stage-vfd-fb, evaporative-cooler-evap-cool-pump-2stage-out, c12, exhaust-fan-iso-dmp-out, EAU-HRC-entering-air-temp, evaporative-cooler-in-mapsto, pre-filter-in-mapsto, evaporative-cooler-evap-cool-sump-tank, exhaust-fan-low-sp, EAU-HRC-air-in, evaporative-cooler-evap-cool-pump-2stage-in-mapsto, isolation-damper-feedback, evaporative-cooler-evap-cool-fill-valve-in-mapsto, exhaust-fan-out, evaporative-cooler-evap-cool-pump-2stage-onoff-sts, final-filter-out, exhaust-fan-vfd-pwr, EAU-HRC-air-out, evaporative-cooler-entering-air-temp, EAU-HRC-water-in-mapsto, exhaust-fan-iso-dmp, evaporative-cooler-out-mapsto, low-pressure-sensor, exhaust-fan-vfd-fb, evaporative-cooler-evap-cool-pump-2stage-vfd-spd, evaporative-cooler-evap-cool-pump-2stage-vfd-volt, evaporative-cooler-evap-cool-pump-2stage-vfd-frq, EAU-HRC-supply-water-temp, isolation-damper-out, exhaust-fan-vfd-spd\" were not provided during evaluation\n",
      "  warnings.warn(\n",
      "/Users/gabe/src/NREL/scratch/BuildingMOTIF/buildingmotif/dataclasses/template.py:390: UserWarning: Parameters \"physical-space, in, relative-humidity, out2-mapsto, in3-mapsto, humidity-sensor, exh-flow-sensor, out-mapsto, temp, in2, exhaust-air-flow, in-mapsto, sup-flow-sensor, in3, temp-sensor, in4, in2-mapsto, supply-air-flow, in4-mapsto\" were not provided during evaluation\n",
      "  warnings.warn(\n",
      "/Users/gabe/src/NREL/scratch/BuildingMOTIF/buildingmotif/dataclasses/template.py:390: UserWarning: Parameters \"vfd-frq, iso-dmp-in, motor-status, iso-dmp-out, vfd-pwr, vfd-spd, iso-dmp-command, out-mapsto, iso-dmp-feedback, vfd-energy, low-sp, iso-dmp-out-mapsto, low-sp-sensor, vfd-cur, in-mapsto, vfd-flt, vfd-volt, start-cmd, vfd-fb, iso-dmp-in-mapsto, iso-dmp\" were not provided during evaluation\n",
      "  warnings.warn(\n"
     ]
    },
    {
     "data": {
      "text/plain": [
       "<Graph identifier=e60ea944-a048-4853-9f7b-9dc9c523526b (<class 'rdflib.graph.Graph'>)>"
      ]
     },
     "execution_count": 10,
     "metadata": {},
     "output_type": "execute_result"
    }
   ],
   "source": [
    "bldg.add_graph(context.compile())\n",
    "bldg.graph.serialize(\"test.ttl\", format=\"turtle\")"
   ]
  },
  {
   "cell_type": "code",
   "execution_count": 12,
   "id": "d61db6a4-a5bd-4422-b7ef-545c89db0bb9",
   "metadata": {
    "scrolled": true
   },
   "outputs": [],
   "source": [
    "res = bldg.validate([s223.get_shape_collection()], error_on_missing_imports=False)"
   ]
  },
  {
   "cell_type": "code",
   "execution_count": 13,
   "id": "7cd8fef6-0a3b-4b58-a6b3-d430c02306b7",
   "metadata": {},
   "outputs": [
    {
     "name": "stdout",
     "output_type": "stream",
     "text": [
      "2234\n",
      "Valid? True\n"
     ]
    }
   ],
   "source": [
    "# print(res.report_string)\n",
    "print(len(res.report))\n",
    "print(f\"Valid? {res.valid}\")"
   ]
  },
  {
   "cell_type": "code",
   "execution_count": 14,
   "id": "c73d9b7c-4ea5-47b2-876a-b735af9b59be",
   "metadata": {
    "scrolled": true
   },
   "outputs": [],
   "source": [
    "for key, diffs in res.diffset.items():\n",
    "    print(key)\n",
    "    for d in diffs:\n",
    "        print(d.reason())"
   ]
  },
  {
   "cell_type": "code",
   "execution_count": null,
   "id": "db7f6a61-dc44-4abd-9b49-8e8eb5c1f3a7",
   "metadata": {},
   "outputs": [],
   "source": []
  }
 ],
 "metadata": {
  "kernelspec": {
   "display_name": "Python 3 (ipykernel)",
   "language": "python",
   "name": "python3"
  },
  "language_info": {
   "codemirror_mode": {
    "name": "ipython",
    "version": 3
   },
   "file_extension": ".py",
   "mimetype": "text/x-python",
   "name": "python",
   "nbconvert_exporter": "python",
   "pygments_lexer": "ipython3",
   "version": "3.11.9"
  }
 },
 "nbformat": 4,
 "nbformat_minor": 5
}
