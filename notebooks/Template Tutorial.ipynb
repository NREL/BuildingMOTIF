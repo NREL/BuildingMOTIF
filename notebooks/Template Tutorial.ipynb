{
 "cells": [
  {
   "cell_type": "code",
   "execution_count": 1,
   "id": "e1da221a-574b-473f-93fa-7f73ba21e6b4",
   "metadata": {
    "execution": {
     "iopub.execute_input": "2024-07-03T00:20:37.328912Z",
     "iopub.status.busy": "2024-07-03T00:20:37.328794Z",
     "iopub.status.idle": "2024-07-03T00:20:37.691467Z",
     "shell.execute_reply": "2024-07-03T00:20:37.691102Z"
    }
   },
   "outputs": [],
   "source": [
    "from rdflib import Namespace, Graph\n",
    "from buildingmotif import BuildingMOTIF\n",
    "from buildingmotif.dataclasses import Model, Library"
   ]
  },
  {
   "cell_type": "markdown",
   "id": "e2b78372-bc1c-4082-bfdb-d81df91ed51c",
   "metadata": {},
   "source": [
    "This notebook walks through how to write templates and evaluate them to create building models"
   ]
  },
  {
   "cell_type": "markdown",
   "id": "827c63d5-2ff3-435e-b2a7-327a211725f5",
   "metadata": {},
   "source": [
    "## Writing Templates\n",
    "\n",
    "A template is a function that generates a graph. The template definition provides the structure of the graph and allows the content of the graph to be determined in part through the use of *parameters*. Parameters have a name (typically short and descriptive) and can be required or optional. Parameters are identified by their prefix: `urn:___param___#`\n",
    "\n",
    "Templates are most easily written as YAML documents. A YAML file can contain more than one template. The names of the templates are at the top level of the YAML file as \"keys\".  The associated values are the content of the template. Templates can have 3 fields:\n",
    "- `body`: a turtle-serialized graph defining the structure of what will be generated\n",
    "- `optional`: a list of parameters which are optional in the template evaluation. If not bound, they will be removed from the generated graph\n",
    "- `dependencies`: a list of dependencies on other templates\n",
    "\n",
    "To start, let's look at a simple example without optional params or dependencies:"
   ]
  },
  {
   "cell_type": "markdown",
   "id": "a37b9ca3-9f3f-4f6b-9be6-093f163a10af",
   "metadata": {},
   "source": [
    "```yaml\n",
    "# tutorial/templates.yml\n",
    "my-thermostat:\n",
    "  body: >\n",
    "    @prefix P: <urn:___param___#> .\n",
    "    @prefix brick: <https://brickschema.org/schema/Brick#> .\n",
    "    P:name a brick:Thermostat ;\n",
    "        brick:hasLocation P:room .\n",
    "```"
   ]
  },
  {
   "cell_type": "markdown",
   "id": "39c426c1-5f6c-4fca-a3b8-7c01cdef443e",
   "metadata": {},
   "source": [
    "This template has two parameters: `name` and `room`. **All templates are required to have a `name` parameter.** This acts as the \"root\" of the template.\n",
    "\n",
    "The `my-thermostat` template describes the thermostat as having a location, but no further properties. We also don't know what kind of thing `P:room` should be bound to when the template is used. Let's address the second problem first by introducing a dependency\n",
    "\n",
    "```yaml\n",
    "# tutorial/templates.yml\n",
    "my-thermostat:\n",
    "  body: >\n",
    "    @prefix P: <urn:___param___#> .\n",
    "    @prefix brick: <https://brickschema.org/schema/Brick#> .\n",
    "    P:name a brick:Thermostat ;\n",
    "        brick:hasLocation P:room .\n",
    "  dependencies:\n",
    "  - template: https://brickschema.org/schema/Brick#Room\n",
    "    library: https://brickschema.org/schema/1.4/Brick\n",
    "    args: {\"name\": \"room\"}\n",
    "```\n",
    "\n",
    "The `dependencies` key contains a list of documents which describe the dependencies of this template on other templates. The single entry above states that the `my-thermostat` template is dependent upon the `https://brickschema.org/schema/Brick#Room` template (automatically produced by importing the Brick ontology as a library), and the `name` parameter of the `Room` template is bound to the value of the `room` parameter in this template."
   ]
  },
  {
   "cell_type": "markdown",
   "id": "abd872ee-11e5-44a4-8820-b1d39ff83423",
   "metadata": {},
   "source": [
    "Let's now add another template to our library, which `my-thermostat` will also depend on, which defines some of the points we want to see on our thermostat:\n",
    "\n",
    "```yaml\n",
    "my-tstat-points:\n",
    "  body: >\n",
    "     @prefix P: <urn:___param___#> .\n",
    "    @prefix brick: <https://brickschema.org/schema/Brick#> .\n",
    "    P:name a brick:Thermostat ;\n",
    "        brick:hasPoint P:temp, P:sp, P:co2 .\n",
    "  dependencies:\n",
    "    - template: https://brickschema.org/schema/Brick#Temperature_Sensor\n",
    "      library: https://brickschema.org/schema/1.4/Brick\n",
    "      args: {\"name\": \"temp\"}\n",
    "    - template: https://brickschema.org/schema/Brick#Temperature_Setpoint\n",
    "      library: https://brickschema.org/schema/1.4/Brick\n",
    "      args: {\"name\": \"sp\"}\n",
    "    - template: https://brickschema.org/schema/Brick#CO2_Sensor\n",
    "      library: https://brickschema.org/schema/1.4/Brick\n",
    "      args: {\"name\": \"co2\"}\n",
    "```\n",
    "\n",
    "(There is syntax sugar for the above pattern)\n",
    "\n",
    "We can now have our original `my-thermostat` template *depend* on this template. By binding this template to the `name` paramter of our original template, we are essentially composing the two templates together.\n",
    "\n",
    "The full template library is now as follows:\n",
    "\n",
    "```yaml\n",
    "# tutorial/templates.yml\n",
    "my-thermostat:\n",
    "  body: >\n",
    "    @prefix P: <urn:___param___#> .\n",
    "    @prefix brick: <https://brickschema.org/schema/Brick#> .\n",
    "    P:name a brick:Thermostat ;\n",
    "        brick:hasLocation P:room .\n",
    "  dependencies:\n",
    "  - template: https://brickschema.org/schema/Brick#Room\n",
    "    library: https://brickschema.org/schema/1.4/Brick\n",
    "    args: {\"name\": \"room\"}\n",
    "  - template: my-tstat-points\n",
    "    args: {\"name\": \"name\"}\n",
    "    \n",
    "my-tstat-points:\n",
    "  body: >\n",
    "    @prefix P: <urn:___param___#> .\n",
    "    @prefix brick: <https://brickschema.org/schema/Brick#> .\n",
    "    P:name a brick:Thermostat ;\n",
    "        brick:hasPoint P:temp, P:sp, P:co2 .\n",
    "  dependencies:\n",
    "    - template: https://brickschema.org/schema/Brick#Temperature_Sensor\n",
    "      library: https://brickschema.org/schema/1.4/Brick\n",
    "      args: {\"name\": \"temp\"}\n",
    "    - template: https://brickschema.org/schema/Brick#Temperature_Setpoint\n",
    "      library: https://brickschema.org/schema/1.4/Brick\n",
    "      args: {\"name\": \"sp\"}\n",
    "    - template: https://brickschema.org/schema/Brick#CO2_Sensor\n",
    "      library: https://brickschema.org/schema/1.4/Brick\n",
    "      args: {\"name\": \"co2\"}\n",
    "```"
   ]
  },
  {
   "cell_type": "code",
   "execution_count": 2,
   "id": "3cad907c-bc2c-4102-9194-d1a554e28d9d",
   "metadata": {
    "execution": {
     "iopub.execute_input": "2024-07-03T00:20:37.694004Z",
     "iopub.status.busy": "2024-07-03T00:20:37.693860Z",
     "iopub.status.idle": "2024-07-03T00:21:02.692961Z",
     "shell.execute_reply": "2024-07-03T00:21:02.692549Z"
    }
   },
   "outputs": [
    {
     "name": "stderr",
     "output_type": "stream",
     "text": [
      "/Users/gabe/Library/Caches/pypoetry/virtualenvs/buildingmotif-ozGZrh9J-py3.11/lib/python3.11/site-packages/pyshacl/extras/__init__.py:46: Warning: Extra \"js\" is not satisfied because requirement pyduktape2 is not installed.\n",
      "  warn(Warning(f\"Extra \\\"{extra_name}\\\" is not satisfied because requirement {req} is not installed.\"))\n"
     ]
    },
    {
     "name": "stderr",
     "output_type": "stream",
     "text": [
      "2024-07-02 18:20:58,739 | root |  WARNING: An ontology could not resolve a dependency on http://qudt.org/2.1/vocab/dimensionvector (No row was found when one was required). Check this is loaded into BuildingMOTIF\n"
     ]
    },
    {
     "name": "stderr",
     "output_type": "stream",
     "text": [
      "2024-07-02 18:20:58,740 | root |  WARNING: An ontology could not resolve a dependency on http://qudt.org/2.1/schema/shacl/qudt (No row was found when one was required). Check this is loaded into BuildingMOTIF\n"
     ]
    },
    {
     "name": "stderr",
     "output_type": "stream",
     "text": [
      "2024-07-02 18:20:58,741 | root |  WARNING: An ontology could not resolve a dependency on http://qudt.org/2.1/schema/facade/qudt (No row was found when one was required). Check this is loaded into BuildingMOTIF\n"
     ]
    },
    {
     "name": "stderr",
     "output_type": "stream",
     "text": [
      "2024-07-02 18:20:58,742 | root |  WARNING: An ontology could not resolve a dependency on http://qudt.org/2.1/collection/usertest (No row was found when one was required). Check this is loaded into BuildingMOTIF\n"
     ]
    },
    {
     "name": "stderr",
     "output_type": "stream",
     "text": [
      "2024-07-02 18:20:58,742 | root |  WARNING: An ontology could not resolve a dependency on https://brickschema.org/schema/Brick/ref (No row was found when one was required). Check this is loaded into BuildingMOTIF\n"
     ]
    },
    {
     "name": "stderr",
     "output_type": "stream",
     "text": [
      "2024-07-02 18:20:58,743 | root |  WARNING: An ontology could not resolve a dependency on http://qudt.org/2.1/vocab/prefix (No row was found when one was required). Check this is loaded into BuildingMOTIF\n"
     ]
    },
    {
     "name": "stderr",
     "output_type": "stream",
     "text": [
      "2024-07-02 18:20:58,744 | root |  WARNING: An ontology could not resolve a dependency on https://w3id.org/rec/recimports (No row was found when one was required). Check this is loaded into BuildingMOTIF\n"
     ]
    },
    {
     "name": "stderr",
     "output_type": "stream",
     "text": [
      "2024-07-02 18:20:58,744 | root |  WARNING: An ontology could not resolve a dependency on http://qudt.org/2.1/vocab/quantitykind (No row was found when one was required). Check this is loaded into BuildingMOTIF\n"
     ]
    },
    {
     "name": "stderr",
     "output_type": "stream",
     "text": [
      "2024-07-02 18:20:58,745 | root |  WARNING: An ontology could not resolve a dependency on http://qudt.org/2.1/vocab/unit (No row was found when one was required). Check this is loaded into BuildingMOTIF\n"
     ]
    },
    {
     "name": "stderr",
     "output_type": "stream",
     "text": [
      "2024-07-02 18:20:58,745 | root |  WARNING: An ontology could not resolve a dependency on http://data.ashrae.org/bacnet/2020 (No row was found when one was required). Check this is loaded into BuildingMOTIF\n"
     ]
    },
    {
     "name": "stderr",
     "output_type": "stream",
     "text": [
      "2024-07-02 18:20:58,746 | root |  WARNING: An ontology could not resolve a dependency on http://qudt.org/2.1/vocab/sou (No row was found when one was required). Check this is loaded into BuildingMOTIF\n"
     ]
    },
    {
     "name": "stderr",
     "output_type": "stream",
     "text": [
      "2024-07-02 18:20:58,747 | root |  WARNING: An ontology could not resolve a dependency on http://qudt.org/2.1/schema/shacl/overlay/qudt (No row was found when one was required). Check this is loaded into BuildingMOTIF\n"
     ]
    },
    {
     "name": "stderr",
     "output_type": "stream",
     "text": [
      "2024-07-02 18:21:00,824 | root |  WARNING: Warning: could not find dependee n770b60c688c1469a9f0d73cd3c47c9a6b7630 in libraries []\n"
     ]
    },
    {
     "name": "stderr",
     "output_type": "stream",
     "text": [
      "2024-07-02 18:21:00,827 | root |  WARNING: Warning: could not find dependee n770b60c688c1469a9f0d73cd3c47c9a6b7638 in libraries []\n"
     ]
    },
    {
     "name": "stderr",
     "output_type": "stream",
     "text": [
      "2024-07-02 18:21:00,830 | root |  WARNING: Warning: could not find dependee n770b60c688c1469a9f0d73cd3c47c9a6b7632 in libraries []\n"
     ]
    },
    {
     "name": "stderr",
     "output_type": "stream",
     "text": [
      "2024-07-02 18:21:00,833 | root |  WARNING: Warning: could not find dependee n770b60c688c1469a9f0d73cd3c47c9a6b7636 in libraries []\n"
     ]
    },
    {
     "name": "stderr",
     "output_type": "stream",
     "text": [
      "2024-07-02 18:21:00,836 | root |  WARNING: Warning: could not find dependee n770b60c688c1469a9f0d73cd3c47c9a6b7634 in libraries []\n"
     ]
    },
    {
     "name": "stderr",
     "output_type": "stream",
     "text": [
      "2024-07-02 18:21:00,839 | root |  WARNING: Warning: could not find dependee n770b60c688c1469a9f0d73cd3c47c9a6b7628 in libraries []\n"
     ]
    },
    {
     "name": "stderr",
     "output_type": "stream",
     "text": [
      "2024-07-02 18:21:00,842 | root |  WARNING: Warning: could not find dependee n770b60c688c1469a9f0d73cd3c47c9a6b7581 in libraries []\n"
     ]
    },
    {
     "name": "stderr",
     "output_type": "stream",
     "text": [
      "2024-07-02 18:21:00,844 | root |  WARNING: Warning: could not find dependee n770b60c688c1469a9f0d73cd3c47c9a6b7583 in libraries []\n"
     ]
    },
    {
     "name": "stderr",
     "output_type": "stream",
     "text": [
      "2024-07-02 18:21:00,847 | root |  WARNING: Warning: could not find dependee n770b60c688c1469a9f0d73cd3c47c9a6b7589 in libraries []\n"
     ]
    },
    {
     "name": "stderr",
     "output_type": "stream",
     "text": [
      "2024-07-02 18:21:00,850 | root |  WARNING: Warning: could not find dependee n770b60c688c1469a9f0d73cd3c47c9a6b7579 in libraries []\n"
     ]
    },
    {
     "name": "stderr",
     "output_type": "stream",
     "text": [
      "2024-07-02 18:21:00,853 | root |  WARNING: Warning: could not find dependee n770b60c688c1469a9f0d73cd3c47c9a6b7587 in libraries []\n"
     ]
    },
    {
     "name": "stderr",
     "output_type": "stream",
     "text": [
      "2024-07-02 18:21:00,856 | root |  WARNING: Warning: could not find dependee n770b60c688c1469a9f0d73cd3c47c9a6b7585 in libraries []\n"
     ]
    },
    {
     "name": "stderr",
     "output_type": "stream",
     "text": [
      "2024-07-02 18:21:00,860 | root |  WARNING: Warning: could not find dependee n770b60c688c1469a9f0d73cd3c47c9a6b7727 in libraries []\n"
     ]
    },
    {
     "name": "stderr",
     "output_type": "stream",
     "text": [
      "2024-07-02 18:21:00,863 | root |  WARNING: Warning: could not find dependee n770b60c688c1469a9f0d73cd3c47c9a6b7723 in libraries []\n"
     ]
    },
    {
     "name": "stderr",
     "output_type": "stream",
     "text": [
      "2024-07-02 18:21:00,865 | root |  WARNING: Warning: could not find dependee n770b60c688c1469a9f0d73cd3c47c9a6b7729 in libraries []\n"
     ]
    },
    {
     "name": "stderr",
     "output_type": "stream",
     "text": [
      "2024-07-02 18:21:00,868 | root |  WARNING: Warning: could not find dependee n770b60c688c1469a9f0d73cd3c47c9a6b7721 in libraries []\n"
     ]
    },
    {
     "name": "stderr",
     "output_type": "stream",
     "text": [
      "2024-07-02 18:21:00,871 | root |  WARNING: Warning: could not find dependee n770b60c688c1469a9f0d73cd3c47c9a6b7725 in libraries []\n"
     ]
    },
    {
     "name": "stderr",
     "output_type": "stream",
     "text": [
      "2024-07-02 18:21:00,874 | root |  WARNING: Warning: could not find dependee n770b60c688c1469a9f0d73cd3c47c9a6b7651 in libraries []\n"
     ]
    },
    {
     "name": "stderr",
     "output_type": "stream",
     "text": [
      "2024-07-02 18:21:00,876 | root |  WARNING: Warning: could not find dependee n770b60c688c1469a9f0d73cd3c47c9a6b7645 in libraries []\n"
     ]
    },
    {
     "name": "stderr",
     "output_type": "stream",
     "text": [
      "2024-07-02 18:21:00,880 | root |  WARNING: Warning: could not find dependee n770b60c688c1469a9f0d73cd3c47c9a6b7649 in libraries []\n"
     ]
    },
    {
     "name": "stderr",
     "output_type": "stream",
     "text": [
      "2024-07-02 18:21:00,883 | root |  WARNING: Warning: could not find dependee n770b60c688c1469a9f0d73cd3c47c9a6b7653 in libraries []\n"
     ]
    },
    {
     "name": "stderr",
     "output_type": "stream",
     "text": [
      "2024-07-02 18:21:00,885 | root |  WARNING: Warning: could not find dependee n770b60c688c1469a9f0d73cd3c47c9a6b7647 in libraries []\n"
     ]
    }
   ],
   "source": [
    "%%capture --no-stderr\n",
    "# load the template library as follows:\n",
    "# 1. create the BuildingMOTIF instance\n",
    "bm = BuildingMOTIF(\"sqlite://\") # in-memory\n",
    "# 2a. load dependencies (otherwise buildingMOTIF will complain)\n",
    "_ = Library.load(ontology_graph=\"../libraries/brick/Brick.ttl\")\n",
    "# 2b. load the library from the directory\n",
    "lib = Library.load(directory=\"./tutorial\")\n",
    "# the name of the library will be name of the directory\n",
    "print(f\"Loaded library named {lib.name}\")"
   ]
  },
  {
   "cell_type": "code",
   "execution_count": 3,
   "id": "15acb375-278b-4351-92fe-28359975d9cd",
   "metadata": {
    "execution": {
     "iopub.execute_input": "2024-07-03T00:21:02.695222Z",
     "iopub.status.busy": "2024-07-03T00:21:02.694988Z",
     "iopub.status.idle": "2024-07-03T00:21:02.720119Z",
     "shell.execute_reply": "2024-07-03T00:21:02.719817Z"
    }
   },
   "outputs": [
    {
     "name": "stdout",
     "output_type": "stream",
     "text": [
      "Template 'my-thermostat' has parameters {'name', 'room'}\n",
      "The body of the template looks like this:\n",
      "@prefix brick: <https://brickschema.org/schema/Brick#> .\n",
      "\n",
      "<urn:___param___#name> a brick:Thermostat ;\n",
      "    brick:hasLocation <urn:___param___#room> .\n",
      "\n",
      "\n",
      "Template 'my-tstat-points' has parameters {'co2', 'name', 'sp', 'temp'}\n",
      "The body of the template looks like this:\n",
      "@prefix brick: <https://brickschema.org/schema/Brick#> .\n",
      "\n",
      "<urn:___param___#name> a brick:Thermostat ;\n",
      "    brick:hasPoint <urn:___param___#co2>,\n",
      "        <urn:___param___#sp>,\n",
      "        <urn:___param___#temp> .\n",
      "\n",
      "\n"
     ]
    }
   ],
   "source": [
    "# now we can traverse the library to see what's there\n",
    "for template in lib.get_templates():\n",
    "    print(f\"Template '{template.name}' has parameters {template.parameters}\")\n",
    "    print(\"The body of the template looks like this:\")\n",
    "    print(template.body.serialize(format='turtle'))"
   ]
  },
  {
   "cell_type": "markdown",
   "id": "c91c4ab8-4fca-4681-949c-cb437e36305d",
   "metadata": {},
   "source": [
    "## Evaluating Templates\n",
    "\n",
    "Generating a graph from a template is called *evaluating* the template. Template evaluation requires a *binding* of template parameters to values. Values can be either RDF URIs or Literals.\n",
    "\n",
    "To start, grab a template from the library. This can be done by name:"
   ]
  },
  {
   "cell_type": "code",
   "execution_count": 4,
   "id": "1d51b097-76db-41e1-b261-5dacfe202fec",
   "metadata": {
    "execution": {
     "iopub.execute_input": "2024-07-03T00:21:02.722070Z",
     "iopub.status.busy": "2024-07-03T00:21:02.721923Z",
     "iopub.status.idle": "2024-07-03T00:21:02.725582Z",
     "shell.execute_reply": "2024-07-03T00:21:02.725261Z"
    }
   },
   "outputs": [
    {
     "name": "stdout",
     "output_type": "stream",
     "text": [
      "my-thermostat {'name', 'room'}\n"
     ]
    }
   ],
   "source": [
    "templ = lib.get_template_by_name(\"my-thermostat\")\n",
    "print(templ.name, templ.parameters)"
   ]
  },
  {
   "cell_type": "markdown",
   "id": "f2d86e83-36d2-466c-9cd1-4e00bc21e0bb",
   "metadata": {},
   "source": [
    "The `.fill` method will invent names for each of the parameters in the template so you can see what it looks like as a graph:"
   ]
  },
  {
   "cell_type": "code",
   "execution_count": 5,
   "id": "4744c88b-289b-4a0f-8376-57cbfd161ae6",
   "metadata": {
    "execution": {
     "iopub.execute_input": "2024-07-03T00:21:02.727405Z",
     "iopub.status.busy": "2024-07-03T00:21:02.727276Z",
     "iopub.status.idle": "2024-07-03T00:21:02.732109Z",
     "shell.execute_reply": "2024-07-03T00:21:02.731807Z"
    }
   },
   "outputs": [
    {
     "name": "stdout",
     "output_type": "stream",
     "text": [
      "BuildingMOTIF invented bindings: {'name': rdflib.term.URIRef('urn:example/name_153c260c'), 'room': rdflib.term.URIRef('urn:example/room_36310e89')}\n",
      "The resulting graph looks like:\n",
      "@prefix brick: <https://brickschema.org/schema/Brick#> .\n",
      "\n",
      "<urn:example/name_153c260c> a brick:Thermostat ;\n",
      "    brick:hasLocation <urn:example/room_36310e89> .\n",
      "\n",
      "\n"
     ]
    }
   ],
   "source": [
    "bindings, graph = templ.fill(Namespace(\"urn:example/\"))\n",
    "print(f\"BuildingMOTIF invented bindings: {bindings}\")\n",
    "print(\"The resulting graph looks like:\")\n",
    "print(graph.serialize(format='turtle'))"
   ]
  },
  {
   "cell_type": "markdown",
   "id": "a6e244f2-2947-4679-95c9-e4e592de7309",
   "metadata": {},
   "source": [
    "You'll notice that the dependencies do not appear in this graph. To include these, use `.inline_dependencies` to get a new template:"
   ]
  },
  {
   "cell_type": "code",
   "execution_count": 6,
   "id": "67835e05-c252-4c56-a2a7-a147bf17da9a",
   "metadata": {
    "execution": {
     "iopub.execute_input": "2024-07-03T00:21:02.733922Z",
     "iopub.status.busy": "2024-07-03T00:21:02.733782Z",
     "iopub.status.idle": "2024-07-03T00:21:02.744668Z",
     "shell.execute_reply": "2024-07-03T00:21:02.744365Z"
    }
   },
   "outputs": [
    {
     "name": "stdout",
     "output_type": "stream",
     "text": [
      "need bindings for: {'name-temp', 'room', 'name', 'name-co2', 'name-sp'}\n"
     ]
    }
   ],
   "source": [
    "inlined_tstat = templ.inline_dependencies()\n",
    "print(\"need bindings for:\", inlined_tstat.parameters)"
   ]
  },
  {
   "cell_type": "markdown",
   "id": "40bcb4bd-3b09-4f6f-b085-62ea3982a285",
   "metadata": {},
   "source": [
    "Usually, we want to use our own names when evaluating a template. To do this, we use the `.evaluate` method. `.evaluate()` takes a dictionary of parameter names to parameter values as an argument.\n",
    "\n",
    "We know from above that the parameters for the template are 'name', 'temp', 'room', 'sp', and 'co2'. Let's invent some entities for those. We will create a new namespace to hold those entities as well."
   ]
  },
  {
   "cell_type": "code",
   "execution_count": 7,
   "id": "0c87b5f3-0e04-4dd5-ad7a-03af019672bf",
   "metadata": {
    "execution": {
     "iopub.execute_input": "2024-07-03T00:21:02.746439Z",
     "iopub.status.busy": "2024-07-03T00:21:02.746300Z",
     "iopub.status.idle": "2024-07-03T00:21:02.749098Z",
     "shell.execute_reply": "2024-07-03T00:21:02.748812Z"
    }
   },
   "outputs": [],
   "source": [
    "# new namespace\n",
    "BLDG = Namespace(\"urn:my-building/\")\n",
    "\n",
    "bindings = {\n",
    "    'name': BLDG['tstat1'],\n",
    "    'name-temp': BLDG['temp_sensor1'],\n",
    "    'room': BLDG['room_410'],\n",
    "    'name-sp': BLDG['temp_setpoint1'],\n",
    "    'name-co2': BLDG['co2_sensor'],\n",
    "}\n",
    "\n",
    "graph = inlined_tstat.evaluate(bindings)"
   ]
  },
  {
   "cell_type": "markdown",
   "id": "5e3989fa-5818-4964-b2e8-cb3d8964f71d",
   "metadata": {},
   "source": [
    "If we did not provide all of the required parameters, we would get another Template back instead of a graph. Here, we *have* provided all of the required bindings so we get the graph"
   ]
  },
  {
   "cell_type": "code",
   "execution_count": 8,
   "id": "782dadfc-62fd-4353-a3f8-73cf9b599136",
   "metadata": {
    "execution": {
     "iopub.execute_input": "2024-07-03T00:21:02.750791Z",
     "iopub.status.busy": "2024-07-03T00:21:02.750664Z",
     "iopub.status.idle": "2024-07-03T00:21:02.752656Z",
     "shell.execute_reply": "2024-07-03T00:21:02.752387Z"
    }
   },
   "outputs": [],
   "source": [
    "assert isinstance(graph, Graph)"
   ]
  },
  {
   "cell_type": "code",
   "execution_count": 9,
   "id": "57f21cff-3055-49e2-bdb8-1a1177a392ad",
   "metadata": {
    "execution": {
     "iopub.execute_input": "2024-07-03T00:21:02.754293Z",
     "iopub.status.busy": "2024-07-03T00:21:02.754164Z",
     "iopub.status.idle": "2024-07-03T00:21:02.756652Z",
     "shell.execute_reply": "2024-07-03T00:21:02.756394Z"
    }
   },
   "outputs": [
    {
     "name": "stdout",
     "output_type": "stream",
     "text": [
      "@prefix brick: <https://brickschema.org/schema/Brick#> .\n",
      "\n",
      "<urn:my-building/tstat1> a brick:Thermostat ;\n",
      "    brick:hasLocation <urn:my-building/room_410> ;\n",
      "    brick:hasPoint <urn:my-building/co2_sensor>,\n",
      "        <urn:my-building/temp_sensor1>,\n",
      "        <urn:my-building/temp_setpoint1> .\n",
      "\n",
      "<urn:my-building/co2_sensor> a brick:CO2_Sensor .\n",
      "\n",
      "<urn:my-building/room_410> a brick:Room .\n",
      "\n",
      "<urn:my-building/temp_sensor1> a brick:Temperature_Sensor .\n",
      "\n",
      "<urn:my-building/temp_setpoint1> a brick:Temperature_Setpoint .\n",
      "\n",
      "\n"
     ]
    }
   ],
   "source": [
    "# we can now look at the resulting graph\n",
    "print(graph.serialize(format='turtle'))"
   ]
  },
  {
   "cell_type": "markdown",
   "id": "410cf874-6e3d-43f7-b7f8-bfa7cdddfa3c",
   "metadata": {},
   "source": [
    "## Assembling a Model\n",
    "\n",
    "We first create a model in BuildingMOTIF which will represent our building. All models need a name. It is helpful and idiomatic (but not necessary) to name the model with the namespace that will contain the entities:"
   ]
  },
  {
   "cell_type": "code",
   "execution_count": 10,
   "id": "602dc10b-ba6c-4035-8dfe-627c95eb33fd",
   "metadata": {
    "execution": {
     "iopub.execute_input": "2024-07-03T00:21:02.758346Z",
     "iopub.status.busy": "2024-07-03T00:21:02.758218Z",
     "iopub.status.idle": "2024-07-03T00:21:02.809962Z",
     "shell.execute_reply": "2024-07-03T00:21:02.809672Z"
    }
   },
   "outputs": [
    {
     "name": "stdout",
     "output_type": "stream",
     "text": [
      "@prefix owl: <http://www.w3.org/2002/07/owl#> .\n",
      "\n",
      "<urn:my-building/> a owl:Ontology .\n",
      "\n",
      "\n"
     ]
    }
   ],
   "source": [
    "bldg = Model.create(BLDG)\n",
    "print(bldg.graph.serialize()) # basic graph metadata!"
   ]
  },
  {
   "cell_type": "markdown",
   "id": "b18f9404-6504-4a50-b6bb-77f903fa77b7",
   "metadata": {},
   "source": [
    "Use the `add_graph` method to append additional metadata to the graph"
   ]
  },
  {
   "cell_type": "code",
   "execution_count": 11,
   "id": "1e2e43f6-7d8b-413b-bc46-dce540b37321",
   "metadata": {
    "execution": {
     "iopub.execute_input": "2024-07-03T00:21:02.811686Z",
     "iopub.status.busy": "2024-07-03T00:21:02.811588Z",
     "iopub.status.idle": "2024-07-03T00:21:02.826123Z",
     "shell.execute_reply": "2024-07-03T00:21:02.825826Z"
    }
   },
   "outputs": [
    {
     "name": "stdout",
     "output_type": "stream",
     "text": [
      "@prefix brick: <https://brickschema.org/schema/Brick#> .\n",
      "@prefix owl: <http://www.w3.org/2002/07/owl#> .\n",
      "\n",
      "<urn:my-building/> a owl:Ontology .\n",
      "\n",
      "<urn:my-building/tstat1> a brick:Thermostat ;\n",
      "    brick:hasLocation <urn:my-building/room_410> ;\n",
      "    brick:hasPoint <urn:my-building/co2_sensor>,\n",
      "        <urn:my-building/temp_sensor1>,\n",
      "        <urn:my-building/temp_setpoint1> .\n",
      "\n",
      "<urn:my-building/co2_sensor> a brick:CO2_Sensor .\n",
      "\n",
      "<urn:my-building/room_410> a brick:Room .\n",
      "\n",
      "<urn:my-building/temp_sensor1> a brick:Temperature_Sensor .\n",
      "\n",
      "<urn:my-building/temp_setpoint1> a brick:Temperature_Setpoint .\n",
      "\n",
      "\n"
     ]
    }
   ],
   "source": [
    "bldg.add_graph(graph) # 'graph' is the vav we created above. This is largely idempotent\n",
    "print(bldg.graph.serialize()) # now contains our tstat"
   ]
  },
  {
   "cell_type": "markdown",
   "id": "9f6e9eb0-9b81-4773-8f77-4b36b2634aa1",
   "metadata": {},
   "source": [
    "Templates allow the user to populate models using tabular input rather than by explicit graph construction. Consider the following CSV file:\n",
    "\n",
    "\n",
    "| name | room | name-co2 | name-temp | name-sp |\n",
    "|------|------|-----|------|----|\n",
    "|tstat2|room345|co2-345|temp-345|sp-345|\n",
    "|tstat3|room567|cow-567|temp-567|sp-567|\n",
    "\n",
    "In a few lines of Python, we can read this CSV file and use its columns to instantiate more thermostats"
   ]
  },
  {
   "cell_type": "code",
   "execution_count": 12,
   "id": "11723bf7-96b5-4acb-b240-3d6347d5ed38",
   "metadata": {
    "execution": {
     "iopub.execute_input": "2024-07-03T00:21:02.827915Z",
     "iopub.status.busy": "2024-07-03T00:21:02.827789Z",
     "iopub.status.idle": "2024-07-03T00:21:02.832673Z",
     "shell.execute_reply": "2024-07-03T00:21:02.832405Z"
    }
   },
   "outputs": [],
   "source": [
    "import csv\n",
    "with open(\"tutorial/data.csv\") as f:\n",
    "    rdr = csv.DictReader(f)\n",
    "    for line in rdr:\n",
    "        graph = inlined_tstat.evaluate({\n",
    "            k: BLDG[v] for k,v in line.items()\n",
    "        })\n",
    "        bldg.add_graph(graph)"
   ]
  },
  {
   "cell_type": "code",
   "execution_count": 13,
   "id": "0a3b5e14-e739-425e-9523-9b82c61bafb0",
   "metadata": {
    "execution": {
     "iopub.execute_input": "2024-07-03T00:21:02.834373Z",
     "iopub.status.busy": "2024-07-03T00:21:02.834251Z",
     "iopub.status.idle": "2024-07-03T00:21:02.863973Z",
     "shell.execute_reply": "2024-07-03T00:21:02.863702Z"
    }
   },
   "outputs": [
    {
     "name": "stdout",
     "output_type": "stream",
     "text": [
      "@prefix brick: <https://brickschema.org/schema/Brick#> .\n",
      "@prefix owl: <http://www.w3.org/2002/07/owl#> .\n",
      "\n",
      "<urn:my-building/> a owl:Ontology .\n",
      "\n",
      "<urn:my-building/tstat1> a brick:Thermostat ;\n",
      "    brick:hasLocation <urn:my-building/room_410> ;\n",
      "    brick:hasPoint <urn:my-building/co2_sensor>,\n",
      "        <urn:my-building/temp_sensor1>,\n",
      "        <urn:my-building/temp_setpoint1> .\n",
      "\n",
      "<urn:my-building/tstat2> a brick:Thermostat ;\n",
      "    brick:hasLocation <urn:my-building/room345> ;\n",
      "    brick:hasPoint <urn:my-building/co2-345>,\n",
      "        <urn:my-building/sp-345>,\n",
      "        <urn:my-building/temp-345> .\n",
      "\n",
      "<urn:my-building/tstat3> a brick:Thermostat ;\n",
      "    brick:hasLocation <urn:my-building/room567> ;\n",
      "    brick:hasPoint <urn:my-building/cow-567>,\n",
      "        <urn:my-building/sp-567>,\n",
      "        <urn:my-building/temp-567> .\n",
      "\n",
      "<urn:my-building/co2-345> a brick:CO2_Sensor .\n",
      "\n",
      "<urn:my-building/co2_sensor> a brick:CO2_Sensor .\n",
      "\n",
      "<urn:my-building/cow-567> a brick:CO2_Sensor .\n",
      "\n",
      "<urn:my-building/room345> a brick:Room .\n",
      "\n",
      "<urn:my-building/room567> a brick:Room .\n",
      "\n",
      "<urn:my-building/room_410> a brick:Room .\n",
      "\n",
      "<urn:my-building/sp-345> a brick:Temperature_Setpoint .\n",
      "\n",
      "<urn:my-building/sp-567> a brick:Temperature_Setpoint .\n",
      "\n",
      "<urn:my-building/temp-345> a brick:Temperature_Sensor .\n",
      "\n",
      "<urn:my-building/temp-567> a brick:Temperature_Sensor .\n",
      "\n",
      "<urn:my-building/temp_sensor1> a brick:Temperature_Sensor .\n",
      "\n",
      "<urn:my-building/temp_setpoint1> a brick:Temperature_Setpoint .\n",
      "\n",
      "\n"
     ]
    }
   ],
   "source": [
    "print(bldg.graph.serialize()) # now contains our tstats"
   ]
  },
  {
   "cell_type": "markdown",
   "id": "656d74ee-5e0a-4b1f-b6cd-4d26fe880779",
   "metadata": {},
   "source": [
    "Validate the model against the shapes in the `tutorial` library:"
   ]
  },
  {
   "cell_type": "code",
   "execution_count": 14,
   "id": "13ce655d-2462-41b2-8920-1bf9ae494cac",
   "metadata": {
    "execution": {
     "iopub.execute_input": "2024-07-03T00:21:02.865736Z",
     "iopub.status.busy": "2024-07-03T00:21:02.865603Z",
     "iopub.status.idle": "2024-07-03T00:21:02.881294Z",
     "shell.execute_reply": "2024-07-03T00:21:02.880996Z"
    },
    "tags": []
   },
   "outputs": [
    {
     "data": {
      "text/plain": [
       "ValidationContext(shape_collections=[ShapeCollection(_id=2, graph=<Graph identifier=3e306528-9922-4b12-b920-ba5a2a951faf (<class 'rdflib.graph.Graph'>)>, _bm=<buildingmotif.building_motif.building_motif.BuildingMOTIF object at 0x1096a7250>)], shapes_graph=<Graph identifier=Ndd61a86aa46241aa82357f10c2352330 (<class 'rdflib.graph.Graph'>)>, valid=True, report=<Graph identifier=N29bead2af4d347e6b437fb575bc7070f (<class 'rdflib.graph.Graph'>)>, report_string='Validation Report\\nConforms: True\\n', model=Model(_id=1, _name=Namespace('urn:my-building/'), _description='', graph=<Graph identifier=37ada793-441c-4090-8be7-4291048ce8e8 (<class 'rdflib.graph.Graph'>)>, _bm=<buildingmotif.building_motif.building_motif.BuildingMOTIF object at 0x1096a7250>, _manifest_id=3))"
      ]
     },
     "execution_count": 14,
     "metadata": {},
     "output_type": "execute_result"
    }
   ],
   "source": [
    "bldg.validate([lib.get_shape_collection()])"
   ]
  },
  {
   "cell_type": "code",
   "execution_count": null,
   "id": "b38e65c8-05bd-47c0-8cc9-e87cbce02420",
   "metadata": {},
   "outputs": [],
   "source": []
  }
 ],
 "metadata": {
  "kernelspec": {
   "display_name": "Python 3 (ipykernel)",
   "language": "python",
   "name": "python3"
  },
  "language_info": {
   "codemirror_mode": {
    "name": "ipython",
    "version": 3
   },
   "file_extension": ".py",
   "mimetype": "text/x-python",
   "name": "python",
   "nbconvert_exporter": "python",
   "pygments_lexer": "ipython3",
   "version": "3.11.9"
  }
 },
 "nbformat": 4,
 "nbformat_minor": 5
}
