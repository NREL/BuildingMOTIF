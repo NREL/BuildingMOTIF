{
 "cells": [
  {
   "cell_type": "code",
   "execution_count": 1,
   "id": "e1da221a-574b-473f-93fa-7f73ba21e6b4",
   "metadata": {},
   "outputs": [],
   "source": [
    "from rdflib import Namespace, Graph\n",
    "from buildingmotif import BuildingMOTIF\n",
    "from buildingmotif.dataclasses import Model, Library\n",
    "from buildingmotif.database.tables import Base as BuildingMotif_tables_base"
   ]
  },
  {
   "cell_type": "markdown",
   "id": "e2b78372-bc1c-4082-bfdb-d81df91ed51c",
   "metadata": {},
   "source": [
    "This notebook walks through how to write templates and evaluate them to create building models"
   ]
  },
  {
   "cell_type": "markdown",
   "id": "827c63d5-2ff3-435e-b2a7-327a211725f5",
   "metadata": {},
   "source": [
    "## Writing Templates\n",
    "\n",
    "A template is a function that generates a graph. The template definition provides the structure of the graph and allows the content of the graph to be determined in part through the use of *parameters*. Parameters have a name (typically short and descriptive) and can be required or optional. Parameters are identified by their prefix: `urn:___param___#`\n",
    "\n",
    "Templates are most easily written as YAML documents. A YAML file can contain more than one template. The names of the templates are at the top level of the YAML file as \"keys\".  The associated values are the content of the template. Templates can have 3 fields:\n",
    "- `body`: a turtle-serialized graph defining the structure of what will be generated\n",
    "- `optional`: a list of parameters which are optional in the template evaluation. If not bound, they will be removed from the generated graph\n",
    "- `dependencies`: a list of dependencies on other templates\n",
    "\n",
    "To start, let's look at a simple example without optional params or dependencies:"
   ]
  },
  {
   "cell_type": "markdown",
   "id": "a37b9ca3-9f3f-4f6b-9be6-093f163a10af",
   "metadata": {},
   "source": [
    "```yaml\n",
    "# tutorial/templates.yml\n",
    "my-thermostat:\n",
    "  body: >\n",
    "    @prefix P: <urn:___param___#> .\n",
    "    @prefix brick: <https://brickschema.org/schema/Brick#> .\n",
    "    P:name a brick:Thermostat ;\n",
    "        brick:hasLocation P:room .\n",
    "```"
   ]
  },
  {
   "cell_type": "markdown",
   "id": "39c426c1-5f6c-4fca-a3b8-7c01cdef443e",
   "metadata": {},
   "source": [
    "This template has two parameters: `name` and `room`. **All templates are required to have a `name` parameter.** This acts as the \"root\" of the template.\n",
    "\n",
    "The `my-thermostat` template describes the thermostat as having a location, but no further properties. We also don't know what kind of thing `P:room` should be bound to when the template is used. Let's address the second problem first by introducing a dependency\n",
    "\n",
    "```yaml\n",
    "# tutorial/templates.yml\n",
    "my-thermostat:\n",
    "  body: >\n",
    "    @prefix P: <urn:___param___#> .\n",
    "    @prefix brick: <https://brickschema.org/schema/Brick#> .\n",
    "    P:name a brick:Thermostat ;\n",
    "        brick:hasLocation P:room .\n",
    "  dependencies:\n",
    "  - template: https://brickschema.org/schema/Brick#Room\n",
    "    library: https://brickschema.org/schema/1.3/Brick\n",
    "    args: {\"name\": \"room\"}\n",
    "```\n",
    "\n",
    "The `dependencies` key contains a list of documents which describe the dependencies of this template on other templates. The single entry above states that the `my-thermostat` template is dependent upon the `https://brickschema.org/schema/Brick#Room` template (automatically produced by importing the Brick ontology as a library), and the `name` parameter of the `Room` template is bound to the value of the `room` parameter in this template."
   ]
  },
  {
   "cell_type": "markdown",
   "id": "abd872ee-11e5-44a4-8820-b1d39ff83423",
   "metadata": {},
   "source": [
    "Let's now add another template to our library, which `my-thermostat` will also depend on, which defines some of the points we want to see on our thermostat:\n",
    "\n",
    "```yaml\n",
    "my-tstat-points:\n",
    "  body: >\n",
    "     @prefix P: <urn:___param___#> .\n",
    "    @prefix brick: <https://brickschema.org/schema/Brick#> .\n",
    "    P:name a brick:Thermostat ;\n",
    "        brick:hasPoint P:temp, P:sp, P:co2 .\n",
    "  dependencies:\n",
    "    - template: https://brickschema.org/schema/Brick#Temperature_Sensor\n",
    "      library: https://brickschema.org/schema/1.3/Brick\n",
    "      args: {\"name\": \"temp\"}\n",
    "    - template: https://brickschema.org/schema/Brick#Temperature_Setpoint\n",
    "      library: https://brickschema.org/schema/1.3/Brick\n",
    "      args: {\"name\": \"sp\"}\n",
    "    - template: https://brickschema.org/schema/Brick#CO2_Sensor\n",
    "      library: https://brickschema.org/schema/1.3/Brick\n",
    "      args: {\"name\": \"co2\"}\n",
    "```\n",
    "\n",
    "(There is syntax sugar for the above pattern)\n",
    "\n",
    "We can now have our original `my-thermostat` template *depend* on this template. By binding this template to the `name` paramter of our original template, we are essentially composing the two templates together.\n",
    "\n",
    "The full template library is now as follows:\n",
    "\n",
    "```yaml\n",
    "# tutorial/templates.yml\n",
    "my-thermostat:\n",
    "  body: >\n",
    "    @prefix P: <urn:___param___#> .\n",
    "    @prefix brick: <https://brickschema.org/schema/Brick#> .\n",
    "    P:name a brick:Thermostat ;\n",
    "        brick:hasLocation P:room .\n",
    "  dependencies:\n",
    "  - template: https://brickschema.org/schema/Brick#Room\n",
    "    library: https://brickschema.org/schema/1.3/Brick\n",
    "    args: {\"name\": \"room\"}\n",
    "  - template: my-tstat-points\n",
    "    args: {\"name\": \"name\"}\n",
    "    \n",
    "my-tstat-points:\n",
    "  body: >\n",
    "    @prefix P: <urn:___param___#> .\n",
    "    @prefix brick: <https://brickschema.org/schema/Brick#> .\n",
    "    P:name a brick:Thermostat ;\n",
    "        brick:hasPoint P:temp, P:sp, P:co2 .\n",
    "  dependencies:\n",
    "    - template: https://brickschema.org/schema/Brick#Temperature_Sensor\n",
    "      library: https://brickschema.org/schema/1.3/Brick\n",
    "      args: {\"name\": \"temp\"}\n",
    "    - template: https://brickschema.org/schema/Brick#Temperature_Setpoint\n",
    "      library: https://brickschema.org/schema/1.3/Brick\n",
    "      args: {\"name\": \"sp\"}\n",
    "    - template: https://brickschema.org/schema/Brick#CO2_Sensor\n",
    "      library: https://brickschema.org/schema/1.3/Brick\n",
    "      args: {\"name\": \"co2\"}\n",
    "```"
   ]
  },
  {
   "cell_type": "code",
   "execution_count": 2,
   "id": "3cad907c-bc2c-4102-9194-d1a554e28d9d",
   "metadata": {},
   "outputs": [
    {
     "name": "stdout",
     "output_type": "stream",
     "text": [
      "Loaded library named tutorial\n"
     ]
    }
   ],
   "source": [
    "# load the template library as follows:\n",
    "# 1. create the BuildingMOTIF instance\n",
    "bm = BuildingMOTIF(\"sqlite://\") # in-memory\n",
    "BuildingMotif_tables_base.metadata.create_all(bm.engine)\n",
    "# 2a. load dependencies (otherwise buildingMOTIF will complain)\n",
    "_ = Library.load(ontology_graph=\"../libraries/brick/Brick-subset.ttl\")\n",
    "# 2b. load the library from the directory\n",
    "lib = Library.load(directory=\"./tutorial\")\n",
    "# the name of the library will be name of the directory\n",
    "print(f\"Loaded library named {lib.name}\")"
   ]
  },
  {
   "cell_type": "code",
   "execution_count": 3,
   "id": "15acb375-278b-4351-92fe-28359975d9cd",
   "metadata": {},
   "outputs": [
    {
     "name": "stdout",
     "output_type": "stream",
     "text": [
      "Template 'my-thermostat' has parameters {'name', 'room'}\n",
      "The body of the template looks like this:\n",
      "@prefix brick: <https://brickschema.org/schema/Brick#> .\n",
      "\n",
      "<urn:example/name_df73c18f> a brick:Thermostat ;\n",
      "    brick:hasLocation <urn:example/room_3236f7b1> .\n",
      "\n",
      "\n",
      "Template 'my-tstat-points' has parameters {'temp', 'co2', 'name', 'sp'}\n",
      "The body of the template looks like this:\n",
      "@prefix brick: <https://brickschema.org/schema/Brick#> .\n",
      "\n",
      "<urn:example/name_54243d8f> a brick:Thermostat ;\n",
      "    brick:hasPoint <urn:example/co2_698e8496>,\n",
      "        <urn:example/sp_82db8616>,\n",
      "        <urn:example/temp_c4583cac> .\n",
      "\n",
      "\n"
     ]
    }
   ],
   "source": [
    "# now we can traverse the library to see what's there\n",
    "for template in lib.get_templates():\n",
    "    print(f\"Template '{template.name}' has parameters {template.parameters}\")\n",
    "    print(\"The body of the template looks like this:\")\n",
    "    bindings, graph = template.fill(Namespace(\"urn:example/\"))\n",
    "    print(graph.serialize(format='turtle'))"
   ]
  },
  {
   "cell_type": "markdown",
   "id": "c91c4ab8-4fca-4681-949c-cb437e36305d",
   "metadata": {},
   "source": [
    "## Evaluating Templates\n",
    "\n",
    "Generating a graph from a template is called *evaluating* the template. Template evaluation requires a *binding* of template parameters to values. Values can be either RDF URIs or Literals.\n",
    "\n",
    "To start, grab a template from the library. This can be done by name:"
   ]
  },
  {
   "cell_type": "code",
   "execution_count": 4,
   "id": "1d51b097-76db-41e1-b261-5dacfe202fec",
   "metadata": {},
   "outputs": [
    {
     "name": "stdout",
     "output_type": "stream",
     "text": [
      "my-thermostat {'name', 'room'}\n"
     ]
    }
   ],
   "source": [
    "templ = lib.get_template_by_name(\"my-thermostat\")\n",
    "print(templ.name, templ.parameters)"
   ]
  },
  {
   "cell_type": "markdown",
   "id": "f2d86e83-36d2-466c-9cd1-4e00bc21e0bb",
   "metadata": {},
   "source": [
    "The `.fill` method will invent names for each of the parameters in the template so you can see what it looks like as a graph:"
   ]
  },
  {
   "cell_type": "code",
   "execution_count": 5,
   "id": "4744c88b-289b-4a0f-8376-57cbfd161ae6",
   "metadata": {},
   "outputs": [
    {
     "name": "stdout",
     "output_type": "stream",
     "text": [
      "BuildingMOTIF invented bindings: {'name': rdflib.term.URIRef('urn:example/name_8382dc94'), 'room': rdflib.term.URIRef('urn:example/room_7e09fdae')}\n",
      "The resulting graph looks like:\n",
      "@prefix brick: <https://brickschema.org/schema/Brick#> .\n",
      "\n",
      "<urn:example/name_8382dc94> a brick:Thermostat ;\n",
      "    brick:hasLocation <urn:example/room_7e09fdae> .\n",
      "\n",
      "\n"
     ]
    }
   ],
   "source": [
    "bindings, graph = templ.fill(Namespace(\"urn:example/\"))\n",
    "print(f\"BuildingMOTIF invented bindings: {bindings}\")\n",
    "print(\"The resulting graph looks like:\")\n",
    "print(graph.serialize(format='turtle'))"
   ]
  },
  {
   "cell_type": "markdown",
   "id": "a6e244f2-2947-4679-95c9-e4e592de7309",
   "metadata": {},
   "source": [
    "You'll notice that the dependencies do not appear in this graph. To include these, use `.inline_dependencies` to get a new template:"
   ]
  },
  {
   "cell_type": "code",
   "execution_count": 6,
   "id": "67835e05-c252-4c56-a2a7-a147bf17da9a",
   "metadata": {},
   "outputs": [
    {
     "name": "stdout",
     "output_type": "stream",
     "text": [
      "need bindings for: {'sp', 'temp', 'co2', 'name', 'room'}\n"
     ]
    }
   ],
   "source": [
    "inlined_tstat = templ.inline_dependencies()\n",
    "print(\"need bindings for:\", inlined_tstat.parameters)"
   ]
  },
  {
   "cell_type": "markdown",
   "id": "40bcb4bd-3b09-4f6f-b085-62ea3982a285",
   "metadata": {},
   "source": [
    "Usually, we want to use our own names when evaluating a template. To do this, we use the `.evaluate` method. `.evaluate()` takes a dictionary of parameter names to parameter values as an argument.\n",
    "\n",
    "We know from above that the parameters for the template are 'name', 'temp', 'room', 'sp', and 'co2'. Let's invent some entities for those. We will create a new namespace to hold those entities as well."
   ]
  },
  {
   "cell_type": "code",
   "execution_count": 7,
   "id": "0c87b5f3-0e04-4dd5-ad7a-03af019672bf",
   "metadata": {},
   "outputs": [],
   "source": [
    "# new namespace\n",
    "BLDG = Namespace(\"urn:my-building/\")\n",
    "\n",
    "bindings = {\n",
    "    'name': BLDG['tstat1'],\n",
    "    'temp': BLDG['temp_sensor1'],\n",
    "    'room': BLDG['room_410'],\n",
    "    'sp': BLDG['temp_setpoint1'],\n",
    "    'co2': BLDG['co2_sensor'],\n",
    "}\n",
    "\n",
    "graph = inlined_tstat.evaluate(bindings)"
   ]
  },
  {
   "cell_type": "markdown",
   "id": "5e3989fa-5818-4964-b2e8-cb3d8964f71d",
   "metadata": {},
   "source": [
    "If we did not provide all of the required parameters, we would get another Template back instead of a graph. Here, we *have* provided all of the required bindings so we get the graph"
   ]
  },
  {
   "cell_type": "code",
   "execution_count": 8,
   "id": "782dadfc-62fd-4353-a3f8-73cf9b599136",
   "metadata": {},
   "outputs": [],
   "source": [
    "assert isinstance(graph, Graph)"
   ]
  },
  {
   "cell_type": "code",
   "execution_count": 9,
   "id": "57f21cff-3055-49e2-bdb8-1a1177a392ad",
   "metadata": {},
   "outputs": [
    {
     "name": "stdout",
     "output_type": "stream",
     "text": [
      "@prefix brick: <https://brickschema.org/schema/Brick#> .\n",
      "\n",
      "<urn:my-building/tstat1> a brick:Thermostat ;\n",
      "    brick:hasLocation <urn:my-building/room_410> ;\n",
      "    brick:hasPoint <urn:my-building/co2_sensor>,\n",
      "        <urn:my-building/temp_sensor1>,\n",
      "        <urn:my-building/temp_setpoint1> .\n",
      "\n",
      "<urn:my-building/co2_sensor> a brick:CO2_Sensor .\n",
      "\n",
      "<urn:my-building/room_410> a brick:Room .\n",
      "\n",
      "<urn:my-building/temp_sensor1> a brick:Temperature_Sensor .\n",
      "\n",
      "<urn:my-building/temp_setpoint1> a brick:Temperature_Setpoint .\n",
      "\n",
      "\n"
     ]
    }
   ],
   "source": [
    "# we can now look at the resulting graph\n",
    "print(graph.serialize(format='turtle'))"
   ]
  },
  {
   "cell_type": "markdown",
   "id": "410cf874-6e3d-43f7-b7f8-bfa7cdddfa3c",
   "metadata": {},
   "source": [
    "## Assembling a Model\n",
    "\n",
    "We first create a model in BuildingMOTIF which will represent our building. All models need a name. It is helpful and idiomatic (but not necessary) to name the model with the namespace that will contain the entities:"
   ]
  },
  {
   "cell_type": "code",
   "execution_count": 10,
   "id": "602dc10b-ba6c-4035-8dfe-627c95eb33fd",
   "metadata": {},
   "outputs": [
    {
     "name": "stdout",
     "output_type": "stream",
     "text": [
      "@prefix owl: <http://www.w3.org/2002/07/owl#> .\n",
      "\n",
      "<urn:my-building/> a owl:Ontology .\n",
      "\n",
      "\n"
     ]
    }
   ],
   "source": [
    "bldg = Model.create(BLDG)\n",
    "print(bldg.graph.serialize()) # basic graph metadata!"
   ]
  },
  {
   "cell_type": "markdown",
   "id": "b18f9404-6504-4a50-b6bb-77f903fa77b7",
   "metadata": {},
   "source": [
    "Use the `add_graph` method to append additional metadata to the graph"
   ]
  },
  {
   "cell_type": "code",
   "execution_count": 11,
   "id": "1e2e43f6-7d8b-413b-bc46-dce540b37321",
   "metadata": {},
   "outputs": [
    {
     "name": "stdout",
     "output_type": "stream",
     "text": [
      "@prefix brick: <https://brickschema.org/schema/Brick#> .\n",
      "@prefix owl: <http://www.w3.org/2002/07/owl#> .\n",
      "\n",
      "<urn:my-building/> a owl:Ontology .\n",
      "\n",
      "<urn:my-building/tstat1> a brick:Thermostat ;\n",
      "    brick:hasLocation <urn:my-building/room_410> ;\n",
      "    brick:hasPoint <urn:my-building/co2_sensor>,\n",
      "        <urn:my-building/temp_sensor1>,\n",
      "        <urn:my-building/temp_setpoint1> .\n",
      "\n",
      "<urn:my-building/co2_sensor> a brick:CO2_Sensor .\n",
      "\n",
      "<urn:my-building/room_410> a brick:Room .\n",
      "\n",
      "<urn:my-building/temp_sensor1> a brick:Temperature_Sensor .\n",
      "\n",
      "<urn:my-building/temp_setpoint1> a brick:Temperature_Setpoint .\n",
      "\n",
      "\n"
     ]
    }
   ],
   "source": [
    "bldg.add_graph(graph) # 'graph' is the vav we created above. This is largely idempotent\n",
    "print(bldg.graph.serialize()) # now contains our tstat"
   ]
  },
  {
   "cell_type": "markdown",
   "id": "9f6e9eb0-9b81-4773-8f77-4b36b2634aa1",
   "metadata": {},
   "source": [
    "Templates allow the user to populate models using tabular input rather than by explicit graph construction. Consider the following CSV file:\n",
    "\n",
    "\n",
    "| name | room | co2 | temp | sp |\n",
    "|------|------|-----|------|----|\n",
    "|tstat2|room345|co2-345|temp-345|sp-345|\n",
    "|tstat3|room567|cow-567|temp-567|sp-567|\n",
    "\n",
    "In a few lines of Python, we can read this CSV file and use its columns to instantiate more thermostats"
   ]
  },
  {
   "cell_type": "code",
   "execution_count": 12,
   "id": "11723bf7-96b5-4acb-b240-3d6347d5ed38",
   "metadata": {},
   "outputs": [],
   "source": [
    "import csv\n",
    "with open(\"tutorial/data.csv\") as f:\n",
    "    rdr = csv.DictReader(f)\n",
    "    for line in rdr:\n",
    "        graph = inlined_tstat.evaluate({\n",
    "            k: BLDG[v] for k,v in line.items()\n",
    "        })\n",
    "        bldg.add_graph(graph)"
   ]
  },
  {
   "cell_type": "code",
   "execution_count": 13,
   "id": "0a3b5e14-e739-425e-9523-9b82c61bafb0",
   "metadata": {},
   "outputs": [
    {
     "name": "stdout",
     "output_type": "stream",
     "text": [
      "@prefix brick: <https://brickschema.org/schema/Brick#> .\n",
      "@prefix owl: <http://www.w3.org/2002/07/owl#> .\n",
      "\n",
      "<urn:my-building/> a owl:Ontology .\n",
      "\n",
      "<urn:my-building/tstat1> a brick:Thermostat ;\n",
      "    brick:hasLocation <urn:my-building/room_410> ;\n",
      "    brick:hasPoint <urn:my-building/co2_sensor>,\n",
      "        <urn:my-building/temp_sensor1>,\n",
      "        <urn:my-building/temp_setpoint1> .\n",
      "\n",
      "<urn:my-building/tstat2> a brick:Thermostat ;\n",
      "    brick:hasLocation <urn:my-building/room345> ;\n",
      "    brick:hasPoint <urn:my-building/co2-345>,\n",
      "        <urn:my-building/sp-345>,\n",
      "        <urn:my-building/temp-345> .\n",
      "\n",
      "<urn:my-building/tstat3> a brick:Thermostat ;\n",
      "    brick:hasLocation <urn:my-building/room567> ;\n",
      "    brick:hasPoint <urn:my-building/cow-567>,\n",
      "        <urn:my-building/sp-567>,\n",
      "        <urn:my-building/temp-567> .\n",
      "\n",
      "<urn:my-building/co2-345> a brick:CO2_Sensor .\n",
      "\n",
      "<urn:my-building/co2_sensor> a brick:CO2_Sensor .\n",
      "\n",
      "<urn:my-building/cow-567> a brick:CO2_Sensor .\n",
      "\n",
      "<urn:my-building/room345> a brick:Room .\n",
      "\n",
      "<urn:my-building/room567> a brick:Room .\n",
      "\n",
      "<urn:my-building/room_410> a brick:Room .\n",
      "\n",
      "<urn:my-building/sp-345> a brick:Temperature_Setpoint .\n",
      "\n",
      "<urn:my-building/sp-567> a brick:Temperature_Setpoint .\n",
      "\n",
      "<urn:my-building/temp-345> a brick:Temperature_Sensor .\n",
      "\n",
      "<urn:my-building/temp-567> a brick:Temperature_Sensor .\n",
      "\n",
      "<urn:my-building/temp_sensor1> a brick:Temperature_Sensor .\n",
      "\n",
      "<urn:my-building/temp_setpoint1> a brick:Temperature_Setpoint .\n",
      "\n",
      "\n"
     ]
    }
   ],
   "source": [
    "print(bldg.graph.serialize()) # now contains our tstats"
   ]
  },
  {
   "cell_type": "markdown",
   "id": "656d74ee-5e0a-4b1f-b6cd-4d26fe880779",
   "metadata": {},
   "source": [
    "Validate the model against the shapes in the `tutorial` library:"
   ]
  },
  {
   "cell_type": "code",
   "execution_count": 14,
   "id": "13ce655d-2462-41b2-8920-1bf9ae494cac",
   "metadata": {
    "tags": []
   },
   "outputs": [
    {
     "data": {
      "text/plain": [
       "False"
      ]
     },
     "execution_count": 14,
     "metadata": {},
     "output_type": "execute_result"
    }
   ],
   "source": [
    "bldg.validate([lib.get_shape_collection()])"
   ]
  }
 ],
 "metadata": {
  "kernelspec": {
   "display_name": "Python 3 (ipykernel)",
   "language": "python",
   "name": "python3"
  },
  "language_info": {
   "codemirror_mode": {
    "name": "ipython",
    "version": 3
   },
   "file_extension": ".py",
   "mimetype": "text/x-python",
   "name": "python",
   "nbconvert_exporter": "python",
   "pygments_lexer": "ipython3",
   "version": "3.9.9"
  }
 },
 "nbformat": 4,
 "nbformat_minor": 5
}
