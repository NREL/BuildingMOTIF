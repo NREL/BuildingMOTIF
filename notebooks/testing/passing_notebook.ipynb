{
 "cells": [
  {
   "cell_type": "code",
   "execution_count": 1,
   "metadata": {},
   "outputs": [],
   "source": [
    "assert(1 == 1)"
   ]
  }
 ],
 "metadata": {
  "interpreter": {
   "hash": "b5a241552a8e14a7239911e4299caf4b82924d94a1ea2b38bffe30217a98cf13"
  },
  "kernelspec": {
   "display_name": "Python 3.9.5 ('buildingmotif-Eohj1MaR-py3.9')",
   "language": "python",
   "name": "python3"
  },
  "language_info": {
   "codemirror_mode": {
    "name": "ipython",
    "version": 3
   },
   "file_extension": ".py",
   "mimetype": "text/x-python",
   "name": "python",
   "nbconvert_exporter": "python",
   "pygments_lexer": "ipython3",
   "version": "3.9.5"
  },
  "orig_nbformat": 4
 },
 "nbformat": 4,
 "nbformat_minor": 2
}
