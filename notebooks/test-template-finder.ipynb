{
 "cells": [
  {
   "cell_type": "code",
   "execution_count": null,
   "id": "41c3ccec-b09d-4bb4-9863-6fe871cb61a3",
   "metadata": {},
   "outputs": [],
   "source": [
    "from pathlib import Path\n",
    "import json\n",
    "import os\n",
    "from pprint import pprint\n",
    "from rdflib import RDF, BNode, Graph, Literal, URIRef\n",
    "from scipy.optimize import linear_sum_assignment\n",
    "\n",
    "from buildingmotif.namespaces import BRICK, BACNET\n",
    "from buildingmotif import BuildingMOTIF\n",
    "from buildingmotif.dataclasses import Library\n",
    "from buildingmotif.template_finder.template_finder import calculate_template_cost, get_templates_param_classes\n",
    "from buildingmotif.template_finder.calculate_cost import calculate_cost, create_cost_matrix\n",
    "\n",
    "\n",
    "\n",
    "PROJECT_DIR = Path(os.getcwd()).resolve().parent"
   ]
  },
  {
   "cell_type": "code",
   "execution_count": null,
   "id": "04d8b4a3-0a35-4d22-9763-582f4832da17",
   "metadata": {},
   "outputs": [],
   "source": [
    "bm = BuildingMOTIF(\"sqlite://\")\n",
    "\n",
    "Library.load(ontology_graph=\"https://github.com/BrickSchema/Brick/releases/download/nightly/Brick.ttl\")\n",
    "ground_truth = Library.load(ontology_graph=str(PROJECT_DIR / \"gabes_points\" / \"sprucehall.ttl\"))\n",
    "equiment_templates = Library.load(directory=str(PROJECT_DIR / \"gabes_points\" / \"equiment_templates\"))\n",
    "templates = equiment_templates.get_templates()\n",
    "\n",
    "templates"
   ]
  },
  {
   "cell_type": "code",
   "execution_count": null,
   "id": "e89d0f52-2b39-4d7e-bf21-e0ff5adf16c4",
   "metadata": {},
   "outputs": [],
   "source": [
    "with open(PROJECT_DIR / \"gabes_points\" / \"tokens.json\") as f:\n",
    "    labels_and_tokens = json.load(f)\n",
    "\n",
    "pprint(labels_and_tokens)"
   ]
  },
  {
   "cell_type": "code",
   "execution_count": null,
   "id": "091c8f1f-5900-482d-8f12-e37fd892bfa7",
   "metadata": {},
   "outputs": [],
   "source": [
    "example = [URIRef(x[\"type\"]) for x in labels_and_tokens[0][\"tokens\"]]\n",
    "\n",
    "\n",
    "for label_and_tokens in labels_and_tokens:\n",
    "    label, tokens = label_and_tokens[\"label\"], label_and_tokens[\"tokens\"]\n",
    "    print(f\"=== {label} ===\")\n",
    "    tokens = [URIRef(x[\"type\"]) for x in tokens]\n",
    "    \n",
    "    for template in templates:\n",
    "        template.inline_dependencies()\n",
    "        print(f\"--- {template.name} ---\")\n",
    "        cost = calculate_template_cost(tokens, template)\n",
    "        print(f\"cost: {cost}\")\n",
    "        print()\n",
    "\n",
    "    print()\n"
   ]
  },
  {
   "cell_type": "code",
   "execution_count": null,
   "id": "50bcaf80-6415-4cb1-9825-cf13a2496f19",
   "metadata": {},
   "outputs": [],
   "source": []
  }
 ],
 "metadata": {
  "kernelspec": {
   "display_name": "Python 3 (ipykernel)",
   "language": "python",
   "name": "python3"
  },
  "language_info": {
   "codemirror_mode": {
    "name": "ipython",
    "version": 3
   },
   "file_extension": ".py",
   "mimetype": "text/x-python",
   "name": "python",
   "nbconvert_exporter": "python",
   "pygments_lexer": "ipython3",
   "version": "3.9.9"
  }
 },
 "nbformat": 4,
 "nbformat_minor": 5
}
