{
 "cells": [
  {
   "cell_type": "code",
   "execution_count": 1,
   "id": "7385ef36-ac6c-46e1-ad5b-45fc75137019",
   "metadata": {},
   "outputs": [
    {
     "name": "stdout",
     "output_type": "stream",
     "text": [
      "2022-12-09 17:56:39,599 - WARNING | Changed log level of file to ERROR\n",
      "2022-12-09 17:56:39,601 - WARNING | Changed log level of console stdout to ERROR\n",
      "2022-12-09 17:56:39,602 - WARNING | Changed log level of file to ERROR\n",
      "2022-12-09 17:56:39,603 - WARNING | Changed log level of console stdout to ERROR\n",
      "2022-12-09 17:56:39,603 - WARNING | Changed log level of file to ERROR\n",
      "2022-12-09 17:56:39,604 - WARNING | Changed log level of console stdout to ERROR\n",
      "2022-12-09 17:56:39,605 - WARNING | Changed log level of file to ERROR\n",
      "2022-12-09 17:56:39,606 - WARNING | Changed log level of console stdout to ERROR\n",
      "2022-12-09 17:56:39,607 - WARNING | Changed log level of file to ERROR\n",
      "2022-12-09 17:56:39,608 - WARNING | Changed log level of console stdout to ERROR\n",
      "2022-12-09 17:56:39,609 - WARNING | Changed log level of file to ERROR\n",
      "2022-12-09 17:56:39,610 - WARNING | Changed log level of console stdout to ERROR\n",
      "2022-12-09 17:56:39,611 - WARNING | Changed log level of file to ERROR\n",
      "2022-12-09 17:56:39,612 - WARNING | Changed log level of console stdout to ERROR\n",
      "2022-12-09 17:56:39,613 - WARNING | Changed log level of file to ERROR\n",
      "2022-12-09 17:56:39,613 - WARNING | Changed log level of console stdout to ERROR\n",
      "2022-12-09 17:56:39,615 - WARNING | Changed log level of file to ERROR\n",
      "2022-12-09 17:56:39,615 - WARNING | Changed log level of console stdout to ERROR\n",
      "2022-12-09 17:56:39,616 - WARNING | Changed log level of file to ERROR\n",
      "2022-12-09 17:56:39,618 - WARNING | Changed log level of console stdout to ERROR\n",
      "2022-12-09 17:56:39,618 - WARNING | Changed log level of file to ERROR\n",
      "2022-12-09 17:56:39,619 - WARNING | Changed log level of console stdout to ERROR\n",
      "2022-12-09 17:56:39,620 - WARNING | Changed log level of file to ERROR\n",
      "2022-12-09 17:56:39,621 - WARNING | Changed log level of console stdout to ERROR\n",
      "2022-12-09 17:56:39,622 - WARNING | Changed log level of file to ERROR\n",
      "2022-12-09 17:56:39,623 - WARNING | Changed log level of console stdout to ERROR\n",
      "2022-12-09 17:56:39,623 - WARNING | Changed log level of file to ERROR\n",
      "2022-12-09 17:56:39,624 - WARNING | Changed log level of console stdout to ERROR\n",
      "2022-12-09 17:56:39,625 - WARNING | Changed log level of file to ERROR\n",
      "2022-12-09 17:56:39,625 - WARNING | Changed log level of console stdout to ERROR\n",
      "2022-12-09 17:56:39,627 - WARNING | Changed log level of file to ERROR\n",
      "2022-12-09 17:56:39,628 - WARNING | Changed log level of console stdout to ERROR\n",
      "2022-12-09 17:56:39,628 - WARNING | Changed log level of file to ERROR\n",
      "2022-12-09 17:56:39,629 - WARNING | Changed log level of console stdout to ERROR\n",
      "2022-12-09 17:56:39,630 - WARNING | Changed log level of file to ERROR\n",
      "2022-12-09 17:56:39,631 - WARNING | Changed log level of console stdout to ERROR\n",
      "2022-12-09 17:56:39,631 - WARNING | Changed log level of file to ERROR\n",
      "2022-12-09 17:56:39,632 - WARNING | Changed log level of console stdout to ERROR\n",
      "2022-12-09 17:56:39,632 - WARNING | Changed log level of file to ERROR\n",
      "2022-12-09 17:56:39,633 - WARNING | Changed log level of console stdout to ERROR\n",
      "2022-12-09 17:56:39,634 - WARNING | Changed log level of file to ERROR\n",
      "2022-12-09 17:56:39,634 - WARNING | Changed log level of console stdout to ERROR\n",
      "2022-12-09 17:56:39,635 - WARNING | Changed log level of file to ERROR\n",
      "2022-12-09 17:56:39,635 - WARNING | Changed log level of console stdout to ERROR\n",
      "2022-12-09 17:56:39,636 - WARNING | Changed log level of file to ERROR\n",
      "2022-12-09 17:56:39,637 - WARNING | Changed log level of console stdout to ERROR\n",
      "2022-12-09 17:56:39,640 - WARNING | Changed log level of file to ERROR\n",
      "2022-12-09 17:56:39,640 - WARNING | Changed log level of console stdout to ERROR\n",
      "2022-12-09 17:56:39,642 - WARNING | Changed log level of file to ERROR\n"
     ]
    }
   ],
   "source": [
    "from rdflib import Namespace, Graph\n",
    "from buildingmotif import BuildingMOTIF\n",
    "from buildingmotif.namespaces import BRICK\n",
    "from buildingmotif.dataclasses import Model, Library\n",
    "from buildingmotif.ingresses.xlsx import XLSXIngress\n",
    "from buildingmotif.ingresses import TemplateIngress, Record"
    
   ]
  },
  {
   "cell_type": "code",
   "execution_count": 2,
   "id": "4ab8e1ee-ff06-4357-8c9f-5b62c898fb8a",
   "metadata": {},
   "outputs": [],
   "source": [
    "bm = BuildingMOTIF(\"sqlite://\") # in-memory"
   ]
  },
  {
   "cell_type": "code",
   "execution_count": 3,
   "id": "42d77bb4-6c5f-43cd-8d85-b8f6002e67ee",
   "metadata": {},
   "outputs": [],
   "source": [
    "BLDG = Namespace(\"urn:my_site/\")\n",
    "model = Model.create(BLDG)\n",
    "_ = Library.load(ontology_graph=\"../libraries/brick/Brick-subset.ttl\")\n",
    "lib = Library.load(directory=\"tutorial\")"
   ]
  },
  {
   "cell_type": "code",
   "execution_count": 4,
   "id": "6d2748ce-f1b8-420e-bd59-0c2c29992a8b",
   "metadata": {},
   "outputs": [],
   "source": [
    "tstat_templ = lib.get_template_by_name('my-thermostat')"
   ]
  },
  {
   "cell_type": "code",
   "execution_count": 5,
   "id": "3c5cddc3-c41f-4d10-aeb5-9d2a368a5b33",
   "metadata": {},
   "outputs": [],
   "source": [
    "def mapper(key: str) -> str:\n",
    "    return {\n",
    "        \"tstat\": \"name\",\n",
    "        \"name\": \"room\",\n",
    "    }.get(key)"
   ]
  },
  {
   "cell_type": "code",
   "execution_count": 6,
   "id": "6bd443c2-ee0b-46d3-8cb5-b24c884ffe80",
   "metadata": {},
   "outputs": [],
   "source": [
    "xlsx = XLSXIngress(\"tutorial/thermostats.xlsx\")\n",
    "ingress = TemplateIngress(tstat_templ, mapper, xlsx)"
   ]
  },
  {
   "cell_type": "code",
   "execution_count": 7,
   "id": "036625bc-f699-4df9-afe7-2fb449b211fd",
   "metadata": {},
   "outputs": [],
   "source": [
    "model.add_graph(ingress.graph(BLDG))"
   ]
  },
  {
   "cell_type": "code",
   "execution_count": 8,
   "id": "2a4ee9c4-e138-46c0-a21b-8c2aad2f4b31",
   "metadata": {},
   "outputs": [
    {
     "name": "stdout",
     "output_type": "stream",
     "text": [
      "@prefix brick: <https://brickschema.org/schema/Brick#> .\n",
      "@prefix owl: <http://www.w3.org/2002/07/owl#> .\n",
      "\n",
      "<urn:my_site/> a owl:Ontology .\n",
      "\n",
      "<urn:my_site/Thermostat-1> a brick:Thermostat ;\n",
      "    brick:hasLocation <urn:my_site/R410> .\n",
      "\n",
      "<urn:my_site/Thermostat-2> a brick:Thermostat ;\n",
      "    brick:hasLocation <urn:my_site/R411> .\n",
      "\n",
      "\n"
     ]
    }
   ],
   "source": [
    "print(model.graph.serialize())"
   ]
  },
  {
   "cell_type": "code",
   "execution_count": null,
   "id": "38e5cb35-c423-4e0d-a778-f3e3fdef6b8b",
   "metadata": {},
   "outputs": [],
   "source": []
  }
 ],
 "metadata": {
  "kernelspec": {
   "display_name": "Python 3 (ipykernel)",
   "language": "python",
   "name": "python3"
  },
  "language_info": {
   "codemirror_mode": {
    "name": "ipython",
    "version": 3
   },
   "file_extension": ".py",
   "mimetype": "text/x-python",
   "name": "python",
   "nbconvert_exporter": "python",
   "pygments_lexer": "ipython3",
   "version": "3.9.12"
  }
 },
 "nbformat": 4,
 "nbformat_minor": 5
}
