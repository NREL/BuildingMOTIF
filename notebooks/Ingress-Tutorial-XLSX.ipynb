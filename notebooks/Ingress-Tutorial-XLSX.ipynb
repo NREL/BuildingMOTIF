{
 "cells": [
  {
   "cell_type": "code",
   "execution_count": 1,
   "id": "7385ef36-ac6c-46e1-ad5b-45fc75137019",
   "metadata": {
    "execution": {
     "iopub.execute_input": "2024-07-03T00:17:52.651666Z",
     "iopub.status.busy": "2024-07-03T00:17:52.651370Z",
     "iopub.status.idle": "2024-07-03T00:17:53.194436Z",
     "shell.execute_reply": "2024-07-03T00:17:53.194009Z"
    }
   },
   "outputs": [],
   "source": [
    "from rdflib import Namespace, Graph\n",
    "from buildingmotif import BuildingMOTIF\n",
    "from buildingmotif.namespaces import BRICK\n",
    "from buildingmotif.dataclasses import Model, Library\n",
    "from buildingmotif.ingresses.xlsx import XLSXIngress\n",
    "from buildingmotif.ingresses import TemplateIngress, Record"
   ]
  },
  {
   "cell_type": "code",
   "execution_count": 2,
   "id": "4ab8e1ee-ff06-4357-8c9f-5b62c898fb8a",
   "metadata": {
    "execution": {
     "iopub.execute_input": "2024-07-03T00:17:53.196734Z",
     "iopub.status.busy": "2024-07-03T00:17:53.196571Z",
     "iopub.status.idle": "2024-07-03T00:17:53.221068Z",
     "shell.execute_reply": "2024-07-03T00:17:53.220699Z"
    }
   },
   "outputs": [],
   "source": [
    "bm = BuildingMOTIF(\"sqlite://\") # in-memory"
   ]
  },
  {
   "cell_type": "code",
   "execution_count": 3,
   "id": "42d77bb4-6c5f-43cd-8d85-b8f6002e67ee",
   "metadata": {
    "execution": {
     "iopub.execute_input": "2024-07-03T00:17:53.223129Z",
     "iopub.status.busy": "2024-07-03T00:17:53.222989Z",
     "iopub.status.idle": "2024-07-03T00:18:29.026522Z",
     "shell.execute_reply": "2024-07-03T00:18:29.026068Z"
    }
   },
   "outputs": [
    {
     "name": "stderr",
     "output_type": "stream",
     "text": [
      "/Users/gabe/Library/Caches/pypoetry/virtualenvs/buildingmotif-ozGZrh9J-py3.11/lib/python3.11/site-packages/pyshacl/extras/__init__.py:46: Warning: Extra \"js\" is not satisfied because requirement pyduktape2 is not installed.\n",
      "  warn(Warning(f\"Extra \\\"{extra_name}\\\" is not satisfied because requirement {req} is not installed.\"))\n"
     ]
    },
    {
     "name": "stderr",
     "output_type": "stream",
     "text": [
      "2024-07-02 18:18:24,978 | root |  WARNING: An ontology could not resolve a dependency on http://qudt.org/2.1/schema/facade/qudt (No row was found when one was required). Check this is loaded into BuildingMOTIF\n"
     ]
    },
    {
     "name": "stderr",
     "output_type": "stream",
     "text": [
      "2024-07-02 18:18:24,979 | root |  WARNING: An ontology could not resolve a dependency on http://data.ashrae.org/bacnet/2020 (No row was found when one was required). Check this is loaded into BuildingMOTIF\n"
     ]
    },
    {
     "name": "stderr",
     "output_type": "stream",
     "text": [
      "2024-07-02 18:18:24,979 | root |  WARNING: An ontology could not resolve a dependency on http://qudt.org/2.1/vocab/unit (No row was found when one was required). Check this is loaded into BuildingMOTIF\n"
     ]
    },
    {
     "name": "stderr",
     "output_type": "stream",
     "text": [
      "2024-07-02 18:18:24,980 | root |  WARNING: An ontology could not resolve a dependency on https://w3id.org/rec/recimports (No row was found when one was required). Check this is loaded into BuildingMOTIF\n"
     ]
    },
    {
     "name": "stderr",
     "output_type": "stream",
     "text": [
      "2024-07-02 18:18:24,981 | root |  WARNING: An ontology could not resolve a dependency on http://qudt.org/2.1/vocab/quantitykind (No row was found when one was required). Check this is loaded into BuildingMOTIF\n"
     ]
    },
    {
     "name": "stderr",
     "output_type": "stream",
     "text": [
      "2024-07-02 18:18:24,981 | root |  WARNING: An ontology could not resolve a dependency on http://qudt.org/2.1/collection/usertest (No row was found when one was required). Check this is loaded into BuildingMOTIF\n"
     ]
    },
    {
     "name": "stderr",
     "output_type": "stream",
     "text": [
      "2024-07-02 18:18:24,982 | root |  WARNING: An ontology could not resolve a dependency on http://qudt.org/2.1/schema/shacl/qudt (No row was found when one was required). Check this is loaded into BuildingMOTIF\n"
     ]
    },
    {
     "name": "stderr",
     "output_type": "stream",
     "text": [
      "2024-07-02 18:18:24,982 | root |  WARNING: An ontology could not resolve a dependency on http://qudt.org/2.1/vocab/dimensionvector (No row was found when one was required). Check this is loaded into BuildingMOTIF\n"
     ]
    },
    {
     "name": "stderr",
     "output_type": "stream",
     "text": [
      "2024-07-02 18:18:24,983 | root |  WARNING: An ontology could not resolve a dependency on http://qudt.org/2.1/vocab/prefix (No row was found when one was required). Check this is loaded into BuildingMOTIF\n"
     ]
    },
    {
     "name": "stderr",
     "output_type": "stream",
     "text": [
      "2024-07-02 18:18:24,984 | root |  WARNING: An ontology could not resolve a dependency on https://brickschema.org/schema/Brick/ref (No row was found when one was required). Check this is loaded into BuildingMOTIF\n"
     ]
    },
    {
     "name": "stderr",
     "output_type": "stream",
     "text": [
      "2024-07-02 18:18:24,984 | root |  WARNING: An ontology could not resolve a dependency on http://qudt.org/2.1/vocab/sou (No row was found when one was required). Check this is loaded into BuildingMOTIF\n"
     ]
    },
    {
     "name": "stderr",
     "output_type": "stream",
     "text": [
      "2024-07-02 18:18:24,985 | root |  WARNING: An ontology could not resolve a dependency on http://qudt.org/2.1/schema/shacl/overlay/qudt (No row was found when one was required). Check this is loaded into BuildingMOTIF\n"
     ]
    },
    {
     "name": "stderr",
     "output_type": "stream",
     "text": [
      "2024-07-02 18:18:27,089 | root |  WARNING: Warning: could not find dependee nf7e35e2a327349b7b9fb6d22b9ca7e21b7647 in libraries []\n"
     ]
    },
    {
     "name": "stderr",
     "output_type": "stream",
     "text": [
      "2024-07-02 18:18:27,092 | root |  WARNING: Warning: could not find dependee nf7e35e2a327349b7b9fb6d22b9ca7e21b7645 in libraries []\n"
     ]
    },
    {
     "name": "stderr",
     "output_type": "stream",
     "text": [
      "2024-07-02 18:18:27,095 | root |  WARNING: Warning: could not find dependee nf7e35e2a327349b7b9fb6d22b9ca7e21b7653 in libraries []\n"
     ]
    },
    {
     "name": "stderr",
     "output_type": "stream",
     "text": [
      "2024-07-02 18:18:27,098 | root |  WARNING: Warning: could not find dependee nf7e35e2a327349b7b9fb6d22b9ca7e21b7651 in libraries []\n"
     ]
    },
    {
     "name": "stderr",
     "output_type": "stream",
     "text": [
      "2024-07-02 18:18:27,101 | root |  WARNING: Warning: could not find dependee nf7e35e2a327349b7b9fb6d22b9ca7e21b7649 in libraries []\n"
     ]
    },
    {
     "name": "stderr",
     "output_type": "stream",
     "text": [
      "2024-07-02 18:18:27,105 | root |  WARNING: Warning: could not find dependee nf7e35e2a327349b7b9fb6d22b9ca7e21b7729 in libraries []\n"
     ]
    },
    {
     "name": "stderr",
     "output_type": "stream",
     "text": [
      "2024-07-02 18:18:27,108 | root |  WARNING: Warning: could not find dependee nf7e35e2a327349b7b9fb6d22b9ca7e21b7727 in libraries []\n"
     ]
    },
    {
     "name": "stderr",
     "output_type": "stream",
     "text": [
      "2024-07-02 18:18:27,111 | root |  WARNING: Warning: could not find dependee nf7e35e2a327349b7b9fb6d22b9ca7e21b7725 in libraries []\n"
     ]
    },
    {
     "name": "stderr",
     "output_type": "stream",
     "text": [
      "2024-07-02 18:18:27,113 | root |  WARNING: Warning: could not find dependee nf7e35e2a327349b7b9fb6d22b9ca7e21b7721 in libraries []\n"
     ]
    },
    {
     "name": "stderr",
     "output_type": "stream",
     "text": [
      "2024-07-02 18:18:27,116 | root |  WARNING: Warning: could not find dependee nf7e35e2a327349b7b9fb6d22b9ca7e21b7723 in libraries []\n"
     ]
    },
    {
     "name": "stderr",
     "output_type": "stream",
     "text": [
      "2024-07-02 18:18:27,119 | root |  WARNING: Warning: could not find dependee nf7e35e2a327349b7b9fb6d22b9ca7e21b7634 in libraries []\n"
     ]
    },
    {
     "name": "stderr",
     "output_type": "stream",
     "text": [
      "2024-07-02 18:18:27,123 | root |  WARNING: Warning: could not find dependee nf7e35e2a327349b7b9fb6d22b9ca7e21b7628 in libraries []\n"
     ]
    },
    {
     "name": "stderr",
     "output_type": "stream",
     "text": [
      "2024-07-02 18:18:27,126 | root |  WARNING: Warning: could not find dependee nf7e35e2a327349b7b9fb6d22b9ca7e21b7636 in libraries []\n"
     ]
    },
    {
     "name": "stderr",
     "output_type": "stream",
     "text": [
      "2024-07-02 18:18:27,129 | root |  WARNING: Warning: could not find dependee nf7e35e2a327349b7b9fb6d22b9ca7e21b7630 in libraries []\n"
     ]
    },
    {
     "name": "stderr",
     "output_type": "stream",
     "text": [
      "2024-07-02 18:18:27,132 | root |  WARNING: Warning: could not find dependee nf7e35e2a327349b7b9fb6d22b9ca7e21b7632 in libraries []\n"
     ]
    },
    {
     "name": "stderr",
     "output_type": "stream",
     "text": [
      "2024-07-02 18:18:27,135 | root |  WARNING: Warning: could not find dependee nf7e35e2a327349b7b9fb6d22b9ca7e21b7638 in libraries []\n"
     ]
    },
    {
     "name": "stderr",
     "output_type": "stream",
     "text": [
      "2024-07-02 18:18:27,138 | root |  WARNING: Warning: could not find dependee nf7e35e2a327349b7b9fb6d22b9ca7e21b7585 in libraries []\n"
     ]
    },
    {
     "name": "stderr",
     "output_type": "stream",
     "text": [
      "2024-07-02 18:18:27,141 | root |  WARNING: Warning: could not find dependee nf7e35e2a327349b7b9fb6d22b9ca7e21b7579 in libraries []\n"
     ]
    },
    {
     "name": "stderr",
     "output_type": "stream",
     "text": [
      "2024-07-02 18:18:27,144 | root |  WARNING: Warning: could not find dependee nf7e35e2a327349b7b9fb6d22b9ca7e21b7587 in libraries []\n"
     ]
    },
    {
     "name": "stderr",
     "output_type": "stream",
     "text": [
      "2024-07-02 18:18:27,147 | root |  WARNING: Warning: could not find dependee nf7e35e2a327349b7b9fb6d22b9ca7e21b7583 in libraries []\n"
     ]
    },
    {
     "name": "stderr",
     "output_type": "stream",
     "text": [
      "2024-07-02 18:18:27,149 | root |  WARNING: Warning: could not find dependee nf7e35e2a327349b7b9fb6d22b9ca7e21b7589 in libraries []\n"
     ]
    },
    {
     "name": "stderr",
     "output_type": "stream",
     "text": [
      "2024-07-02 18:18:27,152 | root |  WARNING: Warning: could not find dependee nf7e35e2a327349b7b9fb6d22b9ca7e21b7581 in libraries []\n"
     ]
    }
   ],
   "source": [
    "BLDG = Namespace(\"urn:my_site/\")\n",
    "model = Model.create(BLDG)\n",
    "_ = Library.load(ontology_graph=\"../libraries/brick/Brick.ttl\")\n",
    "lib = Library.load(directory=\"tutorial\")"
   ]
  },
  {
   "cell_type": "code",
   "execution_count": 4,
   "id": "6d2748ce-f1b8-420e-bd59-0c2c29992a8b",
   "metadata": {
    "execution": {
     "iopub.execute_input": "2024-07-03T00:18:29.029778Z",
     "iopub.status.busy": "2024-07-03T00:18:29.029482Z",
     "iopub.status.idle": "2024-07-03T00:18:29.033285Z",
     "shell.execute_reply": "2024-07-03T00:18:29.032815Z"
    }
   },
   "outputs": [],
   "source": [
    "tstat_templ = lib.get_template_by_name('my-thermostat')"
   ]
  },
  {
   "cell_type": "code",
   "execution_count": 5,
   "id": "3c5cddc3-c41f-4d10-aeb5-9d2a368a5b33",
   "metadata": {
    "execution": {
     "iopub.execute_input": "2024-07-03T00:18:29.035429Z",
     "iopub.status.busy": "2024-07-03T00:18:29.035289Z",
     "iopub.status.idle": "2024-07-03T00:18:29.037449Z",
     "shell.execute_reply": "2024-07-03T00:18:29.037165Z"
    }
   },
   "outputs": [],
   "source": [
    "def mapper(key: str) -> str:\n",
    "    return {\n",
    "        \"tstat\": \"name\",\n",
    "        \"name\": \"room\",\n",
    "    }.get(key)"
   ]
  },
  {
   "cell_type": "code",
   "execution_count": 6,
   "id": "6bd443c2-ee0b-46d3-8cb5-b24c884ffe80",
   "metadata": {
    "execution": {
     "iopub.execute_input": "2024-07-03T00:18:29.039368Z",
     "iopub.status.busy": "2024-07-03T00:18:29.039196Z",
     "iopub.status.idle": "2024-07-03T00:18:29.041400Z",
     "shell.execute_reply": "2024-07-03T00:18:29.041066Z"
    }
   },
   "outputs": [],
   "source": [
    "xlsx = XLSXIngress(\"tutorial/thermostats.xlsx\")\n",
    "ingress = TemplateIngress(tstat_templ, mapper, xlsx)"
   ]
  },
  {
   "cell_type": "code",
   "execution_count": 7,
   "id": "036625bc-f699-4df9-afe7-2fb449b211fd",
   "metadata": {
    "execution": {
     "iopub.execute_input": "2024-07-03T00:18:29.043225Z",
     "iopub.status.busy": "2024-07-03T00:18:29.043093Z",
     "iopub.status.idle": "2024-07-03T00:18:29.052170Z",
     "shell.execute_reply": "2024-07-03T00:18:29.051864Z"
    }
   },
   "outputs": [],
   "source": [
    "model.add_graph(ingress.graph(BLDG))"
   ]
  },
  {
   "cell_type": "code",
   "execution_count": 8,
   "id": "2a4ee9c4-e138-46c0-a21b-8c2aad2f4b31",
   "metadata": {
    "execution": {
     "iopub.execute_input": "2024-07-03T00:18:29.053950Z",
     "iopub.status.busy": "2024-07-03T00:18:29.053819Z",
     "iopub.status.idle": "2024-07-03T00:18:29.071956Z",
     "shell.execute_reply": "2024-07-03T00:18:29.071596Z"
    }
   },
   "outputs": [
    {
     "name": "stdout",
     "output_type": "stream",
     "text": [
      "@prefix brick: <https://brickschema.org/schema/Brick#> .\n",
      "@prefix owl: <http://www.w3.org/2002/07/owl#> .\n",
      "\n",
      "<urn:my_site/> a owl:Ontology .\n",
      "\n",
      "<urn:my_site/Thermostat-1> a brick:Thermostat ;\n",
      "    brick:hasLocation <urn:my_site/R410> .\n",
      "\n",
      "<urn:my_site/Thermostat-2> a brick:Thermostat ;\n",
      "    brick:hasLocation <urn:my_site/R411> .\n",
      "\n",
      "\n"
     ]
    }
   ],
   "source": [
    "print(model.graph.serialize())"
   ]
  },
  {
   "cell_type": "code",
   "execution_count": null,
   "id": "38e5cb35-c423-4e0d-a778-f3e3fdef6b8b",
   "metadata": {},
   "outputs": [],
   "source": []
  }
 ],
 "metadata": {
  "kernelspec": {
   "display_name": "Python 3 (ipykernel)",
   "language": "python",
   "name": "python3"
  },
  "language_info": {
   "codemirror_mode": {
    "name": "ipython",
    "version": 3
   },
   "file_extension": ".py",
   "mimetype": "text/x-python",
   "name": "python",
   "nbconvert_exporter": "python",
   "pygments_lexer": "ipython3",
   "version": "3.11.9"
  }
 },
 "nbformat": 4,
 "nbformat_minor": 5
}
