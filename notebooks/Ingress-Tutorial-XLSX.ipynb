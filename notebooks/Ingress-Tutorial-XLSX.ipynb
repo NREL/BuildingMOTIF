{
 "cells": [
  {
   "cell_type": "code",
   "execution_count": null,
   "id": "7385ef36-ac6c-46e1-ad5b-45fc75137019",
   "metadata": {
    "execution": {
     "iopub.execute_input": "2024-07-03T00:17:52.651666Z",
     "iopub.status.busy": "2024-07-03T00:17:52.651370Z",
     "iopub.status.idle": "2024-07-03T00:17:53.194436Z",
     "shell.execute_reply": "2024-07-03T00:17:53.194009Z"
    }
   },
   "outputs": [],
   "source": [
    "from rdflib import Namespace, Graph\n",
    "from buildingmotif import BuildingMOTIF\n",
    "from buildingmotif.namespaces import BRICK\n",
    "from buildingmotif.dataclasses import Model, Library\n",
    "from buildingmotif.ingresses.xlsx import XLSXIngress\n",
    "from buildingmotif.ingresses import TemplateIngress, Record"
   ]
  },
  {
   "cell_type": "code",
   "execution_count": null,
   "id": "4ab8e1ee-ff06-4357-8c9f-5b62c898fb8a",
   "metadata": {
    "execution": {
     "iopub.execute_input": "2024-07-03T00:17:53.196734Z",
     "iopub.status.busy": "2024-07-03T00:17:53.196571Z",
     "iopub.status.idle": "2024-07-03T00:17:53.221068Z",
     "shell.execute_reply": "2024-07-03T00:17:53.220699Z"
    }
   },
   "outputs": [],
   "source": [
    "bm = BuildingMOTIF(\"sqlite://\", \"topquadrant\") # in-memory"
   ]
  },
  {
   "cell_type": "code",
   "execution_count": null,
   "id": "42d77bb4-6c5f-43cd-8d85-b8f6002e67ee",
   "metadata": {
    "execution": {
     "iopub.execute_input": "2024-07-03T00:17:53.223129Z",
     "iopub.status.busy": "2024-07-03T00:17:53.222989Z",
     "iopub.status.idle": "2024-07-03T00:18:29.026522Z",
     "shell.execute_reply": "2024-07-03T00:18:29.026068Z"
    }
   },
   "outputs": [],
   "source": [
    "BLDG = Namespace(\"urn:my_site/\")\n",
    "model = Model.create(BLDG)\n",
    "_ = Library.load(ontology_graph=\"../libraries/brick/Brick.ttl\")\n",
    "lib = Library.load(directory=\"tutorial\")"
   ]
  },
  {
   "cell_type": "code",
   "execution_count": null,
   "id": "6d2748ce-f1b8-420e-bd59-0c2c29992a8b",
   "metadata": {
    "execution": {
     "iopub.execute_input": "2024-07-03T00:18:29.029778Z",
     "iopub.status.busy": "2024-07-03T00:18:29.029482Z",
     "iopub.status.idle": "2024-07-03T00:18:29.033285Z",
     "shell.execute_reply": "2024-07-03T00:18:29.032815Z"
    }
   },
   "outputs": [],
   "source": [
    "tstat_templ = lib.get_template_by_name('my-thermostat')"
   ]
  },
  {
   "cell_type": "code",
   "execution_count": null,
   "id": "3c5cddc3-c41f-4d10-aeb5-9d2a368a5b33",
   "metadata": {
    "execution": {
     "iopub.execute_input": "2024-07-03T00:18:29.035429Z",
     "iopub.status.busy": "2024-07-03T00:18:29.035289Z",
     "iopub.status.idle": "2024-07-03T00:18:29.037449Z",
     "shell.execute_reply": "2024-07-03T00:18:29.037165Z"
    }
   },
   "outputs": [],
   "source": [
    "def mapper(key: str) -> str:\n",
    "    return {\n",
    "        \"tstat\": \"name\",\n",
    "        \"name\": \"room\",\n",
    "    }.get(key)"
   ]
  },
  {
   "cell_type": "code",
   "execution_count": null,
   "id": "6bd443c2-ee0b-46d3-8cb5-b24c884ffe80",
   "metadata": {
    "execution": {
     "iopub.execute_input": "2024-07-03T00:18:29.039368Z",
     "iopub.status.busy": "2024-07-03T00:18:29.039196Z",
     "iopub.status.idle": "2024-07-03T00:18:29.041400Z",
     "shell.execute_reply": "2024-07-03T00:18:29.041066Z"
    }
   },
   "outputs": [],
   "source": [
    "xlsx = XLSXIngress(\"tutorial/thermostats.xlsx\")\n",
    "ingress = TemplateIngress(tstat_templ, mapper, xlsx)"
   ]
  },
  {
   "cell_type": "code",
   "execution_count": null,
   "id": "036625bc-f699-4df9-afe7-2fb449b211fd",
   "metadata": {
    "execution": {
     "iopub.execute_input": "2024-07-03T00:18:29.043225Z",
     "iopub.status.busy": "2024-07-03T00:18:29.043093Z",
     "iopub.status.idle": "2024-07-03T00:18:29.052170Z",
     "shell.execute_reply": "2024-07-03T00:18:29.051864Z"
    }
   },
   "outputs": [],
   "source": [
    "model.add_graph(ingress.graph(BLDG))"
   ]
  },
  {
   "cell_type": "code",
   "execution_count": null,
   "id": "2a4ee9c4-e138-46c0-a21b-8c2aad2f4b31",
   "metadata": {
    "execution": {
     "iopub.execute_input": "2024-07-03T00:18:29.053950Z",
     "iopub.status.busy": "2024-07-03T00:18:29.053819Z",
     "iopub.status.idle": "2024-07-03T00:18:29.071956Z",
     "shell.execute_reply": "2024-07-03T00:18:29.071596Z"
    }
   },
   "outputs": [],
   "source": [
    "print(model.graph.serialize())"
   ]
  },
  {
   "cell_type": "code",
   "execution_count": null,
   "id": "38e5cb35-c423-4e0d-a778-f3e3fdef6b8b",
   "metadata": {},
   "outputs": [],
   "source": []
  }
 ],
 "metadata": {
  "kernelspec": {
   "display_name": ".venv",
   "language": "python",
   "name": "python3"
  },
  "language_info": {
   "codemirror_mode": {
    "name": "ipython",
    "version": 3
   },
   "file_extension": ".py",
   "mimetype": "text/x-python",
   "name": "python",
   "nbconvert_exporter": "python",
   "pygments_lexer": "ipython3",
   "version": "3.9.6"
  }
 },
 "nbformat": 4,
 "nbformat_minor": 5
}
