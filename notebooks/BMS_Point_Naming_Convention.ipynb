{
 "cells": [
  {
   "cell_type": "code",
   "execution_count": 1,
   "id": "ba045375-26ed-433d-bb91-707ffcb95f3b",
   "metadata": {
    "execution": {
     "iopub.execute_input": "2024-07-02T23:30:24.289207Z",
     "iopub.status.busy": "2024-07-02T23:30:24.288665Z",
     "iopub.status.idle": "2024-07-02T23:30:24.763400Z",
     "shell.execute_reply": "2024-07-02T23:30:24.763032Z"
    }
   },
   "outputs": [],
   "source": [
    "from buildingmotif.namespaces import BRICK\n",
    "from buildingmotif.label_parsing.combinators import abbreviations, sequence, string, constant, regex, many, maybe, COMMON_EQUIP_ABBREVIATIONS_BRICK\n",
    "from buildingmotif.label_parsing.tokens import Delimiter, Identifier, Constant\n",
    "from buildingmotif.label_parsing.parser import parse_list, results_to_tokens, analyze_failures, parse\n",
    "from buildingmotif.ingresses import CSVIngress, NamingConventionIngress\n",
    "from pathlib import Path"
   ]
  },
  {
   "cell_type": "code",
   "execution_count": 2,
   "id": "97cbaa63-53df-414f-8a15-5275554e4f49",
   "metadata": {
    "execution": {
     "iopub.execute_input": "2024-07-02T23:30:24.765693Z",
     "iopub.status.busy": "2024-07-02T23:30:24.765534Z",
     "iopub.status.idle": "2024-07-02T23:30:24.768908Z",
     "shell.execute_reply": "2024-07-02T23:30:24.768305Z"
    }
   },
   "outputs": [],
   "source": [
    "# define abbreviation dictionaries. Use a provided one for Equipment\n",
    "equip_abbreviations = abbreviations(COMMON_EQUIP_ABBREVIATIONS_BRICK)\n",
    "# define our own for Points (specific to this building)\n",
    "point_abbreviations = abbreviations({\n",
    "    \"ChwVlvPos\": BRICK.Position_Sensor,\n",
    "    \"HwVlvPos\": BRICK.Position_Sensor,\n",
    "    \"RoomTmp\": BRICK.Air_Temperature_Sensor,\n",
    "    \"Room_RH\": BRICK.Relative_Humidity_Sensor,\n",
    "    \"UnoccHtgSpt\": BRICK.Unoccupied_Air_Temperature_Heating_Setpoint,\n",
    "    \"OccHtgSpt\": BRICK.Occupied_Air_Temperature_Heating_Setpoint,\n",
    "    \"UnoccClgSpt\": BRICK.Unoccupied_Air_Temperature_Cooling_Setpoint,\n",
    "    \"OccClgSpt\": BRICK.Occupied_Air_Temperature_Cooling_Setpoint,\n",
    "    \"SaTmp\": BRICK.Supply_Air_Temperature_Sensor,\n",
    "    \"OccCmd\": BRICK.Occupancy_Command,\n",
    "    \"EffOcc\": BRICK.Occupancy_Status,\n",
    "})"
   ]
  },
  {
   "cell_type": "code",
   "execution_count": 3,
   "id": "960cee28-f696-4b0d-afa5-f349a0b14c2d",
   "metadata": {
    "execution": {
     "iopub.execute_input": "2024-07-02T23:30:24.770684Z",
     "iopub.status.busy": "2024-07-02T23:30:24.770544Z",
     "iopub.status.idle": "2024-07-02T23:30:24.773736Z",
     "shell.execute_reply": "2024-07-02T23:30:24.773387Z"
    }
   },
   "outputs": [],
   "source": [
    "# encode the naming convention in a function\n",
    "def custom_parser(target):\n",
    "    return sequence(\n",
    "        string(\":\", Delimiter),\n",
    "        # regex until the underscore\n",
    "        constant(Constant(BRICK.Building)),\n",
    "        regex(r\"[^_]+\", Identifier),\n",
    "        string(\"_\", Delimiter),\n",
    "        # number for AHU name\n",
    "        constant(Constant(BRICK.Air_Handling_Unit)),\n",
    "        regex(r\"[0-9a-zA-Z]+\", Identifier),\n",
    "        string(\":\", Delimiter),\n",
    "        # equipment types\n",
    "        equip_abbreviations,\n",
    "        # equipment ident\n",
    "        regex(r\"[0-9a-zA-Z]+\", Identifier),\n",
    "        string(\"_\", Delimiter),\n",
    "        maybe(\n",
    "            sequence(regex(r\"[A-Z]+[0-9]+\", Identifier), string(\"_\", Delimiter)),\n",
    "        ),\n",
    "        # point types\n",
    "        point_abbreviations,\n",
    "    )(target)"
   ]
  },
  {
   "cell_type": "code",
   "execution_count": 4,
   "id": "edbf9803-24e2-471f-8d56-49300852016b",
   "metadata": {
    "execution": {
     "iopub.execute_input": "2024-07-02T23:30:24.775615Z",
     "iopub.status.busy": "2024-07-02T23:30:24.775452Z",
     "iopub.status.idle": "2024-07-02T23:30:24.778875Z",
     "shell.execute_reply": "2024-07-02T23:30:24.778550Z"
    }
   },
   "outputs": [],
   "source": [
    "# loading point labels from a CSV but this could be from BACnet\n",
    "source = CSVIngress(data=\"\"\"label\n",
    ":BuildingName_02:FCU503_ChwVlvPos\n",
    ":BuildingName_01:FCU336_OccHtgSptFnl\n",
    ":BuildingName_02:FCU510_EffOcc\n",
    ":BuildingName_02:FCU507_UnoccHtgSpt\n",
    ":BuildingName_02:FCU415_UnoccHtgSpt\n",
    ":BuildingName_01:FCU203_OccClgSpt\n",
    ":BuildingName_02:FCU521_UO11_HwVlvOut\n",
    ":BuildingName_01:FCU365_UnoccHtgSptFnl\n",
    ":BuildingName_02:FCU529_UnoccHtgSpt\n",
    ":BuildingName_01:FCU243_EffOcc\n",
    ":BuildingName_01:FCU362_ChwVlvPos\n",
    ":BuildingName_01:FCU180B_UnoccClgSptFnl\n",
    ":BuildingName_02:FCU539_UO12_ChwVlvOut\n",
    ":BuildingName_02:FCU428_BO4_HighSpdFanOut\n",
    ":BuildingName_02:FCU416_RoomTmp\n",
    ":BuildingName_02:FCU415_UI17_Fan_Status\n",
    ":BuildingName_01:FCU391_HwVlvPos\n",
    ":BuildingName_02:FCU559_UnoccHtgSpt\n",
    ":BuildingName_01:FCU262_UI22_SaTmp\n",
    ":BuildingName_02:FCU448_UO11_HwVlvOut\n",
    ":BuildingName_01:FCU369_OccClgSptFnl\n",
    ":BuildingName_01:FCU255_UI22_SaTmp\n",
    ":BuildingName_02:FCU543_UI22_SaTmp\n",
    ":BuildingName_01:FCU376_UI22_SaTmp\n",
    ":BuildingName_01:FCU241_EffSysMode\n",
    ":BuildingName_01:FCU343_ChwVlvPos\n",
    ":BuildingName_01:FCU313_BO4_HighSpdFanOut\n",
    ":BuildingName_02:FCU549_EffOcc\n",
    ":BuildingName_01:FCU242_UI17_Fan_Status\n",
    ":BuildingName_01:FCU392_UnoccHtgSptFnl\n",
    ":BuildingName_01:FCU323_OccHtgSptFnl\n",
    ":BuildingName_01:FCU311_OccHtgSpt\n",
    ":BuildingName_01:FCU216_EffOcc\n",
    ":BuildingName_01:FCU331_SysMode\n",
    ":BuildingName_02:FCU558_FanMode\n",
    ":BuildingName_01:FCU227_BO4_HighSpdFanOut\n",
    ":BuildingName_01:FCU285_OccClgSpt\n",
    ":BuildingName_01:FCU391_FanMode\n",
    ":BuildingName_01:FCU367_EffOcc\n",
    ":BuildingName_02:FCU439_HwVlvPos\n",
    ":BuildingName_02:FCU438_HwVlvPos\n",
    ":BuildingName_01:FCU235_HwVlvPos\n",
    ":BuildingName_02:FCU439_RoomTmp\n",
    ":BuildingName_01:FCU205_UI17_Fan_Status\n",
    ":BuildingName_01:FCU239_OccHtgSpt\n",
    ":BuildingName_02:FCU538_EffOcc\n",
    ":BuildingName_02:FCU479_UnoccHtgSpt\n",
    ":BuildingName_01:FCU292_SysMode\n",
    ":BuildingName_02:FCU555_UO12_ChwVlvOut\n",
    ":BuildingName_02:FCU489_UnoccClgSpt\n",
    ":BuildingName_01:FCU331_UO12_ChwVlvOut\n",
    ":BuildingName_01:FCU301_ChwVlvPos\n",
    ":BuildingName_02:FCU448_ChwVlvPos\n",
    ":BuildingName_02:FCU460_OccHtgSpt\n",
    ":BuildingName_01:FCU319_UnoccClgSptFnl\n",
    ":BuildingName_02:FCU401_OccClgSpt\n",
    ":BuildingName_01:FCU311_UnoccClgSpt\n",
    ":BuildingName_01:FCU261_UnoccHtgSptFnl\n",
    ":BuildingName_01:FCU273_UnoccClgSpt\n",
    ":BuildingName_02:FCU531_BO4_HighSpdFanOut\n",
    ":BuildingName_02:FCU416_FanMode\n",
    ":BuildingName_01:FCU223_OccCmd\n",
    ":BuildingName_01:FCU342_UnoccHtgSpt\n",
    ":BuildingName_02:FCU485_UO11_HwVlvOut\n",
    ":BuildingName_01:FCU201_OccHtgSpt\n",
    ":BuildingName_02:FCU438_UO11_HwVlvOut\n",
    ":BuildingName_02:FCU539_Room_RH\n",
    ":BuildingName_02:FCU452_EffSysMode\n",
    ":BuildingName_01:FCU205_UnoccHtgSptFnl\n",
    ":BuildingName_01:FCU210_UnoccHtgSptFnl\n",
    ":BuildingName_02:FCU444_HwVlvPos\n",
    ":BuildingName_01:FCU240_OccCmd\n",
    ":BuildingName_01:FCU215_OccCmd\n",
    ":BuildingName_01:FCU373_UO11_HwVlvOut\n",
    ":BuildingName_01:FCU273_UI22_SaTmp\n",
    ":BuildingName_01:FCU352_OccHtgSptFnl\n",
    ":BuildingName_01:FCU307_OccHtgSptFnl\n",
    ":BuildingName_02:FCU430_RoomTmp\n",
    ":BuildingName_01:FCU277_OccHtgSptFnl\n",
    ":BuildingName_01:FCU364_UO11_HwVlvOut\n",
    ":BuildingName_01:FCU213_UI17_Fan_Status\n",
    ":BuildingName_01:FCU276_OccCmd\n",
    ":BuildingName_02:FCU505_BO4_HighSpdFanOut\n",
    ":BuildingName_01:FCU292_UnoccClgSpt\n",
    ":BuildingName_02:FCU507_OccHtgSpt\n",
    ":BuildingName_02:FCU563_BO4_HighSpdFanOut\n",
    ":BuildingName_02:FCU481_UI17_Fan_Status\n",
    ":BuildingName_02:FCU444_UO12_ChwVlvOut\n",
    ":BuildingName_02:FCU555_UI17_Fan_Status\n",
    ":BuildingName_01:FCU289_UnoccClgSptFnl\n",
    ":BuildingName_01:FCU285_OccClgSptFnl\n",
    ":BuildingName_01:FCU254_UI17_Fan_Status\n",
    ":BuildingName_01:FCU255_UnoccHtgSpt\n",
    ":BuildingName_01:FCU282_UnoccHtgSptFnl\n",
    ":BuildingName_02:FCU503_OccClgSpt\n",
    ":BuildingName_02:FCU525_UnoccHtgSpt\n",
    ":BuildingName_01:FCU283_OccClgSpt\n",
    ":BuildingName_02:FCU465_FanMode\n",
    ":BuildingName_02:FCU530_ChwVlvPos\n",
    ":BuildingName_02:FCU486_UI17_Fan_Status\n",
    ":BuildingName_01:FCU225_UnoccHtgSpt\n",
    ":BuildingName_01:FDU123_UnoccHtgSpt\"\"\")"
   ]
  },
  {
   "cell_type": "code",
   "execution_count": 5,
   "id": "918577c0-1a2a-44cb-9bd8-83a52289275d",
   "metadata": {
    "execution": {
     "iopub.execute_input": "2024-07-02T23:30:24.780635Z",
     "iopub.status.busy": "2024-07-02T23:30:24.780523Z",
     "iopub.status.idle": "2024-07-02T23:30:24.822544Z",
     "shell.execute_reply": "2024-07-02T23:30:24.822197Z"
    }
   },
   "outputs": [
    {
     "name": "stdout",
     "output_type": "stream",
     "text": [
      "{'label': ':BuildingName_02:FCU503_ChwVlvPos', 'tokens': [{'identifier': 'BuildingName', 'type': 'https://brickschema.org/schema/Brick#Building'}, {'identifier': '02', 'type': 'https://brickschema.org/schema/Brick#Air_Handling_Unit'}, {'identifier': '503', 'type': 'https://brickschema.org/schema/Brick#Fan_Coil_Unit'}, {'identifier': ':BuildingName_02:FCU503_ChwVlvPos', 'type': 'https://brickschema.org/schema/Brick#Position_Sensor'}]}\n",
      "{'label': ':BuildingName_02:FCU510_EffOcc', 'tokens': [{'identifier': 'BuildingName', 'type': 'https://brickschema.org/schema/Brick#Building'}, {'identifier': '02', 'type': 'https://brickschema.org/schema/Brick#Air_Handling_Unit'}, {'identifier': '510', 'type': 'https://brickschema.org/schema/Brick#Fan_Coil_Unit'}, {'identifier': ':BuildingName_02:FCU510_EffOcc', 'type': 'https://brickschema.org/schema/Brick#Occupancy_Status'}]}\n",
      "{'label': ':BuildingName_02:FCU507_UnoccHtgSpt', 'tokens': [{'identifier': 'BuildingName', 'type': 'https://brickschema.org/schema/Brick#Building'}, {'identifier': '02', 'type': 'https://brickschema.org/schema/Brick#Air_Handling_Unit'}, {'identifier': '507', 'type': 'https://brickschema.org/schema/Brick#Fan_Coil_Unit'}, {'identifier': ':BuildingName_02:FCU507_UnoccHtgSpt', 'type': 'https://brickschema.org/schema/Brick#Unoccupied_Air_Temperature_Heating_Setpoint'}]}\n"
     ]
    }
   ],
   "source": [
    "# hook our source of BMS labels to our naming convention parser\n",
    "ing = NamingConventionIngress(source, custom_parser)\n",
    "for record in ing.records[:3]:\n",
    "    # the 'fields' of the record are just the token format needed for semantic graph synthesis\n",
    "    print(record.fields)"
   ]
  },
  {
   "cell_type": "code",
   "execution_count": 6,
   "id": "7b562e15-95b2-4a90-9f0b-8436f5f474c5",
   "metadata": {
    "execution": {
     "iopub.execute_input": "2024-07-02T23:30:24.824500Z",
     "iopub.status.busy": "2024-07-02T23:30:24.824354Z",
     "iopub.status.idle": "2024-07-02T23:30:24.826889Z",
     "shell.execute_reply": "2024-07-02T23:30:24.826601Z"
    }
   },
   "outputs": [
    {
     "name": "stdout",
     "output_type": "stream",
     "text": [
      "Unparsed label: Fnl (16 failures)\n",
      "\t:BuildingName_01:FCU336_OccHtgSptFnl\n",
      "\t:BuildingName_01:FCU365_UnoccHtgSptFnl\n",
      "\t:BuildingName_01:FCU180B_UnoccClgSptFnl\n",
      "\t:BuildingName_01:FCU369_OccClgSptFnl\n",
      "\t:BuildingName_01:FCU392_UnoccHtgSptFnl\n",
      "\t:BuildingName_01:FCU323_OccHtgSptFnl\n",
      "\t:BuildingName_01:FCU319_UnoccClgSptFnl\n",
      "\t:BuildingName_01:FCU261_UnoccHtgSptFnl\n",
      "\t:BuildingName_01:FCU205_UnoccHtgSptFnl\n",
      "\t:BuildingName_01:FCU210_UnoccHtgSptFnl\n",
      "\t:BuildingName_01:FCU352_OccHtgSptFnl\n",
      "\t:BuildingName_01:FCU307_OccHtgSptFnl\n",
      "\t:BuildingName_01:FCU277_OccHtgSptFnl\n",
      "\t:BuildingName_01:FCU289_UnoccClgSptFnl\n",
      "\t:BuildingName_01:FCU285_OccClgSptFnl\n",
      "\t:BuildingName_01:FCU282_UnoccHtgSptFnl\n",
      "\n",
      "Unparsed label: Fan_Status (8 failures)\n",
      "\t:BuildingName_02:FCU415_UI17_Fan_Status\n",
      "\t:BuildingName_01:FCU242_UI17_Fan_Status\n",
      "\t:BuildingName_01:FCU205_UI17_Fan_Status\n",
      "\t:BuildingName_01:FCU213_UI17_Fan_Status\n",
      "\t:BuildingName_02:FCU481_UI17_Fan_Status\n",
      "\t:BuildingName_02:FCU555_UI17_Fan_Status\n",
      "\t:BuildingName_01:FCU254_UI17_Fan_Status\n",
      "\t:BuildingName_02:FCU486_UI17_Fan_Status\n",
      "\n",
      "Unparsed label: HwVlvOut (6 failures)\n",
      "\t:BuildingName_02:FCU521_UO11_HwVlvOut\n",
      "\t:BuildingName_02:FCU448_UO11_HwVlvOut\n",
      "\t:BuildingName_02:FCU485_UO11_HwVlvOut\n",
      "\t:BuildingName_02:FCU438_UO11_HwVlvOut\n",
      "\t:BuildingName_01:FCU373_UO11_HwVlvOut\n",
      "\t:BuildingName_01:FCU364_UO11_HwVlvOut\n",
      "\n",
      "Unparsed label: HighSpdFanOut (6 failures)\n",
      "\t:BuildingName_02:FCU428_BO4_HighSpdFanOut\n",
      "\t:BuildingName_01:FCU313_BO4_HighSpdFanOut\n",
      "\t:BuildingName_01:FCU227_BO4_HighSpdFanOut\n",
      "\t:BuildingName_02:FCU531_BO4_HighSpdFanOut\n",
      "\t:BuildingName_02:FCU505_BO4_HighSpdFanOut\n",
      "\t:BuildingName_02:FCU563_BO4_HighSpdFanOut\n",
      "\n",
      "Unparsed label: ChwVlvOut (4 failures)\n",
      "\t:BuildingName_02:FCU539_UO12_ChwVlvOut\n",
      "\t:BuildingName_02:FCU555_UO12_ChwVlvOut\n",
      "\t:BuildingName_01:FCU331_UO12_ChwVlvOut\n",
      "\t:BuildingName_02:FCU444_UO12_ChwVlvOut\n",
      "\n",
      "Unparsed label: FanMode (4 failures)\n",
      "\t:BuildingName_02:FCU558_FanMode\n",
      "\t:BuildingName_01:FCU391_FanMode\n",
      "\t:BuildingName_02:FCU416_FanMode\n",
      "\t:BuildingName_02:FCU465_FanMode\n",
      "\n",
      "Unparsed label: EffSysMode (2 failures)\n",
      "\t:BuildingName_01:FCU241_EffSysMode\n",
      "\t:BuildingName_02:FCU452_EffSysMode\n",
      "\n",
      "Unparsed label: SysMode (2 failures)\n",
      "\t:BuildingName_01:FCU331_SysMode\n",
      "\t:BuildingName_01:FCU292_SysMode\n",
      "\n",
      "Unparsed label: FDU123_UnoccHtgSpt (1 failures)\n",
      "\t:BuildingName_01:FDU123_UnoccHtgSpt\n",
      "\n"
     ]
    }
   ],
   "source": [
    "# quick error reporting on what labels did not work\n",
    "ing.dump_failed_labels()"
   ]
  },
  {
   "cell_type": "code",
   "execution_count": null,
   "id": "aa23ff36-6ee5-49b3-80a5-35f97dee6193",
   "metadata": {},
   "outputs": [],
   "source": []
  },
  {
   "cell_type": "code",
   "execution_count": 7,
   "id": "081c9b5c-92e3-4154-b77e-4829a293c281",
   "metadata": {
    "execution": {
     "iopub.execute_input": "2024-07-02T23:30:24.828843Z",
     "iopub.status.busy": "2024-07-02T23:30:24.828711Z",
     "iopub.status.idle": "2024-07-02T23:30:24.830724Z",
     "shell.execute_reply": "2024-07-02T23:30:24.830433Z"
    }
   },
   "outputs": [],
   "source": [
    "res = parse(custom_parser, ':BuildingName_02:FCU563_BO4_HighSpdFanOut')"
   ]
  },
  {
   "cell_type": "code",
   "execution_count": 8,
   "id": "daec1e75-e18e-4f93-a104-8e19d1d328d2",
   "metadata": {
    "execution": {
     "iopub.execute_input": "2024-07-02T23:30:24.832504Z",
     "iopub.status.busy": "2024-07-02T23:30:24.832369Z",
     "iopub.status.idle": "2024-07-02T23:30:24.835999Z",
     "shell.execute_reply": "2024-07-02T23:30:24.835698Z"
    }
   },
   "outputs": [
    {
     "data": {
      "text/plain": [
       "[('Expected ChwVlvPos, got HighSpdFa | Expected HwVlvPos, got HighSpdF | Expected RoomTmp, got HighSpd | Expected Room_RH, got HighSpd | Expected UnoccHtgSpt, got HighSpdFanO | Expected OccHtgSpt, got HighSpdFa | Expected UnoccClgSpt, got HighSpdFanO | Expected OccClgSpt, got HighSpdFa | Expected SaTmp, got HighS | Expected OccCmd, got HighSp | Expected EffOcc, got HighSp',\n",
       "  28)]"
      ]
     },
     "execution_count": 8,
     "metadata": {},
     "output_type": "execute_result"
    }
   ],
   "source": [
    "res.errors"
   ]
  },
  {
   "cell_type": "code",
   "execution_count": 9,
   "id": "e91c08ea-587c-42de-940a-8b4843209308",
   "metadata": {
    "execution": {
     "iopub.execute_input": "2024-07-02T23:30:24.837715Z",
     "iopub.status.busy": "2024-07-02T23:30:24.837615Z",
     "iopub.status.idle": "2024-07-02T23:30:24.840114Z",
     "shell.execute_reply": "2024-07-02T23:30:24.839801Z"
    }
   },
   "outputs": [
    {
     "data": {
      "text/plain": [
       "'HighSpdFanOut'"
      ]
     },
     "execution_count": 9,
     "metadata": {},
     "output_type": "execute_result"
    }
   ],
   "source": [
    "':BuildingName_02:FCU563_BO4_HighSpdFanOut'[28:]"
   ]
  },
  {
   "cell_type": "code",
   "execution_count": null,
   "id": "2d038138-fec3-4f80-a30c-6b67ab3a47bc",
   "metadata": {},
   "outputs": [],
   "source": []
  }
 ],
 "metadata": {
  "kernelspec": {
   "display_name": "Python 3 (ipykernel)",
   "language": "python",
   "name": "python3"
  },
  "language_info": {
   "codemirror_mode": {
    "name": "ipython",
    "version": 3
   },
   "file_extension": ".py",
   "mimetype": "text/x-python",
   "name": "python",
   "nbconvert_exporter": "python",
   "pygments_lexer": "ipython3",
   "version": "3.11.9"
  }
 },
 "nbformat": 4,
 "nbformat_minor": 5
}
