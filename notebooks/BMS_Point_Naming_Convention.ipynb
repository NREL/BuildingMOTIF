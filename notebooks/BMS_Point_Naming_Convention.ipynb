{
 "cells": [
  {
   "cell_type": "code",
   "execution_count": 1,
   "id": "ba045375-26ed-433d-bb91-707ffcb95f3b",
   "metadata": {},
   "outputs": [],
   "source": [
    "from buildingmotif.namespaces import BRICK\n",
    "from buildingmotif.label_parsing import abbreviations, sequence, string, constant, regex, many, maybe, choice, until, as_identifier\n",
    "from buildingmotif.label_parsing import Delimiter, Identifier, Constant\n",
    "from buildingmotif.label_parsing import parse_list, results_to_tokens, analyze_failures, parse\n",
    "from buildingmotif.label_parsing import COMMON_EQUIP_ABBREVIATIONS_BRICK\n",
    "from buildingmotif.ingresses import CSVIngress, NamingConventionIngress\n",
    "from pathlib import Path"
   ]
  },
  {
   "cell_type": "code",
   "execution_count": 2,
   "id": "97cbaa63-53df-414f-8a15-5275554e4f49",
   "metadata": {},
   "outputs": [],
   "source": [
    "# define abbreviation dictionaries. Use a provided one for Equipment\n",
    "equip_abbreviations = abbreviations(COMMON_EQUIP_ABBREVIATIONS_BRICK)\n",
    "# define our own for Points (specific to this building)\n",
    "point_abbreviations = abbreviations({\n",
    "    \"ChwVlvPos\": BRICK.Position_Sensor,\n",
    "    \"HwVlvPos\": BRICK.Position_Sensor,\n",
    "    \"RoomTmp\": BRICK.Air_Temperature_Sensor,\n",
    "    \"Room_RH\": BRICK.Relative_Humidity_Sensor,\n",
    "    \"UnoccHtgSpt\": BRICK.Unoccupied_Air_Temperature_Heating_Setpoint,\n",
    "    \"OccHtgSpt\": BRICK.Occupied_Air_Temperature_Heating_Setpoint,\n",
    "    \"UnoccClgSpt\": BRICK.Unoccupied_Air_Temperature_Cooling_Setpoint,\n",
    "    \"OccClgSpt\": BRICK.Occupied_Air_Temperature_Cooling_Setpoint,\n",
    "    \"SaTmp\": BRICK.Supply_Air_Temperature_Sensor,\n",
    "    \"OccCmd\": BRICK.Occupancy_Command,\n",
    "    \"EffOcc\": BRICK.Occupancy_Status,\n",
    "})"
   ]
  },
  {
   "cell_type": "code",
   "execution_count": 3,
   "id": "960cee28-f696-4b0d-afa5-f349a0b14c2d",
   "metadata": {},
   "outputs": [],
   "source": [
    "# encode the naming convention in a function\n",
    "def custom_parser(target):\n",
    "    return sequence(\n",
    "        string(\":\", Delimiter),\n",
    "        # regex until the underscore\n",
    "        constant(Constant(BRICK.Building)),\n",
    "        regex(r\"[^_]+\", Identifier),\n",
    "        string(\"_\", Delimiter),\n",
    "        # number for AHU name\n",
    "        constant(Constant(BRICK.Air_Handling_Unit)),\n",
    "        regex(r\"[0-9a-zA-Z]+\", Identifier),\n",
    "        string(\":\", Delimiter),\n",
    "        # equipment types\n",
    "        equip_abbreviations,\n",
    "        # equipment ident\n",
    "        regex(r\"[0-9a-zA-Z]+\", Identifier),\n",
    "        string(\"_\", Delimiter),\n",
    "        maybe(\n",
    "            sequence(regex(r\"[A-Z]+[0-9]+\", Identifier), string(\"_\", Delimiter)),\n",
    "        ),\n",
    "        # point types\n",
    "        point_abbreviations,\n",
    "    )(target)"
   ]
  },
  {
   "cell_type": "code",
   "execution_count": 4,
   "id": "edbf9803-24e2-471f-8d56-49300852016b",
   "metadata": {},
   "outputs": [],
   "source": [
    "# loading point labels from a CSV but this could be from BACnet\n",
    "source = CSVIngress(data=\"\"\"label\n",
    ":BuildingName_02:FCU503_ChwVlvPos\n",
    ":BuildingName_01:FCU336_OccHtgSptFnl\n",
    ":BuildingName_02:FCU510_EffOcc\n",
    ":BuildingName_02:FCU507_UnoccHtgSpt\n",
    ":BuildingName_02:FCU415_UnoccHtgSpt\n",
    ":BuildingName_01:FCU203_OccClgSpt\n",
    ":BuildingName_02:FCU521_UO11_HwVlvOut\n",
    ":BuildingName_01:FCU365_UnoccHtgSptFnl\n",
    ":BuildingName_02:FCU529_UnoccHtgSpt\n",
    ":BuildingName_01:FCU243_EffOcc\n",
    ":BuildingName_01:FCU362_ChwVlvPos\n",
    ":BuildingName_01:FCU180B_UnoccClgSptFnl\n",
    ":BuildingName_02:FCU539_UO12_ChwVlvOut\n",
    ":BuildingName_02:FCU428_BO4_HighSpdFanOut\n",
    ":BuildingName_02:FCU416_RoomTmp\n",
    ":BuildingName_02:FCU415_UI17_Fan_Status\n",
    ":BuildingName_01:FCU391_HwVlvPos\n",
    ":BuildingName_02:FCU559_UnoccHtgSpt\n",
    ":BuildingName_01:FCU262_UI22_SaTmp\n",
    ":BuildingName_02:FCU448_UO11_HwVlvOut\n",
    ":BuildingName_01:FCU369_OccClgSptFnl\n",
    ":BuildingName_01:FCU255_UI22_SaTmp\n",
    ":BuildingName_02:FCU543_UI22_SaTmp\n",
    ":BuildingName_01:FCU376_UI22_SaTmp\n",
    ":BuildingName_01:FCU241_EffSysMode\n",
    ":BuildingName_01:FCU343_ChwVlvPos\n",
    ":BuildingName_01:FCU313_BO4_HighSpdFanOut\n",
    ":BuildingName_02:FCU549_EffOcc\n",
    ":BuildingName_01:FCU242_UI17_Fan_Status\n",
    ":BuildingName_01:FCU392_UnoccHtgSptFnl\n",
    ":BuildingName_01:FCU323_OccHtgSptFnl\n",
    ":BuildingName_01:FCU311_OccHtgSpt\n",
    ":BuildingName_01:FCU216_EffOcc\n",
    ":BuildingName_01:FCU331_SysMode\n",
    ":BuildingName_02:FCU558_FanMode\n",
    ":BuildingName_01:FCU227_BO4_HighSpdFanOut\n",
    ":BuildingName_01:FCU285_OccClgSpt\n",
    ":BuildingName_01:FCU391_FanMode\n",
    ":BuildingName_01:FCU367_EffOcc\n",
    ":BuildingName_02:FCU439_HwVlvPos\n",
    ":BuildingName_02:FCU438_HwVlvPos\n",
    ":BuildingName_01:FCU235_HwVlvPos\n",
    ":BuildingName_02:FCU439_RoomTmp\n",
    ":BuildingName_01:FCU205_UI17_Fan_Status\n",
    ":BuildingName_01:FCU239_OccHtgSpt\n",
    ":BuildingName_02:FCU538_EffOcc\n",
    ":BuildingName_02:FCU479_UnoccHtgSpt\n",
    ":BuildingName_01:FCU292_SysMode\n",
    ":BuildingName_02:FCU555_UO12_ChwVlvOut\n",
    ":BuildingName_02:FCU489_UnoccClgSpt\n",
    ":BuildingName_01:FCU331_UO12_ChwVlvOut\n",
    ":BuildingName_01:FCU301_ChwVlvPos\n",
    ":BuildingName_02:FCU448_ChwVlvPos\n",
    ":BuildingName_02:FCU460_OccHtgSpt\n",
    ":BuildingName_01:FCU319_UnoccClgSptFnl\n",
    ":BuildingName_02:FCU401_OccClgSpt\n",
    ":BuildingName_01:FCU311_UnoccClgSpt\n",
    ":BuildingName_01:FCU261_UnoccHtgSptFnl\n",
    ":BuildingName_01:FCU273_UnoccClgSpt\n",
    ":BuildingName_02:FCU531_BO4_HighSpdFanOut\n",
    ":BuildingName_02:FCU416_FanMode\n",
    ":BuildingName_01:FCU223_OccCmd\n",
    ":BuildingName_01:FCU342_UnoccHtgSpt\n",
    ":BuildingName_02:FCU485_UO11_HwVlvOut\n",
    ":BuildingName_01:FCU201_OccHtgSpt\n",
    ":BuildingName_02:FCU438_UO11_HwVlvOut\n",
    ":BuildingName_02:FCU539_Room_RH\n",
    ":BuildingName_02:FCU452_EffSysMode\n",
    ":BuildingName_01:FCU205_UnoccHtgSptFnl\n",
    ":BuildingName_01:FCU210_UnoccHtgSptFnl\n",
    ":BuildingName_02:FCU444_HwVlvPos\n",
    ":BuildingName_01:FCU240_OccCmd\n",
    ":BuildingName_01:FCU215_OccCmd\n",
    ":BuildingName_01:FCU373_UO11_HwVlvOut\n",
    ":BuildingName_01:FCU273_UI22_SaTmp\n",
    ":BuildingName_01:FCU352_OccHtgSptFnl\n",
    ":BuildingName_01:FCU307_OccHtgSptFnl\n",
    ":BuildingName_02:FCU430_RoomTmp\n",
    ":BuildingName_01:FCU277_OccHtgSptFnl\n",
    ":BuildingName_01:FCU364_UO11_HwVlvOut\n",
    ":BuildingName_01:FCU213_UI17_Fan_Status\n",
    ":BuildingName_01:FCU276_OccCmd\n",
    ":BuildingName_02:FCU505_BO4_HighSpdFanOut\n",
    ":BuildingName_01:FCU292_UnoccClgSpt\n",
    ":BuildingName_02:FCU507_OccHtgSpt\n",
    ":BuildingName_02:FCU563_BO4_HighSpdFanOut\n",
    ":BuildingName_02:FCU481_UI17_Fan_Status\n",
    ":BuildingName_02:FCU444_UO12_ChwVlvOut\n",
    ":BuildingName_02:FCU555_UI17_Fan_Status\n",
    ":BuildingName_01:FCU289_UnoccClgSptFnl\n",
    ":BuildingName_01:FCU285_OccClgSptFnl\n",
    ":BuildingName_01:FCU254_UI17_Fan_Status\n",
    ":BuildingName_01:FCU255_UnoccHtgSpt\n",
    ":BuildingName_01:FCU282_UnoccHtgSptFnl\n",
    ":BuildingName_02:FCU503_OccClgSpt\n",
    ":BuildingName_02:FCU525_UnoccHtgSpt\n",
    ":BuildingName_01:FCU283_OccClgSpt\n",
    ":BuildingName_02:FCU465_FanMode\n",
    ":BuildingName_02:FCU530_ChwVlvPos\n",
    ":BuildingName_02:FCU486_UI17_Fan_Status\n",
    ":BuildingName_01:FCU225_UnoccHtgSpt\n",
    ":BuildingName_01:FDU123_UnoccHtgSpt\"\"\")"
   ]
  },
  {
   "cell_type": "code",
   "execution_count": 5,
   "id": "918577c0-1a2a-44cb-9bd8-83a52289275d",
   "metadata": {},
   "outputs": [
    {
     "name": "stdout",
     "output_type": "stream",
     "text": [
      "{'label': ':BuildingName_02:FCU503_ChwVlvPos', 'tokens': [{'identifier': 'BuildingName', 'type': 'https://brickschema.org/schema/Brick#Building'}, {'identifier': '02', 'type': 'https://brickschema.org/schema/Brick#Air_Handling_Unit'}, {'identifier': '503', 'type': 'https://brickschema.org/schema/Brick#Fan_Coil_Unit'}, {'identifier': ':BuildingName_02:FCU503_ChwVlvPos', 'type': 'https://brickschema.org/schema/Brick#Position_Sensor'}]}\n",
      "{'label': ':BuildingName_02:FCU510_EffOcc', 'tokens': [{'identifier': 'BuildingName', 'type': 'https://brickschema.org/schema/Brick#Building'}, {'identifier': '02', 'type': 'https://brickschema.org/schema/Brick#Air_Handling_Unit'}, {'identifier': '510', 'type': 'https://brickschema.org/schema/Brick#Fan_Coil_Unit'}, {'identifier': ':BuildingName_02:FCU510_EffOcc', 'type': 'https://brickschema.org/schema/Brick#Occupancy_Status'}]}\n",
      "{'label': ':BuildingName_02:FCU507_UnoccHtgSpt', 'tokens': [{'identifier': 'BuildingName', 'type': 'https://brickschema.org/schema/Brick#Building'}, {'identifier': '02', 'type': 'https://brickschema.org/schema/Brick#Air_Handling_Unit'}, {'identifier': '507', 'type': 'https://brickschema.org/schema/Brick#Fan_Coil_Unit'}, {'identifier': ':BuildingName_02:FCU507_UnoccHtgSpt', 'type': 'https://brickschema.org/schema/Brick#Unoccupied_Air_Temperature_Heating_Setpoint'}]}\n"
     ]
    }
   ],
   "source": [
    "# hook our source of BMS labels to our naming convention parser\n",
    "ing = NamingConventionIngress(source, custom_parser)\n",
    "for record in ing.records[:3]:\n",
    "    # the 'fields' of the record are just the token format needed for semantic graph synthesis\n",
    "    print(record.fields)"
   ]
  },
  {
   "cell_type": "code",
   "execution_count": 6,
   "id": "7b562e15-95b2-4a90-9f0b-8436f5f474c5",
   "metadata": {},
   "outputs": [
    {
     "name": "stdout",
     "output_type": "stream",
     "text": [
      "Unparsed label: Fnl (16 failures)\n",
      "\t:BuildingName_01:FCU336_OccHtgSptFnl\n",
      "\t:BuildingName_01:FCU365_UnoccHtgSptFnl\n",
      "\t:BuildingName_01:FCU180B_UnoccClgSptFnl\n",
      "\t:BuildingName_01:FCU369_OccClgSptFnl\n",
      "\t:BuildingName_01:FCU392_UnoccHtgSptFnl\n",
      "\t:BuildingName_01:FCU323_OccHtgSptFnl\n",
      "\t:BuildingName_01:FCU319_UnoccClgSptFnl\n",
      "\t:BuildingName_01:FCU261_UnoccHtgSptFnl\n",
      "\t:BuildingName_01:FCU205_UnoccHtgSptFnl\n",
      "\t:BuildingName_01:FCU210_UnoccHtgSptFnl\n",
      "\t:BuildingName_01:FCU352_OccHtgSptFnl\n",
      "\t:BuildingName_01:FCU307_OccHtgSptFnl\n",
      "\t:BuildingName_01:FCU277_OccHtgSptFnl\n",
      "\t:BuildingName_01:FCU289_UnoccClgSptFnl\n",
      "\t:BuildingName_01:FCU285_OccClgSptFnl\n",
      "\t:BuildingName_01:FCU282_UnoccHtgSptFnl\n",
      "\n",
      "Unparsed label: Fan_Status (8 failures)\n",
      "\t:BuildingName_02:FCU415_UI17_Fan_Status\n",
      "\t:BuildingName_01:FCU242_UI17_Fan_Status\n",
      "\t:BuildingName_01:FCU205_UI17_Fan_Status\n",
      "\t:BuildingName_01:FCU213_UI17_Fan_Status\n",
      "\t:BuildingName_02:FCU481_UI17_Fan_Status\n",
      "\t:BuildingName_02:FCU555_UI17_Fan_Status\n",
      "\t:BuildingName_01:FCU254_UI17_Fan_Status\n",
      "\t:BuildingName_02:FCU486_UI17_Fan_Status\n",
      "\n",
      "Unparsed label: HwVlvOut (6 failures)\n",
      "\t:BuildingName_02:FCU521_UO11_HwVlvOut\n",
      "\t:BuildingName_02:FCU448_UO11_HwVlvOut\n",
      "\t:BuildingName_02:FCU485_UO11_HwVlvOut\n",
      "\t:BuildingName_02:FCU438_UO11_HwVlvOut\n",
      "\t:BuildingName_01:FCU373_UO11_HwVlvOut\n",
      "\t:BuildingName_01:FCU364_UO11_HwVlvOut\n",
      "\n",
      "Unparsed label: HighSpdFanOut (6 failures)\n",
      "\t:BuildingName_02:FCU428_BO4_HighSpdFanOut\n",
      "\t:BuildingName_01:FCU313_BO4_HighSpdFanOut\n",
      "\t:BuildingName_01:FCU227_BO4_HighSpdFanOut\n",
      "\t:BuildingName_02:FCU531_BO4_HighSpdFanOut\n",
      "\t:BuildingName_02:FCU505_BO4_HighSpdFanOut\n",
      "\t:BuildingName_02:FCU563_BO4_HighSpdFanOut\n",
      "\n",
      "Unparsed label: ChwVlvOut (4 failures)\n",
      "\t:BuildingName_02:FCU539_UO12_ChwVlvOut\n",
      "\t:BuildingName_02:FCU555_UO12_ChwVlvOut\n",
      "\t:BuildingName_01:FCU331_UO12_ChwVlvOut\n",
      "\t:BuildingName_02:FCU444_UO12_ChwVlvOut\n",
      "\n",
      "Unparsed label: FanMode (4 failures)\n",
      "\t:BuildingName_02:FCU558_FanMode\n",
      "\t:BuildingName_01:FCU391_FanMode\n",
      "\t:BuildingName_02:FCU416_FanMode\n",
      "\t:BuildingName_02:FCU465_FanMode\n",
      "\n",
      "Unparsed label: EffSysMode (2 failures)\n",
      "\t:BuildingName_01:FCU241_EffSysMode\n",
      "\t:BuildingName_02:FCU452_EffSysMode\n",
      "\n",
      "Unparsed label: SysMode (2 failures)\n",
      "\t:BuildingName_01:FCU331_SysMode\n",
      "\t:BuildingName_01:FCU292_SysMode\n",
      "\n",
      "Unparsed label: FDU123_UnoccHtgSpt (1 failures)\n",
      "\t:BuildingName_01:FDU123_UnoccHtgSpt\n",
      "\n"
     ]
    }
   ],
   "source": [
    "# quick error reporting on what labels did not work\n",
    "ing.dump_failed_labels()"
   ]
  },
  {
   "cell_type": "code",
   "execution_count": null,
   "id": "aa23ff36-6ee5-49b3-80a5-35f97dee6193",
   "metadata": {},
   "outputs": [],
   "source": []
  },
  {
   "cell_type": "code",
   "execution_count": 7,
   "id": "081c9b5c-92e3-4154-b77e-4829a293c281",
   "metadata": {},
   "outputs": [],
   "source": [
    "res = parse(custom_parser, ':BuildingName_02:FCU563_BO4_HighSpdFanOut')"
   ]
  },
  {
   "cell_type": "code",
   "execution_count": 8,
   "id": "daec1e75-e18e-4f93-a104-8e19d1d328d2",
   "metadata": {},
   "outputs": [
    {
     "data": {
      "text/plain": [
       "[('Expected ChwVlvPos, got HighSpdFa | Expected HwVlvPos, got HighSpdF | Expected RoomTmp, got HighSpd | Expected Room_RH, got HighSpd | Expected UnoccHtgSpt, got HighSpdFanO | Expected OccHtgSpt, got HighSpdFa | Expected UnoccClgSpt, got HighSpdFanO | Expected OccClgSpt, got HighSpdFa | Expected SaTmp, got HighS | Expected OccCmd, got HighSp | Expected EffOcc, got HighSp',\n",
       "  28)]"
      ]
     },
     "execution_count": 8,
     "metadata": {},
     "output_type": "execute_result"
    }
   ],
   "source": [
    "res.errors"
   ]
  },
  {
   "cell_type": "code",
   "execution_count": 9,
   "id": "e91c08ea-587c-42de-940a-8b4843209308",
   "metadata": {},
   "outputs": [
    {
     "data": {
      "text/plain": [
       "'HighSpdFanOut'"
      ]
     },
     "execution_count": 9,
     "metadata": {},
     "output_type": "execute_result"
    }
   ],
   "source": [
    "':BuildingName_02:FCU563_BO4_HighSpdFanOut'[28:]"
   ]
  },
  {
   "cell_type": "code",
   "execution_count": 10,
   "id": "2d038138-fec3-4f80-a30c-6b67ab3a47bc",
   "metadata": {},
   "outputs": [
    {
     "name": "stdout",
     "output_type": "stream",
     "text": [
      "{'name': 'sequence', 'args': {'parsers': [{'name': 'sequence', 'args': {'parsers': [{'name': 'choice', 'args': {'parsers': [{'name': 'string', 'args': {'s': 'AHU', 'type_name': 'https://brickschema.org/schema/Brick#Air_Handling_Unit'}}, {'name': 'string', 'args': {'s': 'FCU', 'type_name': 'https://brickschema.org/schema/Brick#Fan_Coil_Unit'}}, {'name': 'string', 'args': {'s': 'VAV', 'type_name': 'https://brickschema.org/schema/Brick#Variable_Air_Volume_Box'}}, {'name': 'string', 'args': {'s': 'CRAC', 'type_name': 'https://brickschema.org/schema/Brick#Computer_Room_Air_Conditioner'}}, {'name': 'string', 'args': {'s': 'HX', 'type_name': 'https://brickschema.org/schema/Brick#Heat_Exchanger'}}, {'name': 'string', 'args': {'s': 'PMP', 'type_name': 'https://brickschema.org/schema/Brick#Pump'}}, {'name': 'string', 'args': {'s': 'RVAV', 'type_name': 'https://brickschema.org/schema/Brick#Variable_Air_Volume_Box_With_Reheat'}}, {'name': 'string', 'args': {'s': 'HP', 'type_name': 'https://brickschema.org/schema/Brick#Heat_Pump'}}, {'name': 'string', 'args': {'s': 'RTU', 'type_name': 'https://brickschema.org/schema/Brick#Rooftop_Unit'}}, {'name': 'string', 'args': {'s': 'DMP', 'type_name': 'https://brickschema.org/schema/Brick#Damper'}}, {'name': 'string', 'args': {'s': 'STS', 'type_name': 'https://brickschema.org/schema/Brick#Status'}}, {'name': 'string', 'args': {'s': 'VLV', 'type_name': 'https://brickschema.org/schema/Brick#Valve'}}, {'name': 'string', 'args': {'s': 'CHVLV', 'type_name': 'https://brickschema.org/schema/Brick#Chilled_Water_Valve'}}, {'name': 'string', 'args': {'s': 'HWVLV', 'type_name': 'https://brickschema.org/schema/Brick#Hot_Water_Valve'}}, {'name': 'string', 'args': {'s': 'VFD', 'type_name': 'https://brickschema.org/schema/Brick#Variable_Frequency_Drive'}}, {'name': 'string', 'args': {'s': 'CT', 'type_name': 'https://brickschema.org/schema/Brick#Cooling_Tower'}}, {'name': 'string', 'args': {'s': 'MAU', 'type_name': 'https://brickschema.org/schema/Brick#Makeup_Air_Unit'}}, {'name': 'string', 'args': {'s': 'R', 'type_name': 'https://brickschema.org/schema/Brick#Room'}}, {'name': 'string', 'args': {'s': 'A', 'type_name': 'https://brickschema.org/schema/Brick#Air_Handling_Unit'}}]}}, {'name': 'maybe', 'args': {'parser': {'name': 'string', 'args': {'s': '-', 'type_name': 'Delimiter'}}}}, {'name': 'regex', 'args': {'r': '[^ _]+', 'type_name': 'Identifier'}}]}}, {'name': 'regex', 'args': {'r': '[ _]*', 'type_name': 'Delimiter'}}, {'name': 'maybe', 'args': {'parser': {'name': 'sequence', 'args': {'parsers': [{'name': 'maybe', 'args': {'parser': {'name': 'sequence', 'args': {'parsers': [{'name': 'regex', 'args': {'r': '\\\\d+', 'type_name': 'Identifier'}}, {'name': 'constant', 'args': {'type_name': 'https://brickschema.org/schema/Brick#Floor'}}, {'name': 'string', 'args': {'s': '~', 'type_name': 'Delimiter'}}, {'name': 'regex', 'args': {'r': '\\\\d+', 'type_name': 'Identifier'}}, {'name': 'constant', 'args': {'type_name': 'https://brickschema.org/schema/Brick#Floor'}}]}}}}, {'name': 'sequence', 'args': {'parsers': [{'name': 'regex', 'args': {'r': '\\\\d+', 'type_name': 'Identifier'}}, {'name': 'string', 'args': {'s': ' ', 'type_name': 'Delimiter'}}, {'name': 'choice', 'args': {'parsers': [{'name': 'string', 'args': {'s': 'F', 'type_name': 'https://brickschema.org/schema/Brick#Floor'}}, {'name': 'string', 'args': {'s': 'Z', 'type_name': 'https://brickschema.org/schema/Brick#Zone'}}, {'name': 'string', 'args': {'s': 'Zone', 'type_name': 'https://brickschema.org/schema/Brick#Zone'}}]}}]}}, {'name': 'maybe', 'args': {'parser': {'name': 'sequence', 'args': {'parsers': [{'name': 'string', 'args': {'s': 'Zone', 'type_name': 'https://brickschema.org/schema/Brick#Zone'}}, {'name': 'regex', 'args': {'r': '\\\\d+', 'type_name': 'Identifier'}}]}}}}]}}}}, {'name': 'regex', 'args': {'r': '[ _]*', 'type_name': 'Delimiter'}}, {'name': 'maybe', 'args': {'parser': {'name': 'choice', 'args': {'parsers': [{'name': 'sequence', 'args': {'parsers': [{'name': 'until', 'args': {'parser': {'name': 'choice', 'args': {'parsers': [{'name': 'string', 'args': {'s': 'AHU', 'type_name': 'https://brickschema.org/schema/Brick#Air_Handling_Unit'}}, {'name': 'string', 'args': {'s': 'FCU', 'type_name': 'https://brickschema.org/schema/Brick#Fan_Coil_Unit'}}, {'name': 'string', 'args': {'s': 'VAV', 'type_name': 'https://brickschema.org/schema/Brick#Variable_Air_Volume_Box'}}, {'name': 'string', 'args': {'s': 'CRAC', 'type_name': 'https://brickschema.org/schema/Brick#Computer_Room_Air_Conditioner'}}, {'name': 'string', 'args': {'s': 'HX', 'type_name': 'https://brickschema.org/schema/Brick#Heat_Exchanger'}}, {'name': 'string', 'args': {'s': 'PMP', 'type_name': 'https://brickschema.org/schema/Brick#Pump'}}, {'name': 'string', 'args': {'s': 'RVAV', 'type_name': 'https://brickschema.org/schema/Brick#Variable_Air_Volume_Box_With_Reheat'}}, {'name': 'string', 'args': {'s': 'HP', 'type_name': 'https://brickschema.org/schema/Brick#Heat_Pump'}}, {'name': 'string', 'args': {'s': 'RTU', 'type_name': 'https://brickschema.org/schema/Brick#Rooftop_Unit'}}, {'name': 'string', 'args': {'s': 'DMP', 'type_name': 'https://brickschema.org/schema/Brick#Damper'}}, {'name': 'string', 'args': {'s': 'STS', 'type_name': 'https://brickschema.org/schema/Brick#Status'}}, {'name': 'string', 'args': {'s': 'VLV', 'type_name': 'https://brickschema.org/schema/Brick#Valve'}}, {'name': 'string', 'args': {'s': 'CHVLV', 'type_name': 'https://brickschema.org/schema/Brick#Chilled_Water_Valve'}}, {'name': 'string', 'args': {'s': 'HWVLV', 'type_name': 'https://brickschema.org/schema/Brick#Hot_Water_Valve'}}, {'name': 'string', 'args': {'s': 'VFD', 'type_name': 'https://brickschema.org/schema/Brick#Variable_Frequency_Drive'}}, {'name': 'string', 'args': {'s': 'CT', 'type_name': 'https://brickschema.org/schema/Brick#Cooling_Tower'}}, {'name': 'string', 'args': {'s': 'MAU', 'type_name': 'https://brickschema.org/schema/Brick#Makeup_Air_Unit'}}, {'name': 'string', 'args': {'s': 'R', 'type_name': 'https://brickschema.org/schema/Brick#Room'}}, {'name': 'string', 'args': {'s': 'A', 'type_name': 'https://brickschema.org/schema/Brick#Air_Handling_Unit'}}]}}, 'type_name': 'Identifier'}}, {'name': 'choice', 'args': {'parsers': [{'name': 'string', 'args': {'s': 'AHU', 'type_name': 'https://brickschema.org/schema/Brick#Air_Handling_Unit'}}, {'name': 'string', 'args': {'s': 'FCU', 'type_name': 'https://brickschema.org/schema/Brick#Fan_Coil_Unit'}}, {'name': 'string', 'args': {'s': 'VAV', 'type_name': 'https://brickschema.org/schema/Brick#Variable_Air_Volume_Box'}}, {'name': 'string', 'args': {'s': 'CRAC', 'type_name': 'https://brickschema.org/schema/Brick#Computer_Room_Air_Conditioner'}}, {'name': 'string', 'args': {'s': 'HX', 'type_name': 'https://brickschema.org/schema/Brick#Heat_Exchanger'}}, {'name': 'string', 'args': {'s': 'PMP', 'type_name': 'https://brickschema.org/schema/Brick#Pump'}}, {'name': 'string', 'args': {'s': 'RVAV', 'type_name': 'https://brickschema.org/schema/Brick#Variable_Air_Volume_Box_With_Reheat'}}, {'name': 'string', 'args': {'s': 'HP', 'type_name': 'https://brickschema.org/schema/Brick#Heat_Pump'}}, {'name': 'string', 'args': {'s': 'RTU', 'type_name': 'https://brickschema.org/schema/Brick#Rooftop_Unit'}}, {'name': 'string', 'args': {'s': 'DMP', 'type_name': 'https://brickschema.org/schema/Brick#Damper'}}, {'name': 'string', 'args': {'s': 'STS', 'type_name': 'https://brickschema.org/schema/Brick#Status'}}, {'name': 'string', 'args': {'s': 'VLV', 'type_name': 'https://brickschema.org/schema/Brick#Valve'}}, {'name': 'string', 'args': {'s': 'CHVLV', 'type_name': 'https://brickschema.org/schema/Brick#Chilled_Water_Valve'}}, {'name': 'string', 'args': {'s': 'HWVLV', 'type_name': 'https://brickschema.org/schema/Brick#Hot_Water_Valve'}}, {'name': 'string', 'args': {'s': 'VFD', 'type_name': 'https://brickschema.org/schema/Brick#Variable_Frequency_Drive'}}, {'name': 'string', 'args': {'s': 'CT', 'type_name': 'https://brickschema.org/schema/Brick#Cooling_Tower'}}, {'name': 'string', 'args': {'s': 'MAU', 'type_name': 'https://brickschema.org/schema/Brick#Makeup_Air_Unit'}}, {'name': 'string', 'args': {'s': 'R', 'type_name': 'https://brickschema.org/schema/Brick#Room'}}, {'name': 'string', 'args': {'s': 'A', 'type_name': 'https://brickschema.org/schema/Brick#Air_Handling_Unit'}}]}}]}}, {'name': 'as_identifier', 'args': {'parser': {'name': 'until', 'args': {'parser': {'name': 'choice', 'args': {'parsers': [{'name': 'string', 'args': {'s': 'ChwVlvPos', 'type_name': 'https://brickschema.org/schema/Brick#Position_Sensor'}}, {'name': 'string', 'args': {'s': 'HwVlvPos', 'type_name': 'https://brickschema.org/schema/Brick#Position_Sensor'}}, {'name': 'string', 'args': {'s': 'RoomTmp', 'type_name': 'https://brickschema.org/schema/Brick#Air_Temperature_Sensor'}}, {'name': 'string', 'args': {'s': 'Room_RH', 'type_name': 'https://brickschema.org/schema/Brick#Relative_Humidity_Sensor'}}, {'name': 'string', 'args': {'s': 'UnoccHtgSpt', 'type_name': 'https://brickschema.org/schema/Brick#Unoccupied_Air_Temperature_Heating_Setpoint'}}, {'name': 'string', 'args': {'s': 'OccHtgSpt', 'type_name': 'https://brickschema.org/schema/Brick#Occupied_Air_Temperature_Heating_Setpoint'}}, {'name': 'string', 'args': {'s': 'UnoccClgSpt', 'type_name': 'https://brickschema.org/schema/Brick#Unoccupied_Air_Temperature_Cooling_Setpoint'}}, {'name': 'string', 'args': {'s': 'OccClgSpt', 'type_name': 'https://brickschema.org/schema/Brick#Occupied_Air_Temperature_Cooling_Setpoint'}}, {'name': 'string', 'args': {'s': 'SaTmp', 'type_name': 'https://brickschema.org/schema/Brick#Supply_Air_Temperature_Sensor'}}, {'name': 'string', 'args': {'s': 'OccCmd', 'type_name': 'https://brickschema.org/schema/Brick#Occupancy_Command'}}, {'name': 'string', 'args': {'s': 'EffOcc', 'type_name': 'https://brickschema.org/schema/Brick#Occupancy_Status'}}]}}, 'type_name': 'https://brickschema.org/schema/Brick#Equipment'}}}}]}}}}, {'name': 'regex', 'args': {'r': '[ _]*', 'type_name': 'Delimiter'}}, {'name': 'choice', 'args': {'parsers': [{'name': 'string', 'args': {'s': 'ChwVlvPos', 'type_name': 'https://brickschema.org/schema/Brick#Position_Sensor'}}, {'name': 'string', 'args': {'s': 'HwVlvPos', 'type_name': 'https://brickschema.org/schema/Brick#Position_Sensor'}}, {'name': 'string', 'args': {'s': 'RoomTmp', 'type_name': 'https://brickschema.org/schema/Brick#Air_Temperature_Sensor'}}, {'name': 'string', 'args': {'s': 'Room_RH', 'type_name': 'https://brickschema.org/schema/Brick#Relative_Humidity_Sensor'}}, {'name': 'string', 'args': {'s': 'UnoccHtgSpt', 'type_name': 'https://brickschema.org/schema/Brick#Unoccupied_Air_Temperature_Heating_Setpoint'}}, {'name': 'string', 'args': {'s': 'OccHtgSpt', 'type_name': 'https://brickschema.org/schema/Brick#Occupied_Air_Temperature_Heating_Setpoint'}}, {'name': 'string', 'args': {'s': 'UnoccClgSpt', 'type_name': 'https://brickschema.org/schema/Brick#Unoccupied_Air_Temperature_Cooling_Setpoint'}}, {'name': 'string', 'args': {'s': 'OccClgSpt', 'type_name': 'https://brickschema.org/schema/Brick#Occupied_Air_Temperature_Cooling_Setpoint'}}, {'name': 'string', 'args': {'s': 'SaTmp', 'type_name': 'https://brickschema.org/schema/Brick#Supply_Air_Temperature_Sensor'}}, {'name': 'string', 'args': {'s': 'OccCmd', 'type_name': 'https://brickschema.org/schema/Brick#Occupancy_Command'}}, {'name': 'string', 'args': {'s': 'EffOcc', 'type_name': 'https://brickschema.org/schema/Brick#Occupancy_Status'}}]}}]}}\n"
     ]
    }
   ],
   "source": [
    "location_abbreviations = abbreviations({\n",
    "    \"F\": BRICK.Floor,\n",
    "    \"Z\": BRICK.Zone,\n",
    "    \"Zone\": BRICK.Zone,\n",
    "})\n",
    "\n",
    "delim = regex(r\"[ _]*\", Delimiter) # padding\n",
    "device_ident = sequence(\n",
    "    equip_abbreviations, # get equipment type\n",
    "    maybe(string(\"-\", Delimiter)),\n",
    "    regex(r\"[^ _]+\", Identifier), # everything up to the next space is the identifier\n",
    ")\n",
    "\n",
    "floor_location = sequence(\n",
    "    regex(r\"\\d+\", Identifier), # floor num\n",
    "    string(\" \", Delimiter),\n",
    "    location_abbreviations\n",
    ")\n",
    "\n",
    "zone_name = sequence(\n",
    "    string(\"Zone\", Constant(BRICK.Zone)),\n",
    "    regex(r\"\\d+\", Identifier),\n",
    ")\n",
    "\n",
    "floor_range = sequence(\n",
    "    regex(r\"\\d+\", Identifier), # floor num\n",
    "    constant(Constant(BRICK.Floor)),\n",
    "    string(\"~\", Delimiter),\n",
    "    regex(r\"\\d+\", Identifier), # floor num\n",
    "    constant(Constant(BRICK.Floor)),\n",
    ")\n",
    "\n",
    "location = sequence(\n",
    "    maybe(floor_range),\n",
    "    floor_location,\n",
    "    maybe(zone_name),\n",
    ")\n",
    "\n",
    "ahu_device_point = sequence(\n",
    "    device_ident,\n",
    "    delim,\n",
    "    maybe(location),\n",
    "    delim,\n",
    "    maybe(choice(\n",
    "        sequence(\n",
    "            until(equip_abbreviations, Identifier),\n",
    "            equip_abbreviations\n",
    "        ),\n",
    "        as_identifier(until(point_abbreviations, Constant(BRICK.Equipment))),\n",
    "    )),\n",
    "    delim,\n",
    "    point_abbreviations,\n",
    ")\n",
    "\n",
    "from dataclasses import asdict\n",
    "\n",
    "print(ahu_device_point.to_dict())"
   ]
  },
  {
   "cell_type": "code",
   "execution_count": 11,
   "id": "8a4dd506-9782-4be7-82ac-1358aa30079a",
   "metadata": {},
   "outputs": [
    {
     "data": {
      "text/plain": [
       "{'name': 'regex', 'args': {'r': '\\\\d+', 'type_name': 'Identifier'}}"
      ]
     },
     "execution_count": 11,
     "metadata": {},
     "output_type": "execute_result"
    }
   ],
   "source": [
    "regex(r\"\\d+\", Identifier).to_dict()"
   ]
  },
  {
   "cell_type": "code",
   "execution_count": 12,
   "id": "5daf6368-7542-4702-b066-0ae68c09d75d",
   "metadata": {},
   "outputs": [
    {
     "name": "stdout",
     "output_type": "stream",
     "text": [
      "{'name': 'string', 'args': {'s': ' ', 'type_name': 'Delimiter'}}\n"
     ]
    }
   ],
   "source": [
    "print(string(\" \", Delimiter).to_dict())"
   ]
  },
  {
   "cell_type": "code",
   "execution_count": 13,
   "id": "f5d1c705-7e75-42c2-98d3-9b08d6f06fc5",
   "metadata": {},
   "outputs": [
    {
     "ename": "AttributeError",
     "evalue": "'Constant' object has no attribute '__name__'",
     "output_type": "error",
     "traceback": [
      "\u001b[0;31m---------------------------------------------------------------------------\u001b[0m",
      "\u001b[0;31mAttributeError\u001b[0m                            Traceback (most recent call last)",
      "Cell \u001b[0;32mIn[13], line 1\u001b[0m\n\u001b[0;32m----> 1\u001b[0m \u001b[43mConstant\u001b[49m\u001b[43m(\u001b[49m\u001b[38;5;124;43m\"\u001b[39;49m\u001b[38;5;124;43m9\u001b[39;49m\u001b[38;5;124;43m\"\u001b[39;49m\u001b[43m)\u001b[49m\u001b[38;5;241;43m.\u001b[39;49m\u001b[38;5;18;43m__name__\u001b[39;49m\n",
      "\u001b[0;31mAttributeError\u001b[0m: 'Constant' object has no attribute '__name__'"
     ]
    }
   ],
   "source": [
    "Constant(\"9\").__name__"
   ]
  },
  {
   "cell_type": "code",
   "execution_count": 16,
   "id": "7360b9b9-3a36-4280-b457-a284b2f8e4bf",
   "metadata": {},
   "outputs": [
    {
     "data": {
      "text/plain": [
       "{'name': 'sequence',\n",
       " 'args': {'parsers': [{'name': 'regex',\n",
       "    'args': {'r': '[ _]*', 'type_name': 'Delimiter'}}]}}"
      ]
     },
     "execution_count": 16,
     "metadata": {},
     "output_type": "execute_result"
    }
   ],
   "source": [
    " sequence(\n",
    "    device_ident,\n",
    "    delim\n",
    " ).to_dict()"
   ]
  },
  {
   "cell_type": "code",
   "execution_count": 21,
   "id": "83bd0078-cdfb-4003-9f65-c2fdfc0a6faf",
   "metadata": {},
   "outputs": [
    {
     "data": {
      "text/plain": [
       "{'name': 'sequence',\n",
       " 'args': {'parsers': [{'name': 'choice',\n",
       "    'args': {'parsers': [{'name': 'string',\n",
       "       'args': {'s': 'AHU',\n",
       "        'type_name': 'https://brickschema.org/schema/Brick#Air_Handling_Unit'}},\n",
       "      {'name': 'string',\n",
       "       'args': {'s': 'FCU',\n",
       "        'type_name': 'https://brickschema.org/schema/Brick#Fan_Coil_Unit'}},\n",
       "      {'name': 'string',\n",
       "       'args': {'s': 'VAV',\n",
       "        'type_name': 'https://brickschema.org/schema/Brick#Variable_Air_Volume_Box'}},\n",
       "      {'name': 'string',\n",
       "       'args': {'s': 'CRAC',\n",
       "        'type_name': 'https://brickschema.org/schema/Brick#Computer_Room_Air_Conditioner'}},\n",
       "      {'name': 'string',\n",
       "       'args': {'s': 'HX',\n",
       "        'type_name': 'https://brickschema.org/schema/Brick#Heat_Exchanger'}},\n",
       "      {'name': 'string',\n",
       "       'args': {'s': 'PMP',\n",
       "        'type_name': 'https://brickschema.org/schema/Brick#Pump'}},\n",
       "      {'name': 'string',\n",
       "       'args': {'s': 'RVAV',\n",
       "        'type_name': 'https://brickschema.org/schema/Brick#Variable_Air_Volume_Box_With_Reheat'}},\n",
       "      {'name': 'string',\n",
       "       'args': {'s': 'HP',\n",
       "        'type_name': 'https://brickschema.org/schema/Brick#Heat_Pump'}},\n",
       "      {'name': 'string',\n",
       "       'args': {'s': 'RTU',\n",
       "        'type_name': 'https://brickschema.org/schema/Brick#Rooftop_Unit'}},\n",
       "      {'name': 'string',\n",
       "       'args': {'s': 'DMP',\n",
       "        'type_name': 'https://brickschema.org/schema/Brick#Damper'}},\n",
       "      {'name': 'string',\n",
       "       'args': {'s': 'STS',\n",
       "        'type_name': 'https://brickschema.org/schema/Brick#Status'}},\n",
       "      {'name': 'string',\n",
       "       'args': {'s': 'VLV',\n",
       "        'type_name': 'https://brickschema.org/schema/Brick#Valve'}},\n",
       "      {'name': 'string',\n",
       "       'args': {'s': 'CHVLV',\n",
       "        'type_name': 'https://brickschema.org/schema/Brick#Chilled_Water_Valve'}},\n",
       "      {'name': 'string',\n",
       "       'args': {'s': 'HWVLV',\n",
       "        'type_name': 'https://brickschema.org/schema/Brick#Hot_Water_Valve'}},\n",
       "      {'name': 'string',\n",
       "       'args': {'s': 'VFD',\n",
       "        'type_name': 'https://brickschema.org/schema/Brick#Variable_Frequency_Drive'}},\n",
       "      {'name': 'string',\n",
       "       'args': {'s': 'CT',\n",
       "        'type_name': 'https://brickschema.org/schema/Brick#Cooling_Tower'}},\n",
       "      {'name': 'string',\n",
       "       'args': {'s': 'MAU',\n",
       "        'type_name': 'https://brickschema.org/schema/Brick#Makeup_Air_Unit'}},\n",
       "      {'name': 'string',\n",
       "       'args': {'s': 'R',\n",
       "        'type_name': 'https://brickschema.org/schema/Brick#Room'}},\n",
       "      {'name': 'string',\n",
       "       'args': {'s': 'A',\n",
       "        'type_name': 'https://brickschema.org/schema/Brick#Air_Handling_Unit'}}]}},\n",
       "   {'name': 'maybe',\n",
       "    'args': {'parser': {'name': 'string',\n",
       "      'args': {'s': '-', 'type_name': 'Delimiter'}}}},\n",
       "   {'name': 'regex', 'args': {'r': '[^ _]+', 'type_name': 'Identifier'}}]}}"
      ]
     },
     "execution_count": 21,
     "metadata": {},
     "output_type": "execute_result"
    }
   ],
   "source": [
    "sequence(\n",
    "    equip_abbreviations, # get equipment type\n",
    "    maybe(string(\"-\", Delimiter)),\n",
    "    regex(r\"[^ _]+\", Identifier), # everything up to the next space is the identifier\n",
    ").to_dict()"
   ]
  },
  {
   "cell_type": "code",
   "execution_count": 25,
   "id": "bada2b6c-fa0a-4af7-af40-7ab4070e414d",
   "metadata": {},
   "outputs": [
    {
     "data": {
      "text/plain": [
       "{'name': 'sequence',\n",
       " 'args': {'parsers': [{'name': 'sequence',\n",
       "    'args': {'parsers': [{'name': 'maybe',\n",
       "       'args': {'parser': {'name': 'string',\n",
       "         'args': {'s': '-', 'type_name': 'Delimiter'}}}},\n",
       "      {'name': 'regex',\n",
       "       'args': {'r': '[^ _]+', 'type_name': 'Identifier'}}]}}]}}"
      ]
     },
     "execution_count": 25,
     "metadata": {},
     "output_type": "execute_result"
    }
   ],
   "source": [
    "sequence(\n",
    "   sequence(\n",
    "    # equip_abbreviations, # get equipment type\n",
    "    maybe(string(\"-\", Delimiter)),\n",
    "    regex(r\"[^ _]+\", Identifier), # everything up to the next space is the identifier\n",
    ")\n",
    ").to_dict()\n"
   ]
  },
  {
   "cell_type": "code",
   "execution_count": 26,
   "id": "053d0e2a-d6a5-4014-9b06-01d2c1c8c33c",
   "metadata": {},
   "outputs": [
    {
     "data": {
      "text/plain": [
       "{'name': 'sequence',\n",
       " 'args': {'parsers': [{'name': 'string',\n",
       "    'args': {'s': ':', 'type_name': 'Delimiter'}},\n",
       "   {'name': 'constant',\n",
       "    'args': {'type_name': 'https://brickschema.org/schema/Brick#Building'}},\n",
       "   {'name': 'regex', 'args': {'r': '[^_]+', 'type_name': 'Identifier'}},\n",
       "   {'name': 'string', 'args': {'s': '_', 'type_name': 'Delimiter'}},\n",
       "   {'name': 'constant',\n",
       "    'args': {'type_name': 'https://brickschema.org/schema/Brick#Air_Handling_Unit'}},\n",
       "   {'name': 'regex', 'args': {'r': '[0-9a-zA-Z]+', 'type_name': 'Identifier'}},\n",
       "   {'name': 'string', 'args': {'s': ':', 'type_name': 'Delimiter'}},\n",
       "   {'name': 'choice',\n",
       "    'args': {'parsers': [{'name': 'string',\n",
       "       'args': {'s': 'AHU',\n",
       "        'type_name': 'https://brickschema.org/schema/Brick#Air_Handling_Unit'}},\n",
       "      {'name': 'string',\n",
       "       'args': {'s': 'FCU',\n",
       "        'type_name': 'https://brickschema.org/schema/Brick#Fan_Coil_Unit'}},\n",
       "      {'name': 'string',\n",
       "       'args': {'s': 'VAV',\n",
       "        'type_name': 'https://brickschema.org/schema/Brick#Variable_Air_Volume_Box'}},\n",
       "      {'name': 'string',\n",
       "       'args': {'s': 'CRAC',\n",
       "        'type_name': 'https://brickschema.org/schema/Brick#Computer_Room_Air_Conditioner'}},\n",
       "      {'name': 'string',\n",
       "       'args': {'s': 'HX',\n",
       "        'type_name': 'https://brickschema.org/schema/Brick#Heat_Exchanger'}},\n",
       "      {'name': 'string',\n",
       "       'args': {'s': 'PMP',\n",
       "        'type_name': 'https://brickschema.org/schema/Brick#Pump'}},\n",
       "      {'name': 'string',\n",
       "       'args': {'s': 'RVAV',\n",
       "        'type_name': 'https://brickschema.org/schema/Brick#Variable_Air_Volume_Box_With_Reheat'}},\n",
       "      {'name': 'string',\n",
       "       'args': {'s': 'HP',\n",
       "        'type_name': 'https://brickschema.org/schema/Brick#Heat_Pump'}},\n",
       "      {'name': 'string',\n",
       "       'args': {'s': 'RTU',\n",
       "        'type_name': 'https://brickschema.org/schema/Brick#Rooftop_Unit'}},\n",
       "      {'name': 'string',\n",
       "       'args': {'s': 'DMP',\n",
       "        'type_name': 'https://brickschema.org/schema/Brick#Damper'}},\n",
       "      {'name': 'string',\n",
       "       'args': {'s': 'STS',\n",
       "        'type_name': 'https://brickschema.org/schema/Brick#Status'}},\n",
       "      {'name': 'string',\n",
       "       'args': {'s': 'VLV',\n",
       "        'type_name': 'https://brickschema.org/schema/Brick#Valve'}},\n",
       "      {'name': 'string',\n",
       "       'args': {'s': 'CHVLV',\n",
       "        'type_name': 'https://brickschema.org/schema/Brick#Chilled_Water_Valve'}},\n",
       "      {'name': 'string',\n",
       "       'args': {'s': 'HWVLV',\n",
       "        'type_name': 'https://brickschema.org/schema/Brick#Hot_Water_Valve'}},\n",
       "      {'name': 'string',\n",
       "       'args': {'s': 'VFD',\n",
       "        'type_name': 'https://brickschema.org/schema/Brick#Variable_Frequency_Drive'}},\n",
       "      {'name': 'string',\n",
       "       'args': {'s': 'CT',\n",
       "        'type_name': 'https://brickschema.org/schema/Brick#Cooling_Tower'}},\n",
       "      {'name': 'string',\n",
       "       'args': {'s': 'MAU',\n",
       "        'type_name': 'https://brickschema.org/schema/Brick#Makeup_Air_Unit'}},\n",
       "      {'name': 'string',\n",
       "       'args': {'s': 'R',\n",
       "        'type_name': 'https://brickschema.org/schema/Brick#Room'}},\n",
       "      {'name': 'string',\n",
       "       'args': {'s': 'A',\n",
       "        'type_name': 'https://brickschema.org/schema/Brick#Air_Handling_Unit'}}]}},\n",
       "   {'name': 'regex', 'args': {'r': '[0-9a-zA-Z]+', 'type_name': 'Identifier'}},\n",
       "   {'name': 'string', 'args': {'s': '_', 'type_name': 'Delimiter'}},\n",
       "   {'name': 'maybe',\n",
       "    'args': {'parser': {'name': 'sequence',\n",
       "      'args': {'parsers': [{'name': 'regex',\n",
       "         'args': {'r': '[A-Z]+[0-9]+', 'type_name': 'Identifier'}},\n",
       "        {'name': 'string', 'args': {'s': '_', 'type_name': 'Delimiter'}}]}}}},\n",
       "   {'name': 'choice',\n",
       "    'args': {'parsers': [{'name': 'string',\n",
       "       'args': {'s': 'ChwVlvPos',\n",
       "        'type_name': 'https://brickschema.org/schema/Brick#Position_Sensor'}},\n",
       "      {'name': 'string',\n",
       "       'args': {'s': 'HwVlvPos',\n",
       "        'type_name': 'https://brickschema.org/schema/Brick#Position_Sensor'}},\n",
       "      {'name': 'string',\n",
       "       'args': {'s': 'RoomTmp',\n",
       "        'type_name': 'https://brickschema.org/schema/Brick#Air_Temperature_Sensor'}},\n",
       "      {'name': 'string',\n",
       "       'args': {'s': 'Room_RH',\n",
       "        'type_name': 'https://brickschema.org/schema/Brick#Relative_Humidity_Sensor'}},\n",
       "      {'name': 'string',\n",
       "       'args': {'s': 'UnoccHtgSpt',\n",
       "        'type_name': 'https://brickschema.org/schema/Brick#Unoccupied_Air_Temperature_Heating_Setpoint'}},\n",
       "      {'name': 'string',\n",
       "       'args': {'s': 'OccHtgSpt',\n",
       "        'type_name': 'https://brickschema.org/schema/Brick#Occupied_Air_Temperature_Heating_Setpoint'}},\n",
       "      {'name': 'string',\n",
       "       'args': {'s': 'UnoccClgSpt',\n",
       "        'type_name': 'https://brickschema.org/schema/Brick#Unoccupied_Air_Temperature_Cooling_Setpoint'}},\n",
       "      {'name': 'string',\n",
       "       'args': {'s': 'OccClgSpt',\n",
       "        'type_name': 'https://brickschema.org/schema/Brick#Occupied_Air_Temperature_Cooling_Setpoint'}},\n",
       "      {'name': 'string',\n",
       "       'args': {'s': 'SaTmp',\n",
       "        'type_name': 'https://brickschema.org/schema/Brick#Supply_Air_Temperature_Sensor'}},\n",
       "      {'name': 'string',\n",
       "       'args': {'s': 'OccCmd',\n",
       "        'type_name': 'https://brickschema.org/schema/Brick#Occupancy_Command'}},\n",
       "      {'name': 'string',\n",
       "       'args': {'s': 'EffOcc',\n",
       "        'type_name': 'https://brickschema.org/schema/Brick#Occupancy_Status'}}]}}]}}"
      ]
     },
     "execution_count": 26,
     "metadata": {},
     "output_type": "execute_result"
    }
   ],
   "source": [
    "\n",
    "sequence(\n",
    "        string(\":\", Delimiter),\n",
    "        # regex until the underscore\n",
    "        constant(Constant(BRICK.Building)),\n",
    "        regex(r\"[^_]+\", Identifier),\n",
    "        string(\"_\", Delimiter),\n",
    "        # number for AHU name\n",
    "        constant(Constant(BRICK.Air_Handling_Unit)),\n",
    "        regex(r\"[0-9a-zA-Z]+\", Identifier),\n",
    "        string(\":\", Delimiter),\n",
    "        # equipment types\n",
    "        equip_abbreviations,\n",
    "        # equipment ident\n",
    "        regex(r\"[0-9a-zA-Z]+\", Identifier),\n",
    "        string(\"_\", Delimiter),\n",
    "        maybe(\n",
    "            sequence(regex(r\"[A-Z]+[0-9]+\", Identifier), string(\"_\", Delimiter)),\n",
    "        ),\n",
    "        # point types\n",
    "        point_abbreviations,\n",
    "    ).to_dict()\n"
   ]
  }
 ],
 "metadata": {
  "kernelspec": {
   "display_name": "Python 3 (ipykernel)",
   "language": "python",
   "name": "python3"
  },
  "language_info": {
   "codemirror_mode": {
    "name": "ipython",
    "version": 3
   },
   "file_extension": ".py",
   "mimetype": "text/x-python",
   "name": "python",
   "nbconvert_exporter": "python",
   "pygments_lexer": "ipython3",
   "version": "3.10.0"
  }
 },
 "nbformat": 4,
 "nbformat_minor": 5
}
