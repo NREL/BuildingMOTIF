{
 "cells": [
  {
   "cell_type": "code",
   "execution_count": 1,
   "metadata": {},
   "outputs": [],
   "source": [
    "from buildingmotif import BuildingMOTIF\n",
    "from buildingmotif.dataclasses import Model, Library\n",
    "from buildingmotif.namespaces import BRICK\n",
    "import os\n",
    "from rdflib import URIRef"
   ]
  },
  {
   "cell_type": "markdown",
   "metadata": {},
   "source": []
  },
  {
   "cell_type": "code",
   "execution_count": 2,
   "metadata": {},
   "outputs": [],
   "source": [
    "building_motif = BuildingMOTIF(\"sqlite://\")\n",
    "building_motif.setup_tables()"
   ]
  },
  {
   "cell_type": "markdown",
   "metadata": {},
   "source": [
    "## Load model from file"
   ]
  },
  {
   "cell_type": "code",
   "execution_count": 3,
   "metadata": {},
   "outputs": [
    {
     "data": {
      "text/plain": [
       "<Graph identifier=1360d3ed-bff7-4304-9a8d-0ca99e1b9678 (<class 'rdflib.graph.Graph'>)>"
      ]
     },
     "execution_count": 3,
     "metadata": {},
     "output_type": "execute_result"
    }
   ],
   "source": [
    "small_office_model = Model.create(\"http://example.org/building/\")\n",
    "small_office_model.graph.parse('smallOffice_brick.ttl', format=\"ttl\")"
   ]
  },
  {
   "cell_type": "markdown",
   "metadata": {},
   "source": [
    "## Load Brick Library"
   ]
  },
  {
   "cell_type": "code",
   "execution_count": 4,
   "metadata": {},
   "outputs": [
    {
     "name": "stderr",
     "output_type": "stream",
     "text": [
      "/Users/gabe/Library/Caches/pypoetry/virtualenvs/buildingmotif-FYjxCmL6-py3.11/lib/python3.11/site-packages/pyshacl/extras/__init__.py:46: Warning: Extra \"js\" is not satisfied because requirement pyduktape2 is not installed.\n",
      "  warn(Warning(f\"Extra \\\"{extra_name}\\\" is not satisfied because requirement {req} is not installed.\"))\n",
      "2024-11-06 21:52:00,128 | root |  WARNING: An ontology could not resolve a dependency on http://qudt.org/2.1/vocab/dimensionvector (No row was found when one was required). Check this is loaded into BuildingMOTIF\n",
      "2024-11-06 21:52:00,128 | root |  WARNING: An ontology could not resolve a dependency on http://qudt.org/2.1/schema/facade/qudt (No row was found when one was required). Check this is loaded into BuildingMOTIF\n",
      "2024-11-06 21:52:00,129 | root |  WARNING: An ontology could not resolve a dependency on http://qudt.org/2.1/vocab/sou (No row was found when one was required). Check this is loaded into BuildingMOTIF\n",
      "2024-11-06 21:52:00,129 | root |  WARNING: An ontology could not resolve a dependency on http://qudt.org/2.1/schema/shacl/overlay/qudt (No row was found when one was required). Check this is loaded into BuildingMOTIF\n",
      "2024-11-06 21:52:00,130 | root |  WARNING: An ontology could not resolve a dependency on https://w3id.org/rec/recimports (No row was found when one was required). Check this is loaded into BuildingMOTIF\n",
      "2024-11-06 21:52:00,130 | root |  WARNING: An ontology could not resolve a dependency on http://qudt.org/2.1/vocab/unit (No row was found when one was required). Check this is loaded into BuildingMOTIF\n",
      "2024-11-06 21:52:00,131 | root |  WARNING: An ontology could not resolve a dependency on http://qudt.org/2.1/schema/shacl/qudt (No row was found when one was required). Check this is loaded into BuildingMOTIF\n",
      "2024-11-06 21:52:00,131 | root |  WARNING: An ontology could not resolve a dependency on http://qudt.org/2.1/vocab/prefix (No row was found when one was required). Check this is loaded into BuildingMOTIF\n",
      "2024-11-06 21:52:00,132 | root |  WARNING: An ontology could not resolve a dependency on http://qudt.org/2.1/collection/usertest (No row was found when one was required). Check this is loaded into BuildingMOTIF\n",
      "2024-11-06 21:52:00,132 | root |  WARNING: An ontology could not resolve a dependency on http://data.ashrae.org/bacnet/2020 (No row was found when one was required). Check this is loaded into BuildingMOTIF\n",
      "2024-11-06 21:52:00,133 | root |  WARNING: An ontology could not resolve a dependency on https://brickschema.org/schema/Brick/ref (No row was found when one was required). Check this is loaded into BuildingMOTIF\n",
      "2024-11-06 21:52:00,133 | root |  WARNING: An ontology could not resolve a dependency on http://qudt.org/2.1/vocab/quantitykind (No row was found when one was required). Check this is loaded into BuildingMOTIF\n",
      "2024-11-06 21:52:01,303 | root |  WARNING: Warning: could not find dependee n60a91bd72a7049ae82f9b6257580895ab7700 in libraries []\n",
      "2024-11-06 21:52:01,306 | root |  WARNING: Warning: could not find dependee n60a91bd72a7049ae82f9b6257580895ab7698 in libraries []\n",
      "2024-11-06 21:52:01,307 | root |  WARNING: Warning: could not find dependee n60a91bd72a7049ae82f9b6257580895ab7696 in libraries []\n",
      "2024-11-06 21:52:01,309 | root |  WARNING: Warning: could not find dependee n60a91bd72a7049ae82f9b6257580895ab7694 in libraries []\n",
      "2024-11-06 21:52:01,311 | root |  WARNING: Warning: could not find dependee n60a91bd72a7049ae82f9b6257580895ab7692 in libraries []\n",
      "2024-11-06 21:52:01,313 | root |  WARNING: Warning: could not find dependee n60a91bd72a7049ae82f9b6257580895ab7616 in libraries []\n",
      "2024-11-06 21:52:01,314 | root |  WARNING: Warning: could not find dependee n60a91bd72a7049ae82f9b6257580895ab7618 in libraries []\n",
      "2024-11-06 21:52:01,316 | root |  WARNING: Warning: could not find dependee n60a91bd72a7049ae82f9b6257580895ab7620 in libraries []\n",
      "2024-11-06 21:52:01,318 | root |  WARNING: Warning: could not find dependee n60a91bd72a7049ae82f9b6257580895ab7624 in libraries []\n",
      "2024-11-06 21:52:01,319 | root |  WARNING: Warning: could not find dependee n60a91bd72a7049ae82f9b6257580895ab7614 in libraries []\n",
      "2024-11-06 21:52:01,321 | root |  WARNING: Warning: could not find dependee n60a91bd72a7049ae82f9b6257580895ab7622 in libraries []\n",
      "2024-11-06 21:52:01,323 | root |  WARNING: Warning: could not find dependee n60a91bd72a7049ae82f9b6257580895ab7586 in libraries []\n",
      "2024-11-06 21:52:01,325 | root |  WARNING: Warning: could not find dependee n60a91bd72a7049ae82f9b6257580895ab7582 in libraries []\n",
      "2024-11-06 21:52:01,326 | root |  WARNING: Warning: could not find dependee n60a91bd72a7049ae82f9b6257580895ab7578 in libraries []\n",
      "2024-11-06 21:52:01,328 | root |  WARNING: Warning: could not find dependee n60a91bd72a7049ae82f9b6257580895ab7584 in libraries []\n",
      "2024-11-06 21:52:01,330 | root |  WARNING: Warning: could not find dependee n60a91bd72a7049ae82f9b6257580895ab7580 in libraries []\n",
      "2024-11-06 21:52:01,331 | root |  WARNING: Warning: could not find dependee n60a91bd72a7049ae82f9b6257580895ab7576 in libraries []\n",
      "2024-11-06 21:52:01,334 | root |  WARNING: Warning: could not find dependee n60a91bd72a7049ae82f9b6257580895ab7633 in libraries []\n",
      "2024-11-06 21:52:01,335 | root |  WARNING: Warning: could not find dependee n60a91bd72a7049ae82f9b6257580895ab7637 in libraries []\n",
      "2024-11-06 21:52:01,337 | root |  WARNING: Warning: could not find dependee n60a91bd72a7049ae82f9b6257580895ab7635 in libraries []\n",
      "2024-11-06 21:52:01,339 | root |  WARNING: Warning: could not find dependee n60a91bd72a7049ae82f9b6257580895ab7631 in libraries []\n",
      "2024-11-06 21:52:01,341 | root |  WARNING: Warning: could not find dependee n60a91bd72a7049ae82f9b6257580895ab7639 in libraries []\n",
      "2024-11-06 21:52:04,716 | root |  WARNING: Warning: could not find dependee urn:ashrae/g36/components/variable-speed-fan-vfd in libraries [rdflib.term.URIRef('https://brickschema.org/schema/1.4/Brick')]\n",
      "2024-11-06 21:52:04,785 | root |  WARNING: Warning: could not find dependee urn:ashrae/g36/components/variable-speed-fan-vfd in libraries [rdflib.term.URIRef('https://brickschema.org/schema/1.4/Brick')]\n"
     ]
    }
   ],
   "source": [
    "brick = Library.load(ontology_graph=\"https://brickschema.org/schema/1.4/Brick.ttl\")\n",
    "g36 = Library.load(directory=\"../libraries/ashrae/guideline36\")"
   ]
  },
  {
   "cell_type": "markdown",
   "metadata": {},
   "source": [
    "## Compile Model"
   ]
  },
  {
   "cell_type": "code",
   "execution_count": 5,
   "metadata": {},
   "outputs": [],
   "source": [
    "compiled_model = small_office_model.compile([brick.get_shape_collection(), g36.get_shape_collection()])"
   ]
  },
  {
   "cell_type": "code",
   "execution_count": 6,
   "metadata": {},
   "outputs": [],
   "source": [
    "# print(compiled_model.serialize(format=\"ttl\", destination=\"smallOffice_brick_compiled.ttl\"))"
   ]
  },
  {
   "cell_type": "code",
   "execution_count": 7,
   "metadata": {
    "tags": []
   },
   "outputs": [],
   "source": [
    "# print(compiled_model.serialize(format=\"ttl\"))"
   ]
  },
  {
   "cell_type": "code",
   "execution_count": 9,
   "metadata": {},
   "outputs": [
    {
     "data": {
      "text/html": [
       "<div>\n",
       "<style scoped>\n",
       "    .dataframe tbody tr th:only-of-type {\n",
       "        vertical-align: middle;\n",
       "    }\n",
       "\n",
       "    .dataframe tbody tr th {\n",
       "        vertical-align: top;\n",
       "    }\n",
       "\n",
       "    .dataframe thead th {\n",
       "        text-align: right;\n",
       "    }\n",
       "</style>\n",
       "<table border=\"1\" class=\"dataframe\">\n",
       "  <thead>\n",
       "    <tr style=\"text-align: right;\">\n",
       "      <th></th>\n",
       "      <th>target</th>\n",
       "      <th>wc0</th>\n",
       "      <th>wc1</th>\n",
       "      <th>wc2</th>\n",
       "    </tr>\n",
       "  </thead>\n",
       "  <tbody>\n",
       "    <tr>\n",
       "      <th>0</th>\n",
       "      <td>http://example.org/building/Perimeter_ZN_1-ZN-...</td>\n",
       "      <td>http://example.org/building/Perimeter_ZN_1-ZN-...</td>\n",
       "      <td>http://example.org/building/Perimeter_ZN_1-ZN-...</td>\n",
       "      <td>http://example.org/building/Perimeter_ZN_1-ZN-...</td>\n",
       "    </tr>\n",
       "    <tr>\n",
       "      <th>1</th>\n",
       "      <td>http://example.org/building/Core_ZN-ZN-PSZ-AC-...</td>\n",
       "      <td>http://example.org/building/Core_ZN-ZN-PSZ-AC-...</td>\n",
       "      <td>http://example.org/building/Core_ZN-ZN-PSZ-AC-...</td>\n",
       "      <td>http://example.org/building/Core_ZN-ZN-PSZ-AC-...</td>\n",
       "    </tr>\n",
       "    <tr>\n",
       "      <th>2</th>\n",
       "      <td>http://example.org/building/Perimeter_ZN_4-ZN-...</td>\n",
       "      <td>http://example.org/building/Perimeter_ZN_4-ZN-...</td>\n",
       "      <td>http://example.org/building/Perimeter_ZN_4-ZN-...</td>\n",
       "      <td>http://example.org/building/Perimeter_ZN_4-ZN-...</td>\n",
       "    </tr>\n",
       "    <tr>\n",
       "      <th>3</th>\n",
       "      <td>http://example.org/building/Perimeter_ZN_3-ZN-...</td>\n",
       "      <td>http://example.org/building/Perimeter_ZN_3-ZN-...</td>\n",
       "      <td>http://example.org/building/Perimeter_ZN_3-ZN-...</td>\n",
       "      <td>http://example.org/building/Perimeter_ZN_3-ZN-...</td>\n",
       "    </tr>\n",
       "    <tr>\n",
       "      <th>4</th>\n",
       "      <td>http://example.org/building/Perimeter_ZN_2-ZN-...</td>\n",
       "      <td>http://example.org/building/Perimeter_ZN_2-ZN-...</td>\n",
       "      <td>http://example.org/building/Perimeter_ZN_2-ZN-...</td>\n",
       "      <td>http://example.org/building/Perimeter_ZN_2-ZN-...</td>\n",
       "    </tr>\n",
       "  </tbody>\n",
       "</table>\n",
       "</div>"
      ],
      "text/plain": [
       "                                              target  \\\n",
       "0  http://example.org/building/Perimeter_ZN_1-ZN-...   \n",
       "1  http://example.org/building/Core_ZN-ZN-PSZ-AC-...   \n",
       "2  http://example.org/building/Perimeter_ZN_4-ZN-...   \n",
       "3  http://example.org/building/Perimeter_ZN_3-ZN-...   \n",
       "4  http://example.org/building/Perimeter_ZN_2-ZN-...   \n",
       "\n",
       "                                                 wc0  \\\n",
       "0  http://example.org/building/Perimeter_ZN_1-ZN-...   \n",
       "1  http://example.org/building/Core_ZN-ZN-PSZ-AC-...   \n",
       "2  http://example.org/building/Perimeter_ZN_4-ZN-...   \n",
       "3  http://example.org/building/Perimeter_ZN_3-ZN-...   \n",
       "4  http://example.org/building/Perimeter_ZN_2-ZN-...   \n",
       "\n",
       "                                                 wc1  \\\n",
       "0  http://example.org/building/Perimeter_ZN_1-ZN-...   \n",
       "1  http://example.org/building/Core_ZN-ZN-PSZ-AC-...   \n",
       "2  http://example.org/building/Perimeter_ZN_4-ZN-...   \n",
       "3  http://example.org/building/Perimeter_ZN_3-ZN-...   \n",
       "4  http://example.org/building/Perimeter_ZN_2-ZN-...   \n",
       "\n",
       "                                                 wc2  \n",
       "0  http://example.org/building/Perimeter_ZN_1-ZN-...  \n",
       "1  http://example.org/building/Core_ZN-ZN-PSZ-AC-...  \n",
       "2  http://example.org/building/Perimeter_ZN_4-ZN-...  \n",
       "3  http://example.org/building/Perimeter_ZN_3-ZN-...  \n",
       "4  http://example.org/building/Perimeter_ZN_2-ZN-...  "
      ]
     },
     "execution_count": 9,
     "metadata": {},
     "output_type": "execute_result"
    }
   ],
   "source": [
    "compiled_model.shape_to_df(URIRef(\"urn:ashrae/g36/5.16.14/multiple-zone-vav-ahu-afdd/fc-2\")).head()"
   ]
  },
  {
   "cell_type": "code",
   "execution_count": 10,
   "metadata": {},
   "outputs": [
    {
     "data": {
      "text/plain": [
       "[('http://example.org/building/Perimeter_ZN_1-ZN-PSZ-AC-2-Mixed-Air-Node_System_Node_Temperature',\n",
       "  'http://example.org/building/Perimeter_ZN_1-ZN-PSZ-AC-2-Supply-Inlet-Node_System_Node_Temperature',\n",
       "  'http://example.org/building/Perimeter_ZN_1-ZN-PSZ-AC-2-Outdoor-Air-Node_System_Node_Temperature',\n",
       "  'http://example.org/building/Perimeter_ZN_1-ZN-PSZ-AC-2-Unitary-HP'),\n",
       " ('http://example.org/building/Core_ZN-ZN-PSZ-AC-1-Mixed-Air-Node_System_Node_Temperature',\n",
       "  'http://example.org/building/Core_ZN-ZN-PSZ-AC-1-Supply-Inlet-Node_System_Node_Temperature',\n",
       "  'http://example.org/building/Core_ZN-ZN-PSZ-AC-1-Outdoor-Air-Node_System_Node_Temperature',\n",
       "  'http://example.org/building/Core_ZN-ZN-PSZ-AC-1-Unitary-HP'),\n",
       " ('http://example.org/building/Perimeter_ZN_4-ZN-PSZ-AC-5-Mixed-Air-Node_System_Node_Temperature',\n",
       "  'http://example.org/building/Perimeter_ZN_4-ZN-PSZ-AC-5-Supply-Inlet-Node_System_Node_Temperature',\n",
       "  'http://example.org/building/Perimeter_ZN_4-ZN-PSZ-AC-5-Outdoor-Air-Node_System_Node_Temperature',\n",
       "  'http://example.org/building/Perimeter_ZN_4-ZN-PSZ-AC-5-Unitary-HP'),\n",
       " ('http://example.org/building/Perimeter_ZN_3-ZN-PSZ-AC-4-Mixed-Air-Node_System_Node_Temperature',\n",
       "  'http://example.org/building/Perimeter_ZN_3-ZN-PSZ-AC-4-Supply-Inlet-Node_System_Node_Temperature',\n",
       "  'http://example.org/building/Perimeter_ZN_3-ZN-PSZ-AC-4-Outdoor-Air-Node_System_Node_Temperature',\n",
       "  'http://example.org/building/Perimeter_ZN_3-ZN-PSZ-AC-4-Unitary-HP'),\n",
       " ('http://example.org/building/Perimeter_ZN_2-ZN-PSZ-AC-3-Mixed-Air-Node_System_Node_Temperature',\n",
       "  'http://example.org/building/Perimeter_ZN_2-ZN-PSZ-AC-3-Supply-Inlet-Node_System_Node_Temperature',\n",
       "  'http://example.org/building/Perimeter_ZN_2-ZN-PSZ-AC-3-Outdoor-Air-Node_System_Node_Temperature',\n",
       "  'http://example.org/building/Perimeter_ZN_2-ZN-PSZ-AC-3-Unitary-HP')]"
      ]
     },
     "execution_count": 10,
     "metadata": {},
     "output_type": "execute_result"
    }
   ],
   "source": [
    "import sqlite3\n",
    "conn = sqlite3.connect(':memory:')\n",
    "compiled_model.shape_to_table(URIRef(\"urn:ashrae/g36/5.16.14/multiple-zone-vav-ahu-afdd/fc-2\"), \"fc2\", conn)\n",
    "conn.execute('select * from fc2').fetchall()"
   ]
  },
  {
   "cell_type": "code",
   "execution_count": null,
   "metadata": {},
   "outputs": [],
   "source": []
  }
 ],
 "metadata": {
  "kernelspec": {
   "display_name": "Python 3 (ipykernel)",
   "language": "python",
   "name": "python3"
  },
  "language_info": {
   "codemirror_mode": {
    "name": "ipython",
    "version": 3
   },
   "file_extension": ".py",
   "mimetype": "text/x-python",
   "name": "python",
   "nbconvert_exporter": "python",
   "pygments_lexer": "ipython3",
   "version": "3.11.10"
  },
  "vscode": {
   "interpreter": {
    "hash": "15fae041f31e3c236ca4e007ba84180412c78f76afbcc47bd25b3db75fd5ecba"
   }
  }
 },
 "nbformat": 4,
 "nbformat_minor": 4
}
