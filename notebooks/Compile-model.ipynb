{
 "cells": [
  {
   "cell_type": "code",
   "execution_count": 1,
   "metadata": {},
   "outputs": [],
   "source": [
    "from buildingmotif import BuildingMOTIF\n",
    "from buildingmotif.dataclasses import Model, Library\n",
    "import os"
   ]
  },
  {
   "cell_type": "code",
   "execution_count": 2,
   "metadata": {},
   "outputs": [],
   "source": [
    "building_motif = BuildingMOTIF(\"sqlite://\")\n",
    "building_motif.setup_tables()"
   ]
  },
  {
   "cell_type": "markdown",
   "metadata": {},
   "source": [
    "## Load model from file"
   ]
  },
  {
   "cell_type": "code",
   "execution_count": 3,
   "metadata": {},
   "outputs": [
    {
     "data": {
      "text/plain": [
       "<Graph identifier=39eedd29-8258-4273-9865-9124d609ad4f (<class 'rdflib.graph.Graph'>)>"
      ]
     },
     "execution_count": 3,
     "metadata": {},
     "output_type": "execute_result"
    }
   ],
   "source": [
    "medium_office_model = Model.create(\"http://example.org/building/\")\n",
    "medium_office_model.graph.parse(os.path.join('mediumOffice-validation', 'mediumOffice_brick.ttl'), format=\"ttl\")"
   ]
  },
  {
   "cell_type": "markdown",
   "metadata": {},
   "source": [
    "## Load Brick Library"
   ]
  },
  {
   "cell_type": "code",
   "execution_count": 4,
   "metadata": {},
   "outputs": [
    {
     "name": "stderr",
     "output_type": "stream",
     "text": [
      "2022-08-08 08:45:19,482 | root |  WARNING: Warning: could not find dependee http://www.w3.org/2001/XMLSchema#string\n",
      "2022-08-08 08:45:19,483 | root |  WARNING: Warning: could not find dependee http://www.w3.org/2001/XMLSchema#string\n",
      "2022-08-08 08:45:19,484 | root |  WARNING: Warning: could not find dependee http://www.w3.org/2001/XMLSchema#nonNegativeInteger\n",
      "2022-08-08 08:45:19,485 | root |  WARNING: Warning: could not find dependee http://www.w3.org/2001/XMLSchema#string\n",
      "2022-08-08 08:45:19,486 | root |  WARNING: Warning: could not find dependee http://www.w3.org/2001/XMLSchema#dateTime\n",
      "2022-08-08 08:45:19,487 | root |  WARNING: Warning: could not find dependee http://data.ashrae.org/bacnet/2020#BACnetDevice\n",
      "2022-08-08 08:45:19,487 | root |  WARNING: Warning: could not find dependee http://www.w3.org/2001/XMLSchema#boolean\n",
      "2022-08-08 08:45:19,488 | root |  WARNING: Warning: could not find dependee http://www.w3.org/2001/XMLSchema#string\n",
      "2022-08-08 08:45:19,489 | root |  WARNING: Warning: could not find dependee https://brickschema.org/schema/Brick/ref#ifcProject\n",
      "2022-08-08 08:45:19,490 | root |  WARNING: Warning: could not find dependee http://www.w3.org/2001/XMLSchema#string\n",
      "2022-08-08 08:45:19,491 | root |  WARNING: Warning: could not find dependee http://www.w3.org/2001/XMLSchema#string\n",
      "2022-08-08 08:45:19,492 | root |  WARNING: Warning: could not find dependee http://www.w3.org/2001/XMLSchema#string\n"
     ]
    }
   ],
   "source": [
    "brick = Library.load(ontology_graph=\"../libraries/brick/Brick-full.ttl\")"
   ]
  },
  {
   "cell_type": "markdown",
   "metadata": {},
   "source": [
    "## Compile Model"
   ]
  },
  {
   "cell_type": "code",
   "execution_count": 5,
   "metadata": {},
   "outputs": [],
   "source": [
    "compiled_model = medium_office_model.compile(medium_office_model, [brick.get_shape_collection()])"
   ]
  },
  {
   "cell_type": "code",
   "execution_count": 7,
   "metadata": {},
   "outputs": [
    {
     "name": "stdout",
     "output_type": "stream",
     "text": [
      "[a rdfg:Graph;rdflib:storage [a rdflib:Store;rdfs:label 'Memory']].\n"
     ]
    }
   ],
   "source": [
    "print(compiled_model.serialize(format=\"ttl\", destination=\"mediumOffice-validation/mediumOffice_brick_compiled.ttl\"))"
   ]
  },
  {
   "cell_type": "code",
   "execution_count": null,
   "metadata": {},
   "outputs": [],
   "source": []
  }
 ],
 "metadata": {
  "kernelspec": {
   "display_name": "Python 3.8.2 ('.venv': poetry)",
   "language": "python",
   "name": "python3"
  },
  "language_info": {
   "codemirror_mode": {
    "name": "ipython",
    "version": 3
   },
   "file_extension": ".py",
   "mimetype": "text/x-python",
   "name": "python",
   "nbconvert_exporter": "python",
   "pygments_lexer": "ipython3",
   "version": "3.8.2"
  },
  "orig_nbformat": 4,
  "vscode": {
   "interpreter": {
    "hash": "15fae041f31e3c236ca4e007ba84180412c78f76afbcc47bd25b3db75fd5ecba"
   }
  }
 },
 "nbformat": 4,
 "nbformat_minor": 2
}
