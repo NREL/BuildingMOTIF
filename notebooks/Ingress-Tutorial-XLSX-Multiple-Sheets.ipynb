{
 "cells": [
  {
   "cell_type": "code",
   "execution_count": null,
   "id": "7385ef36-ac6c-46e1-ad5b-45fc75137019",
   "metadata": {
    "execution": {
     "iopub.execute_input": "2024-07-03T00:17:16.146859Z",
     "iopub.status.busy": "2024-07-03T00:17:16.146556Z",
     "iopub.status.idle": "2024-07-03T00:17:16.714713Z",
     "shell.execute_reply": "2024-07-03T00:17:16.714232Z"
    }
   },
   "outputs": [],
   "source": [
    "from rdflib import Namespace, Graph\n",
    "from buildingmotif import BuildingMOTIF\n",
    "from buildingmotif.namespaces import BRICK\n",
    "from buildingmotif.dataclasses import Model, Library, Template\n",
    "from buildingmotif.ingresses.xlsx import XLSXIngress\n",
    "from buildingmotif.ingresses import TemplateIngressWithChooser, Record"
   ]
  },
  {
   "cell_type": "code",
   "execution_count": null,
   "id": "4ab8e1ee-ff06-4357-8c9f-5b62c898fb8a",
   "metadata": {
    "execution": {
     "iopub.execute_input": "2024-07-03T00:17:16.716927Z",
     "iopub.status.busy": "2024-07-03T00:17:16.716775Z",
     "iopub.status.idle": "2024-07-03T00:17:16.740351Z",
     "shell.execute_reply": "2024-07-03T00:17:16.739996Z"
    }
   },
   "outputs": [],
   "source": [
    "bm = BuildingMOTIF(\"sqlite://\", \"topquadrant\") # in-memory"
   ]
  },
  {
   "cell_type": "code",
   "execution_count": null,
   "id": "42d77bb4-6c5f-43cd-8d85-b8f6002e67ee",
   "metadata": {
    "execution": {
     "iopub.execute_input": "2024-07-03T00:17:16.742230Z",
     "iopub.status.busy": "2024-07-03T00:17:16.742090Z",
     "iopub.status.idle": "2024-07-03T00:17:51.288665Z",
     "shell.execute_reply": "2024-07-03T00:17:51.288291Z"
    }
   },
   "outputs": [],
   "source": [
    "BLDG = Namespace(\"urn:my_site/\")\n",
    "model = Model.create(BLDG)\n",
    "_ = Library.load(ontology_graph=\"../libraries/brick/Brick.ttl\")\n",
    "lib = Library.load(directory=\"tutorial\")"
   ]
  },
  {
   "cell_type": "code",
   "execution_count": null,
   "id": "6d2748ce-f1b8-420e-bd59-0c2c29992a8b",
   "metadata": {
    "execution": {
     "iopub.execute_input": "2024-07-03T00:17:51.291620Z",
     "iopub.status.busy": "2024-07-03T00:17:51.291057Z",
     "iopub.status.idle": "2024-07-03T00:17:51.294840Z",
     "shell.execute_reply": "2024-07-03T00:17:51.294454Z"
    }
   },
   "outputs": [],
   "source": [
    "tstat_templ = lib.get_template_by_name('my-thermostat')\n",
    "point_templ = lib.get_template_by_name('my-tstat-points')"
   ]
  },
  {
   "cell_type": "code",
   "execution_count": null,
   "id": "3c5cddc3-c41f-4d10-aeb5-9d2a368a5b33",
   "metadata": {
    "execution": {
     "iopub.execute_input": "2024-07-03T00:17:51.296688Z",
     "iopub.status.busy": "2024-07-03T00:17:51.296552Z",
     "iopub.status.idle": "2024-07-03T00:17:51.299377Z",
     "shell.execute_reply": "2024-07-03T00:17:51.299094Z"
    }
   },
   "outputs": [],
   "source": [
    "def mapper(key: str) -> str:\n",
    "    return {\n",
    "        \"tstat\": \"name\",\n",
    "        \"name\": \"room\",\n",
    "        \"temp_sensor\": \"temp\",\n",
    "        \"setpoint\": \"sp\",\n",
    "        # 'co2' parameter has correct name in spreadsheet\n",
    "    }.get(key, key)\n",
    "\n",
    "def chooser(rec: Record) -> Template:\n",
    "    if rec.rtype == 'thermostats':\n",
    "        return tstat_templ\n",
    "    elif rec.rtype == 'thermostat points':\n",
    "        return point_templ.inline_dependencies()"
   ]
  },
  {
   "cell_type": "code",
   "execution_count": null,
   "id": "6bd443c2-ee0b-46d3-8cb5-b24c884ffe80",
   "metadata": {
    "execution": {
     "iopub.execute_input": "2024-07-03T00:17:51.301169Z",
     "iopub.status.busy": "2024-07-03T00:17:51.301031Z",
     "iopub.status.idle": "2024-07-03T00:17:51.303085Z",
     "shell.execute_reply": "2024-07-03T00:17:51.302782Z"
    }
   },
   "outputs": [],
   "source": [
    "xlsx = XLSXIngress(\"tutorial/thermostats-with-points.xlsx\")\n",
    "ingress = TemplateIngressWithChooser(chooser, mapper, xlsx)"
   ]
  },
  {
   "cell_type": "code",
   "execution_count": null,
   "id": "036625bc-f699-4df9-afe7-2fb449b211fd",
   "metadata": {
    "execution": {
     "iopub.execute_input": "2024-07-03T00:17:51.304831Z",
     "iopub.status.busy": "2024-07-03T00:17:51.304614Z",
     "iopub.status.idle": "2024-07-03T00:17:51.325235Z",
     "shell.execute_reply": "2024-07-03T00:17:51.324887Z"
    }
   },
   "outputs": [],
   "source": [
    "model.add_graph(ingress.graph(BLDG))"
   ]
  },
  {
   "cell_type": "code",
   "execution_count": null,
   "id": "2a4ee9c4-e138-46c0-a21b-8c2aad2f4b31",
   "metadata": {
    "execution": {
     "iopub.execute_input": "2024-07-03T00:17:51.327126Z",
     "iopub.status.busy": "2024-07-03T00:17:51.326983Z",
     "iopub.status.idle": "2024-07-03T00:17:51.354402Z",
     "shell.execute_reply": "2024-07-03T00:17:51.354038Z"
    }
   },
   "outputs": [],
   "source": [
    "print(model.graph.serialize())"
   ]
  },
  {
   "cell_type": "code",
   "execution_count": null,
   "id": "38e5cb35-c423-4e0d-a778-f3e3fdef6b8b",
   "metadata": {},
   "outputs": [],
   "source": []
  }
 ],
 "metadata": {
  "kernelspec": {
   "display_name": ".venv",
   "language": "python",
   "name": "python3"
  },
  "language_info": {
   "codemirror_mode": {
    "name": "ipython",
    "version": 3
   },
   "file_extension": ".py",
   "mimetype": "text/x-python",
   "name": "python",
   "nbconvert_exporter": "python",
   "pygments_lexer": "ipython3",
   "version": "3.9.6"
  }
 },
 "nbformat": 4,
 "nbformat_minor": 5
}
