{
 "cells": [
  {
   "cell_type": "code",
   "execution_count": 1,
   "id": "7385ef36-ac6c-46e1-ad5b-45fc75137019",
   "metadata": {
    "execution": {
     "iopub.execute_input": "2024-07-03T00:17:16.146859Z",
     "iopub.status.busy": "2024-07-03T00:17:16.146556Z",
     "iopub.status.idle": "2024-07-03T00:17:16.714713Z",
     "shell.execute_reply": "2024-07-03T00:17:16.714232Z"
    }
   },
   "outputs": [],
   "source": [
    "from rdflib import Namespace, Graph\n",
    "from buildingmotif import BuildingMOTIF\n",
    "from buildingmotif.namespaces import BRICK\n",
    "from buildingmotif.dataclasses import Model, Library, Template\n",
    "from buildingmotif.ingresses.xlsx import XLSXIngress\n",
    "from buildingmotif.ingresses import TemplateIngressWithChooser, Record"
   ]
  },
  {
   "cell_type": "code",
   "execution_count": 2,
   "id": "4ab8e1ee-ff06-4357-8c9f-5b62c898fb8a",
   "metadata": {
    "execution": {
     "iopub.execute_input": "2024-07-03T00:17:16.716927Z",
     "iopub.status.busy": "2024-07-03T00:17:16.716775Z",
     "iopub.status.idle": "2024-07-03T00:17:16.740351Z",
     "shell.execute_reply": "2024-07-03T00:17:16.739996Z"
    }
   },
   "outputs": [],
   "source": [
    "bm = BuildingMOTIF(\"sqlite://\") # in-memory"
   ]
  },
  {
   "cell_type": "code",
   "execution_count": 3,
   "id": "42d77bb4-6c5f-43cd-8d85-b8f6002e67ee",
   "metadata": {
    "execution": {
     "iopub.execute_input": "2024-07-03T00:17:16.742230Z",
     "iopub.status.busy": "2024-07-03T00:17:16.742090Z",
     "iopub.status.idle": "2024-07-03T00:17:51.288665Z",
     "shell.execute_reply": "2024-07-03T00:17:51.288291Z"
    }
   },
   "outputs": [
    {
     "name": "stderr",
     "output_type": "stream",
     "text": [
      "/Users/gabe/Library/Caches/pypoetry/virtualenvs/buildingmotif-ozGZrh9J-py3.11/lib/python3.11/site-packages/pyshacl/extras/__init__.py:46: Warning: Extra \"js\" is not satisfied because requirement pyduktape2 is not installed.\n",
      "  warn(Warning(f\"Extra \\\"{extra_name}\\\" is not satisfied because requirement {req} is not installed.\"))\n"
     ]
    },
    {
     "name": "stderr",
     "output_type": "stream",
     "text": [
      "2024-07-02 18:17:47,330 | root |  WARNING: An ontology could not resolve a dependency on http://qudt.org/2.1/vocab/unit (No row was found when one was required). Check this is loaded into BuildingMOTIF\n"
     ]
    },
    {
     "name": "stderr",
     "output_type": "stream",
     "text": [
      "2024-07-02 18:17:47,331 | root |  WARNING: An ontology could not resolve a dependency on http://qudt.org/2.1/collection/usertest (No row was found when one was required). Check this is loaded into BuildingMOTIF\n"
     ]
    },
    {
     "name": "stderr",
     "output_type": "stream",
     "text": [
      "2024-07-02 18:17:47,332 | root |  WARNING: An ontology could not resolve a dependency on http://qudt.org/2.1/vocab/sou (No row was found when one was required). Check this is loaded into BuildingMOTIF\n"
     ]
    },
    {
     "name": "stderr",
     "output_type": "stream",
     "text": [
      "2024-07-02 18:17:47,333 | root |  WARNING: An ontology could not resolve a dependency on http://qudt.org/2.1/schema/facade/qudt (No row was found when one was required). Check this is loaded into BuildingMOTIF\n"
     ]
    },
    {
     "name": "stderr",
     "output_type": "stream",
     "text": [
      "2024-07-02 18:17:47,333 | root |  WARNING: An ontology could not resolve a dependency on https://brickschema.org/schema/Brick/ref (No row was found when one was required). Check this is loaded into BuildingMOTIF\n"
     ]
    },
    {
     "name": "stderr",
     "output_type": "stream",
     "text": [
      "2024-07-02 18:17:47,334 | root |  WARNING: An ontology could not resolve a dependency on http://qudt.org/2.1/vocab/dimensionvector (No row was found when one was required). Check this is loaded into BuildingMOTIF\n"
     ]
    },
    {
     "name": "stderr",
     "output_type": "stream",
     "text": [
      "2024-07-02 18:17:47,335 | root |  WARNING: An ontology could not resolve a dependency on http://qudt.org/2.1/schema/shacl/qudt (No row was found when one was required). Check this is loaded into BuildingMOTIF\n"
     ]
    },
    {
     "name": "stderr",
     "output_type": "stream",
     "text": [
      "2024-07-02 18:17:47,335 | root |  WARNING: An ontology could not resolve a dependency on http://data.ashrae.org/bacnet/2020 (No row was found when one was required). Check this is loaded into BuildingMOTIF\n"
     ]
    },
    {
     "name": "stderr",
     "output_type": "stream",
     "text": [
      "2024-07-02 18:17:47,336 | root |  WARNING: An ontology could not resolve a dependency on http://qudt.org/2.1/vocab/prefix (No row was found when one was required). Check this is loaded into BuildingMOTIF\n"
     ]
    },
    {
     "name": "stderr",
     "output_type": "stream",
     "text": [
      "2024-07-02 18:17:47,336 | root |  WARNING: An ontology could not resolve a dependency on http://qudt.org/2.1/vocab/quantitykind (No row was found when one was required). Check this is loaded into BuildingMOTIF\n"
     ]
    },
    {
     "name": "stderr",
     "output_type": "stream",
     "text": [
      "2024-07-02 18:17:47,337 | root |  WARNING: An ontology could not resolve a dependency on http://qudt.org/2.1/schema/shacl/overlay/qudt (No row was found when one was required). Check this is loaded into BuildingMOTIF\n"
     ]
    },
    {
     "name": "stderr",
     "output_type": "stream",
     "text": [
      "2024-07-02 18:17:47,337 | root |  WARNING: An ontology could not resolve a dependency on https://w3id.org/rec/recimports (No row was found when one was required). Check this is loaded into BuildingMOTIF\n"
     ]
    },
    {
     "name": "stderr",
     "output_type": "stream",
     "text": [
      "2024-07-02 18:17:49,413 | root |  WARNING: Warning: could not find dependee nb7e878b0047d4b27a2c7f46207606066b7727 in libraries []\n"
     ]
    },
    {
     "name": "stderr",
     "output_type": "stream",
     "text": [
      "2024-07-02 18:17:49,417 | root |  WARNING: Warning: could not find dependee nb7e878b0047d4b27a2c7f46207606066b7725 in libraries []\n"
     ]
    },
    {
     "name": "stderr",
     "output_type": "stream",
     "text": [
      "2024-07-02 18:17:49,420 | root |  WARNING: Warning: could not find dependee nb7e878b0047d4b27a2c7f46207606066b7729 in libraries []\n"
     ]
    },
    {
     "name": "stderr",
     "output_type": "stream",
     "text": [
      "2024-07-02 18:17:49,423 | root |  WARNING: Warning: could not find dependee nb7e878b0047d4b27a2c7f46207606066b7721 in libraries []\n"
     ]
    },
    {
     "name": "stderr",
     "output_type": "stream",
     "text": [
      "2024-07-02 18:17:49,426 | root |  WARNING: Warning: could not find dependee nb7e878b0047d4b27a2c7f46207606066b7723 in libraries []\n"
     ]
    },
    {
     "name": "stderr",
     "output_type": "stream",
     "text": [
      "2024-07-02 18:17:49,430 | root |  WARNING: Warning: could not find dependee nb7e878b0047d4b27a2c7f46207606066b7579 in libraries []\n"
     ]
    },
    {
     "name": "stderr",
     "output_type": "stream",
     "text": [
      "2024-07-02 18:17:49,433 | root |  WARNING: Warning: could not find dependee nb7e878b0047d4b27a2c7f46207606066b7581 in libraries []\n"
     ]
    },
    {
     "name": "stderr",
     "output_type": "stream",
     "text": [
      "2024-07-02 18:17:49,435 | root |  WARNING: Warning: could not find dependee nb7e878b0047d4b27a2c7f46207606066b7589 in libraries []\n"
     ]
    },
    {
     "name": "stderr",
     "output_type": "stream",
     "text": [
      "2024-07-02 18:17:49,438 | root |  WARNING: Warning: could not find dependee nb7e878b0047d4b27a2c7f46207606066b7587 in libraries []\n"
     ]
    },
    {
     "name": "stderr",
     "output_type": "stream",
     "text": [
      "2024-07-02 18:17:49,441 | root |  WARNING: Warning: could not find dependee nb7e878b0047d4b27a2c7f46207606066b7585 in libraries []\n"
     ]
    },
    {
     "name": "stderr",
     "output_type": "stream",
     "text": [
      "2024-07-02 18:17:49,444 | root |  WARNING: Warning: could not find dependee nb7e878b0047d4b27a2c7f46207606066b7583 in libraries []\n"
     ]
    },
    {
     "name": "stderr",
     "output_type": "stream",
     "text": [
      "2024-07-02 18:17:49,448 | root |  WARNING: Warning: could not find dependee nb7e878b0047d4b27a2c7f46207606066b7651 in libraries []\n"
     ]
    },
    {
     "name": "stderr",
     "output_type": "stream",
     "text": [
      "2024-07-02 18:17:49,451 | root |  WARNING: Warning: could not find dependee nb7e878b0047d4b27a2c7f46207606066b7645 in libraries []\n"
     ]
    },
    {
     "name": "stderr",
     "output_type": "stream",
     "text": [
      "2024-07-02 18:17:49,453 | root |  WARNING: Warning: could not find dependee nb7e878b0047d4b27a2c7f46207606066b7649 in libraries []\n"
     ]
    },
    {
     "name": "stderr",
     "output_type": "stream",
     "text": [
      "2024-07-02 18:17:49,456 | root |  WARNING: Warning: could not find dependee nb7e878b0047d4b27a2c7f46207606066b7653 in libraries []\n"
     ]
    },
    {
     "name": "stderr",
     "output_type": "stream",
     "text": [
      "2024-07-02 18:17:49,459 | root |  WARNING: Warning: could not find dependee nb7e878b0047d4b27a2c7f46207606066b7647 in libraries []\n"
     ]
    },
    {
     "name": "stderr",
     "output_type": "stream",
     "text": [
      "2024-07-02 18:17:49,461 | root |  WARNING: Warning: could not find dependee nb7e878b0047d4b27a2c7f46207606066b7630 in libraries []\n"
     ]
    },
    {
     "name": "stderr",
     "output_type": "stream",
     "text": [
      "2024-07-02 18:17:49,464 | root |  WARNING: Warning: could not find dependee nb7e878b0047d4b27a2c7f46207606066b7636 in libraries []\n"
     ]
    },
    {
     "name": "stderr",
     "output_type": "stream",
     "text": [
      "2024-07-02 18:17:49,467 | root |  WARNING: Warning: could not find dependee nb7e878b0047d4b27a2c7f46207606066b7632 in libraries []\n"
     ]
    },
    {
     "name": "stderr",
     "output_type": "stream",
     "text": [
      "2024-07-02 18:17:49,470 | root |  WARNING: Warning: could not find dependee nb7e878b0047d4b27a2c7f46207606066b7634 in libraries []\n"
     ]
    },
    {
     "name": "stderr",
     "output_type": "stream",
     "text": [
      "2024-07-02 18:17:49,473 | root |  WARNING: Warning: could not find dependee nb7e878b0047d4b27a2c7f46207606066b7638 in libraries []\n"
     ]
    },
    {
     "name": "stderr",
     "output_type": "stream",
     "text": [
      "2024-07-02 18:17:49,476 | root |  WARNING: Warning: could not find dependee nb7e878b0047d4b27a2c7f46207606066b7628 in libraries []\n"
     ]
    }
   ],
   "source": [
    "BLDG = Namespace(\"urn:my_site/\")\n",
    "model = Model.create(BLDG)\n",
    "_ = Library.load(ontology_graph=\"../libraries/brick/Brick.ttl\")\n",
    "lib = Library.load(directory=\"tutorial\")"
   ]
  },
  {
   "cell_type": "code",
   "execution_count": 4,
   "id": "6d2748ce-f1b8-420e-bd59-0c2c29992a8b",
   "metadata": {
    "execution": {
     "iopub.execute_input": "2024-07-03T00:17:51.291620Z",
     "iopub.status.busy": "2024-07-03T00:17:51.291057Z",
     "iopub.status.idle": "2024-07-03T00:17:51.294840Z",
     "shell.execute_reply": "2024-07-03T00:17:51.294454Z"
    }
   },
   "outputs": [],
   "source": [
    "tstat_templ = lib.get_template_by_name('my-thermostat')\n",
    "point_templ = lib.get_template_by_name('my-tstat-points')"
   ]
  },
  {
   "cell_type": "code",
   "execution_count": 5,
   "id": "3c5cddc3-c41f-4d10-aeb5-9d2a368a5b33",
   "metadata": {
    "execution": {
     "iopub.execute_input": "2024-07-03T00:17:51.296688Z",
     "iopub.status.busy": "2024-07-03T00:17:51.296552Z",
     "iopub.status.idle": "2024-07-03T00:17:51.299377Z",
     "shell.execute_reply": "2024-07-03T00:17:51.299094Z"
    }
   },
   "outputs": [],
   "source": [
    "def mapper(key: str) -> str:\n",
    "    return {\n",
    "        \"tstat\": \"name\",\n",
    "        \"name\": \"room\",\n",
    "        \"temp_sensor\": \"temp\",\n",
    "        \"setpoint\": \"sp\",\n",
    "        # 'co2' parameter has correct name in spreadsheet\n",
    "    }.get(key, key)\n",
    "\n",
    "def chooser(rec: Record) -> Template:\n",
    "    if rec.rtype == 'thermostats':\n",
    "        return tstat_templ\n",
    "    elif rec.rtype == 'thermostat points':\n",
    "        return point_templ.inline_dependencies()"
   ]
  },
  {
   "cell_type": "code",
   "execution_count": 6,
   "id": "6bd443c2-ee0b-46d3-8cb5-b24c884ffe80",
   "metadata": {
    "execution": {
     "iopub.execute_input": "2024-07-03T00:17:51.301169Z",
     "iopub.status.busy": "2024-07-03T00:17:51.301031Z",
     "iopub.status.idle": "2024-07-03T00:17:51.303085Z",
     "shell.execute_reply": "2024-07-03T00:17:51.302782Z"
    }
   },
   "outputs": [],
   "source": [
    "xlsx = XLSXIngress(\"tutorial/thermostats-with-points.xlsx\")\n",
    "ingress = TemplateIngressWithChooser(chooser, mapper, xlsx)"
   ]
  },
  {
   "cell_type": "code",
   "execution_count": 7,
   "id": "036625bc-f699-4df9-afe7-2fb449b211fd",
   "metadata": {
    "execution": {
     "iopub.execute_input": "2024-07-03T00:17:51.304831Z",
     "iopub.status.busy": "2024-07-03T00:17:51.304614Z",
     "iopub.status.idle": "2024-07-03T00:17:51.325235Z",
     "shell.execute_reply": "2024-07-03T00:17:51.324887Z"
    }
   },
   "outputs": [],
   "source": [
    "model.add_graph(ingress.graph(BLDG))"
   ]
  },
  {
   "cell_type": "code",
   "execution_count": 8,
   "id": "2a4ee9c4-e138-46c0-a21b-8c2aad2f4b31",
   "metadata": {
    "execution": {
     "iopub.execute_input": "2024-07-03T00:17:51.327126Z",
     "iopub.status.busy": "2024-07-03T00:17:51.326983Z",
     "iopub.status.idle": "2024-07-03T00:17:51.354402Z",
     "shell.execute_reply": "2024-07-03T00:17:51.354038Z"
    }
   },
   "outputs": [
    {
     "name": "stdout",
     "output_type": "stream",
     "text": [
      "@prefix brick: <https://brickschema.org/schema/Brick#> .\n",
      "@prefix owl: <http://www.w3.org/2002/07/owl#> .\n",
      "\n",
      "<urn:my_site/> a owl:Ontology .\n",
      "\n",
      "<urn:my_site/Thermostat-1> a brick:Thermostat ;\n",
      "    brick:hasLocation <urn:my_site/R410> ;\n",
      "    brick:hasPoint <urn:my_site/CO2-sensor-1>,\n",
      "        <urn:my_site/ZTS-1>,\n",
      "        <urn:my_site/ZTSP-1> .\n",
      "\n",
      "<urn:my_site/Thermostat-2> a brick:Thermostat ;\n",
      "    brick:hasLocation <urn:my_site/R411> ;\n",
      "    brick:hasPoint <urn:my_site/CO2-sensor-2>,\n",
      "        <urn:my_site/ZTS-2>,\n",
      "        <urn:my_site/ZTSP-2> .\n",
      "\n",
      "<urn:my_site/CO2-sensor-1> a brick:CO2_Sensor .\n",
      "\n",
      "<urn:my_site/CO2-sensor-2> a brick:CO2_Sensor .\n",
      "\n",
      "<urn:my_site/ZTS-1> a brick:Temperature_Sensor .\n",
      "\n",
      "<urn:my_site/ZTS-2> a brick:Temperature_Sensor .\n",
      "\n",
      "<urn:my_site/ZTSP-1> a brick:Temperature_Setpoint .\n",
      "\n",
      "<urn:my_site/ZTSP-2> a brick:Temperature_Setpoint .\n",
      "\n",
      "\n"
     ]
    }
   ],
   "source": [
    "print(model.graph.serialize())"
   ]
  },
  {
   "cell_type": "code",
   "execution_count": null,
   "id": "38e5cb35-c423-4e0d-a778-f3e3fdef6b8b",
   "metadata": {},
   "outputs": [],
   "source": []
  }
 ],
 "metadata": {
  "kernelspec": {
   "display_name": "buildingmotifvenv",
   "language": "python",
   "name": "buildingmotifvenv"
  },
  "language_info": {
   "codemirror_mode": {
    "name": "ipython",
    "version": 3
   },
   "file_extension": ".py",
   "mimetype": "text/x-python",
   "name": "python",
   "nbconvert_exporter": "python",
   "pygments_lexer": "ipython3",
   "version": "3.11.9"
  }
 },
 "nbformat": 4,
 "nbformat_minor": 5
}
