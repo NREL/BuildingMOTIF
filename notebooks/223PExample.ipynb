{
 "cells": [
  {
   "cell_type": "code",
   "execution_count": null,
   "id": "38454657-d000-46f2-95e4-e99b0bc52801",
   "metadata": {},
   "outputs": [],
   "source": [
    "from rdflib import Namespace\n",
    "\n",
    "from buildingmotif import BuildingMOTIF\n",
    "from buildingmotif.dataclasses import Library, Model\n",
    "from buildingmotif.namespaces import bind_prefixes"
   ]
  },
  {
   "cell_type": "code",
   "execution_count": null,
   "id": "aa15819b-2501-4b0c-affc-0c56e1cfaf5f",
   "metadata": {},
   "outputs": [],
   "source": [
    "# setup our buildingmotif instance\n",
    "bm = BuildingMOTIF(\"sqlite://\")\n",
    "\n",
    "# create the model w/ a namespace\n",
    "BLDG = Namespace(\"urn:ex/\")\n",
    "bldg = Model.create(BLDG)\n",
    "bind_prefixes(bldg.graph)\n",
    "bldg.graph.bind(\"bldg\", BLDG)\n",
    "\n",
    "things = []"
   ]
  },
  {
   "cell_type": "code",
   "execution_count": null,
   "id": "82937a40-9f9a-4d8f-88a0-57eeceb82fba",
   "metadata": {},
   "outputs": [],
   "source": [
    "# load libraries\n",
    "# NREL templates for 223P\n",
    "nrel_lib = Library.load(directory=\"../libraries/ashrae/223p/nrel-templates\")\n",
    "# 223P ontology\n",
    "s223 = Library.load(ontology_graph=\"../libraries/ashrae/223p/ontology/223p.ttl\")"
   ]
  },
  {
   "cell_type": "code",
   "execution_count": null,
   "id": "0c163759-aca8-4abb-9f43-4367f3b51635",
   "metadata": {
    "tags": []
   },
   "outputs": [],
   "source": [
    "# get some templates from the library\n",
    "mau_templ = nrel_lib.get_template_by_name(\"makeup-air-unit\").inline_dependencies()\n",
    "vav_templ = nrel_lib.get_template_by_name(\"vav-reheat\").inline_dependencies()\n",
    "duct_templ = nrel_lib.get_template_by_name(\"duct\").inline_dependencies()\n",
    "zone_templ = nrel_lib.get_template_by_name(\"hvac-zone\").inline_dependencies()\n",
    "space_templ = nrel_lib.get_template_by_name(\"hvac-space\").inline_dependencies()\n",
    "fcu_templ = nrel_lib.get_template_by_name(\"fcu\").inline_dependencies()\n",
    "chws_templ = nrel_lib.get_template_by_name(\"chilled-water-system\").inline_dependencies()\n",
    "hws_templ = nrel_lib.get_template_by_name(\"hot-water-system\").inline_dependencies()"
   ]
  },
  {
   "cell_type": "code",
   "execution_count": null,
   "id": "efa6c09b-33a1-4f5a-a707-afe96cc2d28f",
   "metadata": {},
   "outputs": [],
   "source": [
    "# create a makeup air unit\n",
    "mau = mau_templ.evaluate({\"name\": BLDG.MAU, \"air-supply\": BLDG.MAU_Supply})\n",
    "things.append(mau)"
   ]
  },
  {
   "cell_type": "code",
   "execution_count": null,
   "id": "53e97a71-8858-4618-a24e-c0fc09d8dcfc",
   "metadata": {},
   "outputs": [],
   "source": [
    "# make 2 VAVs, connect them to the MAU via ducts\n",
    "vav1 = vav_templ.evaluate({\"name\": BLDG[\"VAV-1\"], \"air-in\": BLDG[\"VAV-1-in\"]})\n",
    "mau_to_vav1 = duct_templ.evaluate({\"a\": BLDG.MAU_Supply, \"b\": BLDG[\"VAV-1-in\"]})\n",
    "things.append(vav1)\n",
    "things.append(mau_to_vav1)\n",
    "\n",
    "vav2 = vav_templ.evaluate({\"name\": BLDG[\"VAV-2\"], \"air-in\": BLDG[\"VAV-2-in\"]})\n",
    "things.append(vav2)\n",
    "mau_to_vav2 = duct_templ.evaluate({\"a\": BLDG.MAU_Supply, \"b\": BLDG[\"VAV-2-in\"]})\n",
    "things.append(mau_to_vav2)"
   ]
  },
  {
   "cell_type": "code",
   "execution_count": null,
   "id": "2d465c95-ba80-4490-88c5-24e579bcd66e",
   "metadata": {},
   "outputs": [],
   "source": [
    "# VAV1 goes to Zone 1\n",
    "zone1 = zone_templ.evaluate({\"name\": BLDG[\"zone1\"]})\n",
    "things.append(zone1)\n",
    "zone1space1 = space_templ.evaluate({\"name\": BLDG[\"zone1space1\"], \"zone\": BLDG[\"zone1\"]})\n",
    "things.append(zone1space1)\n",
    "vav1_to_zone1 = duct_templ.evaluate({\"a\": BLDG[\"VAV-1-out\"], \"b\": BLDG[\"zone1-in\"]})\n",
    "things.append(vav1_to_zone1)"
   ]
  },
  {
   "cell_type": "code",
   "execution_count": null,
   "id": "b88f6de9-5079-4d82-a958-88a846b5ed96",
   "metadata": {},
   "outputs": [],
   "source": [
    "# VAV2 goes to FCU1\n",
    "fcu1 = fcu_templ.evaluate({\"name\": BLDG[\"fcu1\"]})\n",
    "vav2_to_fcu1 = duct_templ.evaluate({\"a\": BLDG[\"VAV-2-out\"], \"b\": BLDG[\"fcu1-in\"]})\n",
    "things.extend([fcu1, vav2_to_fcu1])"
   ]
  },
  {
   "cell_type": "code",
   "execution_count": null,
   "id": "1472005f-46dc-4e00-8ce3-4ace1d30118d",
   "metadata": {},
   "outputs": [],
   "source": [
    "# FCU1 goes to Zone 2\n",
    "zone2 = zone_templ.evaluate({\"name\": BLDG[\"zone2\"]})\n",
    "zone2space1 = space_templ.evaluate({\"name\": BLDG[\"zone2space1\"], \"zone\": BLDG[\"zone2\"]})\n",
    "fcu1_to_zone2 = duct_templ.evaluate({\"a\": BLDG[\"fcu1-out\"], \"b\": BLDG[\"zone2-in\"]})\n",
    "things.extend([zone2, zone2space1, fcu1_to_zone2])"
   ]
  },
  {
   "cell_type": "code",
   "execution_count": null,
   "id": "54403950-df7d-4423-be05-b805258b9a70",
   "metadata": {},
   "outputs": [],
   "source": [
    "# add chws, hws\n",
    "chws = chws_templ.evaluate({\"name\": BLDG[\"CHWS\"]})\n",
    "hws = hws_templ.evaluate({\"name\": BLDG[\"HWS\"]})\n",
    "things.extend([chws, hws])"
   ]
  },
  {
   "cell_type": "code",
   "execution_count": null,
   "id": "5d49743f-9efc-4983-8034-61f90e2ef6d9",
   "metadata": {},
   "outputs": [],
   "source": [
    "# fill in all the extra parameters with invented names\n",
    "for templ in things:\n",
    "    print(templ.name)\n",
    "    _, graph = templ.fill(BLDG, include_optional = True)\n",
    "    bldg.add_graph(graph)"
   ]
  },
  {
   "cell_type": "code",
   "execution_count": null,
   "id": "870fe01d-cbf3-4b66-b195-d64fca8ac233",
   "metadata": {
    "tags": []
   },
   "outputs": [],
   "source": [
    "# look at finished model\n",
    "print(bldg.graph.serialize())\n",
    "bldg.graph.serialize(\"output.ttl\")"
   ]
  },
  {
   "cell_type": "code",
   "execution_count": null,
   "id": "f58dba4e-4523-496e-ac55-61550824c73a",
   "metadata": {},
   "outputs": [],
   "source": [
    "# validate against 223P\n",
    "ctx = bldg.validate([s223.get_shape_collection()])\n",
    "print(ctx.valid)\n",
    "print(ctx.report_string)"
   ]
  },
  {
   "cell_type": "code",
   "execution_count": null,
   "id": "63662fb6-79fb-4902-8e14-898aed6438cc",
   "metadata": {},
   "outputs": [],
   "source": [
    "bldg.add_graph(mau_templ.fill(BLDG)[1])"
   ]
  },
  {
   "cell_type": "code",
   "execution_count": null,
   "id": "7e0e4a07-bd74-4941-85a5-26c05ed22285",
   "metadata": {},
   "outputs": [],
   "source": [
    "ctx = bldg.validate([s223.get_shape_collection()])\n",
    "print(ctx.valid)\n",
    "print(ctx.report_string)"
   ]
  },
  {
   "cell_type": "code",
   "execution_count": null,
   "id": "d54b3f6c-d5bb-4d21-9482-85db2b5f2797",
   "metadata": {},
   "outputs": [],
   "source": [
    "print(mau_templ.fill(BLDG)[1].serialize())\n"
   ]
  },
  {
   "cell_type": "code",
   "execution_count": null,
   "id": "75cc8512-b81f-4c95-bdef-02d96cd18fe3",
   "metadata": {},
   "outputs": [],
   "source": []
  }
 ],
 "metadata": {
  "kernelspec": {
   "display_name": "Python 3 (ipykernel)",
   "language": "python",
   "name": "python3"
  },
  "language_info": {
   "codemirror_mode": {
    "name": "ipython",
    "version": 3
   },
   "file_extension": ".py",
   "mimetype": "text/x-python",
   "name": "python",
   "nbconvert_exporter": "python",
   "pygments_lexer": "ipython3",
   "version": "3.9.12"
  }
 },
 "nbformat": 4,
 "nbformat_minor": 5
}
