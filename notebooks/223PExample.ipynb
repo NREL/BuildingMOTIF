{
 "cells": [
  {
   "cell_type": "code",
   "execution_count": 1,
   "id": "38454657-d000-46f2-95e4-e99b0bc52801",
   "metadata": {},
   "outputs": [],
   "source": [
    "from rdflib import Namespace\n",
    "\n",
    "from buildingmotif import BuildingMOTIF\n",
    "from buildingmotif.dataclasses import Library, Model\n",
    "from buildingmotif.namespaces import bind_prefixes"
   ]
  },
  {
   "cell_type": "code",
   "execution_count": 2,
   "id": "aa15819b-2501-4b0c-affc-0c56e1cfaf5f",
   "metadata": {},
   "outputs": [],
   "source": [
    "# setup our buildingmotif instance\n",
    "bm = BuildingMOTIF(\"sqlite://\")\n",
    "\n",
    "# create the model w/ a namespace\n",
    "BLDG = Namespace(\"urn:ex/\")\n",
    "bldg = Model.create(BLDG)\n",
    "bind_prefixes(bldg.graph)\n",
    "bldg.graph.bind(\"bldg\", BLDG)"
   ]
  },
  {
   "cell_type": "code",
   "execution_count": 3,
   "id": "82937a40-9f9a-4d8f-88a0-57eeceb82fba",
   "metadata": {},
   "outputs": [],
   "source": [
    "# load libraries\n",
    "# NREL templates for 223P\n",
    "nrel_lib = Library.load(directory=\"../libraries/223p/nrel-templates\")\n",
    "# 223P ontology\n",
    "s223 = Library.load(ontology_graph=\"../libraries/223p/ontology/223p.ttl\")"
   ]
  },
  {
   "cell_type": "code",
   "execution_count": 4,
   "id": "0c163759-aca8-4abb-9f43-4367f3b51635",
   "metadata": {},
   "outputs": [],
   "source": [
    "# get some templates from the library\n",
    "mau_templ = nrel_lib.get_template_by_name(\"makeup-air-unit\").inline_dependencies()\n",
    "vav_templ = nrel_lib.get_template_by_name(\"vav-reheat\").inline_dependencies()\n",
    "duct_templ = nrel_lib.get_template_by_name(\"duct\").inline_dependencies()"
   ]
  },
  {
   "cell_type": "code",
   "execution_count": 5,
   "id": "efa6c09b-33a1-4f5a-a707-afe96cc2d28f",
   "metadata": {},
   "outputs": [],
   "source": [
    "# create a makeup air unit\n",
    "mau = mau_templ.evaluate({\"name\": BLDG.MAU, \"air-supply\": BLDG.MAU_Supply})"
   ]
  },
  {
   "cell_type": "code",
   "execution_count": 6,
   "id": "53e97a71-8858-4618-a24e-c0fc09d8dcfc",
   "metadata": {},
   "outputs": [],
   "source": [
    "# make 2 VAVs, connect them to the MAU via ducts\n",
    "vav1 = vav_templ.evaluate({\"name\": BLDG[\"VAV-1\"], \"air-in\": BLDG[\"VAV-1-in\"]})\n",
    "mau_to_vav1 = duct_templ.evaluate({\"a\": BLDG.MAU_Supply, \"b\": BLDG[\"VAV-1-in\"]})\n",
    "\n",
    "vav2 = vav_templ.evaluate({\"name\": BLDG[\"VAV-2\"], \"air-in\": BLDG[\"VAV-2-in\"]})\n",
    "mau_to_vav2 = duct_templ.evaluate({\"a\": BLDG.MAU_Supply, \"b\": BLDG[\"VAV-2-in\"]})"
   ]
  },
  {
   "cell_type": "code",
   "execution_count": 7,
   "id": "5d49743f-9efc-4983-8034-61f90e2ef6d9",
   "metadata": {},
   "outputs": [
    {
     "ename": "AssertionError",
     "evalue": "",
     "output_type": "error",
     "traceback": [
      "\u001b[0;31m---------------------------------------------------------------------------\u001b[0m",
      "\u001b[0;31mAssertionError\u001b[0m                            Traceback (most recent call last)",
      "Cell \u001b[0;32mIn [7], line 4\u001b[0m\n\u001b[1;32m      2\u001b[0m fill_in \u001b[38;5;241m=\u001b[39m [mau, vav1, vav2, mau_to_vav1, mau_to_vav2]\n\u001b[1;32m      3\u001b[0m \u001b[38;5;28;01mfor\u001b[39;00m templ \u001b[38;5;129;01min\u001b[39;00m fill_in:\n\u001b[0;32m----> 4\u001b[0m     _, graph \u001b[38;5;241m=\u001b[39m \u001b[43mtempl\u001b[49m\u001b[38;5;241;43m.\u001b[39;49m\u001b[43mfill\u001b[49m\u001b[43m(\u001b[49m\u001b[43mBLDG\u001b[49m\u001b[43m)\u001b[49m\n\u001b[1;32m      5\u001b[0m     bldg\u001b[38;5;241m.\u001b[39madd_graph(graph)\n",
      "File \u001b[0;32m~/src/NREL/BuildingMOTIF/buildingmotif/dataclasses/template.py:303\u001b[0m, in \u001b[0;36mTemplate.fill\u001b[0;34m(self, ns)\u001b[0m\n\u001b[1;32m    297\u001b[0m bindings: Dict[\u001b[38;5;28mstr\u001b[39m, Node] \u001b[38;5;241m=\u001b[39m {\n\u001b[1;32m    298\u001b[0m     param: ns[\u001b[38;5;124mf\u001b[39m\u001b[38;5;124m\"\u001b[39m\u001b[38;5;132;01m{\u001b[39;00mparam\u001b[38;5;132;01m}\u001b[39;00m\u001b[38;5;124m_\u001b[39m\u001b[38;5;132;01m{\u001b[39;00mtoken_hex(\u001b[38;5;241m4\u001b[39m)\u001b[38;5;132;01m}\u001b[39;00m\u001b[38;5;124m\"\u001b[39m]\n\u001b[1;32m    299\u001b[0m     \u001b[38;5;28;01mfor\u001b[39;00m param \u001b[38;5;129;01min\u001b[39;00m \u001b[38;5;28mself\u001b[39m\u001b[38;5;241m.\u001b[39mparameters\n\u001b[1;32m    300\u001b[0m     \u001b[38;5;28;01mif\u001b[39;00m param \u001b[38;5;129;01mnot\u001b[39;00m \u001b[38;5;129;01min\u001b[39;00m \u001b[38;5;28mself\u001b[39m\u001b[38;5;241m.\u001b[39moptional_args\n\u001b[1;32m    301\u001b[0m }\n\u001b[1;32m    302\u001b[0m res \u001b[38;5;241m=\u001b[39m \u001b[38;5;28mself\u001b[39m\u001b[38;5;241m.\u001b[39mevaluate(bindings)\n\u001b[0;32m--> 303\u001b[0m \u001b[38;5;28;01massert\u001b[39;00m \u001b[38;5;28misinstance\u001b[39m(res, rdflib\u001b[38;5;241m.\u001b[39mGraph)\n\u001b[1;32m    304\u001b[0m \u001b[38;5;28;01mreturn\u001b[39;00m bindings, res\n",
      "\u001b[0;31mAssertionError\u001b[0m: "
     ]
    }
   ],
   "source": [
    "# fill in all the extra parameters with invented names\n",
    "fill_in = [mau, vav1, vav2, mau_to_vav1, mau_to_vav2]\n",
    "for templ in fill_in:\n",
    "    _, graph = templ.fill(BLDG)\n",
    "    bldg.add_graph(graph)"
   ]
  },
  {
   "cell_type": "code",
   "execution_count": 8,
   "id": "870fe01d-cbf3-4b66-b195-d64fca8ac233",
   "metadata": {},
   "outputs": [
    {
     "name": "stdout",
     "output_type": "stream",
     "text": [
      "\n",
      "<urn:ex/> a <http://www.w3.org/2002/07/owl#Ontology> .\n",
      "\n",
      "\n"
     ]
    }
   ],
   "source": [
    "# look at finished model\n",
    "print(bldg.graph.serialize())"
   ]
  },
  {
   "cell_type": "code",
   "execution_count": 9,
   "id": "f58dba4e-4523-496e-ac55-61550824c73a",
   "metadata": {},
   "outputs": [
    {
     "name": "stdout",
     "output_type": "stream",
     "text": [
      "True\n",
      "Validation Report\n",
      "Conforms: True\n",
      "\n"
     ]
    }
   ],
   "source": [
    "# validate against 223P\n",
    "ctx = bldg.validate([s223.get_shape_collection()])\n",
    "print(ctx.valid)\n",
    "print(ctx.report_string)"
   ]
  },
  {
   "cell_type": "code",
   "execution_count": null,
   "id": "d54b3f6c-d5bb-4d21-9482-85db2b5f2797",
   "metadata": {},
   "outputs": [],
   "source": []
  }
 ],
 "metadata": {
  "kernelspec": {
   "display_name": "Poetry",
   "language": "python",
   "name": "poetry-kernel"
  },
  "language_info": {
   "codemirror_mode": {
    "name": "ipython",
    "version": 3
   },
   "file_extension": ".py",
   "mimetype": "text/x-python",
   "name": "python",
   "nbconvert_exporter": "python",
   "pygments_lexer": "ipython3",
   "version": "3.9.12"
  }
 },
 "nbformat": 4,
 "nbformat_minor": 5
}
