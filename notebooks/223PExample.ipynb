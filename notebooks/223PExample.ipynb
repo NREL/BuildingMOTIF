{
 "cells": [
  {
   "cell_type": "code",
   "execution_count": null,
   "id": "38454657-d000-46f2-95e4-e99b0bc52801",
   "metadata": {},
   "outputs": [],
   "source": [
    "from rdflib import Namespace\n",
    "\n",
    "from buildingmotif import BuildingMOTIF\n",
    "from buildingmotif.dataclasses import Library, Model\n",
    "from buildingmotif.namespaces import bind_prefixes"
   ]
  },
  {
   "cell_type": "code",
   "execution_count": null,
   "id": "aa15819b-2501-4b0c-affc-0c56e1cfaf5f",
   "metadata": {},
   "outputs": [],
   "source": [
    "# setup our buildingmotif instance\n",
    "bm = BuildingMOTIF(\"sqlite://\")\n",
    "\n",
    "# create the model w/ a namespace\n",
    "BLDG = Namespace(\"urn:ex/\")\n",
    "bldg = Model.create(BLDG)\n",
    "bind_prefixes(bldg.graph)\n",
    "bldg.graph.bind(\"bldg\", BLDG)"
   ]
  },
  {
   "cell_type": "code",
   "execution_count": null,
   "id": "82937a40-9f9a-4d8f-88a0-57eeceb82fba",
   "metadata": {},
   "outputs": [],
   "source": [
    "# load libraries\n",
    "# NREL templates for 223P\n",
    "nrel_lib = Library.load(directory=\"../libraries/ashrae/223p/nrel-templates\")\n",
    "# 223P ontology\n",
    "s223 = Library.load(ontology_graph=\"../libraries/ashrae/223p/ontology/223p.ttl\")"
   ]
  },
  {
   "cell_type": "code",
   "execution_count": null,
   "id": "0c163759-aca8-4abb-9f43-4367f3b51635",
   "metadata": {},
   "outputs": [],
   "source": [
    "# get some templates from the library\n",
    "mau_templ = nrel_lib.get_template_by_name(\"makeup-air-unit\").inline_dependencies()\n",
    "vav_templ = nrel_lib.get_template_by_name(\"vav-reheat\").inline_dependencies()\n",
    "duct_templ = nrel_lib.get_template_by_name(\"duct\").inline_dependencies()"
   ]
  },
  {
   "cell_type": "code",
   "execution_count": null,
   "id": "efa6c09b-33a1-4f5a-a707-afe96cc2d28f",
   "metadata": {},
   "outputs": [],
   "source": [
    "# create a makeup air unit\n",
    "mau = mau_templ.evaluate({\"name\": BLDG.MAU, \"air-supply\": BLDG.MAU_Supply})"
   ]
  },
  {
   "cell_type": "code",
   "execution_count": null,
   "id": "53e97a71-8858-4618-a24e-c0fc09d8dcfc",
   "metadata": {},
   "outputs": [],
   "source": [
    "# make 2 VAVs, connect them to the MAU via ducts\n",
    "vav1 = vav_templ.evaluate({\"name\": BLDG[\"VAV-1\"], \"air-in\": BLDG[\"VAV-1-in\"]})\n",
    "mau_to_vav1 = duct_templ.evaluate({\"a\": BLDG.MAU_Supply, \"b\": BLDG[\"VAV-1-in\"]})\n",
    "\n",
    "vav2 = vav_templ.evaluate({\"name\": BLDG[\"VAV-2\"], \"air-in\": BLDG[\"VAV-2-in\"]})\n",
    "mau_to_vav2 = duct_templ.evaluate({\"a\": BLDG.MAU_Supply, \"b\": BLDG[\"VAV-2-in\"]})"
   ]
  },
  {
   "cell_type": "code",
   "execution_count": null,
   "id": "5d49743f-9efc-4983-8034-61f90e2ef6d9",
   "metadata": {},
   "outputs": [],
   "source": [
    "# fill in all the extra parameters with invented names\n",
    "fill_in = [mau, vav1, vav2, mau_to_vav1, mau_to_vav2]\n",
    "for templ in fill_in:\n",
    "    _, graph = templ.fill(BLDG)\n",
    "    bldg.add_graph(graph)"
   ]
  },
  {
   "cell_type": "code",
   "execution_count": null,
   "id": "870fe01d-cbf3-4b66-b195-d64fca8ac233",
   "metadata": {},
   "outputs": [],
   "source": [
    "# look at finished model\n",
    "print(bldg.graph.serialize())"
   ]
  },
  {
   "cell_type": "code",
   "execution_count": null,
   "id": "f58dba4e-4523-496e-ac55-61550824c73a",
   "metadata": {},
   "outputs": [],
   "source": [
    "# validate against 223P\n",
    "ctx = bldg.validate([s223.get_shape_collection()])\n",
    "print(ctx.valid)\n",
    "print(ctx.report_string)"
   ]
  },
  {
   "cell_type": "code",
   "execution_count": null,
   "id": "d54b3f6c-d5bb-4d21-9482-85db2b5f2797",
   "metadata": {},
   "outputs": [],
   "source": []
  }
 ],
 "metadata": {
  "kernelspec": {
   "display_name": "Python 3 (ipykernel)",
   "language": "python",
   "name": "python3"
  },
  "language_info": {
   "codemirror_mode": {
    "name": "ipython",
    "version": 3
   },
   "file_extension": ".py",
   "mimetype": "text/x-python",
   "name": "python",
   "nbconvert_exporter": "python",
   "pygments_lexer": "ipython3",
   "version": "3.9.12"
  }
 },
 "nbformat": 4,
 "nbformat_minor": 5
}
