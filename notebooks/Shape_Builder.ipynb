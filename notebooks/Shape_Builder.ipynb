{
 "cells": [
  {
   "cell_type": "code",
   "execution_count": 1,
   "metadata": {},
   "outputs": [
    {
     "ename": "ImportError",
     "evalue": "cannot import name 'from_graph' from 'buildingmotif.shape_builder.shape' (/Users/tshapins/Documents/Projects/BuildingMOTIF/buildingmotif/shape_builder/shape.py)",
     "output_type": "error",
     "traceback": [
      "\u001b[0;31m---------------------------------------------------------------------------\u001b[0m",
      "\u001b[0;31mImportError\u001b[0m                               Traceback (most recent call last)",
      "\u001b[1;32m/Users/tshapins/Documents/Projects/BuildingMOTIF/notebooks/Shape_Builder.ipynb Cell 1\u001b[0m line \u001b[0;36m1\n\u001b[0;32m----> <a href='vscode-notebook-cell:/Users/tshapins/Documents/Projects/BuildingMOTIF/notebooks/Shape_Builder.ipynb#W0sZmlsZQ%3D%3D?line=0'>1</a>\u001b[0m \u001b[39mfrom\u001b[39;00m \u001b[39mbuildingmotif\u001b[39;00m\u001b[39m.\u001b[39;00m\u001b[39mshape_builder\u001b[39;00m\u001b[39m.\u001b[39;00m\u001b[39mshape\u001b[39;00m \u001b[39mimport\u001b[39;00m Shape, NodeShape, PropertyShape, OR, AND, NOT, XONE, from_graph\n\u001b[1;32m      <a href='vscode-notebook-cell:/Users/tshapins/Documents/Projects/BuildingMOTIF/notebooks/Shape_Builder.ipynb#W0sZmlsZQ%3D%3D?line=1'>2</a>\u001b[0m \u001b[39mfrom\u001b[39;00m \u001b[39mbuildingmotif\u001b[39;00m\u001b[39m.\u001b[39;00m\u001b[39mnamespaces\u001b[39;00m \u001b[39mimport\u001b[39;00m BRICK, SH, bind_prefixes\n\u001b[1;32m      <a href='vscode-notebook-cell:/Users/tshapins/Documents/Projects/BuildingMOTIF/notebooks/Shape_Builder.ipynb#W0sZmlsZQ%3D%3D?line=2'>3</a>\u001b[0m \u001b[39mfrom\u001b[39;00m \u001b[39mrdflib\u001b[39;00m\u001b[39m.\u001b[39;00m\u001b[39mnamespace\u001b[39;00m \u001b[39mimport\u001b[39;00m Namespace\n",
      "\u001b[0;31mImportError\u001b[0m: cannot import name 'from_graph' from 'buildingmotif.shape_builder.shape' (/Users/tshapins/Documents/Projects/BuildingMOTIF/buildingmotif/shape_builder/shape.py)"
     ]
    }
   ],
   "source": [
    "from buildingmotif.shape_builder.shape import Shape, NodeShape, PropertyShape, OR, AND, NOT, XONE, shape_from_graph\n",
    "from buildingmotif.namespaces import BRICK, SH, bind_prefixes\n",
    "from rdflib.namespace import Namespace\n",
    "from rdflib import Graph, URIRef, BNode\n",
    "from rdflib.collection import Collection\n",
    "BLDG = Namespace(\"urn:building\")\n",
    "SHAPES = Namespace(\"urn:shapes#\")\n"
   ]
  },
  {
   "cell_type": "code",
   "execution_count": 2,
   "metadata": {},
   "outputs": [
    {
     "ename": "NameError",
     "evalue": "name 'Graph' is not defined",
     "output_type": "error",
     "traceback": [
      "\u001b[0;31m---------------------------------------------------------------------------\u001b[0m",
      "\u001b[0;31mNameError\u001b[0m                                 Traceback (most recent call last)",
      "\u001b[1;32m/Users/tshapins/Documents/Projects/BuildingMOTIF/notebooks/Shape_Builder.ipynb Cell 2\u001b[0m line \u001b[0;36m1\n\u001b[0;32m----> <a href='vscode-notebook-cell:/Users/tshapins/Documents/Projects/BuildingMOTIF/notebooks/Shape_Builder.ipynb#W1sZmlsZQ%3D%3D?line=0'>1</a>\u001b[0m shapes \u001b[39m=\u001b[39m Graph()\n\u001b[1;32m      <a href='vscode-notebook-cell:/Users/tshapins/Documents/Projects/BuildingMOTIF/notebooks/Shape_Builder.ipynb#W1sZmlsZQ%3D%3D?line=1'>2</a>\u001b[0m zone_with_room \u001b[39m=\u001b[39m (NodeShape(SHAPES[\u001b[39m\"\u001b[39m\u001b[39mzone-with-room\u001b[39m\u001b[39m\"\u001b[39m])\n\u001b[1;32m      <a href='vscode-notebook-cell:/Users/tshapins/Documents/Projects/BuildingMOTIF/notebooks/Shape_Builder.ipynb#W1sZmlsZQ%3D%3D?line=2'>3</a>\u001b[0m     \u001b[39m.\u001b[39mof_class(BRICK[\u001b[39m\"\u001b[39m\u001b[39mHVAC_Zone\u001b[39m\u001b[39m\"\u001b[39m])\n\u001b[1;32m      <a href='vscode-notebook-cell:/Users/tshapins/Documents/Projects/BuildingMOTIF/notebooks/Shape_Builder.ipynb#W1sZmlsZQ%3D%3D?line=3'>4</a>\u001b[0m     \u001b[39m.\u001b[39mhas_property(PropertyShape()\n\u001b[0;32m   (...)\u001b[0m\n\u001b[1;32m     <a href='vscode-notebook-cell:/Users/tshapins/Documents/Projects/BuildingMOTIF/notebooks/Shape_Builder.ipynb#W1sZmlsZQ%3D%3D?line=15'>16</a>\u001b[0m         )\n\u001b[1;32m     <a href='vscode-notebook-cell:/Users/tshapins/Documents/Projects/BuildingMOTIF/notebooks/Shape_Builder.ipynb#W1sZmlsZQ%3D%3D?line=16'>17</a>\u001b[0m     ))\n\u001b[1;32m     <a href='vscode-notebook-cell:/Users/tshapins/Documents/Projects/BuildingMOTIF/notebooks/Shape_Builder.ipynb#W1sZmlsZQ%3D%3D?line=17'>18</a>\u001b[0m shapes \u001b[39m+\u001b[39m\u001b[39m=\u001b[39m zone_with_room\n",
      "\u001b[0;31mNameError\u001b[0m: name 'Graph' is not defined"
     ]
    }
   ],
   "source": [
    "shapes = Graph()\n",
    "zone_with_room = (NodeShape(SHAPES[\"zone-with-room\"])\n",
    "    .of_class(BRICK[\"HVAC_Zone\"])\n",
    "    .has_property(PropertyShape()\n",
    "        .has_path(BRICK[\"hasPart\"])\n",
    "        .matches_shape(NodeShape()\n",
    "            .of_class(BRICK[\"Room\"])\n",
    "            .has_property(PropertyShape()\n",
    "                .has_path(BRICK[\"hasPoint\"])\n",
    "                .matches_shape(NodeShape()\n",
    "                    .of_class(BRICK[\"Open_Close_Status\"]),\n",
    "                    min=1\n",
    "                )\n",
    "            ),\n",
    "            min=1\n",
    "        )\n",
    "    ))\n",
    "shapes += zone_with_room\n",
    "window_switch = (NodeShape(SHAPES[\"window-switch\"])\n",
    "    .has_property(PropertyShape()\n",
    "        .has_path(BRICK[\"feeds\"], one_or_more=True)\n",
    "        .matches_shape(zone_with_room, min=0)\n",
    "        )\n",
    "    )\n",
    "shapes += window_switch\n",
    "zone_with_occ_sensor = (NodeShape(SHAPES[\"zone-with-occ-sensor\"])\n",
    "    .of_class(BRICK[\"HVAC_Zone\"])\n",
    "    .has_property(\n",
    "        PropertyShape()\n",
    "        .has_path(BRICK[\"hasPoint\"])\n",
    "        .matches_class(BRICK[\"Occupancy_Sensor\"], min=1)\n",
    "    )\n",
    ")\n",
    "shapes += zone_with_occ_sensor\n",
    "room_with_occ_sensor = (NodeShape(SHAPES[\"room-with-occ-sensor\"])\n",
    "    .of_class(BRICK[\"Room\"])\n",
    "    .has_property(\n",
    "        PropertyShape()\n",
    "        .has_path(BRICK[\"hasPoint\"])\n",
    "        .matches_class(BRICK[\"Occupancy_Sensor\"], min=1)\n",
    "    )\n",
    ")\n",
    "shapes += room_with_occ_sensor\n",
    "occupancy_sensor_1 = (PropertyShape(SHAPES[\"ocupancy-sensor-1\"])\n",
    "    .has_path(BRICK[\"hasPoint\"])\n",
    "    .matches_class(BRICK[\"Occcupancy_Sensor\"], min=0)\n",
    "    )\n",
    "shapes += occupancy_sensor_1\n",
    "occupancy_sensor_2 = (PropertyShape(SHAPES[\"occupancy-sensor-2\"])\n",
    "    .has_path(BRICK[\"feeds\"], one_or_more=True)\n",
    "    .has_path(BRICK[\"hasPart\"], zero_or_one=True)\n",
    "    .matches_shape(OR(zone_with_occ_sensor, room_with_occ_sensor), min=0)\n",
    ")\n",
    "shapes += occupancy_sensor_2\n",
    "occupancy_sensor = NodeShape(SHAPES[\"occupancy-sensor\"]).OR(occupancy_sensor_1, occupancy_sensor_2)\n",
    "shapes += occupancy_sensor\n",
    "print((shapes.serialize(format=\"turtle\")))\n"
   ]
  },
  {
   "cell_type": "code",
   "execution_count": 3,
   "metadata": {},
   "outputs": [
    {
     "name": "stdout",
     "output_type": "stream",
     "text": [
      "@prefix sh: <http://www.w3.org/ns/shacl#> .\n",
      "\n",
      "<http://example.org/shapes#shape> a sh:NodeShape ;\n",
      "    sh:message \"hello\" .\n",
      "\n",
      "\n"
     ]
    }
   ],
   "source": [
    "print(NodeShape(URIRef(\"http://example.org/shapes#shape\"), \"hello\").serialize())\n"
   ]
  },
  {
   "cell_type": "code",
   "execution_count": 3,
   "metadata": {},
   "outputs": [
    {
     "ename": "NameError",
     "evalue": "name 'from_graph' is not defined",
     "output_type": "error",
     "traceback": [
      "\u001b[0;31m---------------------------------------------------------------------------\u001b[0m",
      "\u001b[0;31mNameError\u001b[0m                                 Traceback (most recent call last)",
      "\u001b[1;32m/Users/tshapins/Documents/Projects/BuildingMOTIF/notebooks/Shape_Builder.ipynb Cell 4\u001b[0m line \u001b[0;36m1\n\u001b[0;32m----> <a href='vscode-notebook-cell:/Users/tshapins/Documents/Projects/BuildingMOTIF/notebooks/Shape_Builder.ipynb#W5sZmlsZQ%3D%3D?line=0'>1</a>\u001b[0m \u001b[39mprint\u001b[39m(from_graph(shapes, SHAPES[\u001b[39m\"\u001b[39m\u001b[39moccupancy-sensor\u001b[39m\u001b[39m\"\u001b[39m])\u001b[39m.\u001b[39mserialize(\u001b[39mformat\u001b[39m\u001b[39m=\u001b[39m\u001b[39m\"\u001b[39m\u001b[39mttl\u001b[39m\u001b[39m\"\u001b[39m))\n",
      "\u001b[0;31mNameError\u001b[0m: name 'from_graph' is not defined"
     ]
    }
   ],
   "source": [
    "print(shape_from_graph(shapes, SHAPES[\"occupancy-sensor\"]).serialize(format=\"ttl\"))\n"
   ]
  },
  {
   "cell_type": "code",
   "execution_count": null,
   "metadata": {},
   "outputs": [],
   "source": []
  }
 ],
 "metadata": {
  "kernelspec": {
   "display_name": "Python 3.9.0 ('.venv': poetry)",
   "language": "python",
   "name": "python3"
  },
  "language_info": {
   "codemirror_mode": {
    "name": "ipython",
    "version": 3
   },
   "file_extension": ".py",
   "mimetype": "text/x-python",
   "name": "python",
   "nbconvert_exporter": "python",
   "pygments_lexer": "ipython3",
   "version": "3.10.12"
  },
  "orig_nbformat": 4,
  "vscode": {
   "interpreter": {
    "hash": "15fae041f31e3c236ca4e007ba84180412c78f76afbcc47bd25b3db75fd5ecba"
   }
  }
 },
 "nbformat": 4,
 "nbformat_minor": 2
}
