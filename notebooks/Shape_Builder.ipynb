{
 "cells": [
  {
   "cell_type": "code",
   "execution_count": 1,
   "metadata": {},
   "outputs": [],
   "source": [
    "from buildingmotif.shape_builder.shape import Shape, NodeShape, PropertyShape, OR, AND, NOT, XONE\n",
    "from buildingmotif.namespaces import BRICK, SH, bind_prefixes\n",
    "from rdflib.namespace import Namespace\n",
    "from rdflib import Graph, URIRef\n",
    "BLDG = Namespace(\"urn:building\")\n",
    "SHAPES = Namespace(\"urn:shapes#\")"
   ]
  },
  {
   "cell_type": "code",
   "execution_count": 2,
   "metadata": {},
   "outputs": [
    {
     "name": "stdout",
     "output_type": "stream",
     "text": [
      "@prefix brick: <https://brickschema.org/schema/Brick#> .\n",
      "@prefix rdf: <http://www.w3.org/1999/02/22-rdf-syntax-ns#> .\n",
      "@prefix sh: <http://www.w3.org/ns/shacl#> .\n",
      "@prefix xsd: <http://www.w3.org/2001/XMLSchema#> .\n",
      "\n",
      "<urn:shapes#occupancy-sensor> a sh:NodeShape ;\n",
      "    sh:or ( <urn:shapes#ocupancy-sensor-1> <urn:shapes#occupancy-sensor-2> ) .\n",
      "\n",
      "<urn:shapes#window-switch> a sh:NodeShape ;\n",
      "    sh:property [ a sh:PropertyShape ;\n",
      "            sh:minCount 0 ;\n",
      "            sh:node <urn:shapes#zone-with-room> ;\n",
      "            sh:path [ sh:path-one-or-more brick:feeds ] ] .\n",
      "\n",
      "<urn:shapes#occupancy-sensor-2> a sh:PropertyShape ;\n",
      "    sh:minCount 0 ;\n",
      "    sh:node [ sh:or ( <urn:shapes#zone-with-occ-sensor> <urn:shapes#room-with-occ-sensor> ) ] ;\n",
      "    sh:path [ sh:path-one-or-more brick:feeds ],\n",
      "        [ sh:path-zero-or-one brick:hasPart ] .\n",
      "\n",
      "<urn:shapes#ocupancy-sensor-1> a sh:PropertyShape ;\n",
      "    sh:class brick:Occcupancy_Sensor ;\n",
      "    sh:minCount 0 ;\n",
      "    sh:path brick:hasPoint .\n",
      "\n",
      "<urn:shapes#room-with-occ-sensor> a sh:NodeShape ;\n",
      "    sh:class brick:Room ;\n",
      "    sh:property [ a sh:PropertyShape ;\n",
      "            sh:class brick:Occupancy_Sensor ;\n",
      "            sh:minCount 1 ;\n",
      "            sh:path brick:hasPoint ] .\n",
      "\n",
      "<urn:shapes#zone-with-occ-sensor> a sh:NodeShape ;\n",
      "    sh:class brick:HVAC_Zone ;\n",
      "    sh:property [ a sh:PropertyShape ;\n",
      "            sh:class brick:Occupancy_Sensor ;\n",
      "            sh:minCount 1 ;\n",
      "            sh:path brick:hasPoint ] .\n",
      "\n",
      "<urn:shapes#zone-with-room> a sh:NodeShape ;\n",
      "    sh:class brick:HVAC_Zone ;\n",
      "    sh:property [ a sh:PropertyShape ;\n",
      "            sh:minCount 1 ;\n",
      "            sh:node [ a sh:NodeShape ;\n",
      "                    sh:class brick:Room ;\n",
      "                    sh:property [ a sh:PropertyShape ;\n",
      "                            sh:minCount 1 ;\n",
      "                            sh:node [ a sh:NodeShape ;\n",
      "                                    sh:class brick:Open_Close_Status ] ;\n",
      "                            sh:path brick:hasPoint ] ] ;\n",
      "            sh:path brick:hasPart ] .\n",
      "\n",
      "\n"
     ]
    }
   ],
   "source": [
    "shapes = Graph()\n",
    "zone_with_room = (NodeShape(SHAPES[\"zone-with-room\"])\n",
    "    .of_class(BRICK[\"HVAC_Zone\"])\n",
    "    .has_property(PropertyShape()\n",
    "        .has_path(BRICK[\"hasPart\"])\n",
    "        .matches_shape(NodeShape()\n",
    "            .of_class(BRICK[\"Room\"])\n",
    "            .has_property(PropertyShape()\n",
    "                .has_path(BRICK[\"hasPoint\"])\n",
    "                .matches_shape(NodeShape()\n",
    "                    .of_class(BRICK[\"Open_Close_Status\"]),\n",
    "                    min=1\n",
    "                )\n",
    "            ),\n",
    "            min=1\n",
    "        )\n",
    "    ))\n",
    "shapes += zone_with_room\n",
    "window_switch = (NodeShape(SHAPES[\"window-switch\"])\n",
    "    .has_property(PropertyShape()\n",
    "        .has_path(BRICK[\"feeds\"], one_or_more=True)\n",
    "        .matches_shape(zone_with_room, min=0)\n",
    "        )\n",
    "    )\n",
    "shapes += window_switch\n",
    "zone_with_occ_sensor = (NodeShape(SHAPES[\"zone-with-occ-sensor\"])\n",
    "    .of_class(BRICK[\"HVAC_Zone\"])\n",
    "    .has_property(\n",
    "        PropertyShape()\n",
    "        .has_path(BRICK[\"hasPoint\"])\n",
    "        .matches_class(BRICK[\"Occupancy_Sensor\"], min=1)\n",
    "    )\n",
    ")\n",
    "shapes += zone_with_occ_sensor\n",
    "room_with_occ_sensor = (NodeShape(SHAPES[\"room-with-occ-sensor\"])\n",
    "    .of_class(BRICK[\"Room\"])\n",
    "    .has_property(\n",
    "        PropertyShape()\n",
    "        .has_path(BRICK[\"hasPoint\"])\n",
    "        .matches_class(BRICK[\"Occupancy_Sensor\"], min=1)\n",
    "    )\n",
    ")\n",
    "shapes += room_with_occ_sensor\n",
    "occupancy_sensor_1 = (PropertyShape(SHAPES[\"ocupancy-sensor-1\"])\n",
    "    .has_path(BRICK[\"hasPoint\"])\n",
    "    .matches_class(BRICK[\"Occcupancy_Sensor\"], min=0)\n",
    "    )\n",
    "shapes += occupancy_sensor_1\n",
    "occupancy_sensor_2 = (PropertyShape(SHAPES[\"occupancy-sensor-2\"])\n",
    "    .has_path(BRICK[\"feeds\"], one_or_more=True)\n",
    "    .has_path(BRICK[\"hasPart\"], zero_or_one=True)\n",
    "    .matches_shape(OR(zone_with_occ_sensor, room_with_occ_sensor), min=0)\n",
    ")\n",
    "shapes += occupancy_sensor_2\n",
    "occupancy_sensor = NodeShape(SHAPES[\"occupancy-sensor\"]).OR(occupancy_sensor_1, occupancy_sensor_2)\n",
    "shapes += occupancy_sensor\n",
    "print((shapes.serialize(format=\"turtle\")))\n"
   ]
  },
  {
   "cell_type": "code",
   "execution_count": 3,
   "metadata": {},
   "outputs": [
    {
     "name": "stdout",
     "output_type": "stream",
     "text": [
      "@prefix sh: <http://www.w3.org/ns/shacl#> .\n",
      "\n",
      "<http://example.org/shapes#shape> a sh:NodeShape ;\n",
      "    sh:message \"hello\" .\n",
      "\n",
      "\n"
     ]
    }
   ],
   "source": [
    "print(NodeShape(URIRef(\"http://example.org/shapes#shape\"), \"hello\").serialize())"
   ]
  },
  {
   "cell_type": "code",
   "execution_count": null,
   "metadata": {},
   "outputs": [],
   "source": []
  }
 ],
 "metadata": {
  "kernelspec": {
   "display_name": "Python 3.9.0 ('.venv': poetry)",
   "language": "python",
   "name": "python3"
  },
  "language_info": {
   "codemirror_mode": {
    "name": "ipython",
    "version": 3
   },
   "file_extension": ".py",
   "mimetype": "text/x-python",
   "name": "python",
   "nbconvert_exporter": "python",
   "pygments_lexer": "ipython3",
   "version": "3.8.1"
  },
  "orig_nbformat": 4,
  "vscode": {
   "interpreter": {
    "hash": "15fae041f31e3c236ca4e007ba84180412c78f76afbcc47bd25b3db75fd5ecba"
   }
  }
 },
 "nbformat": 4,
 "nbformat_minor": 2
}
