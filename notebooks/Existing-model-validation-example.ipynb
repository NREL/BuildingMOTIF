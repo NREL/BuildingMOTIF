{
 "cells": [
  {
   "cell_type": "code",
   "execution_count": 1,
   "metadata": {},
   "outputs": [],
   "source": [
    "from buildingmotif import BuildingMOTIF\n",
    "from buildingmotif.dataclasses import Model, Library\n",
    "import os\n",
    "from buildingmotif.utils import compile_model\n",
    "from buildingmotif.namespaces import BMOTIF, BRICK, SH, RDFS"
   ]
  },
  {
   "cell_type": "markdown",
   "metadata": {},
   "source": [
    "## Setup BuildingMOTIF"
   ]
  },
  {
   "cell_type": "code",
   "execution_count": 2,
   "metadata": {},
   "outputs": [],
   "source": [
    "building_motif = BuildingMOTIF(\"sqlite://\")\n",
    "building_motif.setup_tables()"
   ]
  },
  {
   "cell_type": "markdown",
   "metadata": {},
   "source": [
    "## Load model from file"
   ]
  },
  {
   "cell_type": "code",
   "execution_count": 3,
   "metadata": {},
   "outputs": [
    {
     "data": {
      "text/plain": [
       "<Graph identifier=9a898aa7-3906-4ebc-a2b0-b94521ccc576 (<class 'rdflib.graph.Graph'>)>"
      ]
     },
     "execution_count": 3,
     "metadata": {},
     "output_type": "execute_result"
    }
   ],
   "source": [
    "medium_office_model = Model.create(\"http://example.org/building/\")\n",
    "medium_office_model.graph.parse(os.path.join('mediumOffice-validation', 'mediumOffice_brick_compiled.ttl'), format=\"ttl\")"
   ]
  },
  {
   "cell_type": "code",
   "execution_count": 4,
   "metadata": {},
   "outputs": [
    {
     "name": "stderr",
     "output_type": "stream",
     "text": [
      "2022-08-05 14:40:58,657 | root |  WARNING: Warning: could not find dependee http://www.w3.org/2001/XMLSchema#string\n",
      "2022-08-05 14:40:58,659 | root |  WARNING: Warning: could not find dependee http://www.w3.org/2001/XMLSchema#string\n",
      "2022-08-05 14:40:58,661 | root |  WARNING: Warning: could not find dependee http://www.w3.org/2001/XMLSchema#string\n",
      "2022-08-05 14:40:58,663 | root |  WARNING: Warning: could not find dependee https://brickschema.org/schema/Brick/ref#ifcProject\n",
      "2022-08-05 14:40:58,666 | root |  WARNING: Warning: could not find dependee http://www.w3.org/2001/XMLSchema#string\n",
      "2022-08-05 14:40:58,668 | root |  WARNING: Warning: could not find dependee http://www.w3.org/2001/XMLSchema#string\n",
      "2022-08-05 14:40:58,670 | root |  WARNING: Warning: could not find dependee http://www.w3.org/2001/XMLSchema#string\n",
      "2022-08-05 14:40:58,672 | root |  WARNING: Warning: could not find dependee http://data.ashrae.org/bacnet/2020#BACnetDevice\n",
      "2022-08-05 14:40:58,674 | root |  WARNING: Warning: could not find dependee http://www.w3.org/2001/XMLSchema#string\n",
      "2022-08-05 14:40:58,676 | root |  WARNING: Warning: could not find dependee http://www.w3.org/2001/XMLSchema#nonNegativeInteger\n",
      "2022-08-05 14:40:58,678 | root |  WARNING: Warning: could not find dependee http://www.w3.org/2001/XMLSchema#boolean\n",
      "2022-08-05 14:40:58,680 | root |  WARNING: Warning: could not find dependee http://www.w3.org/2001/XMLSchema#dateTime\n"
     ]
    }
   ],
   "source": [
    "brick = Library.load(ontology_graph=\"../libraries/brick/Brick-full.ttl\")\n",
    "ashrae_g36 = Library.load(directory=\"../libraries/ashrae/guideline36/\")\n",
    "manifest = Library.load(directory=\"mediumOffice-validation/constraints/\")"
   ]
  },
  {
   "cell_type": "markdown",
   "metadata": {},
   "source": [
    "## Validate that model passes constraints"
   ]
  },
  {
   "cell_type": "code",
   "execution_count": 5,
   "metadata": {},
   "outputs": [],
   "source": [
    "shape_collections = [brick.get_shape_collection(), manifest.get_shape_collection(), ashrae_g36.get_shape_collection()]\n",
    "validation_context = medium_office_model.validate(shape_collections)\n"
   ]
  },
  {
   "cell_type": "code",
   "execution_count": 6,
   "metadata": {},
   "outputs": [
    {
     "name": "stdout",
     "output_type": "stream",
     "text": [
      "Model is valid: False\n",
      "Reasons why:\n",
      " -n1a5bc69f0aa34d9097ad01e0f4e17e3ab1 needs between 1 and None uses of path https://brickschema.org/schema/Brick#deprecatedInVersion\n",
      " -http://example.org/building/5-Zone-PVAV needs between 1 and None instances of https://brickschema.org/schema/Brick#Supply_Air_Temperature_Setpoint on path https://brickschema.org/schema/Brick#hasPoint\n",
      " -n1a5bc69f0aa34d9097ad01e0f4e17e3ab2 needs between 1 and None uses of path https://brickschema.org/schema/Brick#deprecationMitigationMessage\n",
      " -n1a5bc69f0aa34d9097ad01e0f4e17e3ab3 needs between 1 and None uses of path https://brickschema.org/schema/Brick#deprecationMitigationMessage\n",
      " -n1a5bc69f0aa34d9097ad01e0f4e17e3ab2 needs between 1 and None uses of path https://brickschema.org/schema/Brick#deprecatedInVersion\n",
      " -http://example.org/building/5-Zone-PVAV-1 needs between 1 and None instances of https://brickschema.org/schema/Brick#Supply_Air_Temperature_Setpoint on path https://brickschema.org/schema/Brick#hasPoint\n",
      " -n1a5bc69f0aa34d9097ad01e0f4e17e3ab1 needs between 1 and None uses of path https://brickschema.org/schema/Brick#deprecationMitigationMessage\n",
      " -http://example.org/building/5-Zone-PVAV-2 needs between 1 and None instances of https://brickschema.org/schema/Brick#Supply_Air_Temperature_Setpoint on path https://brickschema.org/schema/Brick#hasPoint\n",
      " -n1a5bc69f0aa34d9097ad01e0f4e17e3ab3 needs between 1 and None uses of path https://brickschema.org/schema/Brick#deprecatedInVersion\n"
     ]
    }
   ],
   "source": [
    "print(f\"Model is valid: {validation_context.valid}\")\n",
    "\n",
    "print(\"Reasons why:\")\n",
    "for diff in validation_context.diffset:\n",
    "    print(\" -\" + diff.reason())"
   ]
  },
  {
   "cell_type": "markdown",
   "metadata": {},
   "source": [
    "## Test to see which G36 AHU fault are supported by the AHUs in our model\n",
    "We select the shapes of type `Analytics_Application` from the ASHRAE Guideline 36 Library. We then test our AHUs against each application. From the output of the test we can see which we support out of the box with our metadata model. We can also look at what we are missing in cases where we don't have the required entities."
   ]
  },
  {
   "cell_type": "code",
   "execution_count": 11,
   "metadata": {},
   "outputs": [
    {
     "name": "stdout",
     "output_type": "stream",
     "text": [
      "Fault Condition: MAT too low; should be between OAT and RAT\n",
      "\t Conformance: True\n",
      "Fault Condition: MAT too high; should be between OAT and RAT\n",
      "\t Conformance: True\n",
      "Fault Condition: Too many changes in Operating State\n",
      "\t Conformance: False\n",
      "\t Reasons why:\n",
      "\t- http://example.org/building/5-Zone-PVAV-2 needs between 1 and None instances of https://brickschema.org/schema/Brick#Operating_Mode_Status on path https://brickschema.org/schema/Brick#hasPoint\n",
      "\t- http://example.org/building/5-Zone-PVAV needs between 1 and None instances of https://brickschema.org/schema/Brick#Operating_Mode_Status on path https://brickschema.org/schema/Brick#hasPoint\n",
      "\t- http://example.org/building/5-Zone-PVAV-1 needs between 1 and None instances of https://brickschema.org/schema/Brick#Operating_Mode_Status on path https://brickschema.org/schema/Brick#hasPoint\n",
      "Fault Condition: SAT too low; should be higher than MAT\n",
      "\t Conformance: True\n",
      "Fault Condition: OA fraction is too low or too high; shoud equal %OA_min\n",
      "\t Conformance: True\n",
      "Fault Condition: SAT too low in full heating\n",
      "\t Conformance: False\n",
      "\t Reasons why:\n",
      "\t- http://example.org/building/5-Zone-PVAV needs between 1 and None instances of https://brickschema.org/schema/Brick#Supply_Air_Temperature_Setpoint on path https://brickschema.org/schema/Brick#hasPoint\n",
      "\t- http://example.org/building/5-Zone-PVAV-2 needs between 1 and None instances of https://brickschema.org/schema/Brick#Supply_Air_Temperature_Setpoint on path https://brickschema.org/schema/Brick#hasPoint\n",
      "\t- http://example.org/building/5-Zone-PVAV-1 needs between 1 and None instances of https://brickschema.org/schema/Brick#Supply_Air_Temperature_Setpoint on path https://brickschema.org/schema/Brick#hasPoint\n",
      "Fault Condition: SAT and MAT should be approximately equal\n",
      "\t Conformance: True\n"
     ]
    }
   ],
   "source": [
    "shape_collections = [brick.get_shape_collection(), ashrae_g36.get_shape_collection()]\n",
    "shapes_to_test = ashrae_g36.get_shape_collection().get_shapes_of_definition_type(BMOTIF[\"Analytics_Application\"])\n",
    "conformance = medium_office_model.test_model_against_shapes(\n",
    "    shape_collections=shape_collections,\n",
    "    shapes_to_test=shapes_to_test,\n",
    "    target_class=BRICK[\"AHU\"])\n",
    "for shape_uri, validation_context in conformance.items():\n",
    "    _, _, label = next(ashrae_g36.get_shape_collection().graph.triples((shape_uri, RDFS[\"label\"], None)))\n",
    "    print(f\"Fault Condition: {label}\")\n",
    "    print(f\"\\t Conformance: {validation_context.valid}\")\n",
    "    if not validation_context.valid:\n",
    "        print(\"\\t Reasons why:\")\n",
    "        for diff in validation_context.diffset:\n",
    "            print(f\"\\t- {diff.reason()}\")\n"
   ]
  },
  {
   "cell_type": "code",
   "execution_count": 3,
   "metadata": {},
   "outputs": [
    {
     "data": {
      "text/plain": [
       "'Https://Nrel.Gov/Buildingmotif#Analytics_Application'"
      ]
     },
     "execution_count": 3,
     "metadata": {},
     "output_type": "execute_result"
    }
   ],
   "source": []
  },
  {
   "cell_type": "markdown",
   "metadata": {},
   "source": [
    "## Fix Model"
   ]
  },
  {
   "cell_type": "code",
   "execution_count": null,
   "metadata": {},
   "outputs": [],
   "source": [
    "# Model is missing feeds from 1 AHU to 1 VAV\n",
    "\n",
    "# 1 VAV is missing Discharge_Air_Flow_Sensor\n",
    "# apply g36 template to that VAV"
   ]
  },
  {
   "cell_type": "markdown",
   "metadata": {},
   "source": [
    "## Validate and pass"
   ]
  },
  {
   "cell_type": "markdown",
   "metadata": {},
   "source": []
  },
  {
   "cell_type": "code",
   "execution_count": null,
   "metadata": {},
   "outputs": [],
   "source": [
    "triples = ashrae_g36.get_shape_collection().graph.triples((None, SH[\"property\"], None))\n",
    "for s, p, o in triples:\n",
    "    print(f\"{s} {p} {o}\")"
   ]
  },
  {
   "cell_type": "code",
   "execution_count": null,
   "metadata": {},
   "outputs": [],
   "source": []
  },
  {
   "cell_type": "markdown",
   "metadata": {},
   "source": [
    "## Compile Model against Brick"
   ]
  },
  {
   "cell_type": "code",
   "execution_count": null,
   "metadata": {},
   "outputs": [],
   "source": [
    "model_graph = compile_model(medium_office_model, [brick.get_shape_collection()])"
   ]
  },
  {
   "cell_type": "code",
   "execution_count": null,
   "metadata": {},
   "outputs": [],
   "source": [
    "model_graph.serialize(\"mediumOffice-validation/mediumOffice_brick_compiled.ttl\", format=\"ttl\")"
   ]
  }
 ],
 "metadata": {
  "interpreter": {
   "hash": "15fae041f31e3c236ca4e007ba84180412c78f76afbcc47bd25b3db75fd5ecba"
  },
  "kernelspec": {
   "display_name": "Python 3.8.2 ('.venv': poetry)",
   "language": "python",
   "name": "python3"
  },
  "language_info": {
   "codemirror_mode": {
    "name": "ipython",
    "version": 3
   },
   "file_extension": ".py",
   "mimetype": "text/x-python",
   "name": "python",
   "nbconvert_exporter": "python",
   "pygments_lexer": "ipython3",
   "version": "3.8.2"
  },
  "orig_nbformat": 4
 },
 "nbformat": 4,
 "nbformat_minor": 2
}
