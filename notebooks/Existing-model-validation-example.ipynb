{
 "cells": [
  {
   "cell_type": "markdown",
   "metadata": {
    "slideshow": {
     "slide_type": "slide"
    }
   },
   "source": [
    "# Validating and Assessing an Existing Model\n",
    "In this demo we take an existing metadata model, validate that the model meets our requirements, and assess what analytics applications the building supports in its current configuration."
   ]
  },
  {
   "cell_type": "markdown",
   "metadata": {
    "slideshow": {
     "slide_type": "fragment"
    }
   },
   "source": [
    "1. **Setup BuildingMOTIF**\n",
    "    1. Import BuildingMOTIF and associated packages\n",
    "    1. Load BuildingMOTIF Libraries\n",
    "    1. Load Medium Office Model\n",
    "1. **Validate Medium Office Model**\n",
    "    1. Run validation against loaded Libraries\n",
    "    1. Read reasons for validation failure\n",
    "    1. Fix model based on validation report\n",
    "1. **Find Analytics Applications that the Model supports**\n",
    "    1. Search G36 library for `Analytics_Application` shapes\n",
    "    1. Test the model against each shape for support\n",
    "    1. Read which applications the model supports and what extra is needed for unsupported applications"
   ]
  },
  {
   "cell_type": "markdown",
   "metadata": {
    "slideshow": {
     "slide_type": "slide"
    }
   },
   "source": [
    "## 1. Setup BuildingMOTIF\n",
    "### A. Import BuildingMOTIF and associated packages"
   ]
  },
  {
   "cell_type": "code",
   "execution_count": 1,
   "metadata": {
    "slideshow": {
     "slide_type": "-"
    }
   },
   "outputs": [],
   "source": [
    "from buildingmotif import BuildingMOTIF\n",
    "from buildingmotif.dataclasses import Model, Library\n",
    "import os\n",
    "from buildingmotif.utils import compile_model\n",
    "from buildingmotif.namespaces import BMOTIF, BRICK, SH, RDFS\n",
    "from rdflib import Namespace"
   ]
  },
  {
   "cell_type": "code",
   "execution_count": 2,
   "metadata": {
    "slideshow": {
     "slide_type": "-"
    }
   },
   "outputs": [],
   "source": [
    "# Create a buildingMOTIF instance with an in-memory sqlite database\n",
    "building_motif = BuildingMOTIF(\"sqlite://\")"
   ]
  },
  {
   "cell_type": "markdown",
   "metadata": {
    "slideshow": {
     "slide_type": "slide"
    }
   },
   "source": [
    "### B. Load BuildingMOTIF Libraries"
   ]
  },
  {
   "cell_type": "code",
   "execution_count": 3,
   "metadata": {
    "slideshow": {
     "slide_type": "-"
    }
   },
   "outputs": [],
   "source": [
    "brick = Library.load(ontology_graph=\"../libraries/brick/Brick-subset.ttl\")\n",
    "ashrae_g36 = Library.load(directory=\"../libraries/ashrae/guideline36/\")\n",
    "manifest = Library.load(directory=\"mediumOffice-validation/constraints/\")"
   ]
  },
  {
   "cell_type": "markdown",
   "metadata": {
    "slideshow": {
     "slide_type": "-"
    }
   },
   "source": [
    "#### Roles of Libraries\n",
    "- **Brick** - Contains shapes which validate that a model complys with Brick syntax. These shapes will automatically be applied to a model if selected for validation.\n",
    "- **ASHRAE Guideline 36** - Contains shapes which respresent various section of the Guideline 36 spec. Also contains Templates for directly creating G36 compliant equipment. These shapes are not automatically applied.\n",
    "- **Manifest** - Contains shapes which provide model-specific constraints. Also selects which Guideline 36 shapes we expect to be satisfied by our model."
   ]
  },
  {
   "cell_type": "markdown",
   "metadata": {
    "slideshow": {
     "slide_type": "slide"
    }
   },
   "source": [
    "### C. Load Medium Office model from file"
   ]
  },
  {
   "cell_type": "code",
   "execution_count": 4,
   "metadata": {
    "slideshow": {
     "slide_type": "-"
    }
   },
   "outputs": [
    {
     "data": {
      "text/plain": [
       "<Graph identifier=68df6de0-3786-4426-88ef-a16903cae497 (<class 'rdflib.graph.Graph'>)>"
      ]
     },
     "execution_count": 4,
     "metadata": {},
     "output_type": "execute_result"
    }
   ],
   "source": [
    "BLDG = Namespace(\"http://example.org/building/\")\n",
    "medium_office_model = Model.create(BLDG)\n",
    "medium_office_model.graph.parse(os.path.join('mediumOffice-validation', 'mediumOffice_brick_compiled.ttl'), format=\"ttl\")"
   ]
  },
  {
   "cell_type": "markdown",
   "metadata": {
    "slideshow": {
     "slide_type": "slide"
    }
   },
   "source": [
    "## 2. Validate Medium Office Model"
   ]
  },
  {
   "cell_type": "markdown",
   "metadata": {
    "slideshow": {
     "slide_type": "-"
    }
   },
   "source": [
    "### A. Validate model against loaded Libraries\n",
    "The Brick library specifies the rules that need to be satisfied by a correct Brick graph. The Manifest specifies the extact conditions which need to be met by this particular model (3 AHUs with 5 VAVs each that satisfy G36). G36 is needed because it is used by the Manifest."
   ]
  },
  {
   "cell_type": "code",
   "execution_count": 8,
   "metadata": {
    "slideshow": {
     "slide_type": "-"
    }
   },
   "outputs": [],
   "source": [
    "shape_collections = [brick.get_shape_collection(), manifest.get_shape_collection(), ashrae_g36.get_shape_collection()]\n",
    "validation_context = medium_office_model.validate(shape_collections)"
   ]
  },
  {
   "cell_type": "markdown",
   "metadata": {
    "slideshow": {
     "slide_type": "fragment"
    }
   },
   "source": [
    "### B. Read reasons for validation failure"
   ]
  },
  {
   "cell_type": "code",
   "execution_count": 9,
   "metadata": {
    "slideshow": {
     "slide_type": "-"
    }
   },
   "outputs": [
    {
     "name": "stdout",
     "output_type": "stream",
     "text": [
      "Model is valid: True\n"
     ]
    }
   ],
   "source": [
    "print(f\"Model is valid: {validation_context.valid}\")\n",
    "\n",
    "if not validation_context.valid:\n",
    "    print(\"Reasons why:\")\n",
    "    for diff in validation_context.diffset:\n",
    "        print(\" -\" + diff.reason())"
   ]
  },
  {
   "cell_type": "markdown",
   "metadata": {
    "slideshow": {
     "slide_type": "slide"
    }
   },
   "source": [
    "### C. Fix model based on validation report\n",
    "For each validation failure BuildingMOTIF generates a template that would satisfy the failed shape. Any unknown values are exposed as template parameters for the user or an automated process to fill in."
   ]
  },
  {
   "cell_type": "code",
   "execution_count": 7,
   "metadata": {
    "slideshow": {
     "slide_type": "-"
    }
   },
   "outputs": [
    {
     "name": "stdout",
     "output_type": "stream",
     "text": [
      "--------------------------------------------------------------------------------\n",
      "@prefix P: <urn:___param___#> .\n",
      "@prefix brick: <https://brickschema.org/schema/Brick#> .\n",
      "\n",
      "<http://example.org/building/5-Zone-PVAV-2> brick:hasPoint P:p1 .\n",
      "\n",
      "P:p1 a brick:Supply_Air_Temperature_Setpoint .\n",
      "\n",
      "\n",
      "Please enter the value for parameter \"p1\":ASDas\n",
      "--------------------------------------------------------------------------------\n",
      "@prefix P: <urn:___param___#> .\n",
      "@prefix brick: <https://brickschema.org/schema/Brick#> .\n",
      "\n",
      "<http://example.org/building/5-Zone-PVAV-1> brick:hasPoint P:p2 .\n",
      "\n",
      "P:p2 a brick:Supply_Air_Temperature_Setpoint .\n",
      "\n",
      "\n",
      "Please enter the value for parameter \"p2\":ASdas\n",
      "--------------------------------------------------------------------------------\n",
      "@prefix P: <urn:___param___#> .\n",
      "@prefix brick: <https://brickschema.org/schema/Brick#> .\n",
      "\n",
      "<http://example.org/building/5-Zone-PVAV> brick:hasPoint P:p3 .\n",
      "\n",
      "P:p3 a brick:Supply_Air_Temperature_Setpoint .\n",
      "\n",
      "\n",
      "Please enter the value for parameter \"p3\":asdas\n"
     ]
    }
   ],
   "source": [
    "generated_templates = validation_context.as_templates()\n",
    "for t in generated_templates:\n",
    "    print('-'*80)\n",
    "    print(t.body.serialize())\n",
    "    templ_bindings = {}\n",
    "    for parameter in t.all_parameters:\n",
    "        param_value = input(f\"Please enter the value for parameter \\\"{parameter}\\\":\")\n",
    "        templ_bindings[parameter] = BLDG[param_value]\n",
    "    graph = t.evaluate(templ_bindings)\n",
    "    medium_office_model.add_graph(graph)\n"
   ]
  },
  {
   "cell_type": "markdown",
   "metadata": {
    "slideshow": {
     "slide_type": "slide"
    }
   },
   "source": [
    "## 3. Find Analytics Applications that the Model supports\n",
    "### A. Search G36 library for `Analytics_Application` shapes\n",
    "We select the shapes of type `Analytics_Application` from the ASHRAE Guideline 36 Library. We then test our AHUs against each application. From the output of the test we can see which we support out of the box with our metadata model. We can also look at what we are missing in cases where we don't have the required entities."
   ]
  },
  {
   "cell_type": "code",
   "execution_count": 10,
   "metadata": {
    "slideshow": {
     "slide_type": "-"
    }
   },
   "outputs": [],
   "source": [
    "shape_collections = [brick.get_shape_collection(), ashrae_g36.get_shape_collection()]\n",
    "shapes_to_test = ashrae_g36.get_shape_collection().get_shapes_of_definition_type(BMOTIF[\"Analytics_Application\"])\n"
   ]
  },
  {
   "cell_type": "markdown",
   "metadata": {
    "slideshow": {
     "slide_type": "-"
    }
   },
   "source": [
    "### B. Test the model against each shape for support"
   ]
  },
  {
   "cell_type": "code",
   "execution_count": 11,
   "metadata": {
    "slideshow": {
     "slide_type": "-"
    }
   },
   "outputs": [],
   "source": [
    "conformance = medium_office_model.test_model_against_shapes(\n",
    "    shape_collections=shape_collections,\n",
    "    shapes_to_test=shapes_to_test,\n",
    "    target_class=BRICK[\"AHU\"])\n"
   ]
  },
  {
   "cell_type": "markdown",
   "metadata": {
    "slideshow": {
     "slide_type": "slide"
    }
   },
   "source": [
    "### C. Read which applications the model supports and what extra is needed for unsupported applications"
   ]
  },
  {
   "cell_type": "code",
   "execution_count": 12,
   "metadata": {
    "slideshow": {
     "slide_type": "-"
    }
   },
   "outputs": [
    {
     "name": "stdout",
     "output_type": "stream",
     "text": [
      "Fault Condition: MAT too low; should be between OAT and RAT\n",
      "\t Conformance: True\n",
      "Fault Condition: MAT too high; should be between OAT and RAT\n",
      "\t Conformance: True\n",
      "Fault Condition: Too many changes in Operating State\n",
      "\t Conformance: False\n",
      "\t Reasons why:\n",
      "\t- http://example.org/building/5-Zone-PVAV needs between 1 and None instances of https://brickschema.org/schema/Brick#Operating_Mode_Status on path https://brickschema.org/schema/Brick#hasPoint\n",
      "\t- http://example.org/building/5-Zone-PVAV-2 needs between 1 and None instances of https://brickschema.org/schema/Brick#Operating_Mode_Status on path https://brickschema.org/schema/Brick#hasPoint\n",
      "\t- http://example.org/building/5-Zone-PVAV-1 needs between 1 and None instances of https://brickschema.org/schema/Brick#Operating_Mode_Status on path https://brickschema.org/schema/Brick#hasPoint\n",
      "Fault Condition: SAT too low; should be higher than MAT\n",
      "\t Conformance: True\n",
      "Fault Condition: OA fraction is too low or too high; should equal %OA_min\n",
      "\t Conformance: True\n",
      "Fault Condition: SAT too low in full heating\n",
      "\t Conformance: True\n",
      "Fault Condition: SAT and MAT should be approximately equal\n",
      "\t Conformance: True\n"
     ]
    }
   ],
   "source": [
    "for shape_uri, validation_context in conformance.items():\n",
    "    _, _, label = next(ashrae_g36.get_shape_collection().graph.triples((shape_uri, RDFS[\"label\"], None)))\n",
    "    print(f\"Fault Condition: {label}\")\n",
    "    print(f\"\\t Conformance: {validation_context.valid}\")\n",
    "    if not validation_context.valid:\n",
    "        print(\"\\t Reasons why:\")\n",
    "        for diff in validation_context.diffset:\n",
    "            print(f\"\\t- {diff.reason()}\")"
   ]
  }
 ],
 "metadata": {
  "celltoolbar": "Slideshow",
  "interpreter": {
   "hash": "15fae041f31e3c236ca4e007ba84180412c78f76afbcc47bd25b3db75fd5ecba"
  },
  "kernelspec": {
   "display_name": "Python 3 (ipykernel)",
   "language": "python",
   "name": "python3"
  },
  "language_info": {
   "codemirror_mode": {
    "name": "ipython",
    "version": 3
   },
   "file_extension": ".py",
   "mimetype": "text/x-python",
   "name": "python",
   "nbconvert_exporter": "python",
   "pygments_lexer": "ipython3",
   "version": "3.8.2"
  }
 },
 "nbformat": 4,
 "nbformat_minor": 2
}
