{
 "cells": [
  {
   "cell_type": "code",
   "execution_count": 1,
   "id": "88c1dde3-4b12-4247-a3d2-991a63e749fb",
   "metadata": {},
   "outputs": [],
   "source": [
    "from rdflib import Namespace\n",
    "from buildingmotif import BuildingMOTIF\n",
    "from buildingmotif.dataclasses import Model, TemplateLibrary"
   ]
  },
  {
   "cell_type": "markdown",
   "id": "232b02d5-a59b-48ee-94a3-30552c639bba",
   "metadata": {},
   "source": [
    "We need a namespace (`BLDG`) to name the entities that will exist in our model. `NUM_VAVs` will be used to generate a number of VAVs for this example"
   ]
  },
  {
   "cell_type": "code",
   "execution_count": 2,
   "id": "ace5920c-2a02-4415-b17b-d1d20095a847",
   "metadata": {},
   "outputs": [],
   "source": [
    "NUM_VAVs = 3\n",
    "BLDG = Namespace(\"urn:my-building/\")"
   ]
  },
  {
   "cell_type": "markdown",
   "id": "69fad6af-e203-4612-b96d-4cd3f21641b8",
   "metadata": {},
   "source": [
    "Create an in-memory BuildingMOTIF instance and create a `my-building` model that we will populate by evaluating templates"
   ]
  },
  {
   "cell_type": "code",
   "execution_count": 3,
   "id": "dfefe386-b5a5-4933-b43e-554e09a51bd1",
   "metadata": {},
   "outputs": [],
   "source": [
    "bm = BuildingMOTIF(\"sqlite://\")\n",
    "bldg = Model.create(\"my-building\")"
   ]
  },
  {
   "cell_type": "markdown",
   "id": "16b40ce3-3055-42d2-8630-f5be64559344",
   "metadata": {},
   "source": [
    "Load in templates / classes from the Brick ontology (this may take 1-2 minutes):"
   ]
  },
  {
   "cell_type": "code",
   "execution_count": 4,
   "id": "f4480e5b-c59b-434e-b5da-5afb53fe7567",
   "metadata": {},
   "outputs": [
    {
     "data": {
      "text/plain": [
       "TemplateLibrary(_id=1, _name=rdflib.term.URIRef('https://brickschema.org/schema/1.3/Brick'), _bm=<buildingmotif.building_motif.building_motif.BuildingMOTIF object at 0x7fc0ec023be0>)"
      ]
     },
     "execution_count": 4,
     "metadata": {},
     "output_type": "execute_result"
    }
   ],
   "source": [
    "TemplateLibrary.load(ontology_graph=\"../libraries/brick/Brick-subset.ttl\")"
   ]
  },
  {
   "cell_type": "markdown",
   "id": "473b5b7c-68ae-4265-9735-5b8856218c01",
   "metadata": {},
   "source": [
    "We load the G36 template library and pull out the \"vav-cooling-only\" template, corresponding to the pointlist in Section 4.1 of Guideline 36"
   ]
  },
  {
   "cell_type": "code",
   "execution_count": null,
   "id": "5f077f94-655c-44d2-a15c-6dea816f63a6",
   "metadata": {},
   "outputs": [],
   "source": []
  },
  {
   "cell_type": "code",
   "execution_count": 5,
   "id": "e1c6c3a4-e1b4-4c7e-b858-1b17fb0fd17a",
   "metadata": {},
   "outputs": [],
   "source": [
    "lib = TemplateLibrary.load(directory=\"../libraries/ashrae/guideline36/\")\n",
    "vav_templ = lib.get_template_by_name(\"vav-cooling-only\")"
   ]
  },
  {
   "cell_type": "markdown",
   "id": "3f2fd807-aee8-41a1-96f5-e27c4eee46dd",
   "metadata": {},
   "source": [
    "Now that we have the template, we do the following to create the VAV:"
   ]
  },
  {
   "cell_type": "code",
   "execution_count": 6,
   "id": "90952745-829e-4c00-bcee-1363eebf44e2",
   "metadata": {},
   "outputs": [
    {
     "name": "stdout",
     "output_type": "stream",
     "text": [
      "{'ztemp', 'zone', 'dat', 'co2', 'dmp', 'occ'}\n"
     ]
    }
   ],
   "source": [
    "# create a \"name\" for the VAV\n",
    "vav_name = BLDG[\"vav-0\"]\n",
    "# evaluate the template with that name to make sure the VAV has that name\n",
    "tmp = vav_templ.evaluate({\"name\": vav_name})\n",
    "# check what parameters are left\n",
    "print(tmp.parameters)"
   ]
  },
  {
   "cell_type": "markdown",
   "id": "352d3b96-73ec-47f0-8b32-7c626b90c534",
   "metadata": {},
   "source": [
    "If we don't want to provide names for these yet, we can call `.fill()` to invent names for them. This is helpful for testing and prototyping"
   ]
  },
  {
   "cell_type": "code",
   "execution_count": 7,
   "id": "2d644824-0e69-4834-839c-883f000a62be",
   "metadata": {},
   "outputs": [],
   "source": [
    "bindings, vav_graph = tmp.fill(BLDG) # tell 'fill' to put the invented names in the BLDG namespace"
   ]
  },
  {
   "cell_type": "markdown",
   "id": "a1c9f2c9-9740-403e-802f-3fc91c8f03d2",
   "metadata": {},
   "source": [
    "The `vav_graph` object can now be added to our model:"
   ]
  },
  {
   "cell_type": "code",
   "execution_count": 8,
   "id": "d300a5a4-8605-433a-9775-096323c49c45",
   "metadata": {},
   "outputs": [],
   "source": [
    "bldg.add_graph(vav_graph)"
   ]
  },
  {
   "cell_type": "code",
   "execution_count": 9,
   "id": "da5d0d34-1dfd-4dde-af09-5dfcf2026205",
   "metadata": {},
   "outputs": [],
   "source": [
    "# run for the other n-1 VAVs\n",
    "for vav in range(1,NUM_VAVs):\n",
    "    vav_name = BLDG[f\"vav-{vav}\"]\n",
    "    _, vav_graph = vav_templ.evaluate({\"name\": vav_name}).fill(BLDG)\n",
    "    bldg.add_graph(vav_graph)"
   ]
  },
  {
   "cell_type": "markdown",
   "id": "7d4389d7-8369-4083-b4dc-bba533c1df1b",
   "metadata": {},
   "source": [
    "Print out the resulting model"
   ]
  },
  {
   "cell_type": "code",
   "execution_count": 10,
   "id": "3551fad4-553e-405a-aaeb-78bf5a8da4a6",
   "metadata": {},
   "outputs": [
    {
     "name": "stdout",
     "output_type": "stream",
     "text": [
      "@prefix brick: <https://brickschema.org/schema/Brick#> .\n",
      "\n",
      "<urn:my-building/vav-0> a brick:VAV ;\n",
      "    brick:feeds <urn:my-building/zone_db985473> ;\n",
      "    brick:hasPart <urn:my-building/dmp_c07bbdde> ;\n",
      "    brick:hasPoint <urn:my-building/co2_e8c7fa2a>,\n",
      "        <urn:my-building/dat_b32277e5>,\n",
      "        <urn:my-building/occ_894d0931>,\n",
      "        <urn:my-building/ztemp_aeea93ff> .\n",
      "\n",
      "<urn:my-building/vav-1> a brick:VAV ;\n",
      "    brick:feeds <urn:my-building/zone_5bc1ae1c> ;\n",
      "    brick:hasPart <urn:my-building/dmp_1f1aea36> ;\n",
      "    brick:hasPoint <urn:my-building/co2_0e147480>,\n",
      "        <urn:my-building/dat_9e1a0a03>,\n",
      "        <urn:my-building/occ_dfce93ae>,\n",
      "        <urn:my-building/ztemp_f99c9e18> .\n",
      "\n",
      "<urn:my-building/vav-2> a brick:VAV ;\n",
      "    brick:feeds <urn:my-building/zone_92de96ef> ;\n",
      "    brick:hasPart <urn:my-building/dmp_9cd4db7c> ;\n",
      "    brick:hasPoint <urn:my-building/co2_7184c806>,\n",
      "        <urn:my-building/dat_e3e73b4f>,\n",
      "        <urn:my-building/occ_8e0cb078>,\n",
      "        <urn:my-building/ztemp_6823b81b> .\n",
      "\n",
      "\n"
     ]
    }
   ],
   "source": [
    "print(bldg.graph.serialize(format=\"turtle\"))"
   ]
  },
  {
   "cell_type": "code",
   "execution_count": 11,
   "id": "93823735-3fb3-4b30-b344-fcb45bcca20a",
   "metadata": {},
   "outputs": [],
   "source": [
    "# and save your work!\n",
    "bm.session.commit()"
   ]
  },
  {
   "cell_type": "markdown",
   "id": "b57578fa-67d2-4bcd-81d1-09639788fdf7",
   "metadata": {},
   "source": [
    "Rewinding a little bit, you may have noticed that the generated graph above doesn't actually contain any metadata for the points and parts associated with the VAVs. This is because we didn't deal with dependencies at all. We can use `inline_dependencies()` to resolve other definitions required by the VAV template:"
   ]
  },
  {
   "cell_type": "code",
   "execution_count": 12,
   "id": "cf999dc8-21d0-4231-a981-69e2a74274ae",
   "metadata": {},
   "outputs": [
    {
     "name": "stdout",
     "output_type": "stream",
     "text": [
      "@prefix brick: <https://brickschema.org/schema/Brick#> .\n",
      "\n",
      "<urn:my-building/name_d5db4fab> a brick:VAV ;\n",
      "    brick:feeds <urn:my-building/zone_a06bae25> ;\n",
      "    brick:hasPart <urn:my-building/dmp_5dfb24b6> ;\n",
      "    brick:hasPoint <urn:my-building/co2_f1847852>,\n",
      "        <urn:my-building/dat_f9b84eab>,\n",
      "        <urn:my-building/occ_add6f2a6>,\n",
      "        <urn:my-building/ztemp_e0e75e14> .\n",
      "\n",
      "\n"
     ]
    }
   ],
   "source": [
    "# without resolving dependencies\n",
    "_, g = vav_templ.fill(BLDG)\n",
    "print(g.serialize())"
   ]
  },
  {
   "cell_type": "code",
   "execution_count": 13,
   "id": "8156e55d-e887-41b5-85af-f172401b3c97",
   "metadata": {},
   "outputs": [
    {
     "name": "stdout",
     "output_type": "stream",
     "text": [
      "@prefix brick: <https://brickschema.org/schema/Brick#> .\n",
      "\n",
      "<urn:my-building/name_fcbf0f1b> a brick:VAV ;\n",
      "    brick:feeds <urn:my-building/zone_5120076d> ;\n",
      "    brick:hasPart <urn:my-building/dmp_ff36c332> ;\n",
      "    brick:hasPoint <urn:my-building/co2_6c6f9535>,\n",
      "        <urn:my-building/dat_a374adec>,\n",
      "        <urn:my-building/occ_67ff6b45>,\n",
      "        <urn:my-building/ztemp_61eb02ff> .\n",
      "\n",
      "<urn:my-building/co2_6c6f9535> a brick:CO2_Level_Sensor .\n",
      "\n",
      "<urn:my-building/dat_a374adec> a brick:Discharge_Air_Temperature_Sensor .\n",
      "\n",
      "<urn:my-building/dmp_ff36c332> a brick:Damper ;\n",
      "    brick:hasPoint <urn:my-building/dmppos-damperb6e126bc-inlined_85aebf55> .\n",
      "\n",
      "<urn:my-building/dmppos-damperb6e126bc-inlined_85aebf55> a brick:Damper_Position_Command .\n",
      "\n",
      "<urn:my-building/occ_67ff6b45> a brick:Occupancy_Sensor .\n",
      "\n",
      "<urn:my-building/zone_5120076d> a brick:HVAC_Zone .\n",
      "\n",
      "<urn:my-building/ztemp_61eb02ff> a brick:Zone_Air_Temperature_Sensor .\n",
      "\n",
      "\n"
     ]
    }
   ],
   "source": [
    "# with resolved dependencies\n",
    "inlined = vav_templ.inline_dependencies()\n",
    "_, g = inlined.fill(BLDG)\n",
    "print(g.serialize())"
   ]
  },
  {
   "cell_type": "code",
   "execution_count": 14,
   "id": "15d297a8-5062-4351-b53d-6911fa451a0b",
   "metadata": {},
   "outputs": [
    {
     "name": "stdout",
     "output_type": "stream",
     "text": [
      "@prefix brick: <https://brickschema.org/schema/Brick#> .\n",
      "\n",
      "<urn:___param___#name> a brick:VAV ;\n",
      "    brick:feeds <urn:___param___#zone> ;\n",
      "    brick:hasPart <urn:___param___#dmp> ;\n",
      "    brick:hasPoint <urn:___param___#co2>,\n",
      "        <urn:___param___#dat>,\n",
      "        <urn:___param___#occ>,\n",
      "        <urn:___param___#ztemp> .\n",
      "\n",
      "<urn:___param___#co2> a brick:CO2_Level_Sensor .\n",
      "\n",
      "<urn:___param___#dat> a brick:Discharge_Air_Temperature_Sensor .\n",
      "\n",
      "<urn:___param___#dmp> a brick:Damper ;\n",
      "    brick:hasPoint <urn:___param___#dmppos-damperb6e126bc-inlined> .\n",
      "\n",
      "<urn:___param___#dmppos-damperb6e126bc-inlined> a brick:Damper_Position_Command .\n",
      "\n",
      "<urn:___param___#occ> a brick:Occupancy_Sensor .\n",
      "\n",
      "<urn:___param___#zone> a brick:HVAC_Zone .\n",
      "\n",
      "<urn:___param___#ztemp> a brick:Zone_Air_Temperature_Sensor .\n",
      "\n",
      "\n"
     ]
    }
   ],
   "source": [
    "print(inlined.body.serialize(format='turtle'))"
   ]
  },
  {
   "cell_type": "code",
   "execution_count": 15,
   "id": "65e41cce-4f0f-4532-baf8-6eb8b8af0e36",
   "metadata": {},
   "outputs": [],
   "source": [
    "lib = TemplateLibrary.load(directory=\"../libraries/bca-chiller-plant/\")"
   ]
  },
  {
   "cell_type": "code",
   "execution_count": 16,
   "id": "8963d11e-2884-4cfb-beaa-88870d3ffa36",
   "metadata": {},
   "outputs": [
    {
     "name": "stdout",
     "output_type": "stream",
     "text": [
      "@prefix brick: <https://brickschema.org/schema/Brick#> .\n",
      "@prefix rdfs: <http://www.w3.org/2000/01/rdf-schema#> .\n",
      "\n",
      "<urn:my-building/name_51ab6c17> a brick:Chiller ;\n",
      "    brick:hasPart <urn:my-building/chwp_90faa89c>,\n",
      "        <urn:my-building/cnd_43ee08d7>,\n",
      "        <urn:my-building/cvlv_86942d1b> ;\n",
      "    brick:hasPoint <urn:my-building/chwrt_e2d2467a>,\n",
      "        <urn:my-building/chwst_a2a24d3e> ;\n",
      "    brick:isMeteredBy <urn:my-building/meter_2499e921> .\n",
      "\n",
      "<urn:my-building/breaker_status-electrical_meter458a2b36-inlined_53c85c6f> a <breaker_status> .\n",
      "\n",
      "<urn:my-building/breaker_status-electrical_meter76abaa35-inlined_916e2d47> a <breaker_status> .\n",
      "\n",
      "<urn:my-building/breaker_status-electrical_meterb8ef2746-inlined_4da7f304> a <breaker_status> .\n",
      "\n",
      "<urn:my-building/bypass_valve-pump2b7a7593-inlined_062f9530> a brick:Bypass_Valve ;\n",
      "    brick:hasPoint <urn:my-building/vlv_cmd-bypass_valvef0a93f36-inlined_ca091902> .\n",
      "\n",
      "<urn:my-building/bypass_valve-pumpc884ebbc-inlined_f388e5ab> a brick:Bypass_Valve ;\n",
      "    brick:hasPoint <urn:my-building/vlv_cmd-bypass_valve996718fb-inlined_5e899f3e> .\n",
      "\n",
      "<urn:my-building/chwp_90faa89c> a brick:Chilled_Water_Pump,\n",
      "        brick:Pump ;\n",
      "    brick:hasPart <urn:my-building/bypass_valve-pumpc884ebbc-inlined_f388e5ab>,\n",
      "        <urn:my-building/control_valve-pumpc884ebbc-inlined_e3495294> ;\n",
      "    brick:hasPoint <urn:my-building/mode-pumpc884ebbc-inlined_81e8f3fa>,\n",
      "        <urn:my-building/run-pumpc884ebbc-inlined_1bc75ad0>,\n",
      "        <urn:my-building/vsd-pumpc884ebbc-inlined_cd7666a7> ;\n",
      "    brick:isMeteredBy <urn:my-building/meter-pumpc884ebbc-inlined_ca7eb8ef> .\n",
      "\n",
      "<urn:my-building/chwrt_e2d2467a> a brick:Chilled_Water_Return_Temperature_Sensor .\n",
      "\n",
      "<urn:my-building/chwst_a2a24d3e> a brick:Chilled_Water_Supply_Temperature_Sensor .\n",
      "\n",
      "<urn:my-building/cnd_43ee08d7> a brick:Condenser ;\n",
      "    brick:hasPart <urn:my-building/pump-condenserb4e6455a-inlined_21102363> ;\n",
      "    brick:hasPoint <urn:my-building/flow-condenserb4e6455a-inlined_bda273a8>,\n",
      "        <urn:my-building/ret-condenserb4e6455a-inlined_945b8491>,\n",
      "        <urn:my-building/sup-condenserb4e6455a-inlined_681b5680> .\n",
      "\n",
      "<urn:my-building/control_valve-pump2b7a7593-inlined_fa8a6bc5> a brick:Valve ;\n",
      "    rdfs:label \"Control Valve\" ;\n",
      "    brick:hasPoint <urn:my-building/vlv_cmd-control_valved7558912-inlined_11335071> .\n",
      "\n",
      "<urn:my-building/control_valve-pumpc884ebbc-inlined_e3495294> a brick:Valve ;\n",
      "    rdfs:label \"Control Valve\" ;\n",
      "    brick:hasPoint <urn:my-building/vlv_cmd-control_valve28584ced-inlined_65321b96> .\n",
      "\n",
      "<urn:my-building/current-electrical_meter458a2b36-inlined_75fd00a8> a brick:Current_Sensor .\n",
      "\n",
      "<urn:my-building/current-electrical_meter76abaa35-inlined_c9d61271> a brick:Current_Sensor .\n",
      "\n",
      "<urn:my-building/current-electrical_meterb8ef2746-inlined_b42f4ac4> a brick:Current_Sensor .\n",
      "\n",
      "<urn:my-building/cvlv_86942d1b> a brick:Valve ;\n",
      "    rdfs:label \"Control Valve\" ;\n",
      "    brick:hasPoint <urn:my-building/vlv_cmd-control_valve446dc21d-inlined_a3c4c39e> .\n",
      "\n",
      "<urn:my-building/flow-condenserb4e6455a-inlined_bda273a8> a brick:Condenser_Water_Flow_Sensor .\n",
      "\n",
      "<urn:my-building/meter-pump2b7a7593-inlined_9e27c4a8> a brick:Electrical_Meter ;\n",
      "    brick:hasPoint <urn:my-building/breaker_status-electrical_meter76abaa35-inlined_916e2d47>,\n",
      "        <urn:my-building/current-electrical_meter76abaa35-inlined_c9d61271>,\n",
      "        <urn:my-building/power-electrical_meter76abaa35-inlined_285917bb>,\n",
      "        <urn:my-building/voltage-electrical_meter76abaa35-inlined_0cf19206> .\n",
      "\n",
      "<urn:my-building/meter-pumpc884ebbc-inlined_ca7eb8ef> a brick:Electrical_Meter ;\n",
      "    brick:hasPoint <urn:my-building/breaker_status-electrical_meter458a2b36-inlined_53c85c6f>,\n",
      "        <urn:my-building/current-electrical_meter458a2b36-inlined_75fd00a8>,\n",
      "        <urn:my-building/power-electrical_meter458a2b36-inlined_441a3364>,\n",
      "        <urn:my-building/voltage-electrical_meter458a2b36-inlined_c356db33> .\n",
      "\n",
      "<urn:my-building/meter_2499e921> a brick:Electrical_Meter ;\n",
      "    brick:hasPoint <urn:my-building/breaker_status-electrical_meterb8ef2746-inlined_4da7f304>,\n",
      "        <urn:my-building/current-electrical_meterb8ef2746-inlined_b42f4ac4>,\n",
      "        <urn:my-building/power-electrical_meterb8ef2746-inlined_da7a7d57>,\n",
      "        <urn:my-building/voltage-electrical_meterb8ef2746-inlined_8eb0bfb0> .\n",
      "\n",
      "<urn:my-building/mode-pump2b7a7593-inlined_ccff88a3> a brick:Mode_Command .\n",
      "\n",
      "<urn:my-building/mode-pumpc884ebbc-inlined_81e8f3fa> a brick:Mode_Command .\n",
      "\n",
      "<urn:my-building/power-electrical_meter458a2b36-inlined_441a3364> a brick:Power_Sensor .\n",
      "\n",
      "<urn:my-building/power-electrical_meter76abaa35-inlined_285917bb> a brick:Power_Sensor .\n",
      "\n",
      "<urn:my-building/power-electrical_meterb8ef2746-inlined_da7a7d57> a brick:Power_Sensor .\n",
      "\n",
      "<urn:my-building/pump-condenserb4e6455a-inlined_21102363> a brick:Condenser_Water_Pump,\n",
      "        brick:Pump ;\n",
      "    brick:hasPart <urn:my-building/bypass_valve-pump2b7a7593-inlined_062f9530>,\n",
      "        <urn:my-building/control_valve-pump2b7a7593-inlined_fa8a6bc5> ;\n",
      "    brick:hasPoint <urn:my-building/mode-pump2b7a7593-inlined_ccff88a3>,\n",
      "        <urn:my-building/run-pump2b7a7593-inlined_7129fda6>,\n",
      "        <urn:my-building/vsd-pump2b7a7593-inlined_ac048735> ;\n",
      "    brick:isMeteredBy <urn:my-building/meter-pump2b7a7593-inlined_9e27c4a8> .\n",
      "\n",
      "<urn:my-building/ret-condenserb4e6455a-inlined_945b8491> a brick:Condenser_Water_Return_Temperature_Sensor .\n",
      "\n",
      "<urn:my-building/run-pump2b7a7593-inlined_7129fda6> a brick:Run_Status .\n",
      "\n",
      "<urn:my-building/run-pumpc884ebbc-inlined_1bc75ad0> a brick:Run_Status .\n",
      "\n",
      "<urn:my-building/sup-condenserb4e6455a-inlined_681b5680> a brick:Condenser_Water_Supply_Temperature_Sensor .\n",
      "\n",
      "<urn:my-building/vlv_cmd-bypass_valve996718fb-inlined_5e899f3e> a brick:Valve_Command .\n",
      "\n",
      "<urn:my-building/vlv_cmd-bypass_valvef0a93f36-inlined_ca091902> a brick:Valve_Command .\n",
      "\n",
      "<urn:my-building/vlv_cmd-control_valve28584ced-inlined_65321b96> a brick:Valve_Command .\n",
      "\n",
      "<urn:my-building/vlv_cmd-control_valve446dc21d-inlined_a3c4c39e> a brick:Valve_Command .\n",
      "\n",
      "<urn:my-building/vlv_cmd-control_valved7558912-inlined_11335071> a brick:Valve_Command .\n",
      "\n",
      "<urn:my-building/voltage-electrical_meter458a2b36-inlined_c356db33> a brick:Voltage_Sensor .\n",
      "\n",
      "<urn:my-building/voltage-electrical_meter76abaa35-inlined_0cf19206> a brick:Voltage_Sensor .\n",
      "\n",
      "<urn:my-building/voltage-electrical_meterb8ef2746-inlined_8eb0bfb0> a brick:Voltage_Sensor .\n",
      "\n",
      "<urn:my-building/vsd-pump2b7a7593-inlined_ac048735> a brick:Frequency_Command .\n",
      "\n",
      "<urn:my-building/vsd-pumpc884ebbc-inlined_cd7666a7> a brick:Frequency_Command .\n",
      "\n",
      "\n"
     ]
    }
   ],
   "source": [
    "chiller = lib.get_template_by_name(\"chiller\")\n",
    "inlined = chiller.inline_dependencies()\n",
    "_, g = inlined.fill(BLDG)\n",
    "print(g.serialize())"
   ]
  }
 ],
 "metadata": {
  "kernelspec": {
   "display_name": "Python 3 (ipykernel)",
   "language": "python",
   "name": "python3"
  },
  "language_info": {
   "codemirror_mode": {
    "name": "ipython",
    "version": 3
   },
   "file_extension": ".py",
   "mimetype": "text/x-python",
   "name": "python",
   "nbconvert_exporter": "python",
   "pygments_lexer": "ipython3",
   "version": "3.9.12"
  }
 },
 "nbformat": 4,
 "nbformat_minor": 5
}
