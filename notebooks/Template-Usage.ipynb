{
 "cells": [
  {
   "cell_type": "code",
   "execution_count": 1,
   "id": "88c1dde3-4b12-4247-a3d2-991a63e749fb",
   "metadata": {},
   "outputs": [],
   "source": [
    "from rdflib import Namespace\n",
    "from buildingmotif import BuildingMOTIF\n",
    "from buildingmotif.dataclasses import Model, Library\n",
    "from buildingmotif.namespaces import BMOTIF"
   ]
  },
  {
   "cell_type": "markdown",
   "id": "232b02d5-a59b-48ee-94a3-30552c639bba",
   "metadata": {},
   "source": [
    "We need a namespace (`BLDG`) to name the entities that will exist in our model. `NUM_VAVs` will be used to generate a number of VAVs for this example"
   ]
  },
  {
   "cell_type": "code",
   "execution_count": 2,
   "id": "ace5920c-2a02-4415-b17b-d1d20095a847",
   "metadata": {},
   "outputs": [],
   "source": [
    "NUM_VAVs = 3\n",
    "BLDG = Namespace(\"urn:my-building/\")"
   ]
  },
  {
   "cell_type": "markdown",
   "id": "69fad6af-e203-4612-b96d-4cd3f21641b8",
   "metadata": {},
   "source": [
    "Create an in-memory BuildingMOTIF instance and create a `my-building` model that we will populate by evaluating templates"
   ]
  },
  {
   "cell_type": "code",
   "execution_count": 3,
   "id": "dfefe386-b5a5-4933-b43e-554e09a51bd1",
   "metadata": {},
   "outputs": [],
   "source": [
    "bm = BuildingMOTIF(\"sqlite://\")\n",
    "bldg = Model.create(\"https://example.com\")"
   ]
  },
  {
   "cell_type": "markdown",
   "id": "16b40ce3-3055-42d2-8630-f5be64559344",
   "metadata": {},
   "source": [
    "Load in templates / classes from the Brick ontology (this may take 1-2 minutes):"
   ]
  },
  {
   "cell_type": "code",
   "execution_count": 4,
   "id": "f4480e5b-c59b-434e-b5da-5afb53fe7567",
   "metadata": {},
   "outputs": [
    {
     "data": {
      "text/plain": [
       "Library(_id=1, _name=rdflib.term.URIRef('https://brickschema.org/schema/1.3/Brick'), _bm=<buildingmotif.building_motif.building_motif.BuildingMOTIF object at 0x10fdd8bb0>)"
      ]
     },
     "execution_count": 4,
     "metadata": {},
     "output_type": "execute_result"
    }
   ],
   "source": [
    "Library.load(ontology_graph=\"../libraries/brick/Brick.ttl\")"
   ]
  },
  {
   "cell_type": "markdown",
   "id": "473b5b7c-68ae-4265-9735-5b8856218c01",
   "metadata": {},
   "source": [
    "We load the G36 template library and pull out the \"vav-cooling-only\" template, corresponding to the pointlist in Section 4.1 of Guideline 36"
   ]
  },
  {
   "cell_type": "code",
   "execution_count": 5,
   "id": "e1c6c3a4-e1b4-4c7e-b858-1b17fb0fd17a",
   "metadata": {},
   "outputs": [
    {
     "name": "stdout",
     "output_type": "stream",
     "text": [
      "lib contains 2 system specifications: [rdflib.term.URIRef('urn:ashrae/g36/4.1/vav-cooling-only/vav-cooling-only'), rdflib.term.URIRef('urn:ashrae/g36/4.2/vav-with-reheat/vav-with-reheat')]\n"
     ]
    }
   ],
   "source": [
    "lib = Library.load(directory=\"../libraries/ashrae/guideline36/\")\n",
    "system_specifications = lib.get_shape_collection().get_shapes_of_definition_type(BMOTIF.System_Specification)\n",
    "print(f\"lib contains {len(system_specifications)} system specifications: {system_specifications}\")\n",
    "vav_templ = lib.get_template_by_name(\"vav-terminal-unit-cooling\")"
   ]
  },
  {
   "cell_type": "markdown",
   "id": "3f2fd807-aee8-41a1-96f5-e27c4eee46dd",
   "metadata": {},
   "source": [
    "Now that we have the template, we do the following to create the VAV:"
   ]
  },
  {
   "cell_type": "code",
   "execution_count": 6,
   "id": "90952745-829e-4c00-bcee-1363eebf44e2",
   "metadata": {},
   "outputs": [
    {
     "name": "stdout",
     "output_type": "stream",
     "text": [
      "{'dat', 'ztemp', 'co2', 'dmp', 'occ', 'zone'}\n"
     ]
    }
   ],
   "source": [
    "# create a \"name\" for the VAV\n",
    "vav_name = BLDG[\"vav-0\"]\n",
    "# evaluate the template with that name to make sure the VAV has that name\n",
    "tmp = vav_templ.evaluate({\"name\": vav_name})\n",
    "# check what parameters are left\n",
    "print(tmp.parameters)"
   ]
  },
  {
   "cell_type": "markdown",
   "id": "352d3b96-73ec-47f0-8b32-7c626b90c534",
   "metadata": {},
   "source": [
    "If we don't want to provide names for these yet, we can call `.fill()` to invent names for them. This is helpful for testing and prototyping"
   ]
  },
  {
   "cell_type": "code",
   "execution_count": 7,
   "id": "2d644824-0e69-4834-839c-883f000a62be",
   "metadata": {},
   "outputs": [],
   "source": [
    "bindings, vav_graph = tmp.fill(BLDG) # tell 'fill' to put the invented names in the BLDG namespace"
   ]
  },
  {
   "cell_type": "markdown",
   "id": "a1c9f2c9-9740-403e-802f-3fc91c8f03d2",
   "metadata": {},
   "source": [
    "The `vav_graph` object can now be added to our model:"
   ]
  },
  {
   "cell_type": "code",
   "execution_count": 8,
   "id": "d300a5a4-8605-433a-9775-096323c49c45",
   "metadata": {},
   "outputs": [],
   "source": [
    "bldg.add_graph(vav_graph)"
   ]
  },
  {
   "cell_type": "code",
   "execution_count": 9,
   "id": "da5d0d34-1dfd-4dde-af09-5dfcf2026205",
   "metadata": {},
   "outputs": [],
   "source": [
    "# run for the other n-1 VAVs\n",
    "for vav in range(1,NUM_VAVs):\n",
    "    vav_name = BLDG[f\"vav-{vav}\"]\n",
    "    _, vav_graph = vav_templ.evaluate({\"name\": vav_name}).fill(BLDG)\n",
    "    bldg.add_graph(vav_graph)"
   ]
  },
  {
   "cell_type": "markdown",
   "id": "7d4389d7-8369-4083-b4dc-bba533c1df1b",
   "metadata": {},
   "source": [
    "Print out the resulting model"
   ]
  },
  {
   "cell_type": "code",
   "execution_count": 10,
   "id": "3551fad4-553e-405a-aaeb-78bf5a8da4a6",
   "metadata": {},
   "outputs": [
    {
     "name": "stdout",
     "output_type": "stream",
     "text": [
      "@prefix brick: <https://brickschema.org/schema/Brick#> .\n",
      "@prefix owl: <http://www.w3.org/2002/07/owl#> .\n",
      "\n",
      "<my-building> a owl:Ontology .\n",
      "\n",
      "<urn:my-building/vav-0> a brick:VAV ;\n",
      "    brick:feeds <urn:my-building/zone_8be47813> ;\n",
      "    brick:hasPart <urn:my-building/dmp_9b8b98e4> ;\n",
      "    brick:hasPoint <urn:my-building/co2_ccbb8751>,\n",
      "        <urn:my-building/dat_cad14af4>,\n",
      "        <urn:my-building/occ_dbe0fdb6>,\n",
      "        <urn:my-building/ztemp_090e3792> .\n",
      "\n",
      "<urn:my-building/vav-1> a brick:VAV ;\n",
      "    brick:feeds <urn:my-building/zone_94658505> ;\n",
      "    brick:hasPart <urn:my-building/dmp_aa5f3617> ;\n",
      "    brick:hasPoint <urn:my-building/co2_f088b40b>,\n",
      "        <urn:my-building/dat_8959bf92>,\n",
      "        <urn:my-building/occ_d804c60f>,\n",
      "        <urn:my-building/ztemp_72d2ddf7> .\n",
      "\n",
      "<urn:my-building/vav-2> a brick:VAV ;\n",
      "    brick:feeds <urn:my-building/zone_fd9654b3> ;\n",
      "    brick:hasPart <urn:my-building/dmp_1aa63d9c> ;\n",
      "    brick:hasPoint <urn:my-building/co2_034b64ad>,\n",
      "        <urn:my-building/dat_7befac06>,\n",
      "        <urn:my-building/occ_4861cd7c>,\n",
      "        <urn:my-building/ztemp_cfd57a98> .\n",
      "\n",
      "\n"
     ]
    }
   ],
   "source": [
    "print(bldg.graph.serialize(format=\"turtle\"))"
   ]
  },
  {
   "cell_type": "code",
   "execution_count": 11,
   "id": "93823735-3fb3-4b30-b344-fcb45bcca20a",
   "metadata": {},
   "outputs": [],
   "source": [
    "# and save your work!\n",
    "bm.session.commit()"
   ]
  },
  {
   "cell_type": "markdown",
   "id": "b57578fa-67d2-4bcd-81d1-09639788fdf7",
   "metadata": {},
   "source": [
    "Rewinding a little bit, you may have noticed that the generated graph above doesn't actually contain any metadata for the points and parts associated with the VAVs. This is because we didn't deal with dependencies at all. We can use `inline_dependencies()` to resolve other definitions required by the VAV template:"
   ]
  },
  {
   "cell_type": "code",
   "execution_count": 12,
   "id": "cf999dc8-21d0-4231-a981-69e2a74274ae",
   "metadata": {},
   "outputs": [
    {
     "name": "stdout",
     "output_type": "stream",
     "text": [
      "@prefix brick: <https://brickschema.org/schema/Brick#> .\n",
      "\n",
      "<urn:my-building/name_cd57b406> a brick:VAV ;\n",
      "    brick:feeds <urn:my-building/zone_4de18641> ;\n",
      "    brick:hasPart <urn:my-building/dmp_7b0fd44b> ;\n",
      "    brick:hasPoint <urn:my-building/co2_43920f5d>,\n",
      "        <urn:my-building/dat_41a730c6>,\n",
      "        <urn:my-building/occ_14aa04ca>,\n",
      "        <urn:my-building/ztemp_10afbea7> .\n",
      "\n",
      "\n"
     ]
    }
   ],
   "source": [
    "# without resolving dependencies\n",
    "_, g = vav_templ.fill(BLDG)\n",
    "print(g.serialize())"
   ]
  },
  {
   "cell_type": "code",
   "execution_count": 13,
   "id": "8156e55d-e887-41b5-85af-f172401b3c97",
   "metadata": {},
   "outputs": [
    {
     "name": "stdout",
     "output_type": "stream",
     "text": [
      "@prefix brick: <https://brickschema.org/schema/Brick#> .\n",
      "\n",
      "<urn:my-building/name_534325be> a brick:VAV ;\n",
      "    brick:feeds <urn:my-building/zone_71908014> ;\n",
      "    brick:hasPart <urn:my-building/dmp_8f4532e0> ;\n",
      "    brick:hasPoint <urn:my-building/co2_6438b299>,\n",
      "        <urn:my-building/dat_80c681b5>,\n",
      "        <urn:my-building/occ_4ed4521d>,\n",
      "        <urn:my-building/ztemp_fceb6e54> .\n",
      "\n",
      "<urn:my-building/co2_6438b299> a brick:CO2_Level_Sensor .\n",
      "\n",
      "<urn:my-building/dat_80c681b5> a brick:Discharge_Air_Temperature_Sensor .\n",
      "\n",
      "<urn:my-building/dmp_8f4532e0> a brick:Damper ;\n",
      "    brick:hasPoint <urn:my-building/dmppos_05bb94e4> .\n",
      "\n",
      "<urn:my-building/dmppos_05bb94e4> a brick:Damper_Position_Command .\n",
      "\n",
      "<urn:my-building/occ_4ed4521d> a brick:Occupancy_Sensor .\n",
      "\n",
      "<urn:my-building/zone_71908014> a brick:HVAC_Zone .\n",
      "\n",
      "<urn:my-building/ztemp_fceb6e54> a brick:Zone_Air_Temperature_Sensor .\n",
      "\n",
      "\n"
     ]
    }
   ],
   "source": [
    "# with resolved dependencies\n",
    "inlined = vav_templ.inline_dependencies()\n",
    "_, g = inlined.fill(BLDG)\n",
    "print(g.serialize())"
   ]
  },
  {
   "cell_type": "code",
   "execution_count": 14,
   "id": "15d297a8-5062-4351-b53d-6911fa451a0b",
   "metadata": {},
   "outputs": [
    {
     "name": "stdout",
     "output_type": "stream",
     "text": [
      "@prefix brick: <https://brickschema.org/schema/Brick#> .\n",
      "\n",
      "<urn:___param___#name> a brick:VAV ;\n",
      "    brick:feeds <urn:___param___#zone> ;\n",
      "    brick:hasPart <urn:___param___#dmp> ;\n",
      "    brick:hasPoint <urn:___param___#co2>,\n",
      "        <urn:___param___#dat>,\n",
      "        <urn:___param___#occ>,\n",
      "        <urn:___param___#ztemp> .\n",
      "\n",
      "<urn:___param___#co2> a brick:CO2_Level_Sensor .\n",
      "\n",
      "<urn:___param___#dat> a brick:Discharge_Air_Temperature_Sensor .\n",
      "\n",
      "<urn:___param___#dmp> a brick:Damper ;\n",
      "    brick:hasPoint <urn:___param___#dmppos> .\n",
      "\n",
      "<urn:___param___#dmppos> a brick:Damper_Position_Command .\n",
      "\n",
      "<urn:___param___#occ> a brick:Occupancy_Sensor .\n",
      "\n",
      "<urn:___param___#zone> a brick:HVAC_Zone .\n",
      "\n",
      "<urn:___param___#ztemp> a brick:Zone_Air_Temperature_Sensor .\n",
      "\n",
      "\n"
     ]
    }
   ],
   "source": [
    "print(inlined.body.serialize(format='turtle'))"
   ]
  },
  {
   "cell_type": "markdown",
   "id": "4b541165-9d43-4071-8415-ef87fdeb5cd2",
   "metadata": {},
   "source": [
    "Run another example w/ chiller plant"
   ]
  },
  {
   "cell_type": "code",
   "execution_count": 15,
   "id": "65e41cce-4f0f-4532-baf8-6eb8b8af0e36",
   "metadata": {},
   "outputs": [],
   "source": [
    "lib = Library.load(directory=\"../libraries/chiller-plant/\")"
   ]
  },
  {
   "cell_type": "code",
   "execution_count": 16,
   "id": "8963d11e-2884-4cfb-beaa-88870d3ffa36",
   "metadata": {},
   "outputs": [
    {
     "name": "stdout",
     "output_type": "stream",
     "text": [
      "@prefix brick: <https://brickschema.org/schema/Brick#> .\n",
      "@prefix rdfs: <http://www.w3.org/2000/01/rdf-schema#> .\n",
      "\n",
      "<urn:___param___#name> a brick:Chiller ;\n",
      "    brick:hasPart <urn:___param___#chwp>,\n",
      "        <urn:___param___#cnd>,\n",
      "        <urn:___param___#cvlv> ;\n",
      "    brick:hasPoint <urn:___param___#chwrt>,\n",
      "        <urn:___param___#chwst> ;\n",
      "    brick:isMeteredBy <urn:___param___#meter> .\n",
      "\n",
      "<urn:___param___#chwp> a brick:Chilled_Water_Pump,\n",
      "        brick:Pump ;\n",
      "    brick:hasPart <urn:___param___#pump-bypass_valve>,\n",
      "        <urn:___param___#pump-control_valve> ;\n",
      "    brick:hasPoint <urn:___param___#pump-mode>,\n",
      "        <urn:___param___#pump-run>,\n",
      "        <urn:___param___#pump-vsd> ;\n",
      "    brick:isMeteredBy <urn:___param___#pump-meter> .\n",
      "\n",
      "<urn:___param___#chwrt> a brick:Chilled_Water_Return_Temperature_Sensor .\n",
      "\n",
      "<urn:___param___#chwst> a brick:Chilled_Water_Supply_Temperature_Sensor .\n",
      "\n",
      "<urn:___param___#cnd> a brick:Condenser ;\n",
      "    brick:hasPart <urn:___param___#pump> ;\n",
      "    brick:hasPoint <urn:___param___#flow>,\n",
      "        <urn:___param___#ret>,\n",
      "        <urn:___param___#sup> .\n",
      "\n",
      "<urn:___param___#condenser-breaker_status> a <breaker_status> .\n",
      "\n",
      "<urn:___param___#condenser-bypass_valve> a brick:Bypass_Valve ;\n",
      "    brick:hasPoint <urn:___param___#bypass_valve-vlv_cmd> .\n",
      "\n",
      "<urn:___param___#condenser-control_valve> a brick:Valve ;\n",
      "    rdfs:label \"Control Valve\" ;\n",
      "    brick:hasPoint <urn:___param___#control_valve-vlv_cmd> .\n",
      "\n",
      "<urn:___param___#condenser-current> a brick:Current_Sensor .\n",
      "\n",
      "<urn:___param___#condenser-meter> a brick:Electrical_Meter ;\n",
      "    brick:hasPoint <urn:___param___#condenser-breaker_status>,\n",
      "        <urn:___param___#condenser-current>,\n",
      "        <urn:___param___#condenser-power>,\n",
      "        <urn:___param___#condenser-voltage> .\n",
      "\n",
      "<urn:___param___#condenser-mode> a brick:Mode_Command .\n",
      "\n",
      "<urn:___param___#condenser-power> a brick:Power_Sensor .\n",
      "\n",
      "<urn:___param___#condenser-run> a brick:Run_Status .\n",
      "\n",
      "<urn:___param___#condenser-voltage> a brick:Voltage_Sensor .\n",
      "\n",
      "<urn:___param___#condenser-vsd> a brick:Frequency_Command .\n",
      "\n",
      "<urn:___param___#cvlv> a brick:Valve ;\n",
      "    rdfs:label \"Control Valve\" ;\n",
      "    brick:hasPoint <urn:___param___#control_valve-vlv_cmd> .\n",
      "\n",
      "<urn:___param___#electrical_meter-breaker_status> a <breaker_status> .\n",
      "\n",
      "<urn:___param___#electrical_meter-current> a brick:Current_Sensor .\n",
      "\n",
      "<urn:___param___#electrical_meter-power> a brick:Power_Sensor .\n",
      "\n",
      "<urn:___param___#electrical_meter-voltage> a brick:Voltage_Sensor .\n",
      "\n",
      "<urn:___param___#flow> a brick:Condenser_Water_Flow_Sensor .\n",
      "\n",
      "<urn:___param___#meter> a brick:Electrical_Meter ;\n",
      "    brick:hasPoint <urn:___param___#electrical_meter-breaker_status>,\n",
      "        <urn:___param___#electrical_meter-current>,\n",
      "        <urn:___param___#electrical_meter-power>,\n",
      "        <urn:___param___#electrical_meter-voltage> .\n",
      "\n",
      "<urn:___param___#pump> a brick:Condenser_Water_Pump,\n",
      "        brick:Pump ;\n",
      "    brick:hasPart <urn:___param___#condenser-bypass_valve>,\n",
      "        <urn:___param___#condenser-control_valve> ;\n",
      "    brick:hasPoint <urn:___param___#condenser-mode>,\n",
      "        <urn:___param___#condenser-run>,\n",
      "        <urn:___param___#condenser-vsd> ;\n",
      "    brick:isMeteredBy <urn:___param___#condenser-meter> .\n",
      "\n",
      "<urn:___param___#pump-breaker_status> a <breaker_status> .\n",
      "\n",
      "<urn:___param___#pump-bypass_valve> a brick:Bypass_Valve ;\n",
      "    brick:hasPoint <urn:___param___#bypass_valve-vlv_cmd> .\n",
      "\n",
      "<urn:___param___#pump-control_valve> a brick:Valve ;\n",
      "    rdfs:label \"Control Valve\" ;\n",
      "    brick:hasPoint <urn:___param___#control_valve-vlv_cmd> .\n",
      "\n",
      "<urn:___param___#pump-current> a brick:Current_Sensor .\n",
      "\n",
      "<urn:___param___#pump-meter> a brick:Electrical_Meter ;\n",
      "    brick:hasPoint <urn:___param___#pump-breaker_status>,\n",
      "        <urn:___param___#pump-current>,\n",
      "        <urn:___param___#pump-power>,\n",
      "        <urn:___param___#pump-voltage> .\n",
      "\n",
      "<urn:___param___#pump-mode> a brick:Mode_Command .\n",
      "\n",
      "<urn:___param___#pump-power> a brick:Power_Sensor .\n",
      "\n",
      "<urn:___param___#pump-run> a brick:Run_Status .\n",
      "\n",
      "<urn:___param___#pump-voltage> a brick:Voltage_Sensor .\n",
      "\n",
      "<urn:___param___#pump-vsd> a brick:Frequency_Command .\n",
      "\n",
      "<urn:___param___#ret> a brick:Condenser_Water_Return_Temperature_Sensor .\n",
      "\n",
      "<urn:___param___#sup> a brick:Condenser_Water_Supply_Temperature_Sensor .\n",
      "\n",
      "<urn:___param___#bypass_valve-vlv_cmd> a brick:Valve_Command .\n",
      "\n",
      "<urn:___param___#control_valve-vlv_cmd> a brick:Valve_Command .\n",
      "\n",
      "\n",
      "@prefix brick: <https://brickschema.org/schema/Brick#> .\n",
      "@prefix rdfs: <http://www.w3.org/2000/01/rdf-schema#> .\n",
      "\n",
      "<urn:my-building/name_582e4eb7> a brick:Chiller ;\n",
      "    brick:hasPart <urn:my-building/chwp_17cc37b7>,\n",
      "        <urn:my-building/cnd_86c84f98>,\n",
      "        <urn:my-building/cvlv_80382092> ;\n",
      "    brick:hasPoint <urn:my-building/chwrt_749c114a>,\n",
      "        <urn:my-building/chwst_01effdaa> ;\n",
      "    brick:isMeteredBy <urn:my-building/meter_909ed144> .\n",
      "\n",
      "<urn:my-building/chwp_17cc37b7> a brick:Chilled_Water_Pump,\n",
      "        brick:Pump ;\n",
      "    brick:hasPart <urn:my-building/pump-bypass_valve_a9eb1116>,\n",
      "        <urn:my-building/pump-control_valve_2eb87e71> ;\n",
      "    brick:hasPoint <urn:my-building/pump-mode_4f65919d>,\n",
      "        <urn:my-building/pump-run_a2acf427>,\n",
      "        <urn:my-building/pump-vsd_d4826b81> ;\n",
      "    brick:isMeteredBy <urn:my-building/pump-meter_51d5e42e> .\n",
      "\n",
      "<urn:my-building/chwrt_749c114a> a brick:Chilled_Water_Return_Temperature_Sensor .\n",
      "\n",
      "<urn:my-building/chwst_01effdaa> a brick:Chilled_Water_Supply_Temperature_Sensor .\n",
      "\n",
      "<urn:my-building/cnd_86c84f98> a brick:Condenser ;\n",
      "    brick:hasPart <urn:my-building/pump_b811d79f> ;\n",
      "    brick:hasPoint <urn:my-building/flow_3317ae91>,\n",
      "        <urn:my-building/ret_1fd55fab>,\n",
      "        <urn:my-building/sup_776c4571> .\n",
      "\n",
      "<urn:my-building/condenser-breaker_status_58b97cb0> a <breaker_status> .\n",
      "\n",
      "<urn:my-building/condenser-bypass_valve_dce94a9c> a brick:Bypass_Valve ;\n",
      "    brick:hasPoint <urn:my-building/bypass_valve-vlv_cmd_08a1741a> .\n",
      "\n",
      "<urn:my-building/condenser-control_valve_a73833c7> a brick:Valve ;\n",
      "    rdfs:label \"Control Valve\" ;\n",
      "    brick:hasPoint <urn:my-building/control_valve-vlv_cmd_01ea4049> .\n",
      "\n",
      "<urn:my-building/condenser-current_7cec879e> a brick:Current_Sensor .\n",
      "\n",
      "<urn:my-building/condenser-meter_b4d7efe8> a brick:Electrical_Meter ;\n",
      "    brick:hasPoint <urn:my-building/condenser-breaker_status_58b97cb0>,\n",
      "        <urn:my-building/condenser-current_7cec879e>,\n",
      "        <urn:my-building/condenser-power_52479e3a>,\n",
      "        <urn:my-building/condenser-voltage_25e1afb6> .\n",
      "\n",
      "<urn:my-building/condenser-mode_5e88ab1d> a brick:Mode_Command .\n",
      "\n",
      "<urn:my-building/condenser-power_52479e3a> a brick:Power_Sensor .\n",
      "\n",
      "<urn:my-building/condenser-run_9a9a823d> a brick:Run_Status .\n",
      "\n",
      "<urn:my-building/condenser-voltage_25e1afb6> a brick:Voltage_Sensor .\n",
      "\n",
      "<urn:my-building/condenser-vsd_09af5bb7> a brick:Frequency_Command .\n",
      "\n",
      "<urn:my-building/cvlv_80382092> a brick:Valve ;\n",
      "    rdfs:label \"Control Valve\" ;\n",
      "    brick:hasPoint <urn:my-building/control_valve-vlv_cmd_01ea4049> .\n",
      "\n",
      "<urn:my-building/electrical_meter-breaker_status_d4eaddd5> a <breaker_status> .\n",
      "\n",
      "<urn:my-building/electrical_meter-current_5ade9930> a brick:Current_Sensor .\n",
      "\n",
      "<urn:my-building/electrical_meter-power_01c05a60> a brick:Power_Sensor .\n",
      "\n",
      "<urn:my-building/electrical_meter-voltage_626f58c0> a brick:Voltage_Sensor .\n",
      "\n",
      "<urn:my-building/flow_3317ae91> a brick:Condenser_Water_Flow_Sensor .\n",
      "\n",
      "<urn:my-building/meter_909ed144> a brick:Electrical_Meter ;\n",
      "    brick:hasPoint <urn:my-building/electrical_meter-breaker_status_d4eaddd5>,\n",
      "        <urn:my-building/electrical_meter-current_5ade9930>,\n",
      "        <urn:my-building/electrical_meter-power_01c05a60>,\n",
      "        <urn:my-building/electrical_meter-voltage_626f58c0> .\n",
      "\n",
      "<urn:my-building/pump-breaker_status_8d3ce8fd> a <breaker_status> .\n",
      "\n",
      "<urn:my-building/pump-bypass_valve_a9eb1116> a brick:Bypass_Valve ;\n",
      "    brick:hasPoint <urn:my-building/bypass_valve-vlv_cmd_08a1741a> .\n",
      "\n",
      "<urn:my-building/pump-control_valve_2eb87e71> a brick:Valve ;\n",
      "    rdfs:label \"Control Valve\" ;\n",
      "    brick:hasPoint <urn:my-building/control_valve-vlv_cmd_01ea4049> .\n",
      "\n",
      "<urn:my-building/pump-current_f40615d3> a brick:Current_Sensor .\n",
      "\n",
      "<urn:my-building/pump-meter_51d5e42e> a brick:Electrical_Meter ;\n",
      "    brick:hasPoint <urn:my-building/pump-breaker_status_8d3ce8fd>,\n",
      "        <urn:my-building/pump-current_f40615d3>,\n",
      "        <urn:my-building/pump-power_e9eb0f2e>,\n",
      "        <urn:my-building/pump-voltage_8e85e016> .\n",
      "\n",
      "<urn:my-building/pump-mode_4f65919d> a brick:Mode_Command .\n",
      "\n",
      "<urn:my-building/pump-power_e9eb0f2e> a brick:Power_Sensor .\n",
      "\n",
      "<urn:my-building/pump-run_a2acf427> a brick:Run_Status .\n",
      "\n",
      "<urn:my-building/pump-voltage_8e85e016> a brick:Voltage_Sensor .\n",
      "\n",
      "<urn:my-building/pump-vsd_d4826b81> a brick:Frequency_Command .\n",
      "\n",
      "<urn:my-building/pump_b811d79f> a brick:Condenser_Water_Pump,\n",
      "        brick:Pump ;\n",
      "    brick:hasPart <urn:my-building/condenser-bypass_valve_dce94a9c>,\n",
      "        <urn:my-building/condenser-control_valve_a73833c7> ;\n",
      "    brick:hasPoint <urn:my-building/condenser-mode_5e88ab1d>,\n",
      "        <urn:my-building/condenser-run_9a9a823d>,\n",
      "        <urn:my-building/condenser-vsd_09af5bb7> ;\n",
      "    brick:isMeteredBy <urn:my-building/condenser-meter_b4d7efe8> .\n",
      "\n",
      "<urn:my-building/ret_1fd55fab> a brick:Condenser_Water_Return_Temperature_Sensor .\n",
      "\n",
      "<urn:my-building/sup_776c4571> a brick:Condenser_Water_Supply_Temperature_Sensor .\n",
      "\n",
      "<urn:my-building/bypass_valve-vlv_cmd_08a1741a> a brick:Valve_Command .\n",
      "\n",
      "<urn:my-building/control_valve-vlv_cmd_01ea4049> a brick:Valve_Command .\n",
      "\n",
      "\n"
     ]
    }
   ],
   "source": [
    "chiller = lib.get_template_by_name(\"chiller\")\n",
    "inlined = chiller.inline_dependencies()\n",
    "print(inlined.body.serialize())\n",
    "_, g = inlined.fill(BLDG)\n",
    "print(g.serialize())"
   ]
  },
  {
   "cell_type": "code",
   "execution_count": null,
   "id": "f7086b0a-2749-47a2-8747-f1ba342ee410",
   "metadata": {},
   "outputs": [],
   "source": []
  }
 ],
 "metadata": {
  "kernelspec": {
   "display_name": "Python 3 (ipykernel)",
   "language": "python",
   "name": "python3"
  },
  "language_info": {
   "codemirror_mode": {
    "name": "ipython",
    "version": 3
   },
   "file_extension": ".py",
   "mimetype": "text/x-python",
   "name": "python",
   "nbconvert_exporter": "python",
   "pygments_lexer": "ipython3",
   "version": "3.9.9"
  }
 },
 "nbformat": 4,
 "nbformat_minor": 5
}
