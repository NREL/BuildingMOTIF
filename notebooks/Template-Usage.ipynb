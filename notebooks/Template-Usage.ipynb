{
 "cells": [
  {
   "cell_type": "code",
   "execution_count": 1,
   "id": "88c1dde3-4b12-4247-a3d2-991a63e749fb",
   "metadata": {},
   "outputs": [],
   "source": [
    "from rdflib import Namespace\n",
    "from buildingmotif import BuildingMOTIF\n",
    "from buildingmotif.dataclasses import Model, Library\n",
    "from buildingmotif.database.tables import Base as BuildingMotif_tables_base"
   ]
  },
  {
   "cell_type": "markdown",
   "id": "232b02d5-a59b-48ee-94a3-30552c639bba",
   "metadata": {},
   "source": [
    "We need a namespace (`BLDG`) to name the entities that will exist in our model. `NUM_VAVs` will be used to generate a number of VAVs for this example"
   ]
  },
  {
   "cell_type": "code",
   "execution_count": 2,
   "id": "ace5920c-2a02-4415-b17b-d1d20095a847",
   "metadata": {},
   "outputs": [],
   "source": [
    "NUM_VAVs = 3\n",
    "BLDG = Namespace(\"urn:my-building/\")"
   ]
  },
  {
   "cell_type": "markdown",
   "id": "69fad6af-e203-4612-b96d-4cd3f21641b8",
   "metadata": {},
   "source": [
    "Create an in-memory BuildingMOTIF instance and create a `my-building` model that we will populate by evaluating templates"
   ]
  },
  {
   "cell_type": "code",
   "execution_count": 3,
   "id": "dfefe386-b5a5-4933-b43e-554e09a51bd1",
   "metadata": {},
   "outputs": [],
   "source": [
    "bm = BuildingMOTIF(\"sqlite://\")\n",
    "bldg = Model.create(\"my-building\")"
   ]
  },
  {
   "cell_type": "markdown",
   "id": "16b40ce3-3055-42d2-8630-f5be64559344",
   "metadata": {},
   "source": [
    "Load in templates / classes from the Brick ontology (this may take 1-2 minutes):"
   ]
  },
  {
   "cell_type": "code",
   "execution_count": 4,
   "id": "f4480e5b-c59b-434e-b5da-5afb53fe7567",
   "metadata": {},
   "outputs": [
    {
     "data": {
      "text/plain": [
       "Library(_id=1, _name=rdflib.term.URIRef('https://brickschema.org/schema/1.3/Brick'), _bm=<buildingmotif.building_motif.building_motif.BuildingMOTIF object at 0x7f7d52e55e50>)"
      ]
     },
     "execution_count": 4,
     "metadata": {},
     "output_type": "execute_result"
    }
   ],
   "source": [
    "Library.load(ontology_graph=\"../libraries/brick/Brick-subset.ttl\")"
   ]
  },
  {
   "cell_type": "markdown",
   "id": "473b5b7c-68ae-4265-9735-5b8856218c01",
   "metadata": {},
   "source": [
    "We load the G36 template library and pull out the \"vav-cooling-only\" template, corresponding to the pointlist in Section 4.1 of Guideline 36"
   ]
  },
  {
   "cell_type": "code",
   "execution_count": 5,
   "id": "e1c6c3a4-e1b4-4c7e-b858-1b17fb0fd17a",
   "metadata": {},
   "outputs": [],
   "source": [
    "lib = Library.load(directory=\"../libraries/ashrae/guideline36/\")\n",
    "vav_templ = lib.get_template_by_name(\"vav-cooling-only\")"
   ]
  },
  {
   "cell_type": "markdown",
   "id": "3f2fd807-aee8-41a1-96f5-e27c4eee46dd",
   "metadata": {},
   "source": [
    "Now that we have the template, we do the following to create the VAV:"
   ]
  },
  {
   "cell_type": "code",
   "execution_count": 6,
   "id": "90952745-829e-4c00-bcee-1363eebf44e2",
   "metadata": {},
   "outputs": [
    {
     "name": "stdout",
     "output_type": "stream",
     "text": [
      "{'zone', 'occ', 'ztemp', 'co2', 'dat', 'dmp'}\n"
     ]
    }
   ],
   "source": [
    "# create a \"name\" for the VAV\n",
    "vav_name = BLDG[\"vav-0\"]\n",
    "# evaluate the template with that name to make sure the VAV has that name\n",
    "tmp = vav_templ.evaluate({\"name\": vav_name})\n",
    "# check what parameters are left\n",
    "print(tmp.parameters)"
   ]
  },
  {
   "cell_type": "markdown",
   "id": "352d3b96-73ec-47f0-8b32-7c626b90c534",
   "metadata": {},
   "source": [
    "If we don't want to provide names for these yet, we can call `.fill()` to invent names for them. This is helpful for testing and prototyping"
   ]
  },
  {
   "cell_type": "code",
   "execution_count": 7,
   "id": "2d644824-0e69-4834-839c-883f000a62be",
   "metadata": {},
   "outputs": [],
   "source": [
    "bindings, vav_graph = tmp.fill(BLDG) # tell 'fill' to put the invented names in the BLDG namespace"
   ]
  },
  {
   "cell_type": "markdown",
   "id": "a1c9f2c9-9740-403e-802f-3fc91c8f03d2",
   "metadata": {},
   "source": [
    "The `vav_graph` object can now be added to our model:"
   ]
  },
  {
   "cell_type": "code",
   "execution_count": 8,
   "id": "d300a5a4-8605-433a-9775-096323c49c45",
   "metadata": {},
   "outputs": [],
   "source": [
    "bldg.add_graph(vav_graph)"
   ]
  },
  {
   "cell_type": "code",
   "execution_count": 9,
   "id": "da5d0d34-1dfd-4dde-af09-5dfcf2026205",
   "metadata": {},
   "outputs": [],
   "source": [
    "# run for the other n-1 VAVs\n",
    "for vav in range(1,NUM_VAVs):\n",
    "    vav_name = BLDG[f\"vav-{vav}\"]\n",
    "    _, vav_graph = vav_templ.evaluate({\"name\": vav_name}).fill(BLDG)\n",
    "    bldg.add_graph(vav_graph)"
   ]
  },
  {
   "cell_type": "markdown",
   "id": "7d4389d7-8369-4083-b4dc-bba533c1df1b",
   "metadata": {},
   "source": [
    "Print out the resulting model"
   ]
  },
  {
   "cell_type": "code",
   "execution_count": 10,
   "id": "3551fad4-553e-405a-aaeb-78bf5a8da4a6",
   "metadata": {},
   "outputs": [
    {
     "name": "stdout",
     "output_type": "stream",
     "text": [
      "@prefix brick: <https://brickschema.org/schema/Brick#> .\n",
      "\n",
      "<urn:my-building/vav-0> a brick:VAV ;\n",
      "    brick:feeds <urn:my-building/zone_b00b4da0> ;\n",
      "    brick:hasPart <urn:my-building/dmp_2cd642e1> ;\n",
      "    brick:hasPoint <urn:my-building/co2_18dc64b3>,\n",
      "        <urn:my-building/dat_6a9218c8>,\n",
      "        <urn:my-building/occ_c0323891>,\n",
      "        <urn:my-building/ztemp_e779bba4> .\n",
      "\n",
      "<urn:my-building/vav-1> a brick:VAV ;\n",
      "    brick:feeds <urn:my-building/zone_906cf117> ;\n",
      "    brick:hasPart <urn:my-building/dmp_24876470> ;\n",
      "    brick:hasPoint <urn:my-building/co2_35b061da>,\n",
      "        <urn:my-building/dat_6a6ccc44>,\n",
      "        <urn:my-building/occ_142aa689>,\n",
      "        <urn:my-building/ztemp_0e7856e2> .\n",
      "\n",
      "<urn:my-building/vav-2> a brick:VAV ;\n",
      "    brick:feeds <urn:my-building/zone_78698f09> ;\n",
      "    brick:hasPart <urn:my-building/dmp_b2aef288> ;\n",
      "    brick:hasPoint <urn:my-building/co2_9b5e694c>,\n",
      "        <urn:my-building/dat_b09b8fa5>,\n",
      "        <urn:my-building/occ_00bde80d>,\n",
      "        <urn:my-building/ztemp_9d9e630b> .\n",
      "\n",
      "\n"
     ]
    }
   ],
   "source": [
    "print(bldg.graph.serialize(format=\"turtle\"))"
   ]
  },
  {
   "cell_type": "code",
   "execution_count": 11,
   "id": "93823735-3fb3-4b30-b344-fcb45bcca20a",
   "metadata": {},
   "outputs": [],
   "source": [
    "# and save your work!\n",
    "bm.session.commit()"
   ]
  },
  {
   "cell_type": "markdown",
   "id": "b57578fa-67d2-4bcd-81d1-09639788fdf7",
   "metadata": {},
   "source": [
    "Rewinding a little bit, you may have noticed that the generated graph above doesn't actually contain any metadata for the points and parts associated with the VAVs. This is because we didn't deal with dependencies at all. We can use `inline_dependencies()` to resolve other definitions required by the VAV template:"
   ]
  },
  {
   "cell_type": "code",
   "execution_count": 12,
   "id": "cf999dc8-21d0-4231-a981-69e2a74274ae",
   "metadata": {},
   "outputs": [
    {
     "name": "stdout",
     "output_type": "stream",
     "text": [
      "@prefix brick: <https://brickschema.org/schema/Brick#> .\n",
      "\n",
      "<urn:my-building/name_3784a4d6> a brick:VAV ;\n",
      "    brick:feeds <urn:my-building/zone_a34e2294> ;\n",
      "    brick:hasPart <urn:my-building/dmp_c71c52de> ;\n",
      "    brick:hasPoint <urn:my-building/co2_06084adb>,\n",
      "        <urn:my-building/dat_f6efcf10>,\n",
      "        <urn:my-building/occ_cfd91e84>,\n",
      "        <urn:my-building/ztemp_c47f0035> .\n",
      "\n",
      "\n"
     ]
    }
   ],
   "source": [
    "# without resolving dependencies\n",
    "_, g = vav_templ.fill(BLDG)\n",
    "print(g.serialize())"
   ]
  },
  {
   "cell_type": "code",
   "execution_count": 13,
   "id": "8156e55d-e887-41b5-85af-f172401b3c97",
   "metadata": {},
   "outputs": [
    {
     "name": "stdout",
     "output_type": "stream",
     "text": [
      "@prefix brick: <https://brickschema.org/schema/Brick#> .\n",
      "\n",
      "<urn:my-building/name_eccc2a25> a brick:VAV ;\n",
      "    brick:feeds <urn:my-building/zone_f1f0ab32> ;\n",
      "    brick:hasPart <urn:my-building/dmp_8444550d> ;\n",
      "    brick:hasPoint <urn:my-building/co2_d8656ec2>,\n",
      "        <urn:my-building/dat_73507946>,\n",
      "        <urn:my-building/occ_a6c2fc81>,\n",
      "        <urn:my-building/ztemp_bc59ffaf> .\n",
      "\n",
      "<urn:my-building/co2_d8656ec2> a brick:CO2_Level_Sensor .\n",
      "\n",
      "<urn:my-building/dat_73507946> a brick:Discharge_Air_Temperature_Sensor .\n",
      "\n",
      "<urn:my-building/dmp_8444550d> a brick:Damper ;\n",
      "    brick:hasPoint <urn:my-building/dmppos_71ca02ae> .\n",
      "\n",
      "<urn:my-building/dmppos_71ca02ae> a brick:Damper_Position_Command .\n",
      "\n",
      "<urn:my-building/occ_a6c2fc81> a brick:Occupancy_Sensor .\n",
      "\n",
      "<urn:my-building/zone_f1f0ab32> a brick:HVAC_Zone .\n",
      "\n",
      "<urn:my-building/ztemp_bc59ffaf> a brick:Zone_Air_Temperature_Sensor .\n",
      "\n",
      "\n"
     ]
    }
   ],
   "source": [
    "# with resolved dependencies\n",
    "inlined = vav_templ.inline_dependencies()\n",
    "_, g = inlined.fill(BLDG)\n",
    "print(g.serialize())"
   ]
  },
  {
   "cell_type": "code",
   "execution_count": 14,
   "id": "15d297a8-5062-4351-b53d-6911fa451a0b",
   "metadata": {},
   "outputs": [
    {
     "name": "stdout",
     "output_type": "stream",
     "text": [
      "@prefix brick: <https://brickschema.org/schema/Brick#> .\n",
      "\n",
      "<urn:___param___#name> a brick:VAV ;\n",
      "    brick:feeds <urn:___param___#zone> ;\n",
      "    brick:hasPart <urn:___param___#dmp> ;\n",
      "    brick:hasPoint <urn:___param___#co2>,\n",
      "        <urn:___param___#dat>,\n",
      "        <urn:___param___#occ>,\n",
      "        <urn:___param___#ztemp> .\n",
      "\n",
      "<urn:___param___#co2> a brick:CO2_Level_Sensor .\n",
      "\n",
      "<urn:___param___#dat> a brick:Discharge_Air_Temperature_Sensor .\n",
      "\n",
      "<urn:___param___#dmp> a brick:Damper ;\n",
      "    brick:hasPoint <urn:___param___#dmppos> .\n",
      "\n",
      "<urn:___param___#dmppos> a brick:Damper_Position_Command .\n",
      "\n",
      "<urn:___param___#occ> a brick:Occupancy_Sensor .\n",
      "\n",
      "<urn:___param___#zone> a brick:HVAC_Zone .\n",
      "\n",
      "<urn:___param___#ztemp> a brick:Zone_Air_Temperature_Sensor .\n",
      "\n",
      "\n"
     ]
    }
   ],
   "source": [
    "print(inlined.body.serialize(format='turtle'))"
   ]
  },
  {
   "cell_type": "markdown",
   "id": "4b541165-9d43-4071-8415-ef87fdeb5cd2",
   "metadata": {},
   "source": [
    "Run another example w/ chiller plant"
   ]
  },
  {
   "cell_type": "code",
   "execution_count": 15,
   "id": "65e41cce-4f0f-4532-baf8-6eb8b8af0e36",
   "metadata": {},
   "outputs": [],
   "source": [
    "lib = Library.load(directory=\"../libraries/chiller-plant/\")"
   ]
  },
  {
   "cell_type": "code",
   "execution_count": 16,
   "id": "8963d11e-2884-4cfb-beaa-88870d3ffa36",
   "metadata": {},
   "outputs": [
    {
     "name": "stdout",
     "output_type": "stream",
     "text": [
      "@prefix brick: <https://brickschema.org/schema/Brick#> .\n",
      "@prefix rdfs: <http://www.w3.org/2000/01/rdf-schema#> .\n",
      "\n",
      "<urn:___param___#name> a brick:Chiller ;\n",
      "    brick:hasPart <urn:___param___#chwp>,\n",
      "        <urn:___param___#cnd>,\n",
      "        <urn:___param___#cvlv> ;\n",
      "    brick:hasPoint <urn:___param___#chwrt>,\n",
      "        <urn:___param___#chwst> ;\n",
      "    brick:isMeteredBy <urn:___param___#meter> .\n",
      "\n",
      "<urn:___param___#bypass_valve-vlv_cmd-122bcafd> a brick:Valve_Command .\n",
      "\n",
      "<urn:___param___#bypass_valve-vlv_cmd-d9542ec6> a brick:Valve_Command .\n",
      "\n",
      "<urn:___param___#chwp> a brick:Chilled_Water_Pump,\n",
      "        brick:Pump ;\n",
      "    brick:hasPart <urn:___param___#pump-bypass_valve-51ffe1de>,\n",
      "        <urn:___param___#pump-control_valve-51ffe1de> ;\n",
      "    brick:hasPoint <urn:___param___#pump-mode-51ffe1de>,\n",
      "        <urn:___param___#pump-run-51ffe1de>,\n",
      "        <urn:___param___#pump-vsd-51ffe1de> ;\n",
      "    brick:isMeteredBy <urn:___param___#pump-meter-51ffe1de> .\n",
      "\n",
      "<urn:___param___#chwrt> a brick:Chilled_Water_Return_Temperature_Sensor .\n",
      "\n",
      "<urn:___param___#chwst> a brick:Chilled_Water_Supply_Temperature_Sensor .\n",
      "\n",
      "<urn:___param___#cnd> a brick:Condenser ;\n",
      "    brick:hasPart <urn:___param___#pump> ;\n",
      "    brick:hasPoint <urn:___param___#flow>,\n",
      "        <urn:___param___#ret>,\n",
      "        <urn:___param___#sup> .\n",
      "\n",
      "<urn:___param___#condenser-breaker_status-51ffe1de> a <breaker_status> .\n",
      "\n",
      "<urn:___param___#condenser-bypass_valve-51ffe1de> a brick:Bypass_Valve ;\n",
      "    brick:hasPoint <urn:___param___#bypass_valve-vlv_cmd-122bcafd> .\n",
      "\n",
      "<urn:___param___#condenser-control_valve-51ffe1de> a brick:Valve ;\n",
      "    rdfs:label \"Control Valve\" ;\n",
      "    brick:hasPoint <urn:___param___#control_valve-vlv_cmd-122bcafd> .\n",
      "\n",
      "<urn:___param___#condenser-current-51ffe1de> a brick:Current_Sensor .\n",
      "\n",
      "<urn:___param___#condenser-meter-51ffe1de> a brick:Electrical_Meter ;\n",
      "    brick:hasPoint <urn:___param___#condenser-breaker_status-51ffe1de>,\n",
      "        <urn:___param___#condenser-current-51ffe1de>,\n",
      "        <urn:___param___#condenser-power-51ffe1de>,\n",
      "        <urn:___param___#condenser-voltage-51ffe1de> .\n",
      "\n",
      "<urn:___param___#condenser-mode-51ffe1de> a brick:Mode_Command .\n",
      "\n",
      "<urn:___param___#condenser-power-51ffe1de> a brick:Power_Sensor .\n",
      "\n",
      "<urn:___param___#condenser-run-51ffe1de> a brick:Run_Status .\n",
      "\n",
      "<urn:___param___#condenser-voltage-51ffe1de> a brick:Voltage_Sensor .\n",
      "\n",
      "<urn:___param___#condenser-vsd-51ffe1de> a brick:Frequency_Command .\n",
      "\n",
      "<urn:___param___#control_valve-vlv_cmd-122bcafd> a brick:Valve_Command .\n",
      "\n",
      "<urn:___param___#control_valve-vlv_cmd-51ffe1de> a brick:Valve_Command .\n",
      "\n",
      "<urn:___param___#control_valve-vlv_cmd-d9542ec6> a brick:Valve_Command .\n",
      "\n",
      "<urn:___param___#cvlv> a brick:Valve ;\n",
      "    rdfs:label \"Control Valve\" ;\n",
      "    brick:hasPoint <urn:___param___#control_valve-vlv_cmd-51ffe1de> .\n",
      "\n",
      "<urn:___param___#electrical_meter-breaker_status-51ffe1de> a <breaker_status> .\n",
      "\n",
      "<urn:___param___#electrical_meter-current-51ffe1de> a brick:Current_Sensor .\n",
      "\n",
      "<urn:___param___#electrical_meter-power-51ffe1de> a brick:Power_Sensor .\n",
      "\n",
      "<urn:___param___#electrical_meter-voltage-51ffe1de> a brick:Voltage_Sensor .\n",
      "\n",
      "<urn:___param___#flow> a brick:Condenser_Water_Flow_Sensor .\n",
      "\n",
      "<urn:___param___#meter> a brick:Electrical_Meter ;\n",
      "    brick:hasPoint <urn:___param___#electrical_meter-breaker_status-51ffe1de>,\n",
      "        <urn:___param___#electrical_meter-current-51ffe1de>,\n",
      "        <urn:___param___#electrical_meter-power-51ffe1de>,\n",
      "        <urn:___param___#electrical_meter-voltage-51ffe1de> .\n",
      "\n",
      "<urn:___param___#pump> a brick:Condenser_Water_Pump,\n",
      "        brick:Pump ;\n",
      "    brick:hasPart <urn:___param___#condenser-bypass_valve-51ffe1de>,\n",
      "        <urn:___param___#condenser-control_valve-51ffe1de> ;\n",
      "    brick:hasPoint <urn:___param___#condenser-mode-51ffe1de>,\n",
      "        <urn:___param___#condenser-run-51ffe1de>,\n",
      "        <urn:___param___#condenser-vsd-51ffe1de> ;\n",
      "    brick:isMeteredBy <urn:___param___#condenser-meter-51ffe1de> .\n",
      "\n",
      "<urn:___param___#pump-breaker_status-51ffe1de> a <breaker_status> .\n",
      "\n",
      "<urn:___param___#pump-bypass_valve-51ffe1de> a brick:Bypass_Valve ;\n",
      "    brick:hasPoint <urn:___param___#bypass_valve-vlv_cmd-d9542ec6> .\n",
      "\n",
      "<urn:___param___#pump-control_valve-51ffe1de> a brick:Valve ;\n",
      "    rdfs:label \"Control Valve\" ;\n",
      "    brick:hasPoint <urn:___param___#control_valve-vlv_cmd-d9542ec6> .\n",
      "\n",
      "<urn:___param___#pump-current-51ffe1de> a brick:Current_Sensor .\n",
      "\n",
      "<urn:___param___#pump-meter-51ffe1de> a brick:Electrical_Meter ;\n",
      "    brick:hasPoint <urn:___param___#pump-breaker_status-51ffe1de>,\n",
      "        <urn:___param___#pump-current-51ffe1de>,\n",
      "        <urn:___param___#pump-power-51ffe1de>,\n",
      "        <urn:___param___#pump-voltage-51ffe1de> .\n",
      "\n",
      "<urn:___param___#pump-mode-51ffe1de> a brick:Mode_Command .\n",
      "\n",
      "<urn:___param___#pump-power-51ffe1de> a brick:Power_Sensor .\n",
      "\n",
      "<urn:___param___#pump-run-51ffe1de> a brick:Run_Status .\n",
      "\n",
      "<urn:___param___#pump-voltage-51ffe1de> a brick:Voltage_Sensor .\n",
      "\n",
      "<urn:___param___#pump-vsd-51ffe1de> a brick:Frequency_Command .\n",
      "\n",
      "<urn:___param___#ret> a brick:Condenser_Water_Return_Temperature_Sensor .\n",
      "\n",
      "<urn:___param___#sup> a brick:Condenser_Water_Supply_Temperature_Sensor .\n",
      "\n",
      "\n",
      "@prefix brick: <https://brickschema.org/schema/Brick#> .\n",
      "@prefix rdfs: <http://www.w3.org/2000/01/rdf-schema#> .\n",
      "\n",
      "<urn:my-building/name_6b8fd115> a brick:Chiller ;\n",
      "    brick:hasPart <urn:my-building/chwp_372afb3d>,\n",
      "        <urn:my-building/cnd_f62096c6>,\n",
      "        <urn:my-building/cvlv_78ce55a2> ;\n",
      "    brick:hasPoint <urn:my-building/chwrt_2c112b78>,\n",
      "        <urn:my-building/chwst_190d5cb8> ;\n",
      "    brick:isMeteredBy <urn:my-building/meter_22b4e5af> .\n",
      "\n",
      "<urn:my-building/bypass_valve-vlv_cmd-122bcafd_dc2d59dd> a brick:Valve_Command .\n",
      "\n",
      "<urn:my-building/bypass_valve-vlv_cmd-d9542ec6_37a5311d> a brick:Valve_Command .\n",
      "\n",
      "<urn:my-building/chwp_372afb3d> a brick:Chilled_Water_Pump,\n",
      "        brick:Pump ;\n",
      "    brick:hasPart <urn:my-building/pump-bypass_valve-51ffe1de_2aa6eaed>,\n",
      "        <urn:my-building/pump-control_valve-51ffe1de_75a1fcad> ;\n",
      "    brick:hasPoint <urn:my-building/pump-mode-51ffe1de_1ff44d3c>,\n",
      "        <urn:my-building/pump-run-51ffe1de_b1b1e1c8>,\n",
      "        <urn:my-building/pump-vsd-51ffe1de_780bdf8b> ;\n",
      "    brick:isMeteredBy <urn:my-building/pump-meter-51ffe1de_2354d205> .\n",
      "\n",
      "<urn:my-building/chwrt_2c112b78> a brick:Chilled_Water_Return_Temperature_Sensor .\n",
      "\n",
      "<urn:my-building/chwst_190d5cb8> a brick:Chilled_Water_Supply_Temperature_Sensor .\n",
      "\n",
      "<urn:my-building/cnd_f62096c6> a brick:Condenser ;\n",
      "    brick:hasPart <urn:my-building/pump_ae55bbfc> ;\n",
      "    brick:hasPoint <urn:my-building/flow_4ab3f536>,\n",
      "        <urn:my-building/ret_cfac6254>,\n",
      "        <urn:my-building/sup_ba48f32e> .\n",
      "\n",
      "<urn:my-building/condenser-breaker_status-51ffe1de_3d3f3108> a <breaker_status> .\n",
      "\n",
      "<urn:my-building/condenser-bypass_valve-51ffe1de_4b6d063d> a brick:Bypass_Valve ;\n",
      "    brick:hasPoint <urn:my-building/bypass_valve-vlv_cmd-122bcafd_dc2d59dd> .\n",
      "\n",
      "<urn:my-building/condenser-control_valve-51ffe1de_3e198adc> a brick:Valve ;\n",
      "    rdfs:label \"Control Valve\" ;\n",
      "    brick:hasPoint <urn:my-building/control_valve-vlv_cmd-122bcafd_77847555> .\n",
      "\n",
      "<urn:my-building/condenser-current-51ffe1de_ac7a3e49> a brick:Current_Sensor .\n",
      "\n",
      "<urn:my-building/condenser-meter-51ffe1de_b374162b> a brick:Electrical_Meter ;\n",
      "    brick:hasPoint <urn:my-building/condenser-breaker_status-51ffe1de_3d3f3108>,\n",
      "        <urn:my-building/condenser-current-51ffe1de_ac7a3e49>,\n",
      "        <urn:my-building/condenser-power-51ffe1de_c588d989>,\n",
      "        <urn:my-building/condenser-voltage-51ffe1de_795d047e> .\n",
      "\n",
      "<urn:my-building/condenser-mode-51ffe1de_3973e66a> a brick:Mode_Command .\n",
      "\n",
      "<urn:my-building/condenser-power-51ffe1de_c588d989> a brick:Power_Sensor .\n",
      "\n",
      "<urn:my-building/condenser-run-51ffe1de_bda29b20> a brick:Run_Status .\n",
      "\n",
      "<urn:my-building/condenser-voltage-51ffe1de_795d047e> a brick:Voltage_Sensor .\n",
      "\n",
      "<urn:my-building/condenser-vsd-51ffe1de_00b8ac33> a brick:Frequency_Command .\n",
      "\n",
      "<urn:my-building/control_valve-vlv_cmd-122bcafd_77847555> a brick:Valve_Command .\n",
      "\n",
      "<urn:my-building/control_valve-vlv_cmd-51ffe1de_3bd83107> a brick:Valve_Command .\n",
      "\n",
      "<urn:my-building/control_valve-vlv_cmd-d9542ec6_6920d7ff> a brick:Valve_Command .\n",
      "\n",
      "<urn:my-building/cvlv_78ce55a2> a brick:Valve ;\n",
      "    rdfs:label \"Control Valve\" ;\n",
      "    brick:hasPoint <urn:my-building/control_valve-vlv_cmd-51ffe1de_3bd83107> .\n",
      "\n",
      "<urn:my-building/electrical_meter-breaker_status-51ffe1de_4099a606> a <breaker_status> .\n",
      "\n",
      "<urn:my-building/electrical_meter-current-51ffe1de_cb4ca002> a brick:Current_Sensor .\n",
      "\n",
      "<urn:my-building/electrical_meter-power-51ffe1de_22196c1c> a brick:Power_Sensor .\n",
      "\n",
      "<urn:my-building/electrical_meter-voltage-51ffe1de_4b9deffc> a brick:Voltage_Sensor .\n",
      "\n",
      "<urn:my-building/flow_4ab3f536> a brick:Condenser_Water_Flow_Sensor .\n",
      "\n",
      "<urn:my-building/meter_22b4e5af> a brick:Electrical_Meter ;\n",
      "    brick:hasPoint <urn:my-building/electrical_meter-breaker_status-51ffe1de_4099a606>,\n",
      "        <urn:my-building/electrical_meter-current-51ffe1de_cb4ca002>,\n",
      "        <urn:my-building/electrical_meter-power-51ffe1de_22196c1c>,\n",
      "        <urn:my-building/electrical_meter-voltage-51ffe1de_4b9deffc> .\n",
      "\n",
      "<urn:my-building/pump-breaker_status-51ffe1de_504a7104> a <breaker_status> .\n",
      "\n",
      "<urn:my-building/pump-bypass_valve-51ffe1de_2aa6eaed> a brick:Bypass_Valve ;\n",
      "    brick:hasPoint <urn:my-building/bypass_valve-vlv_cmd-d9542ec6_37a5311d> .\n",
      "\n",
      "<urn:my-building/pump-control_valve-51ffe1de_75a1fcad> a brick:Valve ;\n",
      "    rdfs:label \"Control Valve\" ;\n",
      "    brick:hasPoint <urn:my-building/control_valve-vlv_cmd-d9542ec6_6920d7ff> .\n",
      "\n",
      "<urn:my-building/pump-current-51ffe1de_f66a2c20> a brick:Current_Sensor .\n",
      "\n",
      "<urn:my-building/pump-meter-51ffe1de_2354d205> a brick:Electrical_Meter ;\n",
      "    brick:hasPoint <urn:my-building/pump-breaker_status-51ffe1de_504a7104>,\n",
      "        <urn:my-building/pump-current-51ffe1de_f66a2c20>,\n",
      "        <urn:my-building/pump-power-51ffe1de_2b7dd4b7>,\n",
      "        <urn:my-building/pump-voltage-51ffe1de_63ad9684> .\n",
      "\n",
      "<urn:my-building/pump-mode-51ffe1de_1ff44d3c> a brick:Mode_Command .\n",
      "\n",
      "<urn:my-building/pump-power-51ffe1de_2b7dd4b7> a brick:Power_Sensor .\n",
      "\n",
      "<urn:my-building/pump-run-51ffe1de_b1b1e1c8> a brick:Run_Status .\n",
      "\n",
      "<urn:my-building/pump-voltage-51ffe1de_63ad9684> a brick:Voltage_Sensor .\n",
      "\n",
      "<urn:my-building/pump-vsd-51ffe1de_780bdf8b> a brick:Frequency_Command .\n",
      "\n",
      "<urn:my-building/pump_ae55bbfc> a brick:Condenser_Water_Pump,\n",
      "        brick:Pump ;\n",
      "    brick:hasPart <urn:my-building/condenser-bypass_valve-51ffe1de_4b6d063d>,\n",
      "        <urn:my-building/condenser-control_valve-51ffe1de_3e198adc> ;\n",
      "    brick:hasPoint <urn:my-building/condenser-mode-51ffe1de_3973e66a>,\n",
      "        <urn:my-building/condenser-run-51ffe1de_bda29b20>,\n",
      "        <urn:my-building/condenser-vsd-51ffe1de_00b8ac33> ;\n",
      "    brick:isMeteredBy <urn:my-building/condenser-meter-51ffe1de_b374162b> .\n",
      "\n",
      "<urn:my-building/ret_cfac6254> a brick:Condenser_Water_Return_Temperature_Sensor .\n",
      "\n",
      "<urn:my-building/sup_ba48f32e> a brick:Condenser_Water_Supply_Temperature_Sensor .\n",
      "\n",
      "\n"
     ]
    }
   ],
   "source": [
    "chiller = lib.get_template_by_name(\"chiller\")\n",
    "inlined = chiller.inline_dependencies()\n",
    "print(inlined.body.serialize())\n",
    "_, g = inlined.fill(BLDG)\n",
    "print(g.serialize())"
   ]
  },
  {
   "cell_type": "code",
   "execution_count": null,
   "id": "f7086b0a-2749-47a2-8747-f1ba342ee410",
   "metadata": {},
   "outputs": [],
   "source": []
  }
 ],
 "metadata": {
  "kernelspec": {
   "display_name": "Python 3 (ipykernel)",
   "language": "python",
   "name": "python3"
  },
  "language_info": {
   "codemirror_mode": {
    "name": "ipython",
    "version": 3
   },
   "file_extension": ".py",
   "mimetype": "text/x-python",
   "name": "python",
   "nbconvert_exporter": "python",
   "pygments_lexer": "ipython3",
   "version": "3.9.12"
  }
 },
 "nbformat": 4,
 "nbformat_minor": 5
}
