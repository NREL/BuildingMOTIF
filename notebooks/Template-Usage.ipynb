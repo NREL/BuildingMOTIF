{
 "cells": [
  {
   "cell_type": "code",
   "execution_count": 1,
   "id": "88c1dde3-4b12-4247-a3d2-991a63e749fb",
   "metadata": {},
   "outputs": [],
   "source": [
    "from rdflib import Namespace\n",
    "from buildingmotif import BuildingMOTIF\n",
    "from buildingmotif.dataclasses import Model, TemplateLibrary"
   ]
  },
  {
   "cell_type": "markdown",
   "id": "232b02d5-a59b-48ee-94a3-30552c639bba",
   "metadata": {},
   "source": [
    "We need a namespace (`BLDG`) to name the entities that will exist in our model. `NUM_VAVs` will be used to generate a number of VAVs for this example"
   ]
  },
  {
   "cell_type": "code",
   "execution_count": 2,
   "id": "ace5920c-2a02-4415-b17b-d1d20095a847",
   "metadata": {},
   "outputs": [],
   "source": [
    "NUM_VAVs = 3\n",
    "BLDG = Namespace(\"urn:my-building/\")"
   ]
  },
  {
   "cell_type": "markdown",
   "id": "69fad6af-e203-4612-b96d-4cd3f21641b8",
   "metadata": {},
   "source": [
    "Create an in-memory BuildingMOTIF instance and create a `my-building` model that we will populate by evaluating templates"
   ]
  },
  {
   "cell_type": "code",
   "execution_count": 3,
   "id": "dfefe386-b5a5-4933-b43e-554e09a51bd1",
   "metadata": {},
   "outputs": [],
   "source": [
    "bm = BuildingMOTIF(\"sqlite://\")\n",
    "bldg = Model.create(\"my-building\")"
   ]
  },
  {
   "cell_type": "markdown",
   "id": "16b40ce3-3055-42d2-8630-f5be64559344",
   "metadata": {},
   "source": [
    "Load in templates / classes from the Brick ontology (this may take 1-2 minutes):"
   ]
  },
  {
   "cell_type": "code",
   "execution_count": 4,
   "id": "f4480e5b-c59b-434e-b5da-5afb53fe7567",
   "metadata": {},
   "outputs": [
    {
     "data": {
      "text/plain": [
       "TemplateLibrary(_id=1, _name=rdflib.term.URIRef('https://brickschema.org/schema/1.3-subset/Brick'), _bm=<buildingmotif.building_motif.building_motif.BuildingMOTIF object at 0x7fca982cbf70>)"
      ]
     },
     "execution_count": 4,
     "metadata": {},
     "output_type": "execute_result"
    }
   ],
   "source": [
    "TemplateLibrary.load(ontology_graph=\"../libraries/brick/Brick-subset.ttl\")"
   ]
  },
  {
   "cell_type": "markdown",
   "id": "473b5b7c-68ae-4265-9735-5b8856218c01",
   "metadata": {},
   "source": [
    "We load the G36 template library and pull out the \"vav-cooling-only\" template, corresponding to the pointlist in Section 4.1 of Guideline 36"
   ]
  },
  {
   "cell_type": "code",
   "execution_count": 5,
   "id": "e1c6c3a4-e1b4-4c7e-b858-1b17fb0fd17a",
   "metadata": {},
   "outputs": [],
   "source": [
    "lib = TemplateLibrary.load(directory=\"../libraries/ashrae/guideline36/\")\n",
    "vav_templ = lib.get_template_by_name(\"vav-cooling-only\")"
   ]
  },
  {
   "cell_type": "markdown",
   "id": "3f2fd807-aee8-41a1-96f5-e27c4eee46dd",
   "metadata": {},
   "source": [
    "Now that we have the template, we do the following to create the VAV:"
   ]
  },
  {
   "cell_type": "code",
   "execution_count": 6,
   "id": "90952745-829e-4c00-bcee-1363eebf44e2",
   "metadata": {},
   "outputs": [
    {
     "name": "stdout",
     "output_type": "stream",
     "text": [
      "{'dmp', 'ztemp', 'co2', 'dat', 'zone', 'occ'}\n"
     ]
    }
   ],
   "source": [
    "# create a \"name\" for the VAV\n",
    "vav_name = BLDG[\"vav-0\"]\n",
    "# evaluate the template with that name to make sure the VAV has that name\n",
    "tmp = vav_templ.evaluate({\"name\": vav_name})\n",
    "# check what parameters are left\n",
    "print(tmp.parameters)"
   ]
  },
  {
   "cell_type": "markdown",
   "id": "352d3b96-73ec-47f0-8b32-7c626b90c534",
   "metadata": {},
   "source": [
    "If we don't want to provide names for these yet, we can call `.fill()` to invent names for them. This is helpful for testing and prototyping"
   ]
  },
  {
   "cell_type": "code",
   "execution_count": 7,
   "id": "2d644824-0e69-4834-839c-883f000a62be",
   "metadata": {},
   "outputs": [
    {
     "name": "stdout",
     "output_type": "stream",
     "text": [
      "@prefix brick: <https://brickschema.org/schema/Brick#> .\n",
      "\n",
      "<urn:my-building/vav-0> a brick:VAV ;\n",
      "    brick:feeds <urn:my-building/zone_1bc75c9f> ;\n",
      "    brick:hasPart <urn:my-building/dmp_484c27c4> ;\n",
      "    brick:hasPoint <urn:my-building/co2_ec47f443>,\n",
      "        <urn:my-building/dat_9544cf5e>,\n",
      "        <urn:my-building/occ_00aa94ec>,\n",
      "        <urn:my-building/ztemp_5df32fc9> .\n",
      "\n",
      "\n",
      "{'occ', 'co2'}\n"
     ]
    }
   ],
   "source": [
    "bindings, vav_graph = tmp.fill(BLDG) # tell 'fill' to put the invented names in the BLDG namespace"
   ]
  },
  {
   "cell_type": "markdown",
   "id": "a1c9f2c9-9740-403e-802f-3fc91c8f03d2",
   "metadata": {},
   "source": [
    "The `vav_graph` object can now be added to our model:"
   ]
  },
  {
   "cell_type": "code",
   "execution_count": 8,
   "id": "d300a5a4-8605-433a-9775-096323c49c45",
   "metadata": {},
   "outputs": [],
   "source": [
    "bldg.add_graph(vav_graph)"
   ]
  },
  {
   "cell_type": "code",
   "execution_count": 9,
   "id": "da5d0d34-1dfd-4dde-af09-5dfcf2026205",
   "metadata": {},
   "outputs": [
    {
     "name": "stdout",
     "output_type": "stream",
     "text": [
      "@prefix brick: <https://brickschema.org/schema/Brick#> .\n",
      "\n",
      "<urn:my-building/vav-1> a brick:VAV ;\n",
      "    brick:feeds <urn:my-building/zone_fe7a3564> ;\n",
      "    brick:hasPart <urn:my-building/dmp_d9c867cf> ;\n",
      "    brick:hasPoint <urn:my-building/co2_746aed02>,\n",
      "        <urn:my-building/dat_a54314f8>,\n",
      "        <urn:my-building/occ_2e6a4481>,\n",
      "        <urn:my-building/ztemp_e9893ebc> .\n",
      "\n",
      "\n",
      "{'occ', 'co2'}\n",
      "@prefix brick: <https://brickschema.org/schema/Brick#> .\n",
      "\n",
      "<urn:my-building/vav-2> a brick:VAV ;\n",
      "    brick:feeds <urn:my-building/zone_b897d0fb> ;\n",
      "    brick:hasPart <urn:my-building/dmp_42ec6dbf> ;\n",
      "    brick:hasPoint <urn:my-building/co2_e18be227>,\n",
      "        <urn:my-building/dat_047ccbc7>,\n",
      "        <urn:my-building/occ_5d3c3fe6>,\n",
      "        <urn:my-building/ztemp_17cb4e3e> .\n",
      "\n",
      "\n",
      "{'occ', 'co2'}\n"
     ]
    }
   ],
   "source": [
    "# run for the other n-1 VAVs\n",
    "for vav in range(1,NUM_VAVs):\n",
    "    vav_name = BLDG[f\"vav-{vav}\"]\n",
    "    _, vav_graph = vav_templ.evaluate({\"name\": vav_name}).fill(BLDG)\n",
    "    bldg.add_graph(vav_graph)"
   ]
  },
  {
   "cell_type": "markdown",
   "id": "7d4389d7-8369-4083-b4dc-bba533c1df1b",
   "metadata": {},
   "source": [
    "Print out the resulting model"
   ]
  },
  {
   "cell_type": "code",
   "execution_count": 10,
   "id": "3551fad4-553e-405a-aaeb-78bf5a8da4a6",
   "metadata": {},
   "outputs": [
    {
     "name": "stdout",
     "output_type": "stream",
     "text": [
      "@prefix brick: <https://brickschema.org/schema/Brick#> .\n",
      "\n",
      "<urn:my-building/vav-0> a brick:VAV ;\n",
      "    brick:feeds <urn:my-building/zone_1bc75c9f> ;\n",
      "    brick:hasPart <urn:my-building/dmp_484c27c4> ;\n",
      "    brick:hasPoint <urn:my-building/co2_ec47f443>,\n",
      "        <urn:my-building/dat_9544cf5e>,\n",
      "        <urn:my-building/occ_00aa94ec>,\n",
      "        <urn:my-building/ztemp_5df32fc9> .\n",
      "\n",
      "<urn:my-building/vav-1> a brick:VAV ;\n",
      "    brick:feeds <urn:my-building/zone_fe7a3564> ;\n",
      "    brick:hasPart <urn:my-building/dmp_d9c867cf> ;\n",
      "    brick:hasPoint <urn:my-building/co2_746aed02>,\n",
      "        <urn:my-building/dat_a54314f8>,\n",
      "        <urn:my-building/occ_2e6a4481>,\n",
      "        <urn:my-building/ztemp_e9893ebc> .\n",
      "\n",
      "<urn:my-building/vav-2> a brick:VAV ;\n",
      "    brick:feeds <urn:my-building/zone_b897d0fb> ;\n",
      "    brick:hasPart <urn:my-building/dmp_42ec6dbf> ;\n",
      "    brick:hasPoint <urn:my-building/co2_e18be227>,\n",
      "        <urn:my-building/dat_047ccbc7>,\n",
      "        <urn:my-building/occ_5d3c3fe6>,\n",
      "        <urn:my-building/ztemp_17cb4e3e> .\n",
      "\n",
      "\n"
     ]
    }
   ],
   "source": [
    "print(bldg.graph.serialize(format=\"turtle\"))"
   ]
  },
  {
   "cell_type": "code",
   "execution_count": 11,
   "id": "93823735-3fb3-4b30-b344-fcb45bcca20a",
   "metadata": {},
   "outputs": [],
   "source": [
    "# and save your work!\n",
    "bm.session.commit()"
   ]
  },
  {
   "cell_type": "markdown",
   "id": "b57578fa-67d2-4bcd-81d1-09639788fdf7",
   "metadata": {},
   "source": [
    "Rewinding a little bit, you may have noticed that the generated graph above doesn't actually contain any metadata for the points and parts associated with the VAVs. This is because we didn't deal with dependencies at all. We can use `inline_dependencies()` to resolve other definitions required by the VAV template:"
   ]
  },
  {
   "cell_type": "code",
   "execution_count": 12,
   "id": "cf999dc8-21d0-4231-a981-69e2a74274ae",
   "metadata": {},
   "outputs": [
    {
     "name": "stdout",
     "output_type": "stream",
     "text": [
      "@prefix brick: <https://brickschema.org/schema/Brick#> .\n",
      "\n",
      "<urn:my-building/name_4fd91109> a brick:VAV ;\n",
      "    brick:feeds <urn:my-building/zone_b8c7c121> ;\n",
      "    brick:hasPart <urn:my-building/dmp_d9bead49> ;\n",
      "    brick:hasPoint <urn:my-building/co2_875cafd1>,\n",
      "        <urn:my-building/dat_630c7f67>,\n",
      "        <urn:my-building/occ_6f8f8443>,\n",
      "        <urn:my-building/ztemp_e6017a50> .\n",
      "\n",
      "\n",
      "{'occ', 'co2'}\n",
      "@prefix brick: <https://brickschema.org/schema/Brick#> .\n",
      "\n",
      "<urn:my-building/name_4fd91109> a brick:VAV ;\n",
      "    brick:feeds <urn:my-building/zone_b8c7c121> ;\n",
      "    brick:hasPart <urn:my-building/dmp_d9bead49> ;\n",
      "    brick:hasPoint <urn:my-building/co2_875cafd1>,\n",
      "        <urn:my-building/dat_630c7f67>,\n",
      "        <urn:my-building/occ_6f8f8443>,\n",
      "        <urn:my-building/ztemp_e6017a50> .\n",
      "\n",
      "\n"
     ]
    }
   ],
   "source": [
    "# without resolving dependencies\n",
    "_, g = vav_templ.fill(BLDG)\n",
    "print(g.serialize())"
   ]
  },
  {
   "cell_type": "code",
   "execution_count": 13,
   "id": "8156e55d-e887-41b5-85af-f172401b3c97",
   "metadata": {},
   "outputs": [
    {
     "name": "stdout",
     "output_type": "stream",
     "text": [
      "@prefix brick: <https://brickschema.org/schema/Brick#> .\n",
      "\n",
      "<urn:my-building/name_8e0242c1> a brick:VAV ;\n",
      "    brick:feeds <urn:my-building/zone_c2f3778a> ;\n",
      "    brick:hasPart <urn:my-building/dmp_1e15ef83> ;\n",
      "    brick:hasPoint <urn:my-building/co2_8d77633c>,\n",
      "        <urn:my-building/dat_7e538b48>,\n",
      "        <urn:my-building/occ_56861acb>,\n",
      "        <urn:my-building/ztemp_ccc1bb2d> .\n",
      "\n",
      "<urn:my-building/co2_8d77633c> a brick:CO2_Level_Sensor .\n",
      "\n",
      "<urn:my-building/dat_7e538b48> a brick:Discharge_Air_Temperature_Sensor .\n",
      "\n",
      "<urn:my-building/dmp_1e15ef83> a brick:Damper ;\n",
      "    brick:hasPoint <urn:my-building/dmppos-dampera9a07710-inlined_3bc6c284> .\n",
      "\n",
      "<urn:my-building/dmppos-dampera9a07710-inlined_3bc6c284> a brick:Damper_Position_Command .\n",
      "\n",
      "<urn:my-building/occ_56861acb> a brick:Occupancy_Sensor .\n",
      "\n",
      "<urn:my-building/zone_c2f3778a> a brick:HVAC_Zone .\n",
      "\n",
      "<urn:my-building/ztemp_ccc1bb2d> a brick:Zone_Air_Temperature_Sensor .\n",
      "\n",
      "\n",
      "{'occ', 'co2'}\n",
      "@prefix brick: <https://brickschema.org/schema/Brick#> .\n",
      "\n",
      "<urn:my-building/name_8e0242c1> a brick:VAV ;\n",
      "    brick:feeds <urn:my-building/zone_c2f3778a> ;\n",
      "    brick:hasPart <urn:my-building/dmp_1e15ef83> ;\n",
      "    brick:hasPoint <urn:my-building/co2_8d77633c>,\n",
      "        <urn:my-building/dat_7e538b48>,\n",
      "        <urn:my-building/occ_56861acb>,\n",
      "        <urn:my-building/ztemp_ccc1bb2d> .\n",
      "\n",
      "<urn:my-building/co2_8d77633c> a brick:CO2_Level_Sensor .\n",
      "\n",
      "<urn:my-building/dat_7e538b48> a brick:Discharge_Air_Temperature_Sensor .\n",
      "\n",
      "<urn:my-building/dmp_1e15ef83> a brick:Damper ;\n",
      "    brick:hasPoint <urn:my-building/dmppos-dampera9a07710-inlined_3bc6c284> .\n",
      "\n",
      "<urn:my-building/dmppos-dampera9a07710-inlined_3bc6c284> a brick:Damper_Position_Command .\n",
      "\n",
      "<urn:my-building/occ_56861acb> a brick:Occupancy_Sensor .\n",
      "\n",
      "<urn:my-building/zone_c2f3778a> a brick:HVAC_Zone .\n",
      "\n",
      "<urn:my-building/ztemp_ccc1bb2d> a brick:Zone_Air_Temperature_Sensor .\n",
      "\n",
      "\n"
     ]
    }
   ],
   "source": [
    "# with resolved dependencies\n",
    "inlined = vav_templ.inline_dependencies()\n",
    "_, g = inlined.fill(BLDG)\n",
    "print(g.serialize())"
   ]
  },
  {
   "cell_type": "code",
   "execution_count": 14,
   "id": "15d297a8-5062-4351-b53d-6911fa451a0b",
   "metadata": {},
   "outputs": [
    {
     "name": "stdout",
     "output_type": "stream",
     "text": [
      "@prefix brick: <https://brickschema.org/schema/Brick#> .\n",
      "\n",
      "<urn:___param___#name> a brick:VAV ;\n",
      "    brick:feeds <urn:___param___#zone> ;\n",
      "    brick:hasPart <urn:___param___#dmp> ;\n",
      "    brick:hasPoint <urn:___param___#co2>,\n",
      "        <urn:___param___#dat>,\n",
      "        <urn:___param___#occ>,\n",
      "        <urn:___param___#ztemp> .\n",
      "\n",
      "<urn:___param___#co2> a brick:CO2_Level_Sensor .\n",
      "\n",
      "<urn:___param___#dat> a brick:Discharge_Air_Temperature_Sensor .\n",
      "\n",
      "<urn:___param___#dmp> a brick:Damper ;\n",
      "    brick:hasPoint <urn:___param___#dmppos-dampera9a07710-inlined> .\n",
      "\n",
      "<urn:___param___#dmppos-dampera9a07710-inlined> a brick:Damper_Position_Command .\n",
      "\n",
      "<urn:___param___#occ> a brick:Occupancy_Sensor .\n",
      "\n",
      "<urn:___param___#zone> a brick:HVAC_Zone .\n",
      "\n",
      "<urn:___param___#ztemp> a brick:Zone_Air_Temperature_Sensor .\n",
      "\n",
      "\n"
     ]
    }
   ],
   "source": [
    "print(inlined.body.serialize(format='turtle'))"
   ]
  },
  {
   "cell_type": "code",
   "execution_count": 15,
   "id": "65e41cce-4f0f-4532-baf8-6eb8b8af0e36",
   "metadata": {},
   "outputs": [
    {
     "name": "stdout",
     "output_type": "stream",
     "text": [
      "Warning: could not find dependee https://brickschema.org/schema/Brick#Chilled_Water_Pump\n"
     ]
    }
   ],
   "source": [
    "lib = TemplateLibrary.load(directory=\"../libraries/bca-chiller-plant/\")"
   ]
  },
  {
   "cell_type": "code",
   "execution_count": 16,
   "id": "8963d11e-2884-4cfb-beaa-88870d3ffa36",
   "metadata": {},
   "outputs": [
    {
     "name": "stdout",
     "output_type": "stream",
     "text": [
      "@prefix brick: <https://brickschema.org/schema/Brick#> .\n",
      "@prefix rdfs: <http://www.w3.org/2000/01/rdf-schema#> .\n",
      "\n",
      "<urn:my-building/name_5335449a> a brick:Chiller ;\n",
      "    brick:hasPart <urn:my-building/chwp_76027532>,\n",
      "        <urn:my-building/cnd_862dc767>,\n",
      "        <urn:my-building/cvlv_d93c220d> ;\n",
      "    brick:hasPoint <urn:my-building/chwrt_ab777263>,\n",
      "        <urn:my-building/chwst_e403b6e6> ;\n",
      "    brick:isMeteredBy <urn:my-building/meter_b4d5d3a8> .\n",
      "\n",
      "<urn:my-building/breaker_status-electrical_meter4c36a0ad-inlined_be6aa21f> a <breaker_status> .\n",
      "\n",
      "<urn:my-building/breaker_status-electrical_meterba47275f-inlined_49d2f745> a <breaker_status> .\n",
      "\n",
      "<urn:my-building/breaker_status-electrical_metercb831ba8-inlined_6938de81> a <breaker_status> .\n",
      "\n",
      "<urn:my-building/bypass_valve-pumpa8f8275b-inlined_362c5ab9> a brick:Bypass_Valve ;\n",
      "    brick:hasPoint <urn:my-building/vlv_cmd-bypass_valve3ab9f76c-inlined_eee18a54> .\n",
      "\n",
      "<urn:my-building/bypass_valve-pumpcdfbe8a9-inlined_33c9ab27> a brick:Bypass_Valve ;\n",
      "    brick:hasPoint <urn:my-building/vlv_cmd-bypass_valve4ac70dfc-inlined_f36a20b7> .\n",
      "\n",
      "<urn:my-building/chwp_76027532> a brick:Pump ;\n",
      "    brick:hasPart <urn:my-building/bypass_valve-pumpa8f8275b-inlined_362c5ab9>,\n",
      "        <urn:my-building/control_valve-pumpa8f8275b-inlined_99d71b0e> ;\n",
      "    brick:hasPoint <urn:my-building/mode-pumpa8f8275b-inlined_a16af8af>,\n",
      "        <urn:my-building/run-pumpa8f8275b-inlined_9a6d1aba>,\n",
      "        <urn:my-building/vsd-pumpa8f8275b-inlined_0f2e9237> ;\n",
      "    brick:isMeteredBy <urn:my-building/meter-pumpa8f8275b-inlined_745e3d43> .\n",
      "\n",
      "<urn:my-building/chwrt_ab777263> a brick:Chilled_Water_Return_Temperature_Sensor .\n",
      "\n",
      "<urn:my-building/chwst_e403b6e6> a brick:Chilled_Water_Supply_Temperature_Sensor .\n",
      "\n",
      "<urn:my-building/cnd_862dc767> a brick:Condenser ;\n",
      "    brick:hasPart <urn:my-building/pump-condenser4702b35f-inlined_2d24cc01> ;\n",
      "    brick:hasPoint <urn:my-building/flow-condenser4702b35f-inlined_a221d230>,\n",
      "        <urn:my-building/ret-condenser4702b35f-inlined_120e3df2>,\n",
      "        <urn:my-building/sup-condenser4702b35f-inlined_5a329f75> .\n",
      "\n",
      "<urn:my-building/control_valve-pumpa8f8275b-inlined_99d71b0e> a brick:Valve ;\n",
      "    rdfs:label \"Control Valve\" ;\n",
      "    brick:hasPoint <urn:my-building/vlv_cmd-control_valve2f5f03d7-inlined_7a390650> .\n",
      "\n",
      "<urn:my-building/control_valve-pumpcdfbe8a9-inlined_24820724> a brick:Valve ;\n",
      "    rdfs:label \"Control Valve\" ;\n",
      "    brick:hasPoint <urn:my-building/vlv_cmd-control_valve4d56bf88-inlined_09dd06f8> .\n",
      "\n",
      "<urn:my-building/current-electrical_meter4c36a0ad-inlined_74b552d9> a brick:Current_Sensor .\n",
      "\n",
      "<urn:my-building/current-electrical_meterba47275f-inlined_99b7efbc> a brick:Current_Sensor .\n",
      "\n",
      "<urn:my-building/current-electrical_metercb831ba8-inlined_e2e76148> a brick:Current_Sensor .\n",
      "\n",
      "<urn:my-building/cvlv_d93c220d> a brick:Valve ;\n",
      "    rdfs:label \"Control Valve\" ;\n",
      "    brick:hasPoint <urn:my-building/vlv_cmd-control_valve197c396e-inlined_437a97f8> .\n",
      "\n",
      "<urn:my-building/flow-condenser4702b35f-inlined_a221d230> a brick:Condenser_Water_Flow_Sensor .\n",
      "\n",
      "<urn:my-building/meter-pumpa8f8275b-inlined_745e3d43> a brick:Electrical_Meter ;\n",
      "    brick:hasPoint <urn:my-building/breaker_status-electrical_meter4c36a0ad-inlined_be6aa21f>,\n",
      "        <urn:my-building/current-electrical_meter4c36a0ad-inlined_74b552d9>,\n",
      "        <urn:my-building/power-electrical_meter4c36a0ad-inlined_382e2a36>,\n",
      "        <urn:my-building/voltage-electrical_meter4c36a0ad-inlined_6d193e8b> .\n",
      "\n",
      "<urn:my-building/meter-pumpcdfbe8a9-inlined_f8e6838f> a brick:Electrical_Meter ;\n",
      "    brick:hasPoint <urn:my-building/breaker_status-electrical_metercb831ba8-inlined_6938de81>,\n",
      "        <urn:my-building/current-electrical_metercb831ba8-inlined_e2e76148>,\n",
      "        <urn:my-building/power-electrical_metercb831ba8-inlined_0cfaadfb>,\n",
      "        <urn:my-building/voltage-electrical_metercb831ba8-inlined_863e37e1> .\n",
      "\n",
      "<urn:my-building/meter_b4d5d3a8> a brick:Electrical_Meter ;\n",
      "    brick:hasPoint <urn:my-building/breaker_status-electrical_meterba47275f-inlined_49d2f745>,\n",
      "        <urn:my-building/current-electrical_meterba47275f-inlined_99b7efbc>,\n",
      "        <urn:my-building/power-electrical_meterba47275f-inlined_f145ce66>,\n",
      "        <urn:my-building/voltage-electrical_meterba47275f-inlined_7d3ac678> .\n",
      "\n",
      "<urn:my-building/mode-pumpa8f8275b-inlined_a16af8af> a brick:Mode_Command .\n",
      "\n",
      "<urn:my-building/mode-pumpcdfbe8a9-inlined_56adc0fa> a brick:Mode_Command .\n",
      "\n",
      "<urn:my-building/power-electrical_meter4c36a0ad-inlined_382e2a36> a brick:Power_Sensor .\n",
      "\n",
      "<urn:my-building/power-electrical_meterba47275f-inlined_f145ce66> a brick:Power_Sensor .\n",
      "\n",
      "<urn:my-building/power-electrical_metercb831ba8-inlined_0cfaadfb> a brick:Power_Sensor .\n",
      "\n",
      "<urn:my-building/pump-condenser4702b35f-inlined_2d24cc01> a brick:Condenser_Water_Pump,\n",
      "        brick:Pump ;\n",
      "    brick:hasPart <urn:my-building/bypass_valve-pumpcdfbe8a9-inlined_33c9ab27>,\n",
      "        <urn:my-building/control_valve-pumpcdfbe8a9-inlined_24820724> ;\n",
      "    brick:hasPoint <urn:my-building/mode-pumpcdfbe8a9-inlined_56adc0fa>,\n",
      "        <urn:my-building/run-pumpcdfbe8a9-inlined_5a8de5ba>,\n",
      "        <urn:my-building/vsd-pumpcdfbe8a9-inlined_f2de0834> ;\n",
      "    brick:isMeteredBy <urn:my-building/meter-pumpcdfbe8a9-inlined_f8e6838f> .\n",
      "\n",
      "<urn:my-building/ret-condenser4702b35f-inlined_120e3df2> a brick:Condenser_Water_Return_Temperature_Sensor .\n",
      "\n",
      "<urn:my-building/run-pumpa8f8275b-inlined_9a6d1aba> a brick:Run_Status .\n",
      "\n",
      "<urn:my-building/run-pumpcdfbe8a9-inlined_5a8de5ba> a brick:Run_Status .\n",
      "\n",
      "<urn:my-building/sup-condenser4702b35f-inlined_5a329f75> a brick:Condenser_Water_Supply_Temperature_Sensor .\n",
      "\n",
      "<urn:my-building/vlv_cmd-bypass_valve3ab9f76c-inlined_eee18a54> a brick:Valve_Command .\n",
      "\n",
      "<urn:my-building/vlv_cmd-bypass_valve4ac70dfc-inlined_f36a20b7> a brick:Valve_Command .\n",
      "\n",
      "<urn:my-building/vlv_cmd-control_valve197c396e-inlined_437a97f8> a brick:Valve_Command .\n",
      "\n",
      "<urn:my-building/vlv_cmd-control_valve2f5f03d7-inlined_7a390650> a brick:Valve_Command .\n",
      "\n",
      "<urn:my-building/vlv_cmd-control_valve4d56bf88-inlined_09dd06f8> a brick:Valve_Command .\n",
      "\n",
      "<urn:my-building/voltage-electrical_meter4c36a0ad-inlined_6d193e8b> a brick:Voltage_Sensor .\n",
      "\n",
      "<urn:my-building/voltage-electrical_meterba47275f-inlined_7d3ac678> a brick:Voltage_Sensor .\n",
      "\n",
      "<urn:my-building/voltage-electrical_metercb831ba8-inlined_863e37e1> a brick:Voltage_Sensor .\n",
      "\n",
      "<urn:my-building/vsd-pumpa8f8275b-inlined_0f2e9237> a brick:Frequency_Command .\n",
      "\n",
      "<urn:my-building/vsd-pumpcdfbe8a9-inlined_f2de0834> a brick:Frequency_Command .\n",
      "\n",
      "\n",
      "set()\n",
      "@prefix brick: <https://brickschema.org/schema/Brick#> .\n",
      "@prefix rdfs: <http://www.w3.org/2000/01/rdf-schema#> .\n",
      "\n",
      "<urn:my-building/name_5335449a> a brick:Chiller ;\n",
      "    brick:hasPart <urn:my-building/chwp_76027532>,\n",
      "        <urn:my-building/cnd_862dc767>,\n",
      "        <urn:my-building/cvlv_d93c220d> ;\n",
      "    brick:hasPoint <urn:my-building/chwrt_ab777263>,\n",
      "        <urn:my-building/chwst_e403b6e6> ;\n",
      "    brick:isMeteredBy <urn:my-building/meter_b4d5d3a8> .\n",
      "\n",
      "<urn:my-building/breaker_status-electrical_meter4c36a0ad-inlined_be6aa21f> a <breaker_status> .\n",
      "\n",
      "<urn:my-building/breaker_status-electrical_meterba47275f-inlined_49d2f745> a <breaker_status> .\n",
      "\n",
      "<urn:my-building/breaker_status-electrical_metercb831ba8-inlined_6938de81> a <breaker_status> .\n",
      "\n",
      "<urn:my-building/bypass_valve-pumpa8f8275b-inlined_362c5ab9> a brick:Bypass_Valve ;\n",
      "    brick:hasPoint <urn:my-building/vlv_cmd-bypass_valve3ab9f76c-inlined_eee18a54> .\n",
      "\n",
      "<urn:my-building/bypass_valve-pumpcdfbe8a9-inlined_33c9ab27> a brick:Bypass_Valve ;\n",
      "    brick:hasPoint <urn:my-building/vlv_cmd-bypass_valve4ac70dfc-inlined_f36a20b7> .\n",
      "\n",
      "<urn:my-building/chwp_76027532> a brick:Pump ;\n",
      "    brick:hasPart <urn:my-building/bypass_valve-pumpa8f8275b-inlined_362c5ab9>,\n",
      "        <urn:my-building/control_valve-pumpa8f8275b-inlined_99d71b0e> ;\n",
      "    brick:hasPoint <urn:my-building/mode-pumpa8f8275b-inlined_a16af8af>,\n",
      "        <urn:my-building/run-pumpa8f8275b-inlined_9a6d1aba>,\n",
      "        <urn:my-building/vsd-pumpa8f8275b-inlined_0f2e9237> ;\n",
      "    brick:isMeteredBy <urn:my-building/meter-pumpa8f8275b-inlined_745e3d43> .\n",
      "\n",
      "<urn:my-building/chwrt_ab777263> a brick:Chilled_Water_Return_Temperature_Sensor .\n",
      "\n",
      "<urn:my-building/chwst_e403b6e6> a brick:Chilled_Water_Supply_Temperature_Sensor .\n",
      "\n",
      "<urn:my-building/cnd_862dc767> a brick:Condenser ;\n",
      "    brick:hasPart <urn:my-building/pump-condenser4702b35f-inlined_2d24cc01> ;\n",
      "    brick:hasPoint <urn:my-building/flow-condenser4702b35f-inlined_a221d230>,\n",
      "        <urn:my-building/ret-condenser4702b35f-inlined_120e3df2>,\n",
      "        <urn:my-building/sup-condenser4702b35f-inlined_5a329f75> .\n",
      "\n",
      "<urn:my-building/control_valve-pumpa8f8275b-inlined_99d71b0e> a brick:Valve ;\n",
      "    rdfs:label \"Control Valve\" ;\n",
      "    brick:hasPoint <urn:my-building/vlv_cmd-control_valve2f5f03d7-inlined_7a390650> .\n",
      "\n",
      "<urn:my-building/control_valve-pumpcdfbe8a9-inlined_24820724> a brick:Valve ;\n",
      "    rdfs:label \"Control Valve\" ;\n",
      "    brick:hasPoint <urn:my-building/vlv_cmd-control_valve4d56bf88-inlined_09dd06f8> .\n",
      "\n",
      "<urn:my-building/current-electrical_meter4c36a0ad-inlined_74b552d9> a brick:Current_Sensor .\n",
      "\n",
      "<urn:my-building/current-electrical_meterba47275f-inlined_99b7efbc> a brick:Current_Sensor .\n",
      "\n",
      "<urn:my-building/current-electrical_metercb831ba8-inlined_e2e76148> a brick:Current_Sensor .\n",
      "\n",
      "<urn:my-building/cvlv_d93c220d> a brick:Valve ;\n",
      "    rdfs:label \"Control Valve\" ;\n",
      "    brick:hasPoint <urn:my-building/vlv_cmd-control_valve197c396e-inlined_437a97f8> .\n",
      "\n",
      "<urn:my-building/flow-condenser4702b35f-inlined_a221d230> a brick:Condenser_Water_Flow_Sensor .\n",
      "\n",
      "<urn:my-building/meter-pumpa8f8275b-inlined_745e3d43> a brick:Electrical_Meter ;\n",
      "    brick:hasPoint <urn:my-building/breaker_status-electrical_meter4c36a0ad-inlined_be6aa21f>,\n",
      "        <urn:my-building/current-electrical_meter4c36a0ad-inlined_74b552d9>,\n",
      "        <urn:my-building/power-electrical_meter4c36a0ad-inlined_382e2a36>,\n",
      "        <urn:my-building/voltage-electrical_meter4c36a0ad-inlined_6d193e8b> .\n",
      "\n",
      "<urn:my-building/meter-pumpcdfbe8a9-inlined_f8e6838f> a brick:Electrical_Meter ;\n",
      "    brick:hasPoint <urn:my-building/breaker_status-electrical_metercb831ba8-inlined_6938de81>,\n",
      "        <urn:my-building/current-electrical_metercb831ba8-inlined_e2e76148>,\n",
      "        <urn:my-building/power-electrical_metercb831ba8-inlined_0cfaadfb>,\n",
      "        <urn:my-building/voltage-electrical_metercb831ba8-inlined_863e37e1> .\n",
      "\n",
      "<urn:my-building/meter_b4d5d3a8> a brick:Electrical_Meter ;\n",
      "    brick:hasPoint <urn:my-building/breaker_status-electrical_meterba47275f-inlined_49d2f745>,\n",
      "        <urn:my-building/current-electrical_meterba47275f-inlined_99b7efbc>,\n",
      "        <urn:my-building/power-electrical_meterba47275f-inlined_f145ce66>,\n",
      "        <urn:my-building/voltage-electrical_meterba47275f-inlined_7d3ac678> .\n",
      "\n",
      "<urn:my-building/mode-pumpa8f8275b-inlined_a16af8af> a brick:Mode_Command .\n",
      "\n",
      "<urn:my-building/mode-pumpcdfbe8a9-inlined_56adc0fa> a brick:Mode_Command .\n",
      "\n",
      "<urn:my-building/power-electrical_meter4c36a0ad-inlined_382e2a36> a brick:Power_Sensor .\n",
      "\n",
      "<urn:my-building/power-electrical_meterba47275f-inlined_f145ce66> a brick:Power_Sensor .\n",
      "\n",
      "<urn:my-building/power-electrical_metercb831ba8-inlined_0cfaadfb> a brick:Power_Sensor .\n",
      "\n",
      "<urn:my-building/pump-condenser4702b35f-inlined_2d24cc01> a brick:Condenser_Water_Pump,\n",
      "        brick:Pump ;\n",
      "    brick:hasPart <urn:my-building/bypass_valve-pumpcdfbe8a9-inlined_33c9ab27>,\n",
      "        <urn:my-building/control_valve-pumpcdfbe8a9-inlined_24820724> ;\n",
      "    brick:hasPoint <urn:my-building/mode-pumpcdfbe8a9-inlined_56adc0fa>,\n",
      "        <urn:my-building/run-pumpcdfbe8a9-inlined_5a8de5ba>,\n",
      "        <urn:my-building/vsd-pumpcdfbe8a9-inlined_f2de0834> ;\n",
      "    brick:isMeteredBy <urn:my-building/meter-pumpcdfbe8a9-inlined_f8e6838f> .\n",
      "\n",
      "<urn:my-building/ret-condenser4702b35f-inlined_120e3df2> a brick:Condenser_Water_Return_Temperature_Sensor .\n",
      "\n",
      "<urn:my-building/run-pumpa8f8275b-inlined_9a6d1aba> a brick:Run_Status .\n",
      "\n",
      "<urn:my-building/run-pumpcdfbe8a9-inlined_5a8de5ba> a brick:Run_Status .\n",
      "\n",
      "<urn:my-building/sup-condenser4702b35f-inlined_5a329f75> a brick:Condenser_Water_Supply_Temperature_Sensor .\n",
      "\n",
      "<urn:my-building/vlv_cmd-bypass_valve3ab9f76c-inlined_eee18a54> a brick:Valve_Command .\n",
      "\n",
      "<urn:my-building/vlv_cmd-bypass_valve4ac70dfc-inlined_f36a20b7> a brick:Valve_Command .\n",
      "\n",
      "<urn:my-building/vlv_cmd-control_valve197c396e-inlined_437a97f8> a brick:Valve_Command .\n",
      "\n",
      "<urn:my-building/vlv_cmd-control_valve2f5f03d7-inlined_7a390650> a brick:Valve_Command .\n",
      "\n",
      "<urn:my-building/vlv_cmd-control_valve4d56bf88-inlined_09dd06f8> a brick:Valve_Command .\n",
      "\n",
      "<urn:my-building/voltage-electrical_meter4c36a0ad-inlined_6d193e8b> a brick:Voltage_Sensor .\n",
      "\n",
      "<urn:my-building/voltage-electrical_meterba47275f-inlined_7d3ac678> a brick:Voltage_Sensor .\n",
      "\n",
      "<urn:my-building/voltage-electrical_metercb831ba8-inlined_863e37e1> a brick:Voltage_Sensor .\n",
      "\n",
      "<urn:my-building/vsd-pumpa8f8275b-inlined_0f2e9237> a brick:Frequency_Command .\n",
      "\n",
      "<urn:my-building/vsd-pumpcdfbe8a9-inlined_f2de0834> a brick:Frequency_Command .\n",
      "\n",
      "\n"
     ]
    }
   ],
   "source": [
    "chiller = lib.get_template_by_name(\"chiller\")\n",
    "inlined = chiller.inline_dependencies()\n",
    "_, g = inlined.fill(BLDG)\n",
    "print(g.serialize())"
   ]
  },
  {
   "cell_type": "code",
   "execution_count": 17,
   "id": "cfb85c16-76db-4325-aa50-166150480975",
   "metadata": {},
   "outputs": [],
   "source": [
    "bm.session.rollback()"
   ]
  },
  {
   "cell_type": "code",
   "execution_count": null,
   "id": "b4d637c8-b192-41d8-80a1-18e7c22ba55e",
   "metadata": {},
   "outputs": [],
   "source": []
  }
 ],
 "metadata": {
  "kernelspec": {
   "display_name": "Python 3 (ipykernel)",
   "language": "python",
   "name": "python3"
  },
  "language_info": {
   "codemirror_mode": {
    "name": "ipython",
    "version": 3
   },
   "file_extension": ".py",
   "mimetype": "text/x-python",
   "name": "python",
   "nbconvert_exporter": "python",
   "pygments_lexer": "ipython3",
   "version": "3.9.12"
  }
 },
 "nbformat": 4,
 "nbformat_minor": 5
}
