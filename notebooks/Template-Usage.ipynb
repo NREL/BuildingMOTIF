{
 "cells": [
  {
   "cell_type": "code",
   "execution_count": null,
   "id": "88c1dde3-4b12-4247-a3d2-991a63e749fb",
   "metadata": {
    "execution": {
     "iopub.execute_input": "2024-07-03T00:20:06.094591Z",
     "iopub.status.busy": "2024-07-03T00:20:06.094125Z",
     "iopub.status.idle": "2024-07-03T00:20:06.474957Z",
     "shell.execute_reply": "2024-07-03T00:20:06.474476Z"
    }
   },
   "outputs": [],
   "source": [
    "from rdflib import Namespace\n",
    "from buildingmotif import BuildingMOTIF\n",
    "from buildingmotif.dataclasses import Model, Library\n",
    "from buildingmotif.namespaces import BMOTIF"
   ]
  },
  {
   "cell_type": "markdown",
   "id": "232b02d5-a59b-48ee-94a3-30552c639bba",
   "metadata": {},
   "source": [
    "We need a namespace (`BLDG`) to name the entities that will exist in our model. `NUM_VAVs` will be used to generate a number of VAVs for this example"
   ]
  },
  {
   "cell_type": "code",
   "execution_count": null,
   "id": "ace5920c-2a02-4415-b17b-d1d20095a847",
   "metadata": {
    "execution": {
     "iopub.execute_input": "2024-07-03T00:20:06.477222Z",
     "iopub.status.busy": "2024-07-03T00:20:06.477083Z",
     "iopub.status.idle": "2024-07-03T00:20:06.479229Z",
     "shell.execute_reply": "2024-07-03T00:20:06.478901Z"
    }
   },
   "outputs": [],
   "source": [
    "NUM_VAVs = 3\n",
    "BLDG = Namespace(\"urn:my-building/\")"
   ]
  },
  {
   "cell_type": "markdown",
   "id": "69fad6af-e203-4612-b96d-4cd3f21641b8",
   "metadata": {},
   "source": [
    "Create an in-memory BuildingMOTIF instance and create a `my-building` model that we will populate by evaluating templates"
   ]
  },
  {
   "cell_type": "code",
   "execution_count": null,
   "id": "dfefe386-b5a5-4933-b43e-554e09a51bd1",
   "metadata": {
    "execution": {
     "iopub.execute_input": "2024-07-03T00:20:06.481039Z",
     "iopub.status.busy": "2024-07-03T00:20:06.480905Z",
     "iopub.status.idle": "2024-07-03T00:20:06.550898Z",
     "shell.execute_reply": "2024-07-03T00:20:06.550557Z"
    }
   },
   "outputs": [],
   "source": [
    "bm = BuildingMOTIF(\"sqlite://\", \"topquadrant\")\n",
    "bldg = Model.create(\"https://example.com\")"
   ]
  },
  {
   "cell_type": "markdown",
   "id": "16b40ce3-3055-42d2-8630-f5be64559344",
   "metadata": {},
   "source": [
    "Load in templates / classes from the Brick ontology (this may take 1-2 minutes):"
   ]
  },
  {
   "cell_type": "code",
   "execution_count": null,
   "id": "f4480e5b-c59b-434e-b5da-5afb53fe7567",
   "metadata": {
    "execution": {
     "iopub.execute_input": "2024-07-03T00:20:06.552900Z",
     "iopub.status.busy": "2024-07-03T00:20:06.552757Z",
     "iopub.status.idle": "2024-07-03T00:20:31.890718Z",
     "shell.execute_reply": "2024-07-03T00:20:31.890346Z"
    }
   },
   "outputs": [],
   "source": [
    "Library.load(ontology_graph=\"../libraries/brick/Brick.ttl\")"
   ]
  },
  {
   "cell_type": "markdown",
   "id": "473b5b7c-68ae-4265-9735-5b8856218c01",
   "metadata": {},
   "source": [
    "We load the G36 template library and pull out the \"vav-cooling-only\" template, corresponding to the pointlist in Section 4.1 of Guideline 36"
   ]
  },
  {
   "cell_type": "code",
   "execution_count": null,
   "id": "e1c6c3a4-e1b4-4c7e-b858-1b17fb0fd17a",
   "metadata": {
    "execution": {
     "iopub.execute_input": "2024-07-03T00:20:31.892899Z",
     "iopub.status.busy": "2024-07-03T00:20:31.892673Z",
     "iopub.status.idle": "2024-07-03T00:20:35.721082Z",
     "shell.execute_reply": "2024-07-03T00:20:35.720723Z"
    }
   },
   "outputs": [],
   "source": [
    "lib = Library.load(directory=\"../libraries/ashrae/guideline36/\")\n",
    "system_specifications = lib.get_shape_collection().get_shapes_of_definition_type(BMOTIF.System_Specification)\n",
    "print(f\"lib contains {len(system_specifications)} system specifications: {system_specifications}\")\n",
    "vav_templ = lib.get_template_by_name(\"vav-cooling-only\")"
   ]
  },
  {
   "cell_type": "markdown",
   "id": "3f2fd807-aee8-41a1-96f5-e27c4eee46dd",
   "metadata": {},
   "source": [
    "Now that we have the template, we do the following to create the VAV:"
   ]
  },
  {
   "cell_type": "code",
   "execution_count": null,
   "id": "90952745-829e-4c00-bcee-1363eebf44e2",
   "metadata": {
    "execution": {
     "iopub.execute_input": "2024-07-03T00:20:35.723116Z",
     "iopub.status.busy": "2024-07-03T00:20:35.722970Z",
     "iopub.status.idle": "2024-07-03T00:20:35.727029Z",
     "shell.execute_reply": "2024-07-03T00:20:35.726701Z"
    }
   },
   "outputs": [],
   "source": [
    "# create a \"name\" for the VAV\n",
    "vav_name = BLDG[\"vav-0\"]\n",
    "# evaluate the template with that name to make sure the VAV has that name\n",
    "tmp = vav_templ.evaluate({\"name\": vav_name})\n",
    "# check what parameters are left\n",
    "print(tmp.parameters)"
   ]
  },
  {
   "cell_type": "markdown",
   "id": "352d3b96-73ec-47f0-8b32-7c626b90c534",
   "metadata": {},
   "source": [
    "If we don't want to provide names for these yet, we can call `.fill()` to invent names for them. This is helpful for testing and prototyping"
   ]
  },
  {
   "cell_type": "code",
   "execution_count": null,
   "id": "2d644824-0e69-4834-839c-883f000a62be",
   "metadata": {
    "execution": {
     "iopub.execute_input": "2024-07-03T00:20:35.728891Z",
     "iopub.status.busy": "2024-07-03T00:20:35.728763Z",
     "iopub.status.idle": "2024-07-03T00:20:35.731329Z",
     "shell.execute_reply": "2024-07-03T00:20:35.731042Z"
    }
   },
   "outputs": [],
   "source": [
    "bindings, vav_graph = tmp.fill(BLDG) # tell 'fill' to put the invented names in the BLDG namespace"
   ]
  },
  {
   "cell_type": "markdown",
   "id": "a1c9f2c9-9740-403e-802f-3fc91c8f03d2",
   "metadata": {},
   "source": [
    "The `vav_graph` object can now be added to our model:"
   ]
  },
  {
   "cell_type": "code",
   "execution_count": null,
   "id": "d300a5a4-8605-433a-9775-096323c49c45",
   "metadata": {
    "execution": {
     "iopub.execute_input": "2024-07-03T00:20:35.733110Z",
     "iopub.status.busy": "2024-07-03T00:20:35.732974Z",
     "iopub.status.idle": "2024-07-03T00:20:35.735439Z",
     "shell.execute_reply": "2024-07-03T00:20:35.735152Z"
    }
   },
   "outputs": [],
   "source": [
    "bldg.add_graph(vav_graph)"
   ]
  },
  {
   "cell_type": "code",
   "execution_count": null,
   "id": "da5d0d34-1dfd-4dde-af09-5dfcf2026205",
   "metadata": {
    "execution": {
     "iopub.execute_input": "2024-07-03T00:20:35.737117Z",
     "iopub.status.busy": "2024-07-03T00:20:35.736987Z",
     "iopub.status.idle": "2024-07-03T00:20:35.743193Z",
     "shell.execute_reply": "2024-07-03T00:20:35.742914Z"
    }
   },
   "outputs": [],
   "source": [
    "# run for the other n-1 VAVs\n",
    "for vav in range(1,NUM_VAVs):\n",
    "    vav_name = BLDG[f\"vav-{vav}\"]\n",
    "    _, vav_graph = vav_templ.evaluate({\"name\": vav_name}).fill(BLDG)\n",
    "    bldg.add_graph(vav_graph)"
   ]
  },
  {
   "cell_type": "markdown",
   "id": "7d4389d7-8369-4083-b4dc-bba533c1df1b",
   "metadata": {},
   "source": [
    "Print out the resulting model"
   ]
  },
  {
   "cell_type": "code",
   "execution_count": null,
   "id": "3551fad4-553e-405a-aaeb-78bf5a8da4a6",
   "metadata": {
    "execution": {
     "iopub.execute_input": "2024-07-03T00:20:35.744918Z",
     "iopub.status.busy": "2024-07-03T00:20:35.744805Z",
     "iopub.status.idle": "2024-07-03T00:20:35.766878Z",
     "shell.execute_reply": "2024-07-03T00:20:35.766581Z"
    }
   },
   "outputs": [],
   "source": [
    "print(bldg.graph.serialize(format=\"turtle\"))"
   ]
  },
  {
   "cell_type": "code",
   "execution_count": null,
   "id": "93823735-3fb3-4b30-b344-fcb45bcca20a",
   "metadata": {
    "execution": {
     "iopub.execute_input": "2024-07-03T00:20:35.768581Z",
     "iopub.status.busy": "2024-07-03T00:20:35.768480Z",
     "iopub.status.idle": "2024-07-03T00:20:35.772037Z",
     "shell.execute_reply": "2024-07-03T00:20:35.771740Z"
    }
   },
   "outputs": [],
   "source": [
    "# and save your work!\n",
    "bm.session.commit()"
   ]
  },
  {
   "cell_type": "markdown",
   "id": "b57578fa-67d2-4bcd-81d1-09639788fdf7",
   "metadata": {},
   "source": [
    "Rewinding a little bit, you may have noticed that the generated graph above doesn't actually contain any metadata for the points and parts associated with the VAVs. This is because we didn't deal with dependencies at all. We can use `inline_dependencies()` to resolve other definitions required by the VAV template:"
   ]
  },
  {
   "cell_type": "code",
   "execution_count": null,
   "id": "cf999dc8-21d0-4231-a981-69e2a74274ae",
   "metadata": {
    "execution": {
     "iopub.execute_input": "2024-07-03T00:20:35.773715Z",
     "iopub.status.busy": "2024-07-03T00:20:35.773598Z",
     "iopub.status.idle": "2024-07-03T00:20:35.778453Z",
     "shell.execute_reply": "2024-07-03T00:20:35.778150Z"
    }
   },
   "outputs": [],
   "source": [
    "# without resolving dependencies\n",
    "_, g = vav_templ.fill(BLDG)\n",
    "print(g.serialize())"
   ]
  },
  {
   "cell_type": "code",
   "execution_count": null,
   "id": "8156e55d-e887-41b5-85af-f172401b3c97",
   "metadata": {
    "execution": {
     "iopub.execute_input": "2024-07-03T00:20:35.780058Z",
     "iopub.status.busy": "2024-07-03T00:20:35.779936Z",
     "iopub.status.idle": "2024-07-03T00:20:35.793654Z",
     "shell.execute_reply": "2024-07-03T00:20:35.793353Z"
    }
   },
   "outputs": [],
   "source": [
    "# with resolved dependencies\n",
    "inlined = vav_templ.inline_dependencies()\n",
    "_, g = inlined.fill(BLDG)\n",
    "print(g.serialize())"
   ]
  },
  {
   "cell_type": "code",
   "execution_count": null,
   "id": "15d297a8-5062-4351-b53d-6911fa451a0b",
   "metadata": {
    "execution": {
     "iopub.execute_input": "2024-07-03T00:20:35.795332Z",
     "iopub.status.busy": "2024-07-03T00:20:35.795209Z",
     "iopub.status.idle": "2024-07-03T00:20:35.798044Z",
     "shell.execute_reply": "2024-07-03T00:20:35.797784Z"
    }
   },
   "outputs": [],
   "source": [
    "print(inlined.body.serialize(format='turtle'))"
   ]
  },
  {
   "cell_type": "markdown",
   "id": "4b541165-9d43-4071-8415-ef87fdeb5cd2",
   "metadata": {},
   "source": [
    "Run another example w/ chiller plant"
   ]
  },
  {
   "cell_type": "code",
   "execution_count": null,
   "id": "65e41cce-4f0f-4532-baf8-6eb8b8af0e36",
   "metadata": {
    "execution": {
     "iopub.execute_input": "2024-07-03T00:20:35.799737Z",
     "iopub.status.busy": "2024-07-03T00:20:35.799615Z",
     "iopub.status.idle": "2024-07-03T00:20:36.172030Z",
     "shell.execute_reply": "2024-07-03T00:20:36.171686Z"
    }
   },
   "outputs": [],
   "source": [
    "lib = Library.load(directory=\"../libraries/chiller-plant/\")"
   ]
  },
  {
   "cell_type": "code",
   "execution_count": null,
   "id": "8963d11e-2884-4cfb-beaa-88870d3ffa36",
   "metadata": {
    "execution": {
     "iopub.execute_input": "2024-07-03T00:20:36.174108Z",
     "iopub.status.busy": "2024-07-03T00:20:36.173975Z",
     "iopub.status.idle": "2024-07-03T00:20:36.222148Z",
     "shell.execute_reply": "2024-07-03T00:20:36.221805Z"
    }
   },
   "outputs": [],
   "source": [
    "chiller = lib.get_template_by_name(\"chiller\")\n",
    "inlined = chiller.inline_dependencies()\n",
    "print(inlined.body.serialize())\n",
    "_, g = inlined.fill(BLDG)\n",
    "print(g.serialize())"
   ]
  },
  {
   "cell_type": "code",
   "execution_count": null,
   "id": "f7086b0a-2749-47a2-8747-f1ba342ee410",
   "metadata": {},
   "outputs": [],
   "source": []
  }
 ],
 "metadata": {
  "kernelspec": {
   "display_name": ".venv",
   "language": "python",
   "name": "python3"
  },
  "language_info": {
   "codemirror_mode": {
    "name": "ipython",
    "version": 3
   },
   "file_extension": ".py",
   "mimetype": "text/x-python",
   "name": "python",
   "nbconvert_exporter": "python",
   "pygments_lexer": "ipython3",
   "version": "3.9.6"
  }
 },
 "nbformat": 4,
 "nbformat_minor": 5
}
