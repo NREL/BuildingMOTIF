{
 "cells": [
  {
   "cell_type": "code",
   "execution_count": 1,
   "id": "88c1dde3-4b12-4247-a3d2-991a63e749fb",
   "metadata": {
    "execution": {
     "iopub.execute_input": "2024-07-03T00:20:06.094591Z",
     "iopub.status.busy": "2024-07-03T00:20:06.094125Z",
     "iopub.status.idle": "2024-07-03T00:20:06.474957Z",
     "shell.execute_reply": "2024-07-03T00:20:06.474476Z"
    }
   },
   "outputs": [],
   "source": [
    "from rdflib import Namespace\n",
    "from buildingmotif import BuildingMOTIF\n",
    "from buildingmotif.dataclasses import Model, Library\n",
    "from buildingmotif.namespaces import BMOTIF"
   ]
  },
  {
   "cell_type": "markdown",
   "id": "232b02d5-a59b-48ee-94a3-30552c639bba",
   "metadata": {},
   "source": [
    "We need a namespace (`BLDG`) to name the entities that will exist in our model. `NUM_VAVs` will be used to generate a number of VAVs for this example"
   ]
  },
  {
   "cell_type": "code",
   "execution_count": 2,
   "id": "ace5920c-2a02-4415-b17b-d1d20095a847",
   "metadata": {
    "execution": {
     "iopub.execute_input": "2024-07-03T00:20:06.477222Z",
     "iopub.status.busy": "2024-07-03T00:20:06.477083Z",
     "iopub.status.idle": "2024-07-03T00:20:06.479229Z",
     "shell.execute_reply": "2024-07-03T00:20:06.478901Z"
    }
   },
   "outputs": [],
   "source": [
    "NUM_VAVs = 3\n",
    "BLDG = Namespace(\"urn:my-building/\")"
   ]
  },
  {
   "cell_type": "markdown",
   "id": "69fad6af-e203-4612-b96d-4cd3f21641b8",
   "metadata": {},
   "source": [
    "Create an in-memory BuildingMOTIF instance and create a `my-building` model that we will populate by evaluating templates"
   ]
  },
  {
   "cell_type": "code",
   "execution_count": null,
   "id": "dfefe386-b5a5-4933-b43e-554e09a51bd1",
   "metadata": {
    "execution": {
     "iopub.execute_input": "2024-07-03T00:20:06.481039Z",
     "iopub.status.busy": "2024-07-03T00:20:06.480905Z",
     "iopub.status.idle": "2024-07-03T00:20:06.550898Z",
     "shell.execute_reply": "2024-07-03T00:20:06.550557Z"
    }
   },
   "outputs": [],
   "source": [
    "bm = BuildingMOTIF(\"sqlite://\", \"topquadrant\")\n",
    "bldg = Model.create(\"https://example.com\")"
   ]
  },
  {
   "cell_type": "markdown",
   "id": "16b40ce3-3055-42d2-8630-f5be64559344",
   "metadata": {},
   "source": [
    "Load in templates / classes from the Brick ontology (this may take 1-2 minutes):"
   ]
  },
  {
   "cell_type": "code",
   "execution_count": 4,
   "id": "f4480e5b-c59b-434e-b5da-5afb53fe7567",
   "metadata": {
    "execution": {
     "iopub.execute_input": "2024-07-03T00:20:06.552900Z",
     "iopub.status.busy": "2024-07-03T00:20:06.552757Z",
     "iopub.status.idle": "2024-07-03T00:20:31.890718Z",
     "shell.execute_reply": "2024-07-03T00:20:31.890346Z"
    }
   },
   "outputs": [
    {
     "name": "stderr",
     "output_type": "stream",
     "text": [
      "/Users/gabe/Library/Caches/pypoetry/virtualenvs/buildingmotif-ozGZrh9J-py3.11/lib/python3.11/site-packages/pyshacl/extras/__init__.py:46: Warning: Extra \"js\" is not satisfied because requirement pyduktape2 is not installed.\n",
      "  warn(Warning(f\"Extra \\\"{extra_name}\\\" is not satisfied because requirement {req} is not installed.\"))\n"
     ]
    },
    {
     "name": "stderr",
     "output_type": "stream",
     "text": [
      "2024-07-02 18:20:28,005 | root |  WARNING: An ontology could not resolve a dependency on http://qudt.org/2.1/vocab/unit (No row was found when one was required). Check this is loaded into BuildingMOTIF\n"
     ]
    },
    {
     "name": "stderr",
     "output_type": "stream",
     "text": [
      "2024-07-02 18:20:28,006 | root |  WARNING: An ontology could not resolve a dependency on http://qudt.org/2.1/schema/shacl/qudt (No row was found when one was required). Check this is loaded into BuildingMOTIF\n"
     ]
    },
    {
     "name": "stderr",
     "output_type": "stream",
     "text": [
      "2024-07-02 18:20:28,007 | root |  WARNING: An ontology could not resolve a dependency on https://brickschema.org/schema/Brick/ref (No row was found when one was required). Check this is loaded into BuildingMOTIF\n"
     ]
    },
    {
     "name": "stderr",
     "output_type": "stream",
     "text": [
      "2024-07-02 18:20:28,008 | root |  WARNING: An ontology could not resolve a dependency on http://qudt.org/2.1/schema/facade/qudt (No row was found when one was required). Check this is loaded into BuildingMOTIF\n"
     ]
    },
    {
     "name": "stderr",
     "output_type": "stream",
     "text": [
      "2024-07-02 18:20:28,008 | root |  WARNING: An ontology could not resolve a dependency on http://data.ashrae.org/bacnet/2020 (No row was found when one was required). Check this is loaded into BuildingMOTIF\n"
     ]
    },
    {
     "name": "stderr",
     "output_type": "stream",
     "text": [
      "2024-07-02 18:20:28,009 | root |  WARNING: An ontology could not resolve a dependency on http://qudt.org/2.1/schema/shacl/overlay/qudt (No row was found when one was required). Check this is loaded into BuildingMOTIF\n"
     ]
    },
    {
     "name": "stderr",
     "output_type": "stream",
     "text": [
      "2024-07-02 18:20:28,010 | root |  WARNING: An ontology could not resolve a dependency on http://qudt.org/2.1/vocab/quantitykind (No row was found when one was required). Check this is loaded into BuildingMOTIF\n"
     ]
    },
    {
     "name": "stderr",
     "output_type": "stream",
     "text": [
      "2024-07-02 18:20:28,010 | root |  WARNING: An ontology could not resolve a dependency on http://qudt.org/2.1/vocab/prefix (No row was found when one was required). Check this is loaded into BuildingMOTIF\n"
     ]
    },
    {
     "name": "stderr",
     "output_type": "stream",
     "text": [
      "2024-07-02 18:20:28,011 | root |  WARNING: An ontology could not resolve a dependency on http://qudt.org/2.1/vocab/sou (No row was found when one was required). Check this is loaded into BuildingMOTIF\n"
     ]
    },
    {
     "name": "stderr",
     "output_type": "stream",
     "text": [
      "2024-07-02 18:20:28,011 | root |  WARNING: An ontology could not resolve a dependency on https://w3id.org/rec/recimports (No row was found when one was required). Check this is loaded into BuildingMOTIF\n"
     ]
    },
    {
     "name": "stderr",
     "output_type": "stream",
     "text": [
      "2024-07-02 18:20:28,012 | root |  WARNING: An ontology could not resolve a dependency on http://qudt.org/2.1/vocab/dimensionvector (No row was found when one was required). Check this is loaded into BuildingMOTIF\n"
     ]
    },
    {
     "name": "stderr",
     "output_type": "stream",
     "text": [
      "2024-07-02 18:20:28,013 | root |  WARNING: An ontology could not resolve a dependency on http://qudt.org/2.1/collection/usertest (No row was found when one was required). Check this is loaded into BuildingMOTIF\n"
     ]
    },
    {
     "name": "stderr",
     "output_type": "stream",
     "text": [
      "2024-07-02 18:20:30,096 | root |  WARNING: Warning: could not find dependee n09da1ca50a6d48d8b5e6546ca28c5ed3b7647 in libraries []\n"
     ]
    },
    {
     "name": "stderr",
     "output_type": "stream",
     "text": [
      "2024-07-02 18:20:30,099 | root |  WARNING: Warning: could not find dependee n09da1ca50a6d48d8b5e6546ca28c5ed3b7649 in libraries []\n"
     ]
    },
    {
     "name": "stderr",
     "output_type": "stream",
     "text": [
      "2024-07-02 18:20:30,102 | root |  WARNING: Warning: could not find dependee n09da1ca50a6d48d8b5e6546ca28c5ed3b7651 in libraries []\n"
     ]
    },
    {
     "name": "stderr",
     "output_type": "stream",
     "text": [
      "2024-07-02 18:20:30,105 | root |  WARNING: Warning: could not find dependee n09da1ca50a6d48d8b5e6546ca28c5ed3b7645 in libraries []\n"
     ]
    },
    {
     "name": "stderr",
     "output_type": "stream",
     "text": [
      "2024-07-02 18:20:30,108 | root |  WARNING: Warning: could not find dependee n09da1ca50a6d48d8b5e6546ca28c5ed3b7653 in libraries []\n"
     ]
    },
    {
     "name": "stderr",
     "output_type": "stream",
     "text": [
      "2024-07-02 18:20:30,111 | root |  WARNING: Warning: could not find dependee n09da1ca50a6d48d8b5e6546ca28c5ed3b7628 in libraries []\n"
     ]
    },
    {
     "name": "stderr",
     "output_type": "stream",
     "text": [
      "2024-07-02 18:20:30,114 | root |  WARNING: Warning: could not find dependee n09da1ca50a6d48d8b5e6546ca28c5ed3b7632 in libraries []\n"
     ]
    },
    {
     "name": "stderr",
     "output_type": "stream",
     "text": [
      "2024-07-02 18:20:30,116 | root |  WARNING: Warning: could not find dependee n09da1ca50a6d48d8b5e6546ca28c5ed3b7638 in libraries []\n"
     ]
    },
    {
     "name": "stderr",
     "output_type": "stream",
     "text": [
      "2024-07-02 18:20:30,119 | root |  WARNING: Warning: could not find dependee n09da1ca50a6d48d8b5e6546ca28c5ed3b7634 in libraries []\n"
     ]
    },
    {
     "name": "stderr",
     "output_type": "stream",
     "text": [
      "2024-07-02 18:20:30,122 | root |  WARNING: Warning: could not find dependee n09da1ca50a6d48d8b5e6546ca28c5ed3b7636 in libraries []\n"
     ]
    },
    {
     "name": "stderr",
     "output_type": "stream",
     "text": [
      "2024-07-02 18:20:30,125 | root |  WARNING: Warning: could not find dependee n09da1ca50a6d48d8b5e6546ca28c5ed3b7630 in libraries []\n"
     ]
    },
    {
     "name": "stderr",
     "output_type": "stream",
     "text": [
      "2024-07-02 18:20:30,130 | root |  WARNING: Warning: could not find dependee n09da1ca50a6d48d8b5e6546ca28c5ed3b7723 in libraries []\n"
     ]
    },
    {
     "name": "stderr",
     "output_type": "stream",
     "text": [
      "2024-07-02 18:20:30,133 | root |  WARNING: Warning: could not find dependee n09da1ca50a6d48d8b5e6546ca28c5ed3b7721 in libraries []\n"
     ]
    },
    {
     "name": "stderr",
     "output_type": "stream",
     "text": [
      "2024-07-02 18:20:30,137 | root |  WARNING: Warning: could not find dependee n09da1ca50a6d48d8b5e6546ca28c5ed3b7725 in libraries []\n"
     ]
    },
    {
     "name": "stderr",
     "output_type": "stream",
     "text": [
      "2024-07-02 18:20:30,140 | root |  WARNING: Warning: could not find dependee n09da1ca50a6d48d8b5e6546ca28c5ed3b7729 in libraries []\n"
     ]
    },
    {
     "name": "stderr",
     "output_type": "stream",
     "text": [
      "2024-07-02 18:20:30,144 | root |  WARNING: Warning: could not find dependee n09da1ca50a6d48d8b5e6546ca28c5ed3b7727 in libraries []\n"
     ]
    },
    {
     "name": "stderr",
     "output_type": "stream",
     "text": [
      "2024-07-02 18:20:30,147 | root |  WARNING: Warning: could not find dependee n09da1ca50a6d48d8b5e6546ca28c5ed3b7579 in libraries []\n"
     ]
    },
    {
     "name": "stderr",
     "output_type": "stream",
     "text": [
      "2024-07-02 18:20:30,150 | root |  WARNING: Warning: could not find dependee n09da1ca50a6d48d8b5e6546ca28c5ed3b7587 in libraries []\n"
     ]
    },
    {
     "name": "stderr",
     "output_type": "stream",
     "text": [
      "2024-07-02 18:20:30,153 | root |  WARNING: Warning: could not find dependee n09da1ca50a6d48d8b5e6546ca28c5ed3b7585 in libraries []\n"
     ]
    },
    {
     "name": "stderr",
     "output_type": "stream",
     "text": [
      "2024-07-02 18:20:30,156 | root |  WARNING: Warning: could not find dependee n09da1ca50a6d48d8b5e6546ca28c5ed3b7583 in libraries []\n"
     ]
    },
    {
     "name": "stderr",
     "output_type": "stream",
     "text": [
      "2024-07-02 18:20:30,160 | root |  WARNING: Warning: could not find dependee n09da1ca50a6d48d8b5e6546ca28c5ed3b7581 in libraries []\n"
     ]
    },
    {
     "name": "stderr",
     "output_type": "stream",
     "text": [
      "2024-07-02 18:20:30,163 | root |  WARNING: Warning: could not find dependee n09da1ca50a6d48d8b5e6546ca28c5ed3b7589 in libraries []\n"
     ]
    },
    {
     "data": {
      "text/plain": [
       "Library(_id=1, _name=rdflib.term.URIRef('https://brickschema.org/schema/1.4/Brick'), _bm=<buildingmotif.building_motif.building_motif.BuildingMOTIF object at 0x1058a9c50>)"
      ]
     },
     "execution_count": 4,
     "metadata": {},
     "output_type": "execute_result"
    }
   ],
   "source": [
    "Library.load(ontology_graph=\"../libraries/brick/Brick.ttl\")"
   ]
  },
  {
   "cell_type": "markdown",
   "id": "473b5b7c-68ae-4265-9735-5b8856218c01",
   "metadata": {},
   "source": [
    "We load the G36 template library and pull out the \"vav-cooling-only\" template, corresponding to the pointlist in Section 4.1 of Guideline 36"
   ]
  },
  {
   "cell_type": "code",
   "execution_count": 5,
   "id": "e1c6c3a4-e1b4-4c7e-b858-1b17fb0fd17a",
   "metadata": {
    "execution": {
     "iopub.execute_input": "2024-07-03T00:20:31.892899Z",
     "iopub.status.busy": "2024-07-03T00:20:31.892673Z",
     "iopub.status.idle": "2024-07-03T00:20:35.721082Z",
     "shell.execute_reply": "2024-07-03T00:20:35.720723Z"
    }
   },
   "outputs": [
    {
     "name": "stdout",
     "output_type": "stream",
     "text": [
      "lib contains 15 system specifications: [rdflib.term.URIRef('urn:ashrae/g36/4.8/sz-vav-ahu/sz-vav-ahu'), rdflib.term.URIRef('urn:ashrae/g36/4.6/mz-vav-ahu/AHU'), rdflib.term.URIRef('urn:ashrae/g36/4.6/mz-vav-ahu/supply-fan'), rdflib.term.URIRef('urn:ashrae/g36/4.6/mz-vav-ahu/return-damper'), rdflib.term.URIRef('urn:ashrae/g36/4.6/mz-vav-ahu/heating-coil'), rdflib.term.URIRef('urn:ashrae/g36/4.6/mz-vav-ahu/cooling-coil'), rdflib.term.URIRef('urn:ashrae/g36/4.4/dual-duct-terminal-unit-with-inlet-sensors/terminal-unit'), rdflib.term.URIRef('urn:ashrae/g36/4.1/vav-cooling-only/vav-cooling-only'), rdflib.term.URIRef('urn:ashrae/g36/4.2/vav-with-reheat/vav-with-reheat'), rdflib.term.URIRef('urn:ashrae/g36/4.5/dual-duct-terminal-unit-with-discharge/terminal-unit'), rdflib.term.URIRef('urn:ashrae/g36/4.3/fan-powered/terminal-unit'), rdflib.term.URIRef('urn:ashrae/g36/4.3/fan-powered/fan'), rdflib.term.URIRef('urn:ashrae/g36/4.3/fan-powered/damper'), rdflib.term.URIRef('urn:ashrae/g36/components/cooling_damper'), rdflib.term.URIRef('urn:ashrae/g36/components/heating_damper')]\n"
     ]
    }
   ],
   "source": [
    "lib = Library.load(directory=\"../libraries/ashrae/guideline36/\")\n",
    "system_specifications = lib.get_shape_collection().get_shapes_of_definition_type(BMOTIF.System_Specification)\n",
    "print(f\"lib contains {len(system_specifications)} system specifications: {system_specifications}\")\n",
    "vav_templ = lib.get_template_by_name(\"vav-cooling-only\")"
   ]
  },
  {
   "cell_type": "markdown",
   "id": "3f2fd807-aee8-41a1-96f5-e27c4eee46dd",
   "metadata": {},
   "source": [
    "Now that we have the template, we do the following to create the VAV:"
   ]
  },
  {
   "cell_type": "code",
   "execution_count": 6,
   "id": "90952745-829e-4c00-bcee-1363eebf44e2",
   "metadata": {
    "execution": {
     "iopub.execute_input": "2024-07-03T00:20:35.723116Z",
     "iopub.status.busy": "2024-07-03T00:20:35.722970Z",
     "iopub.status.idle": "2024-07-03T00:20:35.727029Z",
     "shell.execute_reply": "2024-07-03T00:20:35.726701Z"
    }
   },
   "outputs": [
    {
     "name": "stdout",
     "output_type": "stream",
     "text": [
      "{'co2', 'dat', 'occ', 'ztemp', 'dmp', 'zone'}\n"
     ]
    },
    {
     "name": "stderr",
     "output_type": "stream",
     "text": [
      "/Users/gabe/src/NREL/BuildingMOTIF/buildingmotif/dataclasses/template.py:412: UserWarning: Parameters \"co2, dat, dmp, zone, occ, ztemp\" were not provided during evaluation\n",
      "  warnings.warn(\n"
     ]
    }
   ],
   "source": [
    "# create a \"name\" for the VAV\n",
    "vav_name = BLDG[\"vav-0\"]\n",
    "# evaluate the template with that name to make sure the VAV has that name\n",
    "tmp = vav_templ.evaluate({\"name\": vav_name})\n",
    "# check what parameters are left\n",
    "print(tmp.parameters)"
   ]
  },
  {
   "cell_type": "markdown",
   "id": "352d3b96-73ec-47f0-8b32-7c626b90c534",
   "metadata": {},
   "source": [
    "If we don't want to provide names for these yet, we can call `.fill()` to invent names for them. This is helpful for testing and prototyping"
   ]
  },
  {
   "cell_type": "code",
   "execution_count": 7,
   "id": "2d644824-0e69-4834-839c-883f000a62be",
   "metadata": {
    "execution": {
     "iopub.execute_input": "2024-07-03T00:20:35.728891Z",
     "iopub.status.busy": "2024-07-03T00:20:35.728763Z",
     "iopub.status.idle": "2024-07-03T00:20:35.731329Z",
     "shell.execute_reply": "2024-07-03T00:20:35.731042Z"
    }
   },
   "outputs": [],
   "source": [
    "bindings, vav_graph = tmp.fill(BLDG) # tell 'fill' to put the invented names in the BLDG namespace"
   ]
  },
  {
   "cell_type": "markdown",
   "id": "a1c9f2c9-9740-403e-802f-3fc91c8f03d2",
   "metadata": {},
   "source": [
    "The `vav_graph` object can now be added to our model:"
   ]
  },
  {
   "cell_type": "code",
   "execution_count": 8,
   "id": "d300a5a4-8605-433a-9775-096323c49c45",
   "metadata": {
    "execution": {
     "iopub.execute_input": "2024-07-03T00:20:35.733110Z",
     "iopub.status.busy": "2024-07-03T00:20:35.732974Z",
     "iopub.status.idle": "2024-07-03T00:20:35.735439Z",
     "shell.execute_reply": "2024-07-03T00:20:35.735152Z"
    }
   },
   "outputs": [],
   "source": [
    "bldg.add_graph(vav_graph)"
   ]
  },
  {
   "cell_type": "code",
   "execution_count": 9,
   "id": "da5d0d34-1dfd-4dde-af09-5dfcf2026205",
   "metadata": {
    "execution": {
     "iopub.execute_input": "2024-07-03T00:20:35.737117Z",
     "iopub.status.busy": "2024-07-03T00:20:35.736987Z",
     "iopub.status.idle": "2024-07-03T00:20:35.743193Z",
     "shell.execute_reply": "2024-07-03T00:20:35.742914Z"
    }
   },
   "outputs": [],
   "source": [
    "# run for the other n-1 VAVs\n",
    "for vav in range(1,NUM_VAVs):\n",
    "    vav_name = BLDG[f\"vav-{vav}\"]\n",
    "    _, vav_graph = vav_templ.evaluate({\"name\": vav_name}).fill(BLDG)\n",
    "    bldg.add_graph(vav_graph)"
   ]
  },
  {
   "cell_type": "markdown",
   "id": "7d4389d7-8369-4083-b4dc-bba533c1df1b",
   "metadata": {},
   "source": [
    "Print out the resulting model"
   ]
  },
  {
   "cell_type": "code",
   "execution_count": 10,
   "id": "3551fad4-553e-405a-aaeb-78bf5a8da4a6",
   "metadata": {
    "execution": {
     "iopub.execute_input": "2024-07-03T00:20:35.744918Z",
     "iopub.status.busy": "2024-07-03T00:20:35.744805Z",
     "iopub.status.idle": "2024-07-03T00:20:35.766878Z",
     "shell.execute_reply": "2024-07-03T00:20:35.766581Z"
    }
   },
   "outputs": [
    {
     "name": "stdout",
     "output_type": "stream",
     "text": [
      "@prefix brick: <https://brickschema.org/schema/Brick#> .\n",
      "@prefix owl: <http://www.w3.org/2002/07/owl#> .\n",
      "\n",
      "<https://example.com> a owl:Ontology .\n",
      "\n",
      "<urn:my-building/vav-0> a brick:VAV ;\n",
      "    brick:feeds <urn:my-building/zone_7090eccb> ;\n",
      "    brick:hasPart <urn:my-building/dmp_8a7194be> ;\n",
      "    brick:hasPoint <urn:my-building/dat_818a0470>,\n",
      "        <urn:my-building/ztemp_d1249f9f> .\n",
      "\n",
      "<urn:my-building/vav-1> a brick:VAV ;\n",
      "    brick:feeds <urn:my-building/zone_08eab886> ;\n",
      "    brick:hasPart <urn:my-building/dmp_6f1777ed> ;\n",
      "    brick:hasPoint <urn:my-building/dat_005b6ee8>,\n",
      "        <urn:my-building/ztemp_e888fdb0> .\n",
      "\n",
      "<urn:my-building/vav-2> a brick:VAV ;\n",
      "    brick:feeds <urn:my-building/zone_450010f6> ;\n",
      "    brick:hasPart <urn:my-building/dmp_30374825> ;\n",
      "    brick:hasPoint <urn:my-building/dat_45fde287>,\n",
      "        <urn:my-building/ztemp_496e4e05> .\n",
      "\n",
      "\n"
     ]
    }
   ],
   "source": [
    "print(bldg.graph.serialize(format=\"turtle\"))"
   ]
  },
  {
   "cell_type": "code",
   "execution_count": 11,
   "id": "93823735-3fb3-4b30-b344-fcb45bcca20a",
   "metadata": {
    "execution": {
     "iopub.execute_input": "2024-07-03T00:20:35.768581Z",
     "iopub.status.busy": "2024-07-03T00:20:35.768480Z",
     "iopub.status.idle": "2024-07-03T00:20:35.772037Z",
     "shell.execute_reply": "2024-07-03T00:20:35.771740Z"
    }
   },
   "outputs": [],
   "source": [
    "# and save your work!\n",
    "bm.session.commit()"
   ]
  },
  {
   "cell_type": "markdown",
   "id": "b57578fa-67d2-4bcd-81d1-09639788fdf7",
   "metadata": {},
   "source": [
    "Rewinding a little bit, you may have noticed that the generated graph above doesn't actually contain any metadata for the points and parts associated with the VAVs. This is because we didn't deal with dependencies at all. We can use `inline_dependencies()` to resolve other definitions required by the VAV template:"
   ]
  },
  {
   "cell_type": "code",
   "execution_count": 12,
   "id": "cf999dc8-21d0-4231-a981-69e2a74274ae",
   "metadata": {
    "execution": {
     "iopub.execute_input": "2024-07-03T00:20:35.773715Z",
     "iopub.status.busy": "2024-07-03T00:20:35.773598Z",
     "iopub.status.idle": "2024-07-03T00:20:35.778453Z",
     "shell.execute_reply": "2024-07-03T00:20:35.778150Z"
    }
   },
   "outputs": [
    {
     "name": "stdout",
     "output_type": "stream",
     "text": [
      "@prefix brick: <https://brickschema.org/schema/Brick#> .\n",
      "\n",
      "<urn:my-building/name_120544d2> a brick:VAV ;\n",
      "    brick:feeds <urn:my-building/zone_d1426c97> ;\n",
      "    brick:hasPart <urn:my-building/dmp_3cd90f94> ;\n",
      "    brick:hasPoint <urn:my-building/dat_10592c53>,\n",
      "        <urn:my-building/ztemp_9c274bd0> .\n",
      "\n",
      "\n"
     ]
    }
   ],
   "source": [
    "# without resolving dependencies\n",
    "_, g = vav_templ.fill(BLDG)\n",
    "print(g.serialize())"
   ]
  },
  {
   "cell_type": "code",
   "execution_count": 13,
   "id": "8156e55d-e887-41b5-85af-f172401b3c97",
   "metadata": {
    "execution": {
     "iopub.execute_input": "2024-07-03T00:20:35.780058Z",
     "iopub.status.busy": "2024-07-03T00:20:35.779936Z",
     "iopub.status.idle": "2024-07-03T00:20:35.793654Z",
     "shell.execute_reply": "2024-07-03T00:20:35.793353Z"
    }
   },
   "outputs": [
    {
     "name": "stdout",
     "output_type": "stream",
     "text": [
      "@prefix brick: <https://brickschema.org/schema/Brick#> .\n",
      "\n",
      "<urn:my-building/name_6ae836e2> a brick:VAV ;\n",
      "    brick:feeds <urn:my-building/zone_2fff4598> ;\n",
      "    brick:hasPart <urn:my-building/dmp_0f72c65a> ;\n",
      "    brick:hasPoint <urn:my-building/dat_5bac1585>,\n",
      "        <urn:my-building/ztemp_d667c877> .\n",
      "\n",
      "<urn:my-building/dat_5bac1585> a brick:Discharge_Air_Temperature_Sensor .\n",
      "\n",
      "<urn:my-building/dmp-dmppos_ad50e77b> a brick:Damper_Position_Command .\n",
      "\n",
      "<urn:my-building/dmp_0f72c65a> a brick:Damper ;\n",
      "    brick:hasPoint <urn:my-building/dmp-dmppos_ad50e77b> .\n",
      "\n",
      "<urn:my-building/zone_2fff4598> a brick:HVAC_Zone .\n",
      "\n",
      "<urn:my-building/ztemp_d667c877> a brick:Zone_Air_Temperature_Sensor .\n",
      "\n",
      "\n"
     ]
    }
   ],
   "source": [
    "# with resolved dependencies\n",
    "inlined = vav_templ.inline_dependencies()\n",
    "_, g = inlined.fill(BLDG)\n",
    "print(g.serialize())"
   ]
  },
  {
   "cell_type": "code",
   "execution_count": 14,
   "id": "15d297a8-5062-4351-b53d-6911fa451a0b",
   "metadata": {
    "execution": {
     "iopub.execute_input": "2024-07-03T00:20:35.795332Z",
     "iopub.status.busy": "2024-07-03T00:20:35.795209Z",
     "iopub.status.idle": "2024-07-03T00:20:35.798044Z",
     "shell.execute_reply": "2024-07-03T00:20:35.797784Z"
    }
   },
   "outputs": [
    {
     "name": "stdout",
     "output_type": "stream",
     "text": [
      "@prefix brick: <https://brickschema.org/schema/Brick#> .\n",
      "\n",
      "<urn:___param___#name> a brick:VAV ;\n",
      "    brick:feeds <urn:___param___#zone> ;\n",
      "    brick:hasPart <urn:___param___#dmp> ;\n",
      "    brick:hasPoint <urn:___param___#co2>,\n",
      "        <urn:___param___#dat>,\n",
      "        <urn:___param___#occ>,\n",
      "        <urn:___param___#ztemp> .\n",
      "\n",
      "<urn:___param___#co2> a brick:CO2_Level_Sensor .\n",
      "\n",
      "<urn:___param___#dat> a brick:Discharge_Air_Temperature_Sensor .\n",
      "\n",
      "<urn:___param___#dmp> a brick:Damper ;\n",
      "    brick:hasPoint <urn:___param___#dmp-dmppos> .\n",
      "\n",
      "<urn:___param___#dmp-dmppos> a brick:Damper_Position_Command .\n",
      "\n",
      "<urn:___param___#occ> a brick:Occupancy_Sensor .\n",
      "\n",
      "<urn:___param___#zone> a brick:HVAC_Zone .\n",
      "\n",
      "<urn:___param___#ztemp> a brick:Zone_Air_Temperature_Sensor .\n",
      "\n",
      "\n"
     ]
    }
   ],
   "source": [
    "print(inlined.body.serialize(format='turtle'))"
   ]
  },
  {
   "cell_type": "markdown",
   "id": "4b541165-9d43-4071-8415-ef87fdeb5cd2",
   "metadata": {},
   "source": [
    "Run another example w/ chiller plant"
   ]
  },
  {
   "cell_type": "code",
   "execution_count": 15,
   "id": "65e41cce-4f0f-4532-baf8-6eb8b8af0e36",
   "metadata": {
    "execution": {
     "iopub.execute_input": "2024-07-03T00:20:35.799737Z",
     "iopub.status.busy": "2024-07-03T00:20:35.799615Z",
     "iopub.status.idle": "2024-07-03T00:20:36.172030Z",
     "shell.execute_reply": "2024-07-03T00:20:36.171686Z"
    }
   },
   "outputs": [],
   "source": [
    "lib = Library.load(directory=\"../libraries/chiller-plant/\")"
   ]
  },
  {
   "cell_type": "code",
   "execution_count": 16,
   "id": "8963d11e-2884-4cfb-beaa-88870d3ffa36",
   "metadata": {
    "execution": {
     "iopub.execute_input": "2024-07-03T00:20:36.174108Z",
     "iopub.status.busy": "2024-07-03T00:20:36.173975Z",
     "iopub.status.idle": "2024-07-03T00:20:36.222148Z",
     "shell.execute_reply": "2024-07-03T00:20:36.221805Z"
    }
   },
   "outputs": [
    {
     "name": "stdout",
     "output_type": "stream",
     "text": [
      "@prefix brick: <https://brickschema.org/schema/Brick#> .\n",
      "@prefix rdfs: <http://www.w3.org/2000/01/rdf-schema#> .\n",
      "\n",
      "<urn:___param___#name> a brick:Chiller ;\n",
      "    brick:hasPart <urn:___param___#chwp>,\n",
      "        <urn:___param___#cnd>,\n",
      "        <urn:___param___#cvlv> ;\n",
      "    brick:hasPoint <urn:___param___#chwrt>,\n",
      "        <urn:___param___#chwst> ;\n",
      "    brick:isMeteredBy <urn:___param___#meter> .\n",
      "\n",
      "<urn:___param___#chwp> a brick:Chilled_Water_Pump,\n",
      "        brick:Pump ;\n",
      "    brick:hasPart <urn:___param___#chwp-bypass_valve>,\n",
      "        <urn:___param___#chwp-control_valve> ;\n",
      "    brick:hasPoint <urn:___param___#chwp-mode>,\n",
      "        <urn:___param___#chwp-run>,\n",
      "        <urn:___param___#chwp-vsd> ;\n",
      "    brick:isMeteredBy <urn:___param___#chwp-meter> .\n",
      "\n",
      "<urn:___param___#chwp-bypass_valve> a brick:Bypass_Valve ;\n",
      "    brick:hasPoint <urn:___param___#chwp-bypass_valve-vlv_cmd> .\n",
      "\n",
      "<urn:___param___#chwp-bypass_valve-vlv_cmd> a brick:Valve_Command .\n",
      "\n",
      "<urn:___param___#chwp-control_valve> a brick:Valve ;\n",
      "    rdfs:label \"Control Valve\" ;\n",
      "    brick:hasPoint <urn:___param___#chwp-control_valve-vlv_cmd> .\n",
      "\n",
      "<urn:___param___#chwp-control_valve-vlv_cmd> a brick:Valve_Command .\n",
      "\n",
      "<urn:___param___#chwp-meter> a brick:Electrical_Meter ;\n",
      "    brick:hasPoint <urn:___param___#chwp-meter-breaker_status>,\n",
      "        <urn:___param___#chwp-meter-current>,\n",
      "        <urn:___param___#chwp-meter-power>,\n",
      "        <urn:___param___#chwp-meter-voltage> .\n",
      "\n",
      "<urn:___param___#chwp-meter-breaker_status> a <breaker_status> .\n",
      "\n",
      "<urn:___param___#chwp-meter-current> a brick:Current_Sensor .\n",
      "\n",
      "<urn:___param___#chwp-meter-power> a brick:Power_Sensor .\n",
      "\n",
      "<urn:___param___#chwp-meter-voltage> a brick:Voltage_Sensor .\n",
      "\n",
      "<urn:___param___#chwp-mode> a brick:Mode_Command .\n",
      "\n",
      "<urn:___param___#chwp-run> a brick:Run_Status .\n",
      "\n",
      "<urn:___param___#chwp-vsd> a brick:Frequency_Command .\n",
      "\n",
      "<urn:___param___#chwrt> a brick:Entering_Chilled_Water_Temperature_Sensor .\n",
      "\n",
      "<urn:___param___#chwst> a brick:Leaving_Chilled_Water_Temperature_Sensor .\n",
      "\n",
      "<urn:___param___#cnd> a brick:Condenser ;\n",
      "    brick:hasPart <urn:___param___#cnd-pump> ;\n",
      "    brick:hasPoint <urn:___param___#cnd-flow>,\n",
      "        <urn:___param___#cnd-ret>,\n",
      "        <urn:___param___#cnd-sup> .\n",
      "\n",
      "<urn:___param___#cnd-flow> a brick:Condenser_Water_Flow_Sensor .\n",
      "\n",
      "<urn:___param___#cnd-pump> a brick:Condenser_Water_Pump,\n",
      "        brick:Pump ;\n",
      "    brick:hasPart <urn:___param___#cnd-pump-bypass_valve>,\n",
      "        <urn:___param___#cnd-pump-control_valve> ;\n",
      "    brick:hasPoint <urn:___param___#cnd-pump-mode>,\n",
      "        <urn:___param___#cnd-pump-run>,\n",
      "        <urn:___param___#cnd-pump-vsd> ;\n",
      "    brick:isMeteredBy <urn:___param___#cnd-pump-meter> .\n",
      "\n",
      "<urn:___param___#cnd-pump-bypass_valve> a brick:Bypass_Valve ;\n",
      "    brick:hasPoint <urn:___param___#cnd-pump-bypass_valve-vlv_cmd> .\n",
      "\n",
      "<urn:___param___#cnd-pump-bypass_valve-vlv_cmd> a brick:Valve_Command .\n",
      "\n",
      "<urn:___param___#cnd-pump-control_valve> a brick:Valve ;\n",
      "    rdfs:label \"Control Valve\" ;\n",
      "    brick:hasPoint <urn:___param___#cnd-pump-control_valve-vlv_cmd> .\n",
      "\n",
      "<urn:___param___#cnd-pump-control_valve-vlv_cmd> a brick:Valve_Command .\n",
      "\n",
      "<urn:___param___#cnd-pump-meter> a brick:Electrical_Meter ;\n",
      "    brick:hasPoint <urn:___param___#cnd-pump-meter-breaker_status>,\n",
      "        <urn:___param___#cnd-pump-meter-current>,\n",
      "        <urn:___param___#cnd-pump-meter-power>,\n",
      "        <urn:___param___#cnd-pump-meter-voltage> .\n",
      "\n",
      "<urn:___param___#cnd-pump-meter-breaker_status> a <breaker_status> .\n",
      "\n",
      "<urn:___param___#cnd-pump-meter-current> a brick:Current_Sensor .\n",
      "\n",
      "<urn:___param___#cnd-pump-meter-power> a brick:Power_Sensor .\n",
      "\n",
      "<urn:___param___#cnd-pump-meter-voltage> a brick:Voltage_Sensor .\n",
      "\n",
      "<urn:___param___#cnd-pump-mode> a brick:Mode_Command .\n",
      "\n",
      "<urn:___param___#cnd-pump-run> a brick:Run_Status .\n",
      "\n",
      "<urn:___param___#cnd-pump-vsd> a brick:Frequency_Command .\n",
      "\n",
      "<urn:___param___#cnd-ret> a brick:Leaving_Condenser_Water_Temperature_Sensor .\n",
      "\n",
      "<urn:___param___#cnd-sup> a brick:Entering_Condenser_Water_Temperature_Sensor .\n",
      "\n",
      "<urn:___param___#cvlv> a brick:Valve ;\n",
      "    rdfs:label \"Control Valve\" ;\n",
      "    brick:hasPoint <urn:___param___#cvlv-vlv_cmd> .\n",
      "\n",
      "<urn:___param___#cvlv-vlv_cmd> a brick:Valve_Command .\n",
      "\n",
      "<urn:___param___#meter> a brick:Electrical_Meter ;\n",
      "    brick:hasPoint <urn:___param___#meter-breaker_status>,\n",
      "        <urn:___param___#meter-current>,\n",
      "        <urn:___param___#meter-power>,\n",
      "        <urn:___param___#meter-voltage> .\n",
      "\n",
      "<urn:___param___#meter-breaker_status> a <breaker_status> .\n",
      "\n",
      "<urn:___param___#meter-current> a brick:Current_Sensor .\n",
      "\n",
      "<urn:___param___#meter-power> a brick:Power_Sensor .\n",
      "\n",
      "<urn:___param___#meter-voltage> a brick:Voltage_Sensor .\n",
      "\n",
      "\n",
      "@prefix brick: <https://brickschema.org/schema/Brick#> .\n",
      "@prefix rdfs: <http://www.w3.org/2000/01/rdf-schema#> .\n",
      "\n",
      "<urn:my-building/name_61f2e002> a brick:Chiller ;\n",
      "    brick:hasPart <urn:my-building/chwp_f325a3e0>,\n",
      "        <urn:my-building/cnd_09824499>,\n",
      "        <urn:my-building/cvlv_240dc3cd> ;\n",
      "    brick:hasPoint <urn:my-building/chwrt_10852299>,\n",
      "        <urn:my-building/chwst_cd44b2d1> ;\n",
      "    brick:isMeteredBy <urn:my-building/meter_bc110ea9> .\n",
      "\n",
      "<urn:my-building/chwp-bypass_valve-vlv_cmd_0c70b434> a brick:Valve_Command .\n",
      "\n",
      "<urn:my-building/chwp-bypass_valve_3a5e5b79> a brick:Bypass_Valve ;\n",
      "    brick:hasPoint <urn:my-building/chwp-bypass_valve-vlv_cmd_0c70b434> .\n",
      "\n",
      "<urn:my-building/chwp-control_valve-vlv_cmd_456c892b> a brick:Valve_Command .\n",
      "\n",
      "<urn:my-building/chwp-control_valve_31989593> a brick:Valve ;\n",
      "    rdfs:label \"Control Valve\" ;\n",
      "    brick:hasPoint <urn:my-building/chwp-control_valve-vlv_cmd_456c892b> .\n",
      "\n",
      "<urn:my-building/chwp-meter-breaker_status_4a176862> a <breaker_status> .\n",
      "\n",
      "<urn:my-building/chwp-meter-current_a7e9d0b7> a brick:Current_Sensor .\n",
      "\n",
      "<urn:my-building/chwp-meter-power_c7f858eb> a brick:Power_Sensor .\n",
      "\n",
      "<urn:my-building/chwp-meter-voltage_b2e613e6> a brick:Voltage_Sensor .\n",
      "\n",
      "<urn:my-building/chwp-meter_01c2c3fd> a brick:Electrical_Meter ;\n",
      "    brick:hasPoint <urn:my-building/chwp-meter-breaker_status_4a176862>,\n",
      "        <urn:my-building/chwp-meter-current_a7e9d0b7>,\n",
      "        <urn:my-building/chwp-meter-power_c7f858eb>,\n",
      "        <urn:my-building/chwp-meter-voltage_b2e613e6> .\n",
      "\n",
      "<urn:my-building/chwp-mode_08c95cd9> a brick:Mode_Command .\n",
      "\n",
      "<urn:my-building/chwp-run_79b4ce5e> a brick:Run_Status .\n",
      "\n",
      "<urn:my-building/chwp-vsd_008b0785> a brick:Frequency_Command .\n",
      "\n",
      "<urn:my-building/chwp_f325a3e0> a brick:Chilled_Water_Pump,\n",
      "        brick:Pump ;\n",
      "    brick:hasPart <urn:my-building/chwp-bypass_valve_3a5e5b79>,\n",
      "        <urn:my-building/chwp-control_valve_31989593> ;\n",
      "    brick:hasPoint <urn:my-building/chwp-mode_08c95cd9>,\n",
      "        <urn:my-building/chwp-run_79b4ce5e>,\n",
      "        <urn:my-building/chwp-vsd_008b0785> ;\n",
      "    brick:isMeteredBy <urn:my-building/chwp-meter_01c2c3fd> .\n",
      "\n",
      "<urn:my-building/chwrt_10852299> a brick:Entering_Chilled_Water_Temperature_Sensor .\n",
      "\n",
      "<urn:my-building/chwst_cd44b2d1> a brick:Leaving_Chilled_Water_Temperature_Sensor .\n",
      "\n",
      "<urn:my-building/cnd-flow_9c6930db> a brick:Condenser_Water_Flow_Sensor .\n",
      "\n",
      "<urn:my-building/cnd-pump-bypass_valve-vlv_cmd_e7af84b1> a brick:Valve_Command .\n",
      "\n",
      "<urn:my-building/cnd-pump-bypass_valve_57269cfa> a brick:Bypass_Valve ;\n",
      "    brick:hasPoint <urn:my-building/cnd-pump-bypass_valve-vlv_cmd_e7af84b1> .\n",
      "\n",
      "<urn:my-building/cnd-pump-control_valve-vlv_cmd_2b535275> a brick:Valve_Command .\n",
      "\n",
      "<urn:my-building/cnd-pump-control_valve_344071d9> a brick:Valve ;\n",
      "    rdfs:label \"Control Valve\" ;\n",
      "    brick:hasPoint <urn:my-building/cnd-pump-control_valve-vlv_cmd_2b535275> .\n",
      "\n",
      "<urn:my-building/cnd-pump-meter-breaker_status_b29f722e> a <breaker_status> .\n",
      "\n",
      "<urn:my-building/cnd-pump-meter-current_7e7957ba> a brick:Current_Sensor .\n",
      "\n",
      "<urn:my-building/cnd-pump-meter-power_c819d965> a brick:Power_Sensor .\n",
      "\n",
      "<urn:my-building/cnd-pump-meter-voltage_a7cb4353> a brick:Voltage_Sensor .\n",
      "\n",
      "<urn:my-building/cnd-pump-meter_fc645a7f> a brick:Electrical_Meter ;\n",
      "    brick:hasPoint <urn:my-building/cnd-pump-meter-breaker_status_b29f722e>,\n",
      "        <urn:my-building/cnd-pump-meter-current_7e7957ba>,\n",
      "        <urn:my-building/cnd-pump-meter-power_c819d965>,\n",
      "        <urn:my-building/cnd-pump-meter-voltage_a7cb4353> .\n",
      "\n",
      "<urn:my-building/cnd-pump-mode_8c7dd7b5> a brick:Mode_Command .\n",
      "\n",
      "<urn:my-building/cnd-pump-run_4a69a5a3> a brick:Run_Status .\n",
      "\n",
      "<urn:my-building/cnd-pump-vsd_18f254c3> a brick:Frequency_Command .\n",
      "\n",
      "<urn:my-building/cnd-pump_cca8dec8> a brick:Condenser_Water_Pump,\n",
      "        brick:Pump ;\n",
      "    brick:hasPart <urn:my-building/cnd-pump-bypass_valve_57269cfa>,\n",
      "        <urn:my-building/cnd-pump-control_valve_344071d9> ;\n",
      "    brick:hasPoint <urn:my-building/cnd-pump-mode_8c7dd7b5>,\n",
      "        <urn:my-building/cnd-pump-run_4a69a5a3>,\n",
      "        <urn:my-building/cnd-pump-vsd_18f254c3> ;\n",
      "    brick:isMeteredBy <urn:my-building/cnd-pump-meter_fc645a7f> .\n",
      "\n",
      "<urn:my-building/cnd-ret_cc9b1c7f> a brick:Leaving_Condenser_Water_Temperature_Sensor .\n",
      "\n",
      "<urn:my-building/cnd-sup_733306a1> a brick:Entering_Condenser_Water_Temperature_Sensor .\n",
      "\n",
      "<urn:my-building/cnd_09824499> a brick:Condenser ;\n",
      "    brick:hasPart <urn:my-building/cnd-pump_cca8dec8> ;\n",
      "    brick:hasPoint <urn:my-building/cnd-flow_9c6930db>,\n",
      "        <urn:my-building/cnd-ret_cc9b1c7f>,\n",
      "        <urn:my-building/cnd-sup_733306a1> .\n",
      "\n",
      "<urn:my-building/cvlv-vlv_cmd_dbdbf931> a brick:Valve_Command .\n",
      "\n",
      "<urn:my-building/cvlv_240dc3cd> a brick:Valve ;\n",
      "    rdfs:label \"Control Valve\" ;\n",
      "    brick:hasPoint <urn:my-building/cvlv-vlv_cmd_dbdbf931> .\n",
      "\n",
      "<urn:my-building/meter-breaker_status_ffa2f86a> a <breaker_status> .\n",
      "\n",
      "<urn:my-building/meter-current_eb46be67> a brick:Current_Sensor .\n",
      "\n",
      "<urn:my-building/meter-power_b5a3a2f9> a brick:Power_Sensor .\n",
      "\n",
      "<urn:my-building/meter-voltage_29218b90> a brick:Voltage_Sensor .\n",
      "\n",
      "<urn:my-building/meter_bc110ea9> a brick:Electrical_Meter ;\n",
      "    brick:hasPoint <urn:my-building/meter-breaker_status_ffa2f86a>,\n",
      "        <urn:my-building/meter-current_eb46be67>,\n",
      "        <urn:my-building/meter-power_b5a3a2f9>,\n",
      "        <urn:my-building/meter-voltage_29218b90> .\n",
      "\n",
      "\n"
     ]
    }
   ],
   "source": [
    "chiller = lib.get_template_by_name(\"chiller\")\n",
    "inlined = chiller.inline_dependencies()\n",
    "print(inlined.body.serialize())\n",
    "_, g = inlined.fill(BLDG)\n",
    "print(g.serialize())"
   ]
  },
  {
   "cell_type": "code",
   "execution_count": null,
   "id": "f7086b0a-2749-47a2-8747-f1ba342ee410",
   "metadata": {},
   "outputs": [],
   "source": []
  }
 ],
 "metadata": {
  "kernelspec": {
   "display_name": ".venv",
   "language": "python",
   "name": "python3"
  },
  "language_info": {
   "codemirror_mode": {
    "name": "ipython",
    "version": 3
   },
   "file_extension": ".py",
   "mimetype": "text/x-python",
   "name": "python",
   "nbconvert_exporter": "python",
   "pygments_lexer": "ipython3",
   "version": "3.10.16"
  }
 },
 "nbformat": 4,
 "nbformat_minor": 5
}
