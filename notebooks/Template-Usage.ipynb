{
 "cells": [
  {
   "cell_type": "code",
   "execution_count": 1,
   "id": "88c1dde3-4b12-4247-a3d2-991a63e749fb",
   "metadata": {},
   "outputs": [],
   "source": [
    "from rdflib import Namespace\n",
    "from buildingmotif import BuildingMOTIF\n",
    "from buildingmotif.dataclasses import Model, TemplateLibrary"
   ]
  },
  {
   "cell_type": "markdown",
   "id": "232b02d5-a59b-48ee-94a3-30552c639bba",
   "metadata": {},
   "source": [
    "We need a namespace (`BLDG`) to name the entities that will exist in our model. `NUM_VAVs` will be used to generate a number of VAVs for this example"
   ]
  },
  {
   "cell_type": "code",
   "execution_count": 2,
   "id": "ace5920c-2a02-4415-b17b-d1d20095a847",
   "metadata": {},
   "outputs": [],
   "source": [
    "NUM_VAVs = 3\n",
    "BLDG = Namespace(\"urn:my-building/\")"
   ]
  },
  {
   "cell_type": "markdown",
   "id": "69fad6af-e203-4612-b96d-4cd3f21641b8",
   "metadata": {},
   "source": [
    "Create an in-memory BuildingMOTIF instance and create a `my-building` model that we will populate by evaluating templates"
   ]
  },
  {
   "cell_type": "code",
   "execution_count": 3,
   "id": "dfefe386-b5a5-4933-b43e-554e09a51bd1",
   "metadata": {},
   "outputs": [],
   "source": [
    "bm = BuildingMOTIF(\"sqlite://\")\n",
    "bldg = Model.create(\"my-building\")"
   ]
  },
  {
   "cell_type": "markdown",
   "id": "16b40ce3-3055-42d2-8630-f5be64559344",
   "metadata": {},
   "source": [
    "Load in templates / classes from the Brick ontology (this may take 1-2 minutes):"
   ]
  },
  {
   "cell_type": "code",
   "execution_count": 4,
   "id": "f4480e5b-c59b-434e-b5da-5afb53fe7567",
   "metadata": {},
   "outputs": [
    {
     "data": {
      "text/plain": [
       "TemplateLibrary(_id=1, _name=rdflib.term.URIRef('https://brickschema.org/schema/1.3-subset/Brick'), _bm=<buildingmotif.building_motif.building_motif.BuildingMOTIF object at 0x7f9e1df67970>)"
      ]
     },
     "execution_count": 4,
     "metadata": {},
     "output_type": "execute_result"
    }
   ],
   "source": [
    "TemplateLibrary.load(ontology_graph=\"../libraries/brick/Brick-subset.ttl\")"
   ]
  },
  {
   "cell_type": "markdown",
   "id": "473b5b7c-68ae-4265-9735-5b8856218c01",
   "metadata": {},
   "source": [
    "We load the G36 template library and pull out the \"vav-cooling-only\" template, corresponding to the pointlist in Section 4.1 of Guideline 36"
   ]
  },
  {
   "cell_type": "code",
   "execution_count": 5,
   "id": "e1c6c3a4-e1b4-4c7e-b858-1b17fb0fd17a",
   "metadata": {},
   "outputs": [],
   "source": [
    "lib = TemplateLibrary.load(directory=\"../libraries/guideline36/\")\n",
    "vav_templ = lib.get_template_by_name(\"vav-cooling-only\")"
   ]
  },
  {
   "cell_type": "markdown",
   "id": "3f2fd807-aee8-41a1-96f5-e27c4eee46dd",
   "metadata": {},
   "source": [
    "Now that we have the template, we do the following to create the VAV:"
   ]
  },
  {
   "cell_type": "code",
   "execution_count": 6,
   "id": "90952745-829e-4c00-bcee-1363eebf44e2",
   "metadata": {},
   "outputs": [
    {
     "name": "stdout",
     "output_type": "stream",
     "text": [
      "{'dat', 'occ', 'ztemp', 'co2', 'dmp', 'zone'}\n"
     ]
    }
   ],
   "source": [
    "# create a \"name\" for the VAV\n",
    "vav_name = BLDG[\"vav-0\"]\n",
    "# evaluate the template with that name to make sure the VAV has that name\n",
    "tmp = vav_templ.evaluate({\"name\": vav_name})\n",
    "# check what parameters are left\n",
    "print(tmp.parameters)"
   ]
  },
  {
   "cell_type": "markdown",
   "id": "352d3b96-73ec-47f0-8b32-7c626b90c534",
   "metadata": {},
   "source": [
    "If we don't want to provide names for these yet, we can call `.fill()` to invent names for them. This is helpful for testing and prototyping"
   ]
  },
  {
   "cell_type": "code",
   "execution_count": 7,
   "id": "2d644824-0e69-4834-839c-883f000a62be",
   "metadata": {},
   "outputs": [],
   "source": [
    "bindings, vav_graph = tmp.fill(BLDG) # tell 'fill' to put the invented names in the BLDG namespace"
   ]
  },
  {
   "cell_type": "markdown",
   "id": "a1c9f2c9-9740-403e-802f-3fc91c8f03d2",
   "metadata": {},
   "source": [
    "The `vav_graph` object can now be added to our model:"
   ]
  },
  {
   "cell_type": "code",
   "execution_count": 8,
   "id": "d300a5a4-8605-433a-9775-096323c49c45",
   "metadata": {},
   "outputs": [],
   "source": [
    "bldg.add_graph(vav_graph)"
   ]
  },
  {
   "cell_type": "code",
   "execution_count": 9,
   "id": "da5d0d34-1dfd-4dde-af09-5dfcf2026205",
   "metadata": {},
   "outputs": [],
   "source": [
    "# run for the other n-1 VAVs\n",
    "for vav in range(1,NUM_VAVs):\n",
    "    vav_name = BLDG[f\"vav-{vav}\"]\n",
    "    _, vav_graph = vav_templ.evaluate({\"name\": vav_name}).fill(BLDG)\n",
    "    bldg.add_graph(vav_graph)"
   ]
  },
  {
   "cell_type": "markdown",
   "id": "7d4389d7-8369-4083-b4dc-bba533c1df1b",
   "metadata": {},
   "source": [
    "Print out the resulting model"
   ]
  },
  {
   "cell_type": "code",
   "execution_count": 10,
   "id": "3551fad4-553e-405a-aaeb-78bf5a8da4a6",
   "metadata": {},
   "outputs": [
    {
     "name": "stdout",
     "output_type": "stream",
     "text": [
      "@prefix brick: <https://brickschema.org/schema/Brick#> .\n",
      "\n",
      "<urn:my-building/vav-0> a brick:VAV ;\n",
      "    brick:feeds <urn:my-building/zone_5d11e95d> ;\n",
      "    brick:hasPart <urn:my-building/dmp_497952a5> ;\n",
      "    brick:hasPoint <urn:my-building/co2_993a40f5>,\n",
      "        <urn:my-building/dat_1d9fa9d8>,\n",
      "        <urn:my-building/occ_75753741>,\n",
      "        <urn:my-building/ztemp_0578b922> .\n",
      "\n",
      "<urn:my-building/vav-1> a brick:VAV ;\n",
      "    brick:feeds <urn:my-building/zone_9c4bc2cd> ;\n",
      "    brick:hasPart <urn:my-building/dmp_8678f054> ;\n",
      "    brick:hasPoint <urn:my-building/co2_72b8e71f>,\n",
      "        <urn:my-building/dat_4e64e795>,\n",
      "        <urn:my-building/occ_0be925f7>,\n",
      "        <urn:my-building/ztemp_2925534d> .\n",
      "\n",
      "<urn:my-building/vav-2> a brick:VAV ;\n",
      "    brick:feeds <urn:my-building/zone_698e8806> ;\n",
      "    brick:hasPart <urn:my-building/dmp_e80ab839> ;\n",
      "    brick:hasPoint <urn:my-building/co2_15d88954>,\n",
      "        <urn:my-building/dat_e548916d>,\n",
      "        <urn:my-building/occ_00c6fc8c>,\n",
      "        <urn:my-building/ztemp_fcf42f95> .\n",
      "\n",
      "\n"
     ]
    }
   ],
   "source": [
    "print(bldg.graph.serialize(format=\"turtle\"))"
   ]
  },
  {
   "cell_type": "code",
   "execution_count": 11,
   "id": "93823735-3fb3-4b30-b344-fcb45bcca20a",
   "metadata": {},
   "outputs": [],
   "source": [
    "# and save your work!\n",
    "bm.session.commit()"
   ]
  },
  {
   "cell_type": "markdown",
   "id": "b57578fa-67d2-4bcd-81d1-09639788fdf7",
   "metadata": {},
   "source": [
    "Rewinding a little bit, you may have noticed that the generated graph above doesn't actually contain any metadata for the points and parts associated with the VAVs. This is because we didn't deal with dependencies at all. We can use `inline_dependencies()` to resolve other definitions required by the VAV template:"
   ]
  },
  {
   "cell_type": "code",
   "execution_count": 12,
   "id": "cf999dc8-21d0-4231-a981-69e2a74274ae",
   "metadata": {},
   "outputs": [
    {
     "name": "stdout",
     "output_type": "stream",
     "text": [
      "@prefix brick: <https://brickschema.org/schema/Brick#> .\n",
      "\n",
      "<urn:my-building/name_9e2560e3> a brick:VAV ;\n",
      "    brick:feeds <urn:my-building/zone_21bc2c67> ;\n",
      "    brick:hasPart <urn:my-building/dmp_fed080dd> ;\n",
      "    brick:hasPoint <urn:my-building/co2_2f7d00ae>,\n",
      "        <urn:my-building/dat_edb62a7d>,\n",
      "        <urn:my-building/occ_a053a753>,\n",
      "        <urn:my-building/ztemp_35ca619e> .\n",
      "\n",
      "\n"
     ]
    }
   ],
   "source": [
    "# without resolving dependencies\n",
    "_, g = vav_templ.fill(BLDG)\n",
    "print(g.serialize())"
   ]
  },
  {
   "cell_type": "code",
   "execution_count": 13,
   "id": "8156e55d-e887-41b5-85af-f172401b3c97",
   "metadata": {},
   "outputs": [
    {
     "name": "stdout",
     "output_type": "stream",
     "text": [
      "@prefix brick: <https://brickschema.org/schema/Brick#> .\n",
      "\n",
      "<urn:my-building/name-2562f9a3-inlined_0bae85f6> a brick:HVAC_Zone .\n",
      "\n",
      "<urn:my-building/name-46984e4d-inlined_940fbcde> a brick:Damper_Position_Command .\n",
      "\n",
      "<urn:my-building/name-74ba28f0-inlined_81c19eee> a brick:CO2_Level_Sensor .\n",
      "\n",
      "<urn:my-building/name-89dc0fa1-inlined_5f8fe29f> a brick:Damper ;\n",
      "    brick:hasPoint <urn:my-building/dmppos-89dc0fa1-inlined_afd47235> .\n",
      "\n",
      "<urn:my-building/name-a7fad5f1-inlined_b3db5191> a brick:Discharge_Air_Temperature_Sensor .\n",
      "\n",
      "<urn:my-building/name-b657cd77-inlined_f9b46a2e> a brick:Zone_Air_Temperature_Sensor .\n",
      "\n",
      "<urn:my-building/name-f0729879-inlined_ca30cbe8> a brick:Occupancy_Sensor .\n",
      "\n",
      "<urn:my-building/name_2e4b78c1> a brick:VAV ;\n",
      "    brick:feeds <urn:my-building/zone_1832e92c> ;\n",
      "    brick:hasPart <urn:my-building/dmp_5013d966> ;\n",
      "    brick:hasPoint <urn:my-building/co2_ca9685fb>,\n",
      "        <urn:my-building/dat_a912e760>,\n",
      "        <urn:my-building/occ_c148a746>,\n",
      "        <urn:my-building/ztemp_ab3b9c8f> .\n",
      "\n",
      "\n"
     ]
    }
   ],
   "source": [
    "# with resolved dependencies\n",
    "inlined = vav_templ.inline_dependencies()\n",
    "_, g = inlined.fill(BLDG)\n",
    "print(g.serialize())"
   ]
  }
 ],
 "metadata": {
  "kernelspec": {
   "display_name": "Python 3 (ipykernel)",
   "language": "python",
   "name": "python3"
  },
  "language_info": {
   "codemirror_mode": {
    "name": "ipython",
    "version": 3
   },
   "file_extension": ".py",
   "mimetype": "text/x-python",
   "name": "python",
   "nbconvert_exporter": "python",
   "pygments_lexer": "ipython3",
   "version": "3.9.12"
  }
 },
 "nbformat": 4,
 "nbformat_minor": 5
}
