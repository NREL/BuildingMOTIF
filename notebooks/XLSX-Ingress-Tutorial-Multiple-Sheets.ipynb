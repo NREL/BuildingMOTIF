{
 "cells": [
  {
   "cell_type": "code",
   "execution_count": 1,
   "id": "7385ef36-ac6c-46e1-ad5b-45fc75137019",
   "metadata": {},
   "outputs": [
    {
     "name": "stdout",
     "output_type": "stream",
     "text": [
      "2022-12-09 18:10:22,334 - WARNING | Changed log level of file to ERROR\n",
      "2022-12-09 18:10:22,335 - WARNING | Changed log level of console stdout to ERROR\n",
      "2022-12-09 18:10:22,335 - WARNING | Changed log level of file to ERROR\n",
      "2022-12-09 18:10:22,336 - WARNING | Changed log level of console stdout to ERROR\n",
      "2022-12-09 18:10:22,337 - WARNING | Changed log level of file to ERROR\n",
      "2022-12-09 18:10:22,337 - WARNING | Changed log level of console stdout to ERROR\n",
      "2022-12-09 18:10:22,338 - WARNING | Changed log level of file to ERROR\n",
      "2022-12-09 18:10:22,338 - WARNING | Changed log level of console stdout to ERROR\n",
      "2022-12-09 18:10:22,339 - WARNING | Changed log level of file to ERROR\n",
      "2022-12-09 18:10:22,340 - WARNING | Changed log level of console stdout to ERROR\n",
      "2022-12-09 18:10:22,341 - WARNING | Changed log level of file to ERROR\n",
      "2022-12-09 18:10:22,342 - WARNING | Changed log level of console stdout to ERROR\n",
      "2022-12-09 18:10:22,343 - WARNING | Changed log level of file to ERROR\n",
      "2022-12-09 18:10:22,343 - WARNING | Changed log level of console stdout to ERROR\n",
      "2022-12-09 18:10:22,344 - WARNING | Changed log level of file to ERROR\n",
      "2022-12-09 18:10:22,345 - WARNING | Changed log level of console stdout to ERROR\n",
      "2022-12-09 18:10:22,346 - WARNING | Changed log level of file to ERROR\n",
      "2022-12-09 18:10:22,346 - WARNING | Changed log level of console stdout to ERROR\n",
      "2022-12-09 18:10:22,347 - WARNING | Changed log level of file to ERROR\n",
      "2022-12-09 18:10:22,347 - WARNING | Changed log level of console stdout to ERROR\n",
      "2022-12-09 18:10:22,349 - WARNING | Changed log level of file to ERROR\n",
      "2022-12-09 18:10:22,350 - WARNING | Changed log level of console stdout to ERROR\n",
      "2022-12-09 18:10:22,350 - WARNING | Changed log level of file to ERROR\n",
      "2022-12-09 18:10:22,351 - WARNING | Changed log level of console stdout to ERROR\n",
      "2022-12-09 18:10:22,351 - WARNING | Changed log level of file to ERROR\n",
      "2022-12-09 18:10:22,352 - WARNING | Changed log level of console stdout to ERROR\n",
      "2022-12-09 18:10:22,353 - WARNING | Changed log level of file to ERROR\n",
      "2022-12-09 18:10:22,354 - WARNING | Changed log level of console stdout to ERROR\n",
      "2022-12-09 18:10:22,355 - WARNING | Changed log level of file to ERROR\n",
      "2022-12-09 18:10:22,356 - WARNING | Changed log level of console stdout to ERROR\n",
      "2022-12-09 18:10:22,357 - WARNING | Changed log level of file to ERROR\n",
      "2022-12-09 18:10:22,358 - WARNING | Changed log level of console stdout to ERROR\n",
      "2022-12-09 18:10:22,359 - WARNING | Changed log level of file to ERROR\n",
      "2022-12-09 18:10:22,360 - WARNING | Changed log level of console stdout to ERROR\n",
      "2022-12-09 18:10:22,361 - WARNING | Changed log level of file to ERROR\n",
      "2022-12-09 18:10:22,362 - WARNING | Changed log level of console stdout to ERROR\n",
      "2022-12-09 18:10:22,363 - WARNING | Changed log level of file to ERROR\n",
      "2022-12-09 18:10:22,364 - WARNING | Changed log level of console stdout to ERROR\n",
      "2022-12-09 18:10:22,364 - WARNING | Changed log level of file to ERROR\n",
      "2022-12-09 18:10:22,365 - WARNING | Changed log level of console stdout to ERROR\n",
      "2022-12-09 18:10:22,366 - WARNING | Changed log level of file to ERROR\n",
      "2022-12-09 18:10:22,366 - WARNING | Changed log level of console stdout to ERROR\n",
      "2022-12-09 18:10:22,368 - WARNING | Changed log level of file to ERROR\n",
      "2022-12-09 18:10:22,369 - WARNING | Changed log level of console stdout to ERROR\n",
      "2022-12-09 18:10:22,369 - WARNING | Changed log level of file to ERROR\n",
      "2022-12-09 18:10:22,370 - WARNING | Changed log level of console stdout to ERROR\n",
      "2022-12-09 18:10:22,370 - WARNING | Changed log level of file to ERROR\n",
      "2022-12-09 18:10:22,371 - WARNING | Changed log level of console stdout to ERROR\n",
      "2022-12-09 18:10:22,371 - WARNING | Changed log level of file to ERROR\n"
     ]
    }
   ],
   "source": [
    "from rdflib import Namespace, Graph\n",
    "from buildingmotif import BuildingMOTIF\n",
    "from buildingmotif.namespaces import BRICK\n",
    "from buildingmotif.dataclasses import Model, Library, Template\n",
    "from buildingmotif.ingresses import XLSXIngress, TemplateIngressWithChooser, Record"
   ]
  },
  {
   "cell_type": "code",
   "execution_count": 2,
   "id": "4ab8e1ee-ff06-4357-8c9f-5b62c898fb8a",
   "metadata": {},
   "outputs": [],
   "source": [
    "bm = BuildingMOTIF(\"sqlite://\") # in-memory"
   ]
  },
  {
   "cell_type": "code",
   "execution_count": 3,
   "id": "42d77bb4-6c5f-43cd-8d85-b8f6002e67ee",
   "metadata": {},
   "outputs": [],
   "source": [
    "BLDG = Namespace(\"urn:my_site/\")\n",
    "model = Model.create(BLDG)\n",
    "_ = Library.load(ontology_graph=\"../libraries/brick/Brick-subset.ttl\")\n",
    "lib = Library.load(directory=\"tutorial\")"
   ]
  },
  {
   "cell_type": "code",
   "execution_count": 4,
   "id": "6d2748ce-f1b8-420e-bd59-0c2c29992a8b",
   "metadata": {},
   "outputs": [],
   "source": [
    "tstat_templ = lib.get_template_by_name('my-thermostat')\n",
    "point_templ = lib.get_template_by_name('my-tstat-points')"
   ]
  },
  {
   "cell_type": "code",
   "execution_count": 5,
   "id": "3c5cddc3-c41f-4d10-aeb5-9d2a368a5b33",
   "metadata": {},
   "outputs": [],
   "source": [
    "def mapper(key: str) -> str:\n",
    "    return {\n",
    "        \"tstat\": \"name\",\n",
    "        \"name\": \"room\",\n",
    "        \"temp_sensor\": \"temp\",\n",
    "        \"setpoint\": \"sp\",\n",
    "        # 'co2' parameter has correct name in spreadsheet\n",
    "    }.get(key, key)\n",
    "\n",
    "def chooser(rec: Record) -> Template:\n",
    "    if rec.rtype == 'thermostats':\n",
    "        return tstat_templ\n",
    "    elif rec.rtype == 'thermostat points':\n",
    "        return point_templ.inline_dependencies()"
   ]
  },
  {
   "cell_type": "code",
   "execution_count": 6,
   "id": "6bd443c2-ee0b-46d3-8cb5-b24c884ffe80",
   "metadata": {},
   "outputs": [],
   "source": [
    "xlsx = XLSXIngress(\"tutorial/thermostats-with-points.xlsx\")\n",
    "ingress = TemplateIngressWithChooser(chooser, mapper, xlsx)"
   ]
  },
  {
   "cell_type": "code",
   "execution_count": 7,
   "id": "036625bc-f699-4df9-afe7-2fb449b211fd",
   "metadata": {},
   "outputs": [
    {
     "name": "stdout",
     "output_type": "stream",
     "text": [
      "{'name': rdflib.term.URIRef('urn:my_site/Thermostat-1'), 'room': rdflib.term.URIRef('urn:my_site/R410')}\n",
      "Template(_id=825, _name='my-thermostat', body=<Graph identifier=4835077c-33bd-46ef-a2a7-51ef0196673b (<class 'rdflib.graph.Graph'>)>, optional_args=[], _bm=<buildingmotif.building_motif.building_motif.BuildingMOTIF object at 0x7f9e20457e50>)\n",
      "{'name', 'room'}\n",
      "{'name': rdflib.term.URIRef('urn:my_site/Thermostat-2'), 'room': rdflib.term.URIRef('urn:my_site/R411')}\n",
      "Template(_id=825, _name='my-thermostat', body=<Graph identifier=4835077c-33bd-46ef-a2a7-51ef0196673b (<class 'rdflib.graph.Graph'>)>, optional_args=[], _bm=<buildingmotif.building_motif.building_motif.BuildingMOTIF object at 0x7f9e20457e50>)\n",
      "{'name', 'room'}\n",
      "{'name': rdflib.term.URIRef('urn:my_site/Thermostat-1'), 'temp': rdflib.term.URIRef('urn:my_site/ZTS-1'), 'sp': rdflib.term.URIRef('urn:my_site/ZTSP-1'), None: rdflib.term.URIRef('urn:my_site/CO2-sensor-1')}\n",
      "Template(_id=-1, _name='my-tstat-points', body=<Graph identifier=N9ce706ae67c948b7bdb8c9337d2bd6ba (<class 'rdflib.graph.Graph'>)>, optional_args=[], _bm=<buildingmotif.building_motif.building_motif.BuildingMOTIF object at 0x7f9e20457e50>)\n",
      "{'sp', 'name', 'co2', 'temp'}\n"
     ]
    },
    {
     "ename": "AssertionError",
     "evalue": "",
     "output_type": "error",
     "traceback": [
      "\u001b[0;31m---------------------------------------------------------------------------\u001b[0m",
      "\u001b[0;31mAssertionError\u001b[0m                            Traceback (most recent call last)",
      "Cell \u001b[0;32mIn [7], line 1\u001b[0m\n\u001b[0;32m----> 1\u001b[0m model\u001b[38;5;241m.\u001b[39madd_graph(\u001b[43mingress\u001b[49m\u001b[38;5;241;43m.\u001b[39;49m\u001b[43mgraph\u001b[49m\u001b[43m(\u001b[49m\u001b[43mBLDG\u001b[49m\u001b[43m)\u001b[49m)\n",
      "File \u001b[0;32m~/src/NREL/BuildingMOTIF/buildingmotif/ingresses/template.py:88\u001b[0m, in \u001b[0;36mTemplateIngressWithChooser.graph\u001b[0;34m(self, ns)\u001b[0m\n\u001b[1;32m     86\u001b[0m     \u001b[38;5;28mprint\u001b[39m(template\u001b[38;5;241m.\u001b[39mparameters)\n\u001b[1;32m     87\u001b[0m     graph \u001b[38;5;241m=\u001b[39m template\u001b[38;5;241m.\u001b[39mevaluate(bindings)\n\u001b[0;32m---> 88\u001b[0m     \u001b[38;5;28;01massert\u001b[39;00m \u001b[38;5;28misinstance\u001b[39m(graph, Graph)\n\u001b[1;32m     89\u001b[0m     g \u001b[38;5;241m+\u001b[39m\u001b[38;5;241m=\u001b[39m graph\n\u001b[1;32m     90\u001b[0m \u001b[38;5;28;01mreturn\u001b[39;00m g\n",
      "\u001b[0;31mAssertionError\u001b[0m: "
     ]
    }
   ],
   "source": [
    "model.add_graph(ingress.graph(BLDG))"
   ]
  },
  {
   "cell_type": "code",
   "execution_count": null,
   "id": "2a4ee9c4-e138-46c0-a21b-8c2aad2f4b31",
   "metadata": {},
   "outputs": [],
   "source": [
    "print(model.graph.serialize())"
   ]
  },
  {
   "cell_type": "code",
   "execution_count": null,
   "id": "38e5cb35-c423-4e0d-a778-f3e3fdef6b8b",
   "metadata": {},
   "outputs": [],
   "source": []
  }
 ],
 "metadata": {
  "kernelspec": {
   "display_name": "Poetry",
   "language": "python",
   "name": "poetry-kernel"
  },
  "language_info": {
   "codemirror_mode": {
    "name": "ipython",
    "version": 3
   },
   "file_extension": ".py",
   "mimetype": "text/x-python",
   "name": "python",
   "nbconvert_exporter": "python",
   "pygments_lexer": "ipython3",
   "version": "3.9.12"
  }
 },
 "nbformat": 4,
 "nbformat_minor": 5
}
