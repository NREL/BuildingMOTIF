{
 "cells": [
  {
   "cell_type": "code",
   "execution_count": 1,
   "id": "2d361121-363e-417e-bc00-7ca88b2ba30f",
   "metadata": {},
   "outputs": [],
   "source": [
    "# make sure you are on the branch 'topquadrant-shacl' until PR https://github.com/NREL/BuildingMOTIF/pull/308 is merged\n",
    "from rdflib import Namespace\n",
    "from buildingmotif import BuildingMOTIF\n",
    "from buildingmotif.dataclasses import Library, Model"
   ]
  },
  {
   "cell_type": "code",
   "execution_count": 2,
   "id": "f0be0941-a7f6-4f7e-9226-bbfe47c553ef",
   "metadata": {},
   "outputs": [],
   "source": [
    "# setup our buildingmotif instance (in-memory for now)\n",
    "bm = BuildingMOTIF(\"sqlite://\", shacl_engine='topquadrant')"
   ]
  },
  {
   "cell_type": "code",
   "execution_count": 3,
   "id": "4f279ecd-cbce-436e-9a51-b738c3c5bdaa",
   "metadata": {},
   "outputs": [
    {
     "name": "stderr",
     "output_type": "stream",
     "text": [
      "2024-09-19 08:59:34,736 | root |  WARNING: An ontology could not resolve a dependency on http://data.ashrae.org/standard223/1.0/extensions/settings (No row was found when one was required). Check this is loaded into BuildingMOTIF\n",
      "2024-09-19 08:59:34,736 | root |  WARNING: An ontology could not resolve a dependency on http://data.ashrae.org/standard223/1.0/model/core (No row was found when one was required). Check this is loaded into BuildingMOTIF\n",
      "2024-09-19 08:59:34,737 | root |  WARNING: An ontology could not resolve a dependency on http://data.ashrae.org/standard223/1.0/model/equipment (No row was found when one was required). Check this is loaded into BuildingMOTIF\n",
      "2024-09-19 08:59:34,738 | root |  WARNING: An ontology could not resolve a dependency on http://data.ashrae.org/standard223/1.0/vocab/enumeration (No row was found when one was required). Check this is loaded into BuildingMOTIF\n",
      "2024-09-19 08:59:34,738 | root |  WARNING: An ontology could not resolve a dependency on http://qudt.org/2.1/vocab/constant (No row was found when one was required). Check this is loaded into BuildingMOTIF\n",
      "2024-09-19 08:59:34,739 | root |  WARNING: An ontology could not resolve a dependency on http://qudt.org/2.1/vocab/currency (No row was found when one was required). Check this is loaded into BuildingMOTIF\n",
      "2024-09-19 08:59:34,739 | root |  WARNING: An ontology could not resolve a dependency on http://qudt.org/2.1/vocab/unit (No row was found when one was required). Check this is loaded into BuildingMOTIF\n",
      "2024-09-19 08:59:34,740 | root |  WARNING: An ontology could not resolve a dependency on http://www.w3.org/ns/shacl# (No row was found when one was required). Check this is loaded into BuildingMOTIF\n"
     ]
    },
    {
     "name": "stderr",
     "output_type": "stream",
     "text": [
      "2024-07-02 17:26:41,367 | root |  WARNING: An ontology could not resolve a dependency on http://qudt.org/2.1/vocab/currency (No row was found when one was required). Check this is loaded into BuildingMOTIF\n"
     ]
    },
    {
     "name": "stderr",
     "output_type": "stream",
     "text": [
      "2024-07-02 17:26:41,367 | root |  WARNING: An ontology could not resolve a dependency on http://qudt.org/2.1/vocab/unit (No row was found when one was required). Check this is loaded into BuildingMOTIF\n"
     ]
    },
    {
     "name": "stderr",
     "output_type": "stream",
     "text": [
      "2024-07-02 17:26:41,368 | root |  WARNING: An ontology could not resolve a dependency on http://www.w3.org/ns/shacl# (No row was found when one was required). Check this is loaded into BuildingMOTIF\n"
     ]
    }
   ],
   "source": [
    "# import 223P ontology from models.open223.info\n",
    "s223 = Library.load(ontology_graph=\"libraries/ashrae/223p/ontology/223p.ttl\")"
   ]
  },
  {
   "cell_type": "code",
   "execution_count": 4,
   "id": "7859acd8-c6de-4ff8-9feb-f2279f0098a5",
   "metadata": {},
   "outputs": [
    {
     "data": {
      "text/plain": [
       "<Graph identifier=ea8b61bc-6562-4325-b77e-0202ff416aa6 (<class 'rdflib.graph.Graph'>)>"
      ]
     },
     "execution_count": 4,
     "metadata": {},
     "output_type": "execute_result"
    }
   ],
   "source": [
    "# create a model to hold an example building from models.open223.info\n",
    "nrel_example_building = Model.create(Namespace(\"urn:nrel\"))\n",
    "nrel_example_building.graph.parse(\"https://models.open223.info/nrel-example.ttl\")"
   ]
  },
  {
   "cell_type": "code",
   "execution_count": null,
   "id": "c4d7481d-4572-4ef1-940a-2cc92615cfb5",
   "metadata": {},
   "outputs": [
    {
     "name": "stderr",
     "output_type": "stream",
     "text": [
      "2024-09-19 08:59:38,035 | buildingmotif.dataclasses.shape_collection |  WARNING: Could not resolve import of http://data.ashrae.org/standard223/1.0/extensions/settings from Libraries (No row was found when one was required). Trying shape collections\n",
      "2024-09-19 08:59:38,038 | buildingmotif.dataclasses.shape_collection |  WARNING: Could not resolve import of http://data.ashrae.org/standard223/1.0/extensions/settings from Libraries. Trying shape collections\n",
      "2024-09-19 08:59:38,039 | buildingmotif.dataclasses.shape_collection |  WARNING: Could not resolve import of http://www.w3.org/ns/shacl# from Libraries (No row was found when one was required). Trying shape collections\n",
      "2024-09-19 08:59:38,041 | buildingmotif.dataclasses.shape_collection |  WARNING: Could not resolve import of http://www.w3.org/ns/shacl# from Libraries. Trying shape collections\n",
      "2024-09-19 08:59:38,041 | buildingmotif.dataclasses.shape_collection |  WARNING: Could not resolve import of http://data.ashrae.org/standard223/1.0/model/equipment from Libraries (No row was found when one was required). Trying shape collections\n",
      "2024-09-19 08:59:38,043 | buildingmotif.dataclasses.shape_collection |  WARNING: Could not resolve import of http://data.ashrae.org/standard223/1.0/model/equipment from Libraries. Trying shape collections\n",
      "2024-09-19 08:59:38,043 | buildingmotif.dataclasses.shape_collection |  WARNING: Could not resolve import of http://data.ashrae.org/standard223/1.0/model/core from Libraries (No row was found when one was required). Trying shape collections\n",
      "2024-09-19 08:59:38,045 | buildingmotif.dataclasses.shape_collection |  WARNING: Could not resolve import of http://data.ashrae.org/standard223/1.0/model/core from Libraries. Trying shape collections\n",
      "2024-09-19 08:59:38,045 | buildingmotif.dataclasses.shape_collection |  WARNING: Could not resolve import of http://qudt.org/2.1/vocab/unit from Libraries (No row was found when one was required). Trying shape collections\n",
      "2024-09-19 08:59:38,047 | buildingmotif.dataclasses.shape_collection |  WARNING: Could not resolve import of http://qudt.org/2.1/vocab/unit from Libraries. Trying shape collections\n",
      "2024-09-19 08:59:38,047 | buildingmotif.dataclasses.shape_collection |  WARNING: Could not resolve import of http://qudt.org/2.1/vocab/currency from Libraries (No row was found when one was required). Trying shape collections\n",
      "2024-09-19 08:59:38,049 | buildingmotif.dataclasses.shape_collection |  WARNING: Could not resolve import of http://qudt.org/2.1/vocab/currency from Libraries. Trying shape collections\n",
      "2024-09-19 08:59:38,049 | buildingmotif.dataclasses.shape_collection |  WARNING: Could not resolve import of http://data.ashrae.org/standard223/1.0/vocab/enumeration from Libraries (No row was found when one was required). Trying shape collections\n",
      "2024-09-19 08:59:38,051 | buildingmotif.dataclasses.shape_collection |  WARNING: Could not resolve import of http://data.ashrae.org/standard223/1.0/vocab/enumeration from Libraries. Trying shape collections\n",
      "2024-09-19 08:59:38,051 | buildingmotif.dataclasses.shape_collection |  WARNING: Could not resolve import of http://qudt.org/2.1/vocab/constant from Libraries (No row was found when one was required). Trying shape collections\n",
      "2024-09-19 08:59:38,053 | buildingmotif.dataclasses.shape_collection |  WARNING: Could not resolve import of http://qudt.org/2.1/vocab/constant from Libraries. Trying shape collections\n"
     ]
    },
    {
     "name": "stderr",
     "output_type": "stream",
     "text": [
      "2024-07-02 17:26:46,836 | buildingmotif.dataclasses.shape_collection |  WARNING: Could not resolve import of http://data.ashrae.org/standard223/1.0/extensions/settings from Libraries (No row was found when one was required). Trying shape collections\n"
     ]
    },
    {
     "name": "stderr",
     "output_type": "stream",
     "text": [
      "2024-07-02 17:26:46,838 | buildingmotif.dataclasses.shape_collection |  WARNING: Could not resolve import of http://data.ashrae.org/standard223/1.0/extensions/settings from Libraries. Trying shape collections\n"
     ]
    },
    {
     "name": "stderr",
     "output_type": "stream",
     "text": [
      "2024-07-02 17:26:46,838 | buildingmotif.dataclasses.shape_collection |  WARNING: Could not resolve import of http://data.ashrae.org/standard223/1.0/vocab/enumeration from Libraries (No row was found when one was required). Trying shape collections\n"
     ]
    },
    {
     "name": "stderr",
     "output_type": "stream",
     "text": [
      "2024-07-02 17:26:46,840 | buildingmotif.dataclasses.shape_collection |  WARNING: Could not resolve import of http://data.ashrae.org/standard223/1.0/vocab/enumeration from Libraries. Trying shape collections\n"
     ]
    },
    {
     "name": "stdout",
     "output_type": "stream",
     "text": [
      "Performed validation in 71.6988320350647 seconds\n"
     ]
    },
    {
     "data": {
      "text/plain": [
       "0"
      ]
     },
     "execution_count": 5,
     "metadata": {},
     "output_type": "execute_result"
    }
   ],
   "source": [
    "# find any issues with the model w.r.t. 223P ontology (you'll need Java installed for the \"fast\" validation with the topquadrant engine)\n",
    "import time\n",
    "start = time.time()\n",
    "ctx = nrel_example_building.validate([s223.get_shape_collection()], error_on_missing_imports=False)\n",
    "print(f\"Performed validation in {time.time() - start} seconds\")\n",
    "ctx.valid"
   ]
  },
  {
   "cell_type": "code",
   "execution_count": null,
   "id": "5924797c-5ad7-4192-9a17-825e76989bdb",
   "metadata": {},
   "outputs": [],
   "source": [
    "# list out issues with specific nodes (available severities are Violation, Warning, and Info)\n",
    "for focus_node, diffs in ctx.get_reasons_with_severity(\"Violation\").items():\n",
    "    if len(diffs) == 0:\n",
    "        continue\n",
    "    print(focus_node)\n",
    "    for diff in diffs:\n",
    "        print(\"  - \" + diff.reason())"
   ]
  },
  {
   "cell_type": "code",
   "execution_count": null,
   "id": "5ce2e5a0-39c6-4570-afda-c73f577dd475",
   "metadata": {},
   "outputs": [],
   "source": [
    "# print the whole validation report\n",
    "print(ctx.report_string)"
   ]
  }
 ],
 "metadata": {
  "kernelspec": {
   "display_name": "Python 3 (ipykernel)",
   "language": "python",
   "name": "python3"
  },
  "language_info": {
   "codemirror_mode": {
    "name": "ipython",
    "version": 3
   },
   "file_extension": ".py",
   "mimetype": "text/x-python",
   "name": "python",
   "nbconvert_exporter": "python",
   "pygments_lexer": "ipython3",
   "version": "3.11.10"
  }
 },
 "nbformat": 4,
 "nbformat_minor": 5
}
