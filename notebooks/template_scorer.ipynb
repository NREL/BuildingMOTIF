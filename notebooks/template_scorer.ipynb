{
 "cells": [
  {
   "cell_type": "code",
   "execution_count": null,
   "id": "b877afaa-bc82-491a-a6fc-4163dba45c47",
   "metadata": {},
   "outputs": [],
   "source": [
    "from buildingmotif.dataclasses import Library\n",
    "from buildingmotif import BuildingMOTIF\n",
    "from buildingmotif.namespaces import BRICK, BACNET\n",
    "from buildingmotif.template_finder.template_finder import calculate_template_cost\n",
    "import pandas as pd\n"
   ]
  },
  {
   "cell_type": "code",
   "execution_count": null,
   "id": "e01bc284-871e-4d30-b2b0-f002070df92f",
   "metadata": {},
   "outputs": [],
   "source": [
    "bm = BuildingMOTIF(\"sqlite://\")\n",
    "pointlist = Library.load(directory=\"../../libraries/pointlist-test\")\n",
    "tstat_template = pointlist.get_template_by_name(\"tstat\")\n",
    "tstat_template.inline_dependencies()\n",
    "\n",
    "print(tstat_template.body.serialize(format=\"ttl\"))\n"
   ]
  },
  {
   "cell_type": "code",
   "execution_count": null,
   "id": "9aa47d11-6b9d-4757-9890-a4db7597105f",
   "metadata": {},
   "outputs": [],
   "source": [
    "tstat_param_classes = [\n",
    "    BRICK.Thermostat, \n",
    "    BRICK.Zone_Air_Temperature_Setpoint, \n",
    "    BRICK.Occupancy_Sensor, \n",
    "    BRICK.Zone_Air_Temperature_Sensor, \n",
    "    BACNET.BACnetDevice, \n",
    "    BRICK.Mode_Status, \n",
    "    BRICK.Mode_Command,\n",
    "]"
   ]
  },
  {
   "cell_type": "code",
   "execution_count": null,
   "id": "123293f7-d067-4f99-8e38-83f3ac324ae9",
   "metadata": {
    "scrolled": true
   },
   "outputs": [],
   "source": [
    "# perfect match\n",
    "cost = calculate_template_cost(tstat_param_classes, tstat_template)\n",
    "\n",
    "print(\"\\ncost:\", cost)"
   ]
  },
  {
   "cell_type": "code",
   "execution_count": null,
   "id": "1ece0733-c7ad-4ea8-9178-4e68a5316030",
   "metadata": {},
   "outputs": [],
   "source": [
    "# too specfic \n",
    "too_specfic = tstat_param_classes.copy()\n",
    "\n",
    "too_specfic.remove(BRICK.Mode_Command)\n",
    "too_specfic.append(BRICK.Automatic_Mode_Command)\n",
    "\n",
    "cost = calculate_template_cost(too_specfic, tstat_template)\n",
    "\n",
    "print(\"\\ncost:\", cost)"
   ]
  },
  {
   "cell_type": "code",
   "execution_count": null,
   "id": "e1e34382-245d-490c-b82b-2e596cde01a8",
   "metadata": {},
   "outputs": [],
   "source": [
    "# too vague \n",
    "too_vague = tstat_param_classes.copy()\n",
    "\n",
    "too_vague.remove(BRICK.Mode_Command)\n",
    "too_vague.append(BRICK.Command)\n",
    "\n",
    "cost = calculate_template_cost(too_vague, tstat_template)\n",
    "\n",
    "print(\"\\ncost:\", cost)"
   ]
  },
  {
   "cell_type": "code",
   "execution_count": null,
   "id": "7046ba6a-2585-497b-acee-5a08a964d455",
   "metadata": {},
   "outputs": [],
   "source": [
    "# bad param \n",
    "bad_param = tstat_param_classes.copy()\n",
    "\n",
    "bad_param.remove(BRICK.Mode_Command)\n",
    "bad_param.append(BRICK.Mode_Status)\n",
    "\n",
    "cost = calculate_template_cost(bad_param, tstat_template)\n",
    "\n",
    "print(\"\\ncost:\", cost)"
   ]
  },
  {
   "cell_type": "code",
   "execution_count": null,
   "id": "337fa051-50fc-4509-a2bd-646516193f3c",
   "metadata": {},
   "outputs": [],
   "source": [
    "# missing param / extra token\n",
    "missing_param = tstat_param_classes.copy()\n",
    "\n",
    "missing_param.append(BRICK.Command)\n",
    "\n",
    "cost = calculate_template_cost(missing_param, tstat_template)\n",
    "\n",
    "print(\"\\ncost:\", cost)\n"
   ]
  },
  {
   "cell_type": "code",
   "execution_count": null,
   "id": "c29d9f64-b3ba-4449-bfcd-af62cc8ca58c",
   "metadata": {},
   "outputs": [],
   "source": [
    "# extra param / missing token\n",
    "extra_param = tstat_param_classes.copy()\n",
    "\n",
    "extra_param.remove(BRICK.Mode_Command)\n",
    "\n",
    "cost = calculate_template_cost(extra_param, tstat_template)\n",
    "\n",
    "print(\"\\ncost:\", cost)"
   ]
  },
  {
   "cell_type": "code",
   "execution_count": null,
   "id": "00b64afc-f688-4aac-acd4-33c37aa94814",
   "metadata": {},
   "outputs": [],
   "source": []
  }
 ],
 "metadata": {
  "kernelspec": {
   "display_name": "Python 3 (ipykernel)",
   "language": "python",
   "name": "python3"
  },
  "language_info": {
   "codemirror_mode": {
    "name": "ipython",
    "version": 3
   },
   "file_extension": ".py",
   "mimetype": "text/x-python",
   "name": "python",
   "nbconvert_exporter": "python",
   "pygments_lexer": "ipython3",
   "version": "3.9.9"
  }
 },
 "nbformat": 4,
 "nbformat_minor": 5
}
