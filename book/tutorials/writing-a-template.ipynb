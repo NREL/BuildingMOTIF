{
 "cells": [
  {
   "cell_type": "code",
   "execution_count": null,
   "id": "e1da221a-574b-473f-93fa-7f73ba21e6b4",
   "metadata": {},
   "outputs": [],
   "source": [
    "from rdflib import Namespace, Graph\n",
    "from buildingmotif import BuildingMOTIF\n",
    "from buildingmotif.dataclasses import Model, Library"
   ]
  },
  {
   "cell_type": "markdown",
   "id": "e2b78372-bc1c-4082-bfdb-d81df91ed51c",
   "metadata": {},
   "source": [
    "This document walks through how to write some simple templates"
   ]
  },
  {
   "cell_type": "markdown",
   "id": "827c63d5-2ff3-435e-b2a7-327a211725f5",
   "metadata": {},
   "source": [
    "\n",
    "A template is a function that generates a graph. The template definition provides the structure of the graph and allows the content of the graph to be determined in part through the use of *parameters*. Parameters have a name (typically short and descriptive) and can be required or optional. Parameters are identified by their prefix: `urn:___param___#`\n",
    "\n",
    "Templates are most easily written as YAML documents. A YAML file can contain more than one template. The names of the templates are at the top level of the YAML file as \"keys\".  The associated values are the content of the template. Templates can have 3 fields:\n",
    "- `body`: a turtle-serialized graph defining the structure of what will be generated\n",
    "- `optional`: a list of parameters which are optional in the template evaluation. If not bound, they will be removed from the generated graph\n",
    "- `dependencies`: a list of dependencies on other templates\n",
    "\n",
    "To start, let's look at a simple example without optional params or dependencies:"
   ]
  },
  {
   "cell_type": "markdown",
   "id": "5e483fcc-4469-4f45-83df-326312f54ca0",
   "metadata": {},
   "source": [
    "## Basic Template Anatomy"
   ]
  },
  {
   "cell_type": "markdown",
   "id": "a37b9ca3-9f3f-4f6b-9be6-093f163a10af",
   "metadata": {},
   "source": [
    "```yaml\n",
    "my-thermostat:\n",
    "  body: >\n",
    "    @prefix P: <urn:___param___#> .\n",
    "    @prefix brick: <https://brickschema.org/schema/Brick#> .\n",
    "    P:name a brick:Thermostat ;\n",
    "        brick:hasLocation P:room .\n",
    "```"
   ]
  },
  {
   "cell_type": "markdown",
   "id": "39c426c1-5f6c-4fca-a3b8-7c01cdef443e",
   "metadata": {},
   "source": [
    "This template has two parameters: `name` and `room`. **All templates are required to have a `name` parameter.** This acts as the \"root\" of the template.\n",
    "\n",
    "The `my-thermostat` template describes the thermostat as having a location, but no further properties. We also don't know what kind of thing `P:room` should be bound to when the template is used. Let's address the second problem first by introducing a dependency\n",
    "\n",
    "```yaml\n",
    "my-thermostat:\n",
    "  body: >\n",
    "    @prefix P: <urn:___param___#> .\n",
    "    @prefix brick: <https://brickschema.org/schema/Brick#> .\n",
    "    P:name a brick:Thermostat ;\n",
    "        brick:hasLocation P:room .\n",
    "  dependencies:\n",
    "  - template: https://brickschema.org/schema/Brick#Room\n",
    "    library: https://brickschema.org/schema/1.3/Brick\n",
    "    args: {\"name\": \"room\"}\n",
    "```\n",
    "\n",
    "The `dependencies` key contains a list of documents which describe the dependencies of this template on other templates. The single entry above states that the `my-thermostat` template is dependent upon the `https://brickschema.org/schema/Brick#Room` template (automatically produced by importing the Brick ontology as a library), and the `name` parameter of the `Room` template is bound to the value of the `room` parameter in this template."
   ]
  },
  {
   "cell_type": "markdown",
   "id": "abd872ee-11e5-44a4-8820-b1d39ff83423",
   "metadata": {},
   "source": [
    "Let's now add another template to our library, which `my-thermostat` will also depend on, which defines some of the points we want to see on our thermostat:\n",
    "\n",
    "```yaml\n",
    "my-tstat-points:\n",
    "  body: >\n",
    "     @prefix P: <urn:___param___#> .\n",
    "    @prefix brick: <https://brickschema.org/schema/Brick#> .\n",
    "    P:name a brick:Thermostat ;\n",
    "        brick:hasPoint P:temp, P:sp, P:co2 .\n",
    "  dependencies:\n",
    "    - template: https://brickschema.org/schema/Brick#Temperature_Sensor\n",
    "      library: https://brickschema.org/schema/1.3/Brick\n",
    "      args: {\"name\": \"temp\"}\n",
    "    - template: https://brickschema.org/schema/Brick#Temperature_Setpoint\n",
    "      library: https://brickschema.org/schema/1.3/Brick\n",
    "      args: {\"name\": \"sp\"}\n",
    "    - template: https://brickschema.org/schema/Brick#CO2_Sensor\n",
    "      library: https://brickschema.org/schema/1.3/Brick\n",
    "      args: {\"name\": \"co2\"}\n",
    "```\n",
    "\n",
    "(There is syntax sugar for the above pattern)\n",
    "\n",
    "We can now have our original `my-thermostat` template *depend* on this template. By binding this template to the `name` paramter of our original template, we are essentially composing the two templates together.\n",
    "\n",
    "The full template library is now as follows:\n",
    "\n",
    "```yaml\n",
    "my-thermostat:\n",
    "  body: >\n",
    "    @prefix P: <urn:___param___#> .\n",
    "    @prefix brick: <https://brickschema.org/schema/Brick#> .\n",
    "    P:name a brick:Thermostat ;\n",
    "        brick:hasLocation P:room .\n",
    "  dependencies:\n",
    "  - template: https://brickschema.org/schema/Brick#Room\n",
    "    library: https://brickschema.org/schema/1.3/Brick\n",
    "    args: {\"name\": \"room\"}\n",
    "  - template: my-tstat-points\n",
    "    args: {\"name\": \"name\"}\n",
    "    \n",
    "my-tstat-points:\n",
    "  body: >\n",
    "    @prefix P: <urn:___param___#> .\n",
    "    @prefix brick: <https://brickschema.org/schema/Brick#> .\n",
    "    P:name a brick:Thermostat ;\n",
    "        brick:hasPoint P:temp, P:sp, P:co2 .\n",
    "  dependencies:\n",
    "    - template: https://brickschema.org/schema/Brick#Temperature_Sensor\n",
    "      library: https://brickschema.org/schema/1.3/Brick\n",
    "      args: {\"name\": \"temp\"}\n",
    "    - template: https://brickschema.org/schema/Brick#Temperature_Setpoint\n",
    "      library: https://brickschema.org/schema/1.3/Brick\n",
    "      args: {\"name\": \"sp\"}\n",
    "    - template: https://brickschema.org/schema/Brick#CO2_Sensor\n",
    "      library: https://brickschema.org/schema/1.3/Brick\n",
    "      args: {\"name\": \"co2\"}\n",
    "```"
   ]
  },
  {
   "cell_type": "markdown",
   "id": "2576233a-b63d-40cb-ad4c-9c7fded3d936",
   "metadata": {},
   "source": [
    "## Saving and Organizing Templates "
   ]
  },
  {
   "cell_type": "markdown",
   "id": "30814d49-bf84-4f19-b86b-f8b80f555c65",
   "metadata": {},
   "source": [
    "Templates are stored in the `YAML` format, which typically has a file suffix of `.yml` or `.yaml`\n",
    "\n",
    "Templates can be grouped into a `Library` by placing all of the templates in the same directory. The name of that directory is treated as the name of the Library. You can have as many YAML files inside the directory as you want, and the organization of templates among those YAML files can follow any principle you like.\n",
    "\n",
    "A few of our existing libraries follow different organizational principles:\n",
    "- The *Guideline 36* library divides templates into different files depending on the system configuration they correspond to\n",
    "- The *223P Components* library divides templates into different files depending on the kind of subsystem they are fore\n",
    "\n",
    "You can also organize templates by equipment manufacturer, application profiles, and so on.\n",
    "\n",
    "---\n",
    "\n",
    "For example, if we saved the YAML documenbt above into a `thermostat.yaml` file and placed that file into a `my-templates` directory, the file structure would look like this:\n",
    "\n",
    "```\n",
    "$ tree my-templates\n",
    "my-templates/\n",
    "└── thermostat.yaml\n",
    "```\n",
    "\n",
    "and the `my-templates` library (and the `my-thermostat` template) could be loaded into BuildingMOTIF as follows:\n",
    "\n",
    "```python\n",
    "lib = Library.load(directory=\"my-templates\")\n",
    "tstat_templ = lib.get_template_by_name(\"my-thermostat\")\n",
    "```"
   ]
  },
  {
   "cell_type": "code",
   "execution_count": null,
   "id": "32358dc4-dd58-4f51-bf95-a89b9444859c",
   "metadata": {},
   "outputs": [],
   "source": []
  }
 ],
 "metadata": {
  "kernelspec": {
   "display_name": "Python 3 (ipykernel)",
   "language": "python",
   "name": "python3"
  },
  "language_info": {
   "codemirror_mode": {
    "name": "ipython",
    "version": 3
   },
   "file_extension": ".py",
   "mimetype": "text/x-python",
   "name": "python",
   "nbconvert_exporter": "python",
   "pygments_lexer": "ipython3",
   "version": "3.9.12"
  }
 },
 "nbformat": 4,
 "nbformat_minor": 5
}
