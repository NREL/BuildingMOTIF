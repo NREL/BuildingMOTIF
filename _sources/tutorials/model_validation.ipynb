{
 "cells": [
  {
   "cell_type": "markdown",
   "id": "3fcd5f59",
   "metadata": {},
   "source": [
    "# Model Validation\n",
    "\n",
    "```{margin}\n",
    "```{important}\n",
    "This tutorial assumes that `BuildingMOTIF` has already been installed in the local environment.\n",
    "```\n",
    "\n",
    "The purpose of this tutorial is to learn about model *validation* and how BuildingMOTIF can give useful feedback for fixing a model that has failed validation. \n",
    "\n",
    "```{note}\n",
    "This tutorial has the following learning objectives:\n",
    "1. validating the model against an ***ontology*** to ensure that the model is a valid Brick model\n",
    "2. validating the model against a ***manifest***, which contains the metadata requirements for a specific model\n",
    "3. validating the model against a ***use case*** for a specific application\n",
    "```\n",
    "\n",
    "```{margin}\n",
    "```{note}\n",
    " `Shapes` are functions that validate part of an RDF model. A `Shape` is a set of constraints, requirements, and/or rules that apply to entities in an RDF graph. A shape may represent many things, including:\n",
    "- the minimum points on an equipment required to execute a certain sequence of operations,\n",
    "- the internal details of an equipment: what parts it contains, etc\n",
    "```\n",
    "\n",
    "Validating a model is the process of ensuring that the model is both *correct* (uses the ontologies correctly) and *semantically sufficient* (it contains sufficient metadata to execute the desired applications or enable the desired use cases). Validation is always done with respect to sets of `Shapes` using the Shapes Constraint Language (SHACL)[^1].\n",
    "\n",
    "[^1]: https://www.w3.org/TR/shacl/\n",
    "\n",
    "## Setup\n",
    "\n",
    "We create an in-memory BuildingMOTIF instance, load the model from the previous tutorial, and load some libraries to create the manifest with. The `constraints.ttl` library we load is a special library with some custom constraints defined that are helpful for writing manifests.\n",
    "\n",
    "```{margin}\n",
    "```{warning}\n",
    "Currently, libraries in `../../buildingmotif/libraries/` are *included* and libraries in `../../libraries/` are *excluded* from the [BuildingMOTIF Python package](https://pypi.org/project/buildingmotif/) (available by cloning, downloading, or forking the repository). See https://github.com/NREL/BuildingMOTIF/issues/133. \n",
    "```"
   ]
  },
  {
   "cell_type": "code",
   "execution_count": 1,
   "id": "86d28452",
   "metadata": {},
   "outputs": [],
   "source": [
    "from rdflib import Namespace\n",
    "from buildingmotif import BuildingMOTIF\n",
    "from buildingmotif.dataclasses import Model, Library\n",
    "from buildingmotif.namespaces import BRICK # import this to make writing URIs easier\n",
    "\n",
    "# in-memory instance\n",
    "bm = BuildingMOTIF(\"sqlite://\")\n",
    "\n",
    "# create the namespace for the building\n",
    "BLDG = Namespace('urn:bldg/')\n",
    "\n",
    "# create the building model\n",
    "model = Model.create(BLDG, description=\"This is a test model for a simple building\")\n",
    "\n",
    "# load tutorial 1 model\n",
    "model.graph.parse(\"tutorial1_model.ttl\", format=\"ttl\")\n",
    "\n",
    "# load libraries included with the python package\n",
    "constraints = Library.load(ontology_graph=\"../../buildingmotif/libraries/constraints/constraints.ttl\")\n",
    "\n",
    "# load libraries excluded from the python package (available from the repository)\n",
    "brick = Library.load(ontology_graph=\"../../libraries/brick/Brick-subset.ttl\")\n",
    "g36 = Library.load(directory=\"../../libraries/ashrae/guideline36\")"
   ]
  },
  {
   "cell_type": "markdown",
   "id": "ef14d921",
   "metadata": {},
   "source": [
    "## Model Validation - Ontology\n",
    "\n",
    "BuildingMOTIF organizes Shapes into `Shape Collections`. The shape collection associated with a library (if there is one) can be retrieved with the `get_shape_collection` property. Below, we use Brick's shape collection to ensure that the model is using Brick correctly:"
   ]
  },
  {
   "cell_type": "code",
   "execution_count": 2,
   "id": "9136a2d5",
   "metadata": {},
   "outputs": [
    {
     "name": "stdout",
     "output_type": "stream",
     "text": [
      "Model is valid? True\n"
     ]
    }
   ],
   "source": [
    "# pass a list of shape collections to .validate()\n",
    "validation_result = model.validate([brick.get_shape_collection()])\n",
    "print(f\"Model is valid? {validation_result.valid}\")"
   ]
  },
  {
   "cell_type": "markdown",
   "id": "2b5817b8",
   "metadata": {},
   "source": [
    "Success! The model is valid according to the Brick ontology.\n",
    "\n",
    "## Model Validation - Manifest\n",
    "\n",
    "### Writing a Manifest\n",
    "\n",
    "```{margin}\n",
    "```{note}\n",
    "A `manifest` is an RDF graph with a set of `Shapes` inside, which place constraints and requirements on what metadata must be contained within a metadata model. \n",
    "```\n",
    "\n",
    "For now, we will write a `manifest` file directly; in the future, BuildingMOTIF will contain features that make manifests easier to write. Here is the header of a manifest file. This should also suffice for most of your own manifests.\n",
    "\n",
    "```ttl\n",
    "@prefix brick: <https://brickschema.org/schema/Brick#> .\n",
    "@prefix owl: <http://www.w3.org/2002/07/owl#> .\n",
    "@prefix sh: <http://www.w3.org/ns/shacl#> .\n",
    "@prefix constraint: <https://nrel.gov/BuildingMOTIF/constraints#> .\n",
    "@prefix : <urn:my_site_constraints/> .\n",
    "\n",
    ": a owl:Ontology .\n",
    "```\n",
    "\n",
    "We will now add a constraint stating that the model should contain exactly 1 Brick AHU.\n",
    "\n",
    "```ttl\n",
    ":ahu-count a sh:NodeShape ;\n",
    "    sh:message \"need 1 AHU\" ;\n",
    "    sh:targetNode : ;\n",
    "    constraint:exactCount 1 ;\n",
    "    constraint:class brick:AHU .\n",
    "```\n",
    "\n",
    "This basic structure can be changed to require different numbers of different Brick classes. Just don't forget to change the name of the shape (`:ahu-count`, above) when you copy-paste!\n",
    "\n",
    "```{attention}\n",
    "As an exercise, try writing shapes that require the model to have the following.\n",
    "- (1) Brick Supply_Fan\n",
    "- (1) Brick Damper\n",
    "- (1) Brick Cooling_Coil\n",
    "- (1) Brick Heating_Coil\n",
    "```\n",
    "\n",
    "```{hint}\n",
    ":class: dropdown\n",
    "\n",
    "```ttl\n",
    ":fan-count a sh:NodeShape ;\n",
    "    sh:message \"need 1 supply fan\" ;\n",
    "    sh:targetNode : ;\n",
    "    constraint:exactCount 1 ;\n",
    "    constraint:class brick:Supply_Fan .\n",
    "\n",
    ":damper-count a sh:NodeShape ;\n",
    "    sh:message \"need 1 damper\" ;\n",
    "    sh:targetNode : ;\n",
    "    constraint:exactCount 1 ;\n",
    "    constraint:class brick:Damper .\n",
    "\n",
    ":clg-coil-count a sh:NodeShape ;\n",
    "    sh:message \"need 1 cooling coil\" ;\n",
    "    sh:targetNode : ;\n",
    "    constraint:exactCount 1 ;\n",
    "    constraint:class brick:Cooling_Coil .\n",
    "\n",
    ":htg-coil-count a sh:NodeShape ;\n",
    "    sh:message \"need 1 heating coil\" ;\n",
    "    sh:targetNode : ;\n",
    "    constraint:exactCount 1 ;\n",
    "    constraint:class brick:Heating_Coil .\n",
    "```\n",
    "\n",
    "<!-- We can now add a shape that requires *all* AHUs in the model to match the `sz-vav-ahu` system specification we find above:\n",
    "\n",
    "```ttl\n",
    ":sz-vav-ahu-control-sequences a sh:NodeShape ;\n",
    "    sh:message \"AHUs must match the single-zone VAV AHU shape\" ;\n",
    "    sh:targetClass brick:AHU ;\n",
    "    sh:node <urn:ashrae/g36/4.8/sz-vav-ahu/sz-vav-ahu> .\n",
    "``` -->\n",
    "\n",
    "Put all of the above in a new file called `tutorial2_manifest.ttl`. We'll also add a shape called `sz-vav-ahu-control-sequences`, which is a use case shape to validate the model against in the next section."
   ]
  },
  {
   "cell_type": "code",
   "execution_count": 3,
   "id": "42795a0b",
   "metadata": {},
   "outputs": [],
   "source": [
    "with open(\"tutorial2_manifest.ttl\", \"w\") as f:\n",
    "    f.write(\"\"\"\n",
    "@prefix brick: <https://brickschema.org/schema/Brick#> .\n",
    "@prefix owl: <http://www.w3.org/2002/07/owl#> .\n",
    "@prefix sh: <http://www.w3.org/ns/shacl#> .\n",
    "@prefix constraint: <https://nrel.gov/BuildingMOTIF/constraints#> .\n",
    "@prefix : <urn:my_site_constraints/> .\n",
    "\n",
    ": a owl:Ontology .\n",
    "\n",
    ":ahu-count a sh:NodeShape ;\n",
    "    sh:message \"need 1 AHU\" ;\n",
    "    sh:targetNode : ;\n",
    "    constraint:exactCount 1 ;\n",
    "    constraint:class brick:AHU .\n",
    "\n",
    ":fan-count a sh:NodeShape ;\n",
    "    sh:message \"need 1 supply fan\" ;\n",
    "    sh:targetNode : ;\n",
    "    constraint:exactCount 1 ;\n",
    "    constraint:class brick:Supply_Fan .\n",
    "\n",
    ":damper-count a sh:NodeShape ;\n",
    "    sh:message \"need 1 damper\" ;\n",
    "    sh:targetNode : ;\n",
    "    constraint:exactCount 1 ;\n",
    "    constraint:class brick:Damper .\n",
    "\n",
    ":clg-coil-count a sh:NodeShape ;\n",
    "    sh:message \"need 1 cooling coil\" ;\n",
    "    sh:targetNode : ;\n",
    "    constraint:exactCount 1 ;\n",
    "    constraint:class brick:Cooling_Coil .\n",
    "\n",
    ":htg-coil-count a sh:NodeShape ;\n",
    "    sh:message \"need 1 heating coil\" ;\n",
    "    sh:targetNode : ;\n",
    "    constraint:exactCount 1 ;\n",
    "    constraint:class brick:Heating_Coil .\n",
    "\n",
    ":sz-vav-ahu-control-sequences a sh:NodeShape ;\n",
    "    sh:message \"AHUs must match the single-zone VAV AHU shape\" ;\n",
    "    sh:targetClass brick:AHU ;\n",
    "    sh:node <urn:ashrae/g36/4.8/sz-vav-ahu/sz-vav-ahu> .\n",
    "\"\"\")"
   ]
  },
  {
   "cell_type": "markdown",
   "id": "041ca391",
   "metadata": {},
   "source": [
    "### Validating the Model\n",
    "\n",
    "We can now ask BuildingMOTIF to validate the model against the manifest and ask BuildingMOTIF for some details if it fails. We also have to be sure to include the supporting shape collections containing the definitions used in the manifest."
   ]
  },
  {
   "cell_type": "code",
   "execution_count": 4,
   "id": "1ea3e271",
   "metadata": {},
   "outputs": [
    {
     "name": "stdout",
     "output_type": "stream",
     "text": [
      "Model is valid? False\n"
     ]
    },
    {
     "name": "stdout",
     "output_type": "stream",
     "text": [
      " - Graph did not have 1 instances of https://brickschema.org/schema/Brick#Heating_Coil\n",
      " - urn:bldg/Core_ZN-PSC_AC needs between 1 and 1 instances of urn:ashrae/g36/4.8/sz-vav-ahu/sa-fan on path https://brickschema.org/schema/Brick#hasPart\n"
     ]
    }
   ],
   "source": [
    "# load manifest into BuildingMOTIF as its own library!\n",
    "manifest = Library.load(ontology_graph=\"tutorial2_manifest.ttl\")\n",
    "\n",
    "# gather shape collections into a list for ease of use\n",
    "shape_collections = [\n",
    "    brick.get_shape_collection(),\n",
    "    constraints.get_shape_collection(),\n",
    "    manifest.get_shape_collection(),\n",
    "    g36.get_shape_collection(),\n",
    "]\n",
    "\n",
    "# pass a list of shape collections to .validate()\n",
    "validation_result = model.validate(shape_collections)\n",
    "print(f\"Model is valid? {validation_result.valid}\")\n",
    "\n",
    "# print reasons\n",
    "for diff in validation_result.diffset:\n",
    "    print(f\" - {diff.reason()}\")"
   ]
  },
  {
   "cell_type": "markdown",
   "id": "74a4c932",
   "metadata": {},
   "source": [
    "### Fixing the Model\n",
    "\n",
    "The model is failing because we don't have a heating coil required by the manifest, which we forgot to add in the previous tutorial. It's also failing the use case validation, which we'll cover in the next section. To fix the manifest validation, use the equipment templates in the Brick library to create a heating coil, add it to the model, and connect it to the AHU using RDFLib's `graph.add()` method."
   ]
  },
  {
   "cell_type": "code",
   "execution_count": 5,
   "id": "113d2116",
   "metadata": {},
   "outputs": [
    {
     "name": "stdout",
     "output_type": "stream",
     "text": [
      "@prefix brick: <https://brickschema.org/schema/Brick#> .\n",
      "@prefix owl: <http://www.w3.org/2002/07/owl#> .\n",
      "\n",
      "<urn:bldg/> a owl:Ontology .\n",
      "\n",
      "<urn:bldg/Core_ZN-PSC_AC> a brick:AHU ;\n",
      "    brick:hasPart <urn:bldg/Core_ZN-PSC_AC-Clg_Coil>,\n",
      "        <urn:bldg/Core_ZN-PSC_AC-Damper>,\n",
      "        <urn:bldg/Core_ZN-PSC_AC-Fan>,\n",
      "        <urn:bldg/Core_ZN-PSC_AC-Htg_Coil> .\n",
      "\n",
      "<urn:bldg/Core_ZN-PSC_AC-Clg_Coil> a brick:Cooling_Coil .\n",
      "\n",
      "<urn:bldg/Core_ZN-PSC_AC-Damper> a brick:Damper .\n",
      "\n",
      "<urn:bldg/Core_ZN-PSC_AC-Fan> a brick:Supply_Fan .\n",
      "\n",
      "<urn:bldg/Core_ZN-PSC_AC-Htg_Coil> a brick:Heating_Coil .\n",
      "\n",
      "\n"
     ]
    }
   ],
   "source": [
    "# ahu name\n",
    "ahu_name = \"Core_ZN-PSC_AC\"\n",
    "\n",
    "# get template\n",
    "htg_coil_template = brick.get_template_by_name(BRICK.Heating_Coil)\n",
    "\n",
    "# add htg coil\n",
    "htg_coil_name = f\"{ahu_name}-Htg_Coil\"\n",
    "htg_coil_binding = {\"name\": BLDG[htg_coil_name]}\n",
    "htg_coil_graph = htg_coil_template.evaluate(htg_coil_binding)\n",
    "model.add_graph(htg_coil_graph)\n",
    "\n",
    "# connect htg coil\n",
    "model.graph.add((BLDG[ahu_name], BRICK.hasPart, BLDG[htg_coil_name]))\n",
    "\n",
    "# print model to confirm component was added and connected\n",
    "print(model.graph.serialize())"
   ]
  },
  {
   "cell_type": "markdown",
   "id": "fff56ba6",
   "metadata": {},
   "source": [
    "We can see that the heating coil was added to the model and connected to the AHU so let's check if the manifest validation failure was fixed."
   ]
  },
  {
   "cell_type": "code",
   "execution_count": 6,
   "id": "423cbce7",
   "metadata": {},
   "outputs": [
    {
     "name": "stdout",
     "output_type": "stream",
     "text": [
      "Model is valid? False\n"
     ]
    },
    {
     "name": "stdout",
     "output_type": "stream",
     "text": [
      " - urn:bldg/Core_ZN-PSC_AC needs between 1 and 1 instances of urn:ashrae/g36/4.8/sz-vav-ahu/sa-fan on path https://brickschema.org/schema/Brick#hasPart\n"
     ]
    }
   ],
   "source": [
    "# pass a list of shape collections to .validate()\n",
    "validation_result = model.validate(shape_collections)\n",
    "print(f\"Model is valid? {validation_result.valid}\")\n",
    "\n",
    "# print reasons\n",
    "for diff in validation_result.diffset:\n",
    "    print(f\" - {diff.reason()}\")"
   ]
  },
  {
   "cell_type": "markdown",
   "id": "652e6b36",
   "metadata": {},
   "source": [
    "Success! The model is no longer failing the manifest validation.\n",
    "\n",
    "## Model Validation - Use Case \n",
    "\n",
    "### Finding Use Case Shapes\n",
    "\n",
    "We can use a couple methods to search the libraries for shapes we might want to use. Let's start by asking the `g36` library for any system specifications it knows about. This library represents *ASHRAE Guideline 36 High-Performance Sequences of Operation for HVAC Systems*[^2]. A system specification will specify all of the metadata required for an entity to run control sequences associated with that system type.\n",
    "\n",
    "[^2]: https://www.ashrae.org/technical-resources/ashrae-standards-and-guidelines"
   ]
  },
  {
   "cell_type": "code",
   "execution_count": 7,
   "id": "033f9369",
   "metadata": {},
   "outputs": [
    {
     "name": "stdout",
     "output_type": "stream",
     "text": [
      "urn:ashrae/g36/4.8/sz-vav-ahu/sz-vav-ahu\n",
      "urn:ashrae/g36/4.2/vav-with-reheat/vav-with-reheat\n",
      "urn:ashrae/g36/4.5/dual-duct-terminal-unit-with-discharge/terminal-unit\n",
      "urn:ashrae/g36/4.4/dual-duct-terminal-unit-with-inlet-sensors/terminal-unit\n",
      "urn:ashrae/g36/4.3/fan-powered/terminal-unit\n",
      "urn:ashrae/g36/4.3/fan-powered/fan\n",
      "urn:ashrae/g36/4.3/fan-powered/damper\n",
      "urn:ashrae/g36/4.1/vav-cooling-only/vav-cooling-only\n",
      "urn:ashrae/g36/components/cooling_damper\n",
      "urn:ashrae/g36/components/heating_damper\n",
      "urn:ashrae/g36/4.6/mz-vav-ahu/AHU\n",
      "urn:ashrae/g36/4.6/mz-vav-ahu/supply-fan\n",
      "urn:ashrae/g36/4.6/mz-vav-ahu/return-damper\n",
      "urn:ashrae/g36/4.6/mz-vav-ahu/heating-coil\n",
      "urn:ashrae/g36/4.6/mz-vav-ahu/cooling-coil\n"
     ]
    }
   ],
   "source": [
    "from buildingmotif.namespaces import BMOTIF\n",
    "shapes = g36.get_shape_collection()\n",
    "for shape in shapes.get_shapes_of_definition_type(BMOTIF[\"System_Specification\"]):\n",
    "    print(shape)"
   ]
  },
  {
   "cell_type": "markdown",
   "id": "3da2cd0b",
   "metadata": {},
   "source": [
    "The model represents the Small Office Commercial Prototype Building model, which has single zone packaged AHUs, so we're interested in validating it against Section 4.8 of Guideline 36 for single zone variable air volume (VAV) AHUs. \n",
    "\n",
    "<!-- Let's append a reference to that shape in the manifest file.\n",
    "```{code-cell}\n",
    "with open(\"tutorial2_manifest.ttl\", \"a\") as f:\n",
    "    f.write(\"\"\"\n",
    ":sz-vav-ahu-control-sequences a sh:NodeShape ;\n",
    "    sh:message \"AHUs must match the single-zone VAV AHU shape\" ;\n",
    "    sh:targetClass brick:AHU ;\n",
    "    sh:node <urn:ashrae/g36/4.8/sz-vav-ahu/sz-vav-ahu> .\n",
    "\"\"\")\n",
    "``` -->\n",
    "\n",
    "### Validating the Model\n",
    "\n",
    "<!-- We can now borrow the same code from before and re-run it to re-validate the model:\n",
    "\n",
    "```{code-cell}\n",
    "# load manifest into BuildingMOTIF as its own library!\n",
    "manifest = Library.load(ontology_graph=\"tutorial2_manifest.ttl\")\n",
    "\n",
    "# gather these into a list for ease of use\n",
    "shape_collections = [\n",
    "    brick.get_shape_collection(),\n",
    "    constraints.get_shape_collection(),\n",
    "    manifest.get_shape_collection(),\n",
    "    g36.get_shape_collection(),\n",
    "]\n",
    "\n",
    "# pass a list of shape collections to .validate()\n",
    "validation_result = model.validate(shape_collections)\n",
    "print(f\"Model is valid? {validation_result.valid}\")\n",
    "``` -->\n",
    "As shown in the previous section, the AHU fails validation because it doesn't match the `sz-vav-ahu-control-sequences` requirements. Take a look at the first bit of output, which is the official SHACL validation report text format. These aren't very understandable but BuildingMOTIF can make this output more interpretable!"
   ]
  },
  {
   "cell_type": "code",
   "execution_count": 8,
   "id": "48376b6d",
   "metadata": {},
   "outputs": [
    {
     "name": "stdout",
     "output_type": "stream",
     "text": [
      "Validation Report\n",
      "Conforms: False\n",
      "Results (1):\n",
      "Constraint Violation in QualifiedValueShapeConstraintComponent (http://www.w3.org/ns/shacl#QualifiedMinCountConstraintComponent):\n",
      "\tSeverity: sh:Violation\n",
      "\tSource Shape: [ sh:path brick:hasPart ; sh:qualifiedMaxCount Literal(\"1\", datatype=xsd:integer) ; sh:qualifiedMinCount Literal(\"1\", datatype=xsd:integer) ; sh:qualifiedValueShape [ sh:node <urn:ashrae/g36/4.8/sz-vav-ahu/sa-fan> ] ]\n",
      "\tFocus Node: <urn:bldg/Core_ZN-PSC_AC>\n",
      "\tResult Path: brick:hasPart\n",
      "\n",
      "-------------------------------------------------------------------------------\n",
      "Model is invalid for these reasons:\n",
      " - urn:bldg/Core_ZN-PSC_AC needs between 1 and 1 instances of urn:ashrae/g36/4.8/sz-vav-ahu/sa-fan on path https://brickschema.org/schema/Brick#hasPart\n"
     ]
    }
   ],
   "source": [
    "# SHACL validation report\n",
    "print(validation_result.report_string)\n",
    "\n",
    "# separator\n",
    "print(\"-\"*79)\n",
    "\n",
    "# BuildingMOTIF output\n",
    "print(\"Model is invalid for these reasons:\")\n",
    "for diff in validation_result.diffset:\n",
    "    print(f\" - {diff.reason()}\")"
   ]
  },
  {
   "cell_type": "markdown",
   "id": "cfd37c07",
   "metadata": {},
   "source": [
    "The model is failing because the AHU doesn't have the minimum number of supply fans associated with it. We *could* add the fan explicitly by adding those triples to the model like we've done previously, but we can also ask BuildingMOTIF to generate new templates that explicitly prompt us for the missing information. We'll cover this feature in the next tutorial so let's save the model."
   ]
  },
  {
   "cell_type": "code",
   "execution_count": 9,
   "id": "90618121",
   "metadata": {},
   "outputs": [
    {
     "data": {
      "text/plain": [
       "<Graph identifier=9335cfb3-38ca-4033-b210-7470c72b22d7 (<class 'rdflib.graph.Graph'>)>"
      ]
     },
     "execution_count": 9,
     "metadata": {},
     "output_type": "execute_result"
    }
   ],
   "source": [
    "#save model\n",
    "model.graph.serialize(destination=\"tutorial2_model.ttl\")"
   ]
  }
 ],
 "metadata": {
  "jupytext": {
   "cell_metadata_filter": "-all",
   "formats": "md:myst",
   "text_representation": {
    "extension": ".md",
    "format_name": "myst"
   }
  },
  "kernelspec": {
   "display_name": "Python 3",
   "language": "python",
   "name": "python3"
  },
  "language_info": {
   "codemirror_mode": {
    "name": "ipython",
    "version": 3
   },
   "file_extension": ".py",
   "mimetype": "text/x-python",
   "name": "python",
   "nbconvert_exporter": "python",
   "pygments_lexer": "ipython3",
   "version": "3.10.4"
  },
  "source_map": [
   12,
   50,
   74,
   80,
   84,
   169,
   215,
   221,
   240,
   246,
   264,
   268,
   276,
   288,
   293,
   330,
   341,
   345
  ]
 },
 "nbformat": 4,
 "nbformat_minor": 5
}