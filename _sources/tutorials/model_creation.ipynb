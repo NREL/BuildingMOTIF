{
 "cells": [
  {
   "cell_type": "markdown",
   "id": "dd66a36d",
   "metadata": {},
   "source": [
    "# Model Creation\n",
    "\n",
    "```{margin}\n",
    "```{important}\n",
    "This tutorial assumes that `BuildingMOTIF` has already been installed in the local environment.\n",
    "```\n",
    "\n",
    "The purpose of this tutorial is to learn about a few of the basic features of BuildingMOTIF by creating a Brick model similar to the Small Office Commercial Prototype Building model[^1]. It assumes that the reader has some familiarity with the Turtle syntax[^2] for Resource Description Framework (RDF) graphs[^3].\n",
    "\n",
    "```{note}\n",
    "This tutorial has the following learning objectives:\n",
    "1. creating a BuildingMOTIF model *instance* and `Model`\n",
    "2. loading `Libraries` into a BuildingMOTIF instance\n",
    "3. adding to a model by *evaluating* `Templates`\n",
    "```\n",
    "\n",
    "[^1]: https://www.energycodes.gov/prototype-building-models#Commercial\n",
    "[^2]: https://www.w3.org/TR/turtle/\n",
    "[^3]: https://www.w3.org/RDF/\n",
    "\n",
    "## Creating a Model\n",
    "\n",
    "BuildingMOTIF needs a database to store models, libraries, templates, ontologies, and other data. This database can be *in-memory* (which will be deleted when the process ends) or *persistent*. For simplicity, we will start with an in-memory database where `bm` represents a BuildingMOTIF instance."
   ]
  },
  {
   "cell_type": "code",
   "execution_count": 1,
   "id": "fd34f8d0",
   "metadata": {},
   "outputs": [],
   "source": [
    "from buildingmotif import BuildingMOTIF\n",
    "bm = BuildingMOTIF(\"sqlite://\") # in-memory instance"
   ]
  },
  {
   "cell_type": "markdown",
   "id": "90dc5af8",
   "metadata": {},
   "source": [
    "```{margin}\n",
    "```{note}\n",
    "A `Model` is an RDF graph representing part or all of a building.\n",
    "```\n",
    "\n",
    "Now that we have a BuildingMOTIF instance, we can create a `Model`. Creating a model requires importing the `Model` class, creating an RDF namespace to hold all of the entities in the model, and telling BuildingMOTIF to create a new model with that namespace. The namespace is a URL used to uniquely identify the model."
   ]
  },
  {
   "cell_type": "code",
   "execution_count": 2,
   "id": "61338735",
   "metadata": {},
   "outputs": [],
   "source": [
    "from rdflib import Namespace\n",
    "from buildingmotif.dataclasses import Model\n",
    "\n",
    "# create the namespace\n",
    "BLDG = Namespace('urn:bldg/')\n",
    "\n",
    "# Create the model! This will raise an exception if the namespace is not syntactically valid.\n",
    "model = Model.create(BLDG, description=\"This is a test model for a simple building\") "
   ]
  },
  {
   "cell_type": "markdown",
   "id": "69398165",
   "metadata": {},
   "source": [
    "We can print out the contents of the model by accessing the `.graph` property of the model object. Printing this out reveals that BuildingMOTIF has added a couple annotations to the model for us, but there is otherwise no metadata about the building itself:"
   ]
  },
  {
   "cell_type": "code",
   "execution_count": 3,
   "id": "8fbab6dc",
   "metadata": {},
   "outputs": [
    {
     "name": "stdout",
     "output_type": "stream",
     "text": [
      "@prefix owl: <http://www.w3.org/2002/07/owl#> .\n",
      "\n",
      "<urn:bldg/> a owl:Ontology .\n",
      "\n",
      "\n"
     ]
    }
   ],
   "source": [
    "print(model.graph.serialize())"
   ]
  },
  {
   "cell_type": "markdown",
   "id": "16be79c5",
   "metadata": {},
   "source": [
    "The `model.graph` object is just the RDFLib Graph[^4] that stores the model. You can interact with the graph by adding triples with `model.graph.add((subject, predicate, object))` but as we will soon see, BuildingMOTIF can automate some of that!\n",
    "\n",
    "[^4]: https://rdflib.readthedocs.io/\n",
    "\n",
    "## Loading Libraries\n",
    "\n",
    "```{margin}\n",
    "```{note}\n",
    "`Libraries` are collections of Templates and Shapes.\n",
    "```\n",
    "\n",
    "Before we can add semantic metadata to the model, we need to import some `Libraries`. We import libraries by calling `Library.load` in BuildingMOTIF. Libraries can be loaded from directories containing `.yml` and `.ttl` files (for Templates and Shapes, respectively), or from ontology files directly. The code below contains an example of importing the `brick` library, which is simply the Brick ontology. This allows BuildingMOTIF to take advantage of the classes and relationships defined by Brick when validating the model. Loading in these definitions also allows other libraries to refer to Brick definitions. You can also ask a library for the names of the templates it defines, which we'll limit to the first ten below."
   ]
  },
  {
   "cell_type": "code",
   "execution_count": 4,
   "id": "49ab1a32",
   "metadata": {},
   "outputs": [
    {
     "name": "stdout",
     "output_type": "stream",
     "text": [
      "The Brick library contains the following templates:\n"
     ]
    },
    {
     "name": "stdout",
     "output_type": "stream",
     "text": [
      "  - https://brickschema.org/schema/Brick#Differential_Speed_Sensor\n",
      "  - https://brickschema.org/schema/Brick#Frequency_Command\n",
      "  - https://brickschema.org/schema/Brick#High_Static_Pressure_Cutout_Setpoint_Limit\n",
      "  - https://brickschema.org/schema/Brick#Intake_Air_Temperature_Sensor\n",
      "  - https://brickschema.org/schema/Brick#Leaving_Condenser_Water_Temperature_Sensor\n",
      "  - https://brickschema.org/schema/Brick#Min_Position_Setpoint_Limit\n",
      "  - https://brickschema.org/schema/Brick#Operating_Mode_Status\n",
      "  - https://brickschema.org/schema/Brick#Humidity_Alarm\n",
      "  - https://brickschema.org/schema/Brick#Hot_Water_System_Enable_Command\n",
      "  - https://brickschema.org/schema/Brick#Supply_Water_Differential_Pressure_Proportional_Band_Parameter\n"
     ]
    }
   ],
   "source": [
    "# load a library\n",
    "from buildingmotif.dataclasses import Library\n",
    "brick = Library.load(ontology_graph=\"../../libraries/brick/Brick-subset.ttl\")\n",
    "\n",
    "# print the first 10 templates\n",
    "print(\"The Brick library contains the following templates:\")\n",
    "for template in brick.get_templates()[:10]:\n",
    "    print(f\"  - {template.name}\")"
   ]
  },
  {
   "cell_type": "markdown",
   "id": "92741942",
   "metadata": {},
   "source": [
    "## Adding to a Model with Templates\n",
    "\n",
    "### Exploring a Template\n",
    "\n",
    "```{margin}\n",
    "```{note}\n",
    "`Templates` are functions that generate parts of an RDF model.\n",
    "```\n",
    "\n",
    "`Templates` make it easy to add metadata to a model without having to touch any RDF at all by generating parts of an RDF graph. This graph may represent a simple device like a fan, a complex entity like a chilled water system, or other parts of a building. The *body* of a template contains the basic structure of the graph representing that entity. Typically, a template defines several *parameters* that represent user-provided input necessary to create that entity in the model.\n",
    "\n",
    "Let's start with the template for an air handling unit (AHU) from the `brick` library, which we can fetch out of the library by referring to it by name. Then, let's ask the template for the parameters it defines."
   ]
  },
  {
   "cell_type": "code",
   "execution_count": 5,
   "id": "213786ca",
   "metadata": {},
   "outputs": [
    {
     "name": "stdout",
     "output_type": "stream",
     "text": [
      "The template has the following parameters:\n",
      "  name\n"
     ]
    }
   ],
   "source": [
    "# import this to make writing URIs easier\n",
    "from buildingmotif.namespaces import BRICK\n",
    "\n",
    "# get template\n",
    "ahu_template = brick.get_template_by_name(BRICK.AHU)\n",
    "\n",
    "# print template parameters\n",
    "print(\"The template has the following parameters:\")\n",
    "for param in ahu_template.parameters:\n",
    "    print(f\"  {param}\")"
   ]
  },
  {
   "cell_type": "markdown",
   "id": "721fcd45",
   "metadata": {},
   "source": [
    "All templates have a mandatory `name` parameter. We can also print out the body of the template to see how those parameters will be used. Any URI that starts with a `p:` is a parameter."
   ]
  },
  {
   "cell_type": "code",
   "execution_count": 6,
   "id": "2ccee422",
   "metadata": {},
   "outputs": [
    {
     "name": "stdout",
     "output_type": "stream",
     "text": [
      "@prefix brick: <https://brickschema.org/schema/Brick#> .\n",
      "\n",
      "<urn:___param___#name> a brick:AHU .\n",
      "\n",
      "\n"
     ]
    }
   ],
   "source": [
    "print(ahu_template.body.serialize())"
   ]
  },
  {
   "cell_type": "markdown",
   "id": "95e6cd4c",
   "metadata": {},
   "source": [
    "### Evaluating a Template\n",
    "\n",
    "```{margin}\n",
    "```{note}\n",
    "For now, provide all of the parameters to the Template when evaluating. BuildingMOTIF does support partial evaluation of Templates but this is not necessary to understand or use when starting out.\n",
    "```\n",
    "\n",
    "Now that we know what the template looks like and what parameters it needs, we can *evaluate* the Template. *Evaluation* is the process of turning a template into a graph that can be added to a model. We accomplish this with the `evaluate` function, which takes a dictionary of *bindings* as an argument. Bindings relate a parameter in the template to a value (typically a URI in your building's namespace). Put another way, the *keys* of the dictionary are the names of the parameters and the *values* of the dictionary are what will replace that parameter in the template's body.\n",
    "\n",
    "Let's create an AHU named *Core_ZN-PSZ_AC*, which represents the core zone's packaged single zone air conditioner in the Small Office model, and take a look at the result of evaluating the template.\n",
    "\n",
    "```{margin}\n",
    "```{note}\n",
    "When creating a real Brick model, you would use BMS point names, equipment schedules, etc. to determine the correct names of these entities. Other tutorials will cover how to use BuildingMOTIF with these kinds of metadata sources.\n",
    "```"
   ]
  },
  {
   "cell_type": "code",
   "execution_count": 7,
   "id": "7f075cfe",
   "metadata": {},
   "outputs": [
    {
     "name": "stdout",
     "output_type": "stream",
     "text": [
      "@prefix brick: <https://brickschema.org/schema/Brick#> .\n",
      "\n",
      "<urn:bldg/Core_ZN-PSC_AC> a brick:AHU .\n",
      "\n",
      "\n"
     ]
    }
   ],
   "source": [
    "ahu_name = \"Core_ZN-PSC_AC\"\n",
    "ahu_binding_dict = {\"name\": BLDG[ahu_name]}\n",
    "ahu_graph = ahu_template.evaluate(ahu_binding_dict)\n",
    "\n",
    "# ahu_graph is just an instance of rdflib.Graph\n",
    "print(ahu_graph.serialize())"
   ]
  },
  {
   "cell_type": "markdown",
   "id": "abab036b",
   "metadata": {},
   "source": [
    "### Adding Evaluated Templates to the Model\n",
    "\n",
    "```{margin}\n",
    "```{note}\n",
    "If using a persistent (disk-backed) instance of BuildingMOTIF instead of an in-memory instance, be sure to use `bm.session.commit()` to save your work after calling `add_graph`.\n",
    "```\n",
    "\n",
    "Now that we have an RDF graph representing an AHU, let's add it to the model using the `add_graph` function."
   ]
  },
  {
   "cell_type": "code",
   "execution_count": 8,
   "id": "90abee30",
   "metadata": {},
   "outputs": [
    {
     "name": "stdout",
     "output_type": "stream",
     "text": [
      "@prefix brick: <https://brickschema.org/schema/Brick#> .\n",
      "@prefix owl: <http://www.w3.org/2002/07/owl#> .\n",
      "\n",
      "<urn:bldg/> a owl:Ontology .\n",
      "\n",
      "<urn:bldg/Core_ZN-PSC_AC> a brick:AHU .\n",
      "\n",
      "\n"
     ]
    }
   ],
   "source": [
    "model.add_graph(ahu_graph)\n",
    "print(model.graph.serialize())"
   ]
  },
  {
   "cell_type": "markdown",
   "id": "f1cf5a39",
   "metadata": {},
   "source": [
    "Next, we'll add some of the AHU's components (a fan, a damper, and a cooling coil) to the model using Templates. Then we'll connect the components to the AHU using RDFLib's `graph.add((subject, predicate, object))` method."
   ]
  },
  {
   "cell_type": "code",
   "execution_count": 9,
   "id": "19930b13",
   "metadata": {},
   "outputs": [
    {
     "name": "stdout",
     "output_type": "stream",
     "text": [
      "@prefix brick: <https://brickschema.org/schema/Brick#> .\n",
      "@prefix owl: <http://www.w3.org/2002/07/owl#> .\n",
      "\n",
      "<urn:bldg/> a owl:Ontology .\n",
      "\n",
      "<urn:bldg/Core_ZN-PSC_AC> a brick:AHU ;\n",
      "    brick:hasPart <urn:bldg/Core_ZN-PSC_AC-Clg_Coil>,\n",
      "        <urn:bldg/Core_ZN-PSC_AC-Damper>,\n",
      "        <urn:bldg/Core_ZN-PSC_AC-Fan> .\n",
      "\n",
      "<urn:bldg/Core_ZN-PSC_AC-Clg_Coil> a brick:Cooling_Coil .\n",
      "\n",
      "<urn:bldg/Core_ZN-PSC_AC-Damper> a brick:Damper .\n",
      "\n",
      "<urn:bldg/Core_ZN-PSC_AC-Fan> a brick:Supply_Fan .\n",
      "\n",
      "\n"
     ]
    }
   ],
   "source": [
    "# templates\n",
    "oa_ra_damper_template = brick.get_template_by_name(BRICK.Damper)\n",
    "fan_template = brick.get_template_by_name(BRICK.Supply_Fan)\n",
    "clg_coil_template = brick.get_template_by_name(BRICK.Cooling_Coil)\n",
    "\n",
    "# add fan\n",
    "fan_name = f\"{ahu_name}-Fan\"\n",
    "fan_binding_dict = {\"name\": BLDG[fan_name]}\n",
    "fan_graph = fan_template.evaluate(fan_binding_dict)\n",
    "model.add_graph(fan_graph)\n",
    "\n",
    "# add outdoor air/return air damper\n",
    "oa_ra_damper_name = f\"{ahu_name}-Damper\"\n",
    "oa_ra_damper_binding_dict = {\"name\": BLDG[oa_ra_damper_name]}\n",
    "oa_ra_damper_graph = oa_ra_damper_template.evaluate(oa_ra_damper_binding_dict)\n",
    "model.add_graph(oa_ra_damper_graph)\n",
    "\n",
    "# add clg coil\n",
    "clg_coil_name = f\"{ahu_name}-Clg_Coil\"\n",
    "clg_coil_binding_dict = {\"name\": BLDG[clg_coil_name]}\n",
    "clg_coil_graph = clg_coil_template.evaluate(clg_coil_binding_dict)\n",
    "model.add_graph(clg_coil_graph)\n",
    "\n",
    "# connect fan, damper, and clg coil to AHU\n",
    "model.graph.add((BLDG[ahu_name], BRICK.hasPart, BLDG[oa_ra_damper_name]))\n",
    "model.graph.add((BLDG[ahu_name], BRICK.hasPart, BLDG[fan_name]))\n",
    "model.graph.add((BLDG[ahu_name], BRICK.hasPart, BLDG[clg_coil_name]))\n",
    "\n",
    "# print model to confirm components were added and connected\n",
    "print(model.graph.serialize())"
   ]
  },
  {
   "cell_type": "markdown",
   "id": "5745235f",
   "metadata": {},
   "source": [
    "```{attention}\n",
    "If you want some additional practice, try writing some Python code that adds a Brick `Heating_Coil` to the model and connects it to the AHU.\n",
    "```\n",
    "\n",
    "```{hint}\n",
    ":class: dropdown\n",
    "\n",
    "```python\n",
    "# get template\n",
    "htg_coil_template = brick.get_template_by_name(BRICK.Heating_Coil)\n",
    "\n",
    "# add htg coil\n",
    "htg_coil_name = f\"{ahu_name}-Htg_Coil\"\n",
    "htg_coil_binding = {\"name\": BLDG[htg_coil_name]}\n",
    "htg_coil_graph = htg_coil_template.evaluate(htg_coil_binding)\n",
    "model.add_graph(htg_coil_graph)\n",
    "\n",
    "# connect htg coil to AHU\n",
    "model.graph.add((BLDG[ahu_name], BRICK.hasPart, BLDG[htg_coil_name]))\n",
    "\n",
    "# print model to confirm component was added and connected\n",
    "print(model.graph.serialize())\n",
    "```\n",
    "\n",
    "Finally, let's save the model to use in the next tutorial."
   ]
  },
  {
   "cell_type": "code",
   "execution_count": 10,
   "id": "073e7b18",
   "metadata": {},
   "outputs": [
    {
     "data": {
      "text/plain": [
       "<Graph identifier=b7e1b69f-be87-4d1d-bf65-9126e6308587 (<class 'rdflib.graph.Graph'>)>"
      ]
     },
     "execution_count": 10,
     "metadata": {},
     "output_type": "execute_result"
    }
   ],
   "source": [
    "#save model\n",
    "model.graph.serialize(destination=\"tutorial1_model.ttl\")"
   ]
  }
 ],
 "metadata": {
  "jupytext": {
   "cell_metadata_filter": "-all",
   "formats": "md:myst",
   "text_representation": {
    "extension": ".md",
    "format_name": "myst"
   }
  },
  "kernelspec": {
   "display_name": "Python 3",
   "language": "python",
   "name": "python3"
  },
  "language_info": {
   "codemirror_mode": {
    "name": "ipython",
    "version": 3
   },
   "file_extension": ".py",
   "mimetype": "text/x-python",
   "name": "python",
   "nbconvert_exporter": "python",
   "pygments_lexer": "ipython3",
   "version": "3.10.4"
  },
  "source_map": [
   12,
   38,
   41,
   50,
   59,
   63,
   65,
   80,
   89,
   104,
   115,
   119,
   121,
   139,
   146,
   157,
   160,
   164,
   195,
   223
  ]
 },
 "nbformat": 4,
 "nbformat_minor": 5
}